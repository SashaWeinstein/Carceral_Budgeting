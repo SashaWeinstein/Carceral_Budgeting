{
 "cells": [
  {
   "cell_type": "markdown",
   "metadata": {},
   "source": [
    "Final goal is to write a get_final_costs() method for winthrop"
   ]
  },
  {
   "cell_type": "code",
   "execution_count": 1,
   "metadata": {},
   "outputs": [],
   "source": [
    "%load_ext autoreload\n",
    "%autoreload 2"
   ]
  },
  {
   "cell_type": "code",
   "execution_count": 3,
   "metadata": {},
   "outputs": [],
   "source": [
    "import os\n",
    "import sys\n",
    "sys.path.insert(0, os.path.abspath(\"..\"))\n",
    "from Agency_Classes import ReverePD, WinthropPD"
   ]
  },
  {
   "cell_type": "code",
   "execution_count": 4,
   "metadata": {},
   "outputs": [
    {
     "name": "stdout",
     "output_type": "stream",
     "text": [
      "Revere Benefits are\n"
     ]
    },
    {
     "data": {
      "text/plain": [
       "2016   6401873.418\n",
       "2017   6569579.826\n",
       "2018   6923293.726\n",
       "2019   7895549.663\n",
       "dtype: object"
      ]
     },
     "metadata": {},
     "output_type": "display_data"
    }
   ],
   "source": [
    "revere = ReverePD()"
   ]
  },
  {
   "cell_type": "code",
   "execution_count": 5,
   "metadata": {},
   "outputs": [
    {
     "data": {
      "text/plain": [
       "2016   0.333\n",
       "2017   0.337\n",
       "2018   0.335\n",
       "2019   0.349\n",
       "dtype: object"
      ]
     },
     "execution_count": 5,
     "metadata": {},
     "output_type": "execute_result"
    }
   ],
   "source": [
    "revere.PD_fraction"
   ]
  },
  {
   "cell_type": "code",
   "execution_count": 7,
   "metadata": {},
   "outputs": [
    {
     "name": "stdout",
     "output_type": "stream",
     "text": [
      "\n"
     ]
    }
   ],
   "source": [
    "winthrop = WinthropPD(revere.PD_fraction)"
   ]
  },
  {
   "cell_type": "code",
   "execution_count": 9,
   "metadata": {},
   "outputs": [
    {
     "data": {
      "text/html": [
       "<div>\n",
       "<style scoped>\n",
       "    .dataframe tbody tr th:only-of-type {\n",
       "        vertical-align: middle;\n",
       "    }\n",
       "\n",
       "    .dataframe tbody tr th {\n",
       "        vertical-align: top;\n",
       "    }\n",
       "\n",
       "    .dataframe thead th {\n",
       "        text-align: right;\n",
       "    }\n",
       "</style>\n",
       "<table border=\"1\" class=\"dataframe\">\n",
       "  <thead>\n",
       "    <tr style=\"text-align: right;\">\n",
       "      <th></th>\n",
       "      <th>2016</th>\n",
       "      <th>2017</th>\n",
       "      <th>2018</th>\n",
       "      <th>2019</th>\n",
       "      <th>2020</th>\n",
       "      <th>2021</th>\n",
       "    </tr>\n",
       "  </thead>\n",
       "  <tbody>\n",
       "    <tr>\n",
       "      <th>Payroll Recommended</th>\n",
       "      <td>2736819.000</td>\n",
       "      <td>3131833.000</td>\n",
       "      <td>0.000</td>\n",
       "      <td>3260064.000</td>\n",
       "      <td>0.000</td>\n",
       "      <td>3424927.000</td>\n",
       "    </tr>\n",
       "    <tr>\n",
       "      <th>OT Recommended</th>\n",
       "      <td>283250.000</td>\n",
       "      <td>279824.000</td>\n",
       "      <td>0.000</td>\n",
       "      <td>290000.000</td>\n",
       "      <td>0.000</td>\n",
       "      <td>327000.000</td>\n",
       "    </tr>\n",
       "    <tr>\n",
       "      <th>Total Recommended</th>\n",
       "      <td>2920019.000</td>\n",
       "      <td>3409299.000</td>\n",
       "      <td>0.000</td>\n",
       "      <td>3507071.000</td>\n",
       "      <td>0.000</td>\n",
       "      <td>3676393.000</td>\n",
       "    </tr>\n",
       "    <tr>\n",
       "      <th>Payroll Budget</th>\n",
       "      <td>2768693.000</td>\n",
       "      <td>0.000</td>\n",
       "      <td>3225884.000</td>\n",
       "      <td>0.000</td>\n",
       "      <td>3396466.000</td>\n",
       "      <td>0.000</td>\n",
       "    </tr>\n",
       "    <tr>\n",
       "      <th>OT Budget</th>\n",
       "      <td>283250.000</td>\n",
       "      <td>0.000</td>\n",
       "      <td>290000.000</td>\n",
       "      <td>0.000</td>\n",
       "      <td>320000.000</td>\n",
       "      <td>0.000</td>\n",
       "    </tr>\n",
       "    <tr>\n",
       "      <th>Total Budget</th>\n",
       "      <td>2951893.000</td>\n",
       "      <td>0.000</td>\n",
       "      <td>3500840.000</td>\n",
       "      <td>0.000</td>\n",
       "      <td>3639987.000</td>\n",
       "      <td>0.000</td>\n",
       "    </tr>\n",
       "    <tr>\n",
       "      <th>Payroll Expenditures</th>\n",
       "      <td>2842909.000</td>\n",
       "      <td>2927191.000</td>\n",
       "      <td>3225884.000</td>\n",
       "      <td>3803402.000</td>\n",
       "      <td>0.000</td>\n",
       "      <td>0.000</td>\n",
       "    </tr>\n",
       "    <tr>\n",
       "      <th>OT Expenditures</th>\n",
       "      <td>248260.000</td>\n",
       "      <td>376497.000</td>\n",
       "      <td>0.000</td>\n",
       "      <td>319375.000</td>\n",
       "      <td>0.000</td>\n",
       "      <td>0.000</td>\n",
       "    </tr>\n",
       "    <tr>\n",
       "      <th>Total Expenditures</th>\n",
       "      <td>3037686.000</td>\n",
       "      <td>3191416.000</td>\n",
       "      <td>0.000</td>\n",
       "      <td>4036935.000</td>\n",
       "      <td>0.000</td>\n",
       "      <td>0.000</td>\n",
       "    </tr>\n",
       "  </tbody>\n",
       "</table>\n",
       "</div>"
      ],
      "text/plain": [
       "                            2016        2017        2018        2019  \\\n",
       "Payroll Recommended  2736819.000 3131833.000       0.000 3260064.000   \n",
       "OT Recommended        283250.000  279824.000       0.000  290000.000   \n",
       "Total Recommended    2920019.000 3409299.000       0.000 3507071.000   \n",
       "Payroll Budget       2768693.000       0.000 3225884.000       0.000   \n",
       "OT Budget             283250.000       0.000  290000.000       0.000   \n",
       "Total Budget         2951893.000       0.000 3500840.000       0.000   \n",
       "Payroll Expenditures 2842909.000 2927191.000 3225884.000 3803402.000   \n",
       "OT Expenditures       248260.000  376497.000       0.000  319375.000   \n",
       "Total Expenditures   3037686.000 3191416.000       0.000 4036935.000   \n",
       "\n",
       "                            2020        2021  \n",
       "Payroll Recommended        0.000 3424927.000  \n",
       "OT Recommended             0.000  327000.000  \n",
       "Total Recommended          0.000 3676393.000  \n",
       "Payroll Budget       3396466.000       0.000  \n",
       "OT Budget             320000.000       0.000  \n",
       "Total Budget         3639987.000       0.000  \n",
       "Payroll Expenditures       0.000       0.000  \n",
       "OT Expenditures            0.000       0.000  \n",
       "Total Expenditures         0.000       0.000  "
      ]
     },
     "execution_count": 9,
     "metadata": {},
     "output_type": "execute_result"
    }
   ],
   "source": [
    "winthrop.budget_summary"
   ]
  },
  {
   "cell_type": "code",
   "execution_count": 10,
   "metadata": {},
   "outputs": [
    {
     "data": {
      "text/plain": [
       "2016   912028.782\n",
       "2017   702707.081\n",
       "2018   745260.916\n",
       "2019   778578.451\n",
       "dtype: object"
      ]
     },
     "execution_count": 10,
     "metadata": {},
     "output_type": "execute_result"
    }
   ],
   "source": [
    "winthrop.pension"
   ]
  },
  {
   "cell_type": "code",
   "execution_count": 11,
   "metadata": {},
   "outputs": [
    {
     "data": {
      "text/plain": [
       "2016    794997.427\n",
       "2017   1188270.591\n",
       "2018   1108502.513\n",
       "2019   1160070.335\n",
       "dtype: object"
      ]
     },
     "execution_count": 11,
     "metadata": {},
     "output_type": "execute_result"
    }
   ],
   "source": [
    "winthrop.benefits"
   ]
  },
  {
   "cell_type": "code",
   "execution_count": 16,
   "metadata": {},
   "outputs": [],
   "source": [
    "final = winthrop.budget_summary.loc[\"Total Expenditures\", list(range(2016,2020))]\n",
    "final.loc[2018] = winthrop.budget_summary.loc[\"Total Budget\", 2018]"
   ]
  },
  {
   "cell_type": "code",
   "execution_count": 20,
   "metadata": {},
   "outputs": [
    {
     "data": {
      "text/plain": [
       "2016   4744712.210\n",
       "2017   5082393.671\n",
       "2018   5354603.430\n",
       "2019   5975583.786\n",
       "dtype: object"
      ]
     },
     "execution_count": 20,
     "metadata": {},
     "output_type": "execute_result"
    }
   ],
   "source": [
    "final + winthrop.benefits +winthrop.pension"
   ]
  },
  {
   "cell_type": "code",
   "execution_count": 22,
   "metadata": {},
   "outputs": [
    {
     "data": {
      "text/plain": [
       "2016   1912028.782\n",
       "2017   1702707.081\n",
       "2018   1745260.916\n",
       "2019   1778578.451\n",
       "dtype: object"
      ]
     },
     "execution_count": 22,
     "metadata": {},
     "output_type": "execute_result"
    }
   ],
   "source": []
  },
  {
   "cell_type": "code",
   "execution_count": null,
   "metadata": {},
   "outputs": [],
   "source": []
  }
 ],
 "metadata": {
  "kernelspec": {
   "display_name": "Python 3",
   "language": "python",
   "name": "python3"
  },
  "language_info": {
   "codemirror_mode": {
    "name": "ipython",
    "version": 3
   },
   "file_extension": ".py",
   "mimetype": "text/x-python",
   "name": "python",
   "nbconvert_exporter": "python",
   "pygments_lexer": "ipython3",
   "version": "3.7.6"
  }
 },
 "nbformat": 4,
 "nbformat_minor": 4
}
