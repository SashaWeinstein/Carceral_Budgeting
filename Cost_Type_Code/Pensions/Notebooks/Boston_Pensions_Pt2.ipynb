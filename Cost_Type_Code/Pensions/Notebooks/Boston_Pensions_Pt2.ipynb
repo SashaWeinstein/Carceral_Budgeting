{
 "cells": [
  {
   "cell_type": "markdown",
   "metadata": {},
   "source": [
    "# Boston Pension Hunt Part 2\n",
    "In Boston Pension Hunt part 1 I looked at employee earning reports from https://data.boston.gov/dataset/employee-earnings-report\n",
    "\n",
    "In part two I will look at checkbook explorer https://data.boston.gov/dataset/checkbook-explorer"
   ]
  },
  {
   "cell_type": "code",
   "execution_count": 1,
   "metadata": {},
   "outputs": [],
   "source": [
    "%load_ext autoreload\n",
    "%autoreload 2"
   ]
  },
  {
   "cell_type": "code",
   "execution_count": 6,
   "metadata": {},
   "outputs": [],
   "source": [
    "import pandas as pd\n",
    "import requests\n",
    "pd.set_option('display.float_format', lambda x: '%.3f' % x)"
   ]
  },
  {
   "cell_type": "code",
   "execution_count": 8,
   "metadata": {},
   "outputs": [
    {
     "data": {
      "text/plain": [
       "200"
      ]
     },
     "execution_count": 8,
     "metadata": {},
     "output_type": "execute_result"
    }
   ],
   "source": [
    "url = 'https://data.boston.gov/api/3/action/datastore_search?resource_id=c093700f-d78a-49de-a8fe-508ba834ff6f&limit=999999'  \n",
    "request_obj = requests.get(url)\n",
    "request_obj.status_code"
   ]
  },
  {
   "cell_type": "code",
   "execution_count": 10,
   "metadata": {},
   "outputs": [],
   "source": [
    "checkbook= pd.DataFrame(request_obj[\"results\"])"
   ]
  },
  {
   "cell_type": "code",
   "execution_count": 11,
   "metadata": {},
   "outputs": [
    {
     "data": {
      "text/html": [
       "<div>\n",
       "<style scoped>\n",
       "    .dataframe tbody tr th:only-of-type {\n",
       "        vertical-align: middle;\n",
       "    }\n",
       "\n",
       "    .dataframe tbody tr th {\n",
       "        vertical-align: top;\n",
       "    }\n",
       "\n",
       "    .dataframe thead th {\n",
       "        text-align: right;\n",
       "    }\n",
       "</style>\n",
       "<table border=\"1\" class=\"dataframe\">\n",
       "  <thead>\n",
       "    <tr style=\"text-align: right;\">\n",
       "      <th></th>\n",
       "      <th>help</th>\n",
       "      <th>success</th>\n",
       "      <th>result</th>\n",
       "    </tr>\n",
       "  </thead>\n",
       "  <tbody>\n",
       "    <tr>\n",
       "      <th>_links</th>\n",
       "      <td>https://data.boston.gov/api/3/action/help_show...</td>\n",
       "      <td>True</td>\n",
       "      <td>{'start': '/api/3/action/datastore_search?limi...</td>\n",
       "    </tr>\n",
       "    <tr>\n",
       "      <th>fields</th>\n",
       "      <td>https://data.boston.gov/api/3/action/help_show...</td>\n",
       "      <td>True</td>\n",
       "      <td>[{'type': 'int', 'id': '_id'}, {'type': 'text'...</td>\n",
       "    </tr>\n",
       "    <tr>\n",
       "      <th>include_total</th>\n",
       "      <td>https://data.boston.gov/api/3/action/help_show...</td>\n",
       "      <td>True</td>\n",
       "      <td>True</td>\n",
       "    </tr>\n",
       "    <tr>\n",
       "      <th>limit</th>\n",
       "      <td>https://data.boston.gov/api/3/action/help_show...</td>\n",
       "      <td>True</td>\n",
       "      <td>32000</td>\n",
       "    </tr>\n",
       "    <tr>\n",
       "      <th>records</th>\n",
       "      <td>https://data.boston.gov/api/3/action/help_show...</td>\n",
       "      <td>True</td>\n",
       "      <td>[{'Account': '52926', 'Vendor_Name': 'W &amp; W Co...</td>\n",
       "    </tr>\n",
       "    <tr>\n",
       "      <th>records_format</th>\n",
       "      <td>https://data.boston.gov/api/3/action/help_show...</td>\n",
       "      <td>True</td>\n",
       "      <td>objects</td>\n",
       "    </tr>\n",
       "    <tr>\n",
       "      <th>resource_id</th>\n",
       "      <td>https://data.boston.gov/api/3/action/help_show...</td>\n",
       "      <td>True</td>\n",
       "      <td>c093700f-d78a-49de-a8fe-508ba834ff6f</td>\n",
       "    </tr>\n",
       "    <tr>\n",
       "      <th>total</th>\n",
       "      <td>https://data.boston.gov/api/3/action/help_show...</td>\n",
       "      <td>True</td>\n",
       "      <td>112315</td>\n",
       "    </tr>\n",
       "  </tbody>\n",
       "</table>\n",
       "</div>"
      ],
      "text/plain": [
       "                                                             help  success  \\\n",
       "_links          https://data.boston.gov/api/3/action/help_show...     True   \n",
       "fields          https://data.boston.gov/api/3/action/help_show...     True   \n",
       "include_total   https://data.boston.gov/api/3/action/help_show...     True   \n",
       "limit           https://data.boston.gov/api/3/action/help_show...     True   \n",
       "records         https://data.boston.gov/api/3/action/help_show...     True   \n",
       "records_format  https://data.boston.gov/api/3/action/help_show...     True   \n",
       "resource_id     https://data.boston.gov/api/3/action/help_show...     True   \n",
       "total           https://data.boston.gov/api/3/action/help_show...     True   \n",
       "\n",
       "                                                           result  \n",
       "_links          {'start': '/api/3/action/datastore_search?limi...  \n",
       "fields          [{'type': 'int', 'id': '_id'}, {'type': 'text'...  \n",
       "include_total                                                True  \n",
       "limit                                                       32000  \n",
       "records         [{'Account': '52926', 'Vendor_Name': 'W & W Co...  \n",
       "records_format                                            objects  \n",
       "resource_id                  c093700f-d78a-49de-a8fe-508ba834ff6f  \n",
       "total                                                      112315  "
      ]
     },
     "execution_count": 11,
     "metadata": {},
     "output_type": "execute_result"
    }
   ],
   "source": [
    "checkbook"
   ]
  },
  {
   "cell_type": "code",
   "execution_count": null,
   "metadata": {},
   "outputs": [],
   "source": []
  }
 ],
 "metadata": {
  "kernelspec": {
   "display_name": "Python 3",
   "language": "python",
   "name": "python3"
  },
  "language_info": {
   "codemirror_mode": {
    "name": "ipython",
    "version": 3
   },
   "file_extension": ".py",
   "mimetype": "text/x-python",
   "name": "python",
   "nbconvert_exporter": "python",
   "pygments_lexer": "ipython3",
   "version": "3.7.6"
  }
 },
 "nbformat": 4,
 "nbformat_minor": 4
}
