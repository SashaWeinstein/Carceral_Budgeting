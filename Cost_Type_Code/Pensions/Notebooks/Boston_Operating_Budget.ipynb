{
 "cells": [
  {
   "cell_type": "markdown",
   "metadata": {},
   "source": [
    "Triple check that there is no info on fringe benefits or pensions in the FY21 opearting budget in from https://data.boston.gov/"
   ]
  },
  {
   "cell_type": "code",
   "execution_count": 3,
   "metadata": {},
   "outputs": [],
   "source": [
    "import pandas as pd\n",
    "df = pd.read_csv(\"/Users/alexanderweinstein/Documents/Harris/Summer2020/Carceral_Budgeting/Exploratory/data/\"\n",
    "                \"Boston_Operating_Budget_FY21.csv\")"
   ]
  },
  {
   "cell_type": "code",
   "execution_count": 6,
   "metadata": {},
   "outputs": [
    {
     "data": {
      "text/html": [
       "<div>\n",
       "<style scoped>\n",
       "    .dataframe tbody tr th:only-of-type {\n",
       "        vertical-align: middle;\n",
       "    }\n",
       "\n",
       "    .dataframe tbody tr th {\n",
       "        vertical-align: top;\n",
       "    }\n",
       "\n",
       "    .dataframe thead th {\n",
       "        text-align: right;\n",
       "    }\n",
       "</style>\n",
       "<table border=\"1\" class=\"dataframe\">\n",
       "  <thead>\n",
       "    <tr style=\"text-align: right;\">\n",
       "      <th></th>\n",
       "      <th>Cabinet</th>\n",
       "      <th>Dept</th>\n",
       "      <th>Program</th>\n",
       "      <th>Expense Category</th>\n",
       "      <th>FY18 Actual</th>\n",
       "      <th>FY19 Actual</th>\n",
       "      <th>20 Budget</th>\n",
       "      <th>21 Budget</th>\n",
       "    </tr>\n",
       "  </thead>\n",
       "  <tbody>\n",
       "    <tr>\n",
       "      <th>0</th>\n",
       "      <td>Mayors Cabinet</td>\n",
       "      <td>Mayor's Office</td>\n",
       "      <td>Mayor's Administration</td>\n",
       "      <td>Personnel Services</td>\n",
       "      <td>1,185,284.89</td>\n",
       "      <td>1,400,773.47</td>\n",
       "      <td>1,529,110.68</td>\n",
       "      <td>1,832,817.42</td>\n",
       "    </tr>\n",
       "    <tr>\n",
       "      <th>1</th>\n",
       "      <td>Mayors Cabinet</td>\n",
       "      <td>Mayor's Office</td>\n",
       "      <td>Mayor's Administration</td>\n",
       "      <td>Contractual Services</td>\n",
       "      <td>179,040.67</td>\n",
       "      <td>85,768.50</td>\n",
       "      <td>83,334.00</td>\n",
       "      <td>74,334.00</td>\n",
       "    </tr>\n",
       "    <tr>\n",
       "      <th>2</th>\n",
       "      <td>Mayors Cabinet</td>\n",
       "      <td>Mayor's Office</td>\n",
       "      <td>Mayor's Administration</td>\n",
       "      <td>Supplies &amp; Materials</td>\n",
       "      <td>53,822.25</td>\n",
       "      <td>37,538.88</td>\n",
       "      <td>37,183.00</td>\n",
       "      <td>37,183.00</td>\n",
       "    </tr>\n",
       "    <tr>\n",
       "      <th>3</th>\n",
       "      <td>Mayors Cabinet</td>\n",
       "      <td>Mayor's Office</td>\n",
       "      <td>Mayor's Administration</td>\n",
       "      <td>Current Charges &amp; Obligations</td>\n",
       "      <td>7,542.67</td>\n",
       "      <td>8,801.32</td>\n",
       "      <td>7,213.00</td>\n",
       "      <td>7,213.00</td>\n",
       "    </tr>\n",
       "    <tr>\n",
       "      <th>4</th>\n",
       "      <td>Mayors Cabinet</td>\n",
       "      <td>Mayor's Office</td>\n",
       "      <td>Mayor's Administration</td>\n",
       "      <td>Equipment</td>\n",
       "      <td>17,708.83</td>\n",
       "      <td>17,272.60</td>\n",
       "      <td>25,000.00</td>\n",
       "      <td>25,000.00</td>\n",
       "    </tr>\n",
       "  </tbody>\n",
       "</table>\n",
       "</div>"
      ],
      "text/plain": [
       "          Cabinet            Dept                 Program  \\\n",
       "0  Mayors Cabinet  Mayor's Office  Mayor's Administration   \n",
       "1  Mayors Cabinet  Mayor's Office  Mayor's Administration   \n",
       "2  Mayors Cabinet  Mayor's Office  Mayor's Administration   \n",
       "3  Mayors Cabinet  Mayor's Office  Mayor's Administration   \n",
       "4  Mayors Cabinet  Mayor's Office  Mayor's Administration   \n",
       "\n",
       "                Expense Category     FY18 Actual   FY19 Actual    \\\n",
       "0             Personnel Services   1,185,284.89    1,400,773.47    \n",
       "1           Contractual Services     179,040.67       85,768.50    \n",
       "2           Supplies & Materials      53,822.25       37,538.88    \n",
       "3  Current Charges & Obligations       7,542.67        8,801.32    \n",
       "4                      Equipment      17,708.83       17,272.60    \n",
       "\n",
       "      20 Budget         21 Budget  \n",
       "0   1,529,110.68    1,832,817.42   \n",
       "1      83,334.00       74,334.00   \n",
       "2      37,183.00       37,183.00   \n",
       "3       7,213.00        7,213.00   \n",
       "4      25,000.00       25,000.00   "
      ]
     },
     "execution_count": 6,
     "metadata": {},
     "output_type": "execute_result"
    }
   ],
   "source": [
    "df.head(5)"
   ]
  },
  {
   "cell_type": "code",
   "execution_count": 5,
   "metadata": {},
   "outputs": [
    {
     "data": {
      "text/plain": [
       "Expense Category\n",
       "Contractual Services             303\n",
       "Current Charges & Obligations    159\n",
       "Equipment                        217\n",
       "Other Expenses                    32\n",
       "Personnel Services               318\n",
       "Supplies & Materials             295\n",
       "dtype: int64"
      ]
     },
     "execution_count": 5,
     "metadata": {},
     "output_type": "execute_result"
    }
   ],
   "source": [
    "df.groupby(\"Expense Category\").size()"
   ]
  },
  {
   "cell_type": "code",
   "execution_count": null,
   "metadata": {},
   "outputs": [],
   "source": []
  }
 ],
 "metadata": {
  "kernelspec": {
   "display_name": "Python 3",
   "language": "python",
   "name": "python3"
  },
  "language_info": {
   "codemirror_mode": {
    "name": "ipython",
    "version": 3
   },
   "file_extension": ".py",
   "mimetype": "text/x-python",
   "name": "python",
   "nbconvert_exporter": "python",
   "pygments_lexer": "ipython3",
   "version": "3.7.6"
  }
 },
 "nbformat": 4,
 "nbformat_minor": 4
}
