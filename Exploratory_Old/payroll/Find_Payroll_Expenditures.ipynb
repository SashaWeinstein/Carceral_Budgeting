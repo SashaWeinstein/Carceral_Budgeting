{
 "cells": [
  {
   "cell_type": "markdown",
   "metadata": {},
   "source": [
    "This notebook is to figure out which object code goes with salaries, it seems to be object codes that start with A"
   ]
  },
  {
   "cell_type": "code",
   "execution_count": 2,
   "metadata": {},
   "outputs": [
    {
     "name": "stderr",
     "output_type": "stream",
     "text": [
      "/opt/anaconda3/lib/python3.7/site-packages/pandas/core/frame.py:4133: SettingWithCopyWarning: \n",
      "A value is trying to be set on a copy of a slice from a DataFrame\n",
      "\n",
      "See the caveats in the documentation: https://pandas.pydata.org/pandas-docs/stable/user_guide/indexing.html#returning-a-view-versus-a-copy\n",
      "  errors=errors,\n",
      "/opt/anaconda3/lib/python3.7/site-packages/pandas/core/generic.py:6245: SettingWithCopyWarning: \n",
      "A value is trying to be set on a copy of a slice from a DataFrame\n",
      "\n",
      "See the caveats in the documentation: https://pandas.pydata.org/pandas-docs/stable/user_guide/indexing.html#returning-a-view-versus-a-copy\n",
      "  self._update_inplace(new_data)\n",
      "/Users/alexanderweinstein/Documents/Harris/Summer2020/Carceral_Budgeting/Exploratory/pensions/State_Pensions_2Ver.py:133: SettingWithCopyWarning: \n",
      "A value is trying to be set on a copy of a slice from a DataFrame.\n",
      "Try using .loc[row_indexer,col_indexer] = value instead\n",
      "\n",
      "See the caveats in the documentation: https://pandas.pydata.org/pandas-docs/stable/user_guide/indexing.html#returning-a-view-versus-a-copy\n",
      "  cthru_pensions[\"year\"] = cthru_pensions[\"year\"].astype(int)\n"
     ]
    },
    {
     "name": "stdout",
     "output_type": "stream",
     "text": [
      "Note: corrections for Supreme Judicial Court, Appeals Court not finished yet. Currently using trial court correction\n"
     ]
    },
    {
     "name": "stderr",
     "output_type": "stream",
     "text": [
      "/Users/alexanderweinstein/Documents/Harris/Summer2020/Carceral_Budgeting/Exploratory/Initialize_Agencies_2Ver.py:5: DtypeWarning: Columns (16) have mixed types.Specify dtype option on import or set low_memory=False.\n",
      "  from Agency_Classes import StateAgency, MBTA, BostonPD, ChelseaPD, ReverePD, WinthropPD\n"
     ]
    }
   ],
   "source": [
    "import pandas as pd\n",
    "from sodapy import Socrata\n",
    "import os\n",
    "import sys\n",
    "\n",
    "sys.path.insert(0, os.path.abspath('../'))\n",
    "sys.path.insert(0, os.path.abspath('../..'))\n",
    "sys.path.insert(0, os.path.abspath('../../pensions'))\n",
    "from Initialize_Agencies_2Ver import get_agencies\n",
    "\n"
   ]
  },
  {
   "cell_type": "code",
   "execution_count": 4,
   "metadata": {},
   "outputs": [
    {
     "name": "stdout",
     "output_type": "stream",
     "text": [
      "\n"
     ]
    }
   ],
   "source": [
    "agencies= get_agencies(list(range(2016,2020)))"
   ]
  },
  {
   "cell_type": "code",
   "execution_count": 6,
   "metadata": {},
   "outputs": [],
   "source": [
    "trial_court = agencies[\"trial_court\"]\n",
    "trial_court.expenditures"
   ]
  },
  {
   "cell_type": "code",
   "execution_count": 8,
   "metadata": {},
   "outputs": [
    {
     "name": "stderr",
     "output_type": "stream",
     "text": [
      "/opt/anaconda3/lib/python3.7/site-packages/ipykernel_launcher.py:1: DtypeWarning: Columns (16) have mixed types.Specify dtype option on import or set low_memory=False.\n",
      "  \"\"\"Entry point for launching an IPython kernel.\n"
     ]
    }
   ],
   "source": [
    "trial_court.get_expenditures_by_year()"
   ]
  },
  {
   "cell_type": "code",
   "execution_count": 19,
   "metadata": {
    "scrolled": false
   },
   "outputs": [
    {
     "data": {
      "text/plain": [
       "object_code\n",
       "(A01) SALARIES: INCLUSIVE                                       2500506917.450\n",
       "(A13) VACATION-IN-LIEU                                            19240302.820\n",
       "(A12) SICK-LEAVE BUY BACK                                          9149754.300\n",
       "(A08) OVERTIME PAY                                                 7043881.950\n",
       "(A14) STIPENDS, BONUS PAY & AWARDS                                 5276737.370\n",
       "(AA1) SALARIES: SUPPLEMENTAL                                       1916697.620\n",
       "(A07) SHIFT DIFFERENTIAL PAY                                       1474812.740\n",
       "(A11) EMPLOYMENT RELATED SETTLEMENTS & JUDGMENTS                    357275.230\n",
       "(A21) PAYMENTS FOR DECEASED EMPLOYEES                               199332.890\n",
       "(A09) ROLL CALL PAY                                                     44.600\n",
       "(A10) HOLIDAY PAY                                                       44.240\n",
       "(A16) PROFESSIONAL DEVELOPMENT FOR HIGHER EDUCATION PERSONNEL            4.510\n",
       "Name: amount, dtype: float64"
      ]
     },
     "execution_count": 19,
     "metadata": {},
     "output_type": "execute_result"
    }
   ],
   "source": [
    "pd.set_option(\"display.max.rows\",1000)\n",
    "\n",
    "trial_court.expenditures[trial_court.expenditures[\"object_code\"].str.contains(\"\\(A\")]\\\n",
    ".groupby(\"object_code\").sum()[\"amount\"].sort_values(ascending=False)"
   ]
  },
  {
   "cell_type": "code",
   "execution_count": 18,
   "metadata": {},
   "outputs": [
    {
     "data": {
      "text/plain": [
       "0         False\n",
       "1         False\n",
       "2         False\n",
       "3         False\n",
       "4         False\n",
       "          ...  \n",
       "265916     True\n",
       "265917     True\n",
       "265918     True\n",
       "265919     True\n",
       "265920     True\n",
       "Name: object_code, Length: 262672, dtype: bool"
      ]
     },
     "execution_count": 18,
     "metadata": {},
     "output_type": "execute_result"
    }
   ],
   "source": [
    "trial_court.expenditures[\"object_code\"].str.contains(\"\\(A\")"
   ]
  },
  {
   "cell_type": "code",
   "execution_count": 20,
   "metadata": {},
   "outputs": [
    {
     "name": "stderr",
     "output_type": "stream",
     "text": [
      "/opt/anaconda3/lib/python3.7/site-packages/ipykernel_launcher.py:2: DtypeWarning: Columns (15,16) have mixed types.Specify dtype option on import or set low_memory=False.\n",
      "  \n"
     ]
    }
   ],
   "source": [
    "DOC = agencies[\"DOC\"]\n",
    "DOC.get_expenditures_by_year()"
   ]
  },
  {
   "cell_type": "code",
   "execution_count": 26,
   "metadata": {
    "scrolled": false
   },
   "outputs": [
    {
     "data": {
      "text/plain": [
       "object_code\n",
       "(A01) SALARIES: INCLUSIVE                          1784503312.150\n",
       "(A08) OVERTIME PAY                                  199596236.360\n",
       "(AA1) SALARIES: SUPPLEMENTAL                         56720968.460\n",
       "(A10) HOLIDAY PAY                                    34749260.460\n",
       "(A07) SHIFT DIFFERENTIAL PAY                         26459021.830\n",
       "(A13) VACATION-IN-LIEU                               13135007.310\n",
       "(A12) SICK-LEAVE BUY BACK                             5111952.640\n",
       "(A06) STAND-BY PAY                                    3003886.480\n",
       "(A14) STIPENDS, BONUS PAY & AWARDS                    2393140.190\n",
       "(A21) PAYMENTS FOR DECEASED EMPLOYEES                  167258.940\n",
       "(A11) EMPLOYMENT RELATED SETTLEMENTS & JUDGMENTS            0.000\n",
       "Name: amount, dtype: float64"
      ]
     },
     "execution_count": 26,
     "metadata": {},
     "output_type": "execute_result"
    }
   ],
   "source": [
    "DOC.expenditures[DOC.expenditures[\"object_code\"].str.get(1) == \"A\"].groupby(\"object_code\").sum()[\"amount\"].sort_values(ascending=False)"
   ]
  },
  {
   "cell_type": "code",
   "execution_count": null,
   "metadata": {},
   "outputs": [],
   "source": []
  }
 ],
 "metadata": {
  "kernelspec": {
   "display_name": "Python 3",
   "language": "python",
   "name": "python3"
  },
  "language_info": {
   "codemirror_mode": {
    "name": "ipython",
    "version": 3
   },
   "file_extension": ".py",
   "mimetype": "text/x-python",
   "name": "python",
   "nbconvert_exporter": "python",
   "pygments_lexer": "ipython3",
   "version": "3.7.6"
  }
 },
 "nbformat": 4,
 "nbformat_minor": 4
}
