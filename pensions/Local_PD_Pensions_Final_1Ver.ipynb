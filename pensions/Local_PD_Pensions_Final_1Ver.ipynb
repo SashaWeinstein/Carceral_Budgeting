{
 "cells": [
  {
   "cell_type": "markdown",
   "metadata": {},
   "source": [
    "# Local PD Versions Final Part One\n",
    "The previous thing I did was a get a calculation of the amount of state retirement benefits paid out to carceral agencies in Suffolk. For that part of the project I had the advantage of the cthru dataset on retirement benefits, which breaks down how much money out of the total payouts goes to the agencies we are interested in.\n",
    "At the local level I haven't been able to find a dataset that breaks down retirement payouts by employee that can be grouped by department. So instead I will use the % of total payroll that goes to police for each municipality. So for each municipality for each year I need to find:\n",
    "1. Total state contributions to pension fund\n",
    "2. Total payroll\n",
    "I already have the last piece, which is payroll expenditures to cops, which I will load in as pandas dataframe\n",
    "\n",
    "To complement this anaylsis I should also look at what Boston say it actually pays cops and how it compares to the payroll numbers in the budgets. "
   ]
  },
  {
   "cell_type": "code",
   "execution_count": 1,
   "metadata": {},
   "outputs": [],
   "source": [
    "%load_ext autoreload\n",
    "%autoreload 2"
   ]
  },
  {
   "cell_type": "code",
   "execution_count": 2,
   "metadata": {},
   "outputs": [],
   "source": [
    "import pandas as pd"
   ]
  },
  {
   "cell_type": "code",
   "execution_count": 3,
   "metadata": {},
   "outputs": [],
   "source": [
    "from_budget = pd.read_csv(\"../results/boston_budget_pdfs/Jul2.csv\")"
   ]
  },
  {
   "cell_type": "markdown",
   "metadata": {},
   "source": [
    "Get Boston's contributions to it's pension fund for 2017, 2018 from \n",
    "https://www.boston.gov/sites/default/files/embed/file/2019-08/boston_retirement_system_fs18_final_secured_0.pdf on page 7"
   ]
  },
  {
   "cell_type": "code",
   "execution_count": null,
   "metadata": {},
   "outputs": [],
   "source": []
  }
 ],
 "metadata": {
  "kernelspec": {
   "display_name": "Python 3",
   "language": "python",
   "name": "python3"
  },
  "language_info": {
   "codemirror_mode": {
    "name": "ipython",
    "version": 3
   },
   "file_extension": ".py",
   "mimetype": "text/x-python",
   "name": "python",
   "nbconvert_exporter": "python",
   "pygments_lexer": "ipython3",
   "version": "3.7.6"
  }
 },
 "nbformat": 4,
 "nbformat_minor": 4
}
