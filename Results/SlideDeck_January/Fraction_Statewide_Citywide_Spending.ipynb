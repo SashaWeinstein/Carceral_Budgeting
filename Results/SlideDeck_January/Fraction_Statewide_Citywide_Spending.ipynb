{
 "cells": [
  {
   "cell_type": "markdown",
   "metadata": {},
   "source": [
    "# Fraction of Statewide/Citywide Spending\n",
    "This notebook is to provide statistic we give on total fraction of state/local spending committed to incarceration. Current version only has statewide, Boston "
   ]
  },
  {
   "cell_type": "code",
   "execution_count": 10,
   "metadata": {},
   "outputs": [
    {
     "name": "stdout",
     "output_type": "stream",
     "text": [
      "The autoreload extension is already loaded. To reload it, use:\n",
      "  %reload_ext autoreload\n"
     ]
    }
   ],
   "source": [
    "%load_ext autoreload\n",
    "%autoreload 2"
   ]
  },
  {
   "cell_type": "code",
   "execution_count": 11,
   "metadata": {},
   "outputs": [],
   "source": [
    "import pandas as pd\n",
    "import sys\n",
    "sys.path.insert(0, \"../../Misc_Analyses/Fraction_Total_Costs\")\n",
    "from Total_Costs_Fraction import get_Total_Fraction, get_Municipal_Fraction"
   ]
  },
  {
   "cell_type": "code",
   "execution_count": 12,
   "metadata": {},
   "outputs": [
    {
     "data": {
      "text/plain": [
       "Hidden\n",
       "Stated    0.086340\n",
       "Hidden    0.043224\n",
       "Total     0.129565\n",
       "dtype: float64"
      ]
     },
     "metadata": {},
     "output_type": "display_data"
    },
    {
     "name": "stdout",
     "output_type": "stream",
     "text": [
      "2016    7.608539e+09\n",
      "2017    7.852573e+09\n",
      "2018    8.280351e+09\n",
      "2019    8.689702e+09\n",
      "dtype: float64\n"
     ]
    }
   ],
   "source": [
    "big_fraction, big_denominator = get_Total_Fraction()\n",
    "big_fraction.to_csv(\"Fraction_of_Total_Costs.csv\")\n",
    "display(big_fraction)\n",
    "print(big_denominator)"
   ]
  },
  {
   "cell_type": "code",
   "execution_count": 8,
   "metadata": {},
   "outputs": [
    {
     "name": "stdout",
     "output_type": "stream",
     "text": [
      "611887574.6947906\n"
     ]
    },
    {
     "data": {
      "text/plain": [
       "3506803943.25"
      ]
     },
     "execution_count": 8,
     "metadata": {},
     "output_type": "execute_result"
    }
   ],
   "source": [
    "municipal_fraction, municipal_denominator = get_Municipal_Fraction()\n",
    "municipal_fraction.to_csv(\"Fraction_of_Municipal_Costs.csv\")\n",
    "municipal_denominator"
   ]
  },
  {
   "cell_type": "code",
   "execution_count": 9,
   "metadata": {},
   "outputs": [
    {
     "data": {
      "text/plain": [
       "0.17142857142857143"
      ]
     },
     "execution_count": 9,
     "metadata": {},
     "output_type": "execute_result"
    }
   ],
   "source": []
  },
  {
   "cell_type": "markdown",
   "metadata": {},
   "source": [
    "Test code by getting fraction for each municipality"
   ]
  }
 ],
 "metadata": {
  "kernelspec": {
   "display_name": "Python 3",
   "language": "python",
   "name": "python3"
  },
  "language_info": {
   "codemirror_mode": {
    "name": "ipython",
    "version": 3
   },
   "file_extension": ".py",
   "mimetype": "text/x-python",
   "name": "python",
   "nbconvert_exporter": "python",
   "pygments_lexer": "ipython3",
   "version": "3.7.6"
  }
 },
 "nbformat": 4,
 "nbformat_minor": 4
}
