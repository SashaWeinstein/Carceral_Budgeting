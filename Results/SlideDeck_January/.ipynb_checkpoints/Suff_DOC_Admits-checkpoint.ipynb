{
 "cells": [
  {
   "cell_type": "markdown",
   "metadata": {},
   "source": [
    "# How many Suffolk County Admits to DOC Custody per Year?\n",
    "Want this number for slide deck"
   ]
  },
  {
   "cell_type": "code",
   "execution_count": 1,
   "metadata": {},
   "outputs": [],
   "source": [
    "import sys\n",
    "import pandas as pd\n",
    "sys.path.insert(0, \"../../Misc_Analyses\")\n",
    "from Count_Suff_Admits import get_Num_Suff_Incarcerated"
   ]
  },
  {
   "cell_type": "code",
   "execution_count": 6,
   "metadata": {},
   "outputs": [
    {
     "name": "stdout",
     "output_type": "stream",
     "text": [
      "correction code says  2016    10218.0\n",
      "2017     9595.0\n",
      "2018     9264.0\n",
      "2019     8873.5\n",
      "dtype: float64  people incarcerated on criminal charges\n",
      "correction code says fraction of thse folks on suffolk county charges: 2016    0.167558\n",
      "2017    0.157126\n",
      "2018    0.182854\n",
      "2019    0.191661\n",
      "dtype: float64\n"
     ]
    }
   ],
   "source": [
    "suff_incarcerated = get_Num_Suff_Incarcerated()\n",
    "suff_incarcerated = suff_incarcerated"
   ]
  },
  {
   "cell_type": "code",
   "execution_count": 7,
   "metadata": {},
   "outputs": [
    {
     "data": {
      "text/plain": [
       "1653.5993805879752"
      ]
     },
     "execution_count": 7,
     "metadata": {},
     "output_type": "execute_result"
    }
   ],
   "source": [
    "suff_incarcerated.mean()"
   ]
  },
  {
   "cell_type": "code",
   "execution_count": 4,
   "metadata": {},
   "outputs": [],
   "source": [
    "category_costs = pd.read_csv(\"../../Final_Results/Final_by_Category.csv\")\\\n",
    "    .set_index(\"Category\")\n",
    "category_costs = category_costs.rename(columns= {x:int(x) for x in category_costs.columns})"
   ]
  },
  {
   "cell_type": "code",
   "execution_count": 5,
   "metadata": {},
   "outputs": [
    {
     "data": {
      "text/plain": [
       "167023.2228924214"
      ]
     },
     "execution_count": 5,
     "metadata": {},
     "output_type": "execute_result"
    }
   ],
   "source": [
    "(category_costs.loc[\"Jails\"]/suff_incarcerated).mean()"
   ]
  },
  {
   "cell_type": "code",
   "execution_count": null,
   "metadata": {},
   "outputs": [],
   "source": []
  }
 ],
 "metadata": {
  "kernelspec": {
   "display_name": "Python 3",
   "language": "python",
   "name": "python3"
  },
  "language_info": {
   "codemirror_mode": {
    "name": "ipython",
    "version": 3
   },
   "file_extension": ".py",
   "mimetype": "text/x-python",
   "name": "python",
   "nbconvert_exporter": "python",
   "pygments_lexer": "ipython3",
   "version": "3.7.6"
  }
 },
 "nbformat": 4,
 "nbformat_minor": 4
}
