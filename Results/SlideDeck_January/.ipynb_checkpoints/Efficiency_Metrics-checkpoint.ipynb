{
 "cells": [
  {
   "cell_type": "markdown",
   "metadata": {},
   "source": [
    "# Effect of Hidden Costs for Slidedeck\n",
    "Want fractional increase of adding hidden costs for BPD, two categories, and yearly costs overall\n"
   ]
  },
  {
   "cell_type": "code",
   "execution_count": 91,
   "metadata": {},
   "outputs": [
    {
     "name": "stdout",
     "output_type": "stream",
     "text": [
      "The autoreload extension is already loaded. To reload it, use:\n",
      "  %reload_ext autoreload\n"
     ]
    }
   ],
   "source": [
    "%load_ext autoreload\n",
    "%autoreload 2"
   ]
  },
  {
   "cell_type": "code",
   "execution_count": 92,
   "metadata": {},
   "outputs": [],
   "source": [
    "import pandas as pd\n",
    "import sys\n",
    "sys.path.insert(0, \"../../Misc_Analyses\")\n",
    "from Effect_of_Hidden_Costs import avg_fractional_increase, yearly_fractional_increase_overall\n",
    "yr = list(range(2016,2020))"
   ]
  },
  {
   "cell_type": "markdown",
   "metadata": {},
   "source": [
    "## Get BPD Fractional Change"
   ]
  },
  {
   "cell_type": "code",
   "execution_count": 123,
   "metadata": {},
   "outputs": [],
   "source": [
    "BPD_fractional_increase, BPD_fraction_hidden, BPD_gb = avg_fractional_increase(\"Final_by_Agency_Type_splitHidden.csv\",\n",
    "                                                 \"Agency == 'Boston PD'\", [2019])"
   ]
  },
  {
   "cell_type": "code",
   "execution_count": 124,
   "metadata": {},
   "outputs": [
    {
     "data": {
      "text/plain": [
       "0.4211190772945931"
      ]
     },
     "execution_count": 124,
     "metadata": {},
     "output_type": "execute_result"
    }
   ],
   "source": [
    "BPD_fractional_increase"
   ]
  },
  {
   "cell_type": "code",
   "execution_count": 125,
   "metadata": {},
   "outputs": [
    {
     "data": {
      "text/plain": [
       "0.2963291986033177"
      ]
     },
     "execution_count": 125,
     "metadata": {},
     "output_type": "execute_result"
    }
   ],
   "source": [
    "BPD_fraction_hidden"
   ]
  },
  {
   "cell_type": "code",
   "execution_count": 126,
   "metadata": {},
   "outputs": [
    {
     "data": {
      "text/plain": [
       "Hidden\n",
       "Stated    4.287926e+08\n",
       "Hidden    1.805727e+08\n",
       "Total     6.093654e+08\n",
       "dtype: float64"
      ]
     },
     "execution_count": 126,
     "metadata": {},
     "output_type": "execute_result"
    }
   ],
   "source": [
    "BPD_gb"
   ]
  },
  {
   "cell_type": "markdown",
   "metadata": {},
   "source": [
    "Slideshow says around 538,000 calls per year that \"require\" BPD response"
   ]
  },
  {
   "cell_type": "code",
   "execution_count": 127,
   "metadata": {},
   "outputs": [
    {
     "name": "stdout",
     "output_type": "stream",
     "text": [
      "cost per call before hidden 797.0122918476864\n",
      "cost per call including hidden 1132.649372783033\n"
     ]
    }
   ],
   "source": [
    "calls = 538000\n",
    "print(\"cost per call before hidden\", BPD_gb.loc[\"Stated\"]/calls)\n",
    "print(\"cost per call including hidden\", BPD_gb.loc[\"Total\"]/calls)"
   ]
  },
  {
   "cell_type": "markdown",
   "metadata": {},
   "source": [
    "## Get Legal System Fractional Change\n"
   ]
  },
  {
   "cell_type": "code",
   "execution_count": 128,
   "metadata": {},
   "outputs": [],
   "source": [
    "legal_fractional_increase, legal_fraction_hidden, legal_gb = avg_fractional_increase(\"Final_by_Category_splitHidden.csv\",\n",
    "                                                 \"Category == 'Legal'\")"
   ]
  },
  {
   "cell_type": "code",
   "execution_count": 129,
   "metadata": {},
   "outputs": [
    {
     "data": {
      "text/plain": [
       "0.48549862158281426"
      ]
     },
     "execution_count": 129,
     "metadata": {},
     "output_type": "execute_result"
    }
   ],
   "source": [
    "legal_fractional_increase"
   ]
  },
  {
   "cell_type": "code",
   "execution_count": 130,
   "metadata": {},
   "outputs": [
    {
     "data": {
      "text/plain": [
       "0.3268253598683992"
      ]
     },
     "execution_count": 130,
     "metadata": {},
     "output_type": "execute_result"
    }
   ],
   "source": [
    "legal_fraction_hidden"
   ]
  },
  {
   "cell_type": "code",
   "execution_count": 131,
   "metadata": {},
   "outputs": [
    {
     "data": {
      "text/plain": [
       "Hidden\n",
       "Stated    5.501780e+07\n",
       "Hidden    2.671107e+07\n",
       "Total     8.172887e+07\n",
       "dtype: float64"
      ]
     },
     "execution_count": 131,
     "metadata": {},
     "output_type": "execute_result"
    }
   ],
   "source": [
    "legal_gb"
   ]
  },
  {
   "cell_type": "markdown",
   "metadata": {},
   "source": [
    "## Jails Fractional Change"
   ]
  },
  {
   "cell_type": "code",
   "execution_count": 132,
   "metadata": {},
   "outputs": [],
   "source": [
    "jails_fractional_increase, jails_fraction_hidden, jails_gb = avg_fractional_increase(\"Final_by_Category_splitHidden.csv\",\n",
    "                                                 \"Category == 'Jails'\")"
   ]
  },
  {
   "cell_type": "code",
   "execution_count": 133,
   "metadata": {},
   "outputs": [
    {
     "data": {
      "text/plain": [
       "0.5133238806025634"
      ]
     },
     "execution_count": 133,
     "metadata": {},
     "output_type": "execute_result"
    }
   ],
   "source": [
    "jails_fractional_increase"
   ]
  },
  {
   "cell_type": "code",
   "execution_count": 134,
   "metadata": {},
   "outputs": [
    {
     "data": {
      "text/plain": [
       "0.33920292092276516"
      ]
     },
     "execution_count": 134,
     "metadata": {},
     "output_type": "execute_result"
    }
   ],
   "source": [
    "jails_fraction_hidden"
   ]
  },
  {
   "cell_type": "code",
   "execution_count": 135,
   "metadata": {},
   "outputs": [
    {
     "data": {
      "text/plain": [
       "Hidden\n",
       "Stated    1.780277e+08\n",
       "Hidden    9.138587e+07\n",
       "Total     2.694136e+08\n",
       "dtype: float64"
      ]
     },
     "execution_count": 135,
     "metadata": {},
     "output_type": "execute_result"
    }
   ],
   "source": [
    "jails_gb"
   ]
  },
  {
   "cell_type": "markdown",
   "metadata": {},
   "source": [
    "Average number of poeple incarcerated post trial by DOC is 1654. For full analysis do it year by year"
   ]
  },
  {
   "cell_type": "code",
   "execution_count": 136,
   "metadata": {},
   "outputs": [
    {
     "name": "stdout",
     "output_type": "stream",
     "text": [
      "cost per incarcerated person before hidden 107634.64035568335\n",
      "cost per incarcerated person including hidden 162886.071630324\n"
     ]
    }
   ],
   "source": [
    "incarcerated = 1654\n",
    "print(\"cost per incarcerated person before hidden\", jails_gb.loc[\"Stated\"]/1654)\n",
    "print(\"cost per incarcerated person including hidden\", jails_gb.loc[\"Total\"]/1654)"
   ]
  },
  {
   "cell_type": "markdown",
   "metadata": {},
   "source": [
    "Using 35% recidivism rate, only .65 of cases are \"successes.\" Calculate cost per success"
   ]
  },
  {
   "cell_type": "code",
   "execution_count": 142,
   "metadata": {},
   "outputs": [
    {
     "name": "stdout",
     "output_type": "stream",
     "text": [
      "cost per success before hidden 165591.75439335898\n",
      "cost per success including hidden 250593.95635434458\n"
     ]
    }
   ],
   "source": [
    "print(\"cost per success before hidden\", jails_gb.loc[\"Stated\"]/(1654*.65))\n",
    "print(\"cost per success including hidden\", jails_gb.loc[\"Total\"]/(1654*.65))"
   ]
  },
  {
   "cell_type": "markdown",
   "metadata": {},
   "source": [
    "## Police Fractional Increase - out of Curiosity"
   ]
  },
  {
   "cell_type": "code",
   "execution_count": 107,
   "metadata": {},
   "outputs": [
    {
     "data": {
      "text/plain": [
       "0.4928812487871436"
      ]
     },
     "execution_count": 107,
     "metadata": {},
     "output_type": "execute_result"
    }
   ],
   "source": [
    "police_fractional_increase, police_gb = avg_fractional_increase(\"Final_by_Category_splitHidden.csv\",\n",
    "                                                 \"Category == 'Police'\")\n",
    "police_fractional_increase"
   ]
  },
  {
   "cell_type": "markdown",
   "metadata": {},
   "source": [
    "## Overall Fractional Increase"
   ]
  },
  {
   "cell_type": "code",
   "execution_count": 105,
   "metadata": {},
   "outputs": [],
   "source": [
    "fractional, raw = yearly_fractional_increase_overall()"
   ]
  },
  {
   "cell_type": "code",
   "execution_count": 106,
   "metadata": {},
   "outputs": [
    {
     "data": {
      "text/html": [
       "<div>\n",
       "<style scoped>\n",
       "    .dataframe tbody tr th:only-of-type {\n",
       "        vertical-align: middle;\n",
       "    }\n",
       "\n",
       "    .dataframe tbody tr th {\n",
       "        vertical-align: top;\n",
       "    }\n",
       "\n",
       "    .dataframe thead th {\n",
       "        text-align: right;\n",
       "    }\n",
       "</style>\n",
       "<table border=\"1\" class=\"dataframe\">\n",
       "  <thead>\n",
       "    <tr style=\"text-align: right;\">\n",
       "      <th></th>\n",
       "      <th>2016</th>\n",
       "      <th>2017</th>\n",
       "      <th>2018</th>\n",
       "      <th>2019</th>\n",
       "    </tr>\n",
       "    <tr>\n",
       "      <th>Hidden</th>\n",
       "      <th></th>\n",
       "      <th></th>\n",
       "      <th></th>\n",
       "      <th></th>\n",
       "    </tr>\n",
       "  </thead>\n",
       "  <tbody>\n",
       "    <tr>\n",
       "      <th>Stated</th>\n",
       "      <td>6.505909e+08</td>\n",
       "      <td>6.645823e+08</td>\n",
       "      <td>7.344843e+08</td>\n",
       "      <td>7.637018e+08</td>\n",
       "    </tr>\n",
       "    <tr>\n",
       "      <th>Hidden</th>\n",
       "      <td>3.304519e+08</td>\n",
       "      <td>3.451886e+08</td>\n",
       "      <td>3.552610e+08</td>\n",
       "      <td>3.583223e+08</td>\n",
       "    </tr>\n",
       "  </tbody>\n",
       "</table>\n",
       "</div>"
      ],
      "text/plain": [
       "                2016          2017          2018          2019\n",
       "Hidden                                                        \n",
       "Stated  6.505909e+08  6.645823e+08  7.344843e+08  7.637018e+08\n",
       "Hidden  3.304519e+08  3.451886e+08  3.552610e+08  3.583223e+08"
      ]
     },
     "execution_count": 106,
     "metadata": {},
     "output_type": "execute_result"
    }
   ],
   "source": [
    "raw"
   ]
  },
  {
   "cell_type": "code",
   "execution_count": 137,
   "metadata": {},
   "outputs": [],
   "source": [
    "total_fractional_increase, total_fraction_hidden, total_gb = avg_fractional_increase(\"Final_by_Year_splitHidden.csv\", None)"
   ]
  },
  {
   "cell_type": "code",
   "execution_count": 138,
   "metadata": {},
   "outputs": [
    {
     "data": {
      "text/plain": [
       "0.5029628665820816"
      ]
     },
     "execution_count": 138,
     "metadata": {},
     "output_type": "execute_result"
    }
   ],
   "source": [
    "total_fractional_increase"
   ]
  },
  {
   "cell_type": "code",
   "execution_count": 139,
   "metadata": {},
   "outputs": [
    {
     "data": {
      "text/plain": [
       "0.33464756699270926"
      ]
     },
     "execution_count": 139,
     "metadata": {},
     "output_type": "execute_result"
    }
   ],
   "source": [
    "total_fraction_hidden"
   ]
  },
  {
   "cell_type": "code",
   "execution_count": 140,
   "metadata": {},
   "outputs": [
    {
     "data": {
      "text/plain": [
       "Hidden\n",
       "Stated    6.832192e+08\n",
       "Hidden    3.436339e+08\n",
       "Total     1.026853e+09\n",
       "dtype: float64"
      ]
     },
     "execution_count": 140,
     "metadata": {},
     "output_type": "execute_result"
    }
   ],
   "source": [
    "total_gb"
   ]
  },
  {
   "cell_type": "code",
   "execution_count": 141,
   "metadata": {},
   "outputs": [
    {
     "name": "stdout",
     "output_type": "stream",
     "text": [
      "cost per success before hidden 635493.5837246729\n",
      "cost per success including hidden 955123.2582893544\n"
     ]
    }
   ],
   "source": [
    "print(\"cost per success before hidden\", total_gb.loc[\"Stated\"]/(1654*.65))\n",
    "print(\"cost per success including hidden\", total_gb.loc[\"Total\"]/(1654*.65))"
   ]
  },
  {
   "cell_type": "code",
   "execution_count": null,
   "metadata": {},
   "outputs": [],
   "source": []
  }
 ],
 "metadata": {
  "kernelspec": {
   "display_name": "Python 3",
   "language": "python",
   "name": "python3"
  },
  "language_info": {
   "codemirror_mode": {
    "name": "ipython",
    "version": 3
   },
   "file_extension": ".py",
   "mimetype": "text/x-python",
   "name": "python",
   "nbconvert_exporter": "python",
   "pygments_lexer": "ipython3",
   "version": "3.7.6"
  }
 },
 "nbformat": 4,
 "nbformat_minor": 4
}
