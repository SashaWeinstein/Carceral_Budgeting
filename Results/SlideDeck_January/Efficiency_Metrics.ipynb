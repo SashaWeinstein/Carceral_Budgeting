{
 "cells": [
  {
   "cell_type": "markdown",
   "metadata": {},
   "source": [
    "# Efficiency Metrics for Slidedeck\n",
    "In the slideshow we develop metrics on \"efficiency.\" Metrics we use are\n",
    "\n",
    "- cost per call BPD 2016-2019\n",
    "- cost per conviction 2016 (using 'legal' category)\n",
    "- cost per \"success\" (using 'jails' category)"
   ]
  },
  {
   "cell_type": "code",
   "execution_count": 1,
   "metadata": {},
   "outputs": [],
   "source": [
    "%load_ext autoreload\n",
    "%autoreload 2"
   ]
  },
  {
   "cell_type": "code",
   "execution_count": 2,
   "metadata": {},
   "outputs": [],
   "source": [
    "import pandas as pd\n",
    "import sys\n",
    "sys.path.insert(0, \"../../Misc_Analyses\")\n",
    "from Efficiency_Metrics import BPD_cost_per_call\n",
    "yr = list(range(2016,2020))"
   ]
  },
  {
   "cell_type": "markdown",
   "metadata": {},
   "source": [
    "## BPD Efficiency: cost per call"
   ]
  },
  {
   "cell_type": "markdown",
   "metadata": {},
   "source": [
    "Slideshow says around 538,000 calls per year that \"require\" BPD response"
   ]
  },
  {
   "cell_type": "code",
   "execution_count": 3,
   "metadata": {},
   "outputs": [
    {
     "data": {
      "text/plain": [
       "Hidden\n",
       "Stated Cost per Call                           731.766795\n",
       "Hidden                                         327.768709\n",
       "Total Cost per Call including Hidden Costs    1059.535504\n",
       "dtype: float64"
      ]
     },
     "execution_count": 3,
     "metadata": {},
     "output_type": "execute_result"
    }
   ],
   "source": [
    "BPD_efficiency = BPD_cost_per_call()\n",
    "BPD_efficiency"
   ]
  },
  {
   "cell_type": "markdown",
   "metadata": {},
   "source": [
    "## Legal/Police Efficiency: cost per disposed case\n"
   ]
  },
  {
   "cell_type": "code",
   "execution_count": 4,
   "metadata": {},
   "outputs": [],
   "source": [
    "from Efficiency_Metrics import legal_cost_per_disposed_case_2016, \\\n",
    "legal_plus_police_cost_per_disposed_case_2016"
   ]
  },
  {
   "cell_type": "code",
   "execution_count": 5,
   "metadata": {
    "scrolled": true
   },
   "outputs": [
    {
     "data": {
      "text/plain": [
       "Hidden\n",
       "Stated Legal Cost per Disposed Case                           8847.543071\n",
       "Hidden                                                        4448.757517\n",
       "Total Legal Cost per Disposed Case including Hidden Costs    13296.300588\n",
       "dtype: float64"
      ]
     },
     "execution_count": 5,
     "metadata": {},
     "output_type": "execute_result"
    }
   ],
   "source": [
    "legal_efficiency = legal_cost_per_disposed_case_2016()\n",
    "legal_efficiency"
   ]
  },
  {
   "cell_type": "markdown",
   "metadata": {},
   "source": [
    "Include police to get cost of apprehending, trying conviction"
   ]
  },
  {
   "cell_type": "code",
   "execution_count": 6,
   "metadata": {
    "scrolled": true
   },
   "outputs": [
    {
     "data": {
      "text/plain": [
       "Hidden\n",
       "Stated Legal+Police Cost per Disposed Case                           77379.385657\n",
       "Hidden                                                               39679.572576\n",
       "Total Legal+Police Cost per Disposed Case including Hidden Costs    117058.958232\n",
       "dtype: float64"
      ]
     },
     "execution_count": 6,
     "metadata": {},
     "output_type": "execute_result"
    }
   ],
   "source": [
    "legal_police_efficiency = legal_plus_police_cost_per_disposed_case_2016()\n",
    "legal_police_efficiency"
   ]
  },
  {
   "cell_type": "markdown",
   "metadata": {},
   "source": [
    "## Jails/Total Efficiency: cost per 'success' per year\n",
    "'Success' is defined as a person who is incarcerated post-conviction and doesn't return. Calculated with estimated number incarcerated on Suffolk County charge and national recidivism rates.\n"
   ]
  },
  {
   "cell_type": "code",
   "execution_count": 7,
   "metadata": {},
   "outputs": [],
   "source": [
    "from Efficiency_Metrics import jails_cost_per_success, \\\n",
    "systemwide_cost_per_success"
   ]
  },
  {
   "cell_type": "code",
   "execution_count": 8,
   "metadata": {
    "scrolled": false
   },
   "outputs": [
    {
     "data": {
      "text/plain": [
       "Hidden\n",
       "Stated Jails Cost per Success                          170909.035895\n",
       "Hidden                                                  85769.996485\n",
       "Total Jails Cost per Success including Hidden Costs    256679.032380\n",
       "dtype: float64"
      ]
     },
     "execution_count": 8,
     "metadata": {},
     "output_type": "execute_result"
    }
   ],
   "source": [
    "jails_efficiency = jails_cost_per_success()\n",
    "jails_efficiency"
   ]
  },
  {
   "cell_type": "markdown",
   "metadata": {},
   "source": [
    "Get cost per success including system-wide"
   ]
  },
  {
   "cell_type": "code",
   "execution_count": 12,
   "metadata": {},
   "outputs": [
    {
     "data": {
      "text/plain": [
       "Hidden\n",
       "Stated Systemwide Yearly Cost per Success                          651631.295948\n",
       "Hidden                                                             325622.714840\n",
       "Total Systemwide Yearly Cost per Success including Hidden Costs    977254.010788\n",
       "dtype: float64"
      ]
     },
     "execution_count": 12,
     "metadata": {},
     "output_type": "execute_result"
    }
   ],
   "source": [
    "systemwide_efficiency = systemwide_cost_per_success()\n",
    "systemwide_efficiency"
   ]
  }
 ],
 "metadata": {
  "kernelspec": {
   "display_name": "Python 3",
   "language": "python",
   "name": "python3"
  },
  "language_info": {
   "codemirror_mode": {
    "name": "ipython",
    "version": 3
   },
   "file_extension": ".py",
   "mimetype": "text/x-python",
   "name": "python",
   "nbconvert_exporter": "python",
   "pygments_lexer": "ipython3",
   "version": "3.7.6"
  }
 },
 "nbformat": 4,
 "nbformat_minor": 4
}
