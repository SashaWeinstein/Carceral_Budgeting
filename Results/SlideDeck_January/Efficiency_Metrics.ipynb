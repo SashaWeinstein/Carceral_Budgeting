{
 "cells": [
  {
   "cell_type": "markdown",
   "metadata": {},
   "source": [
    "# Efficiency Metrics for Slidedeck\n",
    "In the slideshow we develop metrics on \"efficiency.\" Metrics we use are\n",
    "\n",
    "- cost per call BPD 2016-2019\n",
    "- cost per conviction 2016 (using 'legal' category)\n",
    "- cost per \"success\" (using 'jails' category)"
   ]
  },
  {
   "cell_type": "code",
   "execution_count": 1,
   "metadata": {},
   "outputs": [],
   "source": [
    "%load_ext autoreload\n",
    "%autoreload 2"
   ]
  },
  {
   "cell_type": "code",
   "execution_count": 2,
   "metadata": {},
   "outputs": [],
   "source": [
    "import pandas as pd\n",
    "import sys\n",
    "sys.path.insert(0, \"../../Misc_Analyses\")\n",
    "from Efficiency_Metrics import BPD_cost_per_call\n",
    "yr = list(range(2016,2020))"
   ]
  },
  {
   "cell_type": "markdown",
   "metadata": {},
   "source": [
    "## BPD Efficiency: cost per call"
   ]
  },
  {
   "cell_type": "markdown",
   "metadata": {},
   "source": [
    "Slideshow says around 538,000 calls per year that \"require\" BPD response"
   ]
  },
  {
   "cell_type": "code",
   "execution_count": 3,
   "metadata": {},
   "outputs": [
    {
     "data": {
      "text/plain": [
       "Hidden\n",
       "Stated Cost per Call                           731.766795\n",
       "Hidden                                         327.768709\n",
       "Total Cost per Call including Hidden Costs    1059.535504\n",
       "dtype: float64"
      ]
     },
     "execution_count": 3,
     "metadata": {},
     "output_type": "execute_result"
    }
   ],
   "source": [
    "BPD_efficiency = BPD_cost_per_call()\n",
    "BPD_efficiency"
   ]
  },
  {
   "cell_type": "markdown",
   "metadata": {},
   "source": [
    "## Legal/Police Efficiency: cost per case filing\n"
   ]
  },
  {
   "cell_type": "code",
   "execution_count": 4,
   "metadata": {},
   "outputs": [],
   "source": [
    "from Efficiency_Metrics import legal_cost_per_case_filing_2016, \\\n",
    "legal_plus_police_cost_per_case_filing_2016"
   ]
  },
  {
   "cell_type": "code",
   "execution_count": 5,
   "metadata": {
    "scrolled": false
   },
   "outputs": [
    {
     "data": {
      "text/plain": [
       "Hidden\n",
       "Stated Legal Cost per Case Filing                          2154.282735\n",
       "Hidden                                                     1083.225189\n",
       "Total Legal Cost per Case Filing including Hidden Costs    3237.507924\n",
       "dtype: float64"
      ]
     },
     "execution_count": 5,
     "metadata": {},
     "output_type": "execute_result"
    }
   ],
   "source": [
    "legal_efficiency = legal_cost_per_case_filing_2016()\n",
    "legal_efficiency"
   ]
  },
  {
   "cell_type": "markdown",
   "metadata": {},
   "source": [
    "Include police to get cost of apprehending, trying conviction"
   ]
  },
  {
   "cell_type": "code",
   "execution_count": 6,
   "metadata": {
    "scrolled": true
   },
   "outputs": [
    {
     "data": {
      "text/plain": [
       "Hidden\n",
       "Stated Legal+Police Cost per Case Filing                          18841.058275\n",
       "Hidden                                                             9661.554339\n",
       "Total Legal+Police Cost per Case Filing including Hidden Costs    28502.612613\n",
       "dtype: float64"
      ]
     },
     "execution_count": 6,
     "metadata": {},
     "output_type": "execute_result"
    }
   ],
   "source": [
    "legal_police_efficiency = legal_plus_police_cost_per_case_filing_2016()\n",
    "legal_police_efficiency"
   ]
  },
  {
   "cell_type": "markdown",
   "metadata": {},
   "source": [
    "## Total Efficiency: cost per conviction per year\n",
    "'Success' is defined as a person who is incarcerated post-conviction and doesn't return. Calculated with estimated number incarcerated on Suffolk County charge and national recidivism rates.\n"
   ]
  },
  {
   "cell_type": "code",
   "execution_count": 11,
   "metadata": {},
   "outputs": [],
   "source": [
    "from Efficiency_Metrics import systemwide_cost_per_case_filing_2016,systemwide_cost_per_conviction_2016"
   ]
  },
  {
   "cell_type": "code",
   "execution_count": 12,
   "metadata": {},
   "outputs": [
    {
     "data": {
      "text/plain": [
       "Hidden\n",
       "Stated    25890.875973\n",
       "Hidden    13294.409060\n",
       "Total     39185.285033\n",
       "dtype: float64"
      ]
     },
     "execution_count": 12,
     "metadata": {},
     "output_type": "execute_result"
    }
   ],
   "source": [
    "cost_per_case_filing = systemwide_cost_per_case_filing_2016()\n",
    "cost_per_case_filing"
   ]
  },
  {
   "cell_type": "code",
   "execution_count": 13,
   "metadata": {
    "scrolled": false
   },
   "outputs": [
    {
     "data": {
      "text/plain": [
       "Hidden\n",
       "Stated     87276.689222\n",
       "Hidden     44814.706508\n",
       "Total     132091.395730\n",
       "dtype: float64"
      ]
     },
     "execution_count": 13,
     "metadata": {},
     "output_type": "execute_result"
    }
   ],
   "source": [
    "total_efficiency, total_spending = systemwide_cost_per_conviction_2016()\n",
    "total_efficiency"
   ]
  },
  {
   "cell_type": "code",
   "execution_count": 15,
   "metadata": {},
   "outputs": [
    {
     "data": {
      "text/plain": [
       "Hidden\n",
       "Stated    6.482040e+08\n",
       "Hidden    3.328388e+08\n",
       "Total     9.810428e+08\n",
       "dtype: float64"
      ]
     },
     "execution_count": 15,
     "metadata": {},
     "output_type": "execute_result"
    }
   ],
   "source": [
    "total_spending"
   ]
  },
  {
   "cell_type": "markdown",
   "metadata": {},
   "source": [
    "We can't get equivalent analysis of cost per conviction as we don't know how many cases brought 2017-2019 result in convictions. "
   ]
  }
 ],
 "metadata": {
  "kernelspec": {
   "display_name": "Python 3",
   "language": "python",
   "name": "python3"
  },
  "language_info": {
   "codemirror_mode": {
    "name": "ipython",
    "version": 3
   },
   "file_extension": ".py",
   "mimetype": "text/x-python",
   "name": "python",
   "nbconvert_exporter": "python",
   "pygments_lexer": "ipython3",
   "version": "3.7.6"
  }
 },
 "nbformat": 4,
 "nbformat_minor": 4
}
