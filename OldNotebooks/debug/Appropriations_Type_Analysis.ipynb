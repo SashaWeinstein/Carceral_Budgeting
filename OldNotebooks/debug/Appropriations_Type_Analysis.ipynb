{
 "cells": [
  {
   "cell_type": "markdown",
   "metadata": {},
   "source": [
    "# Appropriations Type Analysis\n",
    "To minimize risk of overcounting, only take money clearly earmarked as approprations from state government. This means taking out federal dollars, trust money, and any other things that pop up. Make sure we know how much money is being removed this way and point out that it may be taxpayer money funneled through some weird budget mechanism but to be absolutely sure we take it out"
   ]
  },
  {
   "cell_type": "code",
   "execution_count": 1,
   "metadata": {},
   "outputs": [],
   "source": [
    "%load_ext autoreload\n",
    "%autoreload 2"
   ]
  },
  {
   "cell_type": "code",
   "execution_count": 2,
   "metadata": {},
   "outputs": [],
   "source": [
    "import warnings\n",
    "warnings.simplefilter(action='ignore', category=FutureWarning)\n",
    "\n",
    "import pandas as pd\n",
    "import os\n",
    "import sys"
   ]
  },
  {
   "cell_type": "code",
   "execution_count": 3,
   "metadata": {},
   "outputs": [],
   "source": [
    "sys.path.insert(0, os.path.abspath(\"../\"))"
   ]
  },
  {
   "cell_type": "code",
   "execution_count": 4,
   "metadata": {},
   "outputs": [
    {
     "name": "stderr",
     "output_type": "stream",
     "text": [
      "/opt/anaconda3/lib/python3.7/site-packages/pandas/core/frame.py:4133: SettingWithCopyWarning: \n",
      "A value is trying to be set on a copy of a slice from a DataFrame\n",
      "\n",
      "See the caveats in the documentation: https://pandas.pydata.org/pandas-docs/stable/user_guide/indexing.html#returning-a-view-versus-a-copy\n",
      "  errors=errors,\n",
      "/opt/anaconda3/lib/python3.7/site-packages/pandas/core/generic.py:6245: SettingWithCopyWarning: \n",
      "A value is trying to be set on a copy of a slice from a DataFrame\n",
      "\n",
      "See the caveats in the documentation: https://pandas.pydata.org/pandas-docs/stable/user_guide/indexing.html#returning-a-view-versus-a-copy\n",
      "  self._update_inplace(new_data)\n",
      "/Users/alexanderweinstein/Documents/Harris/Summer2020/Carceral_Budgeting/Exploratory/pensions/State_Pensions_2Ver.py:136: SettingWithCopyWarning: \n",
      "A value is trying to be set on a copy of a slice from a DataFrame.\n",
      "Try using .loc[row_indexer,col_indexer] = value instead\n",
      "\n",
      "See the caveats in the documentation: https://pandas.pydata.org/pandas-docs/stable/user_guide/indexing.html#returning-a-view-versus-a-copy\n",
      "  cthru_pensions[\"year\"] = cthru_pensions[\"year\"].astype(int)\n",
      "/Users/alexanderweinstein/Documents/Harris/Summer2020/Carceral_Budgeting/Exploratory/Initialize_Agencies_3Ver.py:5: DtypeWarning: Columns (16) have mixed types.Specify dtype option on import or set low_memory=False.\n",
      "  from Agency_Classes_2Ver import StateAgency, CPCS, MBTA, BostonPD, ChelseaPD, ReverePD, WinthropPD\n"
     ]
    }
   ],
   "source": [
    "from Initialize_Agencies_3Ver import get_agencies"
   ]
  },
  {
   "cell_type": "code",
   "execution_count": 5,
   "metadata": {},
   "outputs": [
    {
     "name": "stderr",
     "output_type": "stream",
     "text": [
      "/Users/alexanderweinstein/Documents/Harris/Summer2020/Carceral_Budgeting/Exploratory/Agency_Classes_2Ver.py:162: DtypeWarning: Columns (16) have mixed types.Specify dtype option on import or set low_memory=False.\n",
      "  self.get_expenditures_by_year()\n",
      "/Users/alexanderweinstein/Documents/Harris/Summer2020/Carceral_Budgeting/Exploratory/Agency_Classes_2Ver.py:156: DtypeWarning: Columns (16) have mixed types.Specify dtype option on import or set low_memory=False.\n",
      "  self.get_final_costs()\n",
      "/Users/alexanderweinstein/Documents/Harris/Summer2020/Carceral_Budgeting/Exploratory/Agency_Classes_2Ver.py:162: DtypeWarning: Columns (15,16) have mixed types.Specify dtype option on import or set low_memory=False.\n",
      "  self.get_expenditures_by_year()\n"
     ]
    },
    {
     "name": "stdout",
     "output_type": "stream",
     "text": [
      "raw data:\n"
     ]
    },
    {
     "data": {
      "text/html": [
       "<div>\n",
       "<style scoped>\n",
       "    .dataframe tbody tr th:only-of-type {\n",
       "        vertical-align: middle;\n",
       "    }\n",
       "\n",
       "    .dataframe tbody tr th {\n",
       "        vertical-align: top;\n",
       "    }\n",
       "\n",
       "    .dataframe thead th {\n",
       "        text-align: right;\n",
       "    }\n",
       "</style>\n",
       "<table border=\"1\" class=\"dataframe\">\n",
       "  <thead>\n",
       "    <tr style=\"text-align: right;\">\n",
       "      <th></th>\n",
       "      <th>2015 Q3</th>\n",
       "      <th>2015 Q4</th>\n",
       "      <th>2016 Q1</th>\n",
       "      <th>2016 Q2</th>\n",
       "      <th>2016 Q3</th>\n",
       "      <th>2016 Q4</th>\n",
       "      <th>2017 Q1</th>\n",
       "      <th>2017 Q2</th>\n",
       "      <th>2017 Q3</th>\n",
       "      <th>2017 Q4</th>\n",
       "      <th>2018 Q1</th>\n",
       "      <th>2018 Q2</th>\n",
       "      <th>2018 Q3</th>\n",
       "      <th>2018 Q4</th>\n",
       "      <th>2019 Q1</th>\n",
       "      <th>2019 Q2</th>\n",
       "      <th>2019 Q3</th>\n",
       "    </tr>\n",
       "  </thead>\n",
       "  <tbody>\n",
       "    <tr>\n",
       "      <th>Suffolk Admits</th>\n",
       "      <td>50.000</td>\n",
       "      <td>81.000</td>\n",
       "      <td>72.000</td>\n",
       "      <td>79.000</td>\n",
       "      <td>41.000</td>\n",
       "      <td>74.000</td>\n",
       "      <td>71.000</td>\n",
       "      <td>83.000</td>\n",
       "      <td>61.000</td>\n",
       "      <td>77.000</td>\n",
       "      <td>83.000</td>\n",
       "      <td>84.000</td>\n",
       "      <td>72.000</td>\n",
       "      <td>76.000</td>\n",
       "      <td>70.000</td>\n",
       "      <td>90.000</td>\n",
       "      <td>64.000</td>\n",
       "    </tr>\n",
       "    <tr>\n",
       "      <th>Total Admits</th>\n",
       "      <td>391.000</td>\n",
       "      <td>437.000</td>\n",
       "      <td>439.000</td>\n",
       "      <td>416.000</td>\n",
       "      <td>385.000</td>\n",
       "      <td>387.000</td>\n",
       "      <td>500.000</td>\n",
       "      <td>440.000</td>\n",
       "      <td>372.000</td>\n",
       "      <td>426.000</td>\n",
       "      <td>437.000</td>\n",
       "      <td>433.000</td>\n",
       "      <td>359.000</td>\n",
       "      <td>384.000</td>\n",
       "      <td>431.000</td>\n",
       "      <td>433.000</td>\n",
       "      <td>364.000</td>\n",
       "    </tr>\n",
       "  </tbody>\n",
       "</table>\n",
       "</div>"
      ],
      "text/plain": [
       "                2015 Q3  2015 Q4  2016 Q1  2016 Q2  2016 Q3  2016 Q4  2017 Q1  \\\n",
       "Suffolk Admits   50.000   81.000   72.000   79.000   41.000   74.000   71.000   \n",
       "Total Admits    391.000  437.000  439.000  416.000  385.000  387.000  500.000   \n",
       "\n",
       "                2017 Q2  2017 Q3  2017 Q4  2018 Q1  2018 Q2  2018 Q3  2018 Q4  \\\n",
       "Suffolk Admits   83.000   61.000   77.000   83.000   84.000   72.000   76.000   \n",
       "Total Admits    440.000  372.000  426.000  437.000  433.000  359.000  384.000   \n",
       "\n",
       "                2019 Q1  2019 Q2  2019 Q3  \n",
       "Suffolk Admits   70.000   90.000   64.000  \n",
       "Total Admits    431.000  433.000  364.000  "
      ]
     },
     "metadata": {},
     "output_type": "display_data"
    },
    {
     "name": "stdout",
     "output_type": "stream",
     "text": [
      "correction by FY:\n"
     ]
    },
    {
     "data": {
      "text/plain": [
       "2016   0.168\n",
       "2017   0.157\n",
       "2018   0.183\n",
       "2019   0.192\n",
       "dtype: float64"
      ]
     },
     "metadata": {},
     "output_type": "display_data"
    },
    {
     "name": "stderr",
     "output_type": "stream",
     "text": [
      "/Users/alexanderweinstein/Documents/Harris/Summer2020/Carceral_Budgeting/Exploratory/Agency_Classes_2Ver.py:162: DtypeWarning: Columns (15,16) have mixed types.Specify dtype option on import or set low_memory=False.\n",
      "  self.get_expenditures_by_year()\n"
     ]
    },
    {
     "name": "stdout",
     "output_type": "stream",
     "text": [
      "raw data:\n"
     ]
    },
    {
     "data": {
      "text/html": [
       "<div>\n",
       "<style scoped>\n",
       "    .dataframe tbody tr th:only-of-type {\n",
       "        vertical-align: middle;\n",
       "    }\n",
       "\n",
       "    .dataframe tbody tr th {\n",
       "        vertical-align: top;\n",
       "    }\n",
       "\n",
       "    .dataframe thead th {\n",
       "        text-align: right;\n",
       "    }\n",
       "</style>\n",
       "<table border=\"1\" class=\"dataframe\">\n",
       "  <thead>\n",
       "    <tr style=\"text-align: right;\">\n",
       "      <th></th>\n",
       "      <th>2015 Q3</th>\n",
       "      <th>2015 Q4</th>\n",
       "      <th>2016 Q1</th>\n",
       "      <th>2016 Q2</th>\n",
       "      <th>2016 Q3</th>\n",
       "      <th>2016 Q4</th>\n",
       "      <th>2017 Q1</th>\n",
       "      <th>2017 Q2</th>\n",
       "      <th>2017 Q3</th>\n",
       "      <th>2017 Q4</th>\n",
       "      <th>2018 Q1</th>\n",
       "      <th>2018 Q2</th>\n",
       "      <th>2018 Q3</th>\n",
       "      <th>2018 Q4</th>\n",
       "      <th>2019 Q1</th>\n",
       "      <th>2019 Q2</th>\n",
       "      <th>2019 Q3</th>\n",
       "    </tr>\n",
       "  </thead>\n",
       "  <tbody>\n",
       "    <tr>\n",
       "      <th>Suffolk Admits</th>\n",
       "      <td>50.000</td>\n",
       "      <td>81.000</td>\n",
       "      <td>72.000</td>\n",
       "      <td>79.000</td>\n",
       "      <td>41.000</td>\n",
       "      <td>74.000</td>\n",
       "      <td>71.000</td>\n",
       "      <td>83.000</td>\n",
       "      <td>61.000</td>\n",
       "      <td>77.000</td>\n",
       "      <td>83.000</td>\n",
       "      <td>84.000</td>\n",
       "      <td>72.000</td>\n",
       "      <td>76.000</td>\n",
       "      <td>70.000</td>\n",
       "      <td>90.000</td>\n",
       "      <td>64.000</td>\n",
       "    </tr>\n",
       "    <tr>\n",
       "      <th>Total Admits</th>\n",
       "      <td>391.000</td>\n",
       "      <td>437.000</td>\n",
       "      <td>439.000</td>\n",
       "      <td>416.000</td>\n",
       "      <td>385.000</td>\n",
       "      <td>387.000</td>\n",
       "      <td>500.000</td>\n",
       "      <td>440.000</td>\n",
       "      <td>372.000</td>\n",
       "      <td>426.000</td>\n",
       "      <td>437.000</td>\n",
       "      <td>433.000</td>\n",
       "      <td>359.000</td>\n",
       "      <td>384.000</td>\n",
       "      <td>431.000</td>\n",
       "      <td>433.000</td>\n",
       "      <td>364.000</td>\n",
       "    </tr>\n",
       "  </tbody>\n",
       "</table>\n",
       "</div>"
      ],
      "text/plain": [
       "                2015 Q3  2015 Q4  2016 Q1  2016 Q2  2016 Q3  2016 Q4  2017 Q1  \\\n",
       "Suffolk Admits   50.000   81.000   72.000   79.000   41.000   74.000   71.000   \n",
       "Total Admits    391.000  437.000  439.000  416.000  385.000  387.000  500.000   \n",
       "\n",
       "                2017 Q2  2017 Q3  2017 Q4  2018 Q1  2018 Q2  2018 Q3  2018 Q4  \\\n",
       "Suffolk Admits   83.000   61.000   77.000   83.000   84.000   72.000   76.000   \n",
       "Total Admits    440.000  372.000  426.000  437.000  433.000  359.000  384.000   \n",
       "\n",
       "                2019 Q1  2019 Q2  2019 Q3  \n",
       "Suffolk Admits   70.000   90.000   64.000  \n",
       "Total Admits    431.000  433.000  364.000  "
      ]
     },
     "metadata": {},
     "output_type": "display_data"
    },
    {
     "name": "stdout",
     "output_type": "stream",
     "text": [
      "correction by FY:\n"
     ]
    },
    {
     "data": {
      "text/plain": [
       "2016   0.168\n",
       "2017   0.157\n",
       "2018   0.183\n",
       "2019   0.192\n",
       "dtype: float64"
      ]
     },
     "metadata": {},
     "output_type": "display_data"
    },
    {
     "name": "stdout",
     "output_type": "stream",
     "text": [
      "\n"
     ]
    }
   ],
   "source": [
    "yr = list(range(2016,2020))\n",
    "agencies = get_agencies(yr)"
   ]
  },
  {
   "cell_type": "code",
   "execution_count": 8,
   "metadata": {
    "scrolled": false
   },
   "outputs": [
    {
     "name": "stdout",
     "output_type": "stream",
     "text": [
      "for agency trial_court\n"
     ]
    },
    {
     "data": {
      "text/plain": [
       "object_code\n",
       "(A01) SALARIES: INCLUSIVE                                            190961.530\n",
       "(N50) NON-MAJOR FACILITY INFRASTRUCTURE MAINTENANCE AND REPAIR       190272.500\n",
       "(NN1) ENGINEERING, RESEARCH AND SCIENTIFIC SERVICES                   45424.250\n",
       "(E43) JOB RELATED TUITION ON BEHALF ON STATE EMPLOYEES                43127.000\n",
       "(HH3) MEDIA DESIGN, EDITORIAL AND COMMUNICATION                       13580.370\n",
       "(B02) IN-STATE TRAVEL                                                  6334.250\n",
       "(E02) PRINTING EXPENSES & SUPPLIES                                     4910.000\n",
       "(E22) TEMP USE SPACE/CONFER-INCIDENTAL INCLUDES RESERVATION FEES       1829.220\n",
       "(E19) FEES, FINES, LICENSES, PERMITS & CHARGEBACKS                     1300.000\n",
       "(B01) OTHER OUT OF STATE TRAVEL - INCLUSIVE: AIRFARE, HOTEL, LODGI      498.350\n",
       "(EE2) CONFERENCE, TRAINING AND REGISTRATION FEES                        290.000\n",
       "(E01) OFFICE & ADMINISTRATIVE SUPPLIES                                  126.700\n",
       "Name: amount, dtype: float64"
      ]
     },
     "metadata": {},
     "output_type": "display_data"
    },
    {
     "name": "stdout",
     "output_type": "stream",
     "text": [
      "for agency CPCS\n"
     ]
    },
    {
     "data": {
      "text/plain": [
       "object_code\n",
       "(EE2) CONFERENCE, TRAINING AND REGISTRATION FEES                     207658.560\n",
       "(E22) TEMP USE SPACE/CONFER-INCIDENTAL INCLUDES RESERVATION FEES     136721.510\n",
       "(E42) IN-STATE TRAVEL & RELATED EXPEN ON BEHALF OF STATE EMPLOYEES    76385.260\n",
       "(E12) SUBSCRIPTIONS, MEMBERSHIPS & LICENSING FEES                     44251.170\n",
       "(JJ2) AUXILIARY SERVICES                                              43400.460\n",
       "(H15) HONORARIA FOR VISITING SPEAKERS/LECTURERS                       16597.260\n",
       "(E30) CREDIT CARD PURCHASES                                           16554.870\n",
       "(E41) OUT OF STATE TRAVEL EXPEN ON BEHALF OF STATE EMPLOY             10976.370\n",
       "(JJ1) LEGAL SUPPORT SERVICES                                          10000.000\n",
       "(H30) PERFORMERS/ACTORS                                                6805.310\n",
       "(H19) MANAGEMENT CONSULTANTS                                           5040.000\n",
       "(B01) OTHER OUT OF STATE TRAVEL - INCLUSIVE: AIRFARE, HOTEL, LODGI     4221.030\n",
       "(E01) OFFICE & ADMINISTRATIVE SUPPLIES                                 2973.110\n",
       "(L24) MOTORIZED VEHICLE EQUIPMENT RENTAL OR LEASE                      2422.160\n",
       "(E14) EXHIBITS/DISPLAYS                                                2035.000\n",
       "(H98) REIM TRAV/EXP FOR CONSULTANT SERVICES                            1767.810\n",
       "(U07) INFORMATION TECHNOLOGY (IT) EQUIPMENT                            1315.990\n",
       "(J98) REIMB TRAV & OTHER EXP FOR OPERATIONAL SERVICES                   938.180\n",
       "(B10) EXIGENT JOB RELATED EXPENSES                                      502.420\n",
       "Name: amount, dtype: float64"
      ]
     },
     "metadata": {},
     "output_type": "display_data"
    },
    {
     "name": "stdout",
     "output_type": "stream",
     "text": [
      "for agency DOC\n"
     ]
    },
    {
     "data": {
      "text/plain": [
       "object_code\n",
       "(T30) INMATE FUNDS                                                   118392672.000\n",
       "(A07) SHIFT DIFFERENTIAL PAY                                           9275794.660\n",
       "(A08) OVERTIME PAY                                                     3751486.260\n",
       "(M03) PURCHASED HUMAN & SOCIAL SERVICES FOR CLIENTS/NON MEDICAL        2175082.790\n",
       "(N50) NON-MAJOR FACILITY INFRASTRUCTURE MAINTENANCE AND REPAIR         1208547.570\n",
       "(S09) OTHER DEBT SERVICES                                               557954.670\n",
       "(K03) PROGRAMMATIC FACILITY EQUIPMENT                                   497642.570\n",
       "(N52) FACILITY INFRASTRUCTURE MAINTENANCE & REPAIR TOOLS & SUPPLIE      447472.960\n",
       "(A14) STIPENDS, BONUS PAY & AWARDS                                      316500.000\n",
       "(F19) MANUFACTURING SUPPLY & MATERIALS & RAW MATERIALS                  208301.170\n",
       "(NN1) ENGINEERING, RESEARCH AND SCIENTIFIC SERVICES                     205749.940\n",
       "(L44) MOTORIZED VEHICLE EQUIPMENT MAINTENANCE & REPAIR                  125373.960\n",
       "(N16) MAJOR CONSTR, RENOVATION, BLDING ALTERATION & LAND IMPRVMNTS      104086.420\n",
       "(F16) LIBRARY & TEACHING SUPPLIES & MATERIALS                            94651.120\n",
       "(K07) OFFICE FURNISHINGS                                                 52268.160\n",
       "(N18) INITIAL FURNISHINGS & EQUIPMENT PURCHASES                          50439.280\n",
       "(F18) RECREATION, RELIGIOUS & SOCIAL SUPPLIES & MATERIALS                46158.160\n",
       "(U07) INFORMATION TECHNOLOGY (IT) EQUIPMENT                              30993.670\n",
       "(F01) FOOD, BEVERAGES & PRESERVATION                                     21999.130\n",
       "(F10) FACILITY FURNISHINGS                                               15764.090\n",
       "(N12) TESTING FIRMS                                                      15576.130\n",
       "(N72) HAZARDOUS WASTE REMOVAL SERVICES                                   12469.500\n",
       "(N61) LAWN AND GROUNDS EQUIPMENT                                          9808.410\n",
       "(E01) OFFICE & ADMINISTRATIVE SUPPLIES                                    5450.860\n",
       "(E30) CREDIT CARD PURCHASES                                               3380.000\n",
       "(F13) LIVE ANIMALS & RELATED SUPPLIES                                     3296.870\n",
       "(N64) GARDEN EXPENSES, TOOLS AND SUPPLIES                                 2999.860\n",
       "(T15) PAYMENT OF UNCLAIMED FUNDS                                          2762.060\n",
       "(E19) FEES, FINES, LICENSES, PERMITS & CHARGEBACKS                        2713.900\n",
       "(F24) MOTOR VEHICLE MAINTENANCE AND REPAIR PARTS                          1223.640\n",
       "(F07) PERSONAL MEDICAL ITEMS & PROSTHETICS                                1122.800\n",
       "(E02) PRINTING EXPENSES & SUPPLIES                                         674.300\n",
       "(E14) EXHIBITS/DISPLAYS                                                    570.000\n",
       "(E13) ADVERTISING EXPENSES                                                 538.500\n",
       "(N60) LAWN AND GROUNDS EQUIPMENT MAINTENANCE AND REPAIR                    242.660\n",
       "(F09) CLOTHING & FOOTWEAR                                                  136.000\n",
       "(F11) LAUNDRY & CLEANING SUPPLIES                                          108.880\n",
       "Name: amount, dtype: float64"
      ]
     },
     "metadata": {},
     "output_type": "display_data"
    },
    {
     "name": "stdout",
     "output_type": "stream",
     "text": [
      "for agency Suffolk_DA\n"
     ]
    },
    {
     "data": {
      "text/plain": [
       "object_code\n",
       "(A01) SALARIES: INCLUSIVE                                            573161.570\n",
       "(E12) SUBSCRIPTIONS, MEMBERSHIPS & LICENSING FEES                    277059.780\n",
       "(U02) TELECOMMUNICATIONS SERVICES - VOICE                             35269.410\n",
       "(B05) CONFERENCE, TRAINING, REGISTRATION AND MEMBERSHIP DUES AND L    31722.450\n",
       "(B01) OTHER OUT OF STATE TRAVEL - INCLUSIVE: AIRFARE, HOTEL, LODGI    27764.990\n",
       "(G03) ELECTRICITY                                                     17964.400\n",
       "(U07) INFORMATION TECHNOLOGY (IT) EQUIPMENT                           17133.730\n",
       "(U03) SOFTWARE & INFORMATION TECHNOLOGY LICENSES (IT)                 11970.000\n",
       "(B02) IN-STATE TRAVEL                                                  7213.700\n",
       "(EE2) CONFERENCE, TRAINING AND REGISTRATION FEES                       5530.000\n",
       "(B10) EXIGENT JOB RELATED EXPENSES                                     5214.150\n",
       "(JJ3) NATIONAL DEFENSE & PUBLIC ORDER & SECURITY & NON MEDICAL SAF     2011.750\n",
       "(L45) OFFICE EQUIPMENT MAINTENANCE & REPAIR                             967.090\n",
       "(L50) LAW ENFORCEMT/SECURITY EQUIPMENT MAINTENANCE/REPAIR               828.000\n",
       "(B11) EMPLOYER REFUND OF NON-TAX BENEFITS                                93.000\n",
       "(A13) VACATION-IN-LIEU                                                    0.000\n",
       "(A12) SICK-LEAVE BUY BACK                                                 0.000\n",
       "(A08) OVERTIME PAY                                                        0.000\n",
       "Name: amount, dtype: float64"
      ]
     },
     "metadata": {},
     "output_type": "display_data"
    },
    {
     "name": "stdout",
     "output_type": "stream",
     "text": [
      "for agency Suffolk_Sheriff\n"
     ]
    },
    {
     "data": {
      "text/plain": [
       "object_code\n",
       "(A20) POLICE DETAIL                                                  2525427.500\n",
       "(K10) LAW ENFORCEMENT & SECURITY EQUIPMENT                            402243.830\n",
       "(K04) MOTORIZED VEHICLE EQUIPMENT                                      70900.000\n",
       "(N52) FACILITY INFRASTRUCTURE MAINTENANCE & REPAIR TOOLS & SUPPLIE      7614.600\n",
       "(K03) PROGRAMMATIC FACILITY EQUIPMENT                                   3714.000\n",
       "Name: amount, dtype: float64"
      ]
     },
     "metadata": {},
     "output_type": "display_data"
    },
    {
     "name": "stdout",
     "output_type": "stream",
     "text": [
      "for agency State_Police\n"
     ]
    },
    {
     "data": {
      "text/plain": [
       "object_code\n",
       "(A01) SALARIES: INCLUSIVE                                            30592069.760\n",
       "(A08) OVERTIME PAY                                                   12037663.920\n",
       "(T04) PAYMENTS & REFUNDS                                             11563067.240\n",
       "(A20) POLICE DETAIL                                                   7840587.500\n",
       "(L44) MOTORIZED VEHICLE EQUIPMENT MAINTENANCE & REPAIR                2516024.900\n",
       "(A14) STIPENDS, BONUS PAY & AWARDS                                    1196952.420\n",
       "(A07) SHIFT DIFFERENTIAL PAY                                           510275.980\n",
       "(U03) SOFTWARE & INFORMATION TECHNOLOGY LICENSES (IT)                  504566.600\n",
       "(K10) LAW ENFORCEMENT & SECURITY EQUIPMENT                             495539.260\n",
       "(U07) INFORMATION TECHNOLOGY (IT) EQUIPMENT                            456873.700\n",
       "(A13) VACATION-IN-LIEU                                                 369984.460\n",
       "(U02) TELECOMMUNICATIONS SERVICES - VOICE                              316151.760\n",
       "(U10) INFORMATION TECH (IT) EQUIPMENT MAINTENANCE & REPAIR             302253.870\n",
       "(A12) SICK-LEAVE BUY BACK                                              300998.900\n",
       "(F05) LABORATORY SUPPLIES                                              157806.430\n",
       "(F24) MOTOR VEHICLE MAINTENANCE AND REPAIR PARTS                       124991.040\n",
       "(U06) INFORMATION TECHNOLOGY (IT) CABLING                              114127.600\n",
       "(A06) STAND-BY PAY                                                      95050.000\n",
       "(U11) INFORMATION TECHNOLOGY (IT) CONTRACT SERVICES                     89672.720\n",
       "(B01) OTHER OUT OF STATE TRAVEL - INCLUSIVE: AIRFARE, HOTEL, LODGI      61347.800\n",
       "(N50) NON-MAJOR FACILITY INFRASTRUCTURE MAINTENANCE AND REPAIR          54533.950\n",
       "(F27) LAW ENFORCEMENT & SECURITY SUPPLIES                               54037.740\n",
       "(K04) MOTORIZED VEHICLE EQUIPMENT                                       38725.220\n",
       "(L50) LAW ENFORCEMT/SECURITY EQUIPMENT MAINTENANCE/REPAIR               33297.670\n",
       "(HH4) HEALTH AND SAFETY SERVICES                                        29555.720\n",
       "(J46) TEMPORARY HELP SERVICES                                           24876.390\n",
       "(B05) CONFERENCE, TRAINING, REGISTRATION AND MEMBERSHIP DUES AND L      17268.630\n",
       "(E06) POSTAGE                                                           16170.000\n",
       "(B10) EXIGENT JOB RELATED EXPENSES                                      15465.580\n",
       "(E02) PRINTING EXPENSES & SUPPLIES                                      14109.170\n",
       "(JJ2) AUXILIARY SERVICES                                                13410.770\n",
       "(E12) SUBSCRIPTIONS, MEMBERSHIPS & LICENSING FEES                       11654.710\n",
       "(K03) PROGRAMMATIC FACILITY EQUIPMENT                                    9457.470\n",
       "(F09) CLOTHING & FOOTWEAR                                                7924.610\n",
       "(E01) OFFICE & ADMINISTRATIVE SUPPLIES                                   6381.670\n",
       "(L26) PRINTING/PHOTOCOPY & MICROGRAPHICS EQUIP RENT/LEASE                6005.930\n",
       "(K02) EDUCATIONAL EQUIPMENT                                              5243.000\n",
       "(F16) LIBRARY & TEACHING SUPPLIES & MATERIALS                            5059.350\n",
       "(AA1) SALARIES: SUPPLEMENTAL                                             4514.780\n",
       "(K06) PRINTING, PHOTOCOPYING, & MICROGRAPHICS EQUIPMENT                  4108.430\n",
       "(B03) OVERTIME MEALS                                                     4033.500\n",
       "(K07) OFFICE FURNISHINGS                                                 3191.300\n",
       "(B02) IN-STATE TRAVEL                                                    2993.690\n",
       "(A10) HOLIDAY PAY                                                         395.190\n",
       "(N52) FACILITY INFRASTRUCTURE MAINTENANCE & REPAIR TOOLS & SUPPLIE        331.940\n",
       "(K09) MEDICAL EQUIPMENT                                                   202.320\n",
       "(C01) CONTRACTED FACULTY                                                    0.000\n",
       "(C05) CONTRACTED STUDENT INTERNS                                            0.000\n",
       "Name: amount, dtype: float64"
      ]
     },
     "metadata": {},
     "output_type": "display_data"
    },
    {
     "name": "stdout",
     "output_type": "stream",
     "text": [
      "for agency MBTA\n"
     ]
    },
    {
     "ename": "TypeError",
     "evalue": "'NoneType' object is not subscriptable",
     "output_type": "error",
     "traceback": [
      "\u001b[0;31m---------------------------------------------------------------------------\u001b[0m",
      "\u001b[0;31mTypeError\u001b[0m                                 Traceback (most recent call last)",
      "\u001b[0;32m<ipython-input-8-7b62887841e5>\u001b[0m in \u001b[0;36m<module>\u001b[0;34m\u001b[0m\n\u001b[1;32m      1\u001b[0m \u001b[0;32mfor\u001b[0m \u001b[0m_\u001b[0m\u001b[0;34m,\u001b[0m \u001b[0magency\u001b[0m \u001b[0;32min\u001b[0m \u001b[0magencies\u001b[0m\u001b[0;34m.\u001b[0m\u001b[0mitems\u001b[0m\u001b[0;34m(\u001b[0m\u001b[0;34m)\u001b[0m\u001b[0;34m:\u001b[0m\u001b[0;34m\u001b[0m\u001b[0;34m\u001b[0m\u001b[0m\n\u001b[1;32m      2\u001b[0m     \u001b[0mprint\u001b[0m\u001b[0;34m(\u001b[0m\u001b[0;34m\"for agency\"\u001b[0m\u001b[0;34m,\u001b[0m \u001b[0magency\u001b[0m\u001b[0;34m.\u001b[0m\u001b[0malias\u001b[0m\u001b[0;34m)\u001b[0m\u001b[0;34m\u001b[0m\u001b[0;34m\u001b[0m\u001b[0m\n\u001b[0;32m----> 3\u001b[0;31m     \u001b[0mtrust_money\u001b[0m \u001b[0;34m=\u001b[0m \u001b[0magency\u001b[0m\u001b[0;34m.\u001b[0m\u001b[0mexpenditures\u001b[0m\u001b[0;34m[\u001b[0m\u001b[0magency\u001b[0m\u001b[0;34m.\u001b[0m\u001b[0mexpenditures\u001b[0m\u001b[0;34m[\u001b[0m\u001b[0;34m\"appropriation_type\"\u001b[0m\u001b[0;34m]\u001b[0m\u001b[0;34m.\u001b[0m\u001b[0mstr\u001b[0m\u001b[0;34m.\u001b[0m\u001b[0mcontains\u001b[0m\u001b[0;34m(\u001b[0m\u001b[0;34m\"TRUSTS\"\u001b[0m\u001b[0;34m)\u001b[0m\u001b[0;34m]\u001b[0m\u001b[0;34m\u001b[0m\u001b[0;34m\u001b[0m\u001b[0m\n\u001b[0m\u001b[1;32m      4\u001b[0m     \u001b[0mdisplay\u001b[0m\u001b[0;34m(\u001b[0m\u001b[0mtrust_money\u001b[0m\u001b[0;34m.\u001b[0m\u001b[0mgroupby\u001b[0m\u001b[0;34m(\u001b[0m\u001b[0;34m\"object_code\"\u001b[0m\u001b[0;34m)\u001b[0m\u001b[0;34m.\u001b[0m\u001b[0msum\u001b[0m\u001b[0;34m(\u001b[0m\u001b[0;34m)\u001b[0m\u001b[0;34m[\u001b[0m\u001b[0;34m\"amount\"\u001b[0m\u001b[0;34m]\u001b[0m\u001b[0;34m.\u001b[0m\u001b[0msort_values\u001b[0m\u001b[0;34m(\u001b[0m\u001b[0mascending\u001b[0m\u001b[0;34m=\u001b[0m\u001b[0;32mFalse\u001b[0m\u001b[0;34m)\u001b[0m\u001b[0;34m)\u001b[0m\u001b[0;34m\u001b[0m\u001b[0;34m\u001b[0m\u001b[0m\n",
      "\u001b[0;31mTypeError\u001b[0m: 'NoneType' object is not subscriptable"
     ]
    }
   ],
   "source": [
    "for _, agency in agencies.items():\n",
    "    print(\"for agency\", agency.alias)\n",
    "    trust_money = agency.expenditures[agency.expenditures[\"appropriation_type\"].str.contains(\"TRUSTS\")]\n",
    "    display(trust_money.groupby(\"object_code\").sum()[\"amount\"].sort_values(ascending=False))"
   ]
  },
  {
   "cell_type": "markdown",
   "metadata": {},
   "source": [
    "Ok two questions.\n",
    "1. What are payroll rejects?\n",
    "2. What is retained revenue?"
   ]
  }
 ],
 "metadata": {
  "kernelspec": {
   "display_name": "Python 3",
   "language": "python",
   "name": "python3"
  },
  "language_info": {
   "codemirror_mode": {
    "name": "ipython",
    "version": 3
   },
   "file_extension": ".py",
   "mimetype": "text/x-python",
   "name": "python",
   "nbconvert_exporter": "python",
   "pygments_lexer": "ipython3",
   "version": "3.7.6"
  }
 },
 "nbformat": 4,
 "nbformat_minor": 4
}
