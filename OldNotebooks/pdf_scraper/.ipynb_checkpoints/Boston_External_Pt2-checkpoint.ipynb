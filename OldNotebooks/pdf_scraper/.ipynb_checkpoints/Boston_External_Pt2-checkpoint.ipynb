{
 "cells": [
  {
   "cell_type": "markdown",
   "metadata": {},
   "source": [
    "Test code in LocalPD_External_Funds.py"
   ]
  },
  {
   "cell_type": "code",
   "execution_count": 1,
   "metadata": {},
   "outputs": [],
   "source": [
    "%load_ext autoreload\n",
    "%autoreload 2\n"
   ]
  },
  {
   "cell_type": "code",
   "execution_count": 2,
   "metadata": {},
   "outputs": [],
   "source": [
    "import pandas\n",
    "from LocalPD_External_Funds import BostonPD_External_Funds_Correction"
   ]
  },
  {
   "cell_type": "code",
   "execution_count": 3,
   "metadata": {},
   "outputs": [],
   "source": [
    "boston_external = BostonPD_External_Funds_Correction()"
   ]
  },
  {
   "cell_type": "code",
   "execution_count": 4,
   "metadata": {},
   "outputs": [
    {
     "data": {
      "text/html": [
       "<div>\n",
       "<style scoped>\n",
       "    .dataframe tbody tr th:only-of-type {\n",
       "        vertical-align: middle;\n",
       "    }\n",
       "\n",
       "    .dataframe tbody tr th {\n",
       "        vertical-align: top;\n",
       "    }\n",
       "\n",
       "    .dataframe thead th {\n",
       "        text-align: right;\n",
       "    }\n",
       "</style>\n",
       "<table border=\"1\" class=\"dataframe\">\n",
       "  <thead>\n",
       "    <tr style=\"text-align: right;\">\n",
       "      <th></th>\n",
       "      <th>2016</th>\n",
       "      <th>2017</th>\n",
       "      <th>2018</th>\n",
       "      <th>2019</th>\n",
       "    </tr>\n",
       "  </thead>\n",
       "  <tbody>\n",
       "    <tr>\n",
       "      <th>Total Federal/Private Grant Expenditures</th>\n",
       "      <td>4349426</td>\n",
       "      <td>2689144</td>\n",
       "      <td>1024447</td>\n",
       "      <td>1386617</td>\n",
       "    </tr>\n",
       "  </tbody>\n",
       "</table>\n",
       "</div>"
      ],
      "text/plain": [
       "                                             2016     2017     2018     2019\n",
       "Total Federal/Private Grant Expenditures  4349426  2689144  1024447  1386617"
      ]
     },
     "execution_count": 4,
     "metadata": {},
     "output_type": "execute_result"
    }
   ],
   "source": [
    "boston_external"
   ]
  },
  {
   "cell_type": "code",
   "execution_count": 9,
   "metadata": {},
   "outputs": [],
   "source": [
    "import os\n",
    "import sys\n",
    "sys.path.insert(0, os.path.abspath(\"..\"))\n",
    "from Agency_Classes import BostonPD"
   ]
  },
  {
   "cell_type": "code",
   "execution_count": 10,
   "metadata": {},
   "outputs": [
    {
     "name": "stdout",
     "output_type": "stream",
     "text": [
      "WARNING: BostonPD class in debug mode\n"
     ]
    },
    {
     "name": "stderr",
     "output_type": "stream",
     "text": [
      "PdfReadWarning: Xref table not zero-indexed. ID numbers for objects will be corrected. [pdf.py:1736]\n"
     ]
    }
   ],
   "source": [
    "boston = BostonPD()"
   ]
  },
  {
   "cell_type": "code",
   "execution_count": 11,
   "metadata": {
    "scrolled": false
   },
   "outputs": [],
   "source": [
    "boston.scrape()"
   ]
  },
  {
   "cell_type": "code",
   "execution_count": 12,
   "metadata": {},
   "outputs": [
    {
     "data": {
      "text/html": [
       "<div>\n",
       "<style scoped>\n",
       "    .dataframe tbody tr th:only-of-type {\n",
       "        vertical-align: middle;\n",
       "    }\n",
       "\n",
       "    .dataframe tbody tr th {\n",
       "        vertical-align: top;\n",
       "    }\n",
       "\n",
       "    .dataframe thead th {\n",
       "        text-align: right;\n",
       "    }\n",
       "</style>\n",
       "<table border=\"1\" class=\"dataframe\">\n",
       "  <thead>\n",
       "    <tr style=\"text-align: right;\">\n",
       "      <th></th>\n",
       "      <th>2016</th>\n",
       "      <th>2017</th>\n",
       "      <th>2018</th>\n",
       "      <th>2019</th>\n",
       "      <th>2020</th>\n",
       "      <th>2021</th>\n",
       "    </tr>\n",
       "  </thead>\n",
       "  <tbody>\n",
       "    <tr>\n",
       "      <th>Payroll Budget</th>\n",
       "      <td>297299985.000</td>\n",
       "      <td>325090384.000</td>\n",
       "      <td>340550136.677</td>\n",
       "      <td>364655518.158</td>\n",
       "      <td>376094339.676</td>\n",
       "      <td>378944425.091</td>\n",
       "    </tr>\n",
       "    <tr>\n",
       "      <th>OT Budget</th>\n",
       "      <td>35619489.000</td>\n",
       "      <td>54966556.000</td>\n",
       "      <td>57076768.867</td>\n",
       "      <td>60115115.432</td>\n",
       "      <td>61415244.222</td>\n",
       "      <td>61500643.365</td>\n",
       "    </tr>\n",
       "    <tr>\n",
       "      <th>Total Budget</th>\n",
       "      <td>346270043.000</td>\n",
       "      <td>382357930.000</td>\n",
       "      <td>398771956.177</td>\n",
       "      <td>431804254.631</td>\n",
       "      <td>430847584.757</td>\n",
       "      <td>443966221.442</td>\n",
       "    </tr>\n",
       "    <tr>\n",
       "      <th>Payroll Appropriation</th>\n",
       "      <td>301839026.000</td>\n",
       "      <td>331053719.245</td>\n",
       "      <td>353648386.370</td>\n",
       "      <td>366234564.173</td>\n",
       "      <td>376709076.481</td>\n",
       "      <td>0.000</td>\n",
       "    </tr>\n",
       "    <tr>\n",
       "      <th>OT Appropriation</th>\n",
       "      <td>37966592.000</td>\n",
       "      <td>55969576.695</td>\n",
       "      <td>59235426.538</td>\n",
       "      <td>60319549.828</td>\n",
       "      <td>62014215.824</td>\n",
       "      <td>0.000</td>\n",
       "    </tr>\n",
       "    <tr>\n",
       "      <th>Total Appropriation</th>\n",
       "      <td>350760263.000</td>\n",
       "      <td>385983400.075</td>\n",
       "      <td>415814299.648</td>\n",
       "      <td>432978547.121</td>\n",
       "      <td>432513408.594</td>\n",
       "      <td>0.000</td>\n",
       "    </tr>\n",
       "    <tr>\n",
       "      <th>Payroll Expenditures</th>\n",
       "      <td>322000476.071</td>\n",
       "      <td>335073541.833</td>\n",
       "      <td>360633372.807</td>\n",
       "      <td>374141609.986</td>\n",
       "      <td>0.000</td>\n",
       "      <td>0.000</td>\n",
       "    </tr>\n",
       "    <tr>\n",
       "      <th>OT Expenditures</th>\n",
       "      <td>57790620.075</td>\n",
       "      <td>60618685.866</td>\n",
       "      <td>68313585.252</td>\n",
       "      <td>70204917.968</td>\n",
       "      <td>0.000</td>\n",
       "      <td>0.000</td>\n",
       "    </tr>\n",
       "    <tr>\n",
       "      <th>Total Expenditures</th>\n",
       "      <td>359542733.000</td>\n",
       "      <td>380317500.000</td>\n",
       "      <td>426232971.000</td>\n",
       "      <td>431398084.000</td>\n",
       "      <td>0.000</td>\n",
       "      <td>0.000</td>\n",
       "    </tr>\n",
       "  </tbody>\n",
       "</table>\n",
       "</div>"
      ],
      "text/plain": [
       "                               2016          2017          2018          2019  \\\n",
       "Payroll Budget        297299985.000 325090384.000 340550136.677 364655518.158   \n",
       "OT Budget              35619489.000  54966556.000  57076768.867  60115115.432   \n",
       "Total Budget          346270043.000 382357930.000 398771956.177 431804254.631   \n",
       "Payroll Appropriation 301839026.000 331053719.245 353648386.370 366234564.173   \n",
       "OT Appropriation       37966592.000  55969576.695  59235426.538  60319549.828   \n",
       "Total Appropriation   350760263.000 385983400.075 415814299.648 432978547.121   \n",
       "Payroll Expenditures  322000476.071 335073541.833 360633372.807 374141609.986   \n",
       "OT Expenditures        57790620.075  60618685.866  68313585.252  70204917.968   \n",
       "Total Expenditures    359542733.000 380317500.000 426232971.000 431398084.000   \n",
       "\n",
       "                               2020          2021  \n",
       "Payroll Budget        376094339.676 378944425.091  \n",
       "OT Budget              61415244.222  61500643.365  \n",
       "Total Budget          430847584.757 443966221.442  \n",
       "Payroll Appropriation 376709076.481         0.000  \n",
       "OT Appropriation       62014215.824         0.000  \n",
       "Total Appropriation   432513408.594         0.000  \n",
       "Payroll Expenditures          0.000         0.000  \n",
       "OT Expenditures               0.000         0.000  \n",
       "Total Expenditures            0.000         0.000  "
      ]
     },
     "execution_count": 12,
     "metadata": {},
     "output_type": "execute_result"
    }
   ],
   "source": [
    "boston.budget_summary"
   ]
  }
 ],
 "metadata": {
  "kernelspec": {
   "display_name": "Python 3",
   "language": "python",
   "name": "python3"
  },
  "language_info": {
   "codemirror_mode": {
    "name": "ipython",
    "version": 3
   },
   "file_extension": ".py",
   "mimetype": "text/x-python",
   "name": "python",
   "nbconvert_exporter": "python",
   "pygments_lexer": "ipython3",
   "version": "3.7.6"
  }
 },
 "nbformat": 4,
 "nbformat_minor": 4
}
