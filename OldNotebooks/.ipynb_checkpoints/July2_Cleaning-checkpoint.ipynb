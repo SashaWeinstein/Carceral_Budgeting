{
 "cells": [
  {
   "cell_type": "markdown",
   "metadata": {},
   "source": [
    "# July 2nd Cleaning\n",
    "On July 2nd I have results for Bobby, but working against deadline kept me from cleaning my code as I went. So here is a notebook to make sure my cleaned code works and to make small upgrades"
   ]
  },
  {
   "cell_type": "code",
   "execution_count": 1,
   "metadata": {},
   "outputs": [],
   "source": [
    "%load_ext autoreload\n",
    "%autoreload 2"
   ]
  },
  {
   "cell_type": "code",
   "execution_count": 2,
   "metadata": {},
   "outputs": [
    {
     "name": "stderr",
     "output_type": "stream",
     "text": [
      "/Users/alexanderweinstein/Documents/Harris/Summer2020/Carceral_Budgeting/Exploratory/Agency_Classes.py:234: SettingWithCopyWarning: \n",
      "A value is trying to be set on a copy of a slice from a DataFrame.\n",
      "Try using .loc[row_indexer,col_indexer] = value instead\n",
      "\n",
      "See the caveats in the documentation: https://pandas.pydata.org/pandas-docs/stable/user_guide/indexing.html#returning-a-view-versus-a-copy\n",
      "  self.operating_budget[x] = self.operating_budget[x].str.replace(\",\", \"\")\n",
      "/Users/alexanderweinstein/Documents/Harris/Summer2020/Carceral_Budgeting/Exploratory/Agency_Classes.py:235: SettingWithCopyWarning: \n",
      "A value is trying to be set on a copy of a slice from a DataFrame.\n",
      "Try using .loc[row_indexer,col_indexer] = value instead\n",
      "\n",
      "See the caveats in the documentation: https://pandas.pydata.org/pandas-docs/stable/user_guide/indexing.html#returning-a-view-versus-a-copy\n",
      "  self.operating_budget[x] = self.operating_budget[x].str.replace(\"-\", \"0\").astype(float)\n"
     ]
    }
   ],
   "source": [
    "import pandas as pd\n",
    "import numpy as np\n",
    "import requests\n",
    "from PyPDF2 import PdfFileReader, PdfFileWriter\n",
    "import PyPDF2\n",
    "import textract\n",
    "import re\n",
    "import Exploratory_Main\n",
    "import Initialize_Agencies\n",
    "import Agency_Classes\n",
    "pd.set_option('display.float_format', lambda x: '%.3f' % x)"
   ]
  },
  {
   "cell_type": "markdown",
   "metadata": {},
   "source": [
    "Next task: write code to get info out of data/ChelseaPD/Budget_FY21_Chelsea.pdf"
   ]
  },
  {
   "cell_type": "code",
   "execution_count": 11,
   "metadata": {},
   "outputs": [],
   "source": [
    "chelsea = Agency_Classes.ChelseaPD()\n",
    "chelsea.from_PDF()"
   ]
  },
  {
   "cell_type": "code",
   "execution_count": 12,
   "metadata": {},
   "outputs": [
    {
     "data": {
      "text/plain": [
       "'      2017 2018 2019 2020 2021 Variance 2021 \\n% Variance \\nActual Actual Actual Adopted Proposed Req. - 2020 2021 Req. -Budget Budget Budget 2020 Budget Department # 210 0121051 G.F. - Police Salaries \\n510200 Regular Salary 7,703,345.52 8,142,212.70 9,619,372 9,491,238 9,477,091.00-14,147.00 -0.15%510400 Overtime 1,021,539.12 901,172.00 901,172 1,014,401 1,014,401.00 0.00 0.00%510500 Court Time\\n 370,562.83 410,908.87 462,010 520,061 520,061.00 0.00 0.00%510600 Out of Grade 6,636.71 3,091.64 18,629 20,971 20,971.00 0.00 0.00%510900 Narcan Stipend 51,500.00 52,000.00 53,500 55,000 53,500.00-1,500.00 -2.73%515200 COMP BUY-BACK\\n 0.00 0.00 0 0 0.00 0.00 0.00%515300 Holiday 49,642.57 48,872.33 85,579 96,333 96,333.00 0.00 0.00%515400 VACATION BUY-BACK\\n 0.00 0.00 0 0 0.00 0.00 0.00%515500 Uniform Allowance\\n 69,000.00 80,600.00 82,000 80,000 80,000.00 0.00 0.00%515600 Longevity 164,300.00 164,600.00 169,000 170,400 172,500.00 2,100.00 1.23%515900 Other Fringe-Fitness 0.00 0.00 0 0 0.00 0.00 0.00%517800 Compensation/Medical 0.00 0.00 0 0 0.00 0.00 0.00%519100 UNUSED SICK LEAVE BONUS\\n115,071.84 \\n120,000.00 135,000 135,000 135,000.00 0.00 0.00%Group Total: \\n9,551,598.59 9,923,457.54 11,526,261.80 \\n11,583,404.00 \\n11,569,857.00 \\n(13,547) -0.12 % 0121052 G.F. - Police Expenditures\\n521200 Lighting 78,931.22 73,604.74 81,460 90,000 90,000.00 0.00 0.00%522300 Postage 2,000.00 2,000.00 2,000 2,000 2,000.00 0.00 0.00%522400 Telephone Lines\\n 17,746.71 15,724.00 18,050 21,800 21,800.00 0.00 0.00%523200 RENT/LEASE EQUIPMENT 32,544.92 27,944.12 27,946 34,000 34,000.00 0.00 0.00%523300 Rent/Lease Software 8,008.00 6,950.00 4,988 7,721 7,721.00 0.00 0.00%523400 Rent/Lease Communications 1,165.09 1,390.48 1,323 2,000 2,000.00 0.00 0.00%523600 RENT/LEASE BUILDING 0.00 0.00 0 0 0.00 0.00 0.00%523700 LEASED PROPERTY\\n 69,996.49 69,669.44 69,417 71,500 71,500.00 0.00 0.00%524100 Building Maintenance 6,910.88 7,096.44 5,378 9,000 9,000.00 0.00 0.00%524300 Equipment Maint 120,068.17 149,741.77 125,693 146,500 146,500.00 0.00 0.00%524400 Vehicle Maintenance\\n 0.00 0.00 0 0 0.00 0.00 0.00%524500 Computer Maint 60,372.00 58,704.32 67,900 55,000 55,000.00 0.00 0.00%Page: 21 \\n'"
      ]
     },
     "execution_count": 12,
     "metadata": {},
     "output_type": "execute_result"
    }
   ],
   "source": []
  },
  {
   "cell_type": "code",
   "execution_count": null,
   "metadata": {},
   "outputs": [],
   "source": []
  }
 ],
 "metadata": {
  "kernelspec": {
   "display_name": "Python 3",
   "language": "python",
   "name": "python3"
  },
  "language_info": {
   "codemirror_mode": {
    "name": "ipython",
    "version": 3
   },
   "file_extension": ".py",
   "mimetype": "text/x-python",
   "name": "python",
   "nbconvert_exporter": "python",
   "pygments_lexer": "ipython3",
   "version": "3.7.6"
  }
 },
 "nbformat": 4,
 "nbformat_minor": 4
}
