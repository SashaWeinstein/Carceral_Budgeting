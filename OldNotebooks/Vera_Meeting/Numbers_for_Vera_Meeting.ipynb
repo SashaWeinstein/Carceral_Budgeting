{
 "cells": [
  {
   "cell_type": "markdown",
   "metadata": {},
   "source": [
    "Quickly throw some numbers together for Vera meeting"
   ]
  },
  {
   "cell_type": "code",
   "execution_count": 12,
   "metadata": {},
   "outputs": [
    {
     "name": "stdout",
     "output_type": "stream",
     "text": [
      "The autoreload extension is already loaded. To reload it, use:\n",
      "  %reload_ext autoreload\n"
     ]
    }
   ],
   "source": [
    "%load_ext autoreload\n",
    "%autoreload 2"
   ]
  },
  {
   "cell_type": "code",
   "execution_count": 18,
   "metadata": {},
   "outputs": [],
   "source": [
    "import pandas as pd\n",
    "import numpy as np\n",
    "import sys\n",
    "import os\n",
    "sys.path.insert(0, os.path.abspath('../'))\n",
    "sys.path.insert(0, os.path.abspath('../pensions'))\n",
    "from Agency_Classes import BostonPD\n",
    "from LocalPD_True_Payroll import Boston_total_earnings"
   ]
  },
  {
   "cell_type": "code",
   "execution_count": 14,
   "metadata": {},
   "outputs": [
    {
     "name": "stdout",
     "output_type": "stream",
     "text": [
      "Total Fraction of City payroll incuding teachers that goes to  Boston\n",
      "year\n",
      "2016   0.246\n",
      "2017   0.246\n",
      "2018   0.242\n",
      "2019   0.231\n",
      "Name: TOTAL EARNINGS, dtype: float64\n"
     ]
    }
   ],
   "source": [
    "boston = BostonPD()"
   ]
  },
  {
   "cell_type": "code",
   "execution_count": 15,
   "metadata": {},
   "outputs": [
    {
     "data": {
      "text/plain": [
       "2016    85651521.593\n",
       "2017    85886543.541\n",
       "2018   101811365.031\n",
       "2019   108950264.320\n",
       "dtype: object"
      ]
     },
     "execution_count": 15,
     "metadata": {},
     "output_type": "execute_result"
    }
   ],
   "source": [
    "boston.pension"
   ]
  },
  {
   "cell_type": "code",
   "execution_count": 16,
   "metadata": {},
   "outputs": [
    {
     "data": {
      "text/plain": [
       "2016   47360497.606\n",
       "2017   50851818.702\n",
       "2018   51431744.131\n",
       "2019   49433405.800\n",
       "dtype: object"
      ]
     },
     "execution_count": 16,
     "metadata": {},
     "output_type": "execute_result"
    }
   ],
   "source": [
    "boston.fringe"
   ]
  },
  {
   "cell_type": "code",
   "execution_count": 19,
   "metadata": {},
   "outputs": [],
   "source": [
    "boston_true_earnings = Boston_total_earnings()"
   ]
  },
  {
   "cell_type": "code",
   "execution_count": 21,
   "metadata": {},
   "outputs": [],
   "source": [
    "boston_true_earnings_2019 = boston_true_earnings[boston_true_earnings[\"year\"]==2019]"
   ]
  },
  {
   "cell_type": "code",
   "execution_count": 24,
   "metadata": {},
   "outputs": [
    {
     "data": {
      "text/plain": [
       "Index(['NAME', 'department', 'TITLE', 'REGULAR', 'RETRO', 'OTHER', 'OVERTIME',\n",
       "       'INJURED', 'DETAIL', 'QUINN/EDUCATION INCENTIVE', 'TOTAL EARNINGS',\n",
       "       'POSTAL', 'year'],\n",
       "      dtype='object')"
      ]
     },
     "execution_count": 24,
     "metadata": {},
     "output_type": "execute_result"
    }
   ],
   "source": [
    "boston_true_earnings_2019.columns"
   ]
  },
  {
   "cell_type": "code",
   "execution_count": 23,
   "metadata": {},
   "outputs": [
    {
     "data": {
      "text/plain": [
       "NAME                         Abadi,Kidani AAbajue Umeh,Kenechukwu Stephanie...\n",
       "department                   Assessing DepartmentBPS Boston Arts AcademyBos...\n",
       "TITLE                        Property Utilization OfficerTeacherPolice Offi...\n",
       "REGULAR                                                         1470657000.870\n",
       "RETRO                                                             34122856.390\n",
       "OTHER                                                             55433468.960\n",
       "OVERTIME                                                         127017515.860\n",
       "INJURED                                                           39958682.770\n",
       "DETAIL                                                            40698940.490\n",
       "QUINN/EDUCATION INCENTIVE                                         28871146.820\n",
       "TOTAL EARNINGS                                                  1796738085.860\n",
       "POSTAL                                                                57145995\n",
       "year                                                                  47066928\n",
       "dtype: object"
      ]
     },
     "execution_count": 23,
     "metadata": {},
     "output_type": "execute_result"
    }
   ],
   "source": [
    "boston_true_earnings_2019.sum()"
   ]
  },
  {
   "cell_type": "code",
   "execution_count": null,
   "metadata": {},
   "outputs": [],
   "source": []
  }
 ],
 "metadata": {
  "kernelspec": {
   "display_name": "Python 3",
   "language": "python",
   "name": "python3"
  },
  "language_info": {
   "codemirror_mode": {
    "name": "ipython",
    "version": 3
   },
   "file_extension": ".py",
   "mimetype": "text/x-python",
   "name": "python",
   "nbconvert_exporter": "python",
   "pygments_lexer": "ipython3",
   "version": "3.7.6"
  }
 },
 "nbformat": 4,
 "nbformat_minor": 4
}
