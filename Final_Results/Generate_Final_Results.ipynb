{
 "cells": [
  {
   "cell_type": "markdown",
   "metadata": {},
   "source": [
    "# Generate Final Results\n",
    "This notebook I will use to save each cost type, each agency correction, and the final numbers to a .csv. These .csv's we will use for visualizing results and checking code. The code here will also be the basis of my test code for refactoring."
   ]
  },
  {
   "cell_type": "markdown",
   "metadata": {},
   "source": [
    "## Set up Environment"
   ]
  },
  {
   "cell_type": "code",
   "execution_count": 29,
   "metadata": {},
   "outputs": [
    {
     "name": "stdout",
     "output_type": "stream",
     "text": [
      "The autoreload extension is already loaded. To reload it, use:\n",
      "  %reload_ext autoreload\n"
     ]
    }
   ],
   "source": [
    "%load_ext autoreload\n",
    "%autoreload 2"
   ]
  },
  {
   "cell_type": "code",
   "execution_count": 30,
   "metadata": {},
   "outputs": [],
   "source": [
    "import warnings\n",
    "warnings.simplefilter(action='ignore', category=FutureWarning)\n",
    "\n",
    "import pandas as pd\n",
    "import os\n",
    "import sys\n",
    "import numpy as np\n",
    "from sodapy import Socrata"
   ]
  },
  {
   "cell_type": "code",
   "execution_count": 31,
   "metadata": {},
   "outputs": [],
   "source": [
    "sys.path.insert(0, os.path.abspath(\"../\"))"
   ]
  },
  {
   "cell_type": "code",
   "execution_count": 87,
   "metadata": {},
   "outputs": [
    {
     "name": "stderr",
     "output_type": "stream",
     "text": [
      "/Users/alexanderweinstein/Documents/Harris/Summer2020/Carceral_Budgeting/Exploratory/Agency_Classes_2Ver.py:184: DtypeWarning: Columns (16) have mixed types.Specify dtype option on import or set low_memory=False.\n",
      "  self.get_expenditures_by_year()\n",
      "/Users/alexanderweinstein/Documents/Harris/Summer2020/Carceral_Budgeting/Exploratory/Agency_Classes_2Ver.py:178: DtypeWarning: Columns (16) have mixed types.Specify dtype option on import or set low_memory=False.\n",
      "  self.get_final_costs()\n",
      "/Users/alexanderweinstein/Documents/Harris/Summer2020/Carceral_Budgeting/Exploratory/Agency_Classes_2Ver.py:184: DtypeWarning: Columns (15,16) have mixed types.Specify dtype option on import or set low_memory=False.\n",
      "  self.get_expenditures_by_year()\n"
     ]
    },
    {
     "name": "stdout",
     "output_type": "stream",
     "text": [
      "got to add true earnings for Boston PD\n",
      "capital expenditures by year index is\n"
     ]
    },
    {
     "data": {
      "text/plain": [
       "2016     5441996\n",
       "2017     7909564\n",
       "2018    18625711\n",
       "2019     8502943\n",
       "2014      748832\n",
       "2015      688151\n",
       "dtype: int64"
      ]
     },
     "metadata": {},
     "output_type": "display_data"
    },
    {
     "name": "stdout",
     "output_type": "stream",
     "text": [
      "year range is\n"
     ]
    },
    {
     "data": {
      "text/plain": [
       "[2016, 2017, 2018, 2019, 2020, 2021]"
      ]
     },
     "metadata": {},
     "output_type": "display_data"
    },
    {
     "name": "stdout",
     "output_type": "stream",
     "text": [
      "got to add true earnings for Chelsea PD\n",
      "capital expenditures by year index is\n"
     ]
    },
    {
     "data": {
      "text/plain": [
       "2016   173000.000\n",
       "2017   164000.000\n",
       "2018   161438.910\n",
       "2019        0.000\n",
       "dtype: float64"
      ]
     },
     "metadata": {},
     "output_type": "display_data"
    },
    {
     "name": "stdout",
     "output_type": "stream",
     "text": [
      "year range is\n"
     ]
    },
    {
     "data": {
      "text/plain": [
       "[2016, 2017, 2018, 2019, 2020]"
      ]
     },
     "metadata": {},
     "output_type": "display_data"
    }
   ],
   "source": [
    "from Initialize_Agencies_3Ver import get_agencies\n",
    "yr = list(range(2016,2020))\n",
    "agencies = get_agencies(yr)"
   ]
  },
  {
   "cell_type": "markdown",
   "metadata": {},
   "source": [
    "## Save By Agency, Cost Type Pre-Correction"
   ]
  },
  {
   "cell_type": "markdown",
   "metadata": {},
   "source": [
    "Iterate through each agency, save each cost type to a line in a .csv\n"
   ]
  },
  {
   "cell_type": "markdown",
   "metadata": {},
   "source": [
    "This code I will also use for testing, iterate through each agency and list all that don't match"
   ]
  },
  {
   "cell_type": "code",
   "execution_count": 88,
   "metadata": {},
   "outputs": [],
   "source": [
    "final_by_agency_type_pre_correction = pd.DataFrame(columns=[\"Agency\"] + [\"Cost Type\"] + yr)\n"
   ]
  },
  {
   "cell_type": "code",
   "execution_count": 89,
   "metadata": {},
   "outputs": [],
   "source": [
    "for _, agency in agencies.items():\n",
    "    final_by_agency_type_pre_correction.loc[agency.alias + \" Payroll Costs\"] = \\\n",
    "     [agency.alias]  + [\"Payroll\"] + list(agency.payroll_by_year)\n",
    "    final_by_agency_type_pre_correction.loc[agency.alias + \" Non-Payroll Operating Costs\"] = \\\n",
    "     [agency.alias] + [\"Non-Payroll Operating\"] + list(agency.non_payroll_operating_expenditures_by_year)\n",
    "    final_by_agency_type_pre_correction.loc[agency.alias + \" Pension Costs\"] =  \\\n",
    "     [agency.alias] + [\"Pensions\"] + list(agency.pensions)\n",
    "    final_by_agency_type_pre_correction.loc[agency.alias + \" Fringe Benefit Costs\"] = \\\n",
    "     [agency.alias] + [\"Fringe Benefits\"] + list(agency.fringe)\n",
    "    final_by_agency_type_pre_correction.loc[agency.alias + \" Capital Costs\"] = \\\n",
    "     [agency.alias] + [\"Capital\"] + list(agency.capital_expenditures_by_year)"
   ]
  },
  {
   "cell_type": "code",
   "execution_count": 35,
   "metadata": {},
   "outputs": [],
   "source": [
    "final_by_agency_type_pre_correction.to_csv(\"Final_By_Agency_Type_preCorrection_Dec27.csv\")"
   ]
  },
  {
   "cell_type": "markdown",
   "metadata": {},
   "source": [
    "## Save By Agency, Cost Type After Correction"
   ]
  },
  {
   "cell_type": "code",
   "execution_count": 94,
   "metadata": {},
   "outputs": [],
   "source": [
    "final_by_agency_type = pd.DataFrame(columns=[\"Agency\"] + [\"Cost Type\"] + yr)\n",
    "for _, agency in agencies.items():\n",
    "    final_by_agency_type.loc[agency.alias + \" Payroll Costs\"] = \\\n",
    "     [agency.alias]  + [\"Payroll\"] + list(agency.correction_function(agency.payroll_by_year))\n",
    "    final_by_agency_type.loc[agency.alias + \" Non-Payroll Operating Costs\"] = \\\n",
    "     [agency.alias] + [\"Non-Payroll Operating\"] +\\\n",
    "     list(agency.correction_function(agency.non_payroll_operating_expenditures_by_year))\n",
    "    final_by_agency_type.loc[agency.alias + \" Pension Costs\"] =  \\\n",
    "     [agency.alias] + [\"Pensions\"] + list(agency.correction_function(agency.pensions))\n",
    "    final_by_agency_type.loc[agency.alias + \" Fringe Benefit Costs\"] = \\\n",
    "     [agency.alias] + [\"Fringe Benefits\"] + list(agency.correction_function(agency.fringe))\n",
    "    final_by_agency_type.loc[agency.alias + \" Capital Costs\"] = \\\n",
    "     [agency.alias] + [\"Capital\"] + list(agency.correction_function(agency.capital_expenditures_by_year))"
   ]
  },
  {
   "cell_type": "code",
   "execution_count": 95,
   "metadata": {},
   "outputs": [
    {
     "data": {
      "text/html": [
       "<div>\n",
       "<style scoped>\n",
       "    .dataframe tbody tr th:only-of-type {\n",
       "        vertical-align: middle;\n",
       "    }\n",
       "\n",
       "    .dataframe tbody tr th {\n",
       "        vertical-align: top;\n",
       "    }\n",
       "\n",
       "    .dataframe thead th {\n",
       "        text-align: right;\n",
       "    }\n",
       "</style>\n",
       "<table border=\"1\" class=\"dataframe\">\n",
       "  <thead>\n",
       "    <tr style=\"text-align: right;\">\n",
       "      <th></th>\n",
       "      <th>Agency</th>\n",
       "      <th>Cost Type</th>\n",
       "      <th>2016</th>\n",
       "      <th>2017</th>\n",
       "      <th>2018</th>\n",
       "      <th>2019</th>\n",
       "    </tr>\n",
       "  </thead>\n",
       "  <tbody>\n",
       "    <tr>\n",
       "      <th>trial_court Payroll Costs</th>\n",
       "      <td>trial_court</td>\n",
       "      <td>Payroll</td>\n",
       "      <td>23972722.911</td>\n",
       "      <td>22938605.953</td>\n",
       "      <td>25815412.064</td>\n",
       "      <td>28271447.043</td>\n",
       "    </tr>\n",
       "    <tr>\n",
       "      <th>trial_court Non-Payroll Operating Costs</th>\n",
       "      <td>trial_court</td>\n",
       "      <td>Non-Payroll Operating</td>\n",
       "      <td>5459896.759</td>\n",
       "      <td>5063328.750</td>\n",
       "      <td>5631905.902</td>\n",
       "      <td>6725293.128</td>\n",
       "    </tr>\n",
       "    <tr>\n",
       "      <th>trial_court Pension Costs</th>\n",
       "      <td>trial_court</td>\n",
       "      <td>Pensions</td>\n",
       "      <td>3568017.523</td>\n",
       "      <td>3772546.408</td>\n",
       "      <td>4348113.459</td>\n",
       "      <td>4929516.703</td>\n",
       "    </tr>\n",
       "    <tr>\n",
       "      <th>trial_court Fringe Benefit Costs</th>\n",
       "      <td>trial_court</td>\n",
       "      <td>Fringe Benefits</td>\n",
       "      <td>9601913.337</td>\n",
       "      <td>9130258.367</td>\n",
       "      <td>9596799.087</td>\n",
       "      <td>10122247.192</td>\n",
       "    </tr>\n",
       "    <tr>\n",
       "      <th>trial_court Capital Costs</th>\n",
       "      <td>trial_court</td>\n",
       "      <td>Capital</td>\n",
       "      <td>3687547.641</td>\n",
       "      <td>3166614.121</td>\n",
       "      <td>3658071.571</td>\n",
       "      <td>3719111.121</td>\n",
       "    </tr>\n",
       "    <tr>\n",
       "      <th>...</th>\n",
       "      <td>...</td>\n",
       "      <td>...</td>\n",
       "      <td>...</td>\n",
       "      <td>...</td>\n",
       "      <td>...</td>\n",
       "      <td>...</td>\n",
       "    </tr>\n",
       "    <tr>\n",
       "      <th>Winthrop PD Payroll Costs</th>\n",
       "      <td>Winthrop PD</td>\n",
       "      <td>Payroll</td>\n",
       "      <td>2842909.000</td>\n",
       "      <td>2927191.000</td>\n",
       "      <td>3066911.000</td>\n",
       "      <td>3803402.000</td>\n",
       "    </tr>\n",
       "    <tr>\n",
       "      <th>Winthrop PD Non-Payroll Operating Costs</th>\n",
       "      <td>Winthrop PD</td>\n",
       "      <td>Non-Payroll Operating</td>\n",
       "      <td>194777.000</td>\n",
       "      <td>185439.000</td>\n",
       "      <td>224594.000</td>\n",
       "      <td>233533.000</td>\n",
       "    </tr>\n",
       "    <tr>\n",
       "      <th>Winthrop PD Pension Costs</th>\n",
       "      <td>Winthrop PD</td>\n",
       "      <td>Pensions</td>\n",
       "      <td>912028.782</td>\n",
       "      <td>702707.081</td>\n",
       "      <td>745260.916</td>\n",
       "      <td>748358.573</td>\n",
       "    </tr>\n",
       "    <tr>\n",
       "      <th>Winthrop PD Fringe Benefit Costs</th>\n",
       "      <td>Winthrop PD</td>\n",
       "      <td>Fringe Benefits</td>\n",
       "      <td>794997.427</td>\n",
       "      <td>1188270.591</td>\n",
       "      <td>1108502.513</td>\n",
       "      <td>1116049.008</td>\n",
       "    </tr>\n",
       "    <tr>\n",
       "      <th>Winthrop PD Capital Costs</th>\n",
       "      <td>Winthrop PD</td>\n",
       "      <td>Capital</td>\n",
       "      <td>0.000</td>\n",
       "      <td>39393.000</td>\n",
       "      <td>40000.000</td>\n",
       "      <td>0.000</td>\n",
       "    </tr>\n",
       "  </tbody>\n",
       "</table>\n",
       "<p>85 rows × 6 columns</p>\n",
       "</div>"
      ],
      "text/plain": [
       "                                              Agency              Cost Type  \\\n",
       "trial_court Payroll Costs                trial_court                Payroll   \n",
       "trial_court Non-Payroll Operating Costs  trial_court  Non-Payroll Operating   \n",
       "trial_court Pension Costs                trial_court               Pensions   \n",
       "trial_court Fringe Benefit Costs         trial_court        Fringe Benefits   \n",
       "trial_court Capital Costs                trial_court                Capital   \n",
       "...                                              ...                    ...   \n",
       "Winthrop PD Payroll Costs                Winthrop PD                Payroll   \n",
       "Winthrop PD Non-Payroll Operating Costs  Winthrop PD  Non-Payroll Operating   \n",
       "Winthrop PD Pension Costs                Winthrop PD               Pensions   \n",
       "Winthrop PD Fringe Benefit Costs         Winthrop PD        Fringe Benefits   \n",
       "Winthrop PD Capital Costs                Winthrop PD                Capital   \n",
       "\n",
       "                                                2016         2017  \\\n",
       "trial_court Payroll Costs               23972722.911 22938605.953   \n",
       "trial_court Non-Payroll Operating Costs  5459896.759  5063328.750   \n",
       "trial_court Pension Costs                3568017.523  3772546.408   \n",
       "trial_court Fringe Benefit Costs         9601913.337  9130258.367   \n",
       "trial_court Capital Costs                3687547.641  3166614.121   \n",
       "...                                              ...          ...   \n",
       "Winthrop PD Payroll Costs                2842909.000  2927191.000   \n",
       "Winthrop PD Non-Payroll Operating Costs   194777.000   185439.000   \n",
       "Winthrop PD Pension Costs                 912028.782   702707.081   \n",
       "Winthrop PD Fringe Benefit Costs          794997.427  1188270.591   \n",
       "Winthrop PD Capital Costs                      0.000    39393.000   \n",
       "\n",
       "                                                2018         2019  \n",
       "trial_court Payroll Costs               25815412.064 28271447.043  \n",
       "trial_court Non-Payroll Operating Costs  5631905.902  6725293.128  \n",
       "trial_court Pension Costs                4348113.459  4929516.703  \n",
       "trial_court Fringe Benefit Costs         9596799.087 10122247.192  \n",
       "trial_court Capital Costs                3658071.571  3719111.121  \n",
       "...                                              ...          ...  \n",
       "Winthrop PD Payroll Costs                3066911.000  3803402.000  \n",
       "Winthrop PD Non-Payroll Operating Costs   224594.000   233533.000  \n",
       "Winthrop PD Pension Costs                 745260.916   748358.573  \n",
       "Winthrop PD Fringe Benefit Costs         1108502.513  1116049.008  \n",
       "Winthrop PD Capital Costs                  40000.000        0.000  \n",
       "\n",
       "[85 rows x 6 columns]"
      ]
     },
     "execution_count": 95,
     "metadata": {},
     "output_type": "execute_result"
    }
   ],
   "source": [
    "final_by_agency_type"
   ]
  },
  {
   "cell_type": "code",
   "execution_count": 38,
   "metadata": {},
   "outputs": [],
   "source": [
    "final_by_agency_type.to_csv(\"Final_by_Agency_Type_Dec27.csv\")"
   ]
  },
  {
   "cell_type": "markdown",
   "metadata": {},
   "source": [
    "## Save By Agency"
   ]
  },
  {
   "cell_type": "code",
   "execution_count": 98,
   "metadata": {},
   "outputs": [],
   "source": [
    "final_by_agency = final_by_agency_type.groupby(\"Agency\").sum()[yr]\n",
    "final_by_agency.to_csv(\"Final_by_Agency_Dec27.csv\")"
   ]
  },
  {
   "cell_type": "markdown",
   "metadata": {},
   "source": [
    "## Save by Cost Type"
   ]
  },
  {
   "cell_type": "code",
   "execution_count": 99,
   "metadata": {},
   "outputs": [],
   "source": [
    "final_by_cost_type = final_by_agency_type.groupby(\"Cost Type\").sum()[yr]\n",
    "final_by_cost_type.to_csv(\"Final_by_CostType_Dec27.csv\")"
   ]
  },
  {
   "cell_type": "markdown",
   "metadata": {},
   "source": [
    "## Save By Year"
   ]
  },
  {
   "cell_type": "code",
   "execution_count": 100,
   "metadata": {},
   "outputs": [],
   "source": [
    "final_by_year = final_by_agency.sum()[yr]\n",
    "final_by_year.to_csv(\"Final_by_Year_Dec27.csv\")"
   ]
  },
  {
   "cell_type": "markdown",
   "metadata": {},
   "source": [
    "## Save Agency Corrections"
   ]
  },
  {
   "cell_type": "code",
   "execution_count": 103,
   "metadata": {},
   "outputs": [],
   "source": [
    "from Agency_Corrections import all_agency_corrections\n",
    "Agency_Corrections = all_agency_corrections()\n",
    "Agency_Corrections.to_csv(\"Agency_Corrections_Dec27.csv\")"
   ]
  }
 ],
 "metadata": {
  "kernelspec": {
   "display_name": "Python 3",
   "language": "python",
   "name": "python3"
  },
  "language_info": {
   "codemirror_mode": {
    "name": "ipython",
    "version": 3
   },
   "file_extension": ".py",
   "mimetype": "text/x-python",
   "name": "python",
   "nbconvert_exporter": "python",
   "pygments_lexer": "ipython3",
   "version": "3.7.6"
  }
 },
 "nbformat": 4,
 "nbformat_minor": 4
}
