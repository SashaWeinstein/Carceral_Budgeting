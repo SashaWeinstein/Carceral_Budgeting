{
 "cells": [
  {
   "cell_type": "markdown",
   "metadata": {},
   "source": [
    "# Generate Final Results\n",
    "This notebook I will use to save each cost type, each agency correction, and the final numbers to a .csv. These .csv's we will use for visualizing results and checking code. The code here will also be the basis of my test code for refactoring."
   ]
  },
  {
   "cell_type": "markdown",
   "metadata": {},
   "source": [
    "## Set up Environment"
   ]
  },
  {
   "cell_type": "code",
   "execution_count": 18,
   "metadata": {},
   "outputs": [
    {
     "name": "stderr",
     "output_type": "stream",
     "text": [
      "/opt/anaconda3/lib/python3.7/importlib/__init__.py:169: DtypeWarning: Columns (16) have mixed types.Specify dtype option on import or set low_memory=False.\n",
      "  _bootstrap._exec(spec, module)\n"
     ]
    },
    {
     "name": "stdout",
     "output_type": "stream",
     "text": [
      "The autoreload extension is already loaded. To reload it, use:\n",
      "  %reload_ext autoreload\n"
     ]
    }
   ],
   "source": [
    "%load_ext autoreload\n",
    "%autoreload 2"
   ]
  },
  {
   "cell_type": "code",
   "execution_count": 19,
   "metadata": {},
   "outputs": [],
   "source": [
    "import warnings\n",
    "warnings.simplefilter(action='ignore', category=FutureWarning)\n",
    "\n",
    "import pandas as pd\n",
    "import os\n",
    "import sys\n",
    "import numpy as np\n",
    "from sodapy import Socrata"
   ]
  },
  {
   "cell_type": "code",
   "execution_count": 20,
   "metadata": {},
   "outputs": [],
   "source": [
    "sys.path.insert(0, os.path.abspath(\"../\"))"
   ]
  },
  {
   "cell_type": "code",
   "execution_count": 21,
   "metadata": {},
   "outputs": [
    {
     "name": "stderr",
     "output_type": "stream",
     "text": [
      "/Users/alexanderweinstein/Documents/Harris/Summer2020/Carceral_Budgeting/Exploratory/Agency_Classes/State_Agency.py:72: DtypeWarning: Columns (16) have mixed types.Specify dtype option on import or set low_memory=False.\n",
      "  # Code to get payroll fraction should be moved somewhere else\n",
      "/Users/alexanderweinstein/Documents/Harris/Summer2020/Carceral_Budgeting/Exploratory/Agency_Classes/State_Agency.py:72: DtypeWarning: Columns (15,16) have mixed types.Specify dtype option on import or set low_memory=False.\n",
      "  # Code to get payroll fraction should be moved somewhere else\n"
     ]
    }
   ],
   "source": [
    "from Initialize_Agencies import get_agencies\n",
    "yr = list(range(2016,2020))\n",
    "agencies = get_agencies(yr)"
   ]
  },
  {
   "cell_type": "markdown",
   "metadata": {},
   "source": [
    "## Save By Agency, Cost Type Pre-Correction"
   ]
  },
  {
   "cell_type": "markdown",
   "metadata": {},
   "source": [
    "Iterate through each agency, save each cost type to a line in a .csv\n"
   ]
  },
  {
   "cell_type": "markdown",
   "metadata": {},
   "source": [
    "This code I will also use for testing, iterate through each agency and list all that don't match"
   ]
  },
  {
   "cell_type": "code",
   "execution_count": 22,
   "metadata": {},
   "outputs": [],
   "source": [
    "final_by_agency_type_pre_correction = pd.DataFrame(columns=[\"Agency\", \"Category \", \"Cost Type\"] + yr)\n"
   ]
  },
  {
   "cell_type": "code",
   "execution_count": 23,
   "metadata": {},
   "outputs": [],
   "source": [
    "for _, agency in agencies.items():\n",
    "    final_by_agency_type_pre_correction.loc[agency.alias + \" Payroll Costs\"] = \\\n",
    "     [agency.alias, agency.category, \"Payroll\"] + list(agency.payroll_by_year)\n",
    "    final_by_agency_type_pre_correction.loc[agency.alias + \" Non-Payroll Operating Costs\"] = \\\n",
    "     [agency.alias, agency.category, \"Non-Payroll Operating\"] + list(agency.non_payroll_operating_expenditures_by_year)\n",
    "    final_by_agency_type_pre_correction.loc[agency.alias + \" Pension Costs\"] =  \\\n",
    "     [agency.alias, agency.category, \"Pensions\"] + list(agency.pensions)\n",
    "    final_by_agency_type_pre_correction.loc[agency.alias + \" Fringe Benefit Costs\"] = \\\n",
    "     [agency.alias, agency.category,\"Fringe Benefits\"] + list(agency.fringe)\n",
    "    final_by_agency_type_pre_correction.loc[agency.alias + \" Capital Costs\"] = \\\n",
    "     [agency.alias, agency.category, \"Capital\"] + list(agency.capital_expenditures_by_year)"
   ]
  },
  {
   "cell_type": "code",
   "execution_count": 24,
   "metadata": {},
   "outputs": [],
   "source": [
    "final_by_agency_type_pre_correction.to_csv(\"Final_By_Agency_Type_preCorrection.csv\")"
   ]
  },
  {
   "cell_type": "markdown",
   "metadata": {},
   "source": [
    "## Save By Agency, Cost Type After Correction"
   ]
  },
  {
   "cell_type": "code",
   "execution_count": 25,
   "metadata": {},
   "outputs": [],
   "source": [
    "final_by_agency_type = pd.DataFrame(columns=[\"Agency\", \"Category\", \"Cost Type\"] + yr)\n",
    "for _, agency in agencies.items():\n",
    "    final_by_agency_type.loc[agency.alias + \" Payroll Costs\"] = \\\n",
    "     [agency.alias, agency.category, \"Payroll\"] + list(agency.correction_function(agency.payroll_by_year))\n",
    "    final_by_agency_type.loc[agency.alias + \" Non-Payroll Operating Costs\"] = \\\n",
    "     [agency.alias, agency.category, \"Non-Payroll Operating\"] +\\\n",
    "     list(agency.correction_function(agency.non_payroll_operating_expenditures_by_year))\n",
    "    final_by_agency_type.loc[agency.alias + \" Pension Costs\"] =  \\\n",
    "     [agency.alias, agency.category, \"Pensions\"] + list(agency.correction_function(agency.pensions))\n",
    "    final_by_agency_type.loc[agency.alias + \" Fringe Benefit Costs\"] = \\\n",
    "     [agency.alias, agency.category, \"Fringe Benefits\"] + list(agency.correction_function(agency.fringe))\n",
    "    final_by_agency_type.loc[agency.alias + \" Capital Costs\"] = \\\n",
    "     [agency.alias, agency.category, \"Capital\"] + list(agency.correction_function(agency.capital_expenditures_by_year))"
   ]
  },
  {
   "cell_type": "code",
   "execution_count": 26,
   "metadata": {},
   "outputs": [
    {
     "data": {
      "text/html": [
       "<div>\n",
       "<style scoped>\n",
       "    .dataframe tbody tr th:only-of-type {\n",
       "        vertical-align: middle;\n",
       "    }\n",
       "\n",
       "    .dataframe tbody tr th {\n",
       "        vertical-align: top;\n",
       "    }\n",
       "\n",
       "    .dataframe thead th {\n",
       "        text-align: right;\n",
       "    }\n",
       "</style>\n",
       "<table border=\"1\" class=\"dataframe\">\n",
       "  <thead>\n",
       "    <tr style=\"text-align: right;\">\n",
       "      <th></th>\n",
       "      <th>Agency</th>\n",
       "      <th>Category</th>\n",
       "      <th>Cost Type</th>\n",
       "      <th>2016</th>\n",
       "      <th>2017</th>\n",
       "      <th>2018</th>\n",
       "      <th>2019</th>\n",
       "    </tr>\n",
       "  </thead>\n",
       "  <tbody>\n",
       "    <tr>\n",
       "      <th>trial_court Payroll Costs</th>\n",
       "      <td>trial_court</td>\n",
       "      <td>Legal</td>\n",
       "      <td>Payroll</td>\n",
       "      <td>23942820.499</td>\n",
       "      <td>22913410.463</td>\n",
       "      <td>25791232.240</td>\n",
       "      <td>26569925.657</td>\n",
       "    </tr>\n",
       "    <tr>\n",
       "      <th>trial_court Non-Payroll Operating Costs</th>\n",
       "      <td>trial_court</td>\n",
       "      <td>Legal</td>\n",
       "      <td>Non-Payroll Operating</td>\n",
       "      <td>5459896.759</td>\n",
       "      <td>5063328.750</td>\n",
       "      <td>5631905.902</td>\n",
       "      <td>6328724.312</td>\n",
       "    </tr>\n",
       "    <tr>\n",
       "      <th>trial_court Pension Costs</th>\n",
       "      <td>trial_court</td>\n",
       "      <td>Legal</td>\n",
       "      <td>Pensions</td>\n",
       "      <td>3568017.523</td>\n",
       "      <td>3772546.408</td>\n",
       "      <td>4348113.459</td>\n",
       "      <td>4638839.023</td>\n",
       "    </tr>\n",
       "    <tr>\n",
       "      <th>trial_court Fringe Benefit Costs</th>\n",
       "      <td>trial_court</td>\n",
       "      <td>Legal</td>\n",
       "      <td>Fringe Benefits</td>\n",
       "      <td>9590332.248</td>\n",
       "      <td>9120575.368</td>\n",
       "      <td>9588149.051</td>\n",
       "      <td>9513513.420</td>\n",
       "    </tr>\n",
       "    <tr>\n",
       "      <th>trial_court Capital Costs</th>\n",
       "      <td>trial_court</td>\n",
       "      <td>Legal</td>\n",
       "      <td>Capital</td>\n",
       "      <td>3687547.641</td>\n",
       "      <td>3166614.121</td>\n",
       "      <td>3658071.571</td>\n",
       "      <td>3499807.149</td>\n",
       "    </tr>\n",
       "    <tr>\n",
       "      <th>...</th>\n",
       "      <td>...</td>\n",
       "      <td>...</td>\n",
       "      <td>...</td>\n",
       "      <td>...</td>\n",
       "      <td>...</td>\n",
       "      <td>...</td>\n",
       "      <td>...</td>\n",
       "    </tr>\n",
       "    <tr>\n",
       "      <th>Winthrop PD Payroll Costs</th>\n",
       "      <td>Winthrop PD</td>\n",
       "      <td>Police</td>\n",
       "      <td>Payroll</td>\n",
       "      <td>2842909.000</td>\n",
       "      <td>2927191.000</td>\n",
       "      <td>3066911.000</td>\n",
       "      <td>3803402.000</td>\n",
       "    </tr>\n",
       "    <tr>\n",
       "      <th>Winthrop PD Non-Payroll Operating Costs</th>\n",
       "      <td>Winthrop PD</td>\n",
       "      <td>Police</td>\n",
       "      <td>Non-Payroll Operating</td>\n",
       "      <td>194777.000</td>\n",
       "      <td>185439.000</td>\n",
       "      <td>224594.000</td>\n",
       "      <td>233533.000</td>\n",
       "    </tr>\n",
       "    <tr>\n",
       "      <th>Winthrop PD Pension Costs</th>\n",
       "      <td>Winthrop PD</td>\n",
       "      <td>Police</td>\n",
       "      <td>Pensions</td>\n",
       "      <td>912028.782</td>\n",
       "      <td>702707.081</td>\n",
       "      <td>745260.916</td>\n",
       "      <td>748358.573</td>\n",
       "    </tr>\n",
       "    <tr>\n",
       "      <th>Winthrop PD Fringe Benefit Costs</th>\n",
       "      <td>Winthrop PD</td>\n",
       "      <td>Police</td>\n",
       "      <td>Fringe Benefits</td>\n",
       "      <td>794997.427</td>\n",
       "      <td>1188270.591</td>\n",
       "      <td>1108502.513</td>\n",
       "      <td>1116049.008</td>\n",
       "    </tr>\n",
       "    <tr>\n",
       "      <th>Winthrop PD Capital Costs</th>\n",
       "      <td>Winthrop PD</td>\n",
       "      <td>Police</td>\n",
       "      <td>Capital</td>\n",
       "      <td>0.000</td>\n",
       "      <td>39393.000</td>\n",
       "      <td>40000.000</td>\n",
       "      <td>0.000</td>\n",
       "    </tr>\n",
       "  </tbody>\n",
       "</table>\n",
       "<p>85 rows × 7 columns</p>\n",
       "</div>"
      ],
      "text/plain": [
       "                                              Agency Category  \\\n",
       "trial_court Payroll Costs                trial_court    Legal   \n",
       "trial_court Non-Payroll Operating Costs  trial_court    Legal   \n",
       "trial_court Pension Costs                trial_court    Legal   \n",
       "trial_court Fringe Benefit Costs         trial_court    Legal   \n",
       "trial_court Capital Costs                trial_court    Legal   \n",
       "...                                              ...      ...   \n",
       "Winthrop PD Payroll Costs                Winthrop PD   Police   \n",
       "Winthrop PD Non-Payroll Operating Costs  Winthrop PD   Police   \n",
       "Winthrop PD Pension Costs                Winthrop PD   Police   \n",
       "Winthrop PD Fringe Benefit Costs         Winthrop PD   Police   \n",
       "Winthrop PD Capital Costs                Winthrop PD   Police   \n",
       "\n",
       "                                                     Cost Type         2016  \\\n",
       "trial_court Payroll Costs                              Payroll 23942820.499   \n",
       "trial_court Non-Payroll Operating Costs  Non-Payroll Operating  5459896.759   \n",
       "trial_court Pension Costs                             Pensions  3568017.523   \n",
       "trial_court Fringe Benefit Costs               Fringe Benefits  9590332.248   \n",
       "trial_court Capital Costs                              Capital  3687547.641   \n",
       "...                                                        ...          ...   \n",
       "Winthrop PD Payroll Costs                              Payroll  2842909.000   \n",
       "Winthrop PD Non-Payroll Operating Costs  Non-Payroll Operating   194777.000   \n",
       "Winthrop PD Pension Costs                             Pensions   912028.782   \n",
       "Winthrop PD Fringe Benefit Costs               Fringe Benefits   794997.427   \n",
       "Winthrop PD Capital Costs                              Capital        0.000   \n",
       "\n",
       "                                                2017         2018         2019  \n",
       "trial_court Payroll Costs               22913410.463 25791232.240 26569925.657  \n",
       "trial_court Non-Payroll Operating Costs  5063328.750  5631905.902  6328724.312  \n",
       "trial_court Pension Costs                3772546.408  4348113.459  4638839.023  \n",
       "trial_court Fringe Benefit Costs         9120575.368  9588149.051  9513513.420  \n",
       "trial_court Capital Costs                3166614.121  3658071.571  3499807.149  \n",
       "...                                              ...          ...          ...  \n",
       "Winthrop PD Payroll Costs                2927191.000  3066911.000  3803402.000  \n",
       "Winthrop PD Non-Payroll Operating Costs   185439.000   224594.000   233533.000  \n",
       "Winthrop PD Pension Costs                 702707.081   745260.916   748358.573  \n",
       "Winthrop PD Fringe Benefit Costs         1188270.591  1108502.513  1116049.008  \n",
       "Winthrop PD Capital Costs                  39393.000    40000.000        0.000  \n",
       "\n",
       "[85 rows x 7 columns]"
      ]
     },
     "execution_count": 26,
     "metadata": {},
     "output_type": "execute_result"
    }
   ],
   "source": [
    "final_by_agency_type"
   ]
  },
  {
   "cell_type": "code",
   "execution_count": 27,
   "metadata": {},
   "outputs": [],
   "source": [
    "final_by_agency_type.to_csv(\"Final_by_Agency_Type.csv\")"
   ]
  },
  {
   "cell_type": "markdown",
   "metadata": {},
   "source": [
    "## Save By Agency"
   ]
  },
  {
   "cell_type": "code",
   "execution_count": 28,
   "metadata": {},
   "outputs": [
    {
     "data": {
      "text/html": [
       "<div>\n",
       "<style scoped>\n",
       "    .dataframe tbody tr th:only-of-type {\n",
       "        vertical-align: middle;\n",
       "    }\n",
       "\n",
       "    .dataframe tbody tr th {\n",
       "        vertical-align: top;\n",
       "    }\n",
       "\n",
       "    .dataframe thead th {\n",
       "        text-align: right;\n",
       "    }\n",
       "</style>\n",
       "<table border=\"1\" class=\"dataframe\">\n",
       "  <thead>\n",
       "    <tr style=\"text-align: right;\">\n",
       "      <th></th>\n",
       "      <th>2016</th>\n",
       "      <th>2017</th>\n",
       "      <th>2018</th>\n",
       "      <th>2019</th>\n",
       "    </tr>\n",
       "    <tr>\n",
       "      <th>Agency</th>\n",
       "      <th></th>\n",
       "      <th></th>\n",
       "      <th></th>\n",
       "      <th></th>\n",
       "    </tr>\n",
       "  </thead>\n",
       "  <tbody>\n",
       "    <tr>\n",
       "      <th>Appeals_Court</th>\n",
       "      <td>1547196.108</td>\n",
       "      <td>1419499.865</td>\n",
       "      <td>1523190.353</td>\n",
       "      <td>1352878.223</td>\n",
       "    </tr>\n",
       "    <tr>\n",
       "      <th>Boston PD</th>\n",
       "      <td>505295398.776</td>\n",
       "      <td>539004549.802</td>\n",
       "      <td>592154739.253</td>\n",
       "      <td>609365362.557</td>\n",
       "    </tr>\n",
       "    <tr>\n",
       "      <th>CJT</th>\n",
       "      <td>789737.676</td>\n",
       "      <td>764593.845</td>\n",
       "      <td>700679.541</td>\n",
       "      <td>744786.649</td>\n",
       "    </tr>\n",
       "    <tr>\n",
       "      <th>CPCS</th>\n",
       "      <td>11461273.528</td>\n",
       "      <td>11752183.547</td>\n",
       "      <td>12760778.158</td>\n",
       "      <td>13596091.328</td>\n",
       "    </tr>\n",
       "    <tr>\n",
       "      <th>Chelsea PD</th>\n",
       "      <td>15887199.313</td>\n",
       "      <td>16413979.162</td>\n",
       "      <td>18402542.508</td>\n",
       "      <td>13503387.418</td>\n",
       "    </tr>\n",
       "    <tr>\n",
       "      <th>DAA</th>\n",
       "      <td>459508.728</td>\n",
       "      <td>462713.638</td>\n",
       "      <td>465143.794</td>\n",
       "      <td>482893.044</td>\n",
       "    </tr>\n",
       "    <tr>\n",
       "      <th>DOC</th>\n",
       "      <td>126408522.006</td>\n",
       "      <td>118321272.736</td>\n",
       "      <td>138407125.728</td>\n",
       "      <td>149294759.597</td>\n",
       "    </tr>\n",
       "    <tr>\n",
       "      <th>MA Sheriff's Association</th>\n",
       "      <td>51367.012</td>\n",
       "      <td>47487.962</td>\n",
       "      <td>47490.591</td>\n",
       "      <td>43957.408</td>\n",
       "    </tr>\n",
       "    <tr>\n",
       "      <th>MBTA</th>\n",
       "      <td>5208655.824</td>\n",
       "      <td>5217654.420</td>\n",
       "      <td>5305507.847</td>\n",
       "      <td>6150564.439</td>\n",
       "    </tr>\n",
       "    <tr>\n",
       "      <th>Parole_Board</th>\n",
       "      <td>4340502.660</td>\n",
       "      <td>3980013.098</td>\n",
       "      <td>4717324.591</td>\n",
       "      <td>5476411.321</td>\n",
       "    </tr>\n",
       "    <tr>\n",
       "      <th>Revere PD</th>\n",
       "      <td>20268086.145</td>\n",
       "      <td>20527250.355</td>\n",
       "      <td>20912629.256</td>\n",
       "      <td>21563189.235</td>\n",
       "    </tr>\n",
       "    <tr>\n",
       "      <th>State_Police</th>\n",
       "      <td>70055731.298</td>\n",
       "      <td>72607629.524</td>\n",
       "      <td>74167089.457</td>\n",
       "      <td>74842923.766</td>\n",
       "    </tr>\n",
       "    <tr>\n",
       "      <th>Suffolk_DA</th>\n",
       "      <td>25755956.002</td>\n",
       "      <td>26218634.860</td>\n",
       "      <td>26294244.574</td>\n",
       "      <td>28492116.568</td>\n",
       "    </tr>\n",
       "    <tr>\n",
       "      <th>Suffolk_Sheriff</th>\n",
       "      <td>140572362.039</td>\n",
       "      <td>140646539.248</td>\n",
       "      <td>142457025.324</td>\n",
       "      <td>144680652.498</td>\n",
       "    </tr>\n",
       "    <tr>\n",
       "      <th>Supreme_Judicial_Court</th>\n",
       "      <td>1779670.814</td>\n",
       "      <td>1738953.324</td>\n",
       "      <td>1904399.076</td>\n",
       "      <td>2096447.277</td>\n",
       "    </tr>\n",
       "    <tr>\n",
       "      <th>Winthrop PD</th>\n",
       "      <td>4744712.210</td>\n",
       "      <td>5043000.671</td>\n",
       "      <td>5185268.430</td>\n",
       "      <td>5901342.581</td>\n",
       "    </tr>\n",
       "    <tr>\n",
       "      <th>trial_court</th>\n",
       "      <td>46248614.671</td>\n",
       "      <td>44036475.111</td>\n",
       "      <td>49017472.223</td>\n",
       "      <td>50550809.562</td>\n",
       "    </tr>\n",
       "  </tbody>\n",
       "</table>\n",
       "</div>"
      ],
      "text/plain": [
       "                                  2016          2017          2018  \\\n",
       "Agency                                                               \n",
       "Appeals_Court              1547196.108   1419499.865   1523190.353   \n",
       "Boston PD                505295398.776 539004549.802 592154739.253   \n",
       "CJT                         789737.676    764593.845    700679.541   \n",
       "CPCS                      11461273.528  11752183.547  12760778.158   \n",
       "Chelsea PD                15887199.313  16413979.162  18402542.508   \n",
       "DAA                         459508.728    462713.638    465143.794   \n",
       "DOC                      126408522.006 118321272.736 138407125.728   \n",
       "MA Sheriff's Association     51367.012     47487.962     47490.591   \n",
       "MBTA                       5208655.824   5217654.420   5305507.847   \n",
       "Parole_Board               4340502.660   3980013.098   4717324.591   \n",
       "Revere PD                 20268086.145  20527250.355  20912629.256   \n",
       "State_Police              70055731.298  72607629.524  74167089.457   \n",
       "Suffolk_DA                25755956.002  26218634.860  26294244.574   \n",
       "Suffolk_Sheriff          140572362.039 140646539.248 142457025.324   \n",
       "Supreme_Judicial_Court     1779670.814   1738953.324   1904399.076   \n",
       "Winthrop PD                4744712.210   5043000.671   5185268.430   \n",
       "trial_court               46248614.671  44036475.111  49017472.223   \n",
       "\n",
       "                                  2019  \n",
       "Agency                                  \n",
       "Appeals_Court              1352878.223  \n",
       "Boston PD                609365362.557  \n",
       "CJT                         744786.649  \n",
       "CPCS                      13596091.328  \n",
       "Chelsea PD                13503387.418  \n",
       "DAA                         482893.044  \n",
       "DOC                      149294759.597  \n",
       "MA Sheriff's Association     43957.408  \n",
       "MBTA                       6150564.439  \n",
       "Parole_Board               5476411.321  \n",
       "Revere PD                 21563189.235  \n",
       "State_Police              74842923.766  \n",
       "Suffolk_DA                28492116.568  \n",
       "Suffolk_Sheriff          144680652.498  \n",
       "Supreme_Judicial_Court     2096447.277  \n",
       "Winthrop PD                5901342.581  \n",
       "trial_court               50550809.562  "
      ]
     },
     "execution_count": 28,
     "metadata": {},
     "output_type": "execute_result"
    }
   ],
   "source": [
    "final_by_agency = final_by_agency_type.groupby(\"Agency\").sum()[yr]\n",
    "final_by_agency"
   ]
  },
  {
   "cell_type": "code",
   "execution_count": 29,
   "metadata": {},
   "outputs": [],
   "source": [
    "final_by_agency.to_csv(\"Final_by_Agency.csv\") "
   ]
  },
  {
   "cell_type": "markdown",
   "metadata": {},
   "source": [
    "## Save by Cost Type"
   ]
  },
  {
   "cell_type": "code",
   "execution_count": 30,
   "metadata": {},
   "outputs": [],
   "source": [
    "final_by_cost_type = final_by_agency_type.groupby(\"Cost Type\").sum()[yr]\n",
    "final_by_cost_type.to_csv(\"Final_by_CostType.csv\")"
   ]
  },
  {
   "cell_type": "markdown",
   "metadata": {},
   "source": [
    "## Save By Year"
   ]
  },
  {
   "cell_type": "code",
   "execution_count": 31,
   "metadata": {},
   "outputs": [],
   "source": [
    "final_by_year = pd.DataFrame(final_by_agency.sum()[yr]).reset_index()"
   ]
  },
  {
   "cell_type": "code",
   "execution_count": 32,
   "metadata": {},
   "outputs": [],
   "source": [
    "final_by_year.to_csv(\"Final_by_Year.csv\", header = [\"Year\", \"Total Cost\"], index_label = False)"
   ]
  },
  {
   "cell_type": "markdown",
   "metadata": {},
   "source": [
    "## Save by Category"
   ]
  },
  {
   "cell_type": "code",
   "execution_count": 33,
   "metadata": {},
   "outputs": [],
   "source": [
    "final_by_category = final_by_agency_type.groupby(\"Category\").sum()[yr]\n",
    "final_by_category.to_csv(\"Final_by_Category.csv\")\n"
   ]
  },
  {
   "cell_type": "markdown",
   "metadata": {},
   "source": [
    "## Save Agency Corrections"
   ]
  },
  {
   "cell_type": "code",
   "execution_count": 34,
   "metadata": {},
   "outputs": [],
   "source": [
    "from Agency_Corrections import all_agency_corrections\n",
    "Agency_Corrections = all_agency_corrections()\n",
    "Agency_Corrections.to_csv(\"Final_Agency_Corrections.csv\")"
   ]
  }
 ],
 "metadata": {
  "kernelspec": {
   "display_name": "Python 3",
   "language": "python",
   "name": "python3"
  },
  "language_info": {
   "codemirror_mode": {
    "name": "ipython",
    "version": 3
   },
   "file_extension": ".py",
   "mimetype": "text/x-python",
   "name": "python",
   "nbconvert_exporter": "python",
   "pygments_lexer": "ipython3",
   "version": "3.7.6"
  }
 },
 "nbformat": 4,
 "nbformat_minor": 4
}
