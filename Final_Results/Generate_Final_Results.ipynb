{
 "cells": [
  {
   "cell_type": "markdown",
   "metadata": {},
   "source": [
    "# Generate Final Results\n",
    "This notebook I will use to save each cost type, each agency correction, and the final numbers to a .csv. These .csv's we will use for visualizing results and checking code. The code here will also be the basis of my test code for refactoring."
   ]
  },
  {
   "cell_type": "markdown",
   "metadata": {},
   "source": [
    "## Set up Environment"
   ]
  },
  {
   "cell_type": "code",
   "execution_count": 1,
   "metadata": {},
   "outputs": [],
   "source": [
    "%load_ext autoreload\n",
    "%autoreload 2"
   ]
  },
  {
   "cell_type": "code",
   "execution_count": 2,
   "metadata": {},
   "outputs": [],
   "source": [
    "import warnings\n",
    "warnings.simplefilter(action='ignore', category=FutureWarning)\n",
    "\n",
    "import pandas as pd\n",
    "import os\n",
    "import sys\n",
    "import numpy as np\n",
    "from sodapy import Socrata"
   ]
  },
  {
   "cell_type": "code",
   "execution_count": 3,
   "metadata": {},
   "outputs": [],
   "source": [
    "sys.path.insert(0, os.path.abspath(\"../\"))"
   ]
  },
  {
   "cell_type": "code",
   "execution_count": 4,
   "metadata": {},
   "outputs": [
    {
     "name": "stderr",
     "output_type": "stream",
     "text": [
      "/opt/anaconda3/lib/python3.7/site-packages/pandas/core/frame.py:4133: SettingWithCopyWarning: \n",
      "A value is trying to be set on a copy of a slice from a DataFrame\n",
      "\n",
      "See the caveats in the documentation: https://pandas.pydata.org/pandas-docs/stable/user_guide/indexing.html#returning-a-view-versus-a-copy\n",
      "  errors=errors,\n",
      "/opt/anaconda3/lib/python3.7/site-packages/pandas/core/generic.py:6245: SettingWithCopyWarning: \n",
      "A value is trying to be set on a copy of a slice from a DataFrame\n",
      "\n",
      "See the caveats in the documentation: https://pandas.pydata.org/pandas-docs/stable/user_guide/indexing.html#returning-a-view-versus-a-copy\n",
      "  self._update_inplace(new_data)\n",
      "/Users/alexanderweinstein/Documents/Harris/Summer2020/Carceral_Budgeting/Exploratory/Cost_Type_Code/Pensions/Statewide_Pensions.py:144: SettingWithCopyWarning: \n",
      "A value is trying to be set on a copy of a slice from a DataFrame.\n",
      "Try using .loc[row_indexer,col_indexer] = value instead\n",
      "\n",
      "See the caveats in the documentation: https://pandas.pydata.org/pandas-docs/stable/user_guide/indexing.html#returning-a-view-versus-a-copy\n",
      "  cthru_pensions[\"year\"] = cthru_pensions[\"year\"].astype(int)\n",
      "/Users/alexanderweinstein/Documents/Harris/Summer2020/Carceral_Budgeting/Exploratory/Initialize_Agencies.py:5: DtypeWarning: Columns (16) have mixed types.Specify dtype option on import or set low_memory=False.\n",
      "  from Agency_Classes_Big import StateAgency, CPCS, BostonPD, ChelseaPD, ReverePD, WinthropPD\n",
      "/Users/alexanderweinstein/Documents/Harris/Summer2020/Carceral_Budgeting/Exploratory/Agency_Classes/Agency_Classes_Big.py:92: DtypeWarning: Columns (16) have mixed types.Specify dtype option on import or set low_memory=False.\n",
      "  self.get_expenditures_by_year()\n",
      "/Users/alexanderweinstein/Documents/Harris/Summer2020/Carceral_Budgeting/Exploratory/Agency_Classes/Agency_Classes_Big.py:92: DtypeWarning: Columns (15,16) have mixed types.Specify dtype option on import or set low_memory=False.\n",
      "  self.get_expenditures_by_year()\n"
     ]
    }
   ],
   "source": [
    "from Initialize_Agencies import get_agencies\n",
    "yr = list(range(2016,2020))\n",
    "agencies = get_agencies(yr)"
   ]
  },
  {
   "cell_type": "markdown",
   "metadata": {},
   "source": [
    "## Save By Agency, Cost Type Pre-Correction"
   ]
  },
  {
   "cell_type": "markdown",
   "metadata": {},
   "source": [
    "Iterate through each agency, save each cost type to a line in a .csv\n"
   ]
  },
  {
   "cell_type": "markdown",
   "metadata": {},
   "source": [
    "This code I will also use for testing, iterate through each agency and list all that don't match"
   ]
  },
  {
   "cell_type": "code",
   "execution_count": 5,
   "metadata": {},
   "outputs": [],
   "source": [
    "final_by_agency_type_pre_correction = pd.DataFrame(columns=[\"Agency\"] + [\"Cost Type\"] + yr)\n"
   ]
  },
  {
   "cell_type": "code",
   "execution_count": 6,
   "metadata": {},
   "outputs": [],
   "source": [
    "for _, agency in agencies.items():\n",
    "    final_by_agency_type_pre_correction.loc[agency.alias + \" Payroll Costs\"] = \\\n",
    "     [agency.alias]  + [\"Payroll\"] + list(agency.payroll_by_year)\n",
    "    final_by_agency_type_pre_correction.loc[agency.alias + \" Non-Payroll Operating Costs\"] = \\\n",
    "     [agency.alias] + [\"Non-Payroll Operating\"] + list(agency.non_payroll_operating_expenditures_by_year)\n",
    "    final_by_agency_type_pre_correction.loc[agency.alias + \" Pension Costs\"] =  \\\n",
    "     [agency.alias] + [\"Pensions\"] + list(agency.pensions)\n",
    "    final_by_agency_type_pre_correction.loc[agency.alias + \" Fringe Benefit Costs\"] = \\\n",
    "     [agency.alias] + [\"Fringe Benefits\"] + list(agency.fringe)\n",
    "    final_by_agency_type_pre_correction.loc[agency.alias + \" Capital Costs\"] = \\\n",
    "     [agency.alias] + [\"Capital\"] + list(agency.capital_expenditures_by_year)"
   ]
  },
  {
   "cell_type": "code",
   "execution_count": 7,
   "metadata": {},
   "outputs": [],
   "source": [
    "final_by_agency_type_pre_correction.to_csv(\"Final_By_Agency_Type_preCorrection.csv\")"
   ]
  },
  {
   "cell_type": "markdown",
   "metadata": {},
   "source": [
    "## Save By Agency, Cost Type After Correction"
   ]
  },
  {
   "cell_type": "code",
   "execution_count": 8,
   "metadata": {},
   "outputs": [],
   "source": [
    "final_by_agency_type = pd.DataFrame(columns=[\"Agency\"] + [\"Cost Type\"] + yr)\n",
    "for _, agency in agencies.items():\n",
    "    final_by_agency_type.loc[agency.alias + \" Payroll Costs\"] = \\\n",
    "     [agency.alias]  + [\"Payroll\"] + list(agency.correction_function(agency.payroll_by_year))\n",
    "    final_by_agency_type.loc[agency.alias + \" Non-Payroll Operating Costs\"] = \\\n",
    "     [agency.alias] + [\"Non-Payroll Operating\"] +\\\n",
    "     list(agency.correction_function(agency.non_payroll_operating_expenditures_by_year))\n",
    "    final_by_agency_type.loc[agency.alias + \" Pension Costs\"] =  \\\n",
    "     [agency.alias] + [\"Pensions\"] + list(agency.correction_function(agency.pensions))\n",
    "    final_by_agency_type.loc[agency.alias + \" Fringe Benefit Costs\"] = \\\n",
    "     [agency.alias] + [\"Fringe Benefits\"] + list(agency.correction_function(agency.fringe))\n",
    "    final_by_agency_type.loc[agency.alias + \" Capital Costs\"] = \\\n",
    "     [agency.alias] + [\"Capital\"] + list(agency.correction_function(agency.capital_expenditures_by_year))"
   ]
  },
  {
   "cell_type": "code",
   "execution_count": 9,
   "metadata": {},
   "outputs": [
    {
     "data": {
      "text/html": [
       "<div>\n",
       "<style scoped>\n",
       "    .dataframe tbody tr th:only-of-type {\n",
       "        vertical-align: middle;\n",
       "    }\n",
       "\n",
       "    .dataframe tbody tr th {\n",
       "        vertical-align: top;\n",
       "    }\n",
       "\n",
       "    .dataframe thead th {\n",
       "        text-align: right;\n",
       "    }\n",
       "</style>\n",
       "<table border=\"1\" class=\"dataframe\">\n",
       "  <thead>\n",
       "    <tr style=\"text-align: right;\">\n",
       "      <th></th>\n",
       "      <th>Agency</th>\n",
       "      <th>Cost Type</th>\n",
       "      <th>2016</th>\n",
       "      <th>2017</th>\n",
       "      <th>2018</th>\n",
       "      <th>2019</th>\n",
       "    </tr>\n",
       "  </thead>\n",
       "  <tbody>\n",
       "    <tr>\n",
       "      <th>trial_court Payroll Costs</th>\n",
       "      <td>trial_court</td>\n",
       "      <td>Payroll</td>\n",
       "      <td>23942820.499</td>\n",
       "      <td>22913410.463</td>\n",
       "      <td>25791232.240</td>\n",
       "      <td>28234843.175</td>\n",
       "    </tr>\n",
       "    <tr>\n",
       "      <th>trial_court Non-Payroll Operating Costs</th>\n",
       "      <td>trial_court</td>\n",
       "      <td>Non-Payroll Operating</td>\n",
       "      <td>5459896.759</td>\n",
       "      <td>5063328.750</td>\n",
       "      <td>5631905.902</td>\n",
       "      <td>6725293.128</td>\n",
       "    </tr>\n",
       "    <tr>\n",
       "      <th>trial_court Pension Costs</th>\n",
       "      <td>trial_court</td>\n",
       "      <td>Pensions</td>\n",
       "      <td>3568017.523</td>\n",
       "      <td>3772546.408</td>\n",
       "      <td>4348113.459</td>\n",
       "      <td>4929516.703</td>\n",
       "    </tr>\n",
       "    <tr>\n",
       "      <th>trial_court Fringe Benefit Costs</th>\n",
       "      <td>trial_court</td>\n",
       "      <td>Fringe Benefits</td>\n",
       "      <td>9590332.248</td>\n",
       "      <td>9120575.368</td>\n",
       "      <td>9588149.051</td>\n",
       "      <td>10109646.633</td>\n",
       "    </tr>\n",
       "    <tr>\n",
       "      <th>trial_court Capital Costs</th>\n",
       "      <td>trial_court</td>\n",
       "      <td>Capital</td>\n",
       "      <td>3687547.641</td>\n",
       "      <td>3166614.121</td>\n",
       "      <td>3658071.571</td>\n",
       "      <td>3719111.121</td>\n",
       "    </tr>\n",
       "    <tr>\n",
       "      <th>...</th>\n",
       "      <td>...</td>\n",
       "      <td>...</td>\n",
       "      <td>...</td>\n",
       "      <td>...</td>\n",
       "      <td>...</td>\n",
       "      <td>...</td>\n",
       "    </tr>\n",
       "    <tr>\n",
       "      <th>Winthrop PD Payroll Costs</th>\n",
       "      <td>Winthrop PD</td>\n",
       "      <td>Payroll</td>\n",
       "      <td>2842909.000</td>\n",
       "      <td>2927191.000</td>\n",
       "      <td>3066911.000</td>\n",
       "      <td>3803402.000</td>\n",
       "    </tr>\n",
       "    <tr>\n",
       "      <th>Winthrop PD Non-Payroll Operating Costs</th>\n",
       "      <td>Winthrop PD</td>\n",
       "      <td>Non-Payroll Operating</td>\n",
       "      <td>194777.000</td>\n",
       "      <td>185439.000</td>\n",
       "      <td>224594.000</td>\n",
       "      <td>233533.000</td>\n",
       "    </tr>\n",
       "    <tr>\n",
       "      <th>Winthrop PD Pension Costs</th>\n",
       "      <td>Winthrop PD</td>\n",
       "      <td>Pensions</td>\n",
       "      <td>912028.782</td>\n",
       "      <td>702707.081</td>\n",
       "      <td>745260.916</td>\n",
       "      <td>748358.573</td>\n",
       "    </tr>\n",
       "    <tr>\n",
       "      <th>Winthrop PD Fringe Benefit Costs</th>\n",
       "      <td>Winthrop PD</td>\n",
       "      <td>Fringe Benefits</td>\n",
       "      <td>794997.427</td>\n",
       "      <td>1188270.591</td>\n",
       "      <td>1108502.513</td>\n",
       "      <td>1116049.008</td>\n",
       "    </tr>\n",
       "    <tr>\n",
       "      <th>Winthrop PD Capital Costs</th>\n",
       "      <td>Winthrop PD</td>\n",
       "      <td>Capital</td>\n",
       "      <td>0.000</td>\n",
       "      <td>39393.000</td>\n",
       "      <td>40000.000</td>\n",
       "      <td>0.000</td>\n",
       "    </tr>\n",
       "  </tbody>\n",
       "</table>\n",
       "<p>85 rows × 6 columns</p>\n",
       "</div>"
      ],
      "text/plain": [
       "                                              Agency              Cost Type  \\\n",
       "trial_court Payroll Costs                trial_court                Payroll   \n",
       "trial_court Non-Payroll Operating Costs  trial_court  Non-Payroll Operating   \n",
       "trial_court Pension Costs                trial_court               Pensions   \n",
       "trial_court Fringe Benefit Costs         trial_court        Fringe Benefits   \n",
       "trial_court Capital Costs                trial_court                Capital   \n",
       "...                                              ...                    ...   \n",
       "Winthrop PD Payroll Costs                Winthrop PD                Payroll   \n",
       "Winthrop PD Non-Payroll Operating Costs  Winthrop PD  Non-Payroll Operating   \n",
       "Winthrop PD Pension Costs                Winthrop PD               Pensions   \n",
       "Winthrop PD Fringe Benefit Costs         Winthrop PD        Fringe Benefits   \n",
       "Winthrop PD Capital Costs                Winthrop PD                Capital   \n",
       "\n",
       "                                                2016         2017  \\\n",
       "trial_court Payroll Costs               23942820.499 22913410.463   \n",
       "trial_court Non-Payroll Operating Costs  5459896.759  5063328.750   \n",
       "trial_court Pension Costs                3568017.523  3772546.408   \n",
       "trial_court Fringe Benefit Costs         9590332.248  9120575.368   \n",
       "trial_court Capital Costs                3687547.641  3166614.121   \n",
       "...                                              ...          ...   \n",
       "Winthrop PD Payroll Costs                2842909.000  2927191.000   \n",
       "Winthrop PD Non-Payroll Operating Costs   194777.000   185439.000   \n",
       "Winthrop PD Pension Costs                 912028.782   702707.081   \n",
       "Winthrop PD Fringe Benefit Costs          794997.427  1188270.591   \n",
       "Winthrop PD Capital Costs                      0.000    39393.000   \n",
       "\n",
       "                                                2018         2019  \n",
       "trial_court Payroll Costs               25791232.240 28234843.175  \n",
       "trial_court Non-Payroll Operating Costs  5631905.902  6725293.128  \n",
       "trial_court Pension Costs                4348113.459  4929516.703  \n",
       "trial_court Fringe Benefit Costs         9588149.051 10109646.633  \n",
       "trial_court Capital Costs                3658071.571  3719111.121  \n",
       "...                                              ...          ...  \n",
       "Winthrop PD Payroll Costs                3066911.000  3803402.000  \n",
       "Winthrop PD Non-Payroll Operating Costs   224594.000   233533.000  \n",
       "Winthrop PD Pension Costs                 745260.916   748358.573  \n",
       "Winthrop PD Fringe Benefit Costs         1108502.513  1116049.008  \n",
       "Winthrop PD Capital Costs                  40000.000        0.000  \n",
       "\n",
       "[85 rows x 6 columns]"
      ]
     },
     "execution_count": 9,
     "metadata": {},
     "output_type": "execute_result"
    }
   ],
   "source": [
    "final_by_agency_type"
   ]
  },
  {
   "cell_type": "code",
   "execution_count": 10,
   "metadata": {},
   "outputs": [],
   "source": [
    "final_by_agency_type.to_csv(\"Final_by_Agency_Type.csv\")"
   ]
  },
  {
   "cell_type": "markdown",
   "metadata": {},
   "source": [
    "## Save By Agency"
   ]
  },
  {
   "cell_type": "code",
   "execution_count": 11,
   "metadata": {},
   "outputs": [
    {
     "data": {
      "text/html": [
       "<div>\n",
       "<style scoped>\n",
       "    .dataframe tbody tr th:only-of-type {\n",
       "        vertical-align: middle;\n",
       "    }\n",
       "\n",
       "    .dataframe tbody tr th {\n",
       "        vertical-align: top;\n",
       "    }\n",
       "\n",
       "    .dataframe thead th {\n",
       "        text-align: right;\n",
       "    }\n",
       "</style>\n",
       "<table border=\"1\" class=\"dataframe\">\n",
       "  <thead>\n",
       "    <tr style=\"text-align: right;\">\n",
       "      <th></th>\n",
       "      <th>2016</th>\n",
       "      <th>2017</th>\n",
       "      <th>2018</th>\n",
       "      <th>2019</th>\n",
       "    </tr>\n",
       "    <tr>\n",
       "      <th>Agency</th>\n",
       "      <th></th>\n",
       "      <th></th>\n",
       "      <th></th>\n",
       "      <th></th>\n",
       "    </tr>\n",
       "  </thead>\n",
       "  <tbody>\n",
       "    <tr>\n",
       "      <th>Appeals_Court</th>\n",
       "      <td>1547196.108</td>\n",
       "      <td>1419499.865</td>\n",
       "      <td>1523190.353</td>\n",
       "      <td>1437651.913</td>\n",
       "    </tr>\n",
       "    <tr>\n",
       "      <th>Boston PD</th>\n",
       "      <td>505295398.776</td>\n",
       "      <td>539004549.802</td>\n",
       "      <td>592154739.253</td>\n",
       "      <td>609365362.557</td>\n",
       "    </tr>\n",
       "    <tr>\n",
       "      <th>CJT</th>\n",
       "      <td>789737.676</td>\n",
       "      <td>764593.845</td>\n",
       "      <td>700679.541</td>\n",
       "      <td>744786.649</td>\n",
       "    </tr>\n",
       "    <tr>\n",
       "      <th>CPCS</th>\n",
       "      <td>19208287.290</td>\n",
       "      <td>19851826.673</td>\n",
       "      <td>21575123.046</td>\n",
       "      <td>24311018.780</td>\n",
       "    </tr>\n",
       "    <tr>\n",
       "      <th>Chelsea PD</th>\n",
       "      <td>15887199.313</td>\n",
       "      <td>16413979.162</td>\n",
       "      <td>18402542.508</td>\n",
       "      <td>13503387.418</td>\n",
       "    </tr>\n",
       "    <tr>\n",
       "      <th>DAA</th>\n",
       "      <td>459508.728</td>\n",
       "      <td>462713.638</td>\n",
       "      <td>465143.794</td>\n",
       "      <td>482893.044</td>\n",
       "    </tr>\n",
       "    <tr>\n",
       "      <th>DOC</th>\n",
       "      <td>126408522.006</td>\n",
       "      <td>118321272.736</td>\n",
       "      <td>138407125.728</td>\n",
       "      <td>149294759.597</td>\n",
       "    </tr>\n",
       "    <tr>\n",
       "      <th>MA Sheriff's Association</th>\n",
       "      <td>51367.012</td>\n",
       "      <td>47487.962</td>\n",
       "      <td>47490.591</td>\n",
       "      <td>43957.408</td>\n",
       "    </tr>\n",
       "    <tr>\n",
       "      <th>MBTA</th>\n",
       "      <td>3973009.574</td>\n",
       "      <td>3990091.344</td>\n",
       "      <td>4118817.481</td>\n",
       "      <td>4815666.550</td>\n",
       "    </tr>\n",
       "    <tr>\n",
       "      <th>Parole_Board</th>\n",
       "      <td>4340502.660</td>\n",
       "      <td>3980013.098</td>\n",
       "      <td>4717324.591</td>\n",
       "      <td>5476411.321</td>\n",
       "    </tr>\n",
       "    <tr>\n",
       "      <th>Revere PD</th>\n",
       "      <td>20268086.145</td>\n",
       "      <td>20527250.355</td>\n",
       "      <td>20912629.256</td>\n",
       "      <td>21563189.235</td>\n",
       "    </tr>\n",
       "    <tr>\n",
       "      <th>State_Police</th>\n",
       "      <td>70055731.298</td>\n",
       "      <td>72607629.524</td>\n",
       "      <td>74167089.457</td>\n",
       "      <td>74842923.766</td>\n",
       "    </tr>\n",
       "    <tr>\n",
       "      <th>Suffolk_DA</th>\n",
       "      <td>25755956.002</td>\n",
       "      <td>26218634.860</td>\n",
       "      <td>26294244.574</td>\n",
       "      <td>28492116.568</td>\n",
       "    </tr>\n",
       "    <tr>\n",
       "      <th>Suffolk_Sheriff</th>\n",
       "      <td>140572362.039</td>\n",
       "      <td>140646539.248</td>\n",
       "      <td>142457025.324</td>\n",
       "      <td>144680652.498</td>\n",
       "    </tr>\n",
       "    <tr>\n",
       "      <th>Supreme_Judicial_Court</th>\n",
       "      <td>1779670.814</td>\n",
       "      <td>1738953.324</td>\n",
       "      <td>1904399.076</td>\n",
       "      <td>2227814.291</td>\n",
       "    </tr>\n",
       "    <tr>\n",
       "      <th>Winthrop PD</th>\n",
       "      <td>4744712.210</td>\n",
       "      <td>5043000.671</td>\n",
       "      <td>5185268.430</td>\n",
       "      <td>5901342.581</td>\n",
       "    </tr>\n",
       "    <tr>\n",
       "      <th>trial_court</th>\n",
       "      <td>46248614.671</td>\n",
       "      <td>44036475.111</td>\n",
       "      <td>49017472.223</td>\n",
       "      <td>53718410.761</td>\n",
       "    </tr>\n",
       "  </tbody>\n",
       "</table>\n",
       "</div>"
      ],
      "text/plain": [
       "                                  2016          2017          2018  \\\n",
       "Agency                                                               \n",
       "Appeals_Court              1547196.108   1419499.865   1523190.353   \n",
       "Boston PD                505295398.776 539004549.802 592154739.253   \n",
       "CJT                         789737.676    764593.845    700679.541   \n",
       "CPCS                      19208287.290  19851826.673  21575123.046   \n",
       "Chelsea PD                15887199.313  16413979.162  18402542.508   \n",
       "DAA                         459508.728    462713.638    465143.794   \n",
       "DOC                      126408522.006 118321272.736 138407125.728   \n",
       "MA Sheriff's Association     51367.012     47487.962     47490.591   \n",
       "MBTA                       3973009.574   3990091.344   4118817.481   \n",
       "Parole_Board               4340502.660   3980013.098   4717324.591   \n",
       "Revere PD                 20268086.145  20527250.355  20912629.256   \n",
       "State_Police              70055731.298  72607629.524  74167089.457   \n",
       "Suffolk_DA                25755956.002  26218634.860  26294244.574   \n",
       "Suffolk_Sheriff          140572362.039 140646539.248 142457025.324   \n",
       "Supreme_Judicial_Court     1779670.814   1738953.324   1904399.076   \n",
       "Winthrop PD                4744712.210   5043000.671   5185268.430   \n",
       "trial_court               46248614.671  44036475.111  49017472.223   \n",
       "\n",
       "                                  2019  \n",
       "Agency                                  \n",
       "Appeals_Court              1437651.913  \n",
       "Boston PD                609365362.557  \n",
       "CJT                         744786.649  \n",
       "CPCS                      24311018.780  \n",
       "Chelsea PD                13503387.418  \n",
       "DAA                         482893.044  \n",
       "DOC                      149294759.597  \n",
       "MA Sheriff's Association     43957.408  \n",
       "MBTA                       4815666.550  \n",
       "Parole_Board               5476411.321  \n",
       "Revere PD                 21563189.235  \n",
       "State_Police              74842923.766  \n",
       "Suffolk_DA                28492116.568  \n",
       "Suffolk_Sheriff          144680652.498  \n",
       "Supreme_Judicial_Court     2227814.291  \n",
       "Winthrop PD                5901342.581  \n",
       "trial_court               53718410.761  "
      ]
     },
     "execution_count": 11,
     "metadata": {},
     "output_type": "execute_result"
    }
   ],
   "source": [
    "final_by_agency = final_by_agency_type.groupby(\"Agency\").sum()[yr]\n",
    "final_by_agency"
   ]
  },
  {
   "cell_type": "code",
   "execution_count": 12,
   "metadata": {},
   "outputs": [],
   "source": [
    "final_by_agency.to_csv(\"Final_by_Agency.csv\") "
   ]
  },
  {
   "cell_type": "markdown",
   "metadata": {},
   "source": [
    "## Save by Cost Type"
   ]
  },
  {
   "cell_type": "code",
   "execution_count": 13,
   "metadata": {},
   "outputs": [],
   "source": [
    "final_by_cost_type = final_by_agency_type.groupby(\"Cost Type\").sum()[yr]\n",
    "final_by_cost_type.to_csv(\"Final_by_CostType.csv\")"
   ]
  },
  {
   "cell_type": "markdown",
   "metadata": {},
   "source": [
    "## Save By Year"
   ]
  },
  {
   "cell_type": "code",
   "execution_count": 14,
   "metadata": {},
   "outputs": [],
   "source": [
    "final_by_year = pd.DataFrame(final_by_agency.sum()[yr]).reset_index()"
   ]
  },
  {
   "cell_type": "code",
   "execution_count": 15,
   "metadata": {},
   "outputs": [],
   "source": [
    "final_by_year.to_csv(\"Final_by_Year.csv\", header = [\"Year\", \"Total Cost\"], index_label = False)"
   ]
  },
  {
   "cell_type": "markdown",
   "metadata": {},
   "source": [
    "## Save Agency Corrections"
   ]
  },
  {
   "cell_type": "code",
   "execution_count": 16,
   "metadata": {},
   "outputs": [],
   "source": [
    "from Agency_Corrections import all_agency_corrections\n",
    "Agency_Corrections = all_agency_corrections()\n",
    "Agency_Corrections.to_csv(\"Final_Agency_Corrections.csv\")"
   ]
  },
  {
   "cell_type": "code",
   "execution_count": null,
   "metadata": {},
   "outputs": [],
   "source": []
  }
 ],
 "metadata": {
  "kernelspec": {
   "display_name": "Python 3",
   "language": "python",
   "name": "python3"
  },
  "language_info": {
   "codemirror_mode": {
    "name": "ipython",
    "version": 3
   },
   "file_extension": ".py",
   "mimetype": "text/x-python",
   "name": "python",
   "nbconvert_exporter": "python",
   "pygments_lexer": "ipython3",
   "version": "3.7.6"
  }
 },
 "nbformat": 4,
 "nbformat_minor": 4
}
