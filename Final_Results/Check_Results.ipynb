{
 "cells": [
  {
   "cell_type": "markdown",
   "metadata": {},
   "source": [
    "# Generate Final Results\n",
    "This notebook I will use to save each cost type, each agency correction, and the final numbers to a .csv. These .csv's we will use for visualizing results and checking code. The code here will also be the basis of my test code for refactoring."
   ]
  },
  {
   "cell_type": "markdown",
   "metadata": {},
   "source": [
    "## Set up Environment"
   ]
  },
  {
   "cell_type": "code",
   "execution_count": 2,
   "metadata": {},
   "outputs": [],
   "source": [
    "%load_ext autoreload\n",
    "%autoreload 2"
   ]
  },
  {
   "cell_type": "code",
   "execution_count": 3,
   "metadata": {},
   "outputs": [],
   "source": [
    "import warnings\n",
    "warnings.simplefilter(action='ignore', category=FutureWarning)\n",
    "\n",
    "import pandas as pd\n",
    "import os\n",
    "import sys\n",
    "import numpy as np\n",
    "from sodapy import Socrata"
   ]
  },
  {
   "cell_type": "code",
   "execution_count": 4,
   "metadata": {},
   "outputs": [],
   "source": [
    "sys.path.insert(0, os.path.abspath(\"../\"))"
   ]
  },
  {
   "cell_type": "code",
   "execution_count": 8,
   "metadata": {},
   "outputs": [
    {
     "name": "stderr",
     "output_type": "stream",
     "text": [
      "/opt/anaconda3/lib/python3.7/site-packages/pandas/core/frame.py:4133: SettingWithCopyWarning: \n",
      "A value is trying to be set on a copy of a slice from a DataFrame\n",
      "\n",
      "See the caveats in the documentation: https://pandas.pydata.org/pandas-docs/stable/user_guide/indexing.html#returning-a-view-versus-a-copy\n",
      "  errors=errors,\n",
      "/opt/anaconda3/lib/python3.7/site-packages/pandas/core/generic.py:6245: SettingWithCopyWarning: \n",
      "A value is trying to be set on a copy of a slice from a DataFrame\n",
      "\n",
      "See the caveats in the documentation: https://pandas.pydata.org/pandas-docs/stable/user_guide/indexing.html#returning-a-view-versus-a-copy\n",
      "  self._update_inplace(new_data)\n",
      "/Users/alexanderweinstein/Documents/Harris/Summer2020/Carceral_Budgeting/Exploratory/pensions/State_Pensions_2Ver.py:137: SettingWithCopyWarning: \n",
      "A value is trying to be set on a copy of a slice from a DataFrame.\n",
      "Try using .loc[row_indexer,col_indexer] = value instead\n",
      "\n",
      "See the caveats in the documentation: https://pandas.pydata.org/pandas-docs/stable/user_guide/indexing.html#returning-a-view-versus-a-copy\n",
      "  cthru_pensions[\"year\"] = cthru_pensions[\"year\"].astype(int)\n",
      "/Users/alexanderweinstein/Documents/Harris/Summer2020/Carceral_Budgeting/Exploratory/Initialize_Agencies_3Ver.py:5: DtypeWarning: Columns (16) have mixed types.Specify dtype option on import or set low_memory=False.\n",
      "  from Agency_Classes_2Ver import StateAgency, CPCS, MBTA, BostonPD, ChelseaPD, ReverePD, WinthropPD\n",
      "/Users/alexanderweinstein/Documents/Harris/Summer2020/Carceral_Budgeting/Exploratory/Agency_Classes_2Ver.py:184: DtypeWarning: Columns (16) have mixed types.Specify dtype option on import or set low_memory=False.\n",
      "  self.get_expenditures_by_year()\n",
      "/Users/alexanderweinstein/Documents/Harris/Summer2020/Carceral_Budgeting/Exploratory/Agency_Classes_2Ver.py:178: DtypeWarning: Columns (16) have mixed types.Specify dtype option on import or set low_memory=False.\n",
      "  self.get_final_costs()\n",
      "/Users/alexanderweinstein/Documents/Harris/Summer2020/Carceral_Budgeting/Exploratory/Agency_Classes_2Ver.py:184: DtypeWarning: Columns (15,16) have mixed types.Specify dtype option on import or set low_memory=False.\n",
      "  self.get_expenditures_by_year()\n"
     ]
    }
   ],
   "source": [
    "from Initialize_Agencies_3Ver import get_agencies\n",
    "yr = list(range(2016,2020))\n",
    "agencies = get_agencies(yr)"
   ]
  },
  {
   "cell_type": "code",
   "execution_count": 130,
   "metadata": {},
   "outputs": [],
   "source": [
    "final_results = pd.read_csv(\"Final_by_Agency_Type_Dec27.csv\", index_col = 0)\n",
    "final_results.rename(columns = {x:int(x) for x in final_results.columns[2:]}, inplace=True)"
   ]
  },
  {
   "cell_type": "code",
   "execution_count": 155,
   "metadata": {},
   "outputs": [
    {
     "data": {
      "text/html": [
       "<div>\n",
       "<style scoped>\n",
       "    .dataframe tbody tr th:only-of-type {\n",
       "        vertical-align: middle;\n",
       "    }\n",
       "\n",
       "    .dataframe tbody tr th {\n",
       "        vertical-align: top;\n",
       "    }\n",
       "\n",
       "    .dataframe thead th {\n",
       "        text-align: right;\n",
       "    }\n",
       "</style>\n",
       "<table border=\"1\" class=\"dataframe\">\n",
       "  <thead>\n",
       "    <tr style=\"text-align: right;\">\n",
       "      <th></th>\n",
       "      <th>Agency</th>\n",
       "      <th>Cost Type</th>\n",
       "      <th>2016</th>\n",
       "      <th>2017</th>\n",
       "      <th>2018</th>\n",
       "      <th>2019</th>\n",
       "    </tr>\n",
       "  </thead>\n",
       "  <tbody>\n",
       "    <tr>\n",
       "      <th>trial_court Payroll Costs</th>\n",
       "      <td>trial_court</td>\n",
       "      <td>Payroll</td>\n",
       "      <td>23972722.911</td>\n",
       "      <td>22938605.953</td>\n",
       "      <td>25815412.064</td>\n",
       "      <td>28271447.043</td>\n",
       "    </tr>\n",
       "    <tr>\n",
       "      <th>trial_court Non-Payroll Operating Costs</th>\n",
       "      <td>trial_court</td>\n",
       "      <td>Non-Payroll Operating</td>\n",
       "      <td>5459896.759</td>\n",
       "      <td>5063328.750</td>\n",
       "      <td>5631905.902</td>\n",
       "      <td>6725293.128</td>\n",
       "    </tr>\n",
       "    <tr>\n",
       "      <th>trial_court Pension Costs</th>\n",
       "      <td>trial_court</td>\n",
       "      <td>Pensions</td>\n",
       "      <td>3568017.523</td>\n",
       "      <td>3772546.408</td>\n",
       "      <td>4348113.459</td>\n",
       "      <td>4929516.703</td>\n",
       "    </tr>\n",
       "    <tr>\n",
       "      <th>trial_court Fringe Benefit Costs</th>\n",
       "      <td>trial_court</td>\n",
       "      <td>Fringe Benefits</td>\n",
       "      <td>9601913.337</td>\n",
       "      <td>9130258.367</td>\n",
       "      <td>9596799.087</td>\n",
       "      <td>10122247.192</td>\n",
       "    </tr>\n",
       "    <tr>\n",
       "      <th>trial_court Capital Costs</th>\n",
       "      <td>trial_court</td>\n",
       "      <td>Capital</td>\n",
       "      <td>3687547.641</td>\n",
       "      <td>3166614.121</td>\n",
       "      <td>3658071.571</td>\n",
       "      <td>3719111.121</td>\n",
       "    </tr>\n",
       "    <tr>\n",
       "      <th>...</th>\n",
       "      <td>...</td>\n",
       "      <td>...</td>\n",
       "      <td>...</td>\n",
       "      <td>...</td>\n",
       "      <td>...</td>\n",
       "      <td>...</td>\n",
       "    </tr>\n",
       "    <tr>\n",
       "      <th>Winthrop PD Payroll Costs</th>\n",
       "      <td>Winthrop PD</td>\n",
       "      <td>Payroll</td>\n",
       "      <td>2842909.000</td>\n",
       "      <td>2927191.000</td>\n",
       "      <td>3066911.000</td>\n",
       "      <td>3803402.000</td>\n",
       "    </tr>\n",
       "    <tr>\n",
       "      <th>Winthrop PD Non-Payroll Operating Costs</th>\n",
       "      <td>Winthrop PD</td>\n",
       "      <td>Non-Payroll Operating</td>\n",
       "      <td>194777.000</td>\n",
       "      <td>185439.000</td>\n",
       "      <td>224594.000</td>\n",
       "      <td>233533.000</td>\n",
       "    </tr>\n",
       "    <tr>\n",
       "      <th>Winthrop PD Pension Costs</th>\n",
       "      <td>Winthrop PD</td>\n",
       "      <td>Pensions</td>\n",
       "      <td>912028.782</td>\n",
       "      <td>702707.081</td>\n",
       "      <td>745260.916</td>\n",
       "      <td>748358.573</td>\n",
       "    </tr>\n",
       "    <tr>\n",
       "      <th>Winthrop PD Fringe Benefit Costs</th>\n",
       "      <td>Winthrop PD</td>\n",
       "      <td>Fringe Benefits</td>\n",
       "      <td>794997.427</td>\n",
       "      <td>1188270.591</td>\n",
       "      <td>1108502.513</td>\n",
       "      <td>1116049.008</td>\n",
       "    </tr>\n",
       "    <tr>\n",
       "      <th>Winthrop PD Capital Costs</th>\n",
       "      <td>Winthrop PD</td>\n",
       "      <td>Capital</td>\n",
       "      <td>0.000</td>\n",
       "      <td>39393.000</td>\n",
       "      <td>40000.000</td>\n",
       "      <td>0.000</td>\n",
       "    </tr>\n",
       "  </tbody>\n",
       "</table>\n",
       "<p>85 rows × 6 columns</p>\n",
       "</div>"
      ],
      "text/plain": [
       "                                              Agency              Cost Type  \\\n",
       "trial_court Payroll Costs                trial_court                Payroll   \n",
       "trial_court Non-Payroll Operating Costs  trial_court  Non-Payroll Operating   \n",
       "trial_court Pension Costs                trial_court               Pensions   \n",
       "trial_court Fringe Benefit Costs         trial_court        Fringe Benefits   \n",
       "trial_court Capital Costs                trial_court                Capital   \n",
       "...                                              ...                    ...   \n",
       "Winthrop PD Payroll Costs                Winthrop PD                Payroll   \n",
       "Winthrop PD Non-Payroll Operating Costs  Winthrop PD  Non-Payroll Operating   \n",
       "Winthrop PD Pension Costs                Winthrop PD               Pensions   \n",
       "Winthrop PD Fringe Benefit Costs         Winthrop PD        Fringe Benefits   \n",
       "Winthrop PD Capital Costs                Winthrop PD                Capital   \n",
       "\n",
       "                                                2016         2017  \\\n",
       "trial_court Payroll Costs               23972722.911 22938605.953   \n",
       "trial_court Non-Payroll Operating Costs  5459896.759  5063328.750   \n",
       "trial_court Pension Costs                3568017.523  3772546.408   \n",
       "trial_court Fringe Benefit Costs         9601913.337  9130258.367   \n",
       "trial_court Capital Costs                3687547.641  3166614.121   \n",
       "...                                              ...          ...   \n",
       "Winthrop PD Payroll Costs                2842909.000  2927191.000   \n",
       "Winthrop PD Non-Payroll Operating Costs   194777.000   185439.000   \n",
       "Winthrop PD Pension Costs                 912028.782   702707.081   \n",
       "Winthrop PD Fringe Benefit Costs          794997.427  1188270.591   \n",
       "Winthrop PD Capital Costs                      0.000    39393.000   \n",
       "\n",
       "                                                2018         2019  \n",
       "trial_court Payroll Costs               25815412.064 28271447.043  \n",
       "trial_court Non-Payroll Operating Costs  5631905.902  6725293.128  \n",
       "trial_court Pension Costs                4348113.459  4929516.703  \n",
       "trial_court Fringe Benefit Costs         9596799.087 10122247.192  \n",
       "trial_court Capital Costs                3658071.571  3719111.121  \n",
       "...                                              ...          ...  \n",
       "Winthrop PD Payroll Costs                3066911.000  3803402.000  \n",
       "Winthrop PD Non-Payroll Operating Costs   224594.000   233533.000  \n",
       "Winthrop PD Pension Costs                 745260.916   748358.573  \n",
       "Winthrop PD Fringe Benefit Costs         1108502.513  1116049.008  \n",
       "Winthrop PD Capital Costs                  40000.000        0.000  \n",
       "\n",
       "[85 rows x 6 columns]"
      ]
     },
     "execution_count": 155,
     "metadata": {},
     "output_type": "execute_result"
    }
   ],
   "source": [
    "final_results#.loc[\"trial_court Non-Payroll Operating\"]"
   ]
  },
  {
   "cell_type": "code",
   "execution_count": 151,
   "metadata": {},
   "outputs": [
    {
     "data": {
      "text/plain": [
       "budget_fiscal_year\n",
       "2016   111466652.300\n",
       "2017   108356313.990\n",
       "2018   110473319.370\n",
       "2019   124205832.610\n",
       "Name: amount, dtype: float64"
      ]
     },
     "execution_count": 151,
     "metadata": {},
     "output_type": "execute_result"
    }
   ],
   "source": [
    "trial_court = agencies[\"trial_court\"]\n",
    "trial_court.__dict__[\"non_payroll_operating_expenditures_by_year\"]"
   ]
  },
  {
   "cell_type": "markdown",
   "metadata": {},
   "source": [
    "# Check"
   ]
  },
  {
   "cell_type": "code",
   "execution_count": 169,
   "metadata": {},
   "outputs": [
    {
     "name": "stdout",
     "output_type": "stream",
     "text": [
      "all passed!!\n"
     ]
    }
   ],
   "source": [
    "index_attr_dict = {\" Payroll Costs\": \"payroll_by_year\",\n",
    "                   \" Non-Payroll Operating Costs\": \"non_payroll_operating_expenditures_by_year\",\n",
    "                   \" Pension Costs\": \"pensions\",\n",
    "                   \" Fringe Benefit Costs\": \"fringe\",\n",
    "                   \" Capital Costs\": \"capital_expenditures_by_year\"}\n",
    "for _, agency in agencies.items():\n",
    "    for cti, cta in index_attr_dict.items():\n",
    "        true = final_results.loc[agency.alias + cti , yr].astype(float).values\n",
    "        current = agency.correction_function(agency.__dict__[cta]).astype(float).values \n",
    "        assert np.allclose(a=true, b=current, rtol=1e-10), \\\n",
    "             cti + \" for \"+ agency.alias+ \" not equal\"\n",
    "print(\"all passed!!\")\n",
    "\n",
    "#     final_by_agency_type.loc[agency.alias + \" Payroll Costs\"] = \\\n",
    "#      [agency.alias]  + [\"Payroll\"] + list(agency.correction_function(agency.payroll_by_year))\n",
    "#     final_by_agency_type.loc[agency.alias + \" Non-Payroll Operating Costs\"] = \\\n",
    "#      [agency.alias] + [\"Non-Payroll Operating\"] +\\\n",
    "#      list(agency.correction_function(agency.non_payroll_operating_expenditures_by_year))\n",
    "#     final_by_agency_type.loc[agency.alias + \" Pension Costs\"] =  \\\n",
    "#      [agency.alias] + [\"Pensions\"] + list(agency.correction_function(agency.pensions))\n",
    "#     final_by_agency_type.loc[agency.alias + \" Fringe Benefit Costs\"] = \\\n",
    "#      [agency.alias] + [\"Fringe Benefits\"] + list(agency.correction_function(agency.fringe))\n",
    "#     final_by_agency_type.loc[agency.alias + \" Capital Costs\"] = \\\n",
    "#      [agency.alias] + [\"Capital\"] + list(agency.correction_function(agency.capital_expenditures_by_year))"
   ]
  },
  {
   "cell_type": "code",
   "execution_count": null,
   "metadata": {},
   "outputs": [],
   "source": []
  }
 ],
 "metadata": {
  "kernelspec": {
   "display_name": "Python 3",
   "language": "python",
   "name": "python3"
  },
  "language_info": {
   "codemirror_mode": {
    "name": "ipython",
    "version": 3
   },
   "file_extension": ".py",
   "mimetype": "text/x-python",
   "name": "python",
   "nbconvert_exporter": "python",
   "pygments_lexer": "ipython3",
   "version": "3.7.6"
  }
 },
 "nbformat": 4,
 "nbformat_minor": 4
}
