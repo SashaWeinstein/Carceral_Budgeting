{
 "cells": [
  {
   "cell_type": "markdown",
   "metadata": {},
   "source": [
    "# Generate Final Results\n",
    "This notebook I will use to save each cost type, each agency correction, and the final numbers to a .csv. These .csv's we will use for visualizing results and checking code. The code here will also be the basis of my test code for refactoring."
   ]
  },
  {
   "cell_type": "markdown",
   "metadata": {},
   "source": [
    "## Set up Environment"
   ]
  },
  {
   "cell_type": "code",
   "execution_count": 1,
   "metadata": {},
   "outputs": [],
   "source": [
    "%load_ext autoreload\n",
    "%autoreload 2"
   ]
  },
  {
   "cell_type": "code",
   "execution_count": 2,
   "metadata": {},
   "outputs": [],
   "source": [
    "import warnings\n",
    "warnings.simplefilter(action='ignore', category=FutureWarning)\n",
    "\n",
    "import pandas as pd\n",
    "import os\n",
    "import sys\n",
    "import numpy as np\n",
    "from sodapy import Socrata"
   ]
  },
  {
   "cell_type": "code",
   "execution_count": 3,
   "metadata": {},
   "outputs": [
    {
     "name": "stderr",
     "output_type": "stream",
     "text": [
      "/opt/anaconda3/lib/python3.7/site-packages/pandas/core/frame.py:4133: SettingWithCopyWarning: \n",
      "A value is trying to be set on a copy of a slice from a DataFrame\n",
      "\n",
      "See the caveats in the documentation: https://pandas.pydata.org/pandas-docs/stable/user_guide/indexing.html#returning-a-view-versus-a-copy\n",
      "  errors=errors,\n",
      "/opt/anaconda3/lib/python3.7/site-packages/pandas/core/generic.py:6245: SettingWithCopyWarning: \n",
      "A value is trying to be set on a copy of a slice from a DataFrame\n",
      "\n",
      "See the caveats in the documentation: https://pandas.pydata.org/pandas-docs/stable/user_guide/indexing.html#returning-a-view-versus-a-copy\n",
      "  self._update_inplace(new_data)\n",
      "/Users/alexanderweinstein/Documents/Harris/Summer2020/Carceral_Budgeting/Exploratory/Cost_Type_Code/Pensions/Statewide_Pensions.py:144: SettingWithCopyWarning: \n",
      "A value is trying to be set on a copy of a slice from a DataFrame.\n",
      "Try using .loc[row_indexer,col_indexer] = value instead\n",
      "\n",
      "See the caveats in the documentation: https://pandas.pydata.org/pandas-docs/stable/user_guide/indexing.html#returning-a-view-versus-a-copy\n",
      "  cthru_pensions[\"year\"] = cthru_pensions[\"year\"].astype(int)\n",
      "/Users/alexanderweinstein/Documents/Harris/Summer2020/Carceral_Budgeting/Exploratory/Agency_Classes/State_Agency.py:19: DtypeWarning: Columns (16) have mixed types.Specify dtype option on import or set low_memory=False.\n",
      "  from DCP_Capital import get_DCP_capital\n",
      "/Users/alexanderweinstein/Documents/Harris/Summer2020/Carceral_Budgeting/Exploratory/Agency_Classes/State_Agency.py:67: DtypeWarning: Columns (16) have mixed types.Specify dtype option on import or set low_memory=False.\n",
      "  self.get_expenditures_by_year()\n",
      "/Users/alexanderweinstein/Documents/Harris/Summer2020/Carceral_Budgeting/Exploratory/Agency_Classes/State_Agency.py:67: DtypeWarning: Columns (15,16) have mixed types.Specify dtype option on import or set low_memory=False.\n",
      "  self.get_expenditures_by_year()\n"
     ]
    }
   ],
   "source": [
    "import Final_Results "
   ]
  },
  {
   "cell_type": "code",
   "execution_count": 4,
   "metadata": {},
   "outputs": [],
   "source": [
    "from Initialize_Agencies import get_agencies\n",
    "yr = list(range(2016,2020))\n",
    "agencies = get_agencies(yr)"
   ]
  },
  {
   "cell_type": "markdown",
   "metadata": {},
   "source": [
    "## Save By Agency, Cost Type Pre-Correction"
   ]
  },
  {
   "cell_type": "code",
   "execution_count": 5,
   "metadata": {},
   "outputs": [
    {
     "data": {
      "text/html": [
       "<div>\n",
       "<style scoped>\n",
       "    .dataframe tbody tr th:only-of-type {\n",
       "        vertical-align: middle;\n",
       "    }\n",
       "\n",
       "    .dataframe tbody tr th {\n",
       "        vertical-align: top;\n",
       "    }\n",
       "\n",
       "    .dataframe thead th {\n",
       "        text-align: right;\n",
       "    }\n",
       "</style>\n",
       "<table border=\"1\" class=\"dataframe\">\n",
       "  <thead>\n",
       "    <tr style=\"text-align: right;\">\n",
       "      <th></th>\n",
       "      <th>Agency</th>\n",
       "      <th>Category</th>\n",
       "      <th>Cost Type</th>\n",
       "      <th>2016</th>\n",
       "      <th>2017</th>\n",
       "      <th>2018</th>\n",
       "      <th>2019</th>\n",
       "    </tr>\n",
       "  </thead>\n",
       "  <tbody>\n",
       "    <tr>\n",
       "      <th>trial_court Payroll Costs</th>\n",
       "      <td>trial_court</td>\n",
       "      <td>Legal</td>\n",
       "      <td>Payroll</td>\n",
       "      <td>488805222.036</td>\n",
       "      <td>490351865.595</td>\n",
       "      <td>505910980.367</td>\n",
       "      <td>521454178.758</td>\n",
       "    </tr>\n",
       "    <tr>\n",
       "      <th>trial_court Non-Payroll Operating Costs</th>\n",
       "      <td>trial_court</td>\n",
       "      <td>Legal</td>\n",
       "      <td>Non-Payroll Operating</td>\n",
       "      <td>111466652.300</td>\n",
       "      <td>108356313.990</td>\n",
       "      <td>110473319.370</td>\n",
       "      <td>124205832.610</td>\n",
       "    </tr>\n",
       "    <tr>\n",
       "      <th>trial_court Pension Costs</th>\n",
       "      <td>trial_court</td>\n",
       "      <td>Legal</td>\n",
       "      <td>Pensions</td>\n",
       "      <td>77354531.845</td>\n",
       "      <td>85575198.054</td>\n",
       "      <td>90402369.065</td>\n",
       "      <td>96271412.497</td>\n",
       "    </tr>\n",
       "    <tr>\n",
       "      <th>trial_court Fringe Benefit Costs</th>\n",
       "      <td>trial_court</td>\n",
       "      <td>Legal</td>\n",
       "      <td>Fringe Benefits</td>\n",
       "      <td>195791656.390</td>\n",
       "      <td>195182256.005</td>\n",
       "      <td>188077476.922</td>\n",
       "      <td>186709642.761</td>\n",
       "    </tr>\n",
       "    <tr>\n",
       "      <th>trial_court Capital Costs</th>\n",
       "      <td>trial_court</td>\n",
       "      <td>Legal</td>\n",
       "      <td>Capital</td>\n",
       "      <td>75283216.680</td>\n",
       "      <td>67766216.840</td>\n",
       "      <td>71755337.540</td>\n",
       "      <td>68686269.070</td>\n",
       "    </tr>\n",
       "    <tr>\n",
       "      <th>...</th>\n",
       "      <td>...</td>\n",
       "      <td>...</td>\n",
       "      <td>...</td>\n",
       "      <td>...</td>\n",
       "      <td>...</td>\n",
       "      <td>...</td>\n",
       "      <td>...</td>\n",
       "    </tr>\n",
       "    <tr>\n",
       "      <th>Winthrop PD Payroll Costs</th>\n",
       "      <td>Winthrop PD</td>\n",
       "      <td>Police</td>\n",
       "      <td>Payroll</td>\n",
       "      <td>2842909.000</td>\n",
       "      <td>2927191.000</td>\n",
       "      <td>3066911.000</td>\n",
       "      <td>3803402.000</td>\n",
       "    </tr>\n",
       "    <tr>\n",
       "      <th>Winthrop PD Non-Payroll Operating Costs</th>\n",
       "      <td>Winthrop PD</td>\n",
       "      <td>Police</td>\n",
       "      <td>Non-Payroll Operating</td>\n",
       "      <td>194777.000</td>\n",
       "      <td>246696.000</td>\n",
       "      <td>224594.000</td>\n",
       "      <td>233533.000</td>\n",
       "    </tr>\n",
       "    <tr>\n",
       "      <th>Winthrop PD Pension Costs</th>\n",
       "      <td>Winthrop PD</td>\n",
       "      <td>Police</td>\n",
       "      <td>Pensions</td>\n",
       "      <td>912028.782</td>\n",
       "      <td>702707.081</td>\n",
       "      <td>745260.916</td>\n",
       "      <td>748358.573</td>\n",
       "    </tr>\n",
       "    <tr>\n",
       "      <th>Winthrop PD Fringe Benefit Costs</th>\n",
       "      <td>Winthrop PD</td>\n",
       "      <td>Police</td>\n",
       "      <td>Fringe Benefits</td>\n",
       "      <td>794997.427</td>\n",
       "      <td>1188270.591</td>\n",
       "      <td>1108502.513</td>\n",
       "      <td>1116049.008</td>\n",
       "    </tr>\n",
       "    <tr>\n",
       "      <th>Winthrop PD Capital Costs</th>\n",
       "      <td>Winthrop PD</td>\n",
       "      <td>Police</td>\n",
       "      <td>Capital</td>\n",
       "      <td>0.000</td>\n",
       "      <td>39393.000</td>\n",
       "      <td>40000.000</td>\n",
       "      <td>0.000</td>\n",
       "    </tr>\n",
       "  </tbody>\n",
       "</table>\n",
       "<p>85 rows × 7 columns</p>\n",
       "</div>"
      ],
      "text/plain": [
       "                                              Agency Category   \\\n",
       "trial_court Payroll Costs                trial_court     Legal   \n",
       "trial_court Non-Payroll Operating Costs  trial_court     Legal   \n",
       "trial_court Pension Costs                trial_court     Legal   \n",
       "trial_court Fringe Benefit Costs         trial_court     Legal   \n",
       "trial_court Capital Costs                trial_court     Legal   \n",
       "...                                              ...       ...   \n",
       "Winthrop PD Payroll Costs                Winthrop PD    Police   \n",
       "Winthrop PD Non-Payroll Operating Costs  Winthrop PD    Police   \n",
       "Winthrop PD Pension Costs                Winthrop PD    Police   \n",
       "Winthrop PD Fringe Benefit Costs         Winthrop PD    Police   \n",
       "Winthrop PD Capital Costs                Winthrop PD    Police   \n",
       "\n",
       "                                                     Cost Type          2016  \\\n",
       "trial_court Payroll Costs                              Payroll 488805222.036   \n",
       "trial_court Non-Payroll Operating Costs  Non-Payroll Operating 111466652.300   \n",
       "trial_court Pension Costs                             Pensions  77354531.845   \n",
       "trial_court Fringe Benefit Costs               Fringe Benefits 195791656.390   \n",
       "trial_court Capital Costs                              Capital  75283216.680   \n",
       "...                                                        ...           ...   \n",
       "Winthrop PD Payroll Costs                              Payroll   2842909.000   \n",
       "Winthrop PD Non-Payroll Operating Costs  Non-Payroll Operating    194777.000   \n",
       "Winthrop PD Pension Costs                             Pensions    912028.782   \n",
       "Winthrop PD Fringe Benefit Costs               Fringe Benefits    794997.427   \n",
       "Winthrop PD Capital Costs                              Capital         0.000   \n",
       "\n",
       "                                                 2017          2018  \\\n",
       "trial_court Payroll Costs               490351865.595 505910980.367   \n",
       "trial_court Non-Payroll Operating Costs 108356313.990 110473319.370   \n",
       "trial_court Pension Costs                85575198.054  90402369.065   \n",
       "trial_court Fringe Benefit Costs        195182256.005 188077476.922   \n",
       "trial_court Capital Costs                67766216.840  71755337.540   \n",
       "...                                               ...           ...   \n",
       "Winthrop PD Payroll Costs                 2927191.000   3066911.000   \n",
       "Winthrop PD Non-Payroll Operating Costs    246696.000    224594.000   \n",
       "Winthrop PD Pension Costs                  702707.081    745260.916   \n",
       "Winthrop PD Fringe Benefit Costs          1188270.591   1108502.513   \n",
       "Winthrop PD Capital Costs                   39393.000     40000.000   \n",
       "\n",
       "                                                 2019  \n",
       "trial_court Payroll Costs               521454178.758  \n",
       "trial_court Non-Payroll Operating Costs 124205832.610  \n",
       "trial_court Pension Costs                96271412.497  \n",
       "trial_court Fringe Benefit Costs        186709642.761  \n",
       "trial_court Capital Costs                68686269.070  \n",
       "...                                               ...  \n",
       "Winthrop PD Payroll Costs                 3803402.000  \n",
       "Winthrop PD Non-Payroll Operating Costs    233533.000  \n",
       "Winthrop PD Pension Costs                  748358.573  \n",
       "Winthrop PD Fringe Benefit Costs          1116049.008  \n",
       "Winthrop PD Capital Costs                       0.000  \n",
       "\n",
       "[85 rows x 7 columns]"
      ]
     },
     "execution_count": 5,
     "metadata": {},
     "output_type": "execute_result"
    }
   ],
   "source": [
    "final_by_agency_type_pre_correction = Final_Results.get_preCorrection_by_Agency_Type()\n",
    "final_by_agency_type_pre_correction"
   ]
  },
  {
   "cell_type": "code",
   "execution_count": 6,
   "metadata": {},
   "outputs": [],
   "source": [
    "final_by_agency_type_pre_correction.to_csv(\"Final_By_Agency_Type_preCorrection.csv\")"
   ]
  },
  {
   "cell_type": "markdown",
   "metadata": {},
   "source": [
    "## Save By Agency and Cost Type After Correction"
   ]
  },
  {
   "cell_type": "code",
   "execution_count": 7,
   "metadata": {},
   "outputs": [],
   "source": [
    "final_by_agency_type = Final_Results.get_by_Agency_Type()\n"
   ]
  },
  {
   "cell_type": "code",
   "execution_count": 8,
   "metadata": {},
   "outputs": [],
   "source": [
    "final_by_agency_type.to_csv(\"Final_by_Agency_Type.csv\")"
   ]
  },
  {
   "cell_type": "markdown",
   "metadata": {},
   "source": [
    "## Save by Cost Type Before Splitting Payroll"
   ]
  },
  {
   "cell_type": "code",
   "execution_count": 9,
   "metadata": {},
   "outputs": [],
   "source": [
    "by_type = Final_Results.get_by_Type()\n",
    "by_type.to_csv(\"Final_by_CostType.csv\")"
   ]
  },
  {
   "cell_type": "markdown",
   "metadata": {},
   "source": [
    "## Save by Agency and Cost Type After Correction and Splitting Payroll\n",
    "\"Splitting Payroll\" refers to diving payroll into stated payroll expenditures and hidden payroll\n"
   ]
  },
  {
   "cell_type": "code",
   "execution_count": 10,
   "metadata": {},
   "outputs": [],
   "source": [
    "by_agency_type_SP = Final_Results.get_by_Agency_Type_SP()"
   ]
  },
  {
   "cell_type": "code",
   "execution_count": 11,
   "metadata": {},
   "outputs": [],
   "source": [
    "by_agency_type_SP.to_csv(\"Final_by_Agency_Type_splitHidden.csv\")"
   ]
  },
  {
   "cell_type": "markdown",
   "metadata": {},
   "source": [
    "## Save by Cost Type with Payroll Split"
   ]
  },
  {
   "cell_type": "code",
   "execution_count": 12,
   "metadata": {},
   "outputs": [],
   "source": [
    "by_cost_type_SP = Final_Results.get_by_Type_SP()\n",
    "by_cost_type_SP.to_csv(\"Final_by_Cost_Type_splitPayroll.csv\") "
   ]
  },
  {
   "cell_type": "markdown",
   "metadata": {},
   "source": [
    "## Save By Agency"
   ]
  },
  {
   "cell_type": "code",
   "execution_count": 13,
   "metadata": {},
   "outputs": [
    {
     "data": {
      "text/html": [
       "<div>\n",
       "<style scoped>\n",
       "    .dataframe tbody tr th:only-of-type {\n",
       "        vertical-align: middle;\n",
       "    }\n",
       "\n",
       "    .dataframe tbody tr th {\n",
       "        vertical-align: top;\n",
       "    }\n",
       "\n",
       "    .dataframe thead th {\n",
       "        text-align: right;\n",
       "    }\n",
       "</style>\n",
       "<table border=\"1\" class=\"dataframe\">\n",
       "  <thead>\n",
       "    <tr style=\"text-align: right;\">\n",
       "      <th></th>\n",
       "      <th>2016</th>\n",
       "      <th>2017</th>\n",
       "      <th>2018</th>\n",
       "      <th>2019</th>\n",
       "    </tr>\n",
       "    <tr>\n",
       "      <th>Agency</th>\n",
       "      <th></th>\n",
       "      <th></th>\n",
       "      <th></th>\n",
       "      <th></th>\n",
       "    </tr>\n",
       "  </thead>\n",
       "  <tbody>\n",
       "    <tr>\n",
       "      <th>Appeals_Court</th>\n",
       "      <td>1547196.108</td>\n",
       "      <td>1419499.865</td>\n",
       "      <td>1523190.353</td>\n",
       "      <td>1352878.223</td>\n",
       "    </tr>\n",
       "    <tr>\n",
       "      <th>Boston PD</th>\n",
       "      <td>518994822.919</td>\n",
       "      <td>551463473.857</td>\n",
       "      <td>600296744.558</td>\n",
       "      <td>609365362.557</td>\n",
       "    </tr>\n",
       "    <tr>\n",
       "      <th>CJT</th>\n",
       "      <td>789737.676</td>\n",
       "      <td>764593.845</td>\n",
       "      <td>700679.541</td>\n",
       "      <td>744786.649</td>\n",
       "    </tr>\n",
       "    <tr>\n",
       "      <th>CPCS</th>\n",
       "      <td>3714259.766</td>\n",
       "      <td>3652540.420</td>\n",
       "      <td>3946433.269</td>\n",
       "      <td>4314706.142</td>\n",
       "    </tr>\n",
       "    <tr>\n",
       "      <th>Chelsea PD</th>\n",
       "      <td>12424047.817</td>\n",
       "      <td>15808338.452</td>\n",
       "      <td>16438498.368</td>\n",
       "      <td>18552274.368</td>\n",
       "    </tr>\n",
       "    <tr>\n",
       "      <th>DAA</th>\n",
       "      <td>459508.728</td>\n",
       "      <td>462713.638</td>\n",
       "      <td>465143.794</td>\n",
       "      <td>482893.044</td>\n",
       "    </tr>\n",
       "    <tr>\n",
       "      <th>DOC</th>\n",
       "      <td>126408522.006</td>\n",
       "      <td>118321272.736</td>\n",
       "      <td>138407125.728</td>\n",
       "      <td>149294759.597</td>\n",
       "    </tr>\n",
       "    <tr>\n",
       "      <th>MA Sheriff's Association</th>\n",
       "      <td>51367.012</td>\n",
       "      <td>47487.962</td>\n",
       "      <td>47490.591</td>\n",
       "      <td>43957.408</td>\n",
       "    </tr>\n",
       "    <tr>\n",
       "      <th>MBTA</th>\n",
       "      <td>5208655.920</td>\n",
       "      <td>5217654.508</td>\n",
       "      <td>5305507.847</td>\n",
       "      <td>6150564.439</td>\n",
       "    </tr>\n",
       "    <tr>\n",
       "      <th>Parole_Board</th>\n",
       "      <td>4340502.660</td>\n",
       "      <td>3980013.098</td>\n",
       "      <td>4717324.591</td>\n",
       "      <td>5476411.321</td>\n",
       "    </tr>\n",
       "    <tr>\n",
       "      <th>Revere PD</th>\n",
       "      <td>20268086.145</td>\n",
       "      <td>20527250.355</td>\n",
       "      <td>20912629.256</td>\n",
       "      <td>21563189.235</td>\n",
       "    </tr>\n",
       "    <tr>\n",
       "      <th>State_Police</th>\n",
       "      <td>70055731.298</td>\n",
       "      <td>72607629.524</td>\n",
       "      <td>74167089.457</td>\n",
       "      <td>74842923.766</td>\n",
       "    </tr>\n",
       "    <tr>\n",
       "      <th>Suffolk_DA</th>\n",
       "      <td>25755956.002</td>\n",
       "      <td>26218634.860</td>\n",
       "      <td>26294244.574</td>\n",
       "      <td>28492116.568</td>\n",
       "    </tr>\n",
       "    <tr>\n",
       "      <th>Suffolk_Sheriff</th>\n",
       "      <td>136702362.039</td>\n",
       "      <td>136776539.248</td>\n",
       "      <td>138587025.324</td>\n",
       "      <td>140810652.498</td>\n",
       "    </tr>\n",
       "    <tr>\n",
       "      <th>Supreme_Judicial_Court</th>\n",
       "      <td>1779670.814</td>\n",
       "      <td>1738953.324</td>\n",
       "      <td>1904399.076</td>\n",
       "      <td>2096447.277</td>\n",
       "    </tr>\n",
       "    <tr>\n",
       "      <th>Winthrop PD</th>\n",
       "      <td>4744712.210</td>\n",
       "      <td>5104257.671</td>\n",
       "      <td>5185268.430</td>\n",
       "      <td>5901342.581</td>\n",
       "    </tr>\n",
       "    <tr>\n",
       "      <th>trial_court</th>\n",
       "      <td>47797656.967</td>\n",
       "      <td>45660081.876</td>\n",
       "      <td>50846518.875</td>\n",
       "      <td>52538837.358</td>\n",
       "    </tr>\n",
       "  </tbody>\n",
       "</table>\n",
       "</div>"
      ],
      "text/plain": [
       "                                  2016          2017          2018  \\\n",
       "Agency                                                               \n",
       "Appeals_Court              1547196.108   1419499.865   1523190.353   \n",
       "Boston PD                518994822.919 551463473.857 600296744.558   \n",
       "CJT                         789737.676    764593.845    700679.541   \n",
       "CPCS                       3714259.766   3652540.420   3946433.269   \n",
       "Chelsea PD                12424047.817  15808338.452  16438498.368   \n",
       "DAA                         459508.728    462713.638    465143.794   \n",
       "DOC                      126408522.006 118321272.736 138407125.728   \n",
       "MA Sheriff's Association     51367.012     47487.962     47490.591   \n",
       "MBTA                       5208655.920   5217654.508   5305507.847   \n",
       "Parole_Board               4340502.660   3980013.098   4717324.591   \n",
       "Revere PD                 20268086.145  20527250.355  20912629.256   \n",
       "State_Police              70055731.298  72607629.524  74167089.457   \n",
       "Suffolk_DA                25755956.002  26218634.860  26294244.574   \n",
       "Suffolk_Sheriff          136702362.039 136776539.248 138587025.324   \n",
       "Supreme_Judicial_Court     1779670.814   1738953.324   1904399.076   \n",
       "Winthrop PD                4744712.210   5104257.671   5185268.430   \n",
       "trial_court               47797656.967  45660081.876  50846518.875   \n",
       "\n",
       "                                  2019  \n",
       "Agency                                  \n",
       "Appeals_Court              1352878.223  \n",
       "Boston PD                609365362.557  \n",
       "CJT                         744786.649  \n",
       "CPCS                       4314706.142  \n",
       "Chelsea PD                18552274.368  \n",
       "DAA                         482893.044  \n",
       "DOC                      149294759.597  \n",
       "MA Sheriff's Association     43957.408  \n",
       "MBTA                       6150564.439  \n",
       "Parole_Board               5476411.321  \n",
       "Revere PD                 21563189.235  \n",
       "State_Police              74842923.766  \n",
       "Suffolk_DA                28492116.568  \n",
       "Suffolk_Sheriff          140810652.498  \n",
       "Supreme_Judicial_Court     2096447.277  \n",
       "Winthrop PD                5901342.581  \n",
       "trial_court               52538837.358  "
      ]
     },
     "execution_count": 13,
     "metadata": {},
     "output_type": "execute_result"
    }
   ],
   "source": [
    "by_agency = Final_Results.get_by_Agency()\n",
    "by_agency"
   ]
  },
  {
   "cell_type": "code",
   "execution_count": 14,
   "metadata": {},
   "outputs": [],
   "source": [
    "by_agency.to_csv(\"Final_by_Agency.csv\") "
   ]
  },
  {
   "cell_type": "markdown",
   "metadata": {},
   "source": [
    "## Save By Agency Split into Hidden and Non-Hidden"
   ]
  },
  {
   "cell_type": "code",
   "execution_count": 15,
   "metadata": {},
   "outputs": [],
   "source": [
    "by_agency_SH = Final_Results.get_by_Agency_SH()\n",
    "by_agency_SH.to_csv(\"Final_by_Agency_splitHidden.csv\")"
   ]
  },
  {
   "cell_type": "markdown",
   "metadata": {},
   "source": [
    "## Save by Category"
   ]
  },
  {
   "cell_type": "code",
   "execution_count": 16,
   "metadata": {},
   "outputs": [],
   "source": [
    "final_by_category = Final_Results.get_by_Category()\n",
    "final_by_category.to_csv(\"Final_by_Category.csv\")\n"
   ]
  },
  {
   "cell_type": "markdown",
   "metadata": {},
   "source": [
    "## Save by Category split into Hidden and Non-Hidden"
   ]
  },
  {
   "cell_type": "code",
   "execution_count": 17,
   "metadata": {},
   "outputs": [],
   "source": [
    "final_by_category_SH = Final_Results.get_by_Category_SH()\n",
    "final_by_category_SH.to_csv(\"Final_by_Category_splitHidden.csv\")"
   ]
  },
  {
   "cell_type": "markdown",
   "metadata": {},
   "source": [
    "## Save By Year"
   ]
  },
  {
   "cell_type": "code",
   "execution_count": 18,
   "metadata": {},
   "outputs": [],
   "source": [
    "final_by_year = Final_Results.get_by_Year()\n",
    "final_by_year.to_csv(\"Final_by_Year.csv\", header = [\"Year\", \"Total Cost\"], index_label = False)"
   ]
  },
  {
   "cell_type": "markdown",
   "metadata": {},
   "source": [
    "## Save By Year Split into Non-Hidden, Hidden"
   ]
  },
  {
   "cell_type": "code",
   "execution_count": 19,
   "metadata": {},
   "outputs": [],
   "source": [
    "final_by_year_SH = Final_Results.get_by_Year_SH()\n",
    "final_by_year_SH.to_csv(\"Final_by_Year_splitHidden.csv\")"
   ]
  },
  {
   "cell_type": "markdown",
   "metadata": {},
   "source": [
    "## Save Agency Corrections"
   ]
  },
  {
   "cell_type": "code",
   "execution_count": 20,
   "metadata": {},
   "outputs": [],
   "source": [
    "from Agency_Corrections import all_agency_corrections\n",
    "Agency_Corrections = Final_Results.all_agency_corrections()\n",
    "Agency_Corrections.to_csv(\"Final_Agency_Corrections.csv\")"
   ]
  }
 ],
 "metadata": {
  "kernelspec": {
   "display_name": "Python 3",
   "language": "python",
   "name": "python3"
  },
  "language_info": {
   "codemirror_mode": {
    "name": "ipython",
    "version": 3
   },
   "file_extension": ".py",
   "mimetype": "text/x-python",
   "name": "python",
   "nbconvert_exporter": "python",
   "pygments_lexer": "ipython3",
   "version": "3.7.6"
  }
 },
 "nbformat": 4,
 "nbformat_minor": 4
}
