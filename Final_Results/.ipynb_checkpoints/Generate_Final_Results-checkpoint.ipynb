{
 "cells": [
  {
   "cell_type": "markdown",
   "metadata": {},
   "source": [
    "# Generate Final Results\n",
    "This notebook I will use to save each cost type, each agency correction, and the final numbers to a .csv. These .csv's we will use for visualizing results and checking code. The code here will also be the basis of my test code for refactoring."
   ]
  },
  {
   "cell_type": "markdown",
   "metadata": {},
   "source": [
    "## Set up Environment"
   ]
  },
  {
   "cell_type": "code",
   "execution_count": 1,
   "metadata": {},
   "outputs": [],
   "source": [
    "%load_ext autoreload\n",
    "%autoreload 2"
   ]
  },
  {
   "cell_type": "code",
   "execution_count": 2,
   "metadata": {},
   "outputs": [],
   "source": [
    "import warnings\n",
    "warnings.simplefilter(action='ignore', category=FutureWarning)\n",
    "\n",
    "import pandas as pd\n",
    "import os\n",
    "import sys\n",
    "import numpy as np\n",
    "from sodapy import Socrata"
   ]
  },
  {
   "cell_type": "code",
   "execution_count": 3,
   "metadata": {},
   "outputs": [],
   "source": [
    "sys.path.insert(0, os.path.abspath(\"../\"))"
   ]
  },
  {
   "cell_type": "code",
   "execution_count": 4,
   "metadata": {},
   "outputs": [
    {
     "ename": "ModuleNotFoundError",
     "evalue": "No module named 'Initialize_Agencies_3Ver'",
     "output_type": "error",
     "traceback": [
      "\u001b[0;31m---------------------------------------------------------------------------\u001b[0m",
      "\u001b[0;31mModuleNotFoundError\u001b[0m                       Traceback (most recent call last)",
      "\u001b[0;32m<ipython-input-4-311cf29c0d16>\u001b[0m in \u001b[0;36m<module>\u001b[0;34m\u001b[0m\n\u001b[0;32m----> 1\u001b[0;31m \u001b[0;32mfrom\u001b[0m \u001b[0mInitialize_Agencies_3Ver\u001b[0m \u001b[0;32mimport\u001b[0m \u001b[0mget_agencies\u001b[0m\u001b[0;34m\u001b[0m\u001b[0;34m\u001b[0m\u001b[0m\n\u001b[0m\u001b[1;32m      2\u001b[0m \u001b[0myr\u001b[0m \u001b[0;34m=\u001b[0m \u001b[0mlist\u001b[0m\u001b[0;34m(\u001b[0m\u001b[0mrange\u001b[0m\u001b[0;34m(\u001b[0m\u001b[0;36m2016\u001b[0m\u001b[0;34m,\u001b[0m\u001b[0;36m2020\u001b[0m\u001b[0;34m)\u001b[0m\u001b[0;34m)\u001b[0m\u001b[0;34m\u001b[0m\u001b[0;34m\u001b[0m\u001b[0m\n\u001b[1;32m      3\u001b[0m \u001b[0magencies\u001b[0m \u001b[0;34m=\u001b[0m \u001b[0mget_agencies\u001b[0m\u001b[0;34m(\u001b[0m\u001b[0myr\u001b[0m\u001b[0;34m)\u001b[0m\u001b[0;34m\u001b[0m\u001b[0;34m\u001b[0m\u001b[0m\n",
      "\u001b[0;31mModuleNotFoundError\u001b[0m: No module named 'Initialize_Agencies_3Ver'"
     ]
    }
   ],
   "source": [
    "from Initialize_Agencies import get_agencies\n",
    "yr = list(range(2016,2020))\n",
    "agencies = get_agencies(yr)"
   ]
  },
  {
   "cell_type": "markdown",
   "metadata": {},
   "source": [
    "## Save By Agency, Cost Type Pre-Correction"
   ]
  },
  {
   "cell_type": "markdown",
   "metadata": {},
   "source": [
    "Iterate through each agency, save each cost type to a line in a .csv\n"
   ]
  },
  {
   "cell_type": "markdown",
   "metadata": {},
   "source": [
    "This code I will also use for testing, iterate through each agency and list all that don't match"
   ]
  },
  {
   "cell_type": "code",
   "execution_count": null,
   "metadata": {},
   "outputs": [],
   "source": [
    "final_by_agency_type_pre_correction = pd.DataFrame(columns=[\"Agency\"] + [\"Cost Type\"] + yr)\n"
   ]
  },
  {
   "cell_type": "code",
   "execution_count": null,
   "metadata": {},
   "outputs": [],
   "source": [
    "for _, agency in agencies.items():\n",
    "    final_by_agency_type_pre_correction.loc[agency.alias + \" Payroll Costs\"] = \\\n",
    "     [agency.alias]  + [\"Payroll\"] + list(agency.payroll_by_year)\n",
    "    final_by_agency_type_pre_correction.loc[agency.alias + \" Non-Payroll Operating Costs\"] = \\\n",
    "     [agency.alias] + [\"Non-Payroll Operating\"] + list(agency.non_payroll_operating_expenditures_by_year)\n",
    "    final_by_agency_type_pre_correction.loc[agency.alias + \" Pension Costs\"] =  \\\n",
    "     [agency.alias] + [\"Pensions\"] + list(agency.pensions)\n",
    "    final_by_agency_type_pre_correction.loc[agency.alias + \" Fringe Benefit Costs\"] = \\\n",
    "     [agency.alias] + [\"Fringe Benefits\"] + list(agency.fringe)\n",
    "    final_by_agency_type_pre_correction.loc[agency.alias + \" Capital Costs\"] = \\\n",
    "     [agency.alias] + [\"Capital\"] + list(agency.capital_expenditures_by_year)"
   ]
  },
  {
   "cell_type": "code",
   "execution_count": null,
   "metadata": {},
   "outputs": [],
   "source": [
    "final_by_agency_type_pre_correction.to_csv(\"Final_By_Agency_Type_preCorrection.csv\")"
   ]
  },
  {
   "cell_type": "markdown",
   "metadata": {},
   "source": [
    "## Save By Agency, Cost Type After Correction"
   ]
  },
  {
   "cell_type": "code",
   "execution_count": null,
   "metadata": {},
   "outputs": [],
   "source": [
    "final_by_agency_type = pd.DataFrame(columns=[\"Agency\"] + [\"Cost Type\"] + yr)\n",
    "for _, agency in agencies.items():\n",
    "    final_by_agency_type.loc[agency.alias + \" Payroll Costs\"] = \\\n",
    "     [agency.alias]  + [\"Payroll\"] + list(agency.correction_function(agency.payroll_by_year))\n",
    "    final_by_agency_type.loc[agency.alias + \" Non-Payroll Operating Costs\"] = \\\n",
    "     [agency.alias] + [\"Non-Payroll Operating\"] +\\\n",
    "     list(agency.correction_function(agency.non_payroll_operating_expenditures_by_year))\n",
    "    final_by_agency_type.loc[agency.alias + \" Pension Costs\"] =  \\\n",
    "     [agency.alias] + [\"Pensions\"] + list(agency.correction_function(agency.pensions))\n",
    "    final_by_agency_type.loc[agency.alias + \" Fringe Benefit Costs\"] = \\\n",
    "     [agency.alias] + [\"Fringe Benefits\"] + list(agency.correction_function(agency.fringe))\n",
    "    final_by_agency_type.loc[agency.alias + \" Capital Costs\"] = \\\n",
    "     [agency.alias] + [\"Capital\"] + list(agency.correction_function(agency.capital_expenditures_by_year))"
   ]
  },
  {
   "cell_type": "code",
   "execution_count": null,
   "metadata": {},
   "outputs": [],
   "source": [
    "final_by_agency_type"
   ]
  },
  {
   "cell_type": "code",
   "execution_count": null,
   "metadata": {},
   "outputs": [],
   "source": [
    "final_by_agency_type.to_csv(\"Final_by_Agency_Type.csv\")"
   ]
  },
  {
   "cell_type": "markdown",
   "metadata": {},
   "source": [
    "## Save By Agency"
   ]
  },
  {
   "cell_type": "code",
   "execution_count": null,
   "metadata": {},
   "outputs": [],
   "source": [
    "final_by_agency = final_by_agency_type.groupby(\"Agency\").sum()[yr]\n",
    "final_by_agency"
   ]
  },
  {
   "cell_type": "code",
   "execution_count": null,
   "metadata": {},
   "outputs": [],
   "source": [
    "final_by_agency.to_csv(\"Final_by_Agency.csv\") "
   ]
  },
  {
   "cell_type": "markdown",
   "metadata": {},
   "source": [
    "## Save by Cost Type"
   ]
  },
  {
   "cell_type": "code",
   "execution_count": null,
   "metadata": {},
   "outputs": [],
   "source": [
    "final_by_cost_type = final_by_agency_type.groupby(\"Cost Type\").sum()[yr]\n",
    "final_by_cost_type.to_csv(\"Final_by_CostType.csv\")"
   ]
  },
  {
   "cell_type": "markdown",
   "metadata": {},
   "source": [
    "## Save By Year"
   ]
  },
  {
   "cell_type": "code",
   "execution_count": null,
   "metadata": {},
   "outputs": [],
   "source": [
    "final_by_year = pd.DataFrame(final_by_agency.sum()[yr]).reset_index()"
   ]
  },
  {
   "cell_type": "code",
   "execution_count": null,
   "metadata": {},
   "outputs": [],
   "source": [
    "final_by_year.to_csv(\"Final_by_Year.csv\", header = [\"Year\", \"Total Cost\"], index_label = False)"
   ]
  },
  {
   "cell_type": "markdown",
   "metadata": {},
   "source": [
    "## Save Agency Corrections"
   ]
  },
  {
   "cell_type": "code",
   "execution_count": null,
   "metadata": {},
   "outputs": [],
   "source": [
    "from Agency_Corrections import all_agency_corrections\n",
    "Agency_Corrections = all_agency_corrections()\n",
    "Agency_Corrections.to_csv(\"Final_Agency_Corrections.csv\")"
   ]
  },
  {
   "cell_type": "code",
   "execution_count": null,
   "metadata": {},
   "outputs": [],
   "source": []
  }
 ],
 "metadata": {
  "kernelspec": {
   "display_name": "Python 3",
   "language": "python",
   "name": "python3"
  },
  "language_info": {
   "codemirror_mode": {
    "name": "ipython",
    "version": 3
   },
   "file_extension": ".py",
   "mimetype": "text/x-python",
   "name": "python",
   "nbconvert_exporter": "python",
   "pygments_lexer": "ipython3",
   "version": "3.7.6"
  }
 },
 "nbformat": 4,
 "nbformat_minor": 4
}
