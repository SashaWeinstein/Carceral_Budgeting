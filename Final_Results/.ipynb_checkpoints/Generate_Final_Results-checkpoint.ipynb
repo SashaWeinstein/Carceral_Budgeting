{
 "cells": [
  {
   "cell_type": "markdown",
   "metadata": {},
   "source": [
    "# Generate Final Results\n",
    "This notebook I will use to save each cost type, each agency correction, and the final numbers to a .csv. These .csv's we will use for visualizing results and checking code. The code here will also be the basis of my test code for refactoring."
   ]
  },
  {
   "cell_type": "markdown",
   "metadata": {},
   "source": [
    "## Set up Environment"
   ]
  },
  {
   "cell_type": "code",
   "execution_count": 29,
   "metadata": {},
   "outputs": [
    {
     "name": "stdout",
     "output_type": "stream",
     "text": [
      "The autoreload extension is already loaded. To reload it, use:\n",
      "  %reload_ext autoreload\n"
     ]
    }
   ],
   "source": [
    "%load_ext autoreload\n",
    "%autoreload 2"
   ]
  },
  {
   "cell_type": "code",
   "execution_count": 30,
   "metadata": {},
   "outputs": [],
   "source": [
    "import warnings\n",
    "warnings.simplefilter(action='ignore', category=FutureWarning)\n",
    "\n",
    "import pandas as pd\n",
    "import os\n",
    "import sys\n",
    "import numpy as np\n",
    "from sodapy import Socrata"
   ]
  },
  {
   "cell_type": "code",
   "execution_count": 31,
   "metadata": {},
   "outputs": [],
   "source": [
    "sys.path.insert(0, os.path.abspath(\"../\"))"
   ]
  },
  {
   "cell_type": "code",
   "execution_count": 87,
   "metadata": {},
   "outputs": [
    {
     "name": "stderr",
     "output_type": "stream",
     "text": [
      "/Users/alexanderweinstein/Documents/Harris/Summer2020/Carceral_Budgeting/Exploratory/Agency_Classes_2Ver.py:184: DtypeWarning: Columns (16) have mixed types.Specify dtype option on import or set low_memory=False.\n",
      "  self.get_expenditures_by_year()\n",
      "/Users/alexanderweinstein/Documents/Harris/Summer2020/Carceral_Budgeting/Exploratory/Agency_Classes_2Ver.py:178: DtypeWarning: Columns (16) have mixed types.Specify dtype option on import or set low_memory=False.\n",
      "  self.get_final_costs()\n",
      "/Users/alexanderweinstein/Documents/Harris/Summer2020/Carceral_Budgeting/Exploratory/Agency_Classes_2Ver.py:184: DtypeWarning: Columns (15,16) have mixed types.Specify dtype option on import or set low_memory=False.\n",
      "  self.get_expenditures_by_year()\n"
     ]
    },
    {
     "name": "stdout",
     "output_type": "stream",
     "text": [
      "got to add true earnings for Boston PD\n",
      "capital expenditures by year index is\n"
     ]
    },
    {
     "data": {
      "text/plain": [
       "2016     5441996\n",
       "2017     7909564\n",
       "2018    18625711\n",
       "2019     8502943\n",
       "2014      748832\n",
       "2015      688151\n",
       "dtype: int64"
      ]
     },
     "metadata": {},
     "output_type": "display_data"
    },
    {
     "name": "stdout",
     "output_type": "stream",
     "text": [
      "year range is\n"
     ]
    },
    {
     "data": {
      "text/plain": [
       "[2016, 2017, 2018, 2019, 2020, 2021]"
      ]
     },
     "metadata": {},
     "output_type": "display_data"
    },
    {
     "name": "stdout",
     "output_type": "stream",
     "text": [
      "got to add true earnings for Chelsea PD\n",
      "capital expenditures by year index is\n"
     ]
    },
    {
     "data": {
      "text/plain": [
       "2016   173000.000\n",
       "2017   164000.000\n",
       "2018   161438.910\n",
       "2019        0.000\n",
       "dtype: float64"
      ]
     },
     "metadata": {},
     "output_type": "display_data"
    },
    {
     "name": "stdout",
     "output_type": "stream",
     "text": [
      "year range is\n"
     ]
    },
    {
     "data": {
      "text/plain": [
       "[2016, 2017, 2018, 2019, 2020]"
      ]
     },
     "metadata": {},
     "output_type": "display_data"
    }
   ],
   "source": [
    "from Initialize_Agencies_3Ver import get_agencies\n",
    "yr = list(range(2016,2020))\n",
    "agencies = get_agencies(yr)"
   ]
  },
  {
   "cell_type": "markdown",
   "metadata": {},
   "source": [
    "## Save By Agency, Cost Type Pre-Correction"
   ]
  },
  {
   "cell_type": "markdown",
   "metadata": {},
   "source": [
    "Iterate through each agency, save each cost type to a line in a .csv\n"
   ]
  },
  {
   "cell_type": "markdown",
   "metadata": {},
   "source": [
    "This code I will also use for testing, iterate through each agency and list all that don't match"
   ]
  },
  {
   "cell_type": "code",
   "execution_count": 88,
   "metadata": {},
   "outputs": [],
   "source": [
    "final_by_agency_type_pre_correction = pd.DataFrame(columns=[\"Agency\"] + [\"Cost Type\"] + yr)\n"
   ]
  },
  {
   "cell_type": "code",
   "execution_count": 89,
   "metadata": {},
   "outputs": [],
   "source": [
    "for _, agency in agencies.items():\n",
    "    final_by_agency_type_pre_correction.loc[agency.alias + \" Payroll Costs\"] = \\\n",
    "     [agency.alias]  + [\"Payroll\"] + list(agency.payroll_by_year)\n",
    "    final_by_agency_type_pre_correction.loc[agency.alias + \" Non-Payroll Operating Costs\"] = \\\n",
    "     [agency.alias] + [\"Non-Payroll Operating\"] + list(agency.non_payroll_operating_expenditures_by_year)\n",
    "    final_by_agency_type_pre_correction.loc[agency.alias + \" Pension Costs\"] =  \\\n",
    "     [agency.alias] + [\"Pensions\"] + list(agency.pensions)\n",
    "    final_by_agency_type_pre_correction.loc[agency.alias + \" Fringe Benefit Costs\"] = \\\n",
    "     [agency.alias] + [\"Fringe Benefits\"] + list(agency.fringe)\n",
    "    final_by_agency_type_pre_correction.loc[agency.alias + \" Capital Costs\"] = \\\n",
    "     [agency.alias] + [\"Capital\"] + list(agency.capital_expenditures_by_year)"
   ]
  },
  {
   "cell_type": "code",
   "execution_count": 35,
   "metadata": {},
   "outputs": [],
   "source": [
    "final_by_agency_type_pre_correction.to_csv(\"Final_By_Agency_Type_preCorrection_Dec27.csv\")"
   ]
  },
  {
   "cell_type": "markdown",
   "metadata": {},
   "source": [
    "## Save By Agency, Cost Type After Correction"
   ]
  },
  {
   "cell_type": "code",
   "execution_count": 94,
   "metadata": {},
   "outputs": [],
   "source": [
    "final_by_agency_type = pd.DataFrame(columns=[\"Agency\"] + [\"Cost Type\"] + yr)\n",
    "for _, agency in agencies.items():\n",
    "    final_by_agency_type.loc[agency.alias + \" Payroll Costs\"] = \\\n",
    "     [agency.alias]  + [\"Payroll\"] + list(agency.correction_function(agency.payroll_by_year))\n",
    "    final_by_agency_type.loc[agency.alias + \" Non-Payroll Operating Costs\"] = \\\n",
    "     [agency.alias] + [\"Non-Payroll Operating\"] +\\\n",
    "     list(agency.correction_function(agency.non_payroll_operating_expenditures_by_year))\n",
    "    final_by_agency_type.loc[agency.alias + \" Pension Costs\"] =  \\\n",
    "     [agency.alias] + [\"Pensions\"] + list(agency.correction_function(agency.pensions))\n",
    "    final_by_agency_type.loc[agency.alias + \" Fringe Benefit Costs\"] = \\\n",
    "     [agency.alias] + [\"Fringe Benefits\"] + list(agency.correction_function(agency.fringe))\n",
    "    final_by_agency_type.loc[agency.alias + \" Capital Costs\"] = \\\n",
    "     [agency.alias] + [\"Capital\"] + list(agency.correction_function(agency.capital_expenditures_by_year))"
   ]
  },
  {
   "cell_type": "code",
   "execution_count": 38,
   "metadata": {},
   "outputs": [],
   "source": [
    "final_by_agency_type.to_csv(\"Final_by_Agency_Type_Dec27.csv\")"
   ]
  },
  {
   "cell_type": "markdown",
   "metadata": {},
   "source": [
    "## Save By Agency"
   ]
  },
  {
   "cell_type": "code",
   "execution_count": 98,
   "metadata": {},
   "outputs": [],
   "source": [
    "final_by_agency = final_by_agency_type.groupby(\"Agency\").sum()[yr]\n",
    "final_by_agency.to_csv(\"Final_by_Agency_Dec27.csv\")"
   ]
  },
  {
   "cell_type": "markdown",
   "metadata": {},
   "source": [
    "## Save by Cost Type"
   ]
  },
  {
   "cell_type": "code",
   "execution_count": 99,
   "metadata": {},
   "outputs": [],
   "source": [
    "final_by_cost_type = final_by_agency_type.groupby(\"Cost Type\").sum()[yr]\n",
    "final_by_cost_type.to_csv(\"Final_by_CostType_Dec27.csv\")"
   ]
  },
  {
   "cell_type": "markdown",
   "metadata": {},
   "source": [
    "## Save By Year"
   ]
  },
  {
   "cell_type": "code",
   "execution_count": 100,
   "metadata": {},
   "outputs": [],
   "source": [
    "final_by_year = final_by_agency.sum()[yr]\n",
    "final_by_year.to_csv(\"Final_by_Year_Dec27.csv\")"
   ]
  },
  {
   "cell_type": "markdown",
   "metadata": {},
   "source": [
    "## Save Agency Corrections"
   ]
  },
  {
   "cell_type": "code",
   "execution_count": 103,
   "metadata": {},
   "outputs": [],
   "source": [
    "from Agency_Corrections import all_agency_corrections\n",
    "Agency_Corrections = all_agency_corrections()\n",
    "Agency_Corrections.to_csv(\"Agency_Corrections_Dec27.csv\")"
   ]
  }
 ],
 "metadata": {
  "kernelspec": {
   "display_name": "Python 3",
   "language": "python",
   "name": "python3"
  },
  "language_info": {
   "codemirror_mode": {
    "name": "ipython",
    "version": 3
   },
   "file_extension": ".py",
   "mimetype": "text/x-python",
   "name": "python",
   "nbconvert_exporter": "python",
   "pygments_lexer": "ipython3",
   "version": "3.7.6"
  }
 },
 "nbformat": 4,
 "nbformat_minor": 4
}
