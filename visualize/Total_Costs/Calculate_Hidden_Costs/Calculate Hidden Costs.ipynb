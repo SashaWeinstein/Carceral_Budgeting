{
 "cells": [
  {
   "cell_type": "markdown",
   "metadata": {},
   "source": [
    "# Calculate Hidden Costs\n",
    "On Sep 29th I decided to go back and calculate what % of the total cost of the carceral state over the 4 year period is \"hidden.\" Hidden costs are defined as all pension costs, all fringe benefit costs, all capital costs, and payroll costs for Boston and Chelsea that exceed the payroll costs listed in the city budget documents"
   ]
  },
  {
   "cell_type": "code",
   "execution_count": 1,
   "metadata": {},
   "outputs": [],
   "source": [
    "%load_ext autoreload\n",
    "%autoreload 2"
   ]
  },
  {
   "cell_type": "code",
   "execution_count": 5,
   "metadata": {},
   "outputs": [],
   "source": [
    "import pandas as pd\n",
    "import sys\n",
    "import os\n",
    "if not sys.warnoptions:\n",
    "    import warnings\n",
    "    warnings.simplefilter(\"ignore\")\n",
    "import seaborn as sns\n",
    "sns.set(rc={\"figure.figsize\": (20, 18), \"lines.linewidth\": 5})\n",
    "sns.set_style(\"darkgrid\")"
   ]
  },
  {
   "cell_type": "code",
   "execution_count": 23,
   "metadata": {},
   "outputs": [
    {
     "name": "stdout",
     "output_type": "stream",
     "text": [
      "\n"
     ]
    }
   ],
   "source": [
    "sys.path.insert(0, \"/Users/alexanderweinstein/Documents/Harris/Summer2020/Carceral_Budgeting/Exploratory/\"\n",
    "                   \"visualize/Total_Costs/Total_Costs_by_Type\")\n",
    "from Total_Costs_by_Type_2Ver import by_type\n",
    "# from Full_Project_Reportback_1Ver import plot_over_time"
   ]
  },
  {
   "cell_type": "code",
   "execution_count": 7,
   "metadata": {},
   "outputs": [
    {
     "name": "stdout",
     "output_type": "stream",
     "text": [
      "\n"
     ]
    }
   ],
   "source": [
    "sys.path.insert(0, os.path.abspath('../../..'))\n",
    "yr = list(range(2016,2020))\n",
    "from Initialize_Agencies_2Ver import get_agencies\n",
    "agencies = get_agencies(yr)"
   ]
  },
  {
   "cell_type": "markdown",
   "metadata": {},
   "source": [
    "## Find hidden costs of Boston Payroll"
   ]
  },
  {
   "cell_type": "code",
   "execution_count": 9,
   "metadata": {},
   "outputs": [
    {
     "data": {
      "text/html": [
       "<div>\n",
       "<style scoped>\n",
       "    .dataframe tbody tr th:only-of-type {\n",
       "        vertical-align: middle;\n",
       "    }\n",
       "\n",
       "    .dataframe tbody tr th {\n",
       "        vertical-align: top;\n",
       "    }\n",
       "\n",
       "    .dataframe thead th {\n",
       "        text-align: right;\n",
       "    }\n",
       "</style>\n",
       "<table border=\"1\" class=\"dataframe\">\n",
       "  <thead>\n",
       "    <tr style=\"text-align: right;\">\n",
       "      <th></th>\n",
       "      <th>2016</th>\n",
       "      <th>2017</th>\n",
       "      <th>2018</th>\n",
       "      <th>2019</th>\n",
       "      <th>2020</th>\n",
       "      <th>2021</th>\n",
       "    </tr>\n",
       "  </thead>\n",
       "  <tbody>\n",
       "    <tr>\n",
       "      <th>Payroll Budget</th>\n",
       "      <td>297299985.000</td>\n",
       "      <td>325090384.000</td>\n",
       "      <td>340550136.677</td>\n",
       "      <td>364655518.158</td>\n",
       "      <td>376094339.676</td>\n",
       "      <td>378944425.091</td>\n",
       "    </tr>\n",
       "    <tr>\n",
       "      <th>OT Budget</th>\n",
       "      <td>35619489.000</td>\n",
       "      <td>54966556.000</td>\n",
       "      <td>57076768.867</td>\n",
       "      <td>60115115.432</td>\n",
       "      <td>61415244.222</td>\n",
       "      <td>61500643.365</td>\n",
       "    </tr>\n",
       "    <tr>\n",
       "      <th>Total Budget</th>\n",
       "      <td>334810043.000</td>\n",
       "      <td>366418564.000</td>\n",
       "      <td>380087096.177</td>\n",
       "      <td>407114254.631</td>\n",
       "      <td>420864667.757</td>\n",
       "      <td>421589850.442</td>\n",
       "    </tr>\n",
       "    <tr>\n",
       "      <th>Payroll Appropriation</th>\n",
       "      <td>301839026.000</td>\n",
       "      <td>331053719.245</td>\n",
       "      <td>353648386.370</td>\n",
       "      <td>366234564.173</td>\n",
       "      <td>376709076.481</td>\n",
       "      <td>0.000</td>\n",
       "    </tr>\n",
       "    <tr>\n",
       "      <th>OT Appropriation</th>\n",
       "      <td>37966592.000</td>\n",
       "      <td>55969576.695</td>\n",
       "      <td>59235426.538</td>\n",
       "      <td>60319549.828</td>\n",
       "      <td>62014215.824</td>\n",
       "      <td>0.000</td>\n",
       "    </tr>\n",
       "    <tr>\n",
       "      <th>Total Appropriation</th>\n",
       "      <td>339300263.000</td>\n",
       "      <td>370044034.075</td>\n",
       "      <td>397129439.648</td>\n",
       "      <td>408288547.121</td>\n",
       "      <td>422530491.594</td>\n",
       "      <td>0.000</td>\n",
       "    </tr>\n",
       "    <tr>\n",
       "      <th>Payroll Expenditures</th>\n",
       "      <td>322000476.071</td>\n",
       "      <td>335073541.833</td>\n",
       "      <td>360633372.807</td>\n",
       "      <td>374141609.986</td>\n",
       "      <td>0.000</td>\n",
       "      <td>0.000</td>\n",
       "    </tr>\n",
       "    <tr>\n",
       "      <th>OT Expenditures</th>\n",
       "      <td>57790620.075</td>\n",
       "      <td>60618685.866</td>\n",
       "      <td>68313585.252</td>\n",
       "      <td>70204917.968</td>\n",
       "      <td>0.000</td>\n",
       "      <td>0.000</td>\n",
       "    </tr>\n",
       "    <tr>\n",
       "      <th>Total Expenditures</th>\n",
       "      <td>354100737.000</td>\n",
       "      <td>372407936.000</td>\n",
       "      <td>407607260.000</td>\n",
       "      <td>422895141.000</td>\n",
       "      <td>0.000</td>\n",
       "      <td>0.000</td>\n",
       "    </tr>\n",
       "  </tbody>\n",
       "</table>\n",
       "</div>"
      ],
      "text/plain": [
       "                               2016          2017          2018          2019  \\\n",
       "Payroll Budget        297299985.000 325090384.000 340550136.677 364655518.158   \n",
       "OT Budget              35619489.000  54966556.000  57076768.867  60115115.432   \n",
       "Total Budget          334810043.000 366418564.000 380087096.177 407114254.631   \n",
       "Payroll Appropriation 301839026.000 331053719.245 353648386.370 366234564.173   \n",
       "OT Appropriation       37966592.000  55969576.695  59235426.538  60319549.828   \n",
       "Total Appropriation   339300263.000 370044034.075 397129439.648 408288547.121   \n",
       "Payroll Expenditures  322000476.071 335073541.833 360633372.807 374141609.986   \n",
       "OT Expenditures        57790620.075  60618685.866  68313585.252  70204917.968   \n",
       "Total Expenditures    354100737.000 372407936.000 407607260.000 422895141.000   \n",
       "\n",
       "                               2020          2021  \n",
       "Payroll Budget        376094339.676 378944425.091  \n",
       "OT Budget              61415244.222  61500643.365  \n",
       "Total Budget          420864667.757 421589850.442  \n",
       "Payroll Appropriation 376709076.481         0.000  \n",
       "OT Appropriation       62014215.824         0.000  \n",
       "Total Appropriation   422530491.594         0.000  \n",
       "Payroll Expenditures          0.000         0.000  \n",
       "OT Expenditures               0.000         0.000  \n",
       "Total Expenditures            0.000         0.000  "
      ]
     },
     "execution_count": 9,
     "metadata": {},
     "output_type": "execute_result"
    }
   ],
   "source": [
    "BPD = agencies[\"Boston PD\"]\n",
    "BPD.budget_summary"
   ]
  },
  {
   "cell_type": "code",
   "execution_count": 10,
   "metadata": {},
   "outputs": [
    {
     "data": {
      "text/plain": [
       "year\n",
       "2016   388587231.110\n",
       "2017   391277619.770\n",
       "2018   416682999.940\n",
       "2019   415725606.800\n",
       "Name: TOTAL EARNINGS, dtype: float64"
      ]
     },
     "execution_count": 10,
     "metadata": {},
     "output_type": "execute_result"
    }
   ],
   "source": [
    "BPD.payroll_expenditures_by_year"
   ]
  },
  {
   "cell_type": "code",
   "execution_count": 11,
   "metadata": {},
   "outputs": [
    {
     "data": {
      "text/plain": [
       "32100260.929409146"
      ]
     },
     "execution_count": 11,
     "metadata": {},
     "output_type": "execute_result"
    }
   ],
   "source": [
    "BPD.budget_summary.loc[\"Total Expenditures\",2016] - BPD.budget_summary.loc[\"Payroll Expenditures\", 2016]"
   ]
  },
  {
   "cell_type": "code",
   "execution_count": 14,
   "metadata": {},
   "outputs": [
    {
     "data": {
      "text/plain": [
       "220424456.92321968"
      ]
     },
     "execution_count": 14,
     "metadata": {},
     "output_type": "execute_result"
    }
   ],
   "source": [
    "BPD.payroll_expenditures_by_year.sum() - BPD.budget_summary.loc[\"Payroll Expenditures\", yr].sum()"
   ]
  },
  {
   "cell_type": "code",
   "execution_count": 45,
   "metadata": {},
   "outputs": [],
   "source": [
    "BPD_payroll_hidden = BPD.payroll_expenditures_by_year.sum()- BPD.budget_summary.loc[\"Payroll Expenditures\", yr].sum()"
   ]
  },
  {
   "cell_type": "code",
   "execution_count": 21,
   "metadata": {},
   "outputs": [],
   "source": [
    "chelsea_PD = agencies[\"Chelsea PD\"]\n",
    "chelsea_payroll_hidden = chelsea_PD.payroll_expenditures_by_year.sum() -\\\n",
    "    chelsea_PD.budget_summary.loc[\"Payroll Expenditures\", yr].sum()"
   ]
  },
  {
   "cell_type": "code",
   "execution_count": 22,
   "metadata": {},
   "outputs": [
    {
     "data": {
      "text/plain": [
       "18355301.929999366"
      ]
     },
     "execution_count": 22,
     "metadata": {},
     "output_type": "execute_result"
    }
   ],
   "source": [
    "chelsea_payroll_hidden"
   ]
  },
  {
   "cell_type": "markdown",
   "metadata": {},
   "source": [
    "## Find hidden costs from other cost types"
   ]
  },
  {
   "cell_type": "code",
   "execution_count": 24,
   "metadata": {},
   "outputs": [],
   "source": [
    "costs_by_type = by_type()"
   ]
  },
  {
   "cell_type": "code",
   "execution_count": 36,
   "metadata": {},
   "outputs": [
    {
     "data": {
      "text/html": [
       "<div>\n",
       "<style scoped>\n",
       "    .dataframe tbody tr th:only-of-type {\n",
       "        vertical-align: middle;\n",
       "    }\n",
       "\n",
       "    .dataframe tbody tr th {\n",
       "        vertical-align: top;\n",
       "    }\n",
       "\n",
       "    .dataframe thead th {\n",
       "        text-align: right;\n",
       "    }\n",
       "</style>\n",
       "<table border=\"1\" class=\"dataframe\">\n",
       "  <thead>\n",
       "    <tr style=\"text-align: right;\">\n",
       "      <th></th>\n",
       "      <th>2016</th>\n",
       "      <th>2017</th>\n",
       "      <th>2018</th>\n",
       "      <th>2019</th>\n",
       "    </tr>\n",
       "  </thead>\n",
       "  <tbody>\n",
       "    <tr>\n",
       "      <th>Payroll Costs</th>\n",
       "      <td>660001752.864</td>\n",
       "      <td>664549367.353</td>\n",
       "      <td>712154086.355</td>\n",
       "      <td>728443068.831</td>\n",
       "    </tr>\n",
       "    <tr>\n",
       "      <th>Non-Payroll Operating Costs</th>\n",
       "      <td>88304855.524</td>\n",
       "      <td>91878587.807</td>\n",
       "      <td>107122037.863</td>\n",
       "      <td>111393865.531</td>\n",
       "    </tr>\n",
       "    <tr>\n",
       "      <th>Pension Costs</th>\n",
       "      <td>121915760.684</td>\n",
       "      <td>124391555.910</td>\n",
       "      <td>144119815.767</td>\n",
       "      <td>155129360.305</td>\n",
       "    </tr>\n",
       "    <tr>\n",
       "      <th>Fringe Benefit Costs</th>\n",
       "      <td>155399226.099</td>\n",
       "      <td>155316497.184</td>\n",
       "      <td>157110857.521</td>\n",
       "      <td>156302165.648</td>\n",
       "    </tr>\n",
       "    <tr>\n",
       "      <th>Capital Costs</th>\n",
       "      <td>10720759.816</td>\n",
       "      <td>12969043.598</td>\n",
       "      <td>23474217.813</td>\n",
       "      <td>13032612.028</td>\n",
       "    </tr>\n",
       "  </tbody>\n",
       "</table>\n",
       "</div>"
      ],
      "text/plain": [
       "                                     2016          2017          2018  \\\n",
       "Payroll Costs               660001752.864 664549367.353 712154086.355   \n",
       "Non-Payroll Operating Costs  88304855.524  91878587.807 107122037.863   \n",
       "Pension Costs               121915760.684 124391555.910 144119815.767   \n",
       "Fringe Benefit Costs        155399226.099 155316497.184 157110857.521   \n",
       "Capital Costs                10720759.816  12969043.598  23474217.813   \n",
       "\n",
       "                                     2019  \n",
       "Payroll Costs               728443068.831  \n",
       "Non-Payroll Operating Costs 111393865.531  \n",
       "Pension Costs               155129360.305  \n",
       "Fringe Benefit Costs        156302165.648  \n",
       "Capital Costs                13032612.028  "
      ]
     },
     "execution_count": 36,
     "metadata": {},
     "output_type": "execute_result"
    }
   ],
   "source": [
    "costs_type_df = costs_by_type[0]\n",
    "costs_type_df"
   ]
  },
  {
   "cell_type": "code",
   "execution_count": 43,
   "metadata": {},
   "outputs": [],
   "source": [
    "hidden_types = costs_type_df.loc[[\"Pension Costs\", \"Fringe Benefit Costs\", \"Capital Costs\"]].sum().sum()"
   ]
  },
  {
   "cell_type": "code",
   "execution_count": 47,
   "metadata": {},
   "outputs": [
    {
     "data": {
      "text/plain": [
       "0.33426309768590734"
      ]
     },
     "execution_count": 47,
     "metadata": {},
     "output_type": "execute_result"
    }
   ],
   "source": [
    "(hidden_types + BPD_payroll_hidden + chelsea_payroll_hidden)/costs_type_df.sum().sum()"
   ]
  },
  {
   "cell_type": "code",
   "execution_count": 49,
   "metadata": {},
   "outputs": [
    {
     "data": {
      "text/plain": [
       "1229881872.3722124"
      ]
     },
     "execution_count": 49,
     "metadata": {},
     "output_type": "execute_result"
    }
   ],
   "source": [
    "hidden_types"
   ]
  },
  {
   "cell_type": "code",
   "execution_count": 51,
   "metadata": {},
   "outputs": [
    {
     "data": {
      "text/plain": [
       "1468661631.2254314"
      ]
     },
     "execution_count": 51,
     "metadata": {},
     "output_type": "execute_result"
    }
   ],
   "source": [
    "(hidden_types + BPD_payroll_hidden + chelsea_payroll_hidden)"
   ]
  },
  {
   "cell_type": "code",
   "execution_count": 50,
   "metadata": {},
   "outputs": [
    {
     "data": {
      "text/plain": [
       "4393729494.499778"
      ]
     },
     "execution_count": 50,
     "metadata": {},
     "output_type": "execute_result"
    }
   ],
   "source": [
    "costs_type_df.sum().sum()"
   ]
  },
  {
   "cell_type": "code",
   "execution_count": null,
   "metadata": {},
   "outputs": [],
   "source": []
  }
 ],
 "metadata": {
  "kernelspec": {
   "display_name": "Python 3",
   "language": "python",
   "name": "python3"
  },
  "language_info": {
   "codemirror_mode": {
    "name": "ipython",
    "version": 3
   },
   "file_extension": ".py",
   "mimetype": "text/x-python",
   "name": "python",
   "nbconvert_exporter": "python",
   "pygments_lexer": "ipython3",
   "version": "3.7.6"
  }
 },
 "nbformat": 4,
 "nbformat_minor": 4
}
