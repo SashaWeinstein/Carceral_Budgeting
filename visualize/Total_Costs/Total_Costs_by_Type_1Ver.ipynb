{
 "cells": [
  {
   "cell_type": "markdown",
   "metadata": {},
   "source": [
    "# Total Costs by Type\n",
    "As of August 20th, each agency has the following 4 attributes: operating costs, pensions, fringe benefits, and capital expenditures. I'll call these cost \"types\" for this notebook. This notebook will take the total amount of money spent on each type and then maybe the total money spent on each by category (courts, jails, cops)."
   ]
  },
  {
   "cell_type": "code",
   "execution_count": 1,
   "metadata": {},
   "outputs": [],
   "source": [
    "%load_ext autoreload\n",
    "%autoreload 2"
   ]
  },
  {
   "cell_type": "code",
   "execution_count": 2,
   "metadata": {},
   "outputs": [],
   "source": [
    "import pandas as pd\n",
    "import numpy as np\n",
    "import sys\n",
    "import os\n",
    "import warnings\n",
    "warnings.filterwarnings('ignore')\n",
    "sys.path.insert(0, os.path.abspath('../..'))\n",
    "import Agency_Classes\n",
    "from Total_Costs_by_Type_1Ver import by_type"
   ]
  },
  {
   "cell_type": "code",
   "execution_count": 3,
   "metadata": {},
   "outputs": [
    {
     "name": "stdout",
     "output_type": "stream",
     "text": [
      "Note: corrections for Supreme Judicial Court, Appeals Court not finished yet. Currently using trial court correction\n",
      "\n"
     ]
    }
   ],
   "source": [
    "yr=list(range(2016,2020))\n",
    "from Initialize_Agencies_2Ver import get_agencies\n",
    "agencies = get_agencies(yr)"
   ]
  },
  {
   "cell_type": "code",
   "execution_count": 26,
   "metadata": {
    "scrolled": false
   },
   "outputs": [
    {
     "name": "stdout",
     "output_type": "stream",
     "text": [
      "got to  trial_court\n",
      "got to  CPCS\n",
      "got to  DOC\n",
      "got to  Suffolk_DA\n",
      "got to  Suffolk_Sheriff\n",
      "got to  State_Police\n",
      "got to  MBTA\n",
      "got to  DAA\n",
      "got to  MA Sheriff's Association\n",
      "got to  Parole_Board\n",
      "got to  CJT\n",
      "got to  Supreme_Judicial_Court\n",
      "got to  Appeals_Court\n",
      "got to  Boston PD\n",
      "got to  Chelsea PD\n",
      "got to  Revere PD\n",
      "got to  Winthrop PD\n"
     ]
    }
   ],
   "source": [
    "overall, by_agency = by_type(agencies)"
   ]
  },
  {
   "cell_type": "code",
   "execution_count": 29,
   "metadata": {
    "scrolled": false
   },
   "outputs": [
    {
     "data": {
      "text/html": [
       "<div>\n",
       "<style scoped>\n",
       "    .dataframe tbody tr th:only-of-type {\n",
       "        vertical-align: middle;\n",
       "    }\n",
       "\n",
       "    .dataframe tbody tr th {\n",
       "        vertical-align: top;\n",
       "    }\n",
       "\n",
       "    .dataframe thead th {\n",
       "        text-align: right;\n",
       "    }\n",
       "</style>\n",
       "<table border=\"1\" class=\"dataframe\">\n",
       "  <thead>\n",
       "    <tr style=\"text-align: right;\">\n",
       "      <th></th>\n",
       "      <th>2016</th>\n",
       "      <th>2017</th>\n",
       "      <th>2018</th>\n",
       "      <th>2019</th>\n",
       "    </tr>\n",
       "  </thead>\n",
       "  <tbody>\n",
       "    <tr>\n",
       "      <th>Operating Costs</th>\n",
       "      <td>769490695.026</td>\n",
       "      <td>775955065.355</td>\n",
       "      <td>839989631.316</td>\n",
       "      <td>860974103.104</td>\n",
       "    </tr>\n",
       "    <tr>\n",
       "      <th>Pension Costs</th>\n",
       "      <td>126500150.833</td>\n",
       "      <td>129219592.817</td>\n",
       "      <td>149292966.643</td>\n",
       "      <td>160839313.435</td>\n",
       "    </tr>\n",
       "    <tr>\n",
       "      <th>Fringe Benefits</th>\n",
       "      <td>163200785.930</td>\n",
       "      <td>163066970.647</td>\n",
       "      <td>164028936.012</td>\n",
       "      <td>162967094.232</td>\n",
       "    </tr>\n",
       "    <tr>\n",
       "      <th>Capital Costs</th>\n",
       "      <td>27496445.618</td>\n",
       "      <td>27197661.351</td>\n",
       "      <td>26161660.556</td>\n",
       "      <td>27869459.214</td>\n",
       "    </tr>\n",
       "  </tbody>\n",
       "</table>\n",
       "</div>"
      ],
      "text/plain": [
       "                         2016          2017          2018          2019\n",
       "Operating Costs 769490695.026 775955065.355 839989631.316 860974103.104\n",
       "Pension Costs   126500150.833 129219592.817 149292966.643 160839313.435\n",
       "Fringe Benefits 163200785.930 163066970.647 164028936.012 162967094.232\n",
       "Capital Costs    27496445.618  27197661.351  26161660.556  27869459.214"
      ]
     },
     "execution_count": 29,
     "metadata": {},
     "output_type": "execute_result"
    }
   ],
   "source": [
    "overall"
   ]
  },
  {
   "cell_type": "code",
   "execution_count": null,
   "metadata": {},
   "outputs": [],
   "source": []
  }
 ],
 "metadata": {
  "kernelspec": {
   "display_name": "Python 3",
   "language": "python",
   "name": "python3"
  },
  "language_info": {
   "codemirror_mode": {
    "name": "ipython",
    "version": 3
   },
   "file_extension": ".py",
   "mimetype": "text/x-python",
   "name": "python",
   "nbconvert_exporter": "python",
   "pygments_lexer": "ipython3",
   "version": "3.7.6"
  }
 },
 "nbformat": 4,
 "nbformat_minor": 4
}
