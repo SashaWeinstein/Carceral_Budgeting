{
 "cells": [
  {
   "cell_type": "markdown",
   "metadata": {},
   "source": [
    "# Plot Budgets Part 4\n",
    "Today I want to figure out what accounts for difference between total enacted + revenues and total available."
   ]
  },
  {
   "cell_type": "code",
   "execution_count": 15,
   "metadata": {},
   "outputs": [
    {
     "name": "stdout",
     "output_type": "stream",
     "text": [
      "The autoreload extension is already loaded. To reload it, use:\n",
      "  %reload_ext autoreload\n"
     ]
    }
   ],
   "source": [
    "%load_ext autoreload\n",
    "%autoreload 2"
   ]
  },
  {
   "cell_type": "code",
   "execution_count": 16,
   "metadata": {},
   "outputs": [],
   "source": [
    "import pandas as pd\n",
    "import numpy as np\n",
    "import requests\n",
    "from PyPDF2 import PdfFileReader, PdfFileWriter\n",
    "import PyPDF2\n",
    "import textract\n",
    "import re\n",
    "from sodapy import Socrata\n",
    "import sys\n",
    "import os\n",
    "sys.path.insert(0, os.path.abspath('../'))\n",
    "import Initialize_Agencies\n",
    "import Agency_Classes\n",
    "import Exploratory_Main\n",
    "import seaborn as sns\n",
    "import matplotlib.pyplot as plt\n",
    "from budget_vs_expenditures import visualize_all_Jul10\n",
    "from revenues import visualize_revenues, visualize_revenues_pt2\n",
    "pd.set_option('display.float_format', lambda x: '%.3f' % x)"
   ]
  },
  {
   "cell_type": "code",
   "execution_count": 18,
   "metadata": {},
   "outputs": [
    {
     "name": "stderr",
     "output_type": "stream",
     "text": [
      "/Users/alexanderweinstein/Documents/Harris/Summer2020/Carceral_Budgeting/Exploratory/Exploratory_Main.py:36: DtypeWarning: Columns (16) have mixed types.Specify dtype option on import or set low_memory=False.\n",
      "  agency.get_expenditures_by_year()\n",
      "/Users/alexanderweinstein/Documents/Harris/Summer2020/Carceral_Budgeting/Exploratory/Exploratory_Main.py:36: DtypeWarning: Columns (15,16) have mixed types.Specify dtype option on import or set low_memory=False.\n",
      "  agency.get_expenditures_by_year()\n"
     ]
    }
   ],
   "source": [
    "big_df = Exploratory_Main.by_fiscal_year(True, False, False)"
   ]
  },
  {
   "cell_type": "code",
   "execution_count": 19,
   "metadata": {},
   "outputs": [
    {
     "data": {
      "text/html": [
       "<div>\n",
       "<style scoped>\n",
       "    .dataframe tbody tr th:only-of-type {\n",
       "        vertical-align: middle;\n",
       "    }\n",
       "\n",
       "    .dataframe tbody tr th {\n",
       "        vertical-align: top;\n",
       "    }\n",
       "\n",
       "    .dataframe thead th {\n",
       "        text-align: right;\n",
       "    }\n",
       "</style>\n",
       "<table border=\"1\" class=\"dataframe\">\n",
       "  <thead>\n",
       "    <tr style=\"text-align: right;\">\n",
       "      <th></th>\n",
       "      <th>2016</th>\n",
       "      <th>2017</th>\n",
       "      <th>2018</th>\n",
       "      <th>2019</th>\n",
       "    </tr>\n",
       "  </thead>\n",
       "  <tbody>\n",
       "    <tr>\n",
       "      <th>trial_court Total Expenditures</th>\n",
       "      <td>618305963.430</td>\n",
       "      <td>631561758.040</td>\n",
       "      <td>636007126.170</td>\n",
       "      <td>675476817.130</td>\n",
       "    </tr>\n",
       "    <tr>\n",
       "      <th>trial_court Payroll Expenditures</th>\n",
       "      <td>485601631.120</td>\n",
       "      <td>497863499.510</td>\n",
       "      <td>506488739.690</td>\n",
       "      <td>532721351.450</td>\n",
       "    </tr>\n",
       "    <tr>\n",
       "      <th>trial_court beginning balance prior</th>\n",
       "      <td>300000.000</td>\n",
       "      <td>271150.980</td>\n",
       "      <td>0.000</td>\n",
       "      <td>2780568.710</td>\n",
       "    </tr>\n",
       "    <tr>\n",
       "      <th>trial_court original enacted budget</th>\n",
       "      <td>631522409.000</td>\n",
       "      <td>639140097.000</td>\n",
       "      <td>656610964.000</td>\n",
       "      <td>687447792.000</td>\n",
       "    </tr>\n",
       "    <tr>\n",
       "      <th>trial_court total enacted budget</th>\n",
       "      <td>631522409.000</td>\n",
       "      <td>639140097.000</td>\n",
       "      <td>656610964.000</td>\n",
       "      <td>687447792.000</td>\n",
       "    </tr>\n",
       "    <tr>\n",
       "      <th>...</th>\n",
       "      <td>...</td>\n",
       "      <td>...</td>\n",
       "      <td>...</td>\n",
       "      <td>...</td>\n",
       "    </tr>\n",
       "    <tr>\n",
       "      <th>DAA planned savings 9c spending</th>\n",
       "      <td>0.000</td>\n",
       "      <td>0.000</td>\n",
       "      <td>0.000</td>\n",
       "      <td>0.000</td>\n",
       "    </tr>\n",
       "    <tr>\n",
       "      <th>DAA total expenses</th>\n",
       "      <td>3684520.640</td>\n",
       "      <td>3710738.830</td>\n",
       "      <td>3682006.830</td>\n",
       "      <td>3824002.870</td>\n",
       "    </tr>\n",
       "    <tr>\n",
       "      <th>DAA retained revenue collected</th>\n",
       "      <td>0.000</td>\n",
       "      <td>0.000</td>\n",
       "      <td>0.000</td>\n",
       "      <td>0.000</td>\n",
       "    </tr>\n",
       "    <tr>\n",
       "      <th>DAA All Appropriations Plus Revenues Minus 9c</th>\n",
       "      <td>7988781.000</td>\n",
       "      <td>5205811.000</td>\n",
       "      <td>4667145.000</td>\n",
       "      <td>9085328.000</td>\n",
       "    </tr>\n",
       "    <tr>\n",
       "      <th>DAA net transfer</th>\n",
       "      <td>-4249999.980</td>\n",
       "      <td>-1508232.310</td>\n",
       "      <td>-982944.170</td>\n",
       "      <td>-5235015.000</td>\n",
       "    </tr>\n",
       "  </tbody>\n",
       "</table>\n",
       "<p>100 rows × 4 columns</p>\n",
       "</div>"
      ],
      "text/plain": [
       "                                                       2016          2017  \\\n",
       "trial_court Total Expenditures                618305963.430 631561758.040   \n",
       "trial_court Payroll Expenditures              485601631.120 497863499.510   \n",
       "trial_court beginning balance prior              300000.000    271150.980   \n",
       "trial_court original enacted budget           631522409.000 639140097.000   \n",
       "trial_court total enacted budget              631522409.000 639140097.000   \n",
       "...                                                     ...           ...   \n",
       "DAA planned savings 9c spending                       0.000         0.000   \n",
       "DAA total expenses                              3684520.640   3710738.830   \n",
       "DAA retained revenue collected                        0.000         0.000   \n",
       "DAA All Appropriations Plus Revenues Minus 9c   7988781.000   5205811.000   \n",
       "DAA net transfer                               -4249999.980  -1508232.310   \n",
       "\n",
       "                                                       2018          2019  \n",
       "trial_court Total Expenditures                636007126.170 675476817.130  \n",
       "trial_court Payroll Expenditures              506488739.690 532721351.450  \n",
       "trial_court beginning balance prior                   0.000   2780568.710  \n",
       "trial_court original enacted budget           656610964.000 687447792.000  \n",
       "trial_court total enacted budget              656610964.000 687447792.000  \n",
       "...                                                     ...           ...  \n",
       "DAA planned savings 9c spending                       0.000         0.000  \n",
       "DAA total expenses                              3682006.830   3824002.870  \n",
       "DAA retained revenue collected                        0.000         0.000  \n",
       "DAA All Appropriations Plus Revenues Minus 9c   4667145.000   9085328.000  \n",
       "DAA net transfer                                -982944.170  -5235015.000  \n",
       "\n",
       "[100 rows x 4 columns]"
      ]
     },
     "execution_count": 19,
     "metadata": {},
     "output_type": "execute_result"
    }
   ],
   "source": [
    "pd.set_option(\"display.max.rows\", 93)\n",
    "big_df"
   ]
  },
  {
   "cell_type": "markdown",
   "metadata": {},
   "source": [
    "Our big goal is to find out what accounts for this discrepancy"
   ]
  },
  {
   "cell_type": "code",
   "execution_count": 20,
   "metadata": {},
   "outputs": [
    {
     "data": {
      "text/plain": [
       "2016   10145837.860\n",
       "2017    3187165.520\n",
       "2018   57722879.340\n",
       "2019   47885997.890\n",
       "dtype: float64"
      ]
     },
     "execution_count": 20,
     "metadata": {},
     "output_type": "execute_result"
    }
   ],
   "source": [
    "discrepancy_series = big_df[big_df.index.str.contains(\"total available for spending\")].sum() - \\\n",
    "big_df[big_df.index.str.contains(\"All Appropriations Plus Revenues Minus 9c\")].sum() \n",
    "discrepancy_series"
   ]
  },
  {
   "cell_type": "markdown",
   "metadata": {},
   "source": [
    "First try is look at beginning balance prior"
   ]
  },
  {
   "cell_type": "code",
   "execution_count": 21,
   "metadata": {},
   "outputs": [
    {
     "data": {
      "text/plain": [
       "2016    6759594.000\n",
       "2017    5583651.980\n",
       "2018          0.000\n",
       "2019   24907308.710\n",
       "dtype: float64"
      ]
     },
     "execution_count": 21,
     "metadata": {},
     "output_type": "execute_result"
    }
   ],
   "source": [
    "big_df[big_df.index.str.contains(\"beginning\")].sum()"
   ]
  },
  {
   "cell_type": "code",
   "execution_count": 22,
   "metadata": {},
   "outputs": [
    {
     "data": {
      "text/plain": [
       "2016   0.666\n",
       "2017   1.752\n",
       "2018   0.000\n",
       "2019   0.520\n",
       "dtype: float64"
      ]
     },
     "execution_count": 22,
     "metadata": {},
     "output_type": "execute_result"
    }
   ],
   "source": [
    "big_df[big_df.index.str.contains(\"beginning\")].sum()/discrepancy_series"
   ]
  },
  {
   "cell_type": "markdown",
   "metadata": {},
   "source": [
    "Ok, so that's doesn't match well. Next take a look at transfer in, transfer out cause that's all I can think of"
   ]
  },
  {
   "cell_type": "code",
   "execution_count": 23,
   "metadata": {},
   "outputs": [
    {
     "data": {
      "text/plain": [
       "2016   110686490.940\n",
       "2017   125700905.490\n",
       "2018   175898061.200\n",
       "2019   154376859.910\n",
       "dtype: float64"
      ]
     },
     "execution_count": 23,
     "metadata": {},
     "output_type": "execute_result"
    }
   ],
   "source": [
    "big_df[big_df.index.str.contains(\"transfer in\")].sum()"
   ]
  },
  {
   "cell_type": "code",
   "execution_count": 24,
   "metadata": {},
   "outputs": [
    {
     "data": {
      "text/plain": [
       "2016   107300247.080\n",
       "2017   128100854.090\n",
       "2018   118175181.860\n",
       "2019   131398170.730\n",
       "dtype: float64"
      ]
     },
     "execution_count": 24,
     "metadata": {},
     "output_type": "execute_result"
    }
   ],
   "source": [
    "big_df[big_df.index.str.contains(\"transfer out\")].sum()"
   ]
  },
  {
   "cell_type": "code",
   "execution_count": 25,
   "metadata": {},
   "outputs": [
    {
     "data": {
      "text/plain": [
       "2016    3386243.860\n",
       "2017   -2399948.600\n",
       "2018   57722879.340\n",
       "2019   22978689.180\n",
       "dtype: float64"
      ]
     },
     "execution_count": 25,
     "metadata": {},
     "output_type": "execute_result"
    }
   ],
   "source": [
    "big_df[big_df.index.str.contains(\"net transfer\")].sum()"
   ]
  },
  {
   "cell_type": "code",
   "execution_count": 26,
   "metadata": {},
   "outputs": [
    {
     "data": {
      "text/plain": [
       "2016   1.000\n",
       "2017   0.999\n",
       "2018   1.000\n",
       "2019   1.000\n",
       "dtype: float64"
      ]
     },
     "execution_count": 26,
     "metadata": {},
     "output_type": "execute_result"
    }
   ],
   "source": [
    "(big_df[big_df.index.str.contains(\"beginning\")].sum() + \\\n",
    " big_df[big_df.index.str.contains(\"net transfer\")].sum())\\\n",
    "/discrepancy_series"
   ]
  },
  {
   "cell_type": "code",
   "execution_count": null,
   "metadata": {},
   "outputs": [],
   "source": []
  }
 ],
 "metadata": {
  "kernelspec": {
   "display_name": "Python 3",
   "language": "python",
   "name": "python3"
  },
  "language_info": {
   "codemirror_mode": {
    "name": "ipython",
    "version": 3
   },
   "file_extension": ".py",
   "mimetype": "text/x-python",
   "name": "python",
   "nbconvert_exporter": "python",
   "pygments_lexer": "ipython3",
   "version": "3.7.6"
  }
 },
 "nbformat": 4,
 "nbformat_minor": 4
}
