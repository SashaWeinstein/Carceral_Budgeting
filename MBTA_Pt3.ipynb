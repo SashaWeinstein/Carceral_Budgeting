{
 "cells": [
  {
   "cell_type": "markdown",
   "metadata": {},
   "source": [
    "# MBTA Part 3\n",
    "This notebook to to test code to get object working, write code to estimate non-payroll costs"
   ]
  },
  {
   "cell_type": "code",
   "execution_count": 7,
   "metadata": {},
   "outputs": [
    {
     "name": "stdout",
     "output_type": "stream",
     "text": [
      "The autoreload extension is already loaded. To reload it, use:\n",
      "  %reload_ext autoreload\n"
     ]
    }
   ],
   "source": [
    "%load_ext autoreload\n",
    "%autoreload 2"
   ]
  },
  {
   "cell_type": "code",
   "execution_count": 8,
   "metadata": {},
   "outputs": [],
   "source": [
    "import pandas as pd\n",
    "from sodapy import Socrata\n",
    "import numpy as np\n",
    "import Agency_Classes"
   ]
  },
  {
   "cell_type": "code",
   "execution_count": 21,
   "metadata": {},
   "outputs": [],
   "source": [
    "app_token = \"2Qa1WiG8G4kj1vGVd2noK7zP0\"\n",
    "client = Socrata(\"cthru.data.socrata.com\", app_token)\n",
    "yr = list(range(2016,2021))"
   ]
  },
  {
   "cell_type": "code",
   "execution_count": 31,
   "metadata": {},
   "outputs": [],
   "source": [
    "MBTA = Agency_Classes.MBTA(alias=\"MBT\", official_name=\"MASSACHUSETTS BAY TRANSPORTATION AUTHORITY (MBT)\",\n",
    "                                    year_range=[x for x in yr if x > 2016],  # MBT only goes back to 2017\n",
    "                               payroll_vendors=[\"MBT - SUMMARY PAYROLL\"],\n",
    "                               payroll_official_name=\"Massachusetts Bay Transportation Authority (MBT)\", client=client,\n",
    "                                    category=\"Police\")"
   ]
  },
  {
   "cell_type": "code",
   "execution_count": 32,
   "metadata": {},
   "outputs": [],
   "source": [
    "MBTA.get_payroll_by_year()"
   ]
  },
  {
   "cell_type": "code",
   "execution_count": 33,
   "metadata": {},
   "outputs": [
    {
     "ename": "KeyError",
     "evalue": "'Passing list-likes to .loc or [] with any missing labels is no longer supported, see https://pandas.pydata.org/pandas-docs/stable/user_guide/indexing.html#deprecate-loc-reindex-listlike'",
     "output_type": "error",
     "traceback": [
      "\u001b[0;31m---------------------------------------------------------------------------\u001b[0m",
      "\u001b[0;31mKeyError\u001b[0m                                  Traceback (most recent call last)",
      "\u001b[0;32m<ipython-input-33-8ab0de91d273>\u001b[0m in \u001b[0;36m<module>\u001b[0;34m\u001b[0m\n\u001b[0;32m----> 1\u001b[0;31m \u001b[0mMBTA\u001b[0m\u001b[0;34m.\u001b[0m\u001b[0mpayroll_by_year\u001b[0m\u001b[0;34m[\u001b[0m\u001b[0;34m[\u001b[0m\u001b[0;36m2016\u001b[0m\u001b[0;34m,\u001b[0m \u001b[0;36m2020\u001b[0m\u001b[0;34m]\u001b[0m\u001b[0;34m]\u001b[0m \u001b[0;34m=\u001b[0m \u001b[0mnp\u001b[0m\u001b[0;34m.\u001b[0m\u001b[0mNaN\u001b[0m\u001b[0;34m\u001b[0m\u001b[0;34m\u001b[0m\u001b[0m\n\u001b[0m\u001b[1;32m      2\u001b[0m \u001b[0mMBTA\u001b[0m\u001b[0;34m.\u001b[0m\u001b[0mpayroll_by_year\u001b[0m\u001b[0;34m\u001b[0m\u001b[0;34m\u001b[0m\u001b[0m\n",
      "\u001b[0;32m/opt/anaconda3/lib/python3.7/site-packages/pandas/core/frame.py\u001b[0m in \u001b[0;36m__setitem__\u001b[0;34m(self, key, value)\u001b[0m\n\u001b[1;32m   2933\u001b[0m             \u001b[0mself\u001b[0m\u001b[0;34m.\u001b[0m\u001b[0m_setitem_frame\u001b[0m\u001b[0;34m(\u001b[0m\u001b[0mkey\u001b[0m\u001b[0;34m,\u001b[0m \u001b[0mvalue\u001b[0m\u001b[0;34m)\u001b[0m\u001b[0;34m\u001b[0m\u001b[0;34m\u001b[0m\u001b[0m\n\u001b[1;32m   2934\u001b[0m         \u001b[0;32melif\u001b[0m \u001b[0misinstance\u001b[0m\u001b[0;34m(\u001b[0m\u001b[0mkey\u001b[0m\u001b[0;34m,\u001b[0m \u001b[0;34m(\u001b[0m\u001b[0mSeries\u001b[0m\u001b[0;34m,\u001b[0m \u001b[0mnp\u001b[0m\u001b[0;34m.\u001b[0m\u001b[0mndarray\u001b[0m\u001b[0;34m,\u001b[0m \u001b[0mlist\u001b[0m\u001b[0;34m,\u001b[0m \u001b[0mIndex\u001b[0m\u001b[0;34m)\u001b[0m\u001b[0;34m)\u001b[0m\u001b[0;34m:\u001b[0m\u001b[0;34m\u001b[0m\u001b[0;34m\u001b[0m\u001b[0m\n\u001b[0;32m-> 2935\u001b[0;31m             \u001b[0mself\u001b[0m\u001b[0;34m.\u001b[0m\u001b[0m_setitem_array\u001b[0m\u001b[0;34m(\u001b[0m\u001b[0mkey\u001b[0m\u001b[0;34m,\u001b[0m \u001b[0mvalue\u001b[0m\u001b[0;34m)\u001b[0m\u001b[0;34m\u001b[0m\u001b[0;34m\u001b[0m\u001b[0m\n\u001b[0m\u001b[1;32m   2936\u001b[0m         \u001b[0;32melse\u001b[0m\u001b[0;34m:\u001b[0m\u001b[0;34m\u001b[0m\u001b[0;34m\u001b[0m\u001b[0m\n\u001b[1;32m   2937\u001b[0m             \u001b[0;31m# set column\u001b[0m\u001b[0;34m\u001b[0m\u001b[0;34m\u001b[0m\u001b[0;34m\u001b[0m\u001b[0m\n",
      "\u001b[0;32m/opt/anaconda3/lib/python3.7/site-packages/pandas/core/frame.py\u001b[0m in \u001b[0;36m_setitem_array\u001b[0;34m(self, key, value)\u001b[0m\n\u001b[1;32m   2964\u001b[0m             \u001b[0;32melse\u001b[0m\u001b[0;34m:\u001b[0m\u001b[0;34m\u001b[0m\u001b[0;34m\u001b[0m\u001b[0m\n\u001b[1;32m   2965\u001b[0m                 indexer = self.loc._get_listlike_indexer(\n\u001b[0;32m-> 2966\u001b[0;31m                     \u001b[0mkey\u001b[0m\u001b[0;34m,\u001b[0m \u001b[0maxis\u001b[0m\u001b[0;34m=\u001b[0m\u001b[0;36m1\u001b[0m\u001b[0;34m,\u001b[0m \u001b[0mraise_missing\u001b[0m\u001b[0;34m=\u001b[0m\u001b[0;32mFalse\u001b[0m\u001b[0;34m\u001b[0m\u001b[0;34m\u001b[0m\u001b[0m\n\u001b[0m\u001b[1;32m   2967\u001b[0m                 )[1]\n\u001b[1;32m   2968\u001b[0m                 \u001b[0mself\u001b[0m\u001b[0;34m.\u001b[0m\u001b[0m_check_setitem_copy\u001b[0m\u001b[0;34m(\u001b[0m\u001b[0;34m)\u001b[0m\u001b[0;34m\u001b[0m\u001b[0;34m\u001b[0m\u001b[0m\n",
      "\u001b[0;32m/opt/anaconda3/lib/python3.7/site-packages/pandas/core/indexing.py\u001b[0m in \u001b[0;36m_get_listlike_indexer\u001b[0;34m(self, key, axis, raise_missing)\u001b[0m\n\u001b[1;32m   1550\u001b[0m \u001b[0;34m\u001b[0m\u001b[0m\n\u001b[1;32m   1551\u001b[0m         self._validate_read_indexer(\n\u001b[0;32m-> 1552\u001b[0;31m             \u001b[0mkeyarr\u001b[0m\u001b[0;34m,\u001b[0m \u001b[0mindexer\u001b[0m\u001b[0;34m,\u001b[0m \u001b[0mo\u001b[0m\u001b[0;34m.\u001b[0m\u001b[0m_get_axis_number\u001b[0m\u001b[0;34m(\u001b[0m\u001b[0maxis\u001b[0m\u001b[0;34m)\u001b[0m\u001b[0;34m,\u001b[0m \u001b[0mraise_missing\u001b[0m\u001b[0;34m=\u001b[0m\u001b[0mraise_missing\u001b[0m\u001b[0;34m\u001b[0m\u001b[0;34m\u001b[0m\u001b[0m\n\u001b[0m\u001b[1;32m   1553\u001b[0m         )\n\u001b[1;32m   1554\u001b[0m         \u001b[0;32mreturn\u001b[0m \u001b[0mkeyarr\u001b[0m\u001b[0;34m,\u001b[0m \u001b[0mindexer\u001b[0m\u001b[0;34m\u001b[0m\u001b[0;34m\u001b[0m\u001b[0m\n",
      "\u001b[0;32m/opt/anaconda3/lib/python3.7/site-packages/pandas/core/indexing.py\u001b[0m in \u001b[0;36m_validate_read_indexer\u001b[0;34m(self, key, indexer, axis, raise_missing)\u001b[0m\n\u001b[1;32m   1652\u001b[0m             \u001b[0;32mif\u001b[0m \u001b[0;32mnot\u001b[0m \u001b[0;34m(\u001b[0m\u001b[0max\u001b[0m\u001b[0;34m.\u001b[0m\u001b[0mis_categorical\u001b[0m\u001b[0;34m(\u001b[0m\u001b[0;34m)\u001b[0m \u001b[0;32mor\u001b[0m \u001b[0max\u001b[0m\u001b[0;34m.\u001b[0m\u001b[0mis_interval\u001b[0m\u001b[0;34m(\u001b[0m\u001b[0;34m)\u001b[0m\u001b[0;34m)\u001b[0m\u001b[0;34m:\u001b[0m\u001b[0;34m\u001b[0m\u001b[0;34m\u001b[0m\u001b[0m\n\u001b[1;32m   1653\u001b[0m                 raise KeyError(\n\u001b[0;32m-> 1654\u001b[0;31m                     \u001b[0;34m\"Passing list-likes to .loc or [] with any missing labels \"\u001b[0m\u001b[0;34m\u001b[0m\u001b[0;34m\u001b[0m\u001b[0m\n\u001b[0m\u001b[1;32m   1655\u001b[0m                     \u001b[0;34m\"is no longer supported, see \"\u001b[0m\u001b[0;34m\u001b[0m\u001b[0;34m\u001b[0m\u001b[0m\n\u001b[1;32m   1656\u001b[0m                     \u001b[0;34m\"https://pandas.pydata.org/pandas-docs/stable/user_guide/indexing.html#deprecate-loc-reindex-listlike\"\u001b[0m  \u001b[0;31m# noqa:E501\u001b[0m\u001b[0;34m\u001b[0m\u001b[0;34m\u001b[0m\u001b[0m\n",
      "\u001b[0;31mKeyError\u001b[0m: 'Passing list-likes to .loc or [] with any missing labels is no longer supported, see https://pandas.pydata.org/pandas-docs/stable/user_guide/indexing.html#deprecate-loc-reindex-listlike'"
     ]
    }
   ],
   "source": [
    "MBTA.payroll_by_year[[2016, 2020]] = np.NaN\n",
    "MBTA.payroll_by_year"
   ]
  },
  {
   "cell_type": "markdown",
   "metadata": {},
   "source": [
    "Ok, that looks good. I was going to look at % of total expenditures that state police spend on payroll, use that to caculate expenditures for MBTA. But I'll hold off on that will ask Bobby if I get a chance but better to work on other stuff for now. Also think I will use assumption that 50% of MBTA police arrests go to suffolk county for population correction I bet that's an undercount but is ok for now"
   ]
  },
  {
   "cell_type": "markdown",
   "metadata": {},
   "source": [
    "Get 2015 payroll numbers, use to approximate 2016 numbers"
   ]
  },
  {
   "cell_type": "code",
   "execution_count": 4,
   "metadata": {},
   "outputs": [],
   "source": [
    "import MBTA_Payroll_Scraper"
   ]
  },
  {
   "cell_type": "code",
   "execution_count": 5,
   "metadata": {},
   "outputs": [
    {
     "name": "stdout",
     "output_type": "stream",
     "text": [
      "got to page 0\n",
      "got total pay of  169110.73\n",
      "got cop pay of 2941.5\n",
      "got to page 1\n",
      "got total pay of  646849.81\n",
      "got cop pay of 2941.5\n",
      "got to page 2\n",
      "got total pay of  1420322.4099999997\n",
      "got cop pay of 2941.5\n",
      "got to page 3\n",
      "got total pay of  2433896.6899999995\n",
      "got cop pay of 36850.98\n",
      "got to page 4\n",
      "got total pay of  3735189.8099999996\n",
      "got cop pay of 105042.13\n",
      "got to page 5\n",
      "got total pay of  5403172.2299999995\n",
      "got cop pay of 130503.93000000001\n",
      "got to page 6\n",
      "got total pay of  7413765.71\n",
      "got cop pay of 130503.93000000001\n",
      "got to page 7\n",
      "got total pay of  9743154.37\n",
      "got cop pay of 130503.93000000001\n",
      "got to page 8\n",
      "got total pay of  12293257.959999997\n",
      "got cop pay of 166201.6\n",
      "got to page 9\n",
      "got total pay of  14815185.819999997\n",
      "got cop pay of 166201.6\n",
      "got to page 10\n",
      "got total pay of  17609224.849999998\n",
      "got cop pay of 166201.6\n",
      "got to page 11\n",
      "got total pay of  20512972.849999998\n",
      "got cop pay of 166201.6\n",
      "got to page 12\n",
      "got total pay of  23546077.069999997\n",
      "got cop pay of 166201.6\n",
      "got to page 13\n",
      "got total pay of  26785175.599999994\n",
      "got cop pay of 395253.25\n",
      "got to page 14\n",
      "got total pay of  30176881.749999993\n",
      "got cop pay of 444187.99\n",
      "got to page 15\n",
      "got total pay of  33577598.099999994\n",
      "got cop pay of 546925.4\n",
      "got to page 16\n",
      "got total pay of  36951529.059999995\n",
      "got cop pay of 705633.55\n",
      "got to page 17\n",
      "got total pay of  40720679.65\n",
      "got cop pay of 869705.81\n",
      "got to page 18\n",
      "got total pay of  44639998.019999996\n",
      "got cop pay of 981980.26\n",
      "got to page 19\n",
      "got total pay of  48707003.31999999\n",
      "got cop pay of 1040086.34\n",
      "got to page 20\n",
      "got total pay of  52699210.489999995\n",
      "got cop pay of 1098850.02\n",
      "got to page 21\n",
      "got total pay of  57065932.989999995\n",
      "got cop pay of 1098850.02\n",
      "got to page 22\n",
      "got total pay of  61512790.809999995\n",
      "got cop pay of 1226772.27\n",
      "got to page 23\n",
      "got total pay of  66081240.169999994\n",
      "got cop pay of 1679397.43\n",
      "got to page 24\n",
      "got total pay of  70807751.63\n",
      "got cop pay of 1879858.77\n",
      "got to page 25\n",
      "got total pay of  75195284.97\n",
      "got cop pay of 1954904.98\n",
      "got to page 26\n",
      "got total pay of  80096596.67\n",
      "got cop pay of 2092672.93\n",
      "got to page 27\n",
      "got total pay of  85082466.85000001\n",
      "got cop pay of 2163043.91\n",
      "got to page 28\n",
      "got total pay of  89958213.96000001\n",
      "got cop pay of 2234505.0\n",
      "got to page 29\n",
      "got total pay of  95098319.29\n",
      "got cop pay of 2307084.97\n",
      "got to page 30\n",
      "got total pay of  100304180.63000001\n",
      "got cop pay of 2453710.8000000003\n",
      "got to page 31\n",
      "got total pay of  105556594.55000001\n",
      "got cop pay of 2601998.5700000003\n",
      "got to page 32\n",
      "got total pay of  110860398.57000001\n",
      "got cop pay of 2676726.0200000005\n",
      "got to page 33\n",
      "got total pay of  116081453.58000001\n",
      "got cop pay of 2752164.2500000005\n",
      "got to page 34\n",
      "got total pay of  121416009.18\n",
      "got cop pay of 2828296.8200000003\n",
      "got to page 35\n",
      "got total pay of  126801757.98\n",
      "got cop pay of 2982340.39\n",
      "got to page 36\n",
      "got total pay of  129642659.03\n",
      "got cop pay of 3075037.33\n",
      "got to page 37\n",
      "got total pay of  135195978.06\n",
      "got cop pay of 3387465.52\n",
      "got to page 38\n",
      "got total pay of  140795598.14\n",
      "got cop pay of 3624485.1\n",
      "got to page 39\n",
      "got total pay of  146445830.35\n",
      "got cop pay of 3704283.48\n",
      "got to page 40\n",
      "got total pay of  151839697.48\n",
      "got cop pay of 3704283.48\n",
      "got to page 41\n",
      "got total pay of  157577483.57\n",
      "got cop pay of 3865994.37\n",
      "got to page 42\n",
      "got total pay of  163363544.78\n",
      "got cop pay of 4191908.89\n",
      "got to page 43\n",
      "got total pay of  168672964.12\n",
      "got cop pay of 4520354.6\n",
      "got to page 44\n",
      "got total pay of  174552509.54\n",
      "got cop pay of 4686185.909999999\n",
      "got to page 45\n",
      "got total pay of  180480303.17\n",
      "got cop pay of 4686185.909999999\n",
      "got to page 46\n",
      "got total pay of  186465075.02999997\n",
      "got cop pay of 4854541.579999999\n",
      "got to page 47\n",
      "got total pay of  192497840.94999996\n",
      "got cop pay of 4939232.709999999\n",
      "got to page 48\n",
      "got total pay of  198566870.83999997\n",
      "got cop pay of 5110177.719999999\n",
      "got to page 49\n",
      "got total pay of  204290355.39999998\n",
      "got cop pay of 5454972.509999999\n",
      "got to page 50\n",
      "got total pay of  210470557.57999998\n",
      "got cop pay of 5715489.429999999\n",
      "got to page 51\n",
      "got total pay of  215835202.29999998\n",
      "got cop pay of 6075712.429999999\n",
      "got to page 52\n",
      "got total pay of  222127382.89999998\n",
      "got cop pay of 6164039.479999999\n",
      "got to page 53\n",
      "got total pay of  228477397.77999997\n",
      "got cop pay of 6164039.479999999\n",
      "got to page 54\n",
      "got total pay of  234886458.42\n",
      "got cop pay of 6525633.929999999\n",
      "got to page 55\n",
      "got total pay of  241365296.19\n",
      "got cop pay of 6799441.559999999\n",
      "got to page 56\n",
      "got total pay of  247917338.04999998\n",
      "got cop pay of 7168670.189999999\n",
      "got to page 57\n",
      "got total pay of  254544742.73\n",
      "got cop pay of 7542885.749999998\n",
      "got to page 58\n",
      "got total pay of  261239220.35\n",
      "got cop pay of 7542885.749999998\n",
      "got to page 59\n",
      "got total pay of  268005409.32999998\n",
      "got cop pay of 7637864.989999998\n",
      "got to page 60\n",
      "got total pay of  274833625.51\n",
      "got cop pay of 7829992.219999999\n",
      "got to page 61\n",
      "got total pay of  281725445.04\n",
      "got cop pay of 8121109.219999999\n",
      "got to page 62\n",
      "got total pay of  288696251.33000004\n",
      "got cop pay of 8415548.18\n",
      "got to page 63\n",
      "got total pay of  295650065.6\n",
      "got cop pay of 8712718.06\n",
      "got to page 64\n",
      "got total pay of  302762967.04\n",
      "got cop pay of 8813359.360000001\n",
      "got to page 65\n",
      "got total pay of  309959347.64000005\n",
      "got cop pay of 8813359.360000001\n",
      "got to page 66\n",
      "got total pay of  317244154.0500001\n",
      "got cop pay of 9429329.82\n",
      "got to page 67\n",
      "got total pay of  324619153.82000005\n",
      "got cop pay of 9740683.51\n",
      "got to page 68\n",
      "got total pay of  332080509.77000004\n",
      "got cop pay of 10055204.79\n",
      "got to page 69\n",
      "got total pay of  339635678.78000003\n",
      "got cop pay of 10480771.59\n",
      "got to page 70\n",
      "got total pay of  347278104.67\n",
      "got cop pay of 10803800.83\n",
      "got to page 71\n",
      "got total pay of  355013819.52000004\n",
      "got cop pay of 11238190.88\n",
      "got to page 72\n",
      "got total pay of  362860252.59000003\n",
      "got cop pay of 11569875.850000001\n",
      "got to page 73\n",
      "got total pay of  370854817.12\n",
      "got cop pay of 12133432.030000001\n",
      "got to page 74\n",
      "got total pay of  379252040.3\n",
      "got cop pay of 12588987.13\n",
      "got to page 75\n",
      "got total pay of  387486846.40000004\n",
      "got cop pay of 13054156.22\n",
      "got to page 76\n",
      "got total pay of  395867785.42\n",
      "got cop pay of 13999389.24\n",
      "got to page 77\n",
      "got total pay of  404398972.90000004\n",
      "got cop pay of 14601397.51\n",
      "got to page 78\n",
      "got total pay of  413086503.35\n",
      "got cop pay of 15212956.24\n",
      "got to page 79\n",
      "got total pay of  421936330.15000004\n",
      "got cop pay of 16211349.07\n",
      "got to page 80\n",
      "got total pay of  430972574.6\n",
      "got cop pay of 16849567.3\n",
      "got to page 81\n",
      "got total pay of  440064596.94\n",
      "got cop pay of 17755911.650000002\n",
      "got to page 82\n",
      "got total pay of  449486966.53\n",
      "got cop pay of 18553700.900000002\n",
      "got to page 83\n",
      "got total pay of  459167448.82\n",
      "got cop pay of 19509759.020000003\n",
      "got to page 84\n",
      "got total pay of  469189163.21\n",
      "got cop pay of 20635807.070000004\n",
      "got to page 85\n",
      "got total pay of  479585727.72999996\n",
      "got cop pay of 21808700.550000004\n",
      "got to page 86\n",
      "got total pay of  490375629.55999994\n",
      "got cop pay of 23479980.140000004\n",
      "got to page 87\n",
      "got total pay of  501574087.56999993\n",
      "got cop pay of 24593510.230000004\n",
      "got to page 88\n",
      "got total pay of  513408911.7699999\n",
      "got cop pay of 24927620.280000005\n",
      "got to page 89\n",
      "got total pay of  526019325.3299999\n",
      "got cop pay of 26745514.340000004\n",
      "got to page 90\n",
      "got total pay of  539586661.4599999\n",
      "got cop pay of 28140924.850000005\n"
     ]
    }
   ],
   "source": [
    "MBTA_payroll_dict_2015 = MBTA_Payroll_Scraper.scrape_payroll()"
   ]
  },
  {
   "cell_type": "code",
   "execution_count": 6,
   "metadata": {},
   "outputs": [
    {
     "data": {
      "text/plain": [
       "{2015: {'total_pay_actual': 539586661.4599999,\n",
       "  'police_pay': 28140924.850000005},\n",
       " 2017: {'total_pay_actual': 0, 'police_pay': 0}}"
      ]
     },
     "execution_count": 6,
     "metadata": {},
     "output_type": "execute_result"
    }
   ],
   "source": [
    "MBTA_payroll_dict_2015"
   ]
  },
  {
   "cell_type": "code",
   "execution_count": 15,
   "metadata": {},
   "outputs": [],
   "source": [
    "from PyPDF2 import PdfFileReader\n",
    "from MBTA_Payroll_Scraper import page_to_image\n",
    "import pdf2image\n",
    "import pytesseract"
   ]
  },
  {
   "cell_type": "code",
   "execution_count": 16,
   "metadata": {},
   "outputs": [],
   "source": [
    "mbta_pdfObj = PdfFileReader(\"data/MBTA_pdfs/mbta-payroll-2015.pdf\")\n",
    "temp_path = \"data/MBTA_pdfs/mbta_temp_page.pdf\""
   ]
  },
  {
   "cell_type": "code",
   "execution_count": 17,
   "metadata": {},
   "outputs": [],
   "source": [
    "page_to_image(mbta_pdfObj, 0, temp_path)\n",
    "images_from_path = pdf2image.convert_from_path(temp_path)\n",
    "row_list = pytesseract.image_to_string(images_from_path[0], config='--psm 6').split(\"\\n\")"
   ]
  },
  {
   "cell_type": "code",
   "execution_count": 18,
   "metadata": {},
   "outputs": [
    {
     "data": {
      "text/plain": [
       "['Kenneth Murphy Rail Maint OrangeWellington Cleaner,Car 433 61776.000 0.00',\n",
       " 'Leonard McMahon Bus Transportation ChritwnFels Operator,Surface 126 40955.200 0.00',\n",
       " 'Omar Trochez Bus Transportation Arborway Operator,Surface 122 72779.200 0.00',\n",
       " 'Mark McLaughlin TFM Bldg & Station Maintenance Supv Night Cleaning 309 73296.340 0.00',\n",
       " 'Jose Agosto Police Officer,Police 741 0.000 0.00',\n",
       " 'Barbara Dixon EVE Everett Main Repair -Bus Driver, Truck a4 72508.800 0.00',\n",
       " 'Debra Spinzola C_MKT Customer Communications Rep,Customer Support 92 56030.780 0.00',\n",
       " 'Daniel Preston Bus Transportation Bennett Operator,Surface 125 72779.200 0.00',\n",
       " 'Deborah McKenna HRail Transp Red JFK/UMASS Motorperson,Rapid Transit 113 75691.200 0.00',\n",
       " 'Veronica Roberts HRail Transp Red JFK/UMASS Motorperson,P-T 113 56768.400 0.00',\n",
       " 'Derrick Napier HRail Transp Blue Orient Hght Motorperson,P-T RTL Yard 114 54584.400 0.00',\n",
       " 'Maraya Sierra Bus Transportation CabotAlbany Operator,P-T Surface 123 40934.400 0.00',\n",
       " 'Leon Bailey HRail Transp Blue Orient Hght Motorperson,P-T 114 42572.400 0.00',\n",
       " 'Katharine Bozeman HRail Transp OrangeWellington Motorperson,P-T RTL Yard 112 35474.400 0.00',\n",
       " 'Ronald Niles Bus Transportation Lynn Operator,P-T Surface 129 35474.400 0.00',\n",
       " 'Maculo Appolon Bus Transportation Southampton Operator,P-T Surface 138 35474.400 0.00',\n",
       " 'Robert Patrick EVE Everett Main Repair -Rail Machinist 413 65353.600 0.00',\n",
       " 'Michael Hansen LRail Transp Green Reservoir Motorperson,P-T Streetcar 132 35833.200 266.00',\n",
       " 'Luis Cruz LRail Transp Green Reservoir Motorperson,P-T Streetcar 132 0.000 320.00',\n",
       " 'Joseph Clark Bus Maintenance Cabot Machinist 455 80204.800 350.00',\n",
       " 'Kimberly Brekalis Labor Relations Intern, Student 753 31200.000 397.50',\n",
       " 'Nicholas Botsch TFM Mechanical Maintenance Intern, Student 313 28080.000 432.00',\n",
       " 'SaintJude Remy Bus Transportation CabotAlbany Operator,P-T Surface 123 35474.400 560.00',\n",
       " 'Beverly Clifton HRail CustomerService Blue Agent,Customer Service P-T 836 34554.000 603.80',\n",
       " 'Nakul Gupta Office Perf Mgmt & Innov Intern, Student 502 31200.000 750.00',\n",
       " 'Tanya Boman LRail Transp Green Reservoir Motorperson,Streetcar 132 0.000 848.16',\n",
       " 'Robert Didrikson Bus Transportation CabotAlbany Inspector,Bus 123 0.000 848.27',\n",
       " 'Clinton Wilkins LRail Transp Green Reservoir Motorperson,P-T Streetcar 132 35833.200 1360.00',\n",
       " 'Christina Rybnik Bus Transportation Southampton Operator,Surface 138 65499.200 1382.64',\n",
       " 'Regis Lino-Kelly Transportation Access Intern, Student 088 21060.000 1896.75',\n",
       " 'lan Thistle Office Perf Mgmt & Innov Analyst,Policy 502 62000.120 2384.62',\n",
       " 'Richard Geoffroy Rail Maint OrangeWellington Repairer, Rail 433 84593.600 2492.25',\n",
       " 'Dax Bayard-Murray Organizational Diversity Admin Analyst,EEO Systems & Data 023 72000.240 2769.24',\n",
       " 'Luchytea Joseph Information Technology Opers Administrator,Network 034 75380.240 2899.24',\n",
       " 'David Hennigan Information Technology Opers Administrator,Network 034 75380.240 2899.24',\n",
       " 'Steven Felix Police Officer,Police 741 0.000 2941.50',\n",
       " 'Adelbowale Awogboro Bus Transportation CabotAlbany Operator,P-T Surface 123 35474.400 2946.92',\n",
       " 'Paul Lynch Bus Transportation Lynn Operator,P-T Surface 129 35474.400 2960.00',\n",
       " 'Carlo DelloRusso Bus Maintenance Lynn Machinist 453 60153.600 3676.16',\n",
       " 'Ruby Rodriguez Design&Constr- AGM Office Intern, Student 501 34320.000 3696.00',\n",
       " 'Ashley Peel Labor Relations Intern, Student 753 15600.000 3705.00',\n",
       " 'Willie Ruffin Hum Res Staffing & HR Analysis Analyst, Human Resources 751 65000.000 3750.00',\n",
       " 'William Proia Bus Transportation Arborway Operator,P-T Surface 122 35474.400 3752.94',\n",
       " 'Jenny Li MassDOT Univ & Emp Relations Intern, Student 756 28080.000 3935.88',\n",
       " 'Melvin Rivera Bus Transportation Arborway Operator,P-T Surface 122 35474.400 3959.90',\n",
       " 'Peter Anthony Bus Transportation CabotAlbany Operator,P-T Surface 123 35474.400 4043.19',\n",
       " 'Tiajuana Buchanan Bus Transportation CabotAlbany Operator,P-T Surface 123 35474.400 4047.53',\n",
       " 'Ronald Scott Bus Transportation CabotAlbany Operator,P-T Surface 123 35474.400 4054.75',\n",
       " 'Nicholas Belmont Bus Transportation CabotAlbany Operator,P-T Surface 123 35474.400 4091.85',\n",
       " 'Paula Hanlon Bus Transportation CabotAlbany Operator,P-T Surface 123 35474.400 4091.85',\n",
       " 'Abdelhak Elbaakili Bus Transportation Lynn Operator,P-T Surface 129 35474.400 4119.52',\n",
       " 'Shakemia Shaw Bus Transportation Arborway Operator,P-T Surface 122 35474.400 4152.89',\n",
       " 'Tamika Haywood Bus Transportation CabotAlbany Operator,P-T Surface 123 35474.400 4189.60',\n",
       " 'Paul Lavigueur Bus Transportation Lynn Operator,Surface 129 72779.200 4259.53,',\n",
       " 'Saurel Capre Bus Transportation Lynn Operator,P-T Surface 129 35474.400 4275.99',\n",
       " 'Jennifer Williams Bus Transportation Bennett Operator,P-T Surface 125 35474.400 4278.96',\n",
       " 'Gerpis Guerrero Bus Transportation Bennett Operator,P-T Surface 125 35474.400 4283.13,',\n",
       " 'Jason Lynch Bus Transportation Bennett Operator,P-T Surface 125 35474.400 4304.74',\n",
       " 'Phillip Wright Bus Transportation Lynn Operator,P-T Surface 129 35474.400 4383.24',\n",
       " 'Nadege Fenelon Bus Transportation Quincy Operator,P-T Surface 128 35474.400 4451.95,',\n",
       " 'Kimberly Hunter Bus Transportation Southampton Operator,P-T Surface 138 35474.400 4486.51',\n",
       " 'David Nagle Bus Transportation Quincy Operator,P-T Surface 128 35474.400 4550.20',\n",
       " 'Stephen Gallagher EVE Everett Main Repair -Rail Machinist 413 65353.600 4582.11',\n",
       " 'Ronald Dunn Bus Transportation Quincy Operator,P-T Surface 128 35474.400 4593.61',\n",
       " 'Fendrick Bush Bus Transportation Southampton Operator,P-T Surface 138 35474.400 4607.13',\n",
       " 'Restilda Dhroso Labor Relations Counsel,Labor 753 80543.060 4646.72',\n",
       " 'Daniel Kazakis Labor Relations Counsel,Labor 753 80543.060 4646.72',\n",
       " 'Sean Kineavy Tres Controller GeneralAcountg Intern, Student 712 28080.000 4774.00',\n",
       " 'Benjamin Sloot Organizational Diversity Admin Coord,EEO Program 023 65000.000 5000.00',\n",
       " 'Sherry McCullough Bus Transportation Southampton Operator,P-T Surface 138 35474.400 5411.00']"
      ]
     },
     "execution_count": 18,
     "metadata": {},
     "output_type": "execute_result"
    }
   ],
   "source": [
    "row_list"
   ]
  },
  {
   "cell_type": "code",
   "execution_count": 23,
   "metadata": {},
   "outputs": [],
   "source": [
    "def get_pay(row_list, split_on):\n",
    "    total_pay = 0\n",
    "    total_cop_pay = 0\n",
    "    for row in row_list:\n",
    "        try:\n",
    "            pay = float(row.split(split_on)[-1].replace(\",\",\"\"))\n",
    "            total_pay += pay\n",
    "            if \"Police\" in row:\n",
    "                    total_cop_pay += pay\n",
    "        except:\n",
    "            pass\n",
    "    return total_pay, total_cop_pay"
   ]
  },
  {
   "cell_type": "code",
   "execution_count": 24,
   "metadata": {},
   "outputs": [
    {
     "data": {
      "text/plain": [
       "(169110.73, 2941.5)"
      ]
     },
     "execution_count": 24,
     "metadata": {},
     "output_type": "execute_result"
    }
   ],
   "source": [
    "get_pay(row_list, \" \")"
   ]
  },
  {
   "cell_type": "code",
   "execution_count": null,
   "metadata": {},
   "outputs": [],
   "source": []
  }
 ],
 "metadata": {
  "kernelspec": {
   "display_name": "Python 3",
   "language": "python",
   "name": "python3"
  },
  "language_info": {
   "codemirror_mode": {
    "name": "ipython",
    "version": 3
   },
   "file_extension": ".py",
   "mimetype": "text/x-python",
   "name": "python",
   "nbconvert_exporter": "python",
   "pygments_lexer": "ipython3",
   "version": "3.7.6"
  }
 },
 "nbformat": 4,
 "nbformat_minor": 4
}
