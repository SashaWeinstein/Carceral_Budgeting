{
 "cells": [
  {
   "cell_type": "markdown",
   "metadata": {},
   "source": [
    "I know there are capital costs for BostonPD I already include, I will make sure I've moved those to correct attribute and then look for capital costs for the other police departments "
   ]
  },
  {
   "cell_type": "code",
   "execution_count": 1,
   "metadata": {},
   "outputs": [],
   "source": [
    "%load_ext autoreload\n",
    "%autoreload 2"
   ]
  },
  {
   "cell_type": "code",
   "execution_count": 8,
   "metadata": {},
   "outputs": [],
   "source": [
    "import pandas as pd\n",
    "import sys\n",
    "import os\n",
    "import warnings\n",
    "warnings.filterwarnings('ignore')\n",
    "sys.path.insert(0, os.path.abspath('../'))\n",
    "from Agency_Classes import BostonPD, ChelseaPD, WinthropPD"
   ]
  },
  {
   "cell_type": "code",
   "execution_count": 3,
   "metadata": {},
   "outputs": [
    {
     "name": "stdout",
     "output_type": "stream",
     "text": [
      "got to update capital expenditures for year 2016\n",
      "dollar amounts are  [5018519, 748832, 2780000, 11460000]\n",
      "got to update capital expenditures for year 2017\n",
      "dollar amounts are  [748832, 688151, 11460000, 15939366]\n",
      "got to update capital expenditures for year 2020\n",
      "dollar amounts are  [7909564, 18625711, 24690000, 9982917]\n",
      "got to update capital expenditures for year 2021\n",
      "dollar amounts are  [18625711, 8502943, 9982917, 22376371]\n",
      "got to update capital expenditures for year 2018\n",
      "dollar amounts are  [688151, 5441996, 15939366, 18684860]\n",
      "got to update capital expenditures for year 2019\n",
      "dollar amounts are  [5441996, 7909564, 18684860, 24690000, 222]\n"
     ]
    }
   ],
   "source": [
    "boston = BostonPD()"
   ]
  },
  {
   "cell_type": "code",
   "execution_count": 5,
   "metadata": {},
   "outputs": [
    {
     "data": {
      "text/plain": [
       "2016     5441996\n",
       "2017     7909564\n",
       "2018    18625711\n",
       "2019     8502943\n",
       "2020           0\n",
       "2021           0\n",
       "2014      748832\n",
       "2015      688151\n",
       "dtype: int64"
      ]
     },
     "execution_count": 5,
     "metadata": {},
     "output_type": "execute_result"
    }
   ],
   "source": [
    "boston.capital_expenditures"
   ]
  },
  {
   "cell_type": "code",
   "execution_count": 43,
   "metadata": {},
   "outputs": [
    {
     "data": {
      "text/html": [
       "<div>\n",
       "<style scoped>\n",
       "    .dataframe tbody tr th:only-of-type {\n",
       "        vertical-align: middle;\n",
       "    }\n",
       "\n",
       "    .dataframe tbody tr th {\n",
       "        vertical-align: top;\n",
       "    }\n",
       "\n",
       "    .dataframe thead th {\n",
       "        text-align: right;\n",
       "    }\n",
       "</style>\n",
       "<table border=\"1\" class=\"dataframe\">\n",
       "  <thead>\n",
       "    <tr style=\"text-align: right;\">\n",
       "      <th></th>\n",
       "      <th>2016</th>\n",
       "      <th>2017</th>\n",
       "      <th>2018</th>\n",
       "      <th>2019</th>\n",
       "      <th>2020</th>\n",
       "      <th>2021</th>\n",
       "    </tr>\n",
       "  </thead>\n",
       "  <tbody>\n",
       "    <tr>\n",
       "      <th>Payroll Budget</th>\n",
       "      <td>297299985.000</td>\n",
       "      <td>325090384.000</td>\n",
       "      <td>340550136.677</td>\n",
       "      <td>364655518.158</td>\n",
       "      <td>376094339.676</td>\n",
       "      <td>378944425.091</td>\n",
       "    </tr>\n",
       "    <tr>\n",
       "      <th>OT Budget</th>\n",
       "      <td>35619489.000</td>\n",
       "      <td>54966556.000</td>\n",
       "      <td>57076768.867</td>\n",
       "      <td>60115115.432</td>\n",
       "      <td>61415244.222</td>\n",
       "      <td>61500643.365</td>\n",
       "    </tr>\n",
       "    <tr>\n",
       "      <th>Total Budget</th>\n",
       "      <td>334810043.000</td>\n",
       "      <td>366418564.000</td>\n",
       "      <td>380087096.177</td>\n",
       "      <td>407114254.631</td>\n",
       "      <td>420864667.757</td>\n",
       "      <td>421589850.442</td>\n",
       "    </tr>\n",
       "    <tr>\n",
       "      <th>Payroll Appropriation</th>\n",
       "      <td>301839026.000</td>\n",
       "      <td>331053719.245</td>\n",
       "      <td>353648386.370</td>\n",
       "      <td>366234564.173</td>\n",
       "      <td>376709076.481</td>\n",
       "      <td>0.000</td>\n",
       "    </tr>\n",
       "    <tr>\n",
       "      <th>OT Appropriation</th>\n",
       "      <td>37966592.000</td>\n",
       "      <td>55969576.695</td>\n",
       "      <td>59235426.538</td>\n",
       "      <td>60319549.828</td>\n",
       "      <td>62014215.824</td>\n",
       "      <td>0.000</td>\n",
       "    </tr>\n",
       "    <tr>\n",
       "      <th>Total Appropriation</th>\n",
       "      <td>339300263.000</td>\n",
       "      <td>370044034.075</td>\n",
       "      <td>397129439.648</td>\n",
       "      <td>408288547.121</td>\n",
       "      <td>422530491.594</td>\n",
       "      <td>0.000</td>\n",
       "    </tr>\n",
       "    <tr>\n",
       "      <th>Payroll Expenditures</th>\n",
       "      <td>322000476.071</td>\n",
       "      <td>335073541.833</td>\n",
       "      <td>360633372.807</td>\n",
       "      <td>374141609.986</td>\n",
       "      <td>0.000</td>\n",
       "      <td>0.000</td>\n",
       "    </tr>\n",
       "    <tr>\n",
       "      <th>OT Expenditures</th>\n",
       "      <td>57790620.075</td>\n",
       "      <td>60618685.866</td>\n",
       "      <td>68313585.252</td>\n",
       "      <td>70204917.968</td>\n",
       "      <td>0.000</td>\n",
       "      <td>0.000</td>\n",
       "    </tr>\n",
       "    <tr>\n",
       "      <th>Total Expenditures</th>\n",
       "      <td>354100737.000</td>\n",
       "      <td>372407936.000</td>\n",
       "      <td>407607260.000</td>\n",
       "      <td>422895141.000</td>\n",
       "      <td>0.000</td>\n",
       "      <td>0.000</td>\n",
       "    </tr>\n",
       "    <tr>\n",
       "      <th>True Payroll</th>\n",
       "      <td>388587231.110</td>\n",
       "      <td>391277619.770</td>\n",
       "      <td>416682999.940</td>\n",
       "      <td>415725606.800</td>\n",
       "      <td>nan</td>\n",
       "      <td>nan</td>\n",
       "    </tr>\n",
       "    <tr>\n",
       "      <th>Non-Payroll Expenditures</th>\n",
       "      <td>32100260.929</td>\n",
       "      <td>37334394.167</td>\n",
       "      <td>46973887.193</td>\n",
       "      <td>48753531.014</td>\n",
       "      <td>nan</td>\n",
       "      <td>nan</td>\n",
       "    </tr>\n",
       "    <tr>\n",
       "      <th>Final Yearly Operating Cost</th>\n",
       "      <td>420687492.039</td>\n",
       "      <td>428612013.937</td>\n",
       "      <td>463656887.133</td>\n",
       "      <td>464479137.814</td>\n",
       "      <td>nan</td>\n",
       "      <td>nan</td>\n",
       "    </tr>\n",
       "    <tr>\n",
       "      <th>Final Expenditures</th>\n",
       "      <td>553699511.239</td>\n",
       "      <td>565350376.179</td>\n",
       "      <td>616899996.294</td>\n",
       "      <td>622862807.934</td>\n",
       "      <td>nan</td>\n",
       "      <td>nan</td>\n",
       "    </tr>\n",
       "  </tbody>\n",
       "</table>\n",
       "</div>"
      ],
      "text/plain": [
       "                                     2016          2017          2018  \\\n",
       "Payroll Budget              297299985.000 325090384.000 340550136.677   \n",
       "OT Budget                    35619489.000  54966556.000  57076768.867   \n",
       "Total Budget                334810043.000 366418564.000 380087096.177   \n",
       "Payroll Appropriation       301839026.000 331053719.245 353648386.370   \n",
       "OT Appropriation             37966592.000  55969576.695  59235426.538   \n",
       "Total Appropriation         339300263.000 370044034.075 397129439.648   \n",
       "Payroll Expenditures        322000476.071 335073541.833 360633372.807   \n",
       "OT Expenditures              57790620.075  60618685.866  68313585.252   \n",
       "Total Expenditures          354100737.000 372407936.000 407607260.000   \n",
       "True Payroll                388587231.110 391277619.770 416682999.940   \n",
       "Non-Payroll Expenditures     32100260.929  37334394.167  46973887.193   \n",
       "Final Yearly Operating Cost 420687492.039 428612013.937 463656887.133   \n",
       "Final Expenditures          553699511.239 565350376.179 616899996.294   \n",
       "\n",
       "                                     2019          2020          2021  \n",
       "Payroll Budget              364655518.158 376094339.676 378944425.091  \n",
       "OT Budget                    60115115.432  61415244.222  61500643.365  \n",
       "Total Budget                407114254.631 420864667.757 421589850.442  \n",
       "Payroll Appropriation       366234564.173 376709076.481         0.000  \n",
       "OT Appropriation             60319549.828  62014215.824         0.000  \n",
       "Total Appropriation         408288547.121 422530491.594         0.000  \n",
       "Payroll Expenditures        374141609.986         0.000         0.000  \n",
       "OT Expenditures              70204917.968         0.000         0.000  \n",
       "Total Expenditures          422895141.000         0.000         0.000  \n",
       "True Payroll                415725606.800           nan           nan  \n",
       "Non-Payroll Expenditures     48753531.014           nan           nan  \n",
       "Final Yearly Operating Cost 464479137.814           nan           nan  \n",
       "Final Expenditures          622862807.934           nan           nan  "
      ]
     },
     "execution_count": 43,
     "metadata": {},
     "output_type": "execute_result"
    }
   ],
   "source": [
    "boston.budget_summary"
   ]
  },
  {
   "cell_type": "code",
   "execution_count": 44,
   "metadata": {},
   "outputs": [
    {
     "data": {
      "text/plain": [
       "5441996"
      ]
     },
     "execution_count": 44,
     "metadata": {},
     "output_type": "execute_result"
    }
   ],
   "source": [
    "359542733- 354100737"
   ]
  },
  {
   "cell_type": "code",
   "execution_count": 48,
   "metadata": {},
   "outputs": [
    {
     "name": "stdout",
     "output_type": "stream",
     "text": [
      "Capital budget dollar amounts found for 2020 [173000.0, 164000.0, 164000.0, 30000.0, 30000.0]\n",
      "dollar amounts passed as payroll [9551598.59, 9923457.54, 11526261.8, 11583404.0, 11569857.0, 121052.0]\n"
     ]
    }
   ],
   "source": [
    "chelsea = ChelseaPD()"
   ]
  },
  {
   "cell_type": "code",
   "execution_count": 49,
   "metadata": {},
   "outputs": [
    {
     "data": {
      "text/plain": [
       "2016    173000\n",
       "2017    164000\n",
       "2018    161438\n",
       "2019         0\n",
       "2020         0\n",
       "dtype: int64"
      ]
     },
     "execution_count": 49,
     "metadata": {},
     "output_type": "execute_result"
    }
   ],
   "source": [
    "chelsea.capital_expenditures"
   ]
  },
  {
   "cell_type": "code",
   "execution_count": 59,
   "metadata": {},
   "outputs": [],
   "source": [
    "from ReverePD_Capital_Costs import get_ReverePD_Capital_Costs"
   ]
  },
  {
   "cell_type": "code",
   "execution_count": 61,
   "metadata": {},
   "outputs": [
    {
     "name": "stdout",
     "output_type": "stream",
     "text": [
      "data is\n"
     ]
    },
    {
     "data": {
      "text/html": [
       "<div>\n",
       "<style scoped>\n",
       "    .dataframe tbody tr th:only-of-type {\n",
       "        vertical-align: middle;\n",
       "    }\n",
       "\n",
       "    .dataframe tbody tr th {\n",
       "        vertical-align: top;\n",
       "    }\n",
       "\n",
       "    .dataframe thead th {\n",
       "        text-align: right;\n",
       "    }\n",
       "</style>\n",
       "<table border=\"1\" class=\"dataframe\">\n",
       "  <thead>\n",
       "    <tr style=\"text-align: right;\">\n",
       "      <th></th>\n",
       "      <th>2016</th>\n",
       "      <th>2017</th>\n",
       "      <th>2018</th>\n",
       "      <th>2019</th>\n",
       "    </tr>\n",
       "  </thead>\n",
       "  <tbody>\n",
       "    <tr>\n",
       "      <th>ReverePD Projects</th>\n",
       "      <td>102859.340</td>\n",
       "      <td>104200</td>\n",
       "      <td>101950</td>\n",
       "      <td>50000</td>\n",
       "    </tr>\n",
       "    <tr>\n",
       "      <th>Public Safety Projects</th>\n",
       "      <td>1292643.740</td>\n",
       "      <td>1294156</td>\n",
       "      <td>1082010</td>\n",
       "      <td>0</td>\n",
       "    </tr>\n",
       "  </tbody>\n",
       "</table>\n",
       "</div>"
      ],
      "text/plain": [
       "                              2016     2017     2018   2019\n",
       "ReverePD Projects       102859.340   104200   101950  50000\n",
       "Public Safety Projects 1292643.740  1294156  1082010      0"
      ]
     },
     "metadata": {},
     "output_type": "display_data"
    },
    {
     "name": "stdout",
     "output_type": "stream",
     "text": [
      "correction is  2016   0.476\n",
      "2017   0.462\n",
      "2018   0.461\n",
      "2019   0.000\n",
      "dtype: float64\n"
     ]
    },
    {
     "data": {
      "text/plain": [
       "2016   718325.118\n",
       "2017   702314.249\n",
       "2018   601210.529\n",
       "2019    50000.000\n",
       "dtype: object"
      ]
     },
     "execution_count": 61,
     "metadata": {},
     "output_type": "execute_result"
    }
   ],
   "source": [
    "get_ReverePD_Capital_Costs()"
   ]
  },
  {
   "cell_type": "code",
   "execution_count": null,
   "metadata": {},
   "outputs": [],
   "source": []
  },
  {
   "cell_type": "code",
   "execution_count": null,
   "metadata": {},
   "outputs": [],
   "source": []
  }
 ],
 "metadata": {
  "kernelspec": {
   "display_name": "Python 3",
   "language": "python",
   "name": "python3"
  },
  "language_info": {
   "codemirror_mode": {
    "name": "ipython",
    "version": 3
   },
   "file_extension": ".py",
   "mimetype": "text/x-python",
   "name": "python",
   "nbconvert_exporter": "python",
   "pygments_lexer": "ipython3",
   "version": "3.7.6"
  }
 },
 "nbformat": 4,
 "nbformat_minor": 4
}
