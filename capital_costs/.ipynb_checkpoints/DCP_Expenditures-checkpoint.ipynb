{
 "cells": [
  {
   "cell_type": "markdown",
   "metadata": {},
   "source": [
    "Under the EXECUTIVE OFFICE FOR ADMINSTRATION & FINANCE in cthru there is a CAPITAL ASSET MANAGEMENT AND MAINTENANCE DIVISION (DCP) under which expenditures related to the costs of jails and courts are documented."
   ]
  },
  {
   "cell_type": "code",
   "execution_count": 1,
   "metadata": {},
   "outputs": [],
   "source": [
    "%load_ext autoreload\n",
    "%autoreload 2"
   ]
  },
  {
   "cell_type": "code",
   "execution_count": 2,
   "metadata": {},
   "outputs": [],
   "source": [
    "import pandas as pd\n",
    "from sodapy import Socrata\n",
    "app_token = \"2Qa1WiG8G4kj1vGVd2noK7zP0\"\n",
    "client = Socrata(\"cthru.data.socrata.com\", app_token)\n",
    "client.timeout = 40\n",
    "pd.set_option('display.float_format', lambda x: '%.3f' % x)"
   ]
  },
  {
   "cell_type": "code",
   "execution_count": 10,
   "metadata": {},
   "outputs": [],
   "source": [
    "DCP = pd.DataFrame(client.get(\"pegc-naaa\", where =\"Department = 'CAPITAL ASSET MANAGEMENT AND MAINTENANCE DIVISION (DCP)'\" \\\n",
    "                              \" AND budget_fiscal_year >= 2016 and budget_fiscal_year <= 2019\",\n",
    "                             limit = 999999))"
   ]
  },
  {
   "cell_type": "code",
   "execution_count": 44,
   "metadata": {},
   "outputs": [],
   "source": [
    "DCP[\"amount\"] = DCP[\"amount\"].astype(float)\n",
    "DCP[\"budget_fiscal_year\"] = DCP[\"budget_fiscal_year\"].astype(int)"
   ]
  },
  {
   "cell_type": "code",
   "execution_count": 31,
   "metadata": {},
   "outputs": [
    {
     "data": {
      "text/html": [
       "<div>\n",
       "<style scoped>\n",
       "    .dataframe tbody tr th:only-of-type {\n",
       "        vertical-align: middle;\n",
       "    }\n",
       "\n",
       "    .dataframe tbody tr th {\n",
       "        vertical-align: top;\n",
       "    }\n",
       "\n",
       "    .dataframe thead th {\n",
       "        text-align: right;\n",
       "    }\n",
       "</style>\n",
       "<table border=\"1\" class=\"dataframe\">\n",
       "  <thead>\n",
       "    <tr style=\"text-align: right;\">\n",
       "      <th></th>\n",
       "      <th>base_id</th>\n",
       "      <th>budget_fiscal_year</th>\n",
       "      <th>fiscal_period</th>\n",
       "      <th>date</th>\n",
       "      <th>cabinet_secretariat</th>\n",
       "      <th>department</th>\n",
       "      <th>appropriation_type</th>\n",
       "      <th>appropriation_name</th>\n",
       "      <th>object_class</th>\n",
       "      <th>object_code</th>\n",
       "      <th>...</th>\n",
       "      <th>appropriation_code</th>\n",
       "      <th>object</th>\n",
       "      <th>department_code</th>\n",
       "      <th>vendor</th>\n",
       "      <th>vendor_id</th>\n",
       "      <th>payment_id</th>\n",
       "      <th>payment_method</th>\n",
       "      <th>state</th>\n",
       "      <th>city</th>\n",
       "      <th>create_date</th>\n",
       "    </tr>\n",
       "  </thead>\n",
       "  <tbody>\n",
       "    <tr>\n",
       "      <th>0</th>\n",
       "      <td>A0000000000971634178</td>\n",
       "      <td>2016</td>\n",
       "      <td>6</td>\n",
       "      <td>2015-12-18T00:00:00.000</td>\n",
       "      <td>EXECUTIVE OFFICE FOR ADMINSTRATION &amp; FINANCE</td>\n",
       "      <td>CAPITAL ASSET MANAGEMENT AND MAINTENANCE DIVIS...</td>\n",
       "      <td>(2CN) CAPITAL</td>\n",
       "      <td>(11022009) COMMONWEALTH FACILITY IMPROVEMENTS</td>\n",
       "      <td>(FF) FACILITY OPERATIONAL EXPENSES</td>\n",
       "      <td>(F24) MOTOR VEHICLE MAINTENANCE AND REPAIR PARTS</td>\n",
       "      <td>...</td>\n",
       "      <td>11022009</td>\n",
       "      <td>F24</td>\n",
       "      <td>DCP</td>\n",
       "      <td>RENTAL CONCEPTS INC</td>\n",
       "      <td>FLEET RESPONSE</td>\n",
       "      <td>INTFINV0000000072479</td>\n",
       "      <td>EFT</td>\n",
       "      <td>OH</td>\n",
       "      <td>CLEVELAND</td>\n",
       "      <td>2019-08-31T13:32:03.000</td>\n",
       "    </tr>\n",
       "    <tr>\n",
       "      <th>1</th>\n",
       "      <td>A0000000000971634218</td>\n",
       "      <td>2016</td>\n",
       "      <td>6</td>\n",
       "      <td>2016-01-26T00:00:00.000</td>\n",
       "      <td>EXECUTIVE OFFICE FOR ADMINSTRATION &amp; FINANCE</td>\n",
       "      <td>CAPITAL ASSET MANAGEMENT AND MAINTENANCE DIVIS...</td>\n",
       "      <td>(2CN) CAPITAL</td>\n",
       "      <td>(80000701) PUBLIC SAFETY EQUIPMENT</td>\n",
       "      <td>(NN) INFRASTRUCTURE:</td>\n",
       "      <td>(N18) INITIAL FURNISHINGS &amp; EQUIPMENT PURCHASES</td>\n",
       "      <td>...</td>\n",
       "      <td>80000701</td>\n",
       "      <td>N18</td>\n",
       "      <td>DCP</td>\n",
       "      <td>PATTERSON MEDICAL SUPPLY INC</td>\n",
       "      <td>SAMMONS PRESTON</td>\n",
       "      <td>INTFINV0000000072939</td>\n",
       "      <td>EFT</td>\n",
       "      <td>IL</td>\n",
       "      <td>WARRENVILLE</td>\n",
       "      <td>2019-08-31T13:32:03.000</td>\n",
       "    </tr>\n",
       "    <tr>\n",
       "      <th>2</th>\n",
       "      <td>A0000000000971634387</td>\n",
       "      <td>2016</td>\n",
       "      <td>6</td>\n",
       "      <td>2016-01-07T00:00:00.000</td>\n",
       "      <td>EXECUTIVE OFFICE FOR ADMINSTRATION &amp; FINANCE</td>\n",
       "      <td>CAPITAL ASSET MANAGEMENT AND MAINTENANCE DIVIS...</td>\n",
       "      <td>(2CN) CAPITAL</td>\n",
       "      <td>(11022009) COMMONWEALTH FACILITY IMPROVEMENTS</td>\n",
       "      <td>(EE) ADMINISTRATIVE EXPENSES</td>\n",
       "      <td>(EE2) CONFERENCE, TRAINING AND REGISTRATION FEES</td>\n",
       "      <td>...</td>\n",
       "      <td>11022009</td>\n",
       "      <td>EE2</td>\n",
       "      <td>DCP</td>\n",
       "      <td>THE RIPPLES GROUP, LLC</td>\n",
       "      <td>UNASSIGNED</td>\n",
       "      <td>INTFINV0000000072665</td>\n",
       "      <td>EFT</td>\n",
       "      <td>MA</td>\n",
       "      <td>BOSTON</td>\n",
       "      <td>2019-08-31T13:32:03.000</td>\n",
       "    </tr>\n",
       "    <tr>\n",
       "      <th>3</th>\n",
       "      <td>A0000000000971635034</td>\n",
       "      <td>2016</td>\n",
       "      <td>7</td>\n",
       "      <td>2016-01-27T00:00:00.000</td>\n",
       "      <td>EXECUTIVE OFFICE FOR ADMINSTRATION &amp; FINANCE</td>\n",
       "      <td>CAPITAL ASSET MANAGEMENT AND MAINTENANCE DIVIS...</td>\n",
       "      <td>(2CN) CAPITAL</td>\n",
       "      <td>(11022009) COMMONWEALTH FACILITY IMPROVEMENTS</td>\n",
       "      <td>(GG) ENERGY COSTS AND SPACE RENTAL</td>\n",
       "      <td>(G06) FUEL FOR BUILDINGS</td>\n",
       "      <td>...</td>\n",
       "      <td>11022009</td>\n",
       "      <td>G06</td>\n",
       "      <td>DCP</td>\n",
       "      <td>GLOBAL MONTELLO GROUP CORP</td>\n",
       "      <td>UNASSIGNED</td>\n",
       "      <td>INTFINV0000000073668</td>\n",
       "      <td>EFT</td>\n",
       "      <td>MA</td>\n",
       "      <td>WALTHAM</td>\n",
       "      <td>2019-08-31T13:32:03.000</td>\n",
       "    </tr>\n",
       "    <tr>\n",
       "      <th>4</th>\n",
       "      <td>A0000000000971635815</td>\n",
       "      <td>2016</td>\n",
       "      <td>6</td>\n",
       "      <td>2015-12-15T00:00:00.000</td>\n",
       "      <td>EXECUTIVE OFFICE FOR ADMINSTRATION &amp; FINANCE</td>\n",
       "      <td>CAPITAL ASSET MANAGEMENT AND MAINTENANCE DIVIS...</td>\n",
       "      <td>(2CN) CAPITAL</td>\n",
       "      <td>(11022009) COMMONWEALTH FACILITY IMPROVEMENTS</td>\n",
       "      <td>(NN) INFRASTRUCTURE:</td>\n",
       "      <td>(N50) NON-MAJOR FACILITY INFRASTRUCTURE MAINTE...</td>\n",
       "      <td>...</td>\n",
       "      <td>11022009</td>\n",
       "      <td>N50</td>\n",
       "      <td>DCP</td>\n",
       "      <td>ELECTRICAL DYNAMICS INC</td>\n",
       "      <td>UNASSIGNED</td>\n",
       "      <td>INTFINV0000000072406</td>\n",
       "      <td>EFT</td>\n",
       "      <td>MA</td>\n",
       "      <td>NORTH READING</td>\n",
       "      <td>2019-08-31T13:32:03.000</td>\n",
       "    </tr>\n",
       "  </tbody>\n",
       "</table>\n",
       "<p>5 rows × 25 columns</p>\n",
       "</div>"
      ],
      "text/plain": [
       "                base_id budget_fiscal_year fiscal_period  \\\n",
       "0  A0000000000971634178               2016             6   \n",
       "1  A0000000000971634218               2016             6   \n",
       "2  A0000000000971634387               2016             6   \n",
       "3  A0000000000971635034               2016             7   \n",
       "4  A0000000000971635815               2016             6   \n",
       "\n",
       "                      date                           cabinet_secretariat  \\\n",
       "0  2015-12-18T00:00:00.000  EXECUTIVE OFFICE FOR ADMINSTRATION & FINANCE   \n",
       "1  2016-01-26T00:00:00.000  EXECUTIVE OFFICE FOR ADMINSTRATION & FINANCE   \n",
       "2  2016-01-07T00:00:00.000  EXECUTIVE OFFICE FOR ADMINSTRATION & FINANCE   \n",
       "3  2016-01-27T00:00:00.000  EXECUTIVE OFFICE FOR ADMINSTRATION & FINANCE   \n",
       "4  2015-12-15T00:00:00.000  EXECUTIVE OFFICE FOR ADMINSTRATION & FINANCE   \n",
       "\n",
       "                                          department appropriation_type  \\\n",
       "0  CAPITAL ASSET MANAGEMENT AND MAINTENANCE DIVIS...      (2CN) CAPITAL   \n",
       "1  CAPITAL ASSET MANAGEMENT AND MAINTENANCE DIVIS...      (2CN) CAPITAL   \n",
       "2  CAPITAL ASSET MANAGEMENT AND MAINTENANCE DIVIS...      (2CN) CAPITAL   \n",
       "3  CAPITAL ASSET MANAGEMENT AND MAINTENANCE DIVIS...      (2CN) CAPITAL   \n",
       "4  CAPITAL ASSET MANAGEMENT AND MAINTENANCE DIVIS...      (2CN) CAPITAL   \n",
       "\n",
       "                              appropriation_name  \\\n",
       "0  (11022009) COMMONWEALTH FACILITY IMPROVEMENTS   \n",
       "1             (80000701) PUBLIC SAFETY EQUIPMENT   \n",
       "2  (11022009) COMMONWEALTH FACILITY IMPROVEMENTS   \n",
       "3  (11022009) COMMONWEALTH FACILITY IMPROVEMENTS   \n",
       "4  (11022009) COMMONWEALTH FACILITY IMPROVEMENTS   \n",
       "\n",
       "                         object_class  \\\n",
       "0  (FF) FACILITY OPERATIONAL EXPENSES   \n",
       "1                (NN) INFRASTRUCTURE:   \n",
       "2        (EE) ADMINISTRATIVE EXPENSES   \n",
       "3  (GG) ENERGY COSTS AND SPACE RENTAL   \n",
       "4                (NN) INFRASTRUCTURE:   \n",
       "\n",
       "                                         object_code  ... appropriation_code  \\\n",
       "0   (F24) MOTOR VEHICLE MAINTENANCE AND REPAIR PARTS  ...           11022009   \n",
       "1    (N18) INITIAL FURNISHINGS & EQUIPMENT PURCHASES  ...           80000701   \n",
       "2   (EE2) CONFERENCE, TRAINING AND REGISTRATION FEES  ...           11022009   \n",
       "3                           (G06) FUEL FOR BUILDINGS  ...           11022009   \n",
       "4  (N50) NON-MAJOR FACILITY INFRASTRUCTURE MAINTE...  ...           11022009   \n",
       "\n",
       "  object  department_code                        vendor        vendor_id  \\\n",
       "0    F24              DCP           RENTAL CONCEPTS INC   FLEET RESPONSE   \n",
       "1    N18              DCP  PATTERSON MEDICAL SUPPLY INC  SAMMONS PRESTON   \n",
       "2    EE2              DCP        THE RIPPLES GROUP, LLC       UNASSIGNED   \n",
       "3    G06              DCP    GLOBAL MONTELLO GROUP CORP       UNASSIGNED   \n",
       "4    N50              DCP       ELECTRICAL DYNAMICS INC       UNASSIGNED   \n",
       "\n",
       "             payment_id payment_method state           city  \\\n",
       "0  INTFINV0000000072479            EFT    OH      CLEVELAND   \n",
       "1  INTFINV0000000072939            EFT    IL    WARRENVILLE   \n",
       "2  INTFINV0000000072665            EFT    MA         BOSTON   \n",
       "3  INTFINV0000000073668            EFT    MA        WALTHAM   \n",
       "4  INTFINV0000000072406            EFT    MA  NORTH READING   \n",
       "\n",
       "               create_date  \n",
       "0  2019-08-31T13:32:03.000  \n",
       "1  2019-08-31T13:32:03.000  \n",
       "2  2019-08-31T13:32:03.000  \n",
       "3  2019-08-31T13:32:03.000  \n",
       "4  2019-08-31T13:32:03.000  \n",
       "\n",
       "[5 rows x 25 columns]"
      ]
     },
     "execution_count": 31,
     "metadata": {},
     "output_type": "execute_result"
    }
   ],
   "source": [
    "DCP.head(5)"
   ]
  },
  {
   "cell_type": "code",
   "execution_count": 49,
   "metadata": {},
   "outputs": [
    {
     "data": {
      "text/plain": [
       "9"
      ]
     },
     "execution_count": 49,
     "metadata": {},
     "output_type": "execute_result"
    }
   ],
   "source": [
    "carceral_appropriations = [\"(11025600) COURT FACILITIES CAPITAL NEEDS\", \n",
    "                           \"(89008500) JAIL AND CORRECTIONAL FACILITIES\", \n",
    "                           \"(03302223) COURT FACILITY IMPROVEMENTS\",\n",
    "                           \"(11025700) COURT FACILITIES 2018\",\n",
    "                           \"(03302204) COURT FACILITIES CAPITAL NEEDS & F&E\",\n",
    "                           \"(81001001) DEPARTMENT OF STATE POLICE\",\n",
    "                           \"(11020004) COUNTY CORRECTION FACILITIES IMPROVEMNTS\",\n",
    "                           \"(89100023) CORRECTION FACILITY IMPROVEMENTS\",\n",
    "                           \"(11027967) COUNTY CORREC FACILITIES CONSTRUC/EXPAN-\"]\n",
    "len(carceral_appropriations)"
   ]
  },
  {
   "cell_type": "code",
   "execution_count": 50,
   "metadata": {
    "scrolled": false
   },
   "outputs": [
    {
     "data": {
      "text/plain": [
       "appropriation_name\n",
       "(11025600) COURT FACILITIES CAPITAL NEEDS             211758682.220\n",
       "(89008500) JAIL AND CORRECTIONAL FACILITIES           119924611.070\n",
       "(03302223) COURT FACILITY IMPROVEMENTS                 13584202.840\n",
       "(11025700) COURT FACILITIES 2018                        1444092.160\n",
       "(11020004) COUNTY CORRECTION FACILITIES IMPROVEMNTS      864753.260\n",
       "(89100023) CORRECTION FACILITY IMPROVEMENTS              639061.450\n",
       "(81001001) DEPARTMENT OF STATE POLICE                    495932.200\n",
       "(11027967) COUNTY CORREC FACILITIES CONSTRUC/EXPAN-      160001.620\n",
       "(03302204) COURT FACILITIES CAPITAL NEEDS & F&E           69654.100\n",
       "Name: amount, dtype: float64"
      ]
     },
     "execution_count": 50,
     "metadata": {},
     "output_type": "execute_result"
    }
   ],
   "source": [
    "pd.set_option(\"display.max.rows\", 155)\n",
    "DCP[DCP[\"appropriation_name\"].isin(carceral_appropriations)].groupby(\"appropriation_name\")\\\n",
    ".sum()[\"amount\"].sort_values(ascending=False)"
   ]
  },
  {
   "cell_type": "code",
   "execution_count": null,
   "metadata": {},
   "outputs": [],
   "source": [
    "DCP"
   ]
  },
  {
   "cell_type": "code",
   "execution_count": 23,
   "metadata": {},
   "outputs": [],
   "source": [
    "from DCP_Capital import get_capital_expenditures"
   ]
  },
  {
   "cell_type": "code",
   "execution_count": 51,
   "metadata": {},
   "outputs": [
    {
     "name": "stderr",
     "output_type": "stream",
     "text": [
      "/opt/anaconda3/lib/python3.7/site-packages/IPython/core/interactiveshell.py:3331: DtypeWarning: Columns (16) have mixed types.Specify dtype option on import or set low_memory=False.\n",
      "  exec(code_obj, self.user_global_ns, self.user_ns)\n"
     ]
    }
   ],
   "source": [
    "DCP_by_agency = get_capital_expenditures(client)"
   ]
  },
  {
   "cell_type": "code",
   "execution_count": 52,
   "metadata": {},
   "outputs": [
    {
     "data": {
      "text/plain": [
       "2016   83395535.660\n",
       "2017   79391599.510\n",
       "2018   94842416.450\n",
       "2019   91311439.300\n",
       "dtype: float64"
      ]
     },
     "execution_count": 52,
     "metadata": {},
     "output_type": "execute_result"
    }
   ],
   "source": [
    "DCP_by_agency.sum()"
   ]
  },
  {
   "cell_type": "code",
   "execution_count": 28,
   "metadata": {},
   "outputs": [],
   "source": [
    "carceral_appropriations = {\"trial_court\": [\"(11025600) COURT FACILITIES CAPITAL NEEDS\",\n",
    "                                           \"(03302223) COURT FACILITY IMPROVEMENTS\",\n",
    "                                           \"(11025700) COURT FACILITIES 2018\",\n",
    "                                           \"(03302204) COURT FACILITIES CAPITAL NEEDS & F&E\"],\n",
    "\n",
    "                           \"DOC\": [\"(89008500) JAIL AND CORRECTIONAL FACILITIES\",\n",
    "                                   \"(11020004) COUNTY CORRECTION FACILITIES IMPROVEMNTS\",\n",
    "                                   \"(89100023) CORRECTION FACILITY IMPROVEMENTS\",\n",
    "                                   \"(11027967) COUNTY CORREC FACILITIES CONSTRUC/EXPAN-\"],\n",
    "\n",
    "                           \"State_Police\": [\"(81001001) DEPARTMENT OF STATE POLICE\"],\n",
    "                           }"
   ]
  },
  {
   "cell_type": "code",
   "execution_count": 45,
   "metadata": {},
   "outputs": [],
   "source": [
    "df = pd.DataFrame(columns=list(range(2016, 2020)))\n",
    "for key in carceral_appropriations:\n",
    "    df.loc[key] = DCP[DCP[\"appropriation_name\"].isin(carceral_appropriations[key])]\\\n",
    "        .groupby(\"budget_fiscal_year\").sum()[\"amount\"]"
   ]
  },
  {
   "cell_type": "code",
   "execution_count": 42,
   "metadata": {},
   "outputs": [],
   "source": [
    "for key in carceral_appropriations:\n",
    "    df.loc[key] =5"
   ]
  },
  {
   "cell_type": "code",
   "execution_count": 46,
   "metadata": {},
   "outputs": [
    {
     "data": {
      "text/html": [
       "<div>\n",
       "<style scoped>\n",
       "    .dataframe tbody tr th:only-of-type {\n",
       "        vertical-align: middle;\n",
       "    }\n",
       "\n",
       "    .dataframe tbody tr th {\n",
       "        vertical-align: top;\n",
       "    }\n",
       "\n",
       "    .dataframe thead th {\n",
       "        text-align: right;\n",
       "    }\n",
       "</style>\n",
       "<table border=\"1\" class=\"dataframe\">\n",
       "  <thead>\n",
       "    <tr style=\"text-align: right;\">\n",
       "      <th></th>\n",
       "      <th>2016</th>\n",
       "      <th>2017</th>\n",
       "      <th>2018</th>\n",
       "      <th>2019</th>\n",
       "    </tr>\n",
       "  </thead>\n",
       "  <tbody>\n",
       "    <tr>\n",
       "      <th>trial_court</th>\n",
       "      <td>60889583.850</td>\n",
       "      <td>49082972.370</td>\n",
       "      <td>59632422.770</td>\n",
       "      <td>57251652.330</td>\n",
       "    </tr>\n",
       "    <tr>\n",
       "      <th>DOC</th>\n",
       "      <td>22216494.800</td>\n",
       "      <td>30128567.510</td>\n",
       "      <td>35183578.120</td>\n",
       "      <td>34059786.970</td>\n",
       "    </tr>\n",
       "    <tr>\n",
       "      <th>State_Police</th>\n",
       "      <td>289457.010</td>\n",
       "      <td>180059.630</td>\n",
       "      <td>26415.560</td>\n",
       "      <td>nan</td>\n",
       "    </tr>\n",
       "  </tbody>\n",
       "</table>\n",
       "</div>"
      ],
      "text/plain": [
       "                     2016         2017         2018         2019\n",
       "trial_court  60889583.850 49082972.370 59632422.770 57251652.330\n",
       "DOC          22216494.800 30128567.510 35183578.120 34059786.970\n",
       "State_Police   289457.010   180059.630    26415.560          nan"
      ]
     },
     "execution_count": 46,
     "metadata": {},
     "output_type": "execute_result"
    }
   ],
   "source": [
    "df"
   ]
  },
  {
   "cell_type": "code",
   "execution_count": null,
   "metadata": {},
   "outputs": [],
   "source": []
  }
 ],
 "metadata": {
  "kernelspec": {
   "display_name": "Python 3",
   "language": "python",
   "name": "python3"
  },
  "language_info": {
   "codemirror_mode": {
    "name": "ipython",
    "version": 3
   },
   "file_extension": ".py",
   "mimetype": "text/x-python",
   "name": "python",
   "nbconvert_exporter": "python",
   "pygments_lexer": "ipython3",
   "version": "3.7.6"
  }
 },
 "nbformat": 4,
 "nbformat_minor": 4
}
