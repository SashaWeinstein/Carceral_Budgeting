{
 "cells": [
  {
   "cell_type": "markdown",
   "metadata": {},
   "source": [
    "# Stated Versus Hidden Payroll Overall\n",
    "How much of total payroll is \"hidden\"?\n"
   ]
  },
  {
   "cell_type": "code",
   "execution_count": 34,
   "metadata": {
    "scrolled": false
   },
   "outputs": [],
   "source": [
    "import pandas as pd\n",
    "import sys\n",
    "sys.path.insert(0, \"../../Misc_Analyses\")\n",
    "from Hidden_Payroll_Breakdown import breakdown_hidden_payroll"
   ]
  },
  {
   "cell_type": "code",
   "execution_count": 35,
   "metadata": {},
   "outputs": [
    {
     "name": "stdout",
     "output_type": "stream",
     "text": [
      "the following agencies have more than 1k in hidden payroll\n",
      "Index(['DOC Hidden Payroll Costs', 'Suffolk_Sheriff Hidden Payroll Costs',\n",
      "       'State_Police Hidden Payroll Costs', 'MBTA Hidden Payroll Costs',\n",
      "       'Boston PD Hidden Payroll Costs', 'Chelsea PD Hidden Payroll Costs'],\n",
      "      dtype='object')\n"
     ]
    }
   ],
   "source": [
    "breakdown_hidden_payroll()"
   ]
  },
  {
   "cell_type": "markdown",
   "metadata": {},
   "source": [
    "Great, allude to this in slide deck"
   ]
  },
  {
   "cell_type": "code",
   "execution_count": null,
   "metadata": {},
   "outputs": [],
   "source": []
  }
 ],
 "metadata": {
  "kernelspec": {
   "display_name": "Python 3",
   "language": "python",
   "name": "python3"
  },
  "language_info": {
   "codemirror_mode": {
    "name": "ipython",
    "version": 3
   },
   "file_extension": ".py",
   "mimetype": "text/x-python",
   "name": "python",
   "nbconvert_exporter": "python",
   "pygments_lexer": "ipython3",
   "version": "3.7.6"
  }
 },
 "nbformat": 4,
 "nbformat_minor": 4
}
