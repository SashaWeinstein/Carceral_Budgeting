{
 "cells": [
  {
   "cell_type": "markdown",
   "metadata": {},
   "source": [
    "Some external funds are federal, so we don't want to include them"
   ]
  },
  {
   "cell_type": "code",
   "execution_count": 1,
   "metadata": {},
   "outputs": [],
   "source": [
    "%load_ext autoreload\n",
    "%autoreload 2"
   ]
  },
  {
   "cell_type": "code",
   "execution_count": 2,
   "metadata": {},
   "outputs": [],
   "source": [
    "import pandas as pd\n",
    "import pandas as pd\n",
    "import numpy as np\n",
    "import sys\n",
    "import os\n",
    "import re\n",
    "import difflib\n",
    "sys.path.insert(0, os.path.abspath('../'))\n",
    "from Agency_Classes import BostonPD\n",
    "from PyPDF2 import PdfFileReader, PdfFileWriter\n"
   ]
  },
  {
   "cell_type": "code",
   "execution_count": 6,
   "metadata": {},
   "outputs": [
    {
     "name": "stdout",
     "output_type": "stream",
     "text": [
      "WARNING: BostonPD class in debug mode\n"
     ]
    }
   ],
   "source": [
    "boston = BostonPD()"
   ]
  },
  {
   "cell_type": "code",
   "execution_count": 7,
   "metadata": {
    "scrolled": false
   },
   "outputs": [
    {
     "name": "stdout",
     "output_type": "stream",
     "text": [
      "update budget summary called\n",
      "update budget summary called\n",
      "update budget summary called\n",
      "found payroll signifier for year 2016  on page 45\n",
      "update budget summary called\n",
      "update budget summary called\n",
      "update budget summary called\n",
      "found payroll signifier for year 2016  on page 48\n",
      "update budget summary called\n",
      "update budget summary called\n",
      "update budget summary called\n",
      "update budget summary called\n",
      "found payroll signifier for year 2017  on page 45\n",
      "update budget summary called\n",
      "update budget summary called\n",
      "update budget summary called\n",
      "found payroll signifier for year 2017  on page 48\n",
      "update budget summary called\n",
      "update budget summary called\n",
      "update budget summary called\n",
      "update budget summary called\n",
      "found payroll signifier for year 2020  on page 43\n",
      "update budget summary called\n",
      "update budget summary called\n",
      "update budget summary called\n",
      "found payroll signifier for year 2020  on page 46\n",
      "update budget summary called\n",
      "update budget summary called\n",
      "update budget summary called\n",
      "update budget summary called\n",
      "found payroll signifier for year 2021  on page 43\n",
      "update budget summary called\n",
      "update budget summary called\n",
      "update budget summary called\n",
      "found payroll signifier for year 2021  on page 46\n",
      "update budget summary called\n",
      "update budget summary called\n",
      "update budget summary called\n",
      "update budget summary called\n",
      "update budget summary called\n",
      "update budget summary called\n",
      "update budget summary called\n",
      "update budget summary called\n",
      "update budget summary called\n"
     ]
    }
   ],
   "source": [
    "boston.from_PDF()"
   ]
  },
  {
   "cell_type": "code",
   "execution_count": null,
   "metadata": {},
   "outputs": [],
   "source": []
  },
  {
   "cell_type": "code",
   "execution_count": 44,
   "metadata": {},
   "outputs": [],
   "source": [
    "non_federal_external_2016 = [\"ARRA - COPS Hiring Recovery Program (CHRP)\", \n",
    "                        \"Jail Diversion Program\",\n",
    "                       \"Injury Surveillance Project\",\n",
    "                       \"PSAP - Emergency\",\n",
    "                       \"Safe & Successful Youth Initiative\", \n",
    "                       \"SETB Training Grant\",\n",
    "                       \"Shannon Community Safety\",\n",
    "                       \"Traffic Enforcement Grant\",\n",
    "                       \"Violence Against Women\"]"
   ]
  },
  {
   "cell_type": "code",
   "execution_count": 45,
   "metadata": {},
   "outputs": [],
   "source": [
    "budget_2016 = PdfFileReader(\"../data/BostonPD/boston_FY16.pdf\")"
   ]
  },
  {
   "cell_type": "code",
   "execution_count": 97,
   "metadata": {},
   "outputs": [
    {
     "data": {
      "text/plain": [
       "\"  216 Public Safety \\n Police Department \\n  External Funds Budget \\nFund Name \\nTotal Actual '13\\nTotal Actual '14 \\nTotal Approp '15\\nTotal Budget '16\\n    \\n      \\n  Academy Revolving Fun\\nd65,363\\n0 50,000 \\n65,000\\nAnti-Human Trafficking Tas\\nk35,813\\n0 0 0 ARRA - COPS Hiring Recovery Program \\n(CHRP) \\n1,433,689 \\n0 0 0 ARRA - Edward Byrne Civilian Hiring\\n185,956\\n0 0 0Boston Multi-Cultural Advocacy Support\\n389,040\\n244,330 228,736 \\n224,003\\nBoston Reentry Initiative\\n418,858\\n575,868 1,660,442 \\n1,529,798\\nBuffer Zone Protection Project\\n39,000\\n0 0 0Bullet Proof Vests Progra\\nm0255,170 0 \\n0Canine Revolving Fun\\nd 54,397\\n27,640 30,000 \\n26,390\\nCold Case Project 108,478\\n136,259 118,481 \\n70,705\\nCommunity Based Violence Prevention\\n270,415\\n672,311 1,239,927 \\n542,966\\nCOPS - Secure Our Schools\\n163,216\\n26,018 0 \\n0COPS Hiring Program (CHRP)\\n378,486\\n992,876 1,274,401 \\n1,401,766\\nCoverdell N.F.S.I. \\n162,159\\n49,822 74,809 \\n74,660\\nDMH/Jail Diversion Progra\\nm0284,766 120,001 \\n45,000\\nDNA Laboratory Initiative\\n289,319\\n641,572 289,189 \\n445,418\\nEstate of Jean Fin\\nk 01,600 0 \\n0Hackney Revolving Fun\\nd45,641\\n41,428 45,500 \\n26,346\\nInjury Surveillance Project\\n3,6094,725 5,000 \\n5,000Internet Crimes Against Children (ICAC)\\n123,746\\n0 0 0Justice & Mental Hea\\nlth Expansion Project\\n8,011122,243 240,000 \\n0Justice Assistance Grant (JAG)\\n538,832\\n665,435 774,684 \\n742,443\\nMass Emergency Fed Law Enforcement \\n0893,766 0 \\n0 National Forum Capacity Building \\n\\nDemonstration \\n5,144 \\n42,274 109,339 \\n124,717 \\nNuestra Comunidad Development Corp\\n07,704 0 \\n0Police Auction \\n00 4,500 \\n3,200Police Fitness Center Revolving Fun\\nd00 0 300,000\\nPort Security \\n788,972\\n64,816 24,815 \\n146,180\\nPredictive Policing Progra\\nm7300 0 0PSAP -Emergency \\n2,227,243\\n2,314,117 2,699,999 \\n3,300,000\\nSafe & Successful Youth Initiative\\n20,761\\n43,031 72,093 \\n54,909\\nScholarship for BPD Operations\\n4,5912,905 0 \\n0SETB Training Grant \\n305,822\\n141,536 650,000 \\n750,000\\nShannon Community Safety\\n1,692,661\\n1,736,284 1,557,668 \\n1,082,115\\nSmart Policing \\n372,668\\n155,958 133,646 \\n173,983\\nSocial Research in Forensic\\n2,0620 0 0Stanton Foundation 650 0 0Traffic Enforcement Grant\\n35,307\\n42,578 56,750 \\n84,000\\nViolence Against Women\\n66,369\\n41,212 75,626 \\n82,056\\n  Total 10,236,423 \\n10,228,244 11,535,606 \\n11,300,655 \\n  Operating Budget \\n  Actual '13\\nActual '14 \\nApprop '15\\nBudget '16\\n    \\n      \\n    Personnel Services \\n256,952,777\\n288,610,451 287,786,857 \\n291,375,285\\n  Non Personnel \\n33,760,614\\n32,389,846 31,913,224 \\n32,134,103\\n  Total 290,713,391 \\n321,000,297 319,700,081 \\n323,509,388 \\n\""
      ]
     },
     "execution_count": 97,
     "metadata": {},
     "output_type": "execute_result"
    }
   ],
   "source": [
    "budget_2016.getPage(43).extractText()"
   ]
  },
  {
   "cell_type": "code",
   "execution_count": 60,
   "metadata": {},
   "outputs": [],
   "source": [
    "mission = \"The mission of the Police Department\""
   ]
  },
  {
   "cell_type": "code",
   "execution_count": 61,
   "metadata": {},
   "outputs": [
    {
     "name": "stdout",
     "output_type": "stream",
     "text": [
      "found PD Section\n"
     ]
    }
   ],
   "source": [
    "PD_section = False\n",
    "for i in range(budget_2016.getNumPages()):\n",
    "    if \"/Contents\" in budget_2016.getPage(i).keys() and mission in budget_2016.getPage(i).extractText():\n",
    "        print(\"found PD Section\")\n",
    "        PD_section = True\n",
    "        bp = budget_2016.getPage(i+1).extractText().replace(\"\\n\",\" \")\n",
    "        break"
   ]
  },
  {
   "cell_type": "code",
   "execution_count": 98,
   "metadata": {},
   "outputs": [],
   "source": [
    "def bp_to_list(bp, line_item, line_item_len = None):\n",
    "    if line_item_len is None:\n",
    "        line_item_len = len(line_item)\n",
    "    actual_li = close_match(line_item, bp)\n",
    "    print(\"actual line item is\", actual_li)\n",
    "    line_item_start = re.search(actual_li, bp)\n",
    "    bp = bp[line_item_start.start() + line_item_len:]\n",
    "    line_item_end = re.search(\"[A-Za-z]\", bp)\n",
    "    if line_item_end:\n",
    "        final = bp[:line_item_end.end()]\n",
    "    else:\n",
    "        final = bp\n",
    "    return [int(x.replace(\",\",\"\")) for x in final.split(\" \") if x and x.replace(\",\", \"\").isnumeric()]\n"
   ]
  },
  {
   "cell_type": "code",
   "execution_count": 99,
   "metadata": {},
   "outputs": [],
   "source": [
    "def close_match(li, bp):\n",
    "    pos = []\n",
    "    for i in range(len(bp)):\n",
    "        pos.append(bp[i:i+ len(li)])\n",
    "\n",
    "    return(difflib.get_close_matches(li, pos, n=1)[0])"
   ]
  },
  {
   "cell_type": "code",
   "execution_count": 100,
   "metadata": {},
   "outputs": [
    {
     "name": "stdout",
     "output_type": "stream",
     "text": [
      "actual line item is ail Diversion Progra m\n",
      "[284766, 120001, 45000]\n",
      "actual line item is Injury Surveillance Project\n",
      "[36094725, 5000]\n",
      "actual line item is PSAP -Emergency \n",
      "[2227243, 2314117, 2699999, 3300000]\n",
      "actual line item is Safe & Successful Youth Initiative\n",
      "[20761, 43031, 72093, 54909]\n",
      "actual line item is SETB Training Grant\n",
      "[305822, 141536, 650000, 750000]\n",
      "actual line item is Shannon Community Safety\n",
      "[1692661, 1736284, 1557668, 1082115]\n",
      "actual line item is Traffic Enforcement Grant\n",
      "[35307, 42578, 56750, 84000]\n",
      "actual line item is Violence Against Women\n",
      "[66369, 41212, 75626, 82056]\n"
     ]
    }
   ],
   "source": [
    "for w in non_federal_external_2016[1:]:\n",
    "    print(bp_to_list(bp, w))"
   ]
  },
  {
   "cell_type": "code",
   "execution_count": 96,
   "metadata": {},
   "outputs": [
    {
     "data": {
      "text/plain": [
       "\"  216 Public Safety   Police Department    External Funds Budget  Fund Name  Total Actual '13 Total Actual '14  Total Approp '15 Total Budget '16               Academy Revolving Fun d65,363 0 50,000  65,000 Anti-Human Trafficking Tas k35,813 0 0 0 ARRA - COPS Hiring Recovery Program  (CHRP)  1,433,689  0 0 0 ARRA - Edward Byrne Civilian Hiring 185,956 0 0 0Boston Multi-Cultural Advocacy Support 389,040 244,330 228,736  224,003 Boston Reentry Initiative 418,858 575,868 1,660,442  1,529,798 Buffer Zone Protection Project 39,000 0 0 0Bullet Proof Vests Progra m0255,170 0  0Canine Revolving Fun d 54,397 27,640 30,000  26,390 Cold Case Project 108,478 136,259 118,481  70,705 Community Based Violence Prevention 270,415 672,311 1,239,927  542,966 COPS - Secure Our Schools 163,216 26,018 0  0COPS Hiring Program (CHRP) 378,486 992,876 1,274,401  1,401,766 Coverdell N.F.S.I.  162,159 49,822 74,809  74,660 DMH/Jail Diversion Progra m0284,766 120,001  45,000 DNA Laboratory Initiative 289,319 641,572 289,189  445,418 Estate of Jean Fin k 01,600 0  0Hackney Revolving Fun d45,641 41,428 45,500  26,346 Injury Surveillance Project 3,6094,725 5,000  5,000Internet Crimes Against Children (ICAC) 123,746 0 0 0Justice & Mental Hea lth Expansion Project 8,011122,243 240,000  0Justice Assistance Grant (JAG) 538,832 665,435 774,684  742,443 Mass Emergency Fed Law Enforcement  0893,766 0  0 National Forum Capacity Building   Demonstration  5,144  42,274 109,339  124,717  Nuestra Comunidad Development Corp 07,704 0  0Police Auction  00 4,500  3,200Police Fitness Center Revolving Fun d00 0 300,000 Port Security  788,972 64,816 24,815  146,180 Predictive Policing Progra m7300 0 0PSAP -Emergency  2,227,243 2,314,117 2,699,999  3,300,000 Safe & Successful Youth Initiative 20,761 43,031 72,093  54,909 Scholarship for BPD Operations 4,5912,905 0  0SETB Training Grant  305,822 141,536 650,000  750,000 Shannon Community Safety 1,692,661 1,736,284 1,557,668  1,082,115 Smart Policing  372,668 155,958 133,646  173,983 Social Research in Forensic 2,0620 0 0Stanton Foundation 650 0 0Traffic Enforcement Grant 35,307 42,578 56,750  84,000 Violence Against Women 66,369 41,212 75,626  82,056   Total 10,236,423  10,228,244 11,535,606  11,300,655    Operating Budget    Actual '13 Actual '14  Approp '15 Budget '16                 Personnel Services  256,952,777 288,610,451 287,786,857  291,375,285   Non Personnel  33,760,614 32,389,846 31,913,224  32,134,103   Total 290,713,391  321,000,297 319,700,081  323,509,388  \""
      ]
     },
     "execution_count": 96,
     "metadata": {},
     "output_type": "execute_result"
    }
   ],
   "source": [
    "bp"
   ]
  },
  {
   "cell_type": "code",
   "execution_count": 3,
   "metadata": {},
   "outputs": [
    {
     "name": "stderr",
     "output_type": "stream",
     "text": [
      "/opt/anaconda3/lib/python3.7/site-packages/ipykernel_launcher.py:2: DeprecationWarning: The default dtype for empty Series will be 'object' instead of 'float64' in a future version. Specify a dtype explicitly to silence this warning.\n",
      "  \n"
     ]
    },
    {
     "data": {
      "text/plain": [
       "4349426"
      ]
     },
     "execution_count": 3,
     "metadata": {},
     "output_type": "execute_result"
    }
   ],
   "source": [
    "import pandas as pd \n",
    "federal_priv_grants_2018 = pd.Series()\n",
    "federal_priv_grants_2018[\"Abekam Foundation\"] = 0\n",
    "federal_priv_grants_2018[\"Academy Revolving Fund\"] = 86897\n",
    "federal_priv_grants_2018[\"BMSAP\"] = 209701\n",
    "federal_priv_grants_2018[\"Boston Reentry Initiative\"] = 1112055\n",
    "federal_priv_grants_2018[\"Canine Revolving Fund\"] = 39999\n",
    "federal_priv_grants_2018[\"Cold Case Project\"] = 0\n",
    "federal_priv_grants_2018[\"Community Based Violence Prevention Demonstration Program\"] = 331874\n",
    "federal_priv_grants_2018[\"CHRP\"] = 747138\n",
    "federal_priv_grants_2018[\"DNA Laboratory Initiative\"] = 175283\n",
    "federal_priv_grants_2018[\"Hackney Revolving Fund\"] = 74806\n",
    "federal_priv_grants_2018[\"JAG Equipment Grant\"] = 28203\n",
    "federal_priv_grants_2018[\"Justice and Mental Health Expansion Project\"] = 74140\n",
    "federal_priv_grants_2018[\"Justice Assistance Grant (JAG)\"] = 623517\n",
    "federal_priv_grants_2018[\"National Crime Statistics Exchange\"] = 0\n",
    "federal_priv_grants_2018[\"National Forum Capacity Building Demonstration\"] = 239784\n",
    "federal_priv_grants_2018[\"National Violent Death Reporting Grant aka Injury Surveillance Project\"] = 4511\n",
    "federal_priv_grants_2018[\"NUE ALERT - Active Shooter\"] = 62091\n",
    "federal_priv_grants_2018[\"Nuestra Comunidad Development Corporation\"] = 905\n",
    "federal_priv_grants_2018[\"Office of Violence Against Women\"] = 0 # Can't find\n",
    "federal_priv_grants_2018[\"OJJDP Opportunities to Reduce Recidivism\"] = 0\n",
    "federal_priv_grants_2018[\"Paul Coverdell National Forensic Grant\"] = 96732\n",
    "federal_priv_grants_2018[\"Police Fitness Center Revolving Center\"] = 167275\n",
    "federal_priv_grants_2018[\"Port Security Grant\"] = 50589\n",
    "federal_priv_grants_2018[\"Smart Policing Evidence-Based Law Enforcement Program\"] = 165466\n",
    "federal_priv_grants_2018[\"Social Sciences Research in Forensic Science\"] = 4059\n",
    "federal_priv_grants_2018[\"U.S. Marshals: Violence Retrofit\"] = 0\n",
    "federal_priv_grants_2018[\"VAWA STOP Project\"] = 54401\n",
    "federal_priv_grants_2018.sum()"
   ]
  },
  {
   "cell_type": "code",
   "execution_count": null,
   "metadata": {},
   "outputs": [],
   "source": []
  }
 ],
 "metadata": {
  "kernelspec": {
   "display_name": "Python 3",
   "language": "python",
   "name": "python3"
  },
  "language_info": {
   "codemirror_mode": {
    "name": "ipython",
    "version": 3
   },
   "file_extension": ".py",
   "mimetype": "text/x-python",
   "name": "python",
   "nbconvert_exporter": "python",
   "pygments_lexer": "ipython3",
   "version": "3.7.6"
  }
 },
 "nbformat": 4,
 "nbformat_minor": 4
}
