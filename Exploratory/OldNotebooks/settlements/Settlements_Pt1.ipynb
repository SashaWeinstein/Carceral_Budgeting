{
 "cells": [
  {
   "cell_type": "markdown",
   "metadata": {},
   "source": [
    "# Settlements Part One\n",
    "This notebook is for analyzing cthru's dataset on settlements and judgements"
   ]
  },
  {
   "cell_type": "code",
   "execution_count": 1,
   "metadata": {},
   "outputs": [],
   "source": [
    "import pandas as pd\n",
    "from sodapy import Socrata\n",
    "app_token = \"2Qa1WiG8G4kj1vGVd2noK7zP0\"\n",
    "client = Socrata(\"cthru.data.socrata.com\", app_token)\n",
    "client.timeout = 40\n",
    "pd.set_option('display.float_format', lambda x: '%.3f' % x)"
   ]
  },
  {
   "cell_type": "code",
   "execution_count": 2,
   "metadata": {},
   "outputs": [
    {
     "data": {
      "text/html": [
       "<div>\n",
       "<style scoped>\n",
       "    .dataframe tbody tr th:only-of-type {\n",
       "        vertical-align: middle;\n",
       "    }\n",
       "\n",
       "    .dataframe tbody tr th {\n",
       "        vertical-align: top;\n",
       "    }\n",
       "\n",
       "    .dataframe thead th {\n",
       "        text-align: right;\n",
       "    }\n",
       "</style>\n",
       "<table border=\"1\" class=\"dataframe\">\n",
       "  <thead>\n",
       "    <tr style=\"text-align: right;\">\n",
       "      <th></th>\n",
       "      <th>payment_date</th>\n",
       "      <th>line_amount</th>\n",
       "      <th>payee_name</th>\n",
       "      <th>bfy</th>\n",
       "      <th>quarter</th>\n",
       "      <th>dept_paid_on_behalf_of</th>\n",
       "    </tr>\n",
       "  </thead>\n",
       "  <tbody>\n",
       "    <tr>\n",
       "      <th>0</th>\n",
       "      <td>2017-09-18T00:00:00.000</td>\n",
       "      <td>41749</td>\n",
       "      <td>Commonwealth of MA Unemployment Trust Fund</td>\n",
       "      <td>2018</td>\n",
       "      <td>First</td>\n",
       "      <td>Executive Office of Labor and Workforce Develo...</td>\n",
       "    </tr>\n",
       "    <tr>\n",
       "      <th>1</th>\n",
       "      <td>2018-06-29T00:00:00.000</td>\n",
       "      <td>140000</td>\n",
       "      <td>LICHTEN &amp; LISS-RIORDAN PC</td>\n",
       "      <td>2018</td>\n",
       "      <td>Fourth</td>\n",
       "      <td>Municipal Police Training Committee</td>\n",
       "    </tr>\n",
       "    <tr>\n",
       "      <th>2</th>\n",
       "      <td>2018-06-29T00:00:00.000</td>\n",
       "      <td>335000</td>\n",
       "      <td>DANIEL CUMMINGS</td>\n",
       "      <td>2018</td>\n",
       "      <td>Fourth</td>\n",
       "      <td>Municipal Police Training Committee</td>\n",
       "    </tr>\n",
       "    <tr>\n",
       "      <th>3</th>\n",
       "      <td>2016-11-18T00:00:00.000</td>\n",
       "      <td>10000</td>\n",
       "      <td>Simon, Harry</td>\n",
       "      <td>2017</td>\n",
       "      <td>Second</td>\n",
       "      <td>MSO</td>\n",
       "    </tr>\n",
       "    <tr>\n",
       "      <th>4</th>\n",
       "      <td>2016-09-09T00:00:00.000</td>\n",
       "      <td>13951</td>\n",
       "      <td>Imarhiagbe, Anthonia</td>\n",
       "      <td>2017</td>\n",
       "      <td>First</td>\n",
       "      <td>DDS</td>\n",
       "    </tr>\n",
       "  </tbody>\n",
       "</table>\n",
       "</div>"
      ],
      "text/plain": [
       "              payment_date line_amount  \\\n",
       "0  2017-09-18T00:00:00.000       41749   \n",
       "1  2018-06-29T00:00:00.000      140000   \n",
       "2  2018-06-29T00:00:00.000      335000   \n",
       "3  2016-11-18T00:00:00.000       10000   \n",
       "4  2016-09-09T00:00:00.000       13951   \n",
       "\n",
       "                                   payee_name   bfy quarter  \\\n",
       "0  Commonwealth of MA Unemployment Trust Fund  2018   First   \n",
       "1                   LICHTEN & LISS-RIORDAN PC  2018  Fourth   \n",
       "2                             DANIEL CUMMINGS  2018  Fourth   \n",
       "3                                Simon, Harry  2017  Second   \n",
       "4                        Imarhiagbe, Anthonia  2017   First   \n",
       "\n",
       "                              dept_paid_on_behalf_of  \n",
       "0  Executive Office of Labor and Workforce Develo...  \n",
       "1                Municipal Police Training Committee  \n",
       "2                Municipal Police Training Committee  \n",
       "3                                                MSO  \n",
       "4                                                DDS  "
      ]
     },
     "execution_count": 2,
     "metadata": {},
     "output_type": "execute_result"
    }
   ],
   "source": [
    "settlements = pd.DataFrame(client.get(\"6j38-k6fr\", limit =999999))\n",
    "settlements.head(5)"
   ]
  },
  {
   "cell_type": "code",
   "execution_count": 3,
   "metadata": {},
   "outputs": [],
   "source": [
    "settlements[\"payment_date\"] = pd.to_datetime(settlements[\"payment_date\"])\n",
    "settlements[\"line_amount\"] = settlements[\"line_amount\"].astype(float)\n",
    "settlements.rename(columns = {\"dept_paid_on_behalf_of\":\"dept\"},inplace=True)"
   ]
  },
  {
   "cell_type": "code",
   "execution_count": 4,
   "metadata": {},
   "outputs": [
    {
     "data": {
      "text/plain": [
       "68742170.36000001"
      ]
     },
     "execution_count": 4,
     "metadata": {},
     "output_type": "execute_result"
    }
   ],
   "source": [
    "settlements[\"line_amount\"].sum()"
   ]
  },
  {
   "cell_type": "code",
   "execution_count": 5,
   "metadata": {},
   "outputs": [],
   "source": [
    "settlements[\"year\"] =settlements[\"payment_date\"].dt.year"
   ]
  },
  {
   "cell_type": "code",
   "execution_count": 6,
   "metadata": {},
   "outputs": [
    {
     "data": {
      "text/plain": [
       "year\n",
       "2014   10299573.690\n",
       "2015    7812123.380\n",
       "2016   14219455.140\n",
       "2017    9440435.620\n",
       "2018   10142174.720\n",
       "2019   15357030.960\n",
       "2020    1471376.850\n",
       "Name: line_amount, dtype: float64"
      ]
     },
     "execution_count": 6,
     "metadata": {},
     "output_type": "execute_result"
    }
   ],
   "source": [
    "settlements.groupby(\"year\").sum()[\"line_amount\"]"
   ]
  },
  {
   "cell_type": "markdown",
   "metadata": {},
   "source": [
    "Reminder that parole board is part of DOC"
   ]
  },
  {
   "cell_type": "code",
   "execution_count": 7,
   "metadata": {},
   "outputs": [],
   "source": [
    "suffolk_carceral_dept = [\"COMMITTEE FOR PUBLIC COUNSEL SERVICES\", \"PAROLE BOARD\", \n",
    "                         \"Municipal Police Training Committee\", \"SUFFOLK DISTRICT ATTORNEY\", \n",
    "                         \"SHERIFF DEPARTMENT SUFFOLK\", \"TRIAL COURT\", \"DEPARTMENT OF CORRECTION\",\n",
    "                        \"DEPARTMENT OF STATE POLICE\"]"
   ]
  },
  {
   "cell_type": "code",
   "execution_count": 8,
   "metadata": {},
   "outputs": [
    {
     "data": {
      "text/plain": [
       "['COMMITTEE FOR PUBLIC COUNSEL SERVICES',\n",
       " 'PAROLE BOARD',\n",
       " 'Municipal Police Training Committee',\n",
       " 'SUFFOLK DISTRICT ATTORNEY',\n",
       " 'SHERIFF DEPARTMENT SUFFOLK',\n",
       " 'TRIAL COURT',\n",
       " 'DEPARTMENT OF CORRECTION',\n",
       " 'DEPARTMENT OF STATE POLICE']"
      ]
     },
     "execution_count": 8,
     "metadata": {},
     "output_type": "execute_result"
    }
   ],
   "source": [
    "suffolk_carceral_dept"
   ]
  },
  {
   "cell_type": "code",
   "execution_count": 9,
   "metadata": {
    "scrolled": false
   },
   "outputs": [
    {
     "data": {
      "text/plain": [
       "dept\n",
       "ATTORNEY GENERAL OFFICE                                 8368576.230\n",
       "DEPARTMENT OF CORRECTION                                7872853.200\n",
       "OFFICE OF THE COMPTROLLER                               6681593.930\n",
       "OFFICE OF THE STATE TREASURER                           4506260.000\n",
       "DEPARTMENT OF STATE POLICE                              4483424.770\n",
       "EXECUTIVE OFFICE OF TECHNOLOGY SERVICES AND SECURITY    4022500.000\n",
       "PLYMOUTH DISTRICT ATTORNEY                              2675244.330\n",
       "TRIAL COURT                                             2249024.650\n",
       "EXECUTIVE OFFICE OF HEALTH and HUMAN SERVICES           2028382.420\n",
       "GOVERNORS OFFICE                                        1486649.090\n",
       "SHERIFF DEPARTMENT SUFFOLK                              1437279.030\n",
       "DEPARTMENT OF TRANSITIONAL ASSISTANCE                   1328370.660\n",
       "SHERIFF DEPARTMENT ESSEX                                 974767.340\n",
       "DEPARTMENT OF DEVELOPMENTAL SERVICES                     959492.750\n",
       "SUFFOLK DISTRICT ATTORNEY                                947132.630\n",
       "DEPARTMENT OF ENVIRONMENTAL PROTECTION                   929601.190\n",
       "DEPARTMENT OF REVENUE                                    793675.800\n",
       "Executive Office of Labor and Workforce Development      732959.120\n",
       "DEPARTMENT CONSERVATION AND RECREATION                   693859.620\n",
       "SHERIFF DEPARTMENT HAMPDEN                               688461.300\n",
       "SHERIFF DEPARTMENT PLYMOUTH                              674759.600\n",
       "BUNKER HILL COMMUNITY COLLEGE                            660267.730\n",
       "SHERIFF DEPARTMENT FRANKLIN                              649675.240\n",
       "MASS REHABILITATION COMMISSION                           640645.700\n",
       "DEPARTMENT OF CHILDREN AND FAMILIES                      594496.880\n",
       "COMMISSION AGAINST DISCRIMINATION                        570000.000\n",
       "SALEM STATE UNIVERSITY                                   530136.000\n",
       "Municipal Police Training Committee                      475000.000\n",
       "MASSACHUSETTS COLLEGE OF LIBERAL ARTS                    414181.400\n",
       "EXECUTIVE OFFICE for ADMINISTRATION and FINANCE          413782.680\n",
       "HOLYOKE COMMUNITY COLLEGE                                401134.540\n",
       "CAPE COD COMMUNITY COLLEGE                               390431.200\n",
       "MASSACHUSETTS COLLEGE OF ART AND DESIGN                  380748.690\n",
       "WESTFIELD STATE UNIVERSITY                               376769.610\n",
       "EXECUTIVE OFFICE OF ENVIRONMENTAL AFFAIRS                371172.320\n",
       "NORFOLK SHERIFF'S DEPARTMENT                             351556.880\n",
       "SPRINGFIELD TECH COMM COLLEGE                            348000.000\n",
       "BRISTOL COMMUNITY COLLEGE                                347954.000\n",
       "MASSACHUSETTS OFFICE ON DISABILITY                       342658.000\n",
       "DEPARTMENT OF ELEMENTARY & SECONDARY EDUCATION           334493.480\n",
       "EXECUTIVE OFFICE OF PUBLIC SAFETY & HOMELAND SECURITY    329817.200\n",
       "DEPARTMENT OF MENTAL HEALTH                              296725.740\n",
       "PAROLE BOARD                                             293766.430\n",
       "EXECUTIVE OFFICE OF HEALTH AND HUMAN SERVICES            274271.350\n",
       "SENATE                                                   261000.000\n",
       "DEPARTMENT OF YOUTH SERVICES                             259820.480\n",
       "DEPARTMENT OF PUBLIC UTILITIES                           256578.390\n",
       "DEPT OF HOUSING AND COMMUNITY DEVELOPMENT                252832.440\n",
       "BRIDGEWATER STATE UNIVERSITY                             182700.000\n",
       "MASS BAY COMMUNITY COLLEGE                               180719.860\n",
       "MASSACHUSETTS DEPARTMENT OF TRANSPORTATION               179926.930\n",
       "GREENFIELD COMMUNITY COLLEGE                             175298.810\n",
       "MASSACHUSETTS MARITIME ACADEMY                           171500.000\n",
       "NORTHERN ESSEX COMMUNITY COLLEGE                         165929.030\n",
       "SHERIFF DEPARTMENT BARNSTABLE                            143572.740\n",
       "SHERIFF DEPARTMENT NORFOLK                               140000.000\n",
       "DEPARTMENT OF PUBLIC HEALTH                              137783.240\n",
       "HUMAN RESOURCE DIVISION                                  131724.000\n",
       "SHERIFF DEPARTMENT DUKES                                 129088.390\n",
       "DEPARTMENT OF VETERANS SERVICES                          117874.350\n",
       "STATE AUDITORS OFFICE                                    115000.000\n",
       "MILITARY DIVISION                                        108213.510\n",
       "SOLDIERS' HOME in MASSACHUSETTS                           95760.820\n",
       "ROXBURY COMMUNITY COLLEGE                                 95364.000\n",
       "MASSASOIT COMMUNITY COLLEGE                               92834.130\n",
       "EXECUTIVE OFFICE OF ECONOMIC DEVELOPMENT                  81339.080\n",
       "HUMAN RESOURCES DIVISION                                  80000.000\n",
       "LOTTERY AND GAMING COMMISSION                             65000.000\n",
       "PLYMOUTH SHERRIFF'S DEPARTMENT                            60000.000\n",
       "DEPARTMENT OF PUBLIC SAFETY                               56481.450\n",
       "CAPITAL ASSET MANAGEMENT and MAINTENANCE DIVISION         50000.000\n",
       "COMMITTEE FOR PUBLIC COUNSEL SERVICES                     46000.000\n",
       "SHERIFF DEPARTMENT MIDDLESEX                              45000.000\n",
       "SPRINGFIELD TECHNICAL COMMUNITY COLLEGE                   40000.000\n",
       "BERKSHIRE COMMUNITY COLLEGE                               38870.000\n",
       "MASS CULTURAL COUNCIL                                     38676.820\n",
       "MIDDLESEX COMMUNITY COLLEGE                               37500.000\n",
       "SHERIFF DEPARTMENT NANTUCKET                              33000.000\n",
       "MASSACHUSETTS MARKETING PARTNERSHIP                       26923.920\n",
       "MIDDLESEX (NORTHERN) DISTRICT ATTORNEY                    26278.330\n",
       "FITCHBURG STATE UNIVERSITY                                25850.000\n",
       "SEX OFFENDER REGISTRY                                     24000.000\n",
       "BRISTOL DISTRICT ATTORNEY                                 19863.300\n",
       "SOLDIERS' HOME in HOLYOKE                                 19500.000\n",
       "QUINSIGAMOND COMMUNITY COLLEGE                            18366.000\n",
       "OFFICE OF INSPECTOR GENERAL                               18125.140\n",
       "FRAMINGHAM STATE UNIVERSITY                               17800.000\n",
       "CHIEF MEDICAL EXAMINER                                    17500.000\n",
       "ESSEX SHERIFF'S DEPARTMENT                                15865.000\n",
       "NORTH SHORE COMMUNITY COLLEGE                             14040.470\n",
       "DDS                                                       13951.000\n",
       "DEPARTMENT OF ELDER AFFAIRS                               13200.000\n",
       "SHERIFF DEPARTMENT BERKSHIRE                              11800.000\n",
       "MT WACHUSETT COMMUNITY COLLEGE                            11500.000\n",
       "SHERIFF DEPARTMENT BRISTOL                                10000.000\n",
       "MIDDLESEX SHERIFF'S DEPARTMENT                            10000.000\n",
       "MSO                                                       10000.000\n",
       "GEORGE FINGOLD LIBRARY                                     9000.000\n",
       "OFFICE OF CONSUMER AFFAIRS AND BUSINESS                    5566.000\n",
       "EASTERN DISTRICT ATTORNEY                                  5000.000\n",
       "DEPARTMENT OF FIRE SERVICES                                4500.000\n",
       "SECRETARY OF THE COMMONWEALTH                              3000.000\n",
       "BARNSTABLE SHERIFF'S DEPARTMENT                            1600.000\n",
       "DEPARTMENT OF HIGHER EDUCATION                             1000.000\n",
       "Name: line_amount, dtype: float64"
      ]
     },
     "execution_count": 9,
     "metadata": {},
     "output_type": "execute_result"
    }
   ],
   "source": [
    "pd.set_option(\"display.max.rows\", 104)\n",
    "settlements.groupby(\"dept\").sum()[\"line_amount\"].sort_values(ascending=False)"
   ]
  },
  {
   "cell_type": "code",
   "execution_count": 20,
   "metadata": {},
   "outputs": [],
   "source": [
    "by_year = settlements[(settlements[\"dept\"].isin(suffolk_carceral_dept))&\n",
    "                      (settlements[\"year\"].isin(list(range(2016,2020))))].groupby(\"year\").sum()[\"line_amount\"]"
   ]
  },
  {
   "cell_type": "code",
   "execution_count": 21,
   "metadata": {},
   "outputs": [
    {
     "data": {
      "text/plain": [
       "year\n",
       "2016   3448078.140\n",
       "2017   1969972.840\n",
       "2018   2061501.280\n",
       "2019   3030757.470\n",
       "Name: line_amount, dtype: float64"
      ]
     },
     "execution_count": 21,
     "metadata": {},
     "output_type": "execute_result"
    }
   ],
   "source": [
    "by_year"
   ]
  },
  {
   "cell_type": "code",
   "execution_count": 22,
   "metadata": {},
   "outputs": [
    {
     "data": {
      "text/plain": [
       "10510309.730000004"
      ]
     },
     "execution_count": 22,
     "metadata": {},
     "output_type": "execute_result"
    }
   ],
   "source": [
    "by_year.sum()"
   ]
  },
  {
   "cell_type": "code",
   "execution_count": null,
   "metadata": {},
   "outputs": [],
   "source": []
  }
 ],
 "metadata": {
  "kernelspec": {
   "display_name": "Python 3",
   "language": "python",
   "name": "python3"
  },
  "language_info": {
   "codemirror_mode": {
    "name": "ipython",
    "version": 3
   },
   "file_extension": ".py",
   "mimetype": "text/x-python",
   "name": "python",
   "nbconvert_exporter": "python",
   "pygments_lexer": "ipython3",
   "version": "3.7.6"
  }
 },
 "nbformat": 4,
 "nbformat_minor": 4
}
