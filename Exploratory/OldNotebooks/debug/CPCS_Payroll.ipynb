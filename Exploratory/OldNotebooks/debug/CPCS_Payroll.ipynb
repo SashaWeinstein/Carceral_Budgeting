{
 "cells": [
  {
   "cell_type": "markdown",
   "metadata": {},
   "source": [
    "# CPCS Payroll Analysis\n",
    "The CPCS is a peculiar agency in that most of it's labor costs aren't paid through payroll but rather expenditures to private attorneys that aren't captured in the payroll datasets. We are making an exception to our methodology to include these \"contractors\" as payroll. CPCS isn't the only agency we look at that has labor costs beyond their stated payroll, we only make an exception in our methodology for this agency as these contractors are such a significant cost# Debug Calendar Year Correction"
   ]
  },
  {
   "cell_type": "code",
   "execution_count": 25,
   "metadata": {},
   "outputs": [
    {
     "name": "stderr",
     "output_type": "stream",
     "text": [
      "/opt/anaconda3/lib/python3.7/site-packages/pandas/core/frame.py:4133: SettingWithCopyWarning: \n",
      "A value is trying to be set on a copy of a slice from a DataFrame\n",
      "\n",
      "See the caveats in the documentation: https://pandas.pydata.org/pandas-docs/stable/user_guide/indexing.html#returning-a-view-versus-a-copy\n",
      "  errors=errors,\n",
      "/opt/anaconda3/lib/python3.7/site-packages/pandas/core/generic.py:6245: SettingWithCopyWarning: \n",
      "A value is trying to be set on a copy of a slice from a DataFrame\n",
      "\n",
      "See the caveats in the documentation: https://pandas.pydata.org/pandas-docs/stable/user_guide/indexing.html#returning-a-view-versus-a-copy\n",
      "  self._update_inplace(new_data)\n",
      "/Users/alexanderweinstein/Documents/Harris/Summer2020/Carceral_Budgeting/Exploratory/pensions/State_Pensions_2Ver.py:136: SettingWithCopyWarning: \n",
      "A value is trying to be set on a copy of a slice from a DataFrame.\n",
      "Try using .loc[row_indexer,col_indexer] = value instead\n",
      "\n",
      "See the caveats in the documentation: https://pandas.pydata.org/pandas-docs/stable/user_guide/indexing.html#returning-a-view-versus-a-copy\n",
      "  cthru_pensions[\"year\"] = cthru_pensions[\"year\"].astype(int)\n"
     ]
    },
    {
     "name": "stdout",
     "output_type": "stream",
     "text": [
      "The autoreload extension is already loaded. To reload it, use:\n",
      "  %reload_ext autoreload\n"
     ]
    },
    {
     "name": "stderr",
     "output_type": "stream",
     "text": [
      "/opt/anaconda3/lib/python3.7/importlib/__init__.py:169: DtypeWarning: Columns (16) have mixed types.Specify dtype option on import or set low_memory=False.\n",
      "  _bootstrap._exec(spec, module)\n"
     ]
    }
   ],
   "source": [
    "%load_ext autoreload\n",
    "%autoreload 2"
   ]
  },
  {
   "cell_type": "code",
   "execution_count": 26,
   "metadata": {},
   "outputs": [],
   "source": [
    "import warnings\n",
    "warnings.simplefilter(action='ignore', category=FutureWarning)\n",
    "\n",
    "import pandas as pd\n",
    "import os\n",
    "import sys"
   ]
  },
  {
   "cell_type": "code",
   "execution_count": 27,
   "metadata": {},
   "outputs": [],
   "source": [
    "sys.path.insert(0, os.path.abspath(\"../\"))"
   ]
  },
  {
   "cell_type": "code",
   "execution_count": 28,
   "metadata": {
    "scrolled": false
   },
   "outputs": [],
   "source": [
    "from Initialize_Agencies_3Ver import get_agencies"
   ]
  },
  {
   "cell_type": "code",
   "execution_count": 30,
   "metadata": {
    "scrolled": false
   },
   "outputs": [
    {
     "name": "stdout",
     "output_type": "stream",
     "text": [
      "raw data:\n"
     ]
    },
    {
     "data": {
      "text/html": [
       "<div>\n",
       "<style scoped>\n",
       "    .dataframe tbody tr th:only-of-type {\n",
       "        vertical-align: middle;\n",
       "    }\n",
       "\n",
       "    .dataframe tbody tr th {\n",
       "        vertical-align: top;\n",
       "    }\n",
       "\n",
       "    .dataframe thead th {\n",
       "        text-align: right;\n",
       "    }\n",
       "</style>\n",
       "<table border=\"1\" class=\"dataframe\">\n",
       "  <thead>\n",
       "    <tr style=\"text-align: right;\">\n",
       "      <th></th>\n",
       "      <th>2015 Q3</th>\n",
       "      <th>2015 Q4</th>\n",
       "      <th>2016 Q1</th>\n",
       "      <th>2016 Q2</th>\n",
       "      <th>2016 Q3</th>\n",
       "      <th>2016 Q4</th>\n",
       "      <th>2017 Q1</th>\n",
       "      <th>2017 Q2</th>\n",
       "      <th>2017 Q3</th>\n",
       "      <th>2017 Q4</th>\n",
       "      <th>2018 Q1</th>\n",
       "      <th>2018 Q2</th>\n",
       "      <th>2018 Q3</th>\n",
       "      <th>2018 Q4</th>\n",
       "      <th>2019 Q1</th>\n",
       "      <th>2019 Q2</th>\n",
       "      <th>2019 Q3</th>\n",
       "    </tr>\n",
       "  </thead>\n",
       "  <tbody>\n",
       "    <tr>\n",
       "      <th>Suffolk Admits</th>\n",
       "      <td>50.000</td>\n",
       "      <td>81.000</td>\n",
       "      <td>72.000</td>\n",
       "      <td>79.000</td>\n",
       "      <td>41.000</td>\n",
       "      <td>74.000</td>\n",
       "      <td>71.000</td>\n",
       "      <td>83.000</td>\n",
       "      <td>61.000</td>\n",
       "      <td>77.000</td>\n",
       "      <td>83.000</td>\n",
       "      <td>84.000</td>\n",
       "      <td>72.000</td>\n",
       "      <td>76.000</td>\n",
       "      <td>70.000</td>\n",
       "      <td>90.000</td>\n",
       "      <td>64.000</td>\n",
       "    </tr>\n",
       "    <tr>\n",
       "      <th>Total Admits</th>\n",
       "      <td>391.000</td>\n",
       "      <td>437.000</td>\n",
       "      <td>439.000</td>\n",
       "      <td>416.000</td>\n",
       "      <td>385.000</td>\n",
       "      <td>387.000</td>\n",
       "      <td>500.000</td>\n",
       "      <td>440.000</td>\n",
       "      <td>372.000</td>\n",
       "      <td>426.000</td>\n",
       "      <td>437.000</td>\n",
       "      <td>433.000</td>\n",
       "      <td>359.000</td>\n",
       "      <td>384.000</td>\n",
       "      <td>431.000</td>\n",
       "      <td>433.000</td>\n",
       "      <td>364.000</td>\n",
       "    </tr>\n",
       "  </tbody>\n",
       "</table>\n",
       "</div>"
      ],
      "text/plain": [
       "                2015 Q3  2015 Q4  2016 Q1  2016 Q2  2016 Q3  2016 Q4  2017 Q1  \\\n",
       "Suffolk Admits   50.000   81.000   72.000   79.000   41.000   74.000   71.000   \n",
       "Total Admits    391.000  437.000  439.000  416.000  385.000  387.000  500.000   \n",
       "\n",
       "                2017 Q2  2017 Q3  2017 Q4  2018 Q1  2018 Q2  2018 Q3  2018 Q4  \\\n",
       "Suffolk Admits   83.000   61.000   77.000   83.000   84.000   72.000   76.000   \n",
       "Total Admits    440.000  372.000  426.000  437.000  433.000  359.000  384.000   \n",
       "\n",
       "                2019 Q1  2019 Q2  2019 Q3  \n",
       "Suffolk Admits   70.000   90.000   64.000  \n",
       "Total Admits    431.000  433.000  364.000  "
      ]
     },
     "metadata": {},
     "output_type": "display_data"
    },
    {
     "name": "stdout",
     "output_type": "stream",
     "text": [
      "correction by FY:\n"
     ]
    },
    {
     "data": {
      "text/plain": [
       "2016   0.168\n",
       "2017   0.157\n",
       "2018   0.183\n",
       "2019   0.192\n",
       "dtype: float64"
      ]
     },
     "metadata": {},
     "output_type": "display_data"
    },
    {
     "name": "stderr",
     "output_type": "stream",
     "text": [
      "/Users/alexanderweinstein/Documents/Harris/Summer2020/Carceral_Budgeting/Exploratory/Agency_Classes_2Ver.py:162: DtypeWarning: Columns (15,16) have mixed types.Specify dtype option on import or set low_memory=False.\n",
      "  self.get_expenditures_by_year()\n"
     ]
    },
    {
     "name": "stdout",
     "output_type": "stream",
     "text": [
      "raw data:\n"
     ]
    },
    {
     "data": {
      "text/html": [
       "<div>\n",
       "<style scoped>\n",
       "    .dataframe tbody tr th:only-of-type {\n",
       "        vertical-align: middle;\n",
       "    }\n",
       "\n",
       "    .dataframe tbody tr th {\n",
       "        vertical-align: top;\n",
       "    }\n",
       "\n",
       "    .dataframe thead th {\n",
       "        text-align: right;\n",
       "    }\n",
       "</style>\n",
       "<table border=\"1\" class=\"dataframe\">\n",
       "  <thead>\n",
       "    <tr style=\"text-align: right;\">\n",
       "      <th></th>\n",
       "      <th>2015 Q3</th>\n",
       "      <th>2015 Q4</th>\n",
       "      <th>2016 Q1</th>\n",
       "      <th>2016 Q2</th>\n",
       "      <th>2016 Q3</th>\n",
       "      <th>2016 Q4</th>\n",
       "      <th>2017 Q1</th>\n",
       "      <th>2017 Q2</th>\n",
       "      <th>2017 Q3</th>\n",
       "      <th>2017 Q4</th>\n",
       "      <th>2018 Q1</th>\n",
       "      <th>2018 Q2</th>\n",
       "      <th>2018 Q3</th>\n",
       "      <th>2018 Q4</th>\n",
       "      <th>2019 Q1</th>\n",
       "      <th>2019 Q2</th>\n",
       "      <th>2019 Q3</th>\n",
       "    </tr>\n",
       "  </thead>\n",
       "  <tbody>\n",
       "    <tr>\n",
       "      <th>Suffolk Admits</th>\n",
       "      <td>50.000</td>\n",
       "      <td>81.000</td>\n",
       "      <td>72.000</td>\n",
       "      <td>79.000</td>\n",
       "      <td>41.000</td>\n",
       "      <td>74.000</td>\n",
       "      <td>71.000</td>\n",
       "      <td>83.000</td>\n",
       "      <td>61.000</td>\n",
       "      <td>77.000</td>\n",
       "      <td>83.000</td>\n",
       "      <td>84.000</td>\n",
       "      <td>72.000</td>\n",
       "      <td>76.000</td>\n",
       "      <td>70.000</td>\n",
       "      <td>90.000</td>\n",
       "      <td>64.000</td>\n",
       "    </tr>\n",
       "    <tr>\n",
       "      <th>Total Admits</th>\n",
       "      <td>391.000</td>\n",
       "      <td>437.000</td>\n",
       "      <td>439.000</td>\n",
       "      <td>416.000</td>\n",
       "      <td>385.000</td>\n",
       "      <td>387.000</td>\n",
       "      <td>500.000</td>\n",
       "      <td>440.000</td>\n",
       "      <td>372.000</td>\n",
       "      <td>426.000</td>\n",
       "      <td>437.000</td>\n",
       "      <td>433.000</td>\n",
       "      <td>359.000</td>\n",
       "      <td>384.000</td>\n",
       "      <td>431.000</td>\n",
       "      <td>433.000</td>\n",
       "      <td>364.000</td>\n",
       "    </tr>\n",
       "  </tbody>\n",
       "</table>\n",
       "</div>"
      ],
      "text/plain": [
       "                2015 Q3  2015 Q4  2016 Q1  2016 Q2  2016 Q3  2016 Q4  2017 Q1  \\\n",
       "Suffolk Admits   50.000   81.000   72.000   79.000   41.000   74.000   71.000   \n",
       "Total Admits    391.000  437.000  439.000  416.000  385.000  387.000  500.000   \n",
       "\n",
       "                2017 Q2  2017 Q3  2017 Q4  2018 Q1  2018 Q2  2018 Q3  2018 Q4  \\\n",
       "Suffolk Admits   83.000   61.000   77.000   83.000   84.000   72.000   76.000   \n",
       "Total Admits    440.000  372.000  426.000  437.000  433.000  359.000  384.000   \n",
       "\n",
       "                2019 Q1  2019 Q2  2019 Q3  \n",
       "Suffolk Admits   70.000   90.000   64.000  \n",
       "Total Admits    431.000  433.000  364.000  "
      ]
     },
     "metadata": {},
     "output_type": "display_data"
    },
    {
     "name": "stdout",
     "output_type": "stream",
     "text": [
      "correction by FY:\n"
     ]
    },
    {
     "data": {
      "text/plain": [
       "2016   0.168\n",
       "2017   0.157\n",
       "2018   0.183\n",
       "2019   0.192\n",
       "dtype: float64"
      ]
     },
     "metadata": {},
     "output_type": "display_data"
    },
    {
     "name": "stdout",
     "output_type": "stream",
     "text": [
      "\n"
     ]
    }
   ],
   "source": [
    "yr = list(range(2016,2020))\n",
    "agencies = get_agencies(yr)"
   ]
  },
  {
   "cell_type": "markdown",
   "metadata": {},
   "source": [
    "## Look at CPCS expenditures"
   ]
  },
  {
   "cell_type": "code",
   "execution_count": 20,
   "metadata": {},
   "outputs": [],
   "source": [
    "CPCS = agencies[\"CPCS\"]"
   ]
  },
  {
   "cell_type": "code",
   "execution_count": 21,
   "metadata": {},
   "outputs": [
    {
     "data": {
      "text/plain": [
       "object_class\n",
       "(AA) REGULAR EMPLOYEE COMPENSATION    239774416.800\n",
       "(GG) ENERGY COSTS AND SPACE RENTAL     27959809.580\n",
       "(UU) IT NON-PAYROLL EXPENSES           13912081.100\n",
       "(EE) ADMINISTRATIVE EXPENSES            6197441.970\n",
       "(MM) PURCHASED CLIENT/PROGRAM SVCS      5135086.550\n",
       "(BB) REGULAR EMPLOYEE RELATED EXPEN     4647457.670\n",
       "(JJ) OPERATIONAL SERVICES               3118537.650\n",
       "(KK) EQUIPMENT PURCHASE                 2026091.100\n",
       "(LL) EQUIPMENT LEASE-MAINTAIN/REPAR     1208618.680\n",
       "(NN) INFRASTRUCTURE:                     983963.780\n",
       "(HH) CONSULTANT SVCS (TO DEPTS)          725720.690\n",
       "(CC) SPECIAL EMPLOYEES                   259775.290\n",
       "(FF) FACILITY OPERATIONAL EXPENSES       172105.900\n",
       "(TT) LOANS AND SPECIAL PAYMENTS           15054.020\n",
       "(99) PAYROLL REJECTS                       1224.000\n",
       "Name: amount, dtype: float64"
      ]
     },
     "execution_count": 21,
     "metadata": {},
     "output_type": "execute_result"
    }
   ],
   "source": [
    "CPCS.expenditures.groupby([\"object_class\"]).sum()[\"amount\"].sort_values(ascending=False)"
   ]
  },
  {
   "cell_type": "code",
   "execution_count": 22,
   "metadata": {},
   "outputs": [
    {
     "data": {
      "text/plain": [
       "object_code\n",
       "(A01) SALARIES: INCLUSIVE                                            237402623.230\n",
       "(G01) SPACE RENTAL                                                    27577794.270\n",
       "(M10) NON-HUMAN SERVICE COOPERATION FUNDING CONTRACTS                  5135086.550\n",
       "(U11) INFORMATION TECHNOLOGY (IT) CONTRACT SERVICES                    4659335.660\n",
       "(B02) IN-STATE TRAVEL                                                  3488099.960\n",
       "                                                                          ...     \n",
       "(A06) STAND-BY PAY                                                         576.900\n",
       "(N52) FACILITY INFRASTRUCTURE MAINTENANCE & REPAIR TOOLS & SUPPLIE         329.230\n",
       "(F16) LIBRARY & TEACHING SUPPLIES & MATERIALS                              239.800\n",
       "(F05) LABORATORY SUPPLIES                                                  162.020\n",
       "(K06) PRINTING, PHOTOCOPYING, & MICROGRAPHICS EQUIPMENT                     84.990\n",
       "Name: amount, Length: 73, dtype: float64"
      ]
     },
     "execution_count": 22,
     "metadata": {},
     "output_type": "execute_result"
    }
   ],
   "source": [
    "CPCS.expenditures.groupby(\"object_code\").sum()[\"amount\"].sort_values(ascending=False)"
   ]
  },
  {
   "cell_type": "code",
   "execution_count": 23,
   "metadata": {},
   "outputs": [
    {
     "data": {
      "text/plain": [
       "budget_fiscal_year\n",
       "2016   203113266.035\n",
       "2017   219228501.670\n",
       "2018   219057567.460\n",
       "2019   231508253.240\n",
       "Name: amount, dtype: float64"
      ]
     },
     "execution_count": 23,
     "metadata": {},
     "output_type": "execute_result"
    }
   ],
   "source": [
    "CPCS.payroll_by_year"
   ]
  },
  {
   "cell_type": "code",
   "execution_count": 24,
   "metadata": {},
   "outputs": [
    {
     "ename": "NameError",
     "evalue": "name 'object_class_RR' is not defined",
     "output_type": "error",
     "traceback": [
      "\u001b[0;31m---------------------------------------------------------------------------\u001b[0m",
      "\u001b[0;31mNameError\u001b[0m                                 Traceback (most recent call last)",
      "\u001b[0;32m<ipython-input-24-349b8b1a77c7>\u001b[0m in \u001b[0;36m<module>\u001b[0;34m\u001b[0m\n\u001b[0;32m----> 1\u001b[0;31m \u001b[0mobject_class_RR\u001b[0m\u001b[0;34m.\u001b[0m\u001b[0mgroupby\u001b[0m\u001b[0;34m(\u001b[0m\u001b[0;34m\"budget_fiscal_year\"\u001b[0m\u001b[0;34m)\u001b[0m\u001b[0;34m.\u001b[0m\u001b[0msum\u001b[0m\u001b[0;34m(\u001b[0m\u001b[0;34m)\u001b[0m\u001b[0;34m[\u001b[0m\u001b[0;34m\"amount\"\u001b[0m\u001b[0;34m]\u001b[0m\u001b[0;34m.\u001b[0m\u001b[0msort_values\u001b[0m\u001b[0;34m(\u001b[0m\u001b[0mascending\u001b[0m\u001b[0;34m=\u001b[0m\u001b[0;32mFalse\u001b[0m\u001b[0;34m)\u001b[0m \u001b[0;34m+\u001b[0m \u001b[0mCPCS\u001b[0m\u001b[0;34m.\u001b[0m\u001b[0mpayroll_by_year\u001b[0m\u001b[0;34m\u001b[0m\u001b[0;34m\u001b[0m\u001b[0m\n\u001b[0m",
      "\u001b[0;31mNameError\u001b[0m: name 'object_class_RR' is not defined"
     ]
    }
   ],
   "source": [
    "object_class_RR.groupby(\"budget_fiscal_year\").sum()[\"amount\"].sort_values(ascending=False) + CPCS.payroll_by_year"
   ]
  },
  {
   "cell_type": "markdown",
   "metadata": {},
   "source": [
    "## Side adventure: do other agencies have this RR Benefits object class?"
   ]
  },
  {
   "cell_type": "markdown",
   "metadata": {},
   "source": [
    "answer: no"
   ]
  },
  {
   "cell_type": "code",
   "execution_count": null,
   "metadata": {},
   "outputs": [],
   "source": []
  }
 ],
 "metadata": {
  "kernelspec": {
   "display_name": "Python 3",
   "language": "python",
   "name": "python3"
  },
  "language_info": {
   "codemirror_mode": {
    "name": "ipython",
    "version": 3
   },
   "file_extension": ".py",
   "mimetype": "text/x-python",
   "name": "python",
   "nbconvert_exporter": "python",
   "pygments_lexer": "ipython3",
   "version": "3.7.6"
  }
 },
 "nbformat": 4,
 "nbformat_minor": 4
}
