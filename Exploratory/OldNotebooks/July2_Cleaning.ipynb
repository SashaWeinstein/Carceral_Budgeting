{
 "cells": [
  {
   "cell_type": "markdown",
   "metadata": {},
   "source": [
    "# July 2nd Cleaning\n",
    "On July 2nd I have results for Bobby, but working against deadline kept me from cleaning my code as I went. So here is a notebook to make sure my cleaned code works and to make small upgrades"
   ]
  },
  {
   "cell_type": "code",
   "execution_count": 1,
   "metadata": {},
   "outputs": [],
   "source": [
    "%load_ext autoreload\n",
    "%autoreload 2"
   ]
  },
  {
   "cell_type": "code",
   "execution_count": 2,
   "metadata": {},
   "outputs": [
    {
     "name": "stderr",
     "output_type": "stream",
     "text": [
      "/Users/alexanderweinstein/Documents/Harris/Summer2020/Carceral_Budgeting/Exploratory/Agency_Classes.py:234: SettingWithCopyWarning: \n",
      "A value is trying to be set on a copy of a slice from a DataFrame.\n",
      "Try using .loc[row_indexer,col_indexer] = value instead\n",
      "\n",
      "See the caveats in the documentation: https://pandas.pydata.org/pandas-docs/stable/user_guide/indexing.html#returning-a-view-versus-a-copy\n",
      "  self.operating_budget[x] = self.operating_budget[x].str.replace(\",\", \"\")\n",
      "/Users/alexanderweinstein/Documents/Harris/Summer2020/Carceral_Budgeting/Exploratory/Agency_Classes.py:235: SettingWithCopyWarning: \n",
      "A value is trying to be set on a copy of a slice from a DataFrame.\n",
      "Try using .loc[row_indexer,col_indexer] = value instead\n",
      "\n",
      "See the caveats in the documentation: https://pandas.pydata.org/pandas-docs/stable/user_guide/indexing.html#returning-a-view-versus-a-copy\n",
      "  self.operating_budget[x] = self.operating_budget[x].str.replace(\"-\", \"0\").astype(float)\n"
     ]
    }
   ],
   "source": [
    "import pandas as pd\n",
    "import numpy as np\n",
    "import requests\n",
    "from PyPDF2 import PdfFileReader, PdfFileWriter\n",
    "import PyPDF2\n",
    "import textract\n",
    "import re\n",
    "import Exploratory_Main\n",
    "import Initialize_Agencies\n",
    "import Agency_Classes\n",
    "pd.set_option('display.float_format', lambda x: '%.3f' % x)"
   ]
  },
  {
   "cell_type": "markdown",
   "metadata": {},
   "source": [
    "Next task: write code to get info out of data/ChelseaPD/Budget_FY21_Chelsea.pdf"
   ]
  },
  {
   "cell_type": "code",
   "execution_count": 38,
   "metadata": {},
   "outputs": [
    {
     "name": "stdout",
     "output_type": "stream",
     "text": [
      "page with totals:    2017 2018 2019 2020 2021 Variance 2021  % Variance  Actual Actual Actual Adopted Proposed Req. - 2020 2021 Req. -Budget Budget Budget 2020 Budget527000 Rent-Buildings 0.00 0.00 0 0 0.00 0.00 0.00%527600 Rent/Lease Equip 0.00 0.00 0 0 0.00 0.00 0.00%530600 CONTRACT SERVICES  6,186.06 6,558.86 3,267 10,000 10,000.00 0.00 0.00%530700 Training  74,929.82 59,753.06 34,630 62,000 62,000.00 0.00 0.00%532300 Conference/Travel  0.00 0.00 0 0 0.00 0.00 0.00%542100 General Office Supplies  8,334.83 8,499.14 5,025 8,500 8,500.00 0.00 0.00%542200 Photocopy Paper 2,999.92 3,000.00 2,943 3,000 3,000.00 0.00 0.00%543100 Cleaning Supplies 4,800.00 4,787.48 4,129 4,800 4,800.00 0.00 0.00%545100 Gasoline 88,362.28 104,016.90114,369  132,750 106,200.00-26,550.00 -20.00%548200 Crime Prevention Supplies 2,999.85 2,942.44 3,000 3,000 3,000.00 0.00 0.00%548600 Ammunition & Weapons  30,751.00 37,249.00 7,250 34,000 34,000.00 0.00 0.00%548700 Police Supplies/Equipment 71,881.86 58,423.64 45,027 51,000 51,000.00 0.00 0.00%548800 COVERT OPERATIONS  0.00 0.00 0 0 0.00 0.00 0.00%549000 OTHER SUPPLIES 0.00 0.00 0 0 0.00 0.00 0.00%549300 DUES/SUBSCRIPTIONS 7,000.00 8,125.00 10,662 8,000 8,000.00 0.00 0.00%549800 FIXED ASSET OPERATING ITEM  0.00 0.00 0 0 0.00 0.00 0.00%570000 K-9 EXPENSES 3,280.44 2,804.21 3,349 4,500 4,500.00 0.00 0.00%572000 Prisoner Meals 2,026.22 1,490.65 1,580 2,400 2,400.00 0.00 0.00%Group Total:  701,295.76 710,475.69 639,385.29 763,471.00 736,921.00 (26,550) -3.48 %0121058 G.F. - Police Capital Outlay 583500 HEAVY DUTY SCALES  0.00 0.00 0 0 0.00 0.00 0.00%583520 Fingerprint Scanner 0.00 0.00 0 0 0.00 0.00 0.00%585100 Office Equipment  0.00 0.00 0 0 0.00 0.00 0.00%585200 AUTOMOBILES  164,000.00 161,438.91 0 0 0.00 0.00 0.00%586000 Computer Equipment 0.00 0.00 0 0 0.00 0.00 0.00%587000 SECURITY CAMERAS  0.00 0.00 0 30,000 0.00-30,000.00 -100.00%587500 GUN REPLACEMENT 0.00 0.00 0 0 0.00 0.00 0.00%Group Total:  164,000.00 161,438.91 0.00 30,000.00 0.00(30,000) -100.00 %Department Total:  10,416,894.35 10,795,372.14 12,165,647.09 12,376,875.00 12,306,778.00 (70,097) (0.57) % Page: 22  \n",
      "final:   10,416,894.35 10,795,372.14 12,165,647.09 12,376,875.00 12,306,778.00 (70,097) (0.57) % \n"
     ]
    }
   ],
   "source": [
    "chelsea = Agency_Classes.ChelseaPD()\n",
    "chelsea.from_PDF()"
   ]
  },
  {
   "cell_type": "code",
   "execution_count": 42,
   "metadata": {},
   "outputs": [],
   "source": []
  },
  {
   "cell_type": "code",
   "execution_count": null,
   "metadata": {},
   "outputs": [],
   "source": []
  }
 ],
 "metadata": {
  "kernelspec": {
   "display_name": "Python 3",
   "language": "python",
   "name": "python3"
  },
  "language_info": {
   "codemirror_mode": {
    "name": "ipython",
    "version": 3
   },
   "file_extension": ".py",
   "mimetype": "text/x-python",
   "name": "python",
   "nbconvert_exporter": "python",
   "pygments_lexer": "ipython3",
   "version": "3.7.6"
  }
 },
 "nbformat": 4,
 "nbformat_minor": 4
}
