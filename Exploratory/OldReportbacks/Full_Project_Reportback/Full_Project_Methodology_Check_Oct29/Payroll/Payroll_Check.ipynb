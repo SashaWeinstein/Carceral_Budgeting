{
 "cells": [
  {
   "cell_type": "markdown",
   "metadata": {},
   "source": [
    "# Check Payroll\n",
    "This is the first notebook in a group of notebooks to check results of my code for the Oct 29th methodology check.\n",
    "This notebook is to check payroll for each agency. The reason I need a new notebook is twofold: first to get payroll without agency correction, and second to get hidden payroll for chelsea, boston pd"
   ]
  },
  {
   "cell_type": "code",
   "execution_count": 2,
   "metadata": {},
   "outputs": [],
   "source": [
    "%load_ext autoreload\n",
    "%autoreload 2\n"
   ]
  },
  {
   "cell_type": "code",
   "execution_count": 3,
   "metadata": {},
   "outputs": [],
   "source": [
    "import pandas as pd\n",
    "import sys\n",
    "import os\n",
    "if not sys.warnoptions:\n",
    "    import warnings\n",
    "    warnings.simplefilter(\"ignore\")\n",
    "import seaborn as sns\n",
    "import matplotlib.pyplot as plt\n",
    "sns.set(rc={\"figure.figsize\": (20, 18), \"lines.linewidth\": 5})\n",
    "sns.set_style(\"darkgrid\")"
   ]
  },
  {
   "cell_type": "code",
   "execution_count": 4,
   "metadata": {},
   "outputs": [],
   "source": [
    "sys.path.insert(0, \"/Users/alexanderweinstein/Documents/Harris/Summer2020/Carceral_Budgeting/Exploratory\")\n",
    "from Initialize_Agencies_2Ver import get_agencies"
   ]
  },
  {
   "cell_type": "code",
   "execution_count": 5,
   "metadata": {},
   "outputs": [],
   "source": [
    "from Agency_Classes import Agency, StateAgency, PoliceDepartment"
   ]
  },
  {
   "cell_type": "code",
   "execution_count": 6,
   "metadata": {},
   "outputs": [],
   "source": [
    "yr = list(range(2016,2020))"
   ]
  },
  {
   "cell_type": "code",
   "execution_count": 7,
   "metadata": {},
   "outputs": [
    {
     "name": "stdout",
     "output_type": "stream",
     "text": [
      "\n"
     ]
    }
   ],
   "source": [
    "agencies = get_agencies(yr)"
   ]
  },
  {
   "cell_type": "markdown",
   "metadata": {},
   "source": [
    "# Stated Payroll\n",
    "For state agencies, any spending with object code starting with \"A\" from expenditures dataset. "
   ]
  },
  {
   "cell_type": "code",
   "execution_count": 8,
   "metadata": {},
   "outputs": [],
   "source": [
    "stated_payroll_df = pd.DataFrame(columns=yr, index=agencies.keys(), data=0)\n"
   ]
  },
  {
   "cell_type": "code",
   "execution_count": 9,
   "metadata": {},
   "outputs": [],
   "source": [
    "for name, agency in agencies.items():\n",
    "    if isinstance(agency, StateAgency) and name != \"MBTA\":\n",
    "        if agency.payroll_expenditures_by_year is None:\n",
    "            agency.get_final_costs()\n",
    "        stated_payroll_df.loc[name] = agency.payroll_expenditures_by_year\n",
    "    if isinstance(agency, PoliceDepartment) and name != \"Revere PD\":\n",
    "        stated_payroll_df.loc[name] = agency.budget_summary.loc[\"Payroll Expenditures\", yr]\n",
    "    if name == \"Chelsea PD\":\n",
    "        stated_payroll_df.loc[name, 2016] =agency.budget_summary.loc[\"Payroll Budget\", 2016]\n",
    "    if name == \"Revere PD\":\n",
    "        stated_payroll_df.loc[name] = agency.budget_summary.loc[\"Payroll Adopted\", yr]"
   ]
  },
  {
   "cell_type": "code",
   "execution_count": 10,
   "metadata": {},
   "outputs": [],
   "source": [
    "# stated_payroll_df.to_csv(\"Stated_Payroll_Oct23.csv\")"
   ]
  },
  {
   "cell_type": "markdown",
   "metadata": {},
   "source": [
    "# Hidden Payroll\n",
    "For MBTA, all payroll.\n",
    "For Cheslea PD, Boston PD payroll from separate employee earnings datasets"
   ]
  },
  {
   "cell_type": "code",
   "execution_count": 13,
   "metadata": {},
   "outputs": [],
   "source": [
    "hidden_payroll_df = pd.DataFrame(columns=yr, index=agencies.keys(), data=0)"
   ]
  },
  {
   "cell_type": "code",
   "execution_count": 28,
   "metadata": {},
   "outputs": [],
   "source": [
    "for name in [\"Boston PD\", \"Chelsea PD\", \"MBTA\"]:\n",
    "    if agencies[name].payroll_expenditures_by_year is None:\n",
    "        agencies[name].get_final_costs()\n",
    "    hidden_payroll_df.loc[name] = agencies[name].payroll_expenditures_by_year\n",
    "hidden_payroll_df.loc[\"Chelsea PD\", 2016] =0"
   ]
  },
  {
   "cell_type": "code",
   "execution_count": 36,
   "metadata": {},
   "outputs": [
    {
     "data": {
      "text/html": [
       "<div>\n",
       "<style scoped>\n",
       "    .dataframe tbody tr th:only-of-type {\n",
       "        vertical-align: middle;\n",
       "    }\n",
       "\n",
       "    .dataframe tbody tr th {\n",
       "        vertical-align: top;\n",
       "    }\n",
       "\n",
       "    .dataframe thead th {\n",
       "        text-align: right;\n",
       "    }\n",
       "</style>\n",
       "<table border=\"1\" class=\"dataframe\">\n",
       "  <thead>\n",
       "    <tr style=\"text-align: right;\">\n",
       "      <th></th>\n",
       "      <th>2016</th>\n",
       "      <th>2017</th>\n",
       "      <th>2018</th>\n",
       "      <th>2019</th>\n",
       "    </tr>\n",
       "  </thead>\n",
       "  <tbody>\n",
       "    <tr>\n",
       "      <th>trial_court</th>\n",
       "      <td>0.000</td>\n",
       "      <td>0.000</td>\n",
       "      <td>0.000</td>\n",
       "      <td>0.000</td>\n",
       "    </tr>\n",
       "    <tr>\n",
       "      <th>CPCS</th>\n",
       "      <td>0.000</td>\n",
       "      <td>0.000</td>\n",
       "      <td>0.000</td>\n",
       "      <td>0.000</td>\n",
       "    </tr>\n",
       "    <tr>\n",
       "      <th>DOC</th>\n",
       "      <td>0.000</td>\n",
       "      <td>0.000</td>\n",
       "      <td>0.000</td>\n",
       "      <td>0.000</td>\n",
       "    </tr>\n",
       "    <tr>\n",
       "      <th>Suffolk DA</th>\n",
       "      <td>0.000</td>\n",
       "      <td>0.000</td>\n",
       "      <td>0.000</td>\n",
       "      <td>0.000</td>\n",
       "    </tr>\n",
       "    <tr>\n",
       "      <th>Suffolk Sheriff</th>\n",
       "      <td>0.000</td>\n",
       "      <td>0.000</td>\n",
       "      <td>0.000</td>\n",
       "      <td>0.000</td>\n",
       "    </tr>\n",
       "    <tr>\n",
       "      <th>State_Police</th>\n",
       "      <td>0.000</td>\n",
       "      <td>0.000</td>\n",
       "      <td>0.000</td>\n",
       "      <td>0.000</td>\n",
       "    </tr>\n",
       "    <tr>\n",
       "      <th>MBTA</th>\n",
       "      <td>28140924.850</td>\n",
       "      <td>22662116.390</td>\n",
       "      <td>24217763.280</td>\n",
       "      <td>31640635.490</td>\n",
       "    </tr>\n",
       "    <tr>\n",
       "      <th>DAA</th>\n",
       "      <td>0.000</td>\n",
       "      <td>0.000</td>\n",
       "      <td>0.000</td>\n",
       "      <td>0.000</td>\n",
       "    </tr>\n",
       "    <tr>\n",
       "      <th>MA Sheriff's Association</th>\n",
       "      <td>0.000</td>\n",
       "      <td>0.000</td>\n",
       "      <td>0.000</td>\n",
       "      <td>0.000</td>\n",
       "    </tr>\n",
       "    <tr>\n",
       "      <th>Parole Board</th>\n",
       "      <td>0.000</td>\n",
       "      <td>0.000</td>\n",
       "      <td>0.000</td>\n",
       "      <td>0.000</td>\n",
       "    </tr>\n",
       "    <tr>\n",
       "      <th>CJT</th>\n",
       "      <td>0.000</td>\n",
       "      <td>0.000</td>\n",
       "      <td>0.000</td>\n",
       "      <td>0.000</td>\n",
       "    </tr>\n",
       "    <tr>\n",
       "      <th>Supreme_Judicial_Court</th>\n",
       "      <td>0.000</td>\n",
       "      <td>0.000</td>\n",
       "      <td>0.000</td>\n",
       "      <td>0.000</td>\n",
       "    </tr>\n",
       "    <tr>\n",
       "      <th>Appeals_Court</th>\n",
       "      <td>0.000</td>\n",
       "      <td>0.000</td>\n",
       "      <td>0.000</td>\n",
       "      <td>0.000</td>\n",
       "    </tr>\n",
       "    <tr>\n",
       "      <th>Boston PD</th>\n",
       "      <td>388587231.110</td>\n",
       "      <td>391277619.770</td>\n",
       "      <td>416682999.940</td>\n",
       "      <td>415725606.800</td>\n",
       "    </tr>\n",
       "    <tr>\n",
       "      <th>Chelsea PD</th>\n",
       "      <td>0.000</td>\n",
       "      <td>12165124.100</td>\n",
       "      <td>12770764.810</td>\n",
       "      <td>14734808.950</td>\n",
       "    </tr>\n",
       "    <tr>\n",
       "      <th>Revere PD</th>\n",
       "      <td>0.000</td>\n",
       "      <td>0.000</td>\n",
       "      <td>0.000</td>\n",
       "      <td>0.000</td>\n",
       "    </tr>\n",
       "    <tr>\n",
       "      <th>Winthrop PD</th>\n",
       "      <td>0.000</td>\n",
       "      <td>0.000</td>\n",
       "      <td>0.000</td>\n",
       "      <td>0.000</td>\n",
       "    </tr>\n",
       "  </tbody>\n",
       "</table>\n",
       "</div>"
      ],
      "text/plain": [
       "                                  2016          2017          2018  \\\n",
       "trial_court                      0.000         0.000         0.000   \n",
       "CPCS                             0.000         0.000         0.000   \n",
       "DOC                              0.000         0.000         0.000   \n",
       "Suffolk DA                       0.000         0.000         0.000   \n",
       "Suffolk Sheriff                  0.000         0.000         0.000   \n",
       "State_Police                     0.000         0.000         0.000   \n",
       "MBTA                      28140924.850  22662116.390  24217763.280   \n",
       "DAA                              0.000         0.000         0.000   \n",
       "MA Sheriff's Association         0.000         0.000         0.000   \n",
       "Parole Board                     0.000         0.000         0.000   \n",
       "CJT                              0.000         0.000         0.000   \n",
       "Supreme_Judicial_Court           0.000         0.000         0.000   \n",
       "Appeals_Court                    0.000         0.000         0.000   \n",
       "Boston PD                388587231.110 391277619.770 416682999.940   \n",
       "Chelsea PD                       0.000  12165124.100  12770764.810   \n",
       "Revere PD                        0.000         0.000         0.000   \n",
       "Winthrop PD                      0.000         0.000         0.000   \n",
       "\n",
       "                                  2019  \n",
       "trial_court                      0.000  \n",
       "CPCS                             0.000  \n",
       "DOC                              0.000  \n",
       "Suffolk DA                       0.000  \n",
       "Suffolk Sheriff                  0.000  \n",
       "State_Police                     0.000  \n",
       "MBTA                      31640635.490  \n",
       "DAA                              0.000  \n",
       "MA Sheriff's Association         0.000  \n",
       "Parole Board                     0.000  \n",
       "CJT                              0.000  \n",
       "Supreme_Judicial_Court           0.000  \n",
       "Appeals_Court                    0.000  \n",
       "Boston PD                415725606.800  \n",
       "Chelsea PD                14734808.950  \n",
       "Revere PD                        0.000  \n",
       "Winthrop PD                      0.000  "
      ]
     },
     "execution_count": 36,
     "metadata": {},
     "output_type": "execute_result"
    }
   ],
   "source": [
    "hidden_payroll_df"
   ]
  },
  {
   "cell_type": "code",
   "execution_count": 37,
   "metadata": {},
   "outputs": [],
   "source": [
    "hidden_payroll_df.to_csv(\"Hidden_Payroll_Oct23.csv\")"
   ]
  },
  {
   "cell_type": "markdown",
   "metadata": {},
   "source": [
    "# Why use pdfs from MBTA site when there is payroll data for each year?\n",
    "I was using pdfs from https://www.mbta.com/financials/mbta-budget bt I'm not sure I have to do that. See if cthru payroll dataset has payroll for each yeat for MBTA"
   ]
  },
  {
   "cell_type": "code",
   "execution_count": 32,
   "metadata": {},
   "outputs": [
    {
     "data": {
      "text/html": [
       "<div>\n",
       "<style scoped>\n",
       "    .dataframe tbody tr th:only-of-type {\n",
       "        vertical-align: middle;\n",
       "    }\n",
       "\n",
       "    .dataframe tbody tr th {\n",
       "        vertical-align: top;\n",
       "    }\n",
       "\n",
       "    .dataframe thead th {\n",
       "        text-align: right;\n",
       "    }\n",
       "</style>\n",
       "<table border=\"1\" class=\"dataframe\">\n",
       "  <thead>\n",
       "    <tr style=\"text-align: right;\">\n",
       "      <th></th>\n",
       "      <th>Unnamed: 0</th>\n",
       "      <th>year</th>\n",
       "      <th>name_last</th>\n",
       "      <th>name_first</th>\n",
       "      <th>department_division</th>\n",
       "      <th>position_title</th>\n",
       "      <th>position_type</th>\n",
       "      <th>service_end_date</th>\n",
       "      <th>pay_total_actual</th>\n",
       "      <th>pay_base_actual</th>\n",
       "      <th>pay_buyout_actual</th>\n",
       "      <th>pay_overtime_actual</th>\n",
       "      <th>pay_other_actual</th>\n",
       "      <th>annual_rate</th>\n",
       "      <th>pay_year_to_date</th>\n",
       "      <th>department_location_zip_code</th>\n",
       "      <th>contract</th>\n",
       "      <th>bargaining_group_no</th>\n",
       "      <th>bargaining_group_title</th>\n",
       "      <th>trans_no</th>\n",
       "      <th>chris</th>\n",
       "      <th>police_pay</th>\n",
       "    </tr>\n",
       "  </thead>\n",
       "  <tbody>\n",
       "    <tr>\n",
       "      <th>0</th>\n",
       "      <td>0</td>\n",
       "      <td>2019</td>\n",
       "      <td>Calascibetta</td>\n",
       "      <td>Jack</td>\n",
       "      <td>Massachusetts Bay Transportation Authority (MBT)</td>\n",
       "      <td>Laborer,Track</td>\n",
       "      <td>Full Time Employee</td>\n",
       "      <td>2019-12-21T00:00:00.000</td>\n",
       "      <td>4883.750</td>\n",
       "      <td>4419.680</td>\n",
       "      <td>0.000</td>\n",
       "      <td>464.070</td>\n",
       "      <td>0.000</td>\n",
       "      <td>45964.620</td>\n",
       "      <td>4883.750</td>\n",
       "      <td>2129.000</td>\n",
       "      <td>MBTA L589 Carmen's Misc (M12)</td>\n",
       "      <td>M12</td>\n",
       "      <td>MBTA L589 Carmen's Misc</td>\n",
       "      <td>19592365</td>\n",
       "      <td>MBT</td>\n",
       "      <td>0.000</td>\n",
       "    </tr>\n",
       "    <tr>\n",
       "      <th>1</th>\n",
       "      <td>1</td>\n",
       "      <td>2019</td>\n",
       "      <td>Fitzgerald</td>\n",
       "      <td>Sean</td>\n",
       "      <td>Massachusetts Bay Transportation Authority (MBT)</td>\n",
       "      <td>Instructor</td>\n",
       "      <td>Full Time Employee</td>\n",
       "      <td>2019-12-21T00:00:00.000</td>\n",
       "      <td>105504.020</td>\n",
       "      <td>93646.800</td>\n",
       "      <td>0.000</td>\n",
       "      <td>11857.220</td>\n",
       "      <td>0.000</td>\n",
       "      <td>93288.000</td>\n",
       "      <td>105504.020</td>\n",
       "      <td>2127.000</td>\n",
       "      <td>MBTA ALL Alliance (M15)</td>\n",
       "      <td>M15</td>\n",
       "      <td>MBTA ALL Alliance</td>\n",
       "      <td>2201160</td>\n",
       "      <td>MBT</td>\n",
       "      <td>0.000</td>\n",
       "    </tr>\n",
       "    <tr>\n",
       "      <th>2</th>\n",
       "      <td>2</td>\n",
       "      <td>2018</td>\n",
       "      <td>Bell</td>\n",
       "      <td>Whitney</td>\n",
       "      <td>Massachusetts Bay Transportation Authority (MBT)</td>\n",
       "      <td>Officer,Police</td>\n",
       "      <td>Full Time Employee</td>\n",
       "      <td>2018-12-22T00:00:00.000</td>\n",
       "      <td>124245.270</td>\n",
       "      <td>68516.010</td>\n",
       "      <td>0.000</td>\n",
       "      <td>48294.730</td>\n",
       "      <td>7434.530</td>\n",
       "      <td>64591.800</td>\n",
       "      <td>124245.270</td>\n",
       "      <td>2118.000</td>\n",
       "      <td>MBTA Police Officers (M98)</td>\n",
       "      <td>M98</td>\n",
       "      <td>MBTA Police Officers</td>\n",
       "      <td>2238626</td>\n",
       "      <td>MBT</td>\n",
       "      <td>124245.270</td>\n",
       "    </tr>\n",
       "    <tr>\n",
       "      <th>3</th>\n",
       "      <td>3</td>\n",
       "      <td>2018</td>\n",
       "      <td>Talley</td>\n",
       "      <td>Tara</td>\n",
       "      <td>Massachusetts Bay Transportation Authority (MBT)</td>\n",
       "      <td>Motorperson,Spare RTL Yard</td>\n",
       "      <td>Full Time Employee</td>\n",
       "      <td>2018-12-22T00:00:00.000</td>\n",
       "      <td>19135.800</td>\n",
       "      <td>15491.520</td>\n",
       "      <td>0.000</td>\n",
       "      <td>3644.280</td>\n",
       "      <td>0.000</td>\n",
       "      <td>75707.580</td>\n",
       "      <td>19135.800</td>\n",
       "      <td>2155.000</td>\n",
       "      <td>MBTA L589 Carmen's Non-Misc (M11)</td>\n",
       "      <td>M11</td>\n",
       "      <td>MBTA L589 Carmen's Non-Misc</td>\n",
       "      <td>2168543</td>\n",
       "      <td>MBT</td>\n",
       "      <td>0.000</td>\n",
       "    </tr>\n",
       "    <tr>\n",
       "      <th>4</th>\n",
       "      <td>4</td>\n",
       "      <td>2019</td>\n",
       "      <td>Burt</td>\n",
       "      <td>Tash</td>\n",
       "      <td>Massachusetts Bay Transportation Authority (MBT)</td>\n",
       "      <td>Officer,Police</td>\n",
       "      <td>Full Time Employee</td>\n",
       "      <td>2019-12-21T00:00:00.000</td>\n",
       "      <td>138943.040</td>\n",
       "      <td>78845.950</td>\n",
       "      <td>0.000</td>\n",
       "      <td>58461.930</td>\n",
       "      <td>1635.160</td>\n",
       "      <td>68723.200</td>\n",
       "      <td>138943.040</td>\n",
       "      <td>2118.000</td>\n",
       "      <td>MBTA Police Officers (M98)</td>\n",
       "      <td>M98</td>\n",
       "      <td>MBTA Police Officers</td>\n",
       "      <td>19252181</td>\n",
       "      <td>MBT</td>\n",
       "      <td>138943.040</td>\n",
       "    </tr>\n",
       "  </tbody>\n",
       "</table>\n",
       "</div>"
      ],
      "text/plain": [
       "   Unnamed: 0  year     name_last name_first  \\\n",
       "0           0  2019  Calascibetta       Jack   \n",
       "1           1  2019    Fitzgerald       Sean   \n",
       "2           2  2018          Bell    Whitney   \n",
       "3           3  2018        Talley       Tara   \n",
       "4           4  2019          Burt       Tash   \n",
       "\n",
       "                                department_division  \\\n",
       "0  Massachusetts Bay Transportation Authority (MBT)   \n",
       "1  Massachusetts Bay Transportation Authority (MBT)   \n",
       "2  Massachusetts Bay Transportation Authority (MBT)   \n",
       "3  Massachusetts Bay Transportation Authority (MBT)   \n",
       "4  Massachusetts Bay Transportation Authority (MBT)   \n",
       "\n",
       "               position_title       position_type         service_end_date  \\\n",
       "0               Laborer,Track  Full Time Employee  2019-12-21T00:00:00.000   \n",
       "1                  Instructor  Full Time Employee  2019-12-21T00:00:00.000   \n",
       "2              Officer,Police  Full Time Employee  2018-12-22T00:00:00.000   \n",
       "3  Motorperson,Spare RTL Yard  Full Time Employee  2018-12-22T00:00:00.000   \n",
       "4              Officer,Police  Full Time Employee  2019-12-21T00:00:00.000   \n",
       "\n",
       "   pay_total_actual  pay_base_actual  pay_buyout_actual  pay_overtime_actual  \\\n",
       "0          4883.750         4419.680              0.000              464.070   \n",
       "1        105504.020        93646.800              0.000            11857.220   \n",
       "2        124245.270        68516.010              0.000            48294.730   \n",
       "3         19135.800        15491.520              0.000             3644.280   \n",
       "4        138943.040        78845.950              0.000            58461.930   \n",
       "\n",
       "   pay_other_actual  annual_rate  pay_year_to_date  \\\n",
       "0             0.000    45964.620          4883.750   \n",
       "1             0.000    93288.000        105504.020   \n",
       "2          7434.530    64591.800        124245.270   \n",
       "3             0.000    75707.580         19135.800   \n",
       "4          1635.160    68723.200        138943.040   \n",
       "\n",
       "   department_location_zip_code                           contract  \\\n",
       "0                      2129.000      MBTA L589 Carmen's Misc (M12)   \n",
       "1                      2127.000            MBTA ALL Alliance (M15)   \n",
       "2                      2118.000         MBTA Police Officers (M98)   \n",
       "3                      2155.000  MBTA L589 Carmen's Non-Misc (M11)   \n",
       "4                      2118.000         MBTA Police Officers (M98)   \n",
       "\n",
       "  bargaining_group_no       bargaining_group_title  trans_no chris  police_pay  \n",
       "0                 M12      MBTA L589 Carmen's Misc  19592365   MBT       0.000  \n",
       "1                 M15            MBTA ALL Alliance   2201160   MBT       0.000  \n",
       "2                 M98         MBTA Police Officers   2238626   MBT  124245.270  \n",
       "3                 M11  MBTA L589 Carmen's Non-Misc   2168543   MBT       0.000  \n",
       "4                 M98         MBTA Police Officers  19252181   MBT  138943.040  "
      ]
     },
     "execution_count": 32,
     "metadata": {},
     "output_type": "execute_result"
    }
   ],
   "source": [
    "MBTA = agencies[\"MBTA\"]\n",
    "pd.set_option(\"display.max.columns\",22)\n",
    "MBTA.payroll.head(5)"
   ]
  },
  {
   "cell_type": "code",
   "execution_count": 34,
   "metadata": {},
   "outputs": [
    {
     "data": {
      "text/plain": [
       "year\n",
       "2017   15234666.310\n",
       "2018   24217763.280\n",
       "2019   31640635.490\n",
       "2020   11782749.440\n",
       "Name: police_pay, dtype: float64"
      ]
     },
     "execution_count": 34,
     "metadata": {},
     "output_type": "execute_result"
    }
   ],
   "source": [
    "MBTA.payroll.groupby(\"year\").sum()[\"police_pay\"]"
   ]
  },
  {
   "cell_type": "code",
   "execution_count": 35,
   "metadata": {},
   "outputs": [
    {
     "data": {
      "text/plain": [
       "year\n",
       "2016   28140924.850\n",
       "2017   22662116.390\n",
       "2018   24217763.280\n",
       "2019   31640635.490\n",
       "Name: police_pay, dtype: float64"
      ]
     },
     "execution_count": 35,
     "metadata": {},
     "output_type": "execute_result"
    }
   ],
   "source": [
    "MBTA.payroll_expenditures_by_year"
   ]
  },
  {
   "cell_type": "markdown",
   "metadata": {},
   "source": [
    "# Double check"
   ]
  },
  {
   "cell_type": "markdown",
   "metadata": {},
   "source": [
    "downloaded all 2017 expenditures data for CPCS"
   ]
  },
  {
   "cell_type": "code",
   "execution_count": 38,
   "metadata": {},
   "outputs": [],
   "source": [
    "check_cpcs = pd.read_csv(\"cpcs_2019_expenditures.csv\")"
   ]
  },
  {
   "cell_type": "code",
   "execution_count": null,
   "metadata": {},
   "outputs": [],
   "source": [
    "pd.set_option(\"display.max.columns\", 25)\n",
    "check_cpcs[\"Amount\"] = check_cpcs[\"Amount\"].astype(float)"
   ]
  },
  {
   "cell_type": "code",
   "execution_count": 55,
   "metadata": {},
   "outputs": [],
   "source": [
    "old_payroll_calculation = check_cpcs[check_cpcs[\"Object_Code\"].str[1] == \"A\"][\"Amount\"].sum()"
   ]
  },
  {
   "cell_type": "code",
   "execution_count": 56,
   "metadata": {},
   "outputs": [],
   "source": [
    "new_payroll_calculation = check_cpcs[check_cpcs[\"Vendor\"]==\"CPC - SUMMARY PAYROLL\"][\"Amount\"].sum()"
   ]
  },
  {
   "cell_type": "code",
   "execution_count": null,
   "metadata": {},
   "outputs": [],
   "source": []
  },
  {
   "cell_type": "code",
   "execution_count": 57,
   "metadata": {},
   "outputs": [
    {
     "data": {
      "text/plain": [
       "1126680.1399999931"
      ]
     },
     "execution_count": 57,
     "metadata": {},
     "output_type": "execute_result"
    }
   ],
   "source": [
    "new_payroll_calculation - old_payroll_calculation"
   ]
  },
  {
   "cell_type": "markdown",
   "metadata": {},
   "source": []
  }
 ],
 "metadata": {
  "kernelspec": {
   "display_name": "Python 3",
   "language": "python",
   "name": "python3"
  },
  "language_info": {
   "codemirror_mode": {
    "name": "ipython",
    "version": 3
   },
   "file_extension": ".py",
   "mimetype": "text/x-python",
   "name": "python",
   "nbconvert_exporter": "python",
   "pygments_lexer": "ipython3",
   "version": "3.7.6"
  }
 },
 "nbformat": 4,
 "nbformat_minor": 4
}
