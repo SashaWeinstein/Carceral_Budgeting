{
 "cells": [
  {
   "cell_type": "markdown",
   "metadata": {},
   "source": [
    "# Find Correct Employer-Side Contributions\n",
    "For the calculation of a pension cost for each agency, we need the yearly employer-side contributions to the Masschusetts Statewide pension fund.\n",
    "There are two places a plausable measure of this yearly contribution show up in cthru:\n",
    "\n",
    "- object class = \"(DD) PENSION & INSURANCE RELATED EX\"\n",
    "- appropriation_name = \"(06121020) STATE RETIREMENT BD COMMONWEALTH PENSION\"\n",
    "\n",
    "The appropration name expenditures come out to 1.9ish billion per year, which is close to the number I can find the state budget [here](https://budget.digital.mass.gov/summary/fy20/enacted/independents/treasurer/treasurer?tab=budget-tracking) (look for line 0612-1020). \n",
    "\n",
    "It is probably true that the object_class expenditures include the teachers's retirement fund, but contributions to that fund total around 2.6 billion per year, so it's more money than both  "
   ]
  },
  {
   "cell_type": "code",
   "execution_count": 1,
   "metadata": {},
   "outputs": [],
   "source": [
    "%load_ext autoreload\n",
    "%autoreload 2"
   ]
  },
  {
   "cell_type": "code",
   "execution_count": 2,
   "metadata": {},
   "outputs": [],
   "source": [
    "from sodapy import Socrata\n",
    "app_token = \"2Qa1WiG8G4kj1vGVd2noK7zP0\"\n",
    "client = Socrata(\"cthru.data.socrata.com\", app_token)\n",
    "client.timeout = 40"
   ]
  },
  {
   "cell_type": "code",
   "execution_count": 4,
   "metadata": {},
   "outputs": [],
   "source": [
    "import pandas as pd\n",
    "pd.set_option(\"display.max.columns\",100)"
   ]
  },
  {
   "cell_type": "code",
   "execution_count": 11,
   "metadata": {},
   "outputs": [],
   "source": [
    "big_pensions = pd.DataFrame(client.get(\"pegc-naaa\", where = \"object_class = '(DD) PENSION & INSURANCE RELATED EX' AND budget_fiscal_year = 2020\",  limit=9999999))"
   ]
  },
  {
   "cell_type": "code",
   "execution_count": 14,
   "metadata": {},
   "outputs": [],
   "source": [
    "big_pensions[\"amount\"] = big_pensions[\"amount\"].astype(float)"
   ]
  },
  {
   "cell_type": "code",
   "execution_count": 17,
   "metadata": {},
   "outputs": [
    {
     "data": {
      "text/plain": [
       "object_code\n",
       "(D04) RETIREMENT ALLOWANCE-TEACHERS                                 3.290207e+09\n",
       "(D06) EMPLOYEE HEALTH & LIFE INSURANCE                              2.745379e+09\n",
       "(D05) RETIREMENT ALLOWANCE-STATE EMPLOYEES                          2.448302e+09\n",
       "(D09) FRINGE BENEFIT COST RECOUPMENT                                2.117431e+08\n",
       "(D08) HEALTH & WELFARE TRUST FUND                                   6.950973e+07\n",
       "(D01) RETIREMENT ALLOWANCES                                         3.618364e+07\n",
       "(D90) OPERATING TRANSFER                                            2.586526e+07\n",
       "(D12) UNEMPLOYMENT COMPENSATION INSURANCE PREMIUM PAYMENT           1.891380e+07\n",
       "(D20) PENSION & INSURANCE RELATED EXPENDITURES                      1.456065e+07\n",
       "(D10) SURETY OF EMPLOYEES                                           8.900861e+06\n",
       "(D19) UNIVERSAL HEALTH INSURANCE PAYMENTS                           5.902620e+06\n",
       "(D24) WORKERS' COMPENSATION  OR (IPP) PAYMENT                       5.053151e+06\n",
       "(D15) WORKERS' COMPENSATION CHARGEBACKS                             4.605661e+06\n",
       "(D23) GIC HEALTH CARE BUY-OUT                                       1.163874e+06\n",
       "(D14) MEDICARE TAX                                                  1.405180e+05\n",
       "(D17) MEDICAL EXPENSES                                              2.492620e+04\n",
       "(D21) HEALTH INS COSTS OF EMPLOY/LEAVE IN EXCESS OF 1 YR CHGBACK    6.706320e+03\n",
       "(D99) LATE PENALTY INTEREST                                         1.889000e+02\n",
       "Name: amount, dtype: float64"
      ]
     },
     "execution_count": 17,
     "metadata": {},
     "output_type": "execute_result"
    }
   ],
   "source": [
    "big_pensions.groupby(\"object_code\").sum()[\"amount\"].sort_values(ascending=False)"
   ]
  },
  {
   "cell_type": "code",
   "execution_count": 19,
   "metadata": {},
   "outputs": [
    {
     "name": "stderr",
     "output_type": "stream",
     "text": [
      "/opt/anaconda3/lib/python3.7/site-packages/pandas/core/strings.py:1952: UserWarning: This pattern has match groups. To actually get the groups, use str.extract.\n",
      "  return func(self, *args, **kwargs)\n"
     ]
    }
   ],
   "source": [
    "D05_code = big_pensions[big_pensions[\"object_code\"].str.contains(\"(D05)\")]"
   ]
  },
  {
   "cell_type": "code",
   "execution_count": 25,
   "metadata": {},
   "outputs": [
    {
     "data": {
      "text/plain": [
       "2448301953.73"
      ]
     },
     "execution_count": 25,
     "metadata": {},
     "output_type": "execute_result"
    }
   ],
   "source": [
    "D05_code[\"amount\"].sum()"
   ]
  },
  {
   "cell_type": "markdown",
   "metadata": {},
   "source": [
    "Ok this makes sense. This is payouts from pension fund per fiscal year, and the number here roughly matches the numbers at \n",
    "http://cthrupensions.mass.gov/#!/year/2020//pay1/explore/0-0-0/retirement_system"
   ]
  },
  {
   "cell_type": "markdown",
   "metadata": {},
   "source": [
    "So what we should be using is the appropriation name because we are looking for is employer-side contributions. This all makes sense I feel good about this"
   ]
  },
  {
   "cell_type": "markdown",
   "metadata": {},
   "source": [
    "Another important note: the state retirement benefits system seems to have complete data for 2020. This means that the \"year\" it explains is fiscal year, otherwise the numbers it shows would be incomplete.\n",
    "Payroll, however, is by calendar year as the 2020 number at this point is lower. "
   ]
  }
 ],
 "metadata": {
  "kernelspec": {
   "display_name": "Python 3",
   "language": "python",
   "name": "python3"
  },
  "language_info": {
   "codemirror_mode": {
    "name": "ipython",
    "version": 3
   },
   "file_extension": ".py",
   "mimetype": "text/x-python",
   "name": "python",
   "nbconvert_exporter": "python",
   "pygments_lexer": "ipython3",
   "version": "3.7.6"
  }
 },
 "nbformat": 4,
 "nbformat_minor": 4
}
