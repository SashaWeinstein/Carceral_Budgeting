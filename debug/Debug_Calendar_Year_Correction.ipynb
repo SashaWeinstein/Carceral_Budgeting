{
 "cells": [
  {
   "cell_type": "markdown",
   "metadata": {},
   "source": [
    "# Debug Calendar Year Correction"
   ]
  },
  {
   "cell_type": "code",
   "execution_count": 1,
   "metadata": {},
   "outputs": [],
   "source": [
    "%load_ext autoreload\n",
    "%autoreload 2"
   ]
  },
  {
   "cell_type": "code",
   "execution_count": 2,
   "metadata": {},
   "outputs": [],
   "source": [
    "import warnings\n",
    "warnings.simplefilter(action='ignore', category=FutureWarning)\n",
    "\n",
    "import pandas as pd\n",
    "import os\n",
    "import sys"
   ]
  },
  {
   "cell_type": "code",
   "execution_count": 3,
   "metadata": {},
   "outputs": [],
   "source": [
    "sys.path.insert(0, os.path.abspath(\"../\"))"
   ]
  },
  {
   "cell_type": "code",
   "execution_count": 15,
   "metadata": {
    "scrolled": false
   },
   "outputs": [
    {
     "name": "stderr",
     "output_type": "stream",
     "text": [
      "/opt/anaconda3/lib/python3.7/site-packages/pandas/core/frame.py:4133: SettingWithCopyWarning: \n",
      "A value is trying to be set on a copy of a slice from a DataFrame\n",
      "\n",
      "See the caveats in the documentation: https://pandas.pydata.org/pandas-docs/stable/user_guide/indexing.html#returning-a-view-versus-a-copy\n",
      "  errors=errors,\n",
      "/opt/anaconda3/lib/python3.7/site-packages/pandas/core/generic.py:6245: SettingWithCopyWarning: \n",
      "A value is trying to be set on a copy of a slice from a DataFrame\n",
      "\n",
      "See the caveats in the documentation: https://pandas.pydata.org/pandas-docs/stable/user_guide/indexing.html#returning-a-view-versus-a-copy\n",
      "  self._update_inplace(new_data)\n",
      "/Users/alexanderweinstein/Documents/Harris/Summer2020/Carceral_Budgeting/Exploratory/pensions/State_Pensions_2Ver.py:142: SettingWithCopyWarning: \n",
      "A value is trying to be set on a copy of a slice from a DataFrame.\n",
      "Try using .loc[row_indexer,col_indexer] = value instead\n",
      "\n",
      "See the caveats in the documentation: https://pandas.pydata.org/pandas-docs/stable/user_guide/indexing.html#returning-a-view-versus-a-copy\n",
      "  cthru_pensions.rename(columns={\"department_last_worked_in\": \"department\"}, inplace=True)\n"
     ]
    },
    {
     "name": "stdout",
     "output_type": "stream",
     "text": [
      "payouts by agency\n"
     ]
    },
    {
     "data": {
      "text/html": [
       "<div>\n",
       "<style scoped>\n",
       "    .dataframe tbody tr th:only-of-type {\n",
       "        vertical-align: middle;\n",
       "    }\n",
       "\n",
       "    .dataframe tbody tr th {\n",
       "        vertical-align: top;\n",
       "    }\n",
       "\n",
       "    .dataframe thead th {\n",
       "        text-align: right;\n",
       "    }\n",
       "</style>\n",
       "<table border=\"1\" class=\"dataframe\">\n",
       "  <thead>\n",
       "    <tr style=\"text-align: right;\">\n",
       "      <th></th>\n",
       "      <th>2015</th>\n",
       "      <th>2016</th>\n",
       "      <th>2017</th>\n",
       "      <th>2018</th>\n",
       "      <th>2019</th>\n",
       "      <th>2020</th>\n",
       "    </tr>\n",
       "    <tr>\n",
       "      <th>agency_class</th>\n",
       "      <th></th>\n",
       "      <th></th>\n",
       "      <th></th>\n",
       "      <th></th>\n",
       "      <th></th>\n",
       "      <th></th>\n",
       "    </tr>\n",
       "  </thead>\n",
       "  <tbody>\n",
       "    <tr>\n",
       "      <th>Appeals_Court</th>\n",
       "      <td>3172818.120</td>\n",
       "      <td>3732167.040</td>\n",
       "      <td>4067035.560</td>\n",
       "      <td>4262049.000</td>\n",
       "      <td>4491914.760</td>\n",
       "      <td>5196010.800</td>\n",
       "    </tr>\n",
       "    <tr>\n",
       "      <th>CPCS</th>\n",
       "      <td>3034155.960</td>\n",
       "      <td>3380174.880</td>\n",
       "      <td>3863402.280</td>\n",
       "      <td>4381739.400</td>\n",
       "      <td>4892461.680</td>\n",
       "      <td>5394152.400</td>\n",
       "    </tr>\n",
       "    <tr>\n",
       "      <th>DAA</th>\n",
       "      <td>91116.240</td>\n",
       "      <td>91896.240</td>\n",
       "      <td>92676.240</td>\n",
       "      <td>130776.120</td>\n",
       "      <td>131946.120</td>\n",
       "      <td>190675.800</td>\n",
       "    </tr>\n",
       "    <tr>\n",
       "      <th>Parole_Board</th>\n",
       "      <td>6451692.600</td>\n",
       "      <td>7040220.960</td>\n",
       "      <td>7712126.400</td>\n",
       "      <td>8350993.560</td>\n",
       "      <td>8902523.160</td>\n",
       "      <td>9050466.000</td>\n",
       "    </tr>\n",
       "    <tr>\n",
       "      <th>State_Police</th>\n",
       "      <td>93837159.600</td>\n",
       "      <td>99838726.440</td>\n",
       "      <td>105454800.480</td>\n",
       "      <td>118238221.800</td>\n",
       "      <td>131025191.040</td>\n",
       "      <td>140765458.080</td>\n",
       "    </tr>\n",
       "    <tr>\n",
       "      <th>Suffolk_DA</th>\n",
       "      <td>1629227.040</td>\n",
       "      <td>1694742.720</td>\n",
       "      <td>1840091.040</td>\n",
       "      <td>1963406.520</td>\n",
       "      <td>2237308.680</td>\n",
       "      <td>2407097.160</td>\n",
       "    </tr>\n",
       "    <tr>\n",
       "      <th>Suffolk_Sheriff</th>\n",
       "      <td>6956098.560</td>\n",
       "      <td>7841415.120</td>\n",
       "      <td>9092479.800</td>\n",
       "      <td>10314997.680</td>\n",
       "      <td>12248359.440</td>\n",
       "      <td>15105470.760</td>\n",
       "    </tr>\n",
       "    <tr>\n",
       "      <th>Supreme_Judicial_Court</th>\n",
       "      <td>2320508.880</td>\n",
       "      <td>2770387.200</td>\n",
       "      <td>2614433.040</td>\n",
       "      <td>2581573.200</td>\n",
       "      <td>2825463.240</td>\n",
       "      <td>2804389.560</td>\n",
       "    </tr>\n",
       "    <tr>\n",
       "      <th>trial_court</th>\n",
       "      <td>83768198.760</td>\n",
       "      <td>95174289.960</td>\n",
       "      <td>102961691.400</td>\n",
       "      <td>109823973.240</td>\n",
       "      <td>117167079.480</td>\n",
       "      <td>129292855.440</td>\n",
       "    </tr>\n",
       "    <tr>\n",
       "      <th>DOC</th>\n",
       "      <td>17027038.422</td>\n",
       "      <td>18916722.265</td>\n",
       "      <td>19307894.280</td>\n",
       "      <td>20461327.830</td>\n",
       "      <td>21492435.035</td>\n",
       "      <td>20572290.832</td>\n",
       "    </tr>\n",
       "  </tbody>\n",
       "</table>\n",
       "</div>"
      ],
      "text/plain": [
       "                               2015         2016          2017          2018  \\\n",
       "agency_class                                                                   \n",
       "Appeals_Court           3172818.120  3732167.040   4067035.560   4262049.000   \n",
       "CPCS                    3034155.960  3380174.880   3863402.280   4381739.400   \n",
       "DAA                       91116.240    91896.240     92676.240    130776.120   \n",
       "Parole_Board            6451692.600  7040220.960   7712126.400   8350993.560   \n",
       "State_Police           93837159.600 99838726.440 105454800.480 118238221.800   \n",
       "Suffolk_DA              1629227.040  1694742.720   1840091.040   1963406.520   \n",
       "Suffolk_Sheriff         6956098.560  7841415.120   9092479.800  10314997.680   \n",
       "Supreme_Judicial_Court  2320508.880  2770387.200   2614433.040   2581573.200   \n",
       "trial_court            83768198.760 95174289.960 102961691.400 109823973.240   \n",
       "DOC                    17027038.422 18916722.265  19307894.280  20461327.830   \n",
       "\n",
       "                                2019          2020  \n",
       "agency_class                                        \n",
       "Appeals_Court            4491914.760   5196010.800  \n",
       "CPCS                     4892461.680   5394152.400  \n",
       "DAA                       131946.120    190675.800  \n",
       "Parole_Board             8902523.160   9050466.000  \n",
       "State_Police           131025191.040 140765458.080  \n",
       "Suffolk_DA               2237308.680   2407097.160  \n",
       "Suffolk_Sheriff         12248359.440  15105470.760  \n",
       "Supreme_Judicial_Court   2825463.240   2804389.560  \n",
       "trial_court            117167079.480 129292855.440  \n",
       "DOC                     21492435.035  20572290.832  "
      ]
     },
     "metadata": {},
     "output_type": "display_data"
    },
    {
     "name": "stdout",
     "output_type": "stream",
     "text": [
      "payouts by year total\n"
     ]
    },
    {
     "data": {
      "text/plain": [
       "year\n",
       "2015   1930341574.080\n",
       "2016   2029790764.800\n",
       "2017   2119205743.560\n",
       "2018   2217065330.760\n",
       "2019   2327080049.520\n",
       "2020   2410938486.360\n",
       "Name: annual_amount, dtype: float64"
      ]
     },
     "metadata": {},
     "output_type": "display_data"
    },
    {
     "name": "stdout",
     "output_type": "stream",
     "text": [
      "column named 2015 from dataframe of payout percentage\n"
     ]
    },
    {
     "data": {
      "text/plain": [
       "agency_class\n",
       "Appeals_Court             NaN\n",
       "CPCS                      NaN\n",
       "DAA                       NaN\n",
       "Parole_Board              NaN\n",
       "State_Police              NaN\n",
       "Suffolk_DA                NaN\n",
       "Suffolk_Sheriff           NaN\n",
       "Supreme_Judicial_Court    NaN\n",
       "trial_court               NaN\n",
       "DOC                       NaN\n",
       "Name: 2015, dtype: object"
      ]
     },
     "metadata": {},
     "output_type": "display_data"
    },
    {
     "name": "stderr",
     "output_type": "stream",
     "text": [
      "/Users/alexanderweinstein/Documents/Harris/Summer2020/Carceral_Budgeting/Exploratory/Initialize_Agencies_3Ver.py:5: DtypeWarning: Columns (16) have mixed types.Specify dtype option on import or set low_memory=False.\n",
      "  from Agency_Classes_2Ver import StateAgency, MBTA, BostonPD, ChelseaPD, ReverePD, WinthropPD\n"
     ]
    }
   ],
   "source": [
    "from Initialize_Agencies_3Ver import get_agencies"
   ]
  },
  {
   "cell_type": "code",
   "execution_count": 16,
   "metadata": {
    "scrolled": false
   },
   "outputs": [
    {
     "name": "stderr",
     "output_type": "stream",
     "text": [
      "/Users/alexanderweinstein/Documents/Harris/Summer2020/Carceral_Budgeting/Exploratory/Agency_Classes_2Ver.py:162: DtypeWarning: Columns (16) have mixed types.Specify dtype option on import or set low_memory=False.\n",
      "  self.get_expenditures_by_year()\n",
      "/Users/alexanderweinstein/Documents/Harris/Summer2020/Carceral_Budgeting/Exploratory/Agency_Classes_2Ver.py:162: DtypeWarning: Columns (15,16) have mixed types.Specify dtype option on import or set low_memory=False.\n",
      "  self.get_expenditures_by_year()\n"
     ]
    },
    {
     "name": "stdout",
     "output_type": "stream",
     "text": [
      "\n"
     ]
    }
   ],
   "source": [
    "yr = list(range(2016,2020))\n",
    "agencies = get_agencies(yr)"
   ]
  },
  {
   "cell_type": "markdown",
   "metadata": {},
   "source": [
    "## Check that new methodology with pensions works"
   ]
  },
  {
   "cell_type": "code",
   "execution_count": 17,
   "metadata": {},
   "outputs": [],
   "source": [
    "trial_court=agencies[\"trial_court\"]"
   ]
  },
  {
   "cell_type": "code",
   "execution_count": 18,
   "metadata": {},
   "outputs": [
    {
     "data": {
      "text/plain": [
       "2016   76544987.992\n",
       "2017   84735743.379\n",
       "2018   89550572.011\n",
       "2019   95347249.530\n",
       "Name: trial_court, dtype: object"
      ]
     },
     "execution_count": 18,
     "metadata": {},
     "output_type": "execute_result"
    }
   ],
   "source": [
    "trial_court.pensions"
   ]
  },
  {
   "cell_type": "code",
   "execution_count": null,
   "metadata": {},
   "outputs": [],
   "source": []
  },
  {
   "cell_type": "code",
   "execution_count": null,
   "metadata": {},
   "outputs": [],
   "source": []
  },
  {
   "cell_type": "code",
   "execution_count": null,
   "metadata": {},
   "outputs": [],
   "source": []
  },
  {
   "cell_type": "code",
   "execution_count": null,
   "metadata": {},
   "outputs": [],
   "source": []
  }
 ],
 "metadata": {
  "kernelspec": {
   "display_name": "Python 3",
   "language": "python",
   "name": "python3"
  },
  "language_info": {
   "codemirror_mode": {
    "name": "ipython",
    "version": 3
   },
   "file_extension": ".py",
   "mimetype": "text/x-python",
   "name": "python",
   "nbconvert_exporter": "python",
   "pygments_lexer": "ipython3",
   "version": "3.7.6"
  }
 },
 "nbformat": 4,
 "nbformat_minor": 4
}
