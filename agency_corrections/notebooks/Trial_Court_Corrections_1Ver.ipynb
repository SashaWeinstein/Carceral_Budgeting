{
 "cells": [
  {
   "cell_type": "markdown",
   "metadata": {},
   "source": [
    "# Trial Court Corrections\n",
    "Start looking at data from https://www.mass.gov/court-data-metrics-reports"
   ]
  },
  {
   "cell_type": "code",
   "execution_count": 1,
   "metadata": {},
   "outputs": [],
   "source": [
    "%load_ext autoreload\n",
    "%autoreload 2"
   ]
  },
  {
   "cell_type": "markdown",
   "metadata": {},
   "source": [
    "At the bottom of this page https://www.mass.gov/lists/trial-court-statistics-for-fiscal-year-2019 there is a file titled \"Year End Summary of All Court Activity.\" The numbers that match Bobby's are the line \"Criminal\" under sub-heading \"Criminal Matters.\" Question for Bobby: why use \"Criminal\" instead of all cases under sub-heading \"Criminal Matters\"?"
   ]
  },
  {
   "cell_type": "markdown",
   "metadata": {},
   "source": [
    "Next Bobby has a row titled \"Trial Court Criminal Cases Suffolk County (Boston Municipal Court + Chelsea + Superior + Juvenile)\" which is 26576 for 2019"
   ]
  },
  {
   "cell_type": "code",
   "execution_count": 2,
   "metadata": {},
   "outputs": [
    {
     "data": {
      "text/plain": [
       "25984"
      ]
     },
     "execution_count": 2,
     "metadata": {},
     "output_type": "execute_result"
    }
   ],
   "source": [
    "BMC_total_criminal_2019 = 20456\n",
    "juvenile_suffolk_2019 = 4077\n",
    "superior_court_criminal_2019 = 1451\n",
    "BMC_total_criminal_2019 + juvenile_suffolk_2019 + superior_court_criminal_2019"
   ]
  },
  {
   "cell_type": "markdown",
   "metadata": {},
   "source": [
    "The only place I could find Chelsea data is row under \"Criminal Filings by Court Location\" where they say Chelsea has 3144 criminal defender. Not sure where the chelsea-specific data that makes up the last 600ish cases comes from. But maybe this section of the report uses SCDAO-specific data anyways. Bobby probably told me multiple times and I forgot."
   ]
  },
  {
   "cell_type": "code",
   "execution_count": null,
   "metadata": {},
   "outputs": [],
   "source": []
  }
 ],
 "metadata": {
  "kernelspec": {
   "display_name": "Python 3",
   "language": "python",
   "name": "python3"
  },
  "language_info": {
   "codemirror_mode": {
    "name": "ipython",
    "version": 3
   },
   "file_extension": ".py",
   "mimetype": "text/x-python",
   "name": "python",
   "nbconvert_exporter": "python",
   "pygments_lexer": "ipython3",
   "version": "3.7.6"
  }
 },
 "nbformat": 4,
 "nbformat_minor": 4
}
