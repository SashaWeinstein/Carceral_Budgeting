{
 "cells": [
  {
   "cell_type": "markdown",
   "metadata": {},
   "source": [
    "# State Police Correction"
   ]
  },
  {
   "cell_type": "markdown",
   "metadata": {},
   "source": [
    "At https://www.mass.gov/info-details/massachusetts-state-police-troop-boundaries they divide the state up into 6 divisions. Each division is divided up in barracks, barracks seem to be associated with a particular town. \n",
    "Suffolk County seems to span multiple divisions because Revere and Boston barracks are in different divisions. No barracks for Chelsea"
   ]
  },
  {
   "cell_type": "markdown",
   "metadata": {},
   "source": [
    "https://www.mass.gov/locations/state-police-revere-barracks Revere barracks is responsible for patrolling Chelsea, wintrhop"
   ]
  },
  {
   "cell_type": "markdown",
   "metadata": {},
   "source": [
    "Boston has two barracks"
   ]
  },
  {
   "cell_type": "markdown",
   "metadata": {},
   "source": [
    "Can we find employees per barrack in massachussets state police system? I can't"
   ]
  },
  {
   "cell_type": "markdown",
   "metadata": {},
   "source": [
    "New data source"
   ]
  },
  {
   "cell_type": "code",
   "execution_count": 19,
   "metadata": {},
   "outputs": [],
   "source": [
    "import pandas as pd"
   ]
  },
  {
   "cell_type": "code",
   "execution_count": 20,
   "metadata": {},
   "outputs": [],
   "source": [
    "tickets = pd.read_csv(\"../data/Agency_Corrections/state_police/state_police_tickets.csv\")"
   ]
  },
  {
   "cell_type": "code",
   "execution_count": 21,
   "metadata": {},
   "outputs": [],
   "source": [
    "pd.set_option(\"display.max.columns\",33)"
   ]
  },
  {
   "cell_type": "code",
   "execution_count": 22,
   "metadata": {},
   "outputs": [],
   "source": [
    "tickets[\"year\"] = pd.to_datetime(tickets[\"Date\"]).dt.year"
   ]
  },
  {
   "cell_type": "code",
   "execution_count": 23,
   "metadata": {},
   "outputs": [],
   "source": [
    "boston_hoods = [\"brighton\", \"charlestown\", \"dorchester\", \"roxbury\", \"boston\", \"chelsea\", \"revere\", \"winthrop\"]\n",
    "def bos_ticket(x):\n",
    "    for h in boston_hoods:\n",
    "        if h in x.lower():\n",
    "            return True\n",
    "    return False"
   ]
  },
  {
   "cell_type": "code",
   "execution_count": 24,
   "metadata": {},
   "outputs": [],
   "source": [
    "tickets[\"Boston Ticket\"] = [bos_ticket(x) for x in tickets[\"Location\"]]"
   ]
  },
  {
   "cell_type": "code",
   "execution_count": 25,
   "metadata": {},
   "outputs": [
    {
     "data": {
      "text/plain": [
       "0.16996778765622986"
      ]
     },
     "execution_count": 25,
     "metadata": {},
     "output_type": "execute_result"
    }
   ],
   "source": [
    "tickets[\"Boston Ticket\"].sum() / tickets.shape[0]"
   ]
  },
  {
   "cell_type": "code",
   "execution_count": 26,
   "metadata": {},
   "outputs": [
    {
     "data": {
      "text/plain": [
       "year\n",
       "2015    0.180875\n",
       "2016    0.158824\n",
       "dtype: float64"
      ]
     },
     "execution_count": 26,
     "metadata": {},
     "output_type": "execute_result"
    }
   ],
   "source": [
    "tickets[tickets[\"Boston Ticket\"]].groupby(\"year\").size() /tickets.groupby(\"year\").size()"
   ]
  },
  {
   "cell_type": "code",
   "execution_count": 27,
   "metadata": {},
   "outputs": [
    {
     "data": {
      "text/plain": [
       "0        2015-06-01\n",
       "1120     2015-06-01\n",
       "1130     2015-06-01\n",
       "2590     2015-06-01\n",
       "246      2015-06-01\n",
       "            ...    \n",
       "193699   2016-07-26\n",
       "193390   2016-07-26\n",
       "194016   2016-07-26\n",
       "193712   2016-07-26\n",
       "194011   2016-07-27\n",
       "Name: Date, Length: 194025, dtype: datetime64[ns]"
      ]
     },
     "execution_count": 27,
     "metadata": {},
     "output_type": "execute_result"
    }
   ],
   "source": [
    "pd.to_datetime(tickets[\"Date\"]).sort_values()"
   ]
  },
  {
   "cell_type": "markdown",
   "metadata": {},
   "source": [
    "Even if it's only a year of data that barely overlaps with our time frame I'm ok with using it, doubt what the state cops do changes so much year to year. Check with Bobby before I implement"
   ]
  },
  {
   "cell_type": "code",
   "execution_count": 28,
   "metadata": {},
   "outputs": [
    {
     "data": {
      "text/plain": [
       "(194025, 36)"
      ]
     },
     "execution_count": 28,
     "metadata": {},
     "output_type": "execute_result"
    }
   ],
   "source": [
    "tickets.shape"
   ]
  },
  {
   "cell_type": "code",
   "execution_count": 29,
   "metadata": {},
   "outputs": [
    {
     "data": {
      "text/plain": [
       "Location\n",
       "BOSTON             10296\n",
       "HOPKINTON           5274\n",
       "WORCESTER           4747\n",
       "SOUTH BOSTON        4729\n",
       "SPRINGFIELD         4623\n",
       "STURBRIDGE          4605\n",
       "AUBURN              4535\n",
       "BRIGHTON            4451\n",
       "BLANDFORD           4201\n",
       "CHARLTON            3994\n",
       "FRAMINGHAM          3654\n",
       "EAST BOSTON         3456\n",
       "CHARLESTOWN/BOS     3416\n",
       "CHICOPEE            3404\n",
       "LUDLOW              3239\n",
       "WESTON              3052\n",
       "WESTFIELD           2871\n",
       "DORCHESTER          2402\n",
       "PALMER              2179\n",
       "MEDFORD             1943\n",
       "HOLYOKE             1917\n",
       "WESTBOROUGH         1835\n",
       "BARNSTABLE          1731\n",
       "ANDOVER             1702\n",
       "ROXBURY/BOSTON      1692\n",
       "NEWTON              1685\n",
       "QUINCY              1683\n",
       "CANTON              1646\n",
       "NORTHBOROUGH        1522\n",
       "LEOMINSTER          1517\n",
       "MILLBURY            1501\n",
       "REVERE              1434\n",
       "LEE                 1408\n",
       "SHREWSBURY          1399\n",
       "BRIMFIELD           1391\n",
       "GRAFTON             1356\n",
       "GREENFIELD          1319\n",
       "SOUTHBOROUGH        1300\n",
       "HARVARD             1298\n",
       "WOBURN              1276\n",
       "FALL RIVER          1246\n",
       "RAYNHAM             1233\n",
       "CAMBRIDGE           1223\n",
       "PEABODY             1189\n",
       "UXBRIDGE            1178\n",
       "BECKET              1168\n",
       "MILTON              1165\n",
       "BROCKTON            1161\n",
       "MILFORD             1161\n",
       "DEERFIELD           1137\n",
       "dtype: int64"
      ]
     },
     "execution_count": 29,
     "metadata": {},
     "output_type": "execute_result"
    }
   ],
   "source": [
    "pd.set_option(\"display.max.rows\", 50)\n",
    "tickets.groupby(\"Location\").size().sort_values(ascending=False).head(50)"
   ]
  },
  {
   "cell_type": "code",
   "execution_count": 30,
   "metadata": {},
   "outputs": [],
   "source": [
    "# tickets.to_csv(\"/Users/alexanderweinstein/Documents/Harris/Summer2020/Carceral_Budgeting/Exploratory/data/Agency_Corrections/state_police/state_police_tickets.csv\")"
   ]
  },
  {
   "cell_type": "code",
   "execution_count": 31,
   "metadata": {},
   "outputs": [
    {
     "data": {
      "text/plain": [
       "array(['WINTHROP       '], dtype=object)"
      ]
     },
     "execution_count": 31,
     "metadata": {},
     "output_type": "execute_result"
    }
   ],
   "source": [
    "tickets[tickets[\"Location\"].str.contains(\"WINTHROP\")][\"Location\"].unique()"
   ]
  },
  {
   "cell_type": "code",
   "execution_count": null,
   "metadata": {},
   "outputs": [],
   "source": []
  }
 ],
 "metadata": {
  "kernelspec": {
   "display_name": "Python 3",
   "language": "python",
   "name": "python3"
  },
  "language_info": {
   "codemirror_mode": {
    "name": "ipython",
    "version": 3
   },
   "file_extension": ".py",
   "mimetype": "text/x-python",
   "name": "python",
   "nbconvert_exporter": "python",
   "pygments_lexer": "ipython3",
   "version": "3.7.6"
  }
 },
 "nbformat": 4,
 "nbformat_minor": 4
}
