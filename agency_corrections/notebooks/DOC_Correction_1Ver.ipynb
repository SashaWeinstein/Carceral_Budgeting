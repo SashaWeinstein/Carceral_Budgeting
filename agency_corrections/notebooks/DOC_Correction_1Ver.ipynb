{
 "cells": [
  {
   "cell_type": "markdown",
   "metadata": {},
   "source": [
    "# DOC Correction"
   ]
  },
  {
   "cell_type": "code",
   "execution_count": 3,
   "metadata": {},
   "outputs": [],
   "source": [
    "%load_ext autoreload\n",
    "%autoreload 2"
   ]
  },
  {
   "cell_type": "code",
   "execution_count": 4,
   "metadata": {},
   "outputs": [],
   "source": [
    "import pandas as pd"
   ]
  },
  {
   "cell_type": "markdown",
   "metadata": {},
   "source": [
    "Found https://www.mass.gov/service-details/data-dashboards which has a ton of information. Not sure how to get df from  Tableau interactive though. Can't find where cases originated from either in that data. Maybe what we can do it take number of people Suffolk DA sent to jail out of total admissions? Ask Bobby if we can get that data on SCDAO side"
   ]
  },
  {
   "cell_type": "markdown",
   "metadata": {},
   "source": [
    "I also got to here https://www.mass.gov/report/research-reports <br>\n",
    "https://www.mass.gov/lists/communities-inmates-released-to has the communities inmates are released to <br>\n",
    "https://www.mass.gov/lists/prison-population-trends also has communities inmates are released for the years we are looking at <br>\n",
    "https://www.mass.gov/lists/admissions-and-releases has Criminally Sentenced New Court Commitments by Court Jurisdiction which is the closest to what we want"
   ]
  },
  {
   "cell_type": "markdown",
   "metadata": {},
   "source": [
    "The 2019 third quarter document has a total of "
   ]
  },
  {
   "cell_type": "code",
   "execution_count": 5,
   "metadata": {},
   "outputs": [
    {
     "data": {
      "text/plain": [
       "1613"
      ]
     },
     "execution_count": 5,
     "metadata": {},
     "output_type": "execute_result"
    }
   ],
   "source": [
    "437+433+359+384"
   ]
  },
  {
   "cell_type": "markdown",
   "metadata": {},
   "source": [
    "New admissions for calendar year 2018.<br> \n",
    "Asterisk at bottom of chart tells us: Excludes county, federal, and out-of-state inmates. We don't have to worry ab federal inmates. I don't know how many out of state inmates there are. In the 2016 report on where inmates are released to, 131 out of 2328 inmates were released to outside MA which is trivial, so we can ignore. According to Bobby, \"county inmates\" are inmates the DOC is holding instead of local sheriff's departments because of concerns about fighting in local pens."
   ]
  },
  {
   "cell_type": "markdown",
   "metadata": {},
   "source": [
    "My current understanding: there are a group of total admissions to DOC custody each year. Of these, some are pre-trial, some are criminal, some are civil, and some are pre-trial. <br>\n",
    "Question for Bobby: do we care about the civil admissions to DOC custody? Answer is no<br>\n",
    "\n"
   ]
  },
  {
   "cell_type": "markdown",
   "metadata": {},
   "source": [
    "Ok so current plan: all non-civil admissions we count. Out of this group of non-civil admissions, we assume that % of admissions that are from suffolk is the same as the % of new court commitments that are from suffolk. It's the best we can do with the information on mass.gov"
   ]
  },
  {
   "cell_type": "markdown",
   "metadata": {},
   "source": [
    "We only need two pdf's to span 2016 through (most of) 2019 where the data ends. They are the admissions releases report https://www.mass.gov/lists/admissions-and-releases from 2017 quarter one and 2019 quarter 3. Both are saved in /Users/alexanderweinstein/Documents/Harris/Summer2020/Carceral_Budgeting/Exploratory/data/Agency_Corrections/DOC/Admissions_Releases..."
   ]
  },
  {
   "cell_type": "code",
   "execution_count": 6,
   "metadata": {},
   "outputs": [],
   "source": [
    "from itertools import permutations, combinations, product\n",
    "  \n",
    " \n",
    "quarters =[str(x[0]) + \" \" + x[1] for x in  product(list(range(2016,2020)), [\"Q\" + str(x) for x in range(1,5)]) ]"
   ]
  },
  {
   "cell_type": "code",
   "execution_count": 7,
   "metadata": {},
   "outputs": [
    {
     "data": {
      "text/plain": [
       "0.19528828270303783"
      ]
     },
     "execution_count": 7,
     "metadata": {},
     "output_type": "execute_result"
    }
   ],
   "source": [
    "df = pd.DataFrame(columns = quarters)\n",
    "\n",
    "df.loc[\"Suffolk Admits\", \"2016 Q1\"] = 72\n",
    "df.loc[\"Total Admits\", \"2016 Q1\"] = 439\n",
    "\n",
    "df.loc[\"Suffolk Admits\", \"2016 Q2\"] = 79\n",
    "df.loc[\"Total Admits\", \"2016 Q2\"] = 416\n",
    "\n",
    "df.loc[\"Suffolk Admits\",\"2016 Q3\"] = 41 \n",
    "df.loc[\"Total Admits\",\"2016 Q3\"] = 385\n",
    "\n",
    "df.loc[\"Suffolk Admits\",\"2016 Q4\"] = 74\n",
    "df.loc[\"Total Admits\",\"2016 Q4\"] = 387\n",
    "\n",
    "df.loc[\"Suffolk Admits\",\"2017 Q1\"] = 71\n",
    "df.loc[\"Total Admits\",\"2017 Q1\"] = 500\n",
    "\n",
    "df.loc[\"Suffolk Admits\",\"2017 Q2\"] = 83\n",
    "df.loc[\"Total Admits\",\"2017 Q2\"] = 440\n",
    "\n",
    "df.loc[\"Suffolk Admits\",\"2017 Q3\"] = 61\n",
    "df.loc[\"Total Admits\",\"2017 Q3\"] = 372\n",
    "\n",
    "df.loc[\"Suffolk Admits\",\"2017 Q4\"] = 77\n",
    "df.loc[\"Total Admits\",\"2017 Q4\"] = 426\n",
    "\n",
    "df.loc[\"Suffolk Admits\",\"2018 Q1\"] = 83\n",
    "df.loc[\"Total Admits\",\"2018 Q1\"] = 437\n",
    "\n",
    "df.loc[\"Suffolk Admits\",\"2018 Q2\"] = 84\n",
    "df.loc[\"Total Admits\",\"2018 Q2\"] = 433\n",
    "\n",
    "df.loc[\"Suffolk Admits\",\"2018 Q3\"] = 72\n",
    "df.loc[\"Total Admits\",\"2018 Q3\"] = 359\n",
    "\n",
    "df.loc[\"Suffolk Admits\",\"2018 Q4\"] = 76\n",
    "df.loc[\"Total Admits\",\"2018 Q4\"] = 384\n",
    "\n",
    "df.loc[:,df.columns.str.contains(\"2018\")].iloc[0,:].sum()/\\\n",
    "df.loc[:,df.columns.str.contains(\"2018\")].iloc[1,:].sum()"
   ]
  },
  {
   "cell_type": "code",
   "execution_count": 8,
   "metadata": {},
   "outputs": [],
   "source": [
    "df.loc[\"Suffolk Admits\",\"2019 Q1\"] = 70\n",
    "df.loc[\"Total Admits\",\"2019 Q1\"] = 431\n",
    "\n",
    "df.loc[\"Suffolk Admits\",\"2019 Q2\"] = 90\n",
    "df.loc[\"Total Admits\",\"2019 Q2\"] = 433\n",
    "\n",
    "df.loc[\"Suffolk Admits\",\"2019 Q3\"] = 64\n",
    "df.loc[\"Total Admits\",\"2019 Q3\"] = 364"
   ]
  },
  {
   "cell_type": "code",
   "execution_count": 9,
   "metadata": {},
   "outputs": [
    {
     "data": {
      "text/html": [
       "<div>\n",
       "<style scoped>\n",
       "    .dataframe tbody tr th:only-of-type {\n",
       "        vertical-align: middle;\n",
       "    }\n",
       "\n",
       "    .dataframe tbody tr th {\n",
       "        vertical-align: top;\n",
       "    }\n",
       "\n",
       "    .dataframe thead th {\n",
       "        text-align: right;\n",
       "    }\n",
       "</style>\n",
       "<table border=\"1\" class=\"dataframe\">\n",
       "  <thead>\n",
       "    <tr style=\"text-align: right;\">\n",
       "      <th></th>\n",
       "      <th>2016 Q1</th>\n",
       "      <th>2016 Q2</th>\n",
       "      <th>2016 Q3</th>\n",
       "      <th>2016 Q4</th>\n",
       "      <th>2017 Q1</th>\n",
       "      <th>2017 Q2</th>\n",
       "      <th>2017 Q3</th>\n",
       "      <th>2017 Q4</th>\n",
       "      <th>2018 Q1</th>\n",
       "      <th>2018 Q2</th>\n",
       "      <th>2018 Q3</th>\n",
       "      <th>2018 Q4</th>\n",
       "      <th>2019 Q1</th>\n",
       "      <th>2019 Q2</th>\n",
       "      <th>2019 Q3</th>\n",
       "      <th>2019 Q4</th>\n",
       "    </tr>\n",
       "  </thead>\n",
       "  <tbody>\n",
       "    <tr>\n",
       "      <th>Suffolk Admits</th>\n",
       "      <td>72</td>\n",
       "      <td>79</td>\n",
       "      <td>41</td>\n",
       "      <td>74</td>\n",
       "      <td>71</td>\n",
       "      <td>83</td>\n",
       "      <td>61</td>\n",
       "      <td>77</td>\n",
       "      <td>83</td>\n",
       "      <td>84</td>\n",
       "      <td>72</td>\n",
       "      <td>76</td>\n",
       "      <td>70</td>\n",
       "      <td>90</td>\n",
       "      <td>64</td>\n",
       "      <td>NaN</td>\n",
       "    </tr>\n",
       "    <tr>\n",
       "      <th>Total Admits</th>\n",
       "      <td>439</td>\n",
       "      <td>416</td>\n",
       "      <td>385</td>\n",
       "      <td>387</td>\n",
       "      <td>500</td>\n",
       "      <td>440</td>\n",
       "      <td>372</td>\n",
       "      <td>426</td>\n",
       "      <td>437</td>\n",
       "      <td>433</td>\n",
       "      <td>359</td>\n",
       "      <td>384</td>\n",
       "      <td>431</td>\n",
       "      <td>433</td>\n",
       "      <td>364</td>\n",
       "      <td>NaN</td>\n",
       "    </tr>\n",
       "  </tbody>\n",
       "</table>\n",
       "</div>"
      ],
      "text/plain": [
       "               2016 Q1 2016 Q2 2016 Q3 2016 Q4 2017 Q1 2017 Q2 2017 Q3  \\\n",
       "Suffolk Admits      72      79      41      74      71      83      61   \n",
       "Total Admits       439     416     385     387     500     440     372   \n",
       "\n",
       "               2017 Q4 2018 Q1 2018 Q2 2018 Q3 2018 Q4 2019 Q1 2019 Q2  \\\n",
       "Suffolk Admits      77      83      84      72      76      70      90   \n",
       "Total Admits       426     437     433     359     384     431     433   \n",
       "\n",
       "               2019 Q3 2019 Q4  \n",
       "Suffolk Admits      64     NaN  \n",
       "Total Admits       364     NaN  "
      ]
     },
     "execution_count": 9,
     "metadata": {},
     "output_type": "execute_result"
    }
   ],
   "source": [
    "df"
   ]
  },
  {
   "cell_type": "code",
   "execution_count": 10,
   "metadata": {},
   "outputs": [],
   "source": [
    "correction_dict = {}\n",
    "for y in list(range(2016, 2020)):\n",
    "    little = df.loc[:, df.columns.str.contains(str(y))]\n",
    "    s = little.sum(axis=1)\n",
    "    correction_dict[y] = s[0]/s[1]\n",
    "    "
   ]
  },
  {
   "cell_type": "code",
   "execution_count": 11,
   "metadata": {},
   "outputs": [
    {
     "data": {
      "text/plain": [
       "{2016: 0.16349108789182545,\n",
       " 2017: 0.16800920598388952,\n",
       " 2018: 0.19528828270303783,\n",
       " 2019: 0.18241042345276873}"
      ]
     },
     "execution_count": 11,
     "metadata": {},
     "output_type": "execute_result"
    }
   ],
   "source": [
    "correction_dict"
   ]
  },
  {
   "cell_type": "markdown",
   "metadata": {},
   "source": [
    "Ok great. For the next step we could take the average quartley population from figure 1.2 in the admissions and releases report I use and say that we are only looking for budget used to house non-civil commitments, which we estimate as % of population that is non-civil. I think that makes sense, DA's office doesn't send people to civil lock-ups"
   ]
  },
  {
   "cell_type": "code",
   "execution_count": 22,
   "metadata": {},
   "outputs": [],
   "source": [
    "def get_criminal_pop(pop_df):\n",
    "    out_dict = pd.Series()\n",
    "    for y in list(range(2016,2020)):\n",
    "        little = pop_df.loc[:,pop_df.columns.str.contains(str(y))]\n",
    "        s = little.sum(axis=1)\n",
    "        out_dict.loc[y] = 1 - s[0]/s[1]\n",
    "    return out_dict"
   ]
  },
  {
   "cell_type": "code",
   "execution_count": 23,
   "metadata": {},
   "outputs": [],
   "source": [
    "pop_df = pd.DataFrame(columns = quarters)\n",
    "\n",
    "\n",
    "pop_df.loc[\"Civil Pop\", \"2016 Q1\"] = 607\n",
    "pop_df.loc[\"Total Pop\", \"2016 Q1\"] = 10027\n",
    "\n",
    "pop_df.loc[\"Civil Pop\", \"2016 Q2\"] = 604\n",
    "pop_df.loc[\"Total Pop\", \"2016 Q2\"] = 9872\n",
    "\n",
    "pop_df.loc[\"Civil Pop\", \"2016 Q3\"] = 630\n",
    "pop_df.loc[\"Total Pop\", \"2016 Q3\"] = 9789\n",
    "\n",
    "pop_df.loc[\"Civil Pop\", \"2016 Q4\"] = 581\n",
    "pop_df.loc[\"Total Pop\", \"2016 Q4\"] = 9596\n",
    "\n",
    "pop_df.loc[\"Civil Pop\", \"2017 Q1\"] = 572\n",
    "pop_df.loc[\"Total Pop\", \"2017 Q1\"] = 9527\n",
    "\n",
    "pop_df.loc[\"Civil Pop\", \"2017 Q2\"] = 578 \n",
    "pop_df.loc[\"Total Pop\", \"2017 Q2\"] = 9468\n",
    "\n",
    "pop_df.loc[\"Civil Pop\", \"2017 Q3\"] = 594 \n",
    "pop_df.loc[\"Total Pop\", \"2017 Q3\"] = 9454\n",
    "\n",
    "pop_df.loc[\"Civil Pop\", \"2017 Q4\"] = 562\n",
    "pop_df.loc[\"Total Pop\", \"2017 Q4\"] = 9310 \n",
    "\n",
    "pop_df.loc[\"Civil Pop\", \"2018 Q1\"] = 543\n",
    "pop_df.loc[\"Total Pop\", \"2018 Q1\"] = 9167\n",
    "\n",
    "pop_df.loc[\"Civil Pop\", \"2018 Q2\"] = 571\n",
    "pop_df.loc[\"Total Pop\", \"2018 Q2\"] = 9125 \n",
    "\n",
    "pop_df.loc[\"Civil Pop\", \"2018 Q3\"] = 551\n",
    "pop_df.loc[\"Total Pop\", \"2018 Q3\"] = 9032 \n",
    "\n",
    "pop_df.loc[\"Civil Pop\", \"2018 Q4\"] = 489\n",
    "pop_df.loc[\"Total Pop\", \"2018 Q4\"] = 8855 \n",
    "\n",
    "pop_df.loc[\"Civil Pop\", \"2019 Q1\"] = 499\n",
    "pop_df.loc[\"Total Pop\", \"2019 Q1\"] = 8807\n",
    "\n",
    "pop_df.loc[\"Civil Pop\", \"2019 Q2\"] = 567\n",
    "pop_df.loc[\"Total Pop\", \"2019 Q2\"] = 8799\n",
    "\n",
    "pop_df.loc[\"Civil Pop\", \"2019 Q3\"] = 644\n",
    "pop_df.loc[\"Total Pop\", \"2019 Q3\"] = 8754 "
   ]
  },
  {
   "cell_type": "code",
   "execution_count": 24,
   "metadata": {},
   "outputs": [
    {
     "name": "stderr",
     "output_type": "stream",
     "text": [
      "/opt/anaconda3/lib/python3.7/site-packages/ipykernel_launcher.py:2: DeprecationWarning: The default dtype for empty Series will be 'object' instead of 'float64' in a future version. Specify a dtype explicitly to silence this warning.\n",
      "  \n"
     ]
    }
   ],
   "source": [
    "pcnt_criminal = get_criminal_pop(pop_df)"
   ]
  },
  {
   "cell_type": "code",
   "execution_count": 25,
   "metadata": {},
   "outputs": [
    {
     "data": {
      "text/plain": [
       "2016    0.938346\n",
       "2017    0.938928\n",
       "2018    0.940463\n",
       "2019    0.935129\n",
       "dtype: float64"
      ]
     },
     "execution_count": 25,
     "metadata": {},
     "output_type": "execute_result"
    }
   ],
   "source": [
    "pcnt_criminal"
   ]
  },
  {
   "cell_type": "code",
   "execution_count": 26,
   "metadata": {},
   "outputs": [],
   "source": [
    "df = pd.DataFrame(columns = list(range(2016,2020)))"
   ]
  },
  {
   "cell_type": "code",
   "execution_count": 29,
   "metadata": {},
   "outputs": [],
   "source": [
    "df.loc[\"index 1\"] = [1,2,3,4]\n",
    "df.loc[\"index 2\"] = [5,6,7,8]"
   ]
  },
  {
   "cell_type": "code",
   "execution_count": 31,
   "metadata": {},
   "outputs": [
    {
     "data": {
      "text/html": [
       "<div>\n",
       "<style scoped>\n",
       "    .dataframe tbody tr th:only-of-type {\n",
       "        vertical-align: middle;\n",
       "    }\n",
       "\n",
       "    .dataframe tbody tr th {\n",
       "        vertical-align: top;\n",
       "    }\n",
       "\n",
       "    .dataframe thead th {\n",
       "        text-align: right;\n",
       "    }\n",
       "</style>\n",
       "<table border=\"1\" class=\"dataframe\">\n",
       "  <thead>\n",
       "    <tr style=\"text-align: right;\">\n",
       "      <th></th>\n",
       "      <th>2016</th>\n",
       "      <th>2017</th>\n",
       "      <th>2018</th>\n",
       "      <th>2019</th>\n",
       "    </tr>\n",
       "  </thead>\n",
       "  <tbody>\n",
       "    <tr>\n",
       "      <th>index 1</th>\n",
       "      <td>0.938346</td>\n",
       "      <td>1.87786</td>\n",
       "      <td>2.82139</td>\n",
       "      <td>3.74052</td>\n",
       "    </tr>\n",
       "    <tr>\n",
       "      <th>index 2</th>\n",
       "      <td>4.69173</td>\n",
       "      <td>5.63357</td>\n",
       "      <td>6.58324</td>\n",
       "      <td>7.48103</td>\n",
       "    </tr>\n",
       "  </tbody>\n",
       "</table>\n",
       "</div>"
      ],
      "text/plain": [
       "             2016     2017     2018     2019\n",
       "index 1  0.938346  1.87786  2.82139  3.74052\n",
       "index 2   4.69173  5.63357  6.58324  7.48103"
      ]
     },
     "execution_count": 31,
     "metadata": {},
     "output_type": "execute_result"
    }
   ],
   "source": [
    "df*pcnt_criminal"
   ]
  },
  {
   "cell_type": "markdown",
   "metadata": {},
   "source": [
    "Cool, that seems good. "
   ]
  }
 ],
 "metadata": {
  "kernelspec": {
   "display_name": "Python 3",
   "language": "python",
   "name": "python3"
  },
  "language_info": {
   "codemirror_mode": {
    "name": "ipython",
    "version": 3
   },
   "file_extension": ".py",
   "mimetype": "text/x-python",
   "name": "python",
   "nbconvert_exporter": "python",
   "pygments_lexer": "ipython3",
   "version": "3.7.6"
  }
 },
 "nbformat": 4,
 "nbformat_minor": 4
}
