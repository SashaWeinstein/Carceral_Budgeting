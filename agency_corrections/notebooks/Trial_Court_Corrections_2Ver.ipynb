{
 "cells": [
  {
   "cell_type": "markdown",
   "metadata": {},
   "source": [
    "# Trial Court Corrections Version 2\n",
    "Per my last email conversation with Bobby he isn't quite sure about the methodology he used to find the % of criminal cases that went through Suffolk. So I'll re-do the methodology for 2016 through 2019\n",
    "\n",
    "All documents unless otherwise indicated come from https://www.mass.gov/court-data-metrics-reports"
   ]
  },
  {
   "cell_type": "markdown",
   "metadata": {},
   "source": [
    "**Start with total number of criminal cases in MA per year**<br>\n",
    "Find this info at https://www.mass.gov/lists/trial-court-statistics-for-fiscal-year-2019\n",
    "under the \"Year End Summary of All Court Activity.\"\n",
    "I also have the pdf saved under /Users/alexanderweinstein/Documents/Harris/Summer2020/Carceral_Budgeting/Exploratory/data/Agency_Corrections/trial_court_2019_summary.pdf\n"
   ]
  },
  {
   "cell_type": "code",
   "execution_count": 2,
   "metadata": {},
   "outputs": [],
   "source": [
    "import pandas as pd"
   ]
  },
  {
   "cell_type": "code",
   "execution_count": 3,
   "metadata": {},
   "outputs": [],
   "source": [
    "df = pd.DataFrame(columns = list(range(2016,2020)))"
   ]
  },
  {
   "cell_type": "code",
   "execution_count": 4,
   "metadata": {},
   "outputs": [],
   "source": [
    "df.loc[\"Total Cases\"] = [960418, 887207, 846833, 807244]"
   ]
  },
  {
   "cell_type": "code",
   "execution_count": 5,
   "metadata": {},
   "outputs": [
    {
     "data": {
      "text/html": [
       "<div>\n",
       "<style scoped>\n",
       "    .dataframe tbody tr th:only-of-type {\n",
       "        vertical-align: middle;\n",
       "    }\n",
       "\n",
       "    .dataframe tbody tr th {\n",
       "        vertical-align: top;\n",
       "    }\n",
       "\n",
       "    .dataframe thead th {\n",
       "        text-align: right;\n",
       "    }\n",
       "</style>\n",
       "<table border=\"1\" class=\"dataframe\">\n",
       "  <thead>\n",
       "    <tr style=\"text-align: right;\">\n",
       "      <th></th>\n",
       "      <th>2016</th>\n",
       "      <th>2017</th>\n",
       "      <th>2018</th>\n",
       "      <th>2019</th>\n",
       "    </tr>\n",
       "  </thead>\n",
       "  <tbody>\n",
       "    <tr>\n",
       "      <th>Total Cases</th>\n",
       "      <td>960418</td>\n",
       "      <td>887207</td>\n",
       "      <td>846833</td>\n",
       "      <td>807244</td>\n",
       "    </tr>\n",
       "  </tbody>\n",
       "</table>\n",
       "</div>"
      ],
      "text/plain": [
       "               2016    2017    2018    2019\n",
       "Total Cases  960418  887207  846833  807244"
      ]
     },
     "execution_count": 5,
     "metadata": {},
     "output_type": "execute_result"
    }
   ],
   "source": [
    "df"
   ]
  },
  {
   "cell_type": "markdown",
   "metadata": {},
   "source": [
    "**Criminal cases in Boston Municipal Court**<br>\n",
    "For each year this info is found under \"Total Filings by Court Location.\" I also saved the pdf's under /Users/alexanderweinstein/Documents/Harris/Summer2020/Carceral_Budgeting/Exploratory/data/Agency_Corrections/legal/BMC_filings_..."
   ]
  },
  {
   "cell_type": "code",
   "execution_count": 6,
   "metadata": {},
   "outputs": [],
   "source": [
    "df.loc[\"BMC Criminal Cases\", 2016] = 23752\n",
    "df.loc[\"BMC Criminal Cases\", 2017] = 22447 \n",
    "df.loc[\"BMC Criminal Cases\", 2018] = 21753 \n",
    "df.loc[\"BMC Criminal Cases\", 2019] = 20456 "
   ]
  },
  {
   "cell_type": "markdown",
   "metadata": {},
   "source": [
    "Ok maybe Bobby's methodology is clear and right. Even if it is I should still replicate this work maybe?"
   ]
  },
  {
   "cell_type": "markdown",
   "metadata": {},
   "source": [
    "**Superior Court Criminal Cases in Suffolk County**<br>\n",
    "\"Civil and Criminal Case Entered\" file under \"Superior Court Department\" sub-heading. We look at all criminal cases under \"Suffolk\" <br>\n",
    "pdf's saved under /Users/alexanderweinstein/Documents/Harris/Summer2020/Carceral_Budgeting/Exploratory/data/Agency_Corrections/legal/superior_court_cases_..."
   ]
  },
  {
   "cell_type": "code",
   "execution_count": 7,
   "metadata": {},
   "outputs": [],
   "source": [
    "df.loc[\"Superior Court Criminal Cases Suffolk\", 2016] = 818\n",
    "df.loc[\"Superior Court Criminal Cases Suffolk\", 2017] = 747\n",
    "df.loc[\"Superior Court Criminal Cases Suffolk\", 2018] = 849\n",
    "df.loc[\"Superior Court Criminal Cases Suffolk\", 2019] = 1451"
   ]
  },
  {
   "cell_type": "markdown",
   "metadata": {},
   "source": [
    "**District Court Criminal Defendants in Chelsea**\n",
    "\"Criminal Filings by Court Location\" under \"District Court Department\" sub-heading. We look at  \"Criminal Defendants\" for Chelsea<br>\n",
    "pdf's saved under /Users/alexanderweinstein/Documents/Harris/Summer2020/Carceral_Budgeting/Exploratory/data/Agency_Corrections/legal/district_court_criminal_...\n"
   ]
  },
  {
   "cell_type": "code",
   "execution_count": 8,
   "metadata": {},
   "outputs": [],
   "source": [
    "df.loc[\"District Court Criminal Defendants Chelsea\", 2016] = 4108\n",
    "df.loc[\"District Court Criminal Defendants Chelsea\", 2017] = 3383 \n",
    "df.loc[\"District Court Criminal Defendants Chelsea\", 2018] = 3668\n",
    "df.loc[\"District Court Criminal Defendants Chelsea\", 2019] = 3144 "
   ]
  },
  {
   "cell_type": "markdown",
   "metadata": {},
   "source": [
    "**Criminal Cases in Juvenile Court**\n",
    "\"Total Filings by Court Location\" under \"Juvenile Court Department\" sub-heading<br>\n",
    "pdf's saved under \n",
    "/Users/alexanderweinstein/Documents/Harris/Summer2020/Carceral_Budgeting/Exploratory/data/Agency_Corrections/legal/juvenile_filings_... <br>\n",
    "Only criminal cases are counted. Criminal cases are defined as adult criminal, delinquency, youthful offender"
   ]
  },
  {
   "cell_type": "code",
   "execution_count": 9,
   "metadata": {},
   "outputs": [],
   "source": [
    "df.loc[\"Juvenile Court Criminal Cases Suffolk\", 2016] = 0 + 1198 + 53\n",
    "df.loc[\"Juvenile Court Criminal Cases Suffolk\", 2017] = 0 + 963 + 38 \n",
    "df.loc[\"Juvenile Court Criminal Cases Suffolk\", 2018] = 0 + 863 + 30 \n",
    "df.loc[\"Juvenile Court Criminal Cases Suffolk\", 2019] = 5 + 691 + 35\n"
   ]
  },
  {
   "cell_type": "code",
   "execution_count": 10,
   "metadata": {},
   "outputs": [
    {
     "data": {
      "text/html": [
       "<div>\n",
       "<style scoped>\n",
       "    .dataframe tbody tr th:only-of-type {\n",
       "        vertical-align: middle;\n",
       "    }\n",
       "\n",
       "    .dataframe tbody tr th {\n",
       "        vertical-align: top;\n",
       "    }\n",
       "\n",
       "    .dataframe thead th {\n",
       "        text-align: right;\n",
       "    }\n",
       "</style>\n",
       "<table border=\"1\" class=\"dataframe\">\n",
       "  <thead>\n",
       "    <tr style=\"text-align: right;\">\n",
       "      <th></th>\n",
       "      <th>2016</th>\n",
       "      <th>2017</th>\n",
       "      <th>2018</th>\n",
       "      <th>2019</th>\n",
       "    </tr>\n",
       "  </thead>\n",
       "  <tbody>\n",
       "    <tr>\n",
       "      <th>Total Cases</th>\n",
       "      <td>960418</td>\n",
       "      <td>887207</td>\n",
       "      <td>846833</td>\n",
       "      <td>807244</td>\n",
       "    </tr>\n",
       "    <tr>\n",
       "      <th>BMC Criminal Cases</th>\n",
       "      <td>23752</td>\n",
       "      <td>22447</td>\n",
       "      <td>21753</td>\n",
       "      <td>20456</td>\n",
       "    </tr>\n",
       "    <tr>\n",
       "      <th>Superior Court Criminal Cases Suffolk</th>\n",
       "      <td>818</td>\n",
       "      <td>747</td>\n",
       "      <td>849</td>\n",
       "      <td>1451</td>\n",
       "    </tr>\n",
       "    <tr>\n",
       "      <th>District Court Criminal Defendants Chelsea</th>\n",
       "      <td>4108</td>\n",
       "      <td>3383</td>\n",
       "      <td>3668</td>\n",
       "      <td>3144</td>\n",
       "    </tr>\n",
       "    <tr>\n",
       "      <th>Juvenile Court Criminal Cases Suffolk</th>\n",
       "      <td>1251</td>\n",
       "      <td>1001</td>\n",
       "      <td>893</td>\n",
       "      <td>731</td>\n",
       "    </tr>\n",
       "  </tbody>\n",
       "</table>\n",
       "</div>"
      ],
      "text/plain": [
       "                                              2016    2017    2018    2019\n",
       "Total Cases                                 960418  887207  846833  807244\n",
       "BMC Criminal Cases                           23752   22447   21753   20456\n",
       "Superior Court Criminal Cases Suffolk          818     747     849    1451\n",
       "District Court Criminal Defendants Chelsea    4108    3383    3668    3144\n",
       "Juvenile Court Criminal Cases Suffolk         1251    1001     893     731"
      ]
     },
     "execution_count": 10,
     "metadata": {},
     "output_type": "execute_result"
    }
   ],
   "source": [
    "df"
   ]
  },
  {
   "cell_type": "code",
   "execution_count": 11,
   "metadata": {},
   "outputs": [],
   "source": [
    "total_criminal_cases = [209791, 197900, 190661, 187817]"
   ]
  },
  {
   "cell_type": "code",
   "execution_count": 25,
   "metadata": {},
   "outputs": [
    {
     "data": {
      "text/plain": [
       "2016   0.285\n",
       "2017   0.279\n",
       "2018   0.285\n",
       "2019   0.275\n",
       "dtype: float64"
      ]
     },
     "execution_count": 25,
     "metadata": {},
     "output_type": "execute_result"
    }
   ],
   "source": [
    "df.iloc[1:,:].sum()/total_criminal_cases"
   ]
  },
  {
   "cell_type": "code",
   "execution_count": 12,
   "metadata": {},
   "outputs": [],
   "source": [
    "df.loc[\"Total Suffolk Cases\"] =  df.iloc[1:,:].sum()"
   ]
  },
  {
   "cell_type": "code",
   "execution_count": 26,
   "metadata": {},
   "outputs": [
    {
     "ename": "TypeError",
     "evalue": "unsupported operand type(s) for /: 'list' and 'list'",
     "output_type": "error",
     "traceback": [
      "\u001b[0;31m---------------------------------------------------------------------------\u001b[0m",
      "\u001b[0;31mTypeError\u001b[0m                                 Traceback (most recent call last)",
      "\u001b[0;32m<ipython-input-26-464def30ab40>\u001b[0m in \u001b[0;36m<module>\u001b[0;34m\u001b[0m\n\u001b[0;32m----> 1\u001b[0;31m \u001b[0mtotal_criminal_cases\u001b[0m\u001b[0;34m/\u001b[0m\u001b[0mtotal_criminal_cases\u001b[0m\u001b[0;34m\u001b[0m\u001b[0;34m\u001b[0m\u001b[0m\n\u001b[0m",
      "\u001b[0;31mTypeError\u001b[0m: unsupported operand type(s) for /: 'list' and 'list'"
     ]
    }
   ],
   "source": []
  },
  {
   "cell_type": "code",
   "execution_count": 13,
   "metadata": {},
   "outputs": [],
   "source": [
    "df.loc[\"Percentage of Total that is Criminal in Suffolk\"] = df.loc[\"Total Suffolk Cases\"] /df.iloc[0,:]"
   ]
  },
  {
   "cell_type": "code",
   "execution_count": 14,
   "metadata": {},
   "outputs": [
    {
     "data": {
      "text/html": [
       "<div>\n",
       "<style scoped>\n",
       "    .dataframe tbody tr th:only-of-type {\n",
       "        vertical-align: middle;\n",
       "    }\n",
       "\n",
       "    .dataframe tbody tr th {\n",
       "        vertical-align: top;\n",
       "    }\n",
       "\n",
       "    .dataframe thead th {\n",
       "        text-align: right;\n",
       "    }\n",
       "</style>\n",
       "<table border=\"1\" class=\"dataframe\">\n",
       "  <thead>\n",
       "    <tr style=\"text-align: right;\">\n",
       "      <th></th>\n",
       "      <th>2016</th>\n",
       "      <th>2017</th>\n",
       "      <th>2018</th>\n",
       "      <th>2019</th>\n",
       "    </tr>\n",
       "  </thead>\n",
       "  <tbody>\n",
       "    <tr>\n",
       "      <th>Total Cases</th>\n",
       "      <td>960418</td>\n",
       "      <td>887207</td>\n",
       "      <td>846833</td>\n",
       "      <td>807244</td>\n",
       "    </tr>\n",
       "    <tr>\n",
       "      <th>BMC Criminal Cases</th>\n",
       "      <td>23752</td>\n",
       "      <td>22447</td>\n",
       "      <td>21753</td>\n",
       "      <td>20456</td>\n",
       "    </tr>\n",
       "    <tr>\n",
       "      <th>Superior Court Criminal Cases Suffolk</th>\n",
       "      <td>818</td>\n",
       "      <td>747</td>\n",
       "      <td>849</td>\n",
       "      <td>1451</td>\n",
       "    </tr>\n",
       "    <tr>\n",
       "      <th>District Court Criminal Defendants Chelsea</th>\n",
       "      <td>4108</td>\n",
       "      <td>3383</td>\n",
       "      <td>3668</td>\n",
       "      <td>3144</td>\n",
       "    </tr>\n",
       "    <tr>\n",
       "      <th>Juvenile Court Criminal Cases Suffolk</th>\n",
       "      <td>1251</td>\n",
       "      <td>1001</td>\n",
       "      <td>893</td>\n",
       "      <td>731</td>\n",
       "    </tr>\n",
       "    <tr>\n",
       "      <th>Total Suffolk Cases</th>\n",
       "      <td>29929</td>\n",
       "      <td>27578</td>\n",
       "      <td>27163</td>\n",
       "      <td>25782</td>\n",
       "    </tr>\n",
       "    <tr>\n",
       "      <th>Percentage of Total that is Criminal in Suffolk</th>\n",
       "      <td>0.0311625</td>\n",
       "      <td>0.0310841</td>\n",
       "      <td>0.032076</td>\n",
       "      <td>0.0319383</td>\n",
       "    </tr>\n",
       "  </tbody>\n",
       "</table>\n",
       "</div>"
      ],
      "text/plain": [
       "                                                      2016       2017  \\\n",
       "Total Cases                                         960418     887207   \n",
       "BMC Criminal Cases                                   23752      22447   \n",
       "Superior Court Criminal Cases Suffolk                  818        747   \n",
       "District Court Criminal Defendants Chelsea            4108       3383   \n",
       "Juvenile Court Criminal Cases Suffolk                 1251       1001   \n",
       "Total Suffolk Cases                                  29929      27578   \n",
       "Percentage of Total that is Criminal in Suffolk  0.0311625  0.0310841   \n",
       "\n",
       "                                                     2018       2019  \n",
       "Total Cases                                        846833     807244  \n",
       "BMC Criminal Cases                                  21753      20456  \n",
       "Superior Court Criminal Cases Suffolk                 849       1451  \n",
       "District Court Criminal Defendants Chelsea           3668       3144  \n",
       "Juvenile Court Criminal Cases Suffolk                 893        731  \n",
       "Total Suffolk Cases                                 27163      25782  \n",
       "Percentage of Total that is Criminal in Suffolk  0.032076  0.0319383  "
      ]
     },
     "execution_count": 14,
     "metadata": {},
     "output_type": "execute_result"
    }
   ],
   "source": [
    "df"
   ]
  },
  {
   "cell_type": "markdown",
   "metadata": {},
   "source": [
    "So that's our current correction as of August 6th. It's a serious undercount but I don't see another way to do it. The issue is that criminal cases definitely take more resources per case than other categories like housing or small claims court but I have no way to quantify that."
   ]
  },
  {
   "cell_type": "markdown",
   "metadata": {},
   "source": [
    "Next question: can we estimate how much of total trial court budget goes to criminal court in general? Appropriation type in cthru expenditures data may have clue"
   ]
  },
  {
   "cell_type": "code",
   "execution_count": 15,
   "metadata": {},
   "outputs": [],
   "source": [
    "from sodapy import Socrata\n",
    "app_token = \"2Qa1WiG8G4kj1vGVd2noK7zP0\"\n",
    "client = Socrata(\"cthru.data.socrata.com\", app_token)\n",
    "client.timeout = 40\n",
    "pd.set_option('display.float_format', lambda x: '%.3f' % x)"
   ]
  },
  {
   "cell_type": "code",
   "execution_count": 16,
   "metadata": {},
   "outputs": [],
   "source": [
    "trial_court_expenditures = pd.DataFrame(client.get(\"pegc-naaa\", \n",
    "                                                   where= \"Department = 'TRIAL COURT (TRC)' and budget_fiscal_year >= 2016\",\n",
    "                                                   limit = 999999))"
   ]
  },
  {
   "cell_type": "code",
   "execution_count": 17,
   "metadata": {},
   "outputs": [
    {
     "data": {
      "text/html": [
       "<div>\n",
       "<style scoped>\n",
       "    .dataframe tbody tr th:only-of-type {\n",
       "        vertical-align: middle;\n",
       "    }\n",
       "\n",
       "    .dataframe tbody tr th {\n",
       "        vertical-align: top;\n",
       "    }\n",
       "\n",
       "    .dataframe thead th {\n",
       "        text-align: right;\n",
       "    }\n",
       "</style>\n",
       "<table border=\"1\" class=\"dataframe\">\n",
       "  <thead>\n",
       "    <tr style=\"text-align: right;\">\n",
       "      <th></th>\n",
       "      <th>base_id</th>\n",
       "      <th>budget_fiscal_year</th>\n",
       "      <th>fiscal_period</th>\n",
       "      <th>date</th>\n",
       "      <th>cabinet_secretariat</th>\n",
       "      <th>department</th>\n",
       "      <th>appropriation_type</th>\n",
       "      <th>appropriation_name</th>\n",
       "      <th>object_class</th>\n",
       "      <th>object_code</th>\n",
       "      <th>...</th>\n",
       "      <th>appropriation_code</th>\n",
       "      <th>object</th>\n",
       "      <th>department_code</th>\n",
       "      <th>vendor</th>\n",
       "      <th>vendor_id</th>\n",
       "      <th>payment_id</th>\n",
       "      <th>payment_method</th>\n",
       "      <th>state</th>\n",
       "      <th>city</th>\n",
       "      <th>create_date</th>\n",
       "    </tr>\n",
       "  </thead>\n",
       "  <tbody>\n",
       "    <tr>\n",
       "      <th>0</th>\n",
       "      <td>A0000000001819121539</td>\n",
       "      <td>2019</td>\n",
       "      <td>9</td>\n",
       "      <td>2019-05-02T00:00:00.000</td>\n",
       "      <td>JUDICIARY</td>\n",
       "      <td>TRIAL COURT (TRC)</td>\n",
       "      <td>(1CS) DIRECT APPROPRIATIONS/SUBSIDIARIZED</td>\n",
       "      <td>(03300300) ADMINISTRATIVE STAFF</td>\n",
       "      <td>(JJ) OPERATIONAL SERVICES</td>\n",
       "      <td>(JJ1) LEGAL SUPPORT SERVICES</td>\n",
       "      <td>...</td>\n",
       "      <td>03300300</td>\n",
       "      <td>JJ1</td>\n",
       "      <td>TRC</td>\n",
       "      <td>BRENDA M NADEAU</td>\n",
       "      <td>174 WEST MAIN ST</td>\n",
       "      <td>20191250031919078002</td>\n",
       "      <td>EFT</td>\n",
       "      <td>UNASSIGNED</td>\n",
       "      <td>UNASSIGNED</td>\n",
       "      <td>2020-08-10T08:59:49.000</td>\n",
       "    </tr>\n",
       "    <tr>\n",
       "      <th>1</th>\n",
       "      <td>A0000000001819121540</td>\n",
       "      <td>2019</td>\n",
       "      <td>10</td>\n",
       "      <td>2019-05-03T00:00:00.000</td>\n",
       "      <td>JUDICIARY</td>\n",
       "      <td>TRIAL COURT (TRC)</td>\n",
       "      <td>(1CS) DIRECT APPROPRIATIONS/SUBSIDIARIZED</td>\n",
       "      <td>(03300300) ADMINISTRATIVE STAFF</td>\n",
       "      <td>(JJ) OPERATIONAL SERVICES</td>\n",
       "      <td>(JJ1) LEGAL SUPPORT SERVICES</td>\n",
       "      <td>...</td>\n",
       "      <td>03300300</td>\n",
       "      <td>JJ1</td>\n",
       "      <td>TRC</td>\n",
       "      <td>KAREN CASSOLA NORMAN</td>\n",
       "      <td>UNASSIGNED</td>\n",
       "      <td>20191331032919088001</td>\n",
       "      <td>EFT</td>\n",
       "      <td>UNASSIGNED</td>\n",
       "      <td>UNASSIGNED</td>\n",
       "      <td>2020-08-10T08:59:49.000</td>\n",
       "    </tr>\n",
       "    <tr>\n",
       "      <th>2</th>\n",
       "      <td>A0000000001819121541</td>\n",
       "      <td>2019</td>\n",
       "      <td>9</td>\n",
       "      <td>2019-05-03T00:00:00.000</td>\n",
       "      <td>JUDICIARY</td>\n",
       "      <td>TRIAL COURT (TRC)</td>\n",
       "      <td>(1CS) DIRECT APPROPRIATIONS/SUBSIDIARIZED</td>\n",
       "      <td>(03300300) ADMINISTRATIVE STAFF</td>\n",
       "      <td>(JJ) OPERATIONAL SERVICES</td>\n",
       "      <td>(JJ1) LEGAL SUPPORT SERVICES</td>\n",
       "      <td>...</td>\n",
       "      <td>03300300</td>\n",
       "      <td>JJ1</td>\n",
       "      <td>TRC</td>\n",
       "      <td>MARY L BUDUO</td>\n",
       "      <td>UNASSIGNED</td>\n",
       "      <td>20191350032119080001</td>\n",
       "      <td>EFT</td>\n",
       "      <td>MA</td>\n",
       "      <td>AUBURN</td>\n",
       "      <td>2020-08-10T08:59:49.000</td>\n",
       "    </tr>\n",
       "    <tr>\n",
       "      <th>3</th>\n",
       "      <td>A0000000001819121542</td>\n",
       "      <td>2019</td>\n",
       "      <td>11</td>\n",
       "      <td>2019-05-09T00:00:00.000</td>\n",
       "      <td>JUDICIARY</td>\n",
       "      <td>TRIAL COURT (TRC)</td>\n",
       "      <td>(1CS) DIRECT APPROPRIATIONS/SUBSIDIARIZED</td>\n",
       "      <td>(03300300) ADMINISTRATIVE STAFF</td>\n",
       "      <td>(JJ) OPERATIONAL SERVICES</td>\n",
       "      <td>(JJ1) LEGAL SUPPORT SERVICES</td>\n",
       "      <td>...</td>\n",
       "      <td>03300300</td>\n",
       "      <td>JJ1</td>\n",
       "      <td>TRC</td>\n",
       "      <td>CATUOGNO COURT REPORTING INC</td>\n",
       "      <td>UNASSIGNED</td>\n",
       "      <td>20191260042419114002</td>\n",
       "      <td>EFT</td>\n",
       "      <td>MA</td>\n",
       "      <td>SPRINGFIELD</td>\n",
       "      <td>2020-08-10T08:59:49.000</td>\n",
       "    </tr>\n",
       "    <tr>\n",
       "      <th>4</th>\n",
       "      <td>A0000000001819121543</td>\n",
       "      <td>2019</td>\n",
       "      <td>11</td>\n",
       "      <td>2019-06-04T00:00:00.000</td>\n",
       "      <td>JUDICIARY</td>\n",
       "      <td>TRIAL COURT (TRC)</td>\n",
       "      <td>(1CS) DIRECT APPROPRIATIONS/SUBSIDIARIZED</td>\n",
       "      <td>(03300300) ADMINISTRATIVE STAFF</td>\n",
       "      <td>(JJ) OPERATIONAL SERVICES</td>\n",
       "      <td>(JJ1) LEGAL SUPPORT SERVICES</td>\n",
       "      <td>...</td>\n",
       "      <td>03300300</td>\n",
       "      <td>JJ1</td>\n",
       "      <td>TRC</td>\n",
       "      <td>JACQUELYN HEALEY BOSSI</td>\n",
       "      <td>UNASSIGNED</td>\n",
       "      <td>20191331050119121004</td>\n",
       "      <td>EFT</td>\n",
       "      <td>UNASSIGNED</td>\n",
       "      <td>UNASSIGNED</td>\n",
       "      <td>2020-08-10T08:59:49.000</td>\n",
       "    </tr>\n",
       "    <tr>\n",
       "      <th>...</th>\n",
       "      <td>...</td>\n",
       "      <td>...</td>\n",
       "      <td>...</td>\n",
       "      <td>...</td>\n",
       "      <td>...</td>\n",
       "      <td>...</td>\n",
       "      <td>...</td>\n",
       "      <td>...</td>\n",
       "      <td>...</td>\n",
       "      <td>...</td>\n",
       "      <td>...</td>\n",
       "      <td>...</td>\n",
       "      <td>...</td>\n",
       "      <td>...</td>\n",
       "      <td>...</td>\n",
       "      <td>...</td>\n",
       "      <td>...</td>\n",
       "      <td>...</td>\n",
       "      <td>...</td>\n",
       "      <td>...</td>\n",
       "      <td>...</td>\n",
       "    </tr>\n",
       "    <tr>\n",
       "      <th>270015</th>\n",
       "      <td>B0000000000403591070</td>\n",
       "      <td>2020</td>\n",
       "      <td>10</td>\n",
       "      <td>2020-04-28T00:00:00.000</td>\n",
       "      <td>JUDICIARY</td>\n",
       "      <td>TRIAL COURT (TRC)</td>\n",
       "      <td>(1CS) DIRECT APPROPRIATIONS/SUBSIDIARIZED</td>\n",
       "      <td>(03370002) JUVENILE COURT DEPARTMENT</td>\n",
       "      <td>(AA) REGULAR EMPLOYEE COMPENSATION</td>\n",
       "      <td>(A01) SALARIES: INCLUSIVE</td>\n",
       "      <td>...</td>\n",
       "      <td>03370002</td>\n",
       "      <td>A01</td>\n",
       "      <td>TRC</td>\n",
       "      <td>TRC - SUMMARY PAYROLL</td>\n",
       "      <td>UNASSIGNED</td>\n",
       "      <td>EMPL 020200425118368</td>\n",
       "      <td>UNASSIGNED</td>\n",
       "      <td>UNASSIGNED</td>\n",
       "      <td>UNASSIGNED</td>\n",
       "      <td>2020-08-10T08:59:49.000</td>\n",
       "    </tr>\n",
       "    <tr>\n",
       "      <th>270016</th>\n",
       "      <td>B0000000000403591071</td>\n",
       "      <td>2020</td>\n",
       "      <td>6</td>\n",
       "      <td>2019-12-10T00:00:00.000</td>\n",
       "      <td>JUDICIARY</td>\n",
       "      <td>TRIAL COURT (TRC)</td>\n",
       "      <td>(1CS) DIRECT APPROPRIATIONS/SUBSIDIARIZED</td>\n",
       "      <td>(03320100) DISTRICT COURT ADMINISTRATIVE STAFF</td>\n",
       "      <td>(AA) REGULAR EMPLOYEE COMPENSATION</td>\n",
       "      <td>(A01) SALARIES: INCLUSIVE</td>\n",
       "      <td>...</td>\n",
       "      <td>03320100</td>\n",
       "      <td>A01</td>\n",
       "      <td>TRC</td>\n",
       "      <td>TRC - SUMMARY PAYROLL</td>\n",
       "      <td>UNASSIGNED</td>\n",
       "      <td>EMPL 020191207105477</td>\n",
       "      <td>UNASSIGNED</td>\n",
       "      <td>UNASSIGNED</td>\n",
       "      <td>UNASSIGNED</td>\n",
       "      <td>2020-08-10T08:59:49.000</td>\n",
       "    </tr>\n",
       "    <tr>\n",
       "      <th>270017</th>\n",
       "      <td>B0000000000403591072</td>\n",
       "      <td>2020</td>\n",
       "      <td>12</td>\n",
       "      <td>2020-06-23T00:00:00.000</td>\n",
       "      <td>JUDICIARY</td>\n",
       "      <td>TRIAL COURT (TRC)</td>\n",
       "      <td>(1CS) DIRECT APPROPRIATIONS/SUBSIDIARIZED</td>\n",
       "      <td>(03320100) DISTRICT COURT ADMINISTRATIVE STAFF</td>\n",
       "      <td>(AA) REGULAR EMPLOYEE COMPENSATION</td>\n",
       "      <td>(A01) SALARIES: INCLUSIVE</td>\n",
       "      <td>...</td>\n",
       "      <td>03320100</td>\n",
       "      <td>A01</td>\n",
       "      <td>TRC</td>\n",
       "      <td>TRC - SUMMARY PAYROLL</td>\n",
       "      <td>UNASSIGNED</td>\n",
       "      <td>EMPL 020200620103717</td>\n",
       "      <td>UNASSIGNED</td>\n",
       "      <td>UNASSIGNED</td>\n",
       "      <td>UNASSIGNED</td>\n",
       "      <td>2020-08-10T08:59:49.000</td>\n",
       "    </tr>\n",
       "    <tr>\n",
       "      <th>270018</th>\n",
       "      <td>B0000000000403591868</td>\n",
       "      <td>2020</td>\n",
       "      <td>7</td>\n",
       "      <td>2020-01-07T00:00:00.000</td>\n",
       "      <td>JUDICIARY</td>\n",
       "      <td>TRIAL COURT (TRC)</td>\n",
       "      <td>(1CS) DIRECT APPROPRIATIONS/SUBSIDIARIZED</td>\n",
       "      <td>(03360002) HOUSING COURT DEPARTMENT</td>\n",
       "      <td>(AA) REGULAR EMPLOYEE COMPENSATION</td>\n",
       "      <td>(A01) SALARIES: INCLUSIVE</td>\n",
       "      <td>...</td>\n",
       "      <td>03360002</td>\n",
       "      <td>A01</td>\n",
       "      <td>TRC</td>\n",
       "      <td>TRC - SUMMARY PAYROLL</td>\n",
       "      <td>UNASSIGNED</td>\n",
       "      <td>EMPL 020200104106847</td>\n",
       "      <td>UNASSIGNED</td>\n",
       "      <td>UNASSIGNED</td>\n",
       "      <td>UNASSIGNED</td>\n",
       "      <td>2020-08-10T08:59:49.000</td>\n",
       "    </tr>\n",
       "    <tr>\n",
       "      <th>270019</th>\n",
       "      <td>B0000000000403591869</td>\n",
       "      <td>2020</td>\n",
       "      <td>2</td>\n",
       "      <td>2019-08-06T00:00:00.000</td>\n",
       "      <td>JUDICIARY</td>\n",
       "      <td>TRIAL COURT (TRC)</td>\n",
       "      <td>(1CS) DIRECT APPROPRIATIONS/SUBSIDIARIZED</td>\n",
       "      <td>(03360002) HOUSING COURT DEPARTMENT</td>\n",
       "      <td>(AA) REGULAR EMPLOYEE COMPENSATION</td>\n",
       "      <td>(A01) SALARIES: INCLUSIVE</td>\n",
       "      <td>...</td>\n",
       "      <td>03360002</td>\n",
       "      <td>A01</td>\n",
       "      <td>TRC</td>\n",
       "      <td>TRC - SUMMARY PAYROLL</td>\n",
       "      <td>UNASSIGNED</td>\n",
       "      <td>EMPL 020190803106204</td>\n",
       "      <td>UNASSIGNED</td>\n",
       "      <td>UNASSIGNED</td>\n",
       "      <td>UNASSIGNED</td>\n",
       "      <td>2020-08-10T08:59:49.000</td>\n",
       "    </tr>\n",
       "  </tbody>\n",
       "</table>\n",
       "<p>270020 rows × 25 columns</p>\n",
       "</div>"
      ],
      "text/plain": [
       "                     base_id budget_fiscal_year fiscal_period  \\\n",
       "0       A0000000001819121539               2019             9   \n",
       "1       A0000000001819121540               2019            10   \n",
       "2       A0000000001819121541               2019             9   \n",
       "3       A0000000001819121542               2019            11   \n",
       "4       A0000000001819121543               2019            11   \n",
       "...                      ...                ...           ...   \n",
       "270015  B0000000000403591070               2020            10   \n",
       "270016  B0000000000403591071               2020             6   \n",
       "270017  B0000000000403591072               2020            12   \n",
       "270018  B0000000000403591868               2020             7   \n",
       "270019  B0000000000403591869               2020             2   \n",
       "\n",
       "                           date cabinet_secretariat         department  \\\n",
       "0       2019-05-02T00:00:00.000           JUDICIARY  TRIAL COURT (TRC)   \n",
       "1       2019-05-03T00:00:00.000           JUDICIARY  TRIAL COURT (TRC)   \n",
       "2       2019-05-03T00:00:00.000           JUDICIARY  TRIAL COURT (TRC)   \n",
       "3       2019-05-09T00:00:00.000           JUDICIARY  TRIAL COURT (TRC)   \n",
       "4       2019-06-04T00:00:00.000           JUDICIARY  TRIAL COURT (TRC)   \n",
       "...                         ...                 ...                ...   \n",
       "270015  2020-04-28T00:00:00.000           JUDICIARY  TRIAL COURT (TRC)   \n",
       "270016  2019-12-10T00:00:00.000           JUDICIARY  TRIAL COURT (TRC)   \n",
       "270017  2020-06-23T00:00:00.000           JUDICIARY  TRIAL COURT (TRC)   \n",
       "270018  2020-01-07T00:00:00.000           JUDICIARY  TRIAL COURT (TRC)   \n",
       "270019  2019-08-06T00:00:00.000           JUDICIARY  TRIAL COURT (TRC)   \n",
       "\n",
       "                               appropriation_type  \\\n",
       "0       (1CS) DIRECT APPROPRIATIONS/SUBSIDIARIZED   \n",
       "1       (1CS) DIRECT APPROPRIATIONS/SUBSIDIARIZED   \n",
       "2       (1CS) DIRECT APPROPRIATIONS/SUBSIDIARIZED   \n",
       "3       (1CS) DIRECT APPROPRIATIONS/SUBSIDIARIZED   \n",
       "4       (1CS) DIRECT APPROPRIATIONS/SUBSIDIARIZED   \n",
       "...                                           ...   \n",
       "270015  (1CS) DIRECT APPROPRIATIONS/SUBSIDIARIZED   \n",
       "270016  (1CS) DIRECT APPROPRIATIONS/SUBSIDIARIZED   \n",
       "270017  (1CS) DIRECT APPROPRIATIONS/SUBSIDIARIZED   \n",
       "270018  (1CS) DIRECT APPROPRIATIONS/SUBSIDIARIZED   \n",
       "270019  (1CS) DIRECT APPROPRIATIONS/SUBSIDIARIZED   \n",
       "\n",
       "                                    appropriation_name  \\\n",
       "0                      (03300300) ADMINISTRATIVE STAFF   \n",
       "1                      (03300300) ADMINISTRATIVE STAFF   \n",
       "2                      (03300300) ADMINISTRATIVE STAFF   \n",
       "3                      (03300300) ADMINISTRATIVE STAFF   \n",
       "4                      (03300300) ADMINISTRATIVE STAFF   \n",
       "...                                                ...   \n",
       "270015            (03370002) JUVENILE COURT DEPARTMENT   \n",
       "270016  (03320100) DISTRICT COURT ADMINISTRATIVE STAFF   \n",
       "270017  (03320100) DISTRICT COURT ADMINISTRATIVE STAFF   \n",
       "270018             (03360002) HOUSING COURT DEPARTMENT   \n",
       "270019             (03360002) HOUSING COURT DEPARTMENT   \n",
       "\n",
       "                              object_class                   object_code  ...  \\\n",
       "0                (JJ) OPERATIONAL SERVICES  (JJ1) LEGAL SUPPORT SERVICES  ...   \n",
       "1                (JJ) OPERATIONAL SERVICES  (JJ1) LEGAL SUPPORT SERVICES  ...   \n",
       "2                (JJ) OPERATIONAL SERVICES  (JJ1) LEGAL SUPPORT SERVICES  ...   \n",
       "3                (JJ) OPERATIONAL SERVICES  (JJ1) LEGAL SUPPORT SERVICES  ...   \n",
       "4                (JJ) OPERATIONAL SERVICES  (JJ1) LEGAL SUPPORT SERVICES  ...   \n",
       "...                                    ...                           ...  ...   \n",
       "270015  (AA) REGULAR EMPLOYEE COMPENSATION     (A01) SALARIES: INCLUSIVE  ...   \n",
       "270016  (AA) REGULAR EMPLOYEE COMPENSATION     (A01) SALARIES: INCLUSIVE  ...   \n",
       "270017  (AA) REGULAR EMPLOYEE COMPENSATION     (A01) SALARIES: INCLUSIVE  ...   \n",
       "270018  (AA) REGULAR EMPLOYEE COMPENSATION     (A01) SALARIES: INCLUSIVE  ...   \n",
       "270019  (AA) REGULAR EMPLOYEE COMPENSATION     (A01) SALARIES: INCLUSIVE  ...   \n",
       "\n",
       "       appropriation_code object department_code  \\\n",
       "0                03300300    JJ1             TRC   \n",
       "1                03300300    JJ1             TRC   \n",
       "2                03300300    JJ1             TRC   \n",
       "3                03300300    JJ1             TRC   \n",
       "4                03300300    JJ1             TRC   \n",
       "...                   ...    ...             ...   \n",
       "270015           03370002    A01             TRC   \n",
       "270016           03320100    A01             TRC   \n",
       "270017           03320100    A01             TRC   \n",
       "270018           03360002    A01             TRC   \n",
       "270019           03360002    A01             TRC   \n",
       "\n",
       "                              vendor         vendor_id            payment_id  \\\n",
       "0                    BRENDA M NADEAU  174 WEST MAIN ST  20191250031919078002   \n",
       "1               KAREN CASSOLA NORMAN        UNASSIGNED  20191331032919088001   \n",
       "2                       MARY L BUDUO        UNASSIGNED  20191350032119080001   \n",
       "3       CATUOGNO COURT REPORTING INC        UNASSIGNED  20191260042419114002   \n",
       "4             JACQUELYN HEALEY BOSSI        UNASSIGNED  20191331050119121004   \n",
       "...                              ...               ...                   ...   \n",
       "270015         TRC - SUMMARY PAYROLL        UNASSIGNED  EMPL 020200425118368   \n",
       "270016         TRC - SUMMARY PAYROLL        UNASSIGNED  EMPL 020191207105477   \n",
       "270017         TRC - SUMMARY PAYROLL        UNASSIGNED  EMPL 020200620103717   \n",
       "270018         TRC - SUMMARY PAYROLL        UNASSIGNED  EMPL 020200104106847   \n",
       "270019         TRC - SUMMARY PAYROLL        UNASSIGNED  EMPL 020190803106204   \n",
       "\n",
       "       payment_method       state         city              create_date  \n",
       "0                 EFT  UNASSIGNED   UNASSIGNED  2020-08-10T08:59:49.000  \n",
       "1                 EFT  UNASSIGNED   UNASSIGNED  2020-08-10T08:59:49.000  \n",
       "2                 EFT          MA       AUBURN  2020-08-10T08:59:49.000  \n",
       "3                 EFT          MA  SPRINGFIELD  2020-08-10T08:59:49.000  \n",
       "4                 EFT  UNASSIGNED   UNASSIGNED  2020-08-10T08:59:49.000  \n",
       "...               ...         ...          ...                      ...  \n",
       "270015     UNASSIGNED  UNASSIGNED   UNASSIGNED  2020-08-10T08:59:49.000  \n",
       "270016     UNASSIGNED  UNASSIGNED   UNASSIGNED  2020-08-10T08:59:49.000  \n",
       "270017     UNASSIGNED  UNASSIGNED   UNASSIGNED  2020-08-10T08:59:49.000  \n",
       "270018     UNASSIGNED  UNASSIGNED   UNASSIGNED  2020-08-10T08:59:49.000  \n",
       "270019     UNASSIGNED  UNASSIGNED   UNASSIGNED  2020-08-10T08:59:49.000  \n",
       "\n",
       "[270020 rows x 25 columns]"
      ]
     },
     "execution_count": 17,
     "metadata": {},
     "output_type": "execute_result"
    }
   ],
   "source": [
    "trial_court_expenditures"
   ]
  },
  {
   "cell_type": "code",
   "execution_count": 18,
   "metadata": {},
   "outputs": [],
   "source": [
    "trial_court_expenditures[\"amount\"] = trial_court_expenditures[\"amount\"].astype(float)"
   ]
  },
  {
   "cell_type": "code",
   "execution_count": 19,
   "metadata": {},
   "outputs": [],
   "source": [
    "pd.set_option(\"display.max.rows\", 68)\n",
    "gb=trial_court_expenditures.groupby(\"appropriation_name\").sum()[\"amount\"].sort_values(ascending=False)"
   ]
  },
  {
   "cell_type": "code",
   "execution_count": 20,
   "metadata": {},
   "outputs": [],
   "source": [
    "gb.to_csv(\"by_appropriation.csv\")"
   ]
  },
  {
   "cell_type": "markdown",
   "metadata": {},
   "source": [
    "Ok, that doesn't really divide the spending up in criminal vs non-criminal. We could just not count Housing Court, Probate and Family, and any other expenditures that explicitly aren't criminal. But administrative staff is the biggest administrator and isn't broken down this way"
   ]
  },
  {
   "cell_type": "code",
   "execution_count": 21,
   "metadata": {},
   "outputs": [],
   "source": [
    "trial_court_payroll = pd.DataFrame(client.get(\"rxhc-k6iz\", \n",
    "                                             where = \"department_division = 'TRIAL COURT (TRC)' AND Year >= 2016\",\n",
    "                                  limit = 999999))"
   ]
  },
  {
   "cell_type": "code",
   "execution_count": 22,
   "metadata": {},
   "outputs": [],
   "source": [
    "trial_court_payroll[\"pay_total_actual\"] = trial_court_payroll[\"pay_total_actual\"].astype(float)"
   ]
  },
  {
   "cell_type": "code",
   "execution_count": 23,
   "metadata": {},
   "outputs": [
    {
     "data": {
      "text/plain": [
       "position_title\n",
       "Probation Officer                279822196.520\n",
       "Justice                          212878399.540\n",
       "Assistant Clerk Magistrate       148946337.620\n",
       "Case Specialist (Gr 7-10)        120666375.670\n",
       "Court Officer II                 102008628.590\n",
       "                                      ...     \n",
       "Community Outreach Specialist         3257.780\n",
       "InfoSecurity-Vulnerability Mgr        1869.100\n",
       "System Analyst/Adobe AEM              1770.230\n",
       "Chief Storekeeper                     1204.700\n",
       "Research Asst -Drug Ct Grant           880.000\n",
       "Name: pay_total_actual, Length: 444, dtype: float64"
      ]
     },
     "execution_count": 23,
     "metadata": {},
     "output_type": "execute_result"
    }
   ],
   "source": [
    "trial_court_payroll.groupby(\"position_title\").sum()[\"pay_total_actual\"].sort_values(ascending=False)"
   ]
  },
  {
   "cell_type": "markdown",
   "metadata": {},
   "source": [
    "None of these seem to be associated with a particular branch of the court either "
   ]
  }
 ],
 "metadata": {
  "kernelspec": {
   "display_name": "Python 3",
   "language": "python",
   "name": "python3"
  },
  "language_info": {
   "codemirror_mode": {
    "name": "ipython",
    "version": 3
   },
   "file_extension": ".py",
   "mimetype": "text/x-python",
   "name": "python",
   "nbconvert_exporter": "python",
   "pygments_lexer": "ipython3",
   "version": "3.7.6"
  }
 },
 "nbformat": 4,
 "nbformat_minor": 4
}
