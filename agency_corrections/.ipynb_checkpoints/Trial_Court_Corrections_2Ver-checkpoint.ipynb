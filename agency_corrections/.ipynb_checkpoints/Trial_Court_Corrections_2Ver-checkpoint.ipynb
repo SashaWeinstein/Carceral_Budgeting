{
 "cells": [
  {
   "cell_type": "markdown",
   "metadata": {},
   "source": [
    "# Trial Court Corrections Version 2\n",
    "Per my last email conversation with Bobby he isn't quite sure about the methodology he used to find the % of criminal cases that went through Suffolk. So I'll re-do the methodology for 2016 through 2019\n",
    "\n",
    "All documents unless otherwise indicated come from https://www.mass.gov/court-data-metrics-reports"
   ]
  },
  {
   "cell_type": "markdown",
   "metadata": {},
   "source": [
    "**Start with total number of criminal cases in MA per year**<br>\n",
    "Find this info at https://www.mass.gov/lists/trial-court-statistics-for-fiscal-year-2019\n",
    "under the \"Year End Summary of All Court Activity.\"\n",
    "I also have the pdf saved under /Users/alexanderweinstein/Documents/Harris/Summer2020/Carceral_Budgeting/Exploratory/data/Agency_Corrections/trial_court_2019_summary.pdf\n"
   ]
  },
  {
   "cell_type": "code",
   "execution_count": 22,
   "metadata": {},
   "outputs": [],
   "source": [
    "import pandas as pd"
   ]
  },
  {
   "cell_type": "code",
   "execution_count": 23,
   "metadata": {},
   "outputs": [],
   "source": [
    "df = pd.DataFrame(columns = list(range(2016,2020)))"
   ]
  },
  {
   "cell_type": "code",
   "execution_count": 24,
   "metadata": {},
   "outputs": [],
   "source": [
    "df.loc[\"Total Cases\"] = [960418, 887207, 846833, 807244]"
   ]
  },
  {
   "cell_type": "code",
   "execution_count": 25,
   "metadata": {},
   "outputs": [
    {
     "data": {
      "text/html": [
       "<div>\n",
       "<style scoped>\n",
       "    .dataframe tbody tr th:only-of-type {\n",
       "        vertical-align: middle;\n",
       "    }\n",
       "\n",
       "    .dataframe tbody tr th {\n",
       "        vertical-align: top;\n",
       "    }\n",
       "\n",
       "    .dataframe thead th {\n",
       "        text-align: right;\n",
       "    }\n",
       "</style>\n",
       "<table border=\"1\" class=\"dataframe\">\n",
       "  <thead>\n",
       "    <tr style=\"text-align: right;\">\n",
       "      <th></th>\n",
       "      <th>2016</th>\n",
       "      <th>2017</th>\n",
       "      <th>2018</th>\n",
       "      <th>2019</th>\n",
       "    </tr>\n",
       "  </thead>\n",
       "  <tbody>\n",
       "    <tr>\n",
       "      <th>Total Cases</th>\n",
       "      <td>960418</td>\n",
       "      <td>887207</td>\n",
       "      <td>846833</td>\n",
       "      <td>807244</td>\n",
       "    </tr>\n",
       "  </tbody>\n",
       "</table>\n",
       "</div>"
      ],
      "text/plain": [
       "               2016    2017    2018    2019\n",
       "Total Cases  960418  887207  846833  807244"
      ]
     },
     "execution_count": 25,
     "metadata": {},
     "output_type": "execute_result"
    }
   ],
   "source": [
    "df"
   ]
  },
  {
   "cell_type": "markdown",
   "metadata": {},
   "source": [
    "**Criminal cases in Boston Municipal Court**<br>\n",
    "For each year this info is found under \"Total Filings by Court Location.\" I also saved the pdf's under /Users/alexanderweinstein/Documents/Harris/Summer2020/Carceral_Budgeting/Exploratory/data/Agency_Corrections/legal/BMC_filings_..."
   ]
  },
  {
   "cell_type": "code",
   "execution_count": 26,
   "metadata": {},
   "outputs": [],
   "source": [
    "df.loc[\"BMC Criminal Cases\", 2016] = 23752\n",
    "df.loc[\"BMC Criminal Cases\", 2017] = 22447 \n",
    "df.loc[\"BMC Criminal Cases\", 2018] = 21753 \n",
    "df.loc[\"BMC Criminal Cases\", 2019] = 20456 "
   ]
  },
  {
   "cell_type": "markdown",
   "metadata": {},
   "source": [
    "Ok maybe Bobby's methodology is clear and right. Even if it is I should still replicate this work maybe?"
   ]
  },
  {
   "cell_type": "markdown",
   "metadata": {},
   "source": [
    "**Superior Court Criminal Cases in Suffolk County**<br>\n",
    "\"Civil and Criminal Case Entered\" file under \"Superior Court Department\" sub-heading. We look at all criminal cases under \"Suffolk\" <br>\n",
    "pdf's saved under /Users/alexanderweinstein/Documents/Harris/Summer2020/Carceral_Budgeting/Exploratory/data/Agency_Corrections/legal/superior_court_cases_..."
   ]
  },
  {
   "cell_type": "code",
   "execution_count": 27,
   "metadata": {},
   "outputs": [],
   "source": [
    "df.loc[\"Superior Court Criminal Cases Suffolk\", 2016] = 818\n",
    "df.loc[\"Superior Court Criminal Cases Suffolk\", 2017] = 747\n",
    "df.loc[\"Superior Court Criminal Cases Suffolk\", 2018] = 849\n",
    "df.loc[\"Superior Court Criminal Cases Suffolk\", 2019] = 1451"
   ]
  },
  {
   "cell_type": "markdown",
   "metadata": {},
   "source": [
    "**District Court Criminal Defendants in Chelsea**\n",
    "\"Criminal Filings by Court Location\" under \"District Court Department\" sub-heading. We look at  \"Criminal Defendants\" for Chelsea<br>\n",
    "pdf's saved under /Users/alexanderweinstein/Documents/Harris/Summer2020/Carceral_Budgeting/Exploratory/data/Agency_Corrections/legal/district_court_criminal_...\n"
   ]
  },
  {
   "cell_type": "code",
   "execution_count": 28,
   "metadata": {},
   "outputs": [],
   "source": [
    "df.loc[\"District Court Criminal Defendants Chelsea\", 2016] = 4108\n",
    "df.loc[\"District Court Criminal Defendants Chelsea\", 2017] = 3383 \n",
    "df.loc[\"District Court Criminal Defendants Chelsea\", 2018] = 3668\n",
    "df.loc[\"District Court Criminal Defendants Chelsea\", 2019] = 3144 "
   ]
  },
  {
   "cell_type": "markdown",
   "metadata": {},
   "source": [
    "**Criminal Cases in Juvenile Court**\n",
    "\"Total Filings by Court Location\" under \"Juvenile Court Department\" sub-heading<br>\n",
    "pdf's saved under \n",
    "/Users/alexanderweinstein/Documents/Harris/Summer2020/Carceral_Budgeting/Exploratory/data/Agency_Corrections/legal/juvenile_filings_... <br>\n",
    "Only criminal cases are counted. Criminal cases are defined as adult criminal, delinquency, youthful offender"
   ]
  },
  {
   "cell_type": "code",
   "execution_count": 29,
   "metadata": {},
   "outputs": [],
   "source": [
    "df.loc[\"Juvenile Court Criminal Cases Suffolk\", 2016] = 0 + 1198 + 53\n",
    "df.loc[\"Juvenile Court Criminal Cases Suffolk\", 2017] = 0 + 963 + 38 \n",
    "df.loc[\"Juvenile Court Criminal Cases Suffolk\", 2018] = 0 + 863 + 30 \n",
    "df.loc[\"Juvenile Court Criminal Cases Suffolk\", 2019] = 5 + 691 + 35\n"
   ]
  },
  {
   "cell_type": "code",
   "execution_count": 30,
   "metadata": {},
   "outputs": [
    {
     "data": {
      "text/html": [
       "<div>\n",
       "<style scoped>\n",
       "    .dataframe tbody tr th:only-of-type {\n",
       "        vertical-align: middle;\n",
       "    }\n",
       "\n",
       "    .dataframe tbody tr th {\n",
       "        vertical-align: top;\n",
       "    }\n",
       "\n",
       "    .dataframe thead th {\n",
       "        text-align: right;\n",
       "    }\n",
       "</style>\n",
       "<table border=\"1\" class=\"dataframe\">\n",
       "  <thead>\n",
       "    <tr style=\"text-align: right;\">\n",
       "      <th></th>\n",
       "      <th>2016</th>\n",
       "      <th>2017</th>\n",
       "      <th>2018</th>\n",
       "      <th>2019</th>\n",
       "    </tr>\n",
       "  </thead>\n",
       "  <tbody>\n",
       "    <tr>\n",
       "      <th>Total Cases</th>\n",
       "      <td>960418</td>\n",
       "      <td>887207</td>\n",
       "      <td>846833</td>\n",
       "      <td>807244</td>\n",
       "    </tr>\n",
       "    <tr>\n",
       "      <th>BMC Criminal Cases</th>\n",
       "      <td>23752</td>\n",
       "      <td>22447</td>\n",
       "      <td>21753</td>\n",
       "      <td>20456</td>\n",
       "    </tr>\n",
       "    <tr>\n",
       "      <th>Superior Court Criminal Cases Suffolk</th>\n",
       "      <td>818</td>\n",
       "      <td>747</td>\n",
       "      <td>849</td>\n",
       "      <td>1451</td>\n",
       "    </tr>\n",
       "    <tr>\n",
       "      <th>District Court Criminal Defendants Chelsea</th>\n",
       "      <td>4108</td>\n",
       "      <td>3383</td>\n",
       "      <td>3668</td>\n",
       "      <td>3144</td>\n",
       "    </tr>\n",
       "    <tr>\n",
       "      <th>Juvenile Court Criminal Cases Suffolk</th>\n",
       "      <td>1251</td>\n",
       "      <td>1001</td>\n",
       "      <td>893</td>\n",
       "      <td>731</td>\n",
       "    </tr>\n",
       "  </tbody>\n",
       "</table>\n",
       "</div>"
      ],
      "text/plain": [
       "                                              2016    2017    2018    2019\n",
       "Total Cases                                 960418  887207  846833  807244\n",
       "BMC Criminal Cases                           23752   22447   21753   20456\n",
       "Superior Court Criminal Cases Suffolk          818     747     849    1451\n",
       "District Court Criminal Defendants Chelsea    4108    3383    3668    3144\n",
       "Juvenile Court Criminal Cases Suffolk         1251    1001     893     731"
      ]
     },
     "execution_count": 30,
     "metadata": {},
     "output_type": "execute_result"
    }
   ],
   "source": [
    "df"
   ]
  },
  {
   "cell_type": "code",
   "execution_count": 31,
   "metadata": {},
   "outputs": [],
   "source": [
    "df.loc[\"Total Suffolk Cases\"] =  df.iloc[1:,:].sum()"
   ]
  },
  {
   "cell_type": "code",
   "execution_count": 32,
   "metadata": {},
   "outputs": [],
   "source": [
    "df.loc[\"Percentage of Total that is Criminal in Suffolk\"] = df.loc[\"Total Suffolk Cases\"] /df.iloc[0,:]"
   ]
  },
  {
   "cell_type": "code",
   "execution_count": 33,
   "metadata": {},
   "outputs": [
    {
     "data": {
      "text/html": [
       "<div>\n",
       "<style scoped>\n",
       "    .dataframe tbody tr th:only-of-type {\n",
       "        vertical-align: middle;\n",
       "    }\n",
       "\n",
       "    .dataframe tbody tr th {\n",
       "        vertical-align: top;\n",
       "    }\n",
       "\n",
       "    .dataframe thead th {\n",
       "        text-align: right;\n",
       "    }\n",
       "</style>\n",
       "<table border=\"1\" class=\"dataframe\">\n",
       "  <thead>\n",
       "    <tr style=\"text-align: right;\">\n",
       "      <th></th>\n",
       "      <th>2016</th>\n",
       "      <th>2017</th>\n",
       "      <th>2018</th>\n",
       "      <th>2019</th>\n",
       "    </tr>\n",
       "  </thead>\n",
       "  <tbody>\n",
       "    <tr>\n",
       "      <th>Total Cases</th>\n",
       "      <td>960418</td>\n",
       "      <td>887207</td>\n",
       "      <td>846833</td>\n",
       "      <td>807244</td>\n",
       "    </tr>\n",
       "    <tr>\n",
       "      <th>BMC Criminal Cases</th>\n",
       "      <td>23752</td>\n",
       "      <td>22447</td>\n",
       "      <td>21753</td>\n",
       "      <td>20456</td>\n",
       "    </tr>\n",
       "    <tr>\n",
       "      <th>Superior Court Criminal Cases Suffolk</th>\n",
       "      <td>818</td>\n",
       "      <td>747</td>\n",
       "      <td>849</td>\n",
       "      <td>1451</td>\n",
       "    </tr>\n",
       "    <tr>\n",
       "      <th>District Court Criminal Defendants Chelsea</th>\n",
       "      <td>4108</td>\n",
       "      <td>3383</td>\n",
       "      <td>3668</td>\n",
       "      <td>3144</td>\n",
       "    </tr>\n",
       "    <tr>\n",
       "      <th>Juvenile Court Criminal Cases Suffolk</th>\n",
       "      <td>1251</td>\n",
       "      <td>1001</td>\n",
       "      <td>893</td>\n",
       "      <td>731</td>\n",
       "    </tr>\n",
       "    <tr>\n",
       "      <th>Total Suffolk Cases</th>\n",
       "      <td>29929.000</td>\n",
       "      <td>27578.000</td>\n",
       "      <td>27163.000</td>\n",
       "      <td>25782.000</td>\n",
       "    </tr>\n",
       "    <tr>\n",
       "      <th>Percentage of Total that is Criminal in Suffolk</th>\n",
       "      <td>0.031</td>\n",
       "      <td>0.031</td>\n",
       "      <td>0.032</td>\n",
       "      <td>0.032</td>\n",
       "    </tr>\n",
       "  </tbody>\n",
       "</table>\n",
       "</div>"
      ],
      "text/plain": [
       "                                                     2016      2017      2018  \\\n",
       "Total Cases                                        960418    887207    846833   \n",
       "BMC Criminal Cases                                  23752     22447     21753   \n",
       "Superior Court Criminal Cases Suffolk                 818       747       849   \n",
       "District Court Criminal Defendants Chelsea           4108      3383      3668   \n",
       "Juvenile Court Criminal Cases Suffolk                1251      1001       893   \n",
       "Total Suffolk Cases                             29929.000 27578.000 27163.000   \n",
       "Percentage of Total that is Criminal in Suffolk     0.031     0.031     0.032   \n",
       "\n",
       "                                                     2019  \n",
       "Total Cases                                        807244  \n",
       "BMC Criminal Cases                                  20456  \n",
       "Superior Court Criminal Cases Suffolk                1451  \n",
       "District Court Criminal Defendants Chelsea           3144  \n",
       "Juvenile Court Criminal Cases Suffolk                 731  \n",
       "Total Suffolk Cases                             25782.000  \n",
       "Percentage of Total that is Criminal in Suffolk     0.032  "
      ]
     },
     "execution_count": 33,
     "metadata": {},
     "output_type": "execute_result"
    }
   ],
   "source": [
    "df"
   ]
  },
  {
   "cell_type": "markdown",
   "metadata": {},
   "source": [
    "So that's our current correction as of August 6th. It's a serious undercount but I don't see another way to do it. The issue is that criminal cases definitely take more resources per case than other categories like housing or small claims court but I have no way to quantify that."
   ]
  },
  {
   "cell_type": "markdown",
   "metadata": {},
   "source": [
    "Next question: can we estimate how much of total trial court budget goes to criminal court in general? Appropriation type in cthru expenditures data may have clue"
   ]
  },
  {
   "cell_type": "code",
   "execution_count": 34,
   "metadata": {},
   "outputs": [],
   "source": [
    "from sodapy import Socrata\n",
    "app_token = \"2Qa1WiG8G4kj1vGVd2noK7zP0\"\n",
    "client = Socrata(\"cthru.data.socrata.com\", app_token)\n",
    "client.timeout = 40\n",
    "pd.set_option('display.float_format', lambda x: '%.3f' % x)"
   ]
  },
  {
   "cell_type": "code",
   "execution_count": 35,
   "metadata": {},
   "outputs": [],
   "source": [
    "trial_court_expenditures = pd.DataFrame(client.get(\"pegc-naaa\", \n",
    "                                                   where= \"Department = 'TRIAL COURT (TRC)' and budget_fiscal_year >= 2016\",\n",
    "                                                   limit = 999999))"
   ]
  },
  {
   "cell_type": "code",
   "execution_count": 36,
   "metadata": {},
   "outputs": [],
   "source": [
    "trial_court_expenditures[\"amount\"] = trial_court_expenditures[\"amount\"].astype(float)"
   ]
  },
  {
   "cell_type": "code",
   "execution_count": 37,
   "metadata": {},
   "outputs": [
    {
     "data": {
      "text/plain": [
       "appropriation_name\n",
       "(03300300) ADMINISTRATIVE STAFF                                           1136703852.670\n",
       "(03391001) COMMISSIONER OF PROBATION-ADMINISTRATION                        733142219.920\n",
       "(03320100) DISTRICT COURT ADMINISTRATIVE STAFF                             350511373.580\n",
       "(03300101) FOR SALARIES OF SUPERIOR COURT JUSTICES                         330628699.990\n",
       "(03310100) SUPERIOR COURT ADMINISTRATIVE OFFICE                            165162808.200\n",
       "(03330002) PROBATE AND FAMILY COURT DEPARTMENT                             156583622.170\n",
       "(03370002) JUVENILE COURT DEPARTMENT                                        93216038.450\n",
       "(03391003) COMMUNITY CORRECTIONS ADMINISTRATION                             78459417.000\n",
       "(03350001) BOSTON MUNICIPAL COURT-ADMINISTRATION                            69482115.690\n",
       "(11025600) COURT FACILITIES CAPITAL NEEDS                                   63916893.580\n",
       "(03360002) HOUSING COURT DEPARTMENT                                         43718565.860\n",
       "(03340001) LAND COURT-SALARIES AND EXPENSES                                 20127823.800\n",
       "(03392100) MIDDLESEX JURY COMMISSIONER                                      14890539.310\n",
       "(03300601) SPECIALTY DRUG COURTS                                             9990290.100\n",
       "(12010164) CHILD SUPPORT ENFORCEMENT RET REV                                 8516527.130\n",
       "(03391011) COMMUNITY BASED RE-ENTRY PROGRAMS                                 6224070.870\n",
       "(03300599) RECIDIVISM REDUCTION PILOT PROGRAM                                5053306.310\n",
       "(11025700) COURT FACILITIES 2018                                             3930833.000\n",
       "(03360003) HOUSING COURT EXPANSION                                           2707324.180\n",
       "(03300613) CSG RESERVE                                                       1850089.360\n",
       "(03300951) INTEGRATED INFORMATION SYSTEM                                     1548636.760\n",
       "(08400110) CRIME VICTIMS ASSISTANCE PROGRAMS -                               1359484.660\n",
       "(03300500) TRIAL COURT VIDEO TELECONFERENCING                                1106817.960\n",
       "(03325301) MISSION / BMETRO PROJECT                                           936333.120\n",
       "(03391005) DIVERT JUVENILES YOUNG ADULTS FROM CRIMINAL JUSTIC                 929056.000\n",
       "(03321101) EXPND SUBST ABUSE TREAT IN ADULT/FAMILY DRUG COURT                 889005.500\n",
       "(11022008) STATE FACILITY IMPROVEMENTS                                        832736.120\n",
       "(03300410) ALTERNATIVE DISPUTE RESOLUTION SERVICES                            823205.790\n",
       "(11022009) COMMONWEALTH FACILITY IMPROVEMENTS                                 668044.480\n",
       "(03330801) MISSION HOPE                                                       633503.590\n",
       "(03300612) TRIAL COURT SUBSTANCE ABUSE MODEL PROJECT                          579531.820\n",
       "(03391013) FY16 ADULT DRUG COURT DISCRETIONARY GRANT PROGRAM STATEWIDE        510742.940\n",
       "(03300441) PERMANENCY MEDIATION SERVICES PROBATE                              479166.630\n",
       "(80004603) JUVENILE JUSTICE DELINQUENCY AND                                   425686.310\n",
       "(45129069) SUBSTANCE ABUSE PREVENTION AND TREATMENT - BLOCK GRANT             414592.090\n",
       "(03201711) STATE COURT IMPROVEMENT DATA GRANT                                 336649.550\n",
       "(03300344) VETERANS COURT PROGRAM ADMINISTRATION AND TRANSPORTATION           329654.450\n",
       "(03300444) SECOND CHANCE ACT PRISONER REENTRY INITIATIVE                      299037.370\n",
       "(03321201) MISSION CAPE COD                                                   290265.960\n",
       "(45131130) DOMESTIC VIOLENCE AND SEXUAL ASSAULT SERVICES                      285479.690\n",
       "(80004620) STOP VIOLENCE AGAINST WOMEN FORMULA                                283066.530\n",
       "(03391010) 2ND CHANCE ACT: JUVENILE REETRY SYSTEM REFORM IMPLEMENTATION       201440.150\n",
       "(03308000) NEW ENGLAND REGIONAL JUDICIAL OPIOID INITIATIVE                    199984.510\n",
       "(42020603) LOOKOUT FOUNDATION EXPENDABLE TRUST                                196482.760\n",
       "(89008500) JAIL AND CORRECTIONAL FACILITIES                                   180774.150\n",
       "(45129075) DRUG COURT DISCRETIONARY GRANT                                     160738.850\n",
       "(11021335) COMMONWEALTH FACILITY TRUST FOR ENERGY EFFICIENCY                  151419.000\n",
       "(80004646) FFY18VAWAADMN,COURTS,DISCRETNRY,LAWENFORC,PROSECTN&VICTMSRVC       137914.800\n",
       "(03322701) ADULT DRUG COURT DISCRETIONARY GRANT - LYNN DC ENHANCEMENT         127788.250\n",
       "(03201710) STATE COURT IMPROVEMENT BASIC GRANT                                120481.690\n",
       "(TRC99999) PAYROLL HOLD ACCOUNT                                               111171.280\n",
       "(03304620) F03304620                                                          109958.120\n",
       "(03322601) MAINTAIN INDEPENDENCE & SOBRIETY THRU SI, O&N - MILL CITIES        102546.550\n",
       "(03201713) STATE COURT IMPROVEMENT TRAINING GRANT                              71078.120\n",
       "(11022014) COMMONWEALTH FACILITY ACCESSIBILITY UPGRADES                        49990.910\n",
       "(80006613) JUVENILE ACCOUNTABILITY BLOCK GRANT TRUST                           45424.250\n",
       "(03302413) JOHN AND ETHEL GOLDBERG V FUND                                      43127.000\n",
       "(11022494) FORWARD CAPACITY MARKET AND ENERGY EFFICIENCY TRUST FUND            38853.500\n",
       "(03201715) POST CONVICTION DNA TESTING FY14 DYBXK003                           33672.500\n",
       "(03370201) FAMILIES FIRST: IMPROVING OUTCOMES FOR YOUTH IN COURT               30422.180\n",
       "(80004805) MAP 21 405 PROGRAMS                                                 17498.100\n",
       "(03300092) TRANSGENDER TRAINING                                                 8801.540\n",
       "(03300169) TRIAL COURT COMMUNITY ENGAGEMENT TRUST                               6000.000\n",
       "(03350011) VETERANS COURT                                                       5867.710\n",
       "(08400108) VOCA GRANT TRAINING                                                  5059.940\n",
       "(03390015) OCP FATHERHOOD PROGRAM                                               1829.220\n",
       "(03325001) ADULT DRUG COURT DISCRETIONARY GRANT PROGRAM                         1822.970\n",
       "(03201804) OJJDP FY17 JUSTICE REINVESTMENT INITIATIVE                           1770.140\n",
       "Name: amount, dtype: float64"
      ]
     },
     "execution_count": 37,
     "metadata": {},
     "output_type": "execute_result"
    }
   ],
   "source": [
    "pd.set_option(\"display.max.rows\", 68)\n",
    "trial_court_expenditures.groupby(\"appropriation_name\").sum()[\"amount\"].sort_values(ascending=False)"
   ]
  },
  {
   "cell_type": "markdown",
   "metadata": {},
   "source": [
    "Ok, that doesn't really divide the spending up in criminal vs non-criminal. We could just not count Housing Court, Probate and Family, and any other expenditures that explicitly aren't criminal. But administrative staff is the biggest administrator and isn't broken down this way"
   ]
  },
  {
   "cell_type": "code",
   "execution_count": 38,
   "metadata": {},
   "outputs": [],
   "source": [
    "trial_court_payroll = pd.DataFrame(client.get(\"rxhc-k6iz\", \n",
    "                                             where = \"department_division = 'TRIAL COURT (TRC)' AND Year >= 2016\",\n",
    "                                  limit = 999999))"
   ]
  },
  {
   "cell_type": "code",
   "execution_count": 39,
   "metadata": {},
   "outputs": [],
   "source": [
    "trial_court_payroll[\"pay_total_actual\"] = trial_court_payroll[\"pay_total_actual\"].astype(float)"
   ]
  },
  {
   "cell_type": "code",
   "execution_count": 40,
   "metadata": {},
   "outputs": [
    {
     "data": {
      "text/plain": [
       "position_title\n",
       "Probation Officer               277476054.220\n",
       "Justice                         211046376.870\n",
       "Assistant Clerk Magistrate      147528834.250\n",
       "Case Specialist (Gr 7-10)       119645548.840\n",
       "Court Officer II                100212310.530\n",
       "                                     ...     \n",
       "Training Manager                     3517.530\n",
       "Community Outreach Specialist        3257.780\n",
       "Chief Storekeeper                    1204.700\n",
       "Research Asst -Drug Ct Grant          880.000\n",
       "Senior HR Manager for Ops             686.540\n",
       "Name: pay_total_actual, Length: 443, dtype: float64"
      ]
     },
     "execution_count": 40,
     "metadata": {},
     "output_type": "execute_result"
    }
   ],
   "source": [
    "trial_court_payroll.groupby(\"position_title\").sum()[\"pay_total_actual\"].sort_values(ascending=False)"
   ]
  },
  {
   "cell_type": "markdown",
   "metadata": {},
   "source": [
    "None of these seem to be associated with a particular branch of the court either "
   ]
  }
 ],
 "metadata": {
  "kernelspec": {
   "display_name": "Python 3",
   "language": "python",
   "name": "python3"
  },
  "language_info": {
   "codemirror_mode": {
    "name": "ipython",
    "version": 3
   },
   "file_extension": ".py",
   "mimetype": "text/x-python",
   "name": "python",
   "nbconvert_exporter": "python",
   "pygments_lexer": "ipython3",
   "version": "3.7.6"
  }
 },
 "nbformat": 4,
 "nbformat_minor": 4
}
