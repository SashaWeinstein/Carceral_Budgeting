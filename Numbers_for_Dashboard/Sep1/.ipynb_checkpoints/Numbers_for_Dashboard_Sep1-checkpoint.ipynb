{
 "cells": [
  {
   "cell_type": "markdown",
   "metadata": {},
   "source": [
    "What's new in these numbers is that I use state population correction for state cops instead of data from that FOIA on tickets"
   ]
  },
  {
   "cell_type": "code",
   "execution_count": 1,
   "metadata": {},
   "outputs": [
    {
     "name": "stderr",
     "output_type": "stream",
     "text": [
      "/opt/anaconda3/lib/python3.7/site-packages/pandas/core/frame.py:4133: SettingWithCopyWarning: \n",
      "A value is trying to be set on a copy of a slice from a DataFrame\n",
      "\n",
      "See the caveats in the documentation: https://pandas.pydata.org/pandas-docs/stable/user_guide/indexing.html#returning-a-view-versus-a-copy\n",
      "  errors=errors,\n",
      "/opt/anaconda3/lib/python3.7/site-packages/pandas/core/generic.py:6245: SettingWithCopyWarning: \n",
      "A value is trying to be set on a copy of a slice from a DataFrame\n",
      "\n",
      "See the caveats in the documentation: https://pandas.pydata.org/pandas-docs/stable/user_guide/indexing.html#returning-a-view-versus-a-copy\n",
      "  self._update_inplace(new_data)\n",
      "/Users/alexanderweinstein/Documents/Harris/Summer2020/Carceral_Budgeting/Exploratory/pensions/State_Pensions_2Ver.py:133: SettingWithCopyWarning: \n",
      "A value is trying to be set on a copy of a slice from a DataFrame.\n",
      "Try using .loc[row_indexer,col_indexer] = value instead\n",
      "\n",
      "See the caveats in the documentation: https://pandas.pydata.org/pandas-docs/stable/user_guide/indexing.html#returning-a-view-versus-a-copy\n",
      "  cthru_pensions[\"year\"] = cthru_pensions[\"year\"].astype(int)\n",
      "/Users/alexanderweinstein/Documents/Harris/Summer2020/Carceral_Budgeting/Exploratory/Initialize_Agencies_2Ver.py:5: DtypeWarning: Columns (16) have mixed types.Specify dtype option on import or set low_memory=False.\n",
      "  from Agency_Classes import StateAgency, MBTA, BostonPD, ChelseaPD, ReverePD, WinthropPD\n"
     ]
    },
    {
     "name": "stdout",
     "output_type": "stream",
     "text": [
      "\n"
     ]
    }
   ],
   "source": [
    "import pandas as pd\n",
    "import os\n",
    "import sys\n",
    "sys.path.insert(0, \"/Users/alexanderweinstein/Documents/Harris/Summer2020/Carceral_Budgeting/Exploratory/\")\n",
    "sys.path.insert(0, \"/Users/alexanderweinstein/Documents/Harris/Summer2020/Carceral_Budgeting/Exploratory/\"\n",
    "                   \"visualize/Total_Costs/Total_Costs_by_Type\")\n",
    "\n",
    "from Total_Costs_by_Type_2Ver import by_type"
   ]
  },
  {
   "cell_type": "code",
   "execution_count": 2,
   "metadata": {
    "scrolled": false
   },
   "outputs": [
    {
     "name": "stderr",
     "output_type": "stream",
     "text": [
      "/Users/alexanderweinstein/Documents/Harris/Summer2020/Carceral_Budgeting/Exploratory/Agency_Classes.py:151: DtypeWarning: Columns (16) have mixed types.Specify dtype option on import or set low_memory=False.\n",
      "  self.get_expenditures_by_year()\n",
      "/Users/alexanderweinstein/Documents/Harris/Summer2020/Carceral_Budgeting/Exploratory/visualize/Total_Costs/Total_Costs_by_Type/Total_Costs_by_Type_2Ver.py:36: SettingWithCopyWarning: \n",
      "A value is trying to be set on a copy of a slice from a DataFrame.\n",
      "Try using .loc[row_indexer,col_indexer] = value instead\n",
      "\n",
      "See the caveats in the documentation: https://pandas.pydata.org/pandas-docs/stable/user_guide/indexing.html#returning-a-view-versus-a-copy\n",
      "  by_agency.iloc[-5:,:][\"Agency\"] = a.alias\n",
      "/Users/alexanderweinstein/Documents/Harris/Summer2020/Carceral_Budgeting/Exploratory/Agency_Classes.py:151: DtypeWarning: Columns (15,16) have mixed types.Specify dtype option on import or set low_memory=False.\n",
      "  self.get_expenditures_by_year()\n"
     ]
    },
    {
     "name": "stdout",
     "output_type": "stream",
     "text": [
      "df passed in is\n"
     ]
    },
    {
     "data": {
      "text/plain": [
       "budget_fiscal_year\n",
       "2016   602503246.123\n",
       "2017   606741599.721\n",
       "2018   622037238.648\n",
       "2019   645640261.445\n",
       "dtype: float64"
      ]
     },
     "metadata": {},
     "output_type": "display_data"
    },
    {
     "name": "stdout",
     "output_type": "stream",
     "text": [
      "with index Int64Index([2016, 2017, 2018, 2019], dtype='int64', name='budget_fiscal_year')\n",
      "correction is 2016   0.114\n",
      "2017   0.115\n",
      "2018   0.116\n",
      "2019   0.116\n",
      "dtype: float64\n",
      "returning \n"
     ]
    },
    {
     "data": {
      "text/plain": [
       "budget_fiscal_year\n",
       "2016   68606256.143\n",
       "2017   69767537.183\n",
       "2018   72107469.920\n",
       "2019   75095973.083\n",
       "dtype: float64"
      ]
     },
     "metadata": {},
     "output_type": "display_data"
    },
    {
     "name": "stdout",
     "output_type": "stream",
     "text": [
      "df passed in is\n"
     ]
    },
    {
     "data": {
      "text/plain": [
       "budget_fiscal_year\n",
       "2016   331448024.310\n",
       "2017   333095099.530\n",
       "2018   344898224.890\n",
       "2019   360742858.000\n",
       "Name: amount, dtype: float64"
      ]
     },
     "metadata": {},
     "output_type": "display_data"
    },
    {
     "name": "stdout",
     "output_type": "stream",
     "text": [
      "with index Int64Index([2016, 2017, 2018, 2019], dtype='int64', name='budget_fiscal_year')\n",
      "correction is 2016   0.114\n",
      "2017   0.115\n",
      "2018   0.116\n",
      "2019   0.116\n",
      "dtype: float64\n",
      "returning \n"
     ]
    },
    {
     "data": {
      "text/plain": [
       "budget_fiscal_year\n",
       "2016   37741552.764\n",
       "2017   38301683.538\n",
       "2018   39981108.576\n",
       "2019   41958870.244\n",
       "dtype: float64"
      ]
     },
     "metadata": {},
     "output_type": "display_data"
    },
    {
     "name": "stdout",
     "output_type": "stream",
     "text": [
      "df passed in is\n"
     ]
    },
    {
     "data": {
      "text/plain": [
       "budget_fiscal_year\n",
       "2016   331448024.310\n",
       "2017   333095099.530\n",
       "2018   344898224.890\n",
       "2019   360742858.000\n",
       "Name: amount, dtype: float64"
      ]
     },
     "metadata": {},
     "output_type": "display_data"
    },
    {
     "name": "stdout",
     "output_type": "stream",
     "text": [
      "with index Int64Index([2016, 2017, 2018, 2019], dtype='int64', name='budget_fiscal_year')\n",
      "correction is 2016   0.114\n",
      "2017   0.115\n",
      "2018   0.116\n",
      "2019   0.116\n",
      "dtype: float64\n",
      "returning \n"
     ]
    },
    {
     "data": {
      "text/plain": [
       "budget_fiscal_year\n",
       "2016   37741552.764\n",
       "2017   38301683.538\n",
       "2018   39981108.576\n",
       "2019   41958870.244\n",
       "dtype: float64"
      ]
     },
     "metadata": {},
     "output_type": "display_data"
    },
    {
     "name": "stdout",
     "output_type": "stream",
     "text": [
      "df passed in is\n"
     ]
    },
    {
     "data": {
      "text/plain": [
       "budget_fiscal_year\n",
       "2016   33228468.370\n",
       "2017   29599187.540\n",
       "2018   34817187.910\n",
       "2019   36194833.840\n",
       "Name: amount, dtype: float64"
      ]
     },
     "metadata": {},
     "output_type": "display_data"
    },
    {
     "name": "stdout",
     "output_type": "stream",
     "text": [
      "with index Int64Index([2016, 2017, 2018, 2019], dtype='int64', name='budget_fiscal_year')\n",
      "correction is 2016   0.114\n",
      "2017   0.115\n",
      "2018   0.116\n",
      "2019   0.116\n",
      "dtype: float64\n",
      "returning \n"
     ]
    },
    {
     "data": {
      "text/plain": [
       "budget_fiscal_year\n",
       "2016   3783682.207\n",
       "2017   3403528.649\n",
       "2018   4036059.538\n",
       "2019   4209908.257\n",
       "dtype: float64"
      ]
     },
     "metadata": {},
     "output_type": "display_data"
    },
    {
     "name": "stdout",
     "output_type": "stream",
     "text": [
      "df passed in is\n"
     ]
    },
    {
     "data": {
      "text/plain": [
       "budget_fiscal_year\n",
       "2016   33228468.370\n",
       "2017   29599187.540\n",
       "2018   34817187.910\n",
       "2019   36194833.840\n",
       "Name: amount, dtype: float64"
      ]
     },
     "metadata": {},
     "output_type": "display_data"
    },
    {
     "name": "stdout",
     "output_type": "stream",
     "text": [
      "with index Int64Index([2016, 2017, 2018, 2019], dtype='int64', name='budget_fiscal_year')\n",
      "correction is 2016   0.114\n",
      "2017   0.115\n",
      "2018   0.116\n",
      "2019   0.116\n",
      "dtype: float64\n",
      "returning \n"
     ]
    },
    {
     "data": {
      "text/plain": [
       "budget_fiscal_year\n",
       "2016   3783682.207\n",
       "2017   3403528.649\n",
       "2018   4036059.538\n",
       "2019   4209908.257\n",
       "dtype: float64"
      ]
     },
     "metadata": {},
     "output_type": "display_data"
    },
    {
     "name": "stdout",
     "output_type": "stream",
     "text": [
      "df passed in is\n"
     ]
    },
    {
     "data": {
      "text/plain": [
       "2016    83403161.782\n",
       "2017    88329517.155\n",
       "2018    97345700.195\n",
       "2019   107493144.446\n",
       "Name: State_Police, dtype: float64"
      ]
     },
     "metadata": {},
     "output_type": "display_data"
    },
    {
     "name": "stdout",
     "output_type": "stream",
     "text": [
      "with index Int64Index([2016, 2017, 2018, 2019], dtype='int64')\n",
      "correction is 2016   0.114\n",
      "2017   0.115\n",
      "2018   0.116\n",
      "2019   0.116\n",
      "dtype: float64\n",
      "returning \n"
     ]
    },
    {
     "data": {
      "text/plain": [
       "2016    9497008.883\n",
       "2017   10156766.695\n",
       "2018   11284456.480\n",
       "2019   12502786.403\n",
       "dtype: float64"
      ]
     },
     "metadata": {},
     "output_type": "display_data"
    },
    {
     "name": "stdout",
     "output_type": "stream",
     "text": [
      "df passed in is\n"
     ]
    },
    {
     "data": {
      "text/plain": [
       "2016    83403161.782\n",
       "2017    88329517.155\n",
       "2018    97345700.195\n",
       "2019   107493144.446\n",
       "Name: State_Police, dtype: float64"
      ]
     },
     "metadata": {},
     "output_type": "display_data"
    },
    {
     "name": "stdout",
     "output_type": "stream",
     "text": [
      "with index Int64Index([2016, 2017, 2018, 2019], dtype='int64')\n",
      "correction is 2016   0.114\n",
      "2017   0.115\n",
      "2018   0.116\n",
      "2019   0.116\n",
      "dtype: float64\n",
      "returning \n"
     ]
    },
    {
     "data": {
      "text/plain": [
       "2016    9497008.883\n",
       "2017   10156766.695\n",
       "2018   11284456.480\n",
       "2019   12502786.403\n",
       "dtype: float64"
      ]
     },
     "metadata": {},
     "output_type": "display_data"
    },
    {
     "name": "stdout",
     "output_type": "stream",
     "text": [
      "df passed in is\n"
     ]
    },
    {
     "data": {
      "text/plain": [
       "2016   140492741.541\n",
       "2017   140846741.116\n",
       "2018   129154003.184\n",
       "2019   124556638.739\n",
       "dtype: float64"
      ]
     },
     "metadata": {},
     "output_type": "display_data"
    },
    {
     "name": "stdout",
     "output_type": "stream",
     "text": [
      "with index Int64Index([2016, 2017, 2018, 2019], dtype='int64')\n",
      "correction is 2016   0.114\n",
      "2017   0.115\n",
      "2018   0.116\n",
      "2019   0.116\n",
      "dtype: float64\n",
      "returning \n"
     ]
    },
    {
     "data": {
      "text/plain": [
       "2016   15997724.617\n",
       "2017   16195576.918\n",
       "2018   14971721.661\n",
       "2019   14487482.502\n",
       "dtype: float64"
      ]
     },
     "metadata": {},
     "output_type": "display_data"
    },
    {
     "name": "stdout",
     "output_type": "stream",
     "text": [
      "df passed in is\n"
     ]
    },
    {
     "data": {
      "text/plain": [
       "2016   140492741.541\n",
       "2017   140846741.116\n",
       "2018   129154003.184\n",
       "2019   124556638.739\n",
       "dtype: float64"
      ]
     },
     "metadata": {},
     "output_type": "display_data"
    },
    {
     "name": "stdout",
     "output_type": "stream",
     "text": [
      "with index Int64Index([2016, 2017, 2018, 2019], dtype='int64')\n",
      "correction is 2016   0.114\n",
      "2017   0.115\n",
      "2018   0.116\n",
      "2019   0.116\n",
      "dtype: float64\n",
      "returning \n"
     ]
    },
    {
     "data": {
      "text/plain": [
       "2016   15997724.617\n",
       "2017   16195576.918\n",
       "2018   14971721.661\n",
       "2019   14487482.502\n",
       "dtype: float64"
      ]
     },
     "metadata": {},
     "output_type": "display_data"
    },
    {
     "name": "stdout",
     "output_type": "stream",
     "text": [
      "df passed in is\n"
     ]
    },
    {
     "data": {
      "text/plain": [
       "2016   12231425.400\n",
       "2017   14479319.430\n",
       "2018   15154080.800\n",
       "2019   15759787.920\n",
       "dtype: float64"
      ]
     },
     "metadata": {},
     "output_type": "display_data"
    },
    {
     "name": "stdout",
     "output_type": "stream",
     "text": [
      "with index Int64Index([2016, 2017, 2018, 2019], dtype='int64')\n",
      "correction is 2016   0.114\n",
      "2017   0.115\n",
      "2018   0.116\n",
      "2019   0.116\n",
      "dtype: float64\n",
      "returning \n"
     ]
    },
    {
     "data": {
      "text/plain": [
       "2016   1392776.403\n",
       "2017   1664936.865\n",
       "2018   1756683.294\n",
       "2019   1833058.872\n",
       "dtype: float64"
      ]
     },
     "metadata": {},
     "output_type": "display_data"
    },
    {
     "name": "stdout",
     "output_type": "stream",
     "text": [
      "df passed in is\n"
     ]
    },
    {
     "data": {
      "text/plain": [
       "2016   12231425.400\n",
       "2017   14479319.430\n",
       "2018   15154080.800\n",
       "2019   15759787.920\n",
       "dtype: float64"
      ]
     },
     "metadata": {},
     "output_type": "display_data"
    },
    {
     "name": "stdout",
     "output_type": "stream",
     "text": [
      "with index Int64Index([2016, 2017, 2018, 2019], dtype='int64')\n",
      "correction is 2016   0.114\n",
      "2017   0.115\n",
      "2018   0.116\n",
      "2019   0.116\n",
      "dtype: float64\n",
      "returning \n"
     ]
    },
    {
     "data": {
      "text/plain": [
       "2016   1392776.403\n",
       "2017   1664936.865\n",
       "2018   1756683.294\n",
       "2019   1833058.872\n",
       "dtype: float64"
      ]
     },
     "metadata": {},
     "output_type": "display_data"
    }
   ],
   "source": [
    "overall, by_agency = by_type()"
   ]
  },
  {
   "cell_type": "code",
   "execution_count": 3,
   "metadata": {},
   "outputs": [
    {
     "data": {
      "text/html": [
       "<div>\n",
       "<style scoped>\n",
       "    .dataframe tbody tr th:only-of-type {\n",
       "        vertical-align: middle;\n",
       "    }\n",
       "\n",
       "    .dataframe tbody tr th {\n",
       "        vertical-align: top;\n",
       "    }\n",
       "\n",
       "    .dataframe thead th {\n",
       "        text-align: right;\n",
       "    }\n",
       "</style>\n",
       "<table border=\"1\" class=\"dataframe\">\n",
       "  <thead>\n",
       "    <tr style=\"text-align: right;\">\n",
       "      <th></th>\n",
       "      <th>2016</th>\n",
       "      <th>2017</th>\n",
       "      <th>2018</th>\n",
       "      <th>2019</th>\n",
       "    </tr>\n",
       "  </thead>\n",
       "  <tbody>\n",
       "    <tr>\n",
       "      <th>Payroll Costs</th>\n",
       "      <td>660026106.486</td>\n",
       "      <td>664573984.585</td>\n",
       "      <td>712183754.058</td>\n",
       "      <td>728472865.205</td>\n",
       "    </tr>\n",
       "    <tr>\n",
       "      <th>Non-Payroll Operating Costs</th>\n",
       "      <td>88338930.753</td>\n",
       "      <td>91874708.269</td>\n",
       "      <td>107109734.326</td>\n",
       "      <td>111386928.417</td>\n",
       "    </tr>\n",
       "    <tr>\n",
       "      <th>Pension Costs</th>\n",
       "      <td>121910779.476</td>\n",
       "      <td>124386257.250</td>\n",
       "      <td>144112823.615</td>\n",
       "      <td>155122417.160</td>\n",
       "    </tr>\n",
       "    <tr>\n",
       "      <th>Fringe Benefit Costs</th>\n",
       "      <td>155448114.179</td>\n",
       "      <td>155353659.383</td>\n",
       "      <td>157148211.922</td>\n",
       "      <td>156343550.073</td>\n",
       "    </tr>\n",
       "    <tr>\n",
       "      <th>Capital Costs</th>\n",
       "      <td>10720759.816</td>\n",
       "      <td>12969043.598</td>\n",
       "      <td>23474217.813</td>\n",
       "      <td>13032612.028</td>\n",
       "    </tr>\n",
       "  </tbody>\n",
       "</table>\n",
       "</div>"
      ],
      "text/plain": [
       "                                     2016          2017          2018  \\\n",
       "Payroll Costs               660026106.486 664573984.585 712183754.058   \n",
       "Non-Payroll Operating Costs  88338930.753  91874708.269 107109734.326   \n",
       "Pension Costs               121910779.476 124386257.250 144112823.615   \n",
       "Fringe Benefit Costs        155448114.179 155353659.383 157148211.922   \n",
       "Capital Costs                10720759.816  12969043.598  23474217.813   \n",
       "\n",
       "                                     2019  \n",
       "Payroll Costs               728472865.205  \n",
       "Non-Payroll Operating Costs 111386928.417  \n",
       "Pension Costs               155122417.160  \n",
       "Fringe Benefit Costs        156343550.073  \n",
       "Capital Costs                13032612.028  "
      ]
     },
     "execution_count": 3,
     "metadata": {},
     "output_type": "execute_result"
    }
   ],
   "source": [
    "overall"
   ]
  },
  {
   "cell_type": "code",
   "execution_count": 4,
   "metadata": {},
   "outputs": [
    {
     "data": {
      "text/plain": [
       "2016   1036444690.710\n",
       "2017   1049157653.085\n",
       "2018   1144028741.734\n",
       "2019   1164358372.883\n",
       "dtype: float64"
      ]
     },
     "execution_count": 4,
     "metadata": {},
     "output_type": "execute_result"
    }
   ],
   "source": [
    "overall.sum()"
   ]
  },
  {
   "cell_type": "code",
   "execution_count": 15,
   "metadata": {},
   "outputs": [
    {
     "data": {
      "text/plain": [
       "107617539.04353105"
      ]
     },
     "execution_count": 15,
     "metadata": {},
     "output_type": "execute_result"
    }
   ],
   "source": [
    "by_agency.loc[((by_agency[\"Agency\"]==\"State_Police\") | \n",
    "               (by_agency[\"Agency\"] == \"MBTA\")) , list(range(2016,2020))].values.sum()/4"
   ]
  },
  {
   "cell_type": "code",
   "execution_count": 8,
   "metadata": {},
   "outputs": [],
   "source": [
    "def bos_ticket(x):\n",
    "    \"\"\"Called in state_police_correction\"\"\"\n",
    "    boston_hoods = [\"brighton\", \"charlestown\", \"dorchester\", \"roxbury\", \"boston\", \"chelsea\", \"revere\", \"winthrop\"]\n",
    "    for h in boston_hoods:\n",
    "        if h in x.lower():\n",
    "            return True\n",
    "    return False"
   ]
  },
  {
   "cell_type": "code",
   "execution_count": 10,
   "metadata": {},
   "outputs": [
    {
     "data": {
      "text/plain": [
       "0.16996778765622986"
      ]
     },
     "execution_count": 10,
     "metadata": {},
     "output_type": "execute_result"
    }
   ],
   "source": [
    "tickets = pd.read_csv(\"/Users/alexanderweinstein/Documents/Harris/Summer2020/Carceral_Budgeting/Exploratory\"\n",
    "                          \"/data/Agency_Corrections/state_police/state_police_tickets.csv\")\n",
    "tickets[\"Boston Ticket\"] = [bos_ticket(x) for x in tickets[\"Location\"]]\n",
    "tickets[\"Boston Ticket\"].sum()/tickets.shape[0]\n"
   ]
  },
  {
   "cell_type": "code",
   "execution_count": 19,
   "metadata": {},
   "outputs": [
    {
     "data": {
      "text/plain": [
       "0.7448275862068966"
      ]
     },
     "execution_count": 19,
     "metadata": {},
     "output_type": "execute_result"
    }
   ],
   "source": [
    "108/145"
   ]
  },
  {
   "cell_type": "code",
   "execution_count": 18,
   "metadata": {},
   "outputs": [
    {
     "data": {
      "text/plain": [
       "0.676470588235294"
      ]
     },
     "execution_count": 18,
     "metadata": {},
     "output_type": "execute_result"
    }
   ],
   "source": [
    ".115/.17"
   ]
  },
  {
   "cell_type": "code",
   "execution_count": 22,
   "metadata": {},
   "outputs": [],
   "source": [
    "# overall.to_csv(\"/Users/alexanderweinstein/Documents\"\n",
    "#                \"/Harris/Summer2020/Carceral_Budgeting/Dashboard/carceral_budgeting_app/Data/By_Cost_Type_Sep1.csv\")"
   ]
  },
  {
   "cell_type": "code",
   "execution_count": 24,
   "metadata": {},
   "outputs": [],
   "source": [
    "# by_agency.to_csv(\"/Users/alexanderweinstein/Documents\"\n",
    "#                   \"/Harris/Summer2020/Carceral_Budgeting/Dashboard/carceral_budgeting_app/Data/By_Agency_Sep1.csv\")"
   ]
  },
  {
   "cell_type": "code",
   "execution_count": null,
   "metadata": {},
   "outputs": [],
   "source": []
  }
 ],
 "metadata": {
  "kernelspec": {
   "display_name": "Python 3",
   "language": "python",
   "name": "python3"
  },
  "language_info": {
   "codemirror_mode": {
    "name": "ipython",
    "version": 3
   },
   "file_extension": ".py",
   "mimetype": "text/x-python",
   "name": "python",
   "nbconvert_exporter": "python",
   "pygments_lexer": "ipython3",
   "version": "3.7.6"
  }
 },
 "nbformat": 4,
 "nbformat_minor": 4
}
