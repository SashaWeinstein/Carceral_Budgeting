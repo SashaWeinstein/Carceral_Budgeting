{
 "cells": [
  {
   "cell_type": "markdown",
   "metadata": {},
   "source": [
    "What's new in these numbers is that I use state population correction for state cops instead of data from that FOIA on tickets"
   ]
  },
  {
   "cell_type": "code",
   "execution_count": 1,
   "metadata": {},
   "outputs": [
    {
     "name": "stderr",
     "output_type": "stream",
     "text": [
      "/opt/anaconda3/lib/python3.7/site-packages/pandas/core/frame.py:4133: SettingWithCopyWarning: \n",
      "A value is trying to be set on a copy of a slice from a DataFrame\n",
      "\n",
      "See the caveats in the documentation: https://pandas.pydata.org/pandas-docs/stable/user_guide/indexing.html#returning-a-view-versus-a-copy\n",
      "  errors=errors,\n",
      "/opt/anaconda3/lib/python3.7/site-packages/pandas/core/generic.py:6245: SettingWithCopyWarning: \n",
      "A value is trying to be set on a copy of a slice from a DataFrame\n",
      "\n",
      "See the caveats in the documentation: https://pandas.pydata.org/pandas-docs/stable/user_guide/indexing.html#returning-a-view-versus-a-copy\n",
      "  self._update_inplace(new_data)\n",
      "/Users/alexanderweinstein/Documents/Harris/Summer2020/Carceral_Budgeting/Exploratory/pensions/State_Pensions_2Ver.py:133: SettingWithCopyWarning: \n",
      "A value is trying to be set on a copy of a slice from a DataFrame.\n",
      "Try using .loc[row_indexer,col_indexer] = value instead\n",
      "\n",
      "See the caveats in the documentation: https://pandas.pydata.org/pandas-docs/stable/user_guide/indexing.html#returning-a-view-versus-a-copy\n",
      "  cthru_pensions[\"year\"] = cthru_pensions[\"year\"].astype(int)\n",
      "/Users/alexanderweinstein/Documents/Harris/Summer2020/Carceral_Budgeting/Exploratory/Initialize_Agencies_2Ver.py:5: DtypeWarning: Columns (16) have mixed types.Specify dtype option on import or set low_memory=False.\n",
      "  from Agency_Classes import StateAgency, MBTA, BostonPD, ChelseaPD, ReverePD, WinthropPD\n"
     ]
    },
    {
     "name": "stdout",
     "output_type": "stream",
     "text": [
      "\n"
     ]
    }
   ],
   "source": [
    "import pandas as pd\n",
    "import os\n",
    "import sys\n",
    "sys.path.insert(0, \"/Users/alexanderweinstein/Documents/Harris/Summer2020/Carceral_Budgeting/Exploratory/\")\n",
    "sys.path.insert(0, \"/Users/alexanderweinstein/Documents/Harris/Summer2020/Carceral_Budgeting/Exploratory/\"\n",
    "                   \"visualize/Total_Costs/Total_Costs_by_Type\")\n",
    "\n",
    "from Total_Costs_by_Type_2Ver import by_type"
   ]
  },
  {
   "cell_type": "code",
   "execution_count": 2,
   "metadata": {
    "scrolled": false
   },
   "outputs": [
    {
     "name": "stderr",
     "output_type": "stream",
     "text": [
      "/Users/alexanderweinstein/Documents/Harris/Summer2020/Carceral_Budgeting/Exploratory/Agency_Classes.py:151: DtypeWarning: Columns (16) have mixed types.Specify dtype option on import or set low_memory=False.\n",
      "  self.get_expenditures_by_year()\n",
      "/Users/alexanderweinstein/Documents/Harris/Summer2020/Carceral_Budgeting/Exploratory/visualize/Total_Costs/Total_Costs_by_Type/Total_Costs_by_Type_2Ver.py:36: SettingWithCopyWarning: \n",
      "A value is trying to be set on a copy of a slice from a DataFrame.\n",
      "Try using .loc[row_indexer,col_indexer] = value instead\n",
      "\n",
      "See the caveats in the documentation: https://pandas.pydata.org/pandas-docs/stable/user_guide/indexing.html#returning-a-view-versus-a-copy\n",
      "  by_agency.iloc[-5:,:][\"Agency\"] = a.alias\n",
      "/Users/alexanderweinstein/Documents/Harris/Summer2020/Carceral_Budgeting/Exploratory/Agency_Classes.py:151: DtypeWarning: Columns (15,16) have mixed types.Specify dtype option on import or set low_memory=False.\n",
      "  self.get_expenditures_by_year()\n"
     ]
    }
   ],
   "source": [
    "overall, by_agency = by_type()"
   ]
  },
  {
   "cell_type": "code",
   "execution_count": 3,
   "metadata": {},
   "outputs": [
    {
     "data": {
      "text/html": [
       "<div>\n",
       "<style scoped>\n",
       "    .dataframe tbody tr th:only-of-type {\n",
       "        vertical-align: middle;\n",
       "    }\n",
       "\n",
       "    .dataframe tbody tr th {\n",
       "        vertical-align: top;\n",
       "    }\n",
       "\n",
       "    .dataframe thead th {\n",
       "        text-align: right;\n",
       "    }\n",
       "</style>\n",
       "<table border=\"1\" class=\"dataframe\">\n",
       "  <thead>\n",
       "    <tr style=\"text-align: right;\">\n",
       "      <th></th>\n",
       "      <th>Agency</th>\n",
       "      <th>Cost Type</th>\n",
       "      <th>2016</th>\n",
       "      <th>2017</th>\n",
       "      <th>2018</th>\n",
       "      <th>2019</th>\n",
       "    </tr>\n",
       "  </thead>\n",
       "  <tbody>\n",
       "    <tr>\n",
       "      <th>trial_court Payroll Costs</th>\n",
       "      <td>trial_court</td>\n",
       "      <td>Payroll Costs</td>\n",
       "      <td>23570566.190</td>\n",
       "      <td>23046553.846</td>\n",
       "      <td>25548833.002</td>\n",
       "      <td>27501285.326</td>\n",
       "    </tr>\n",
       "    <tr>\n",
       "      <th>trial_court Non-Payroll Operating Costs</th>\n",
       "      <td>trial_court</td>\n",
       "      <td>Non-Payroll Operating Costs</td>\n",
       "      <td>5944241.832</td>\n",
       "      <td>5541151.304</td>\n",
       "      <td>6196676.549</td>\n",
       "      <td>7053846.455</td>\n",
       "    </tr>\n",
       "    <tr>\n",
       "      <th>trial_court Pension Costs</th>\n",
       "      <td>trial_court</td>\n",
       "      <td>Pension Costs</td>\n",
       "      <td>3894418.329</td>\n",
       "      <td>4029926.018</td>\n",
       "      <td>4609502.150</td>\n",
       "      <td>5014950.330</td>\n",
       "    </tr>\n",
       "    <tr>\n",
       "      <th>trial_court Fringe Benefit Costs</th>\n",
       "      <td>trial_court</td>\n",
       "      <td>Fringe Benefit Costs</td>\n",
       "      <td>9278078.577</td>\n",
       "      <td>8658666.117</td>\n",
       "      <td>9211426.572</td>\n",
       "      <td>9345754.191</td>\n",
       "    </tr>\n",
       "    <tr>\n",
       "      <th>trial_court Capital Costs</th>\n",
       "      <td>trial_court</td>\n",
       "      <td>Capital Costs</td>\n",
       "      <td>705033.726</td>\n",
       "      <td>873040.115</td>\n",
       "      <td>618023.570</td>\n",
       "      <td>596563.500</td>\n",
       "    </tr>\n",
       "    <tr>\n",
       "      <th>...</th>\n",
       "      <td>...</td>\n",
       "      <td>...</td>\n",
       "      <td>...</td>\n",
       "      <td>...</td>\n",
       "      <td>...</td>\n",
       "      <td>...</td>\n",
       "    </tr>\n",
       "    <tr>\n",
       "      <th>Winthrop PD Payroll Costs</th>\n",
       "      <td>Winthrop PD</td>\n",
       "      <td>Payroll Costs</td>\n",
       "      <td>2842909.000</td>\n",
       "      <td>2927191.000</td>\n",
       "      <td>3225884.000</td>\n",
       "      <td>3803402.000</td>\n",
       "    </tr>\n",
       "    <tr>\n",
       "      <th>Winthrop PD Non-Payroll Operating Costs</th>\n",
       "      <td>Winthrop PD</td>\n",
       "      <td>Non-Payroll Operating Costs</td>\n",
       "      <td>194777.000</td>\n",
       "      <td>185439.000</td>\n",
       "      <td>194956.000</td>\n",
       "      <td>233533.000</td>\n",
       "    </tr>\n",
       "    <tr>\n",
       "      <th>Winthrop PD Pension Costs</th>\n",
       "      <td>Winthrop PD</td>\n",
       "      <td>Pension Costs</td>\n",
       "      <td>912028.782</td>\n",
       "      <td>702707.081</td>\n",
       "      <td>745260.916</td>\n",
       "      <td>778578.451</td>\n",
       "    </tr>\n",
       "    <tr>\n",
       "      <th>Winthrop PD Fringe Benefit Costs</th>\n",
       "      <td>Winthrop PD</td>\n",
       "      <td>Fringe Benefit Costs</td>\n",
       "      <td>794997.427</td>\n",
       "      <td>1188270.591</td>\n",
       "      <td>1108502.513</td>\n",
       "      <td>1160070.335</td>\n",
       "    </tr>\n",
       "    <tr>\n",
       "      <th>Winthrop PD Capital Costs</th>\n",
       "      <td>Winthrop PD</td>\n",
       "      <td>Capital Costs</td>\n",
       "      <td>0.000</td>\n",
       "      <td>39393.000</td>\n",
       "      <td>40000.000</td>\n",
       "      <td>0.000</td>\n",
       "    </tr>\n",
       "  </tbody>\n",
       "</table>\n",
       "<p>85 rows × 6 columns</p>\n",
       "</div>"
      ],
      "text/plain": [
       "                                              Agency  \\\n",
       "trial_court Payroll Costs                trial_court   \n",
       "trial_court Non-Payroll Operating Costs  trial_court   \n",
       "trial_court Pension Costs                trial_court   \n",
       "trial_court Fringe Benefit Costs         trial_court   \n",
       "trial_court Capital Costs                trial_court   \n",
       "...                                              ...   \n",
       "Winthrop PD Payroll Costs                Winthrop PD   \n",
       "Winthrop PD Non-Payroll Operating Costs  Winthrop PD   \n",
       "Winthrop PD Pension Costs                Winthrop PD   \n",
       "Winthrop PD Fringe Benefit Costs         Winthrop PD   \n",
       "Winthrop PD Capital Costs                Winthrop PD   \n",
       "\n",
       "                                                           Cost Type  \\\n",
       "trial_court Payroll Costs                              Payroll Costs   \n",
       "trial_court Non-Payroll Operating Costs  Non-Payroll Operating Costs   \n",
       "trial_court Pension Costs                              Pension Costs   \n",
       "trial_court Fringe Benefit Costs                Fringe Benefit Costs   \n",
       "trial_court Capital Costs                              Capital Costs   \n",
       "...                                                              ...   \n",
       "Winthrop PD Payroll Costs                              Payroll Costs   \n",
       "Winthrop PD Non-Payroll Operating Costs  Non-Payroll Operating Costs   \n",
       "Winthrop PD Pension Costs                              Pension Costs   \n",
       "Winthrop PD Fringe Benefit Costs                Fringe Benefit Costs   \n",
       "Winthrop PD Capital Costs                              Capital Costs   \n",
       "\n",
       "                                                2016         2017  \\\n",
       "trial_court Payroll Costs               23570566.190 23046553.846   \n",
       "trial_court Non-Payroll Operating Costs  5944241.832  5541151.304   \n",
       "trial_court Pension Costs                3894418.329  4029926.018   \n",
       "trial_court Fringe Benefit Costs         9278078.577  8658666.117   \n",
       "trial_court Capital Costs                 705033.726   873040.115   \n",
       "...                                              ...          ...   \n",
       "Winthrop PD Payroll Costs                2842909.000  2927191.000   \n",
       "Winthrop PD Non-Payroll Operating Costs   194777.000   185439.000   \n",
       "Winthrop PD Pension Costs                 912028.782   702707.081   \n",
       "Winthrop PD Fringe Benefit Costs          794997.427  1188270.591   \n",
       "Winthrop PD Capital Costs                      0.000    39393.000   \n",
       "\n",
       "                                                2018         2019  \n",
       "trial_court Payroll Costs               25548833.002 27501285.326  \n",
       "trial_court Non-Payroll Operating Costs  6196676.549  7053846.455  \n",
       "trial_court Pension Costs                4609502.150  5014950.330  \n",
       "trial_court Fringe Benefit Costs         9211426.572  9345754.191  \n",
       "trial_court Capital Costs                 618023.570   596563.500  \n",
       "...                                              ...          ...  \n",
       "Winthrop PD Payroll Costs                3225884.000  3803402.000  \n",
       "Winthrop PD Non-Payroll Operating Costs   194956.000   233533.000  \n",
       "Winthrop PD Pension Costs                 745260.916   778578.451  \n",
       "Winthrop PD Fringe Benefit Costs         1108502.513  1160070.335  \n",
       "Winthrop PD Capital Costs                  40000.000        0.000  \n",
       "\n",
       "[85 rows x 6 columns]"
      ]
     },
     "execution_count": 3,
     "metadata": {},
     "output_type": "execute_result"
    }
   ],
   "source": [
    "by_agency"
   ]
  },
  {
   "cell_type": "code",
   "execution_count": 4,
   "metadata": {},
   "outputs": [],
   "source": [
    "# by_agency.to_csv(\"/Users/alexanderweinstein/Documents/Harris/Summer2020/Carceral_Budgeting/Dashboard/carceral_budgeting_app/Data/By_Agency_Sep8.csv\")\n"
   ]
  },
  {
   "cell_type": "code",
   "execution_count": 5,
   "metadata": {},
   "outputs": [],
   "source": [
    "# overall.to_csv(\"/Users/alexanderweinstein/Documents/Harris/Summer2020/Carceral_Budgeting/Dashboard/carceral_budgeting_app/Data/By_Cost_Type_Sep8.csv\")\n"
   ]
  },
  {
   "cell_type": "code",
   "execution_count": 5,
   "metadata": {},
   "outputs": [],
   "source": [
    "by_agency_sept1 = pd.read_csv(\"/Users/alexanderweinstein/Documents/Harris/Summer2020/Carceral_Budgeting/Dashboard/carceral_budgeting_app/Data/By_Agency_Sep1.csv\")"
   ]
  },
  {
   "cell_type": "code",
   "execution_count": 7,
   "metadata": {},
   "outputs": [
    {
     "data": {
      "text/plain": [
       "Unnamed: 0    trial_court Payroll Coststrial_court Non-Payro...\n",
       "Agency        trial_courttrial_courttrial_courttrial_courttr...\n",
       "Cost Type     Payroll CostsNon-Payroll Operating CostsPensio...\n",
       "2016                                             1036444690.710\n",
       "2017                                             1049157653.085\n",
       "2018                                             1144028741.734\n",
       "2019                                             1164358372.883\n",
       "dtype: object"
      ]
     },
     "execution_count": 7,
     "metadata": {},
     "output_type": "execute_result"
    }
   ],
   "source": [
    "by_agency_sept1.sum()"
   ]
  },
  {
   "cell_type": "code",
   "execution_count": null,
   "metadata": {},
   "outputs": [],
   "source": []
  }
 ],
 "metadata": {
  "kernelspec": {
   "display_name": "Python 3",
   "language": "python",
   "name": "python3"
  },
  "language_info": {
   "codemirror_mode": {
    "name": "ipython",
    "version": 3
   },
   "file_extension": ".py",
   "mimetype": "text/x-python",
   "name": "python",
   "nbconvert_exporter": "python",
   "pygments_lexer": "ipython3",
   "version": "3.7.6"
  }
 },
 "nbformat": 4,
 "nbformat_minor": 4
}
