{
 "cells": [
  {
   "cell_type": "markdown",
   "metadata": {},
   "source": [
    "# Agency Corrections Data\n",
    "There are 4 seperate corrections that apply to a total of 10 agencies. For each correction we want the average % across the 4 years of the amount of money that goes to Suffolk. For each agency we want the statewide cost as well"
   ]
  },
  {
   "cell_type": "code",
   "execution_count": 1,
   "metadata": {},
   "outputs": [],
   "source": [
    "%load_ext autoreload\n",
    "%autoreload 2"
   ]
  },
  {
   "cell_type": "code",
   "execution_count": null,
   "metadata": {},
   "outputs": [
    {
     "name": "stderr",
     "output_type": "stream",
     "text": [
      "/opt/anaconda3/lib/python3.7/site-packages/pandas/core/frame.py:4133: SettingWithCopyWarning: \n",
      "A value is trying to be set on a copy of a slice from a DataFrame\n",
      "\n",
      "See the caveats in the documentation: https://pandas.pydata.org/pandas-docs/stable/user_guide/indexing.html#returning-a-view-versus-a-copy\n",
      "  errors=errors,\n",
      "/opt/anaconda3/lib/python3.7/site-packages/pandas/core/generic.py:6245: SettingWithCopyWarning: \n",
      "A value is trying to be set on a copy of a slice from a DataFrame\n",
      "\n",
      "See the caveats in the documentation: https://pandas.pydata.org/pandas-docs/stable/user_guide/indexing.html#returning-a-view-versus-a-copy\n",
      "  self._update_inplace(new_data)\n",
      "/Users/alexanderweinstein/Documents/Harris/Summer2020/Carceral_Budgeting/Exploratory/pensions/State_Pensions_2Ver.py:133: SettingWithCopyWarning: \n",
      "A value is trying to be set on a copy of a slice from a DataFrame.\n",
      "Try using .loc[row_indexer,col_indexer] = value instead\n",
      "\n",
      "See the caveats in the documentation: https://pandas.pydata.org/pandas-docs/stable/user_guide/indexing.html#returning-a-view-versus-a-copy\n",
      "  cthru_pensions[\"year\"] = cthru_pensions[\"year\"].astype(int)\n"
     ]
    }
   ],
   "source": [
    "import pandas as pd\n",
    "import os\n",
    "import sys\n",
    "sys.path.insert(0, \"/Users/alexanderweinstein/Documents/Harris/Summer2020/Carceral_Budgeting/Exploratory/\")\n",
    "sys.path.insert(0, \"/Users/alexanderweinstein/Documents/Harris/Summer2020/Carceral_Budgeting/Exploratory/\"\n",
    "                   \"visualize/Total_Costs/Total_Costs_by_Type\")\n",
    "\n",
    "from Get_Agency_Correction_Details import by_type"
   ]
  },
  {
   "cell_type": "code",
   "execution_count": 12,
   "metadata": {
    "collapsed": true
   },
   "outputs": [
    {
     "data": {
      "text/html": [
       "<div>\n",
       "<style scoped>\n",
       "    .dataframe tbody tr th:only-of-type {\n",
       "        vertical-align: middle;\n",
       "    }\n",
       "\n",
       "    .dataframe tbody tr th {\n",
       "        vertical-align: top;\n",
       "    }\n",
       "\n",
       "    .dataframe thead th {\n",
       "        text-align: right;\n",
       "    }\n",
       "</style>\n",
       "<table border=\"1\" class=\"dataframe\">\n",
       "  <thead>\n",
       "    <tr style=\"text-align: right;\">\n",
       "      <th></th>\n",
       "      <th>Agency</th>\n",
       "      <th>Cost Type</th>\n",
       "      <th>2016</th>\n",
       "      <th>2017</th>\n",
       "      <th>2018</th>\n",
       "      <th>2019</th>\n",
       "    </tr>\n",
       "  </thead>\n",
       "  <tbody>\n",
       "    <tr>\n",
       "      <th>trial_court Payroll Costs</th>\n",
       "      <td>trial_court</td>\n",
       "      <td>Payroll Costs</td>\n",
       "      <td>481205455.340</td>\n",
       "      <td>493201162.340</td>\n",
       "      <td>501156169.320</td>\n",
       "      <td>527130234.230</td>\n",
       "    </tr>\n",
       "    <tr>\n",
       "      <th>trial_court Non-Payroll Operating Costs</th>\n",
       "      <td>trial_court</td>\n",
       "      <td>Non-Payroll Operating Costs</td>\n",
       "      <td>121354810.660</td>\n",
       "      <td>118581818.450</td>\n",
       "      <td>121551645.110</td>\n",
       "      <td>135204434.620</td>\n",
       "    </tr>\n",
       "    <tr>\n",
       "      <th>trial_court Pension Costs</th>\n",
       "      <td>trial_court</td>\n",
       "      <td>Pension Costs</td>\n",
       "      <td>79506590.138</td>\n",
       "      <td>86241275.366</td>\n",
       "      <td>90418237.102</td>\n",
       "      <td>96123941.502</td>\n",
       "    </tr>\n",
       "    <tr>\n",
       "      <th>trial_court Fringe Benefit Costs</th>\n",
       "      <td>trial_court</td>\n",
       "      <td>Fringe Benefit Costs</td>\n",
       "      <td>189416834.126</td>\n",
       "      <td>185297299.631</td>\n",
       "      <td>180687832.375</td>\n",
       "      <td>179134521.808</td>\n",
       "    </tr>\n",
       "    <tr>\n",
       "      <th>trial_court Capital Costs</th>\n",
       "      <td>trial_court</td>\n",
       "      <td>Capital Costs</td>\n",
       "      <td>57574531.320</td>\n",
       "      <td>74732977.880</td>\n",
       "      <td>48491659.080</td>\n",
       "      <td>45738466.960</td>\n",
       "    </tr>\n",
       "    <tr>\n",
       "      <th>...</th>\n",
       "      <td>...</td>\n",
       "      <td>...</td>\n",
       "      <td>...</td>\n",
       "      <td>...</td>\n",
       "      <td>...</td>\n",
       "      <td>...</td>\n",
       "    </tr>\n",
       "    <tr>\n",
       "      <th>Winthrop PD Non-Payroll Operating Costs</th>\n",
       "      <td>Winthrop PD</td>\n",
       "      <td>Non-Payroll Operating Costs</td>\n",
       "      <td>194777.000</td>\n",
       "      <td>185439.000</td>\n",
       "      <td>194956.000</td>\n",
       "      <td>233533.000</td>\n",
       "    </tr>\n",
       "    <tr>\n",
       "      <th>Winthrop PD Pension Costs</th>\n",
       "      <td>Winthrop PD</td>\n",
       "      <td>Pension Costs</td>\n",
       "      <td>912028.782</td>\n",
       "      <td>702707.081</td>\n",
       "      <td>745260.916</td>\n",
       "      <td>778578.451</td>\n",
       "    </tr>\n",
       "    <tr>\n",
       "      <th>Winthrop PD Fringe Benefit Costs</th>\n",
       "      <td>Winthrop PD</td>\n",
       "      <td>Fringe Benefit Costs</td>\n",
       "      <td>794997.427</td>\n",
       "      <td>1188270.591</td>\n",
       "      <td>1108502.513</td>\n",
       "      <td>1160070.335</td>\n",
       "    </tr>\n",
       "    <tr>\n",
       "      <th>Winthrop PD Capital Costs</th>\n",
       "      <td>Winthrop PD</td>\n",
       "      <td>Capital Costs</td>\n",
       "      <td>0.000</td>\n",
       "      <td>39393.000</td>\n",
       "      <td>40000.000</td>\n",
       "      <td>0.000</td>\n",
       "    </tr>\n",
       "    <tr>\n",
       "      <th>Winthrop PD Correction Function</th>\n",
       "      <td>Winthrop PD</td>\n",
       "      <td>NaN</td>\n",
       "      <td>1.000</td>\n",
       "      <td>1.000</td>\n",
       "      <td>1.000</td>\n",
       "      <td>1.000</td>\n",
       "    </tr>\n",
       "  </tbody>\n",
       "</table>\n",
       "<p>102 rows × 6 columns</p>\n",
       "</div>"
      ],
      "text/plain": [
       "                                              Agency  \\\n",
       "trial_court Payroll Costs                trial_court   \n",
       "trial_court Non-Payroll Operating Costs  trial_court   \n",
       "trial_court Pension Costs                trial_court   \n",
       "trial_court Fringe Benefit Costs         trial_court   \n",
       "trial_court Capital Costs                trial_court   \n",
       "...                                              ...   \n",
       "Winthrop PD Non-Payroll Operating Costs  Winthrop PD   \n",
       "Winthrop PD Pension Costs                Winthrop PD   \n",
       "Winthrop PD Fringe Benefit Costs         Winthrop PD   \n",
       "Winthrop PD Capital Costs                Winthrop PD   \n",
       "Winthrop PD Correction Function          Winthrop PD   \n",
       "\n",
       "                                                           Cost Type  \\\n",
       "trial_court Payroll Costs                              Payroll Costs   \n",
       "trial_court Non-Payroll Operating Costs  Non-Payroll Operating Costs   \n",
       "trial_court Pension Costs                              Pension Costs   \n",
       "trial_court Fringe Benefit Costs                Fringe Benefit Costs   \n",
       "trial_court Capital Costs                              Capital Costs   \n",
       "...                                                              ...   \n",
       "Winthrop PD Non-Payroll Operating Costs  Non-Payroll Operating Costs   \n",
       "Winthrop PD Pension Costs                              Pension Costs   \n",
       "Winthrop PD Fringe Benefit Costs                Fringe Benefit Costs   \n",
       "Winthrop PD Capital Costs                              Capital Costs   \n",
       "Winthrop PD Correction Function                                  NaN   \n",
       "\n",
       "                                                 2016          2017  \\\n",
       "trial_court Payroll Costs               481205455.340 493201162.340   \n",
       "trial_court Non-Payroll Operating Costs 121354810.660 118581818.450   \n",
       "trial_court Pension Costs                79506590.138  86241275.366   \n",
       "trial_court Fringe Benefit Costs        189416834.126 185297299.631   \n",
       "trial_court Capital Costs                57574531.320  74732977.880   \n",
       "...                                               ...           ...   \n",
       "Winthrop PD Non-Payroll Operating Costs    194777.000    185439.000   \n",
       "Winthrop PD Pension Costs                  912028.782    702707.081   \n",
       "Winthrop PD Fringe Benefit Costs           794997.427   1188270.591   \n",
       "Winthrop PD Capital Costs                       0.000     39393.000   \n",
       "Winthrop PD Correction Function                 1.000         1.000   \n",
       "\n",
       "                                                 2018          2019  \n",
       "trial_court Payroll Costs               501156169.320 527130234.230  \n",
       "trial_court Non-Payroll Operating Costs 121551645.110 135204434.620  \n",
       "trial_court Pension Costs                90418237.102  96123941.502  \n",
       "trial_court Fringe Benefit Costs        180687832.375 179134521.808  \n",
       "trial_court Capital Costs                48491659.080  45738466.960  \n",
       "...                                               ...           ...  \n",
       "Winthrop PD Non-Payroll Operating Costs    194956.000    233533.000  \n",
       "Winthrop PD Pension Costs                  745260.916    778578.451  \n",
       "Winthrop PD Fringe Benefit Costs          1108502.513   1160070.335  \n",
       "Winthrop PD Capital Costs                   40000.000         0.000  \n",
       "Winthrop PD Correction Function                 1.000         1.000  \n",
       "\n",
       "[102 rows x 6 columns]"
      ]
     },
     "execution_count": 12,
     "metadata": {},
     "output_type": "execute_result"
    }
   ],
   "source": [
    "rv"
   ]
  },
  {
   "cell_type": "code",
   "execution_count": null,
   "metadata": {},
   "outputs": [],
   "source": [
    "cost, correction = by_type()"
   ]
  },
  {
   "cell_type": "code",
   "execution_count": 6,
   "metadata": {
    "scrolled": true
   },
   "outputs": [],
   "source": [
    "cost.to_json(\"/Users/alexanderweinstein/Documents/Harris/Summer2020/Carceral_Budgeting/Dashboard/carceral_budgeting_app/Data/statewide_costs_Sept8.json\")"
   ]
  },
  {
   "cell_type": "code",
   "execution_count": 5,
   "metadata": {},
   "outputs": [
    {
     "data": {
      "text/plain": [
       "trial_court                0.050\n",
       "CPCS                       0.050\n",
       "DOC                        0.166\n",
       "Suffolk_DA                 1.000\n",
       "Suffolk_Sheriff            1.000\n",
       "State_Police               0.115\n",
       "MBTA                       1.000\n",
       "DAA                        0.115\n",
       "MA Sheriff's Association   0.115\n",
       "Parole_Board               0.166\n",
       "CJT                        0.170\n",
       "Supreme_Judicial_Court     0.050\n",
       "Appeals_Court              0.068\n",
       "Boston PD                  1.000\n",
       "Chelsea PD                 1.000\n",
       "Revere PD                  1.000\n",
       "Winthrop PD                1.000\n",
       "dtype: float64"
      ]
     },
     "execution_count": 5,
     "metadata": {},
     "output_type": "execute_result"
    }
   ],
   "source": [
    "correction.to_json(\"/Users/alexanderweinstein/Documents/Harris/Summer2020/Carceral_Budgeting/Dashboard/carceral_budgeting_app/Data/average_correction.json\")"
   ]
  },
  {
   "cell_type": "code",
   "execution_count": null,
   "metadata": {},
   "outputs": [],
   "source": []
  }
 ],
 "metadata": {
  "kernelspec": {
   "display_name": "Python 3",
   "language": "python",
   "name": "python3"
  },
  "language_info": {
   "codemirror_mode": {
    "name": "ipython",
    "version": 3
   },
   "file_extension": ".py",
   "mimetype": "text/x-python",
   "name": "python",
   "nbconvert_exporter": "python",
   "pygments_lexer": "ipython3",
   "version": "3.7.6"
  }
 },
 "nbformat": 4,
 "nbformat_minor": 4
}
