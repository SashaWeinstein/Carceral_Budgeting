{
 "cells": [
  {
   "cell_type": "markdown",
   "metadata": {},
   "source": [
    "# Agency Corrections Data\n",
    "There are 4 seperate corrections that apply to a total of 10 agencies. For each correction we want the average % across the 4 years of the amount of money that goes to Suffolk. For each agency we want the statewide cost as well"
   ]
  },
  {
   "cell_type": "code",
   "execution_count": 1,
   "metadata": {},
   "outputs": [],
   "source": [
    "%load_ext autoreload\n",
    "%autoreload 2"
   ]
  },
  {
   "cell_type": "code",
   "execution_count": 2,
   "metadata": {},
   "outputs": [
    {
     "name": "stderr",
     "output_type": "stream",
     "text": [
      "/opt/anaconda3/lib/python3.7/site-packages/pandas/core/frame.py:4133: SettingWithCopyWarning: \n",
      "A value is trying to be set on a copy of a slice from a DataFrame\n",
      "\n",
      "See the caveats in the documentation: https://pandas.pydata.org/pandas-docs/stable/user_guide/indexing.html#returning-a-view-versus-a-copy\n",
      "  errors=errors,\n",
      "/opt/anaconda3/lib/python3.7/site-packages/pandas/core/generic.py:6245: SettingWithCopyWarning: \n",
      "A value is trying to be set on a copy of a slice from a DataFrame\n",
      "\n",
      "See the caveats in the documentation: https://pandas.pydata.org/pandas-docs/stable/user_guide/indexing.html#returning-a-view-versus-a-copy\n",
      "  self._update_inplace(new_data)\n",
      "/Users/alexanderweinstein/Documents/Harris/Summer2020/Carceral_Budgeting/Exploratory/pensions/State_Pensions_2Ver.py:133: SettingWithCopyWarning: \n",
      "A value is trying to be set on a copy of a slice from a DataFrame.\n",
      "Try using .loc[row_indexer,col_indexer] = value instead\n",
      "\n",
      "See the caveats in the documentation: https://pandas.pydata.org/pandas-docs/stable/user_guide/indexing.html#returning-a-view-versus-a-copy\n",
      "  cthru_pensions[\"year\"] = cthru_pensions[\"year\"].astype(int)\n",
      "/Users/alexanderweinstein/Documents/Harris/Summer2020/Carceral_Budgeting/Exploratory/Initialize_Agencies_2Ver.py:5: DtypeWarning: Columns (16) have mixed types.Specify dtype option on import or set low_memory=False.\n",
      "  from Agency_Classes import StateAgency, MBTA, BostonPD, ChelseaPD, ReverePD, WinthropPD\n"
     ]
    },
    {
     "name": "stdout",
     "output_type": "stream",
     "text": [
      "\n"
     ]
    }
   ],
   "source": [
    "import pandas as pd\n",
    "import os\n",
    "import sys\n",
    "sys.path.insert(0, \"/Users/alexanderweinstein/Documents/Harris/Summer2020/Carceral_Budgeting/Exploratory/\")\n",
    "sys.path.insert(0, \"/Users/alexanderweinstein/Documents/Harris/Summer2020/Carceral_Budgeting/Exploratory/\"\n",
    "                   \"visualize/Total_Costs/Total_Costs_by_Type\")\n",
    "\n",
    "from Get_Agency_Correction_Details import by_type"
   ]
  },
  {
   "cell_type": "code",
   "execution_count": 3,
   "metadata": {},
   "outputs": [
    {
     "name": "stderr",
     "output_type": "stream",
     "text": [
      "/Users/alexanderweinstein/Documents/Harris/Summer2020/Carceral_Budgeting/Exploratory/Agency_Classes.py:151: DtypeWarning: Columns (16) have mixed types.Specify dtype option on import or set low_memory=False.\n",
      "  self.get_expenditures_by_year()\n",
      "/Users/alexanderweinstein/Documents/Harris/Summer2020/Carceral_Budgeting/Exploratory/Agency_Classes.py:151: DtypeWarning: Columns (15,16) have mixed types.Specify dtype option on import or set low_memory=False.\n",
      "  self.get_expenditures_by_year()\n"
     ]
    }
   ],
   "source": [
    "cost, correction = by_type()"
   ]
  },
  {
   "cell_type": "code",
   "execution_count": 4,
   "metadata": {},
   "outputs": [
    {
     "data": {
      "text/plain": [
       "trial_court                910711667.732\n",
       "CPCS                       251781290.217\n",
       "DOC                        703341320.089\n",
       "Suffolk_DA                  26834356.454\n",
       "Suffolk_Sheriff            137253745.635\n",
       "State_Police               618318706.595\n",
       "MBTA                        36328281.934\n",
       "DAA                          4121297.387\n",
       "MA Sheriff's Association      428938.731\n",
       "Parole_Board                28388072.025\n",
       "CJT                          6656930.131\n",
       "Supreme_Judicial_Court      38028032.843\n",
       "Appeals_Court               20433238.491\n",
       "Boston PD                  599823226.412\n",
       "Chelsea PD                  15898631.873\n",
       "Revere PD                   21591292.454\n",
       "Winthrop PD                  5269475.024\n",
       "dtype: float64"
      ]
     },
     "execution_count": 4,
     "metadata": {},
     "output_type": "execute_result"
    }
   ],
   "source": [
    "cost"
   ]
  },
  {
   "cell_type": "code",
   "execution_count": 5,
   "metadata": {},
   "outputs": [
    {
     "data": {
      "text/plain": [
       "trial_court                0.050\n",
       "CPCS                       0.050\n",
       "DOC                        0.166\n",
       "Suffolk_DA                 1.000\n",
       "Suffolk_Sheriff            1.000\n",
       "State_Police               0.115\n",
       "MBTA                       1.000\n",
       "DAA                        0.115\n",
       "MA Sheriff's Association   0.115\n",
       "Parole_Board               0.166\n",
       "CJT                        0.115\n",
       "Supreme_Judicial_Court     0.050\n",
       "Appeals_Court              0.068\n",
       "Boston PD                  1.000\n",
       "Chelsea PD                 1.000\n",
       "Revere PD                  1.000\n",
       "Winthrop PD                1.000\n",
       "dtype: float64"
      ]
     },
     "execution_count": 5,
     "metadata": {},
     "output_type": "execute_result"
    }
   ],
   "source": [
    "correction"
   ]
  },
  {
   "cell_type": "code",
   "execution_count": 17,
   "metadata": {
    "scrolled": true
   },
   "outputs": [],
   "source": [
    "# cost.to_json(\"/Users/alexanderweinstein/Documents/Harris/Summer2020/Carceral_Budgeting/Dashboard/carceral_budgeting_app/Data/statewide_costs_Sep8.json\")"
   ]
  },
  {
   "cell_type": "code",
   "execution_count": 18,
   "metadata": {},
   "outputs": [],
   "source": [
    "# correction.to_json(\"/Users/alexanderweinstein/Documents/Harris/Summer2020/Carceral_Budgeting/Dashboard/carceral_budgeting_app/Data/average_correction_Sep8.json\")"
   ]
  },
  {
   "cell_type": "code",
   "execution_count": 11,
   "metadata": {},
   "outputs": [],
   "source": [
    "statewide_cost = pd.read_json(\"/Users/alexanderweinstein/Documents/Harris/Summer2020/Carceral_Budgeting/Dashboard/carceral_budgeting_app/Data/statewide_costs_Sept8.json\",\n",
    "            orient = \"index\")"
   ]
  },
  {
   "cell_type": "code",
   "execution_count": 16,
   "metadata": {},
   "outputs": [
    {
     "data": {
      "text/plain": [
       "910711667.7320242"
      ]
     },
     "execution_count": 16,
     "metadata": {},
     "output_type": "execute_result"
    }
   ],
   "source": [
    "statewide_cost.loc[\"trial_court\"][0]"
   ]
  },
  {
   "cell_type": "code",
   "execution_count": null,
   "metadata": {},
   "outputs": [],
   "source": []
  }
 ],
 "metadata": {
  "kernelspec": {
   "display_name": "Python 3",
   "language": "python",
   "name": "python3"
  },
  "language_info": {
   "codemirror_mode": {
    "name": "ipython",
    "version": 3
   },
   "file_extension": ".py",
   "mimetype": "text/x-python",
   "name": "python",
   "nbconvert_exporter": "python",
   "pygments_lexer": "ipython3",
   "version": "3.7.6"
  }
 },
 "nbformat": 4,
 "nbformat_minor": 4
}
