{
 "cells": [
  {
   "cell_type": "markdown",
   "metadata": {},
   "source": [
    "# Check Payroll\n",
    "Do each agency seperately. Then do statewide and citywide payroll because we need those numbers for pension and fringe calculations"
   ]
  },
  {
   "cell_type": "markdown",
   "metadata": {},
   "source": [
    "## Set up environment"
   ]
  },
  {
   "cell_type": "code",
   "execution_count": 1,
   "metadata": {},
   "outputs": [],
   "source": [
    "%load_ext autoreload\n",
    "%autoreload 2"
   ]
  },
  {
   "cell_type": "code",
   "execution_count": 2,
   "metadata": {},
   "outputs": [],
   "source": [
    "import warnings\n",
    "warnings.simplefilter(action='ignore', category=FutureWarning)\n",
    "\n",
    "import pandas as pd\n",
    "import os\n",
    "import sys\n",
    "import numpy as np\n",
    "from sodapy import Socrata"
   ]
  },
  {
   "cell_type": "code",
   "execution_count": 3,
   "metadata": {},
   "outputs": [],
   "source": [
    "sys.path.insert(0, os.path.abspath(\"../..\"))"
   ]
  },
  {
   "cell_type": "code",
   "execution_count": 4,
   "metadata": {},
   "outputs": [],
   "source": [
    "app_token = \"2Qa1WiG8G4kj1vGVd2noK7zP0\"\n",
    "client = Socrata(\"cthru.data.socrata.com\", app_token)\n",
    "client.timeout = 40"
   ]
  },
  {
   "cell_type": "markdown",
   "metadata": {},
   "source": [
    "## Get Agencies"
   ]
  },
  {
   "cell_type": "code",
   "execution_count": 5,
   "metadata": {},
   "outputs": [
    {
     "name": "stderr",
     "output_type": "stream",
     "text": [
      "/opt/anaconda3/lib/python3.7/site-packages/pandas/core/frame.py:4133: SettingWithCopyWarning: \n",
      "A value is trying to be set on a copy of a slice from a DataFrame\n",
      "\n",
      "See the caveats in the documentation: https://pandas.pydata.org/pandas-docs/stable/user_guide/indexing.html#returning-a-view-versus-a-copy\n",
      "  errors=errors,\n",
      "/opt/anaconda3/lib/python3.7/site-packages/pandas/core/generic.py:6245: SettingWithCopyWarning: \n",
      "A value is trying to be set on a copy of a slice from a DataFrame\n",
      "\n",
      "See the caveats in the documentation: https://pandas.pydata.org/pandas-docs/stable/user_guide/indexing.html#returning-a-view-versus-a-copy\n",
      "  self._update_inplace(new_data)\n",
      "/Users/alexanderweinstein/Documents/Harris/Summer2020/Carceral_Budgeting/Exploratory/pensions/State_Pensions_2Ver.py:137: SettingWithCopyWarning: \n",
      "A value is trying to be set on a copy of a slice from a DataFrame.\n",
      "Try using .loc[row_indexer,col_indexer] = value instead\n",
      "\n",
      "See the caveats in the documentation: https://pandas.pydata.org/pandas-docs/stable/user_guide/indexing.html#returning-a-view-versus-a-copy\n",
      "  cthru_pensions[\"year\"] = cthru_pensions[\"year\"].astype(int)\n",
      "/Users/alexanderweinstein/Documents/Harris/Summer2020/Carceral_Budgeting/Exploratory/Initialize_Agencies_3Ver.py:5: DtypeWarning: Columns (16) have mixed types.Specify dtype option on import or set low_memory=False.\n",
      "  from Agency_Classes_2Ver import StateAgency, CPCS, MBTA, BostonPD, ChelseaPD, ReverePD, WinthropPD\n"
     ]
    },
    {
     "name": "stdout",
     "output_type": "stream",
     "text": [
      "pensions statewide are\n"
     ]
    },
    {
     "data": {
      "text/html": [
       "<div>\n",
       "<style scoped>\n",
       "    .dataframe tbody tr th:only-of-type {\n",
       "        vertical-align: middle;\n",
       "    }\n",
       "\n",
       "    .dataframe tbody tr th {\n",
       "        vertical-align: top;\n",
       "    }\n",
       "\n",
       "    .dataframe thead th {\n",
       "        text-align: right;\n",
       "    }\n",
       "</style>\n",
       "<table border=\"1\" class=\"dataframe\">\n",
       "  <thead>\n",
       "    <tr style=\"text-align: right;\">\n",
       "      <th></th>\n",
       "      <th>2015</th>\n",
       "      <th>2016</th>\n",
       "      <th>2017</th>\n",
       "      <th>2018</th>\n",
       "      <th>2019</th>\n",
       "      <th>2020</th>\n",
       "    </tr>\n",
       "    <tr>\n",
       "      <th>agency_class</th>\n",
       "      <th></th>\n",
       "      <th></th>\n",
       "      <th></th>\n",
       "      <th></th>\n",
       "      <th></th>\n",
       "      <th></th>\n",
       "    </tr>\n",
       "  </thead>\n",
       "  <tbody>\n",
       "    <tr>\n",
       "      <th>Appeals_Court</th>\n",
       "      <td>NaN</td>\n",
       "      <td>2952414.962</td>\n",
       "      <td>3335181.424</td>\n",
       "      <td>3505983.980</td>\n",
       "      <td>3677631.972</td>\n",
       "      <td>NaN</td>\n",
       "    </tr>\n",
       "    <tr>\n",
       "      <th>CPCS</th>\n",
       "      <td>NaN</td>\n",
       "      <td>2744489.977</td>\n",
       "      <td>3095990.133</td>\n",
       "      <td>3467557.969</td>\n",
       "      <td>3893469.757</td>\n",
       "      <td>NaN</td>\n",
       "    </tr>\n",
       "    <tr>\n",
       "      <th>DAA</th>\n",
       "      <td>NaN</td>\n",
       "      <td>78403.102</td>\n",
       "      <td>78994.836</td>\n",
       "      <td>93746.009</td>\n",
       "      <td>110430.671</td>\n",
       "      <td>NaN</td>\n",
       "    </tr>\n",
       "    <tr>\n",
       "      <th>Parole_Board</th>\n",
       "      <td>NaN</td>\n",
       "      <td>5774263.196</td>\n",
       "      <td>6308207.127</td>\n",
       "      <td>6758994.796</td>\n",
       "      <td>7247381.040</td>\n",
       "      <td>NaN</td>\n",
       "    </tr>\n",
       "    <tr>\n",
       "      <th>State_Police</th>\n",
       "      <td>NaN</td>\n",
       "      <td>82915645.558</td>\n",
       "      <td>87819396.349</td>\n",
       "      <td>94087985.223</td>\n",
       "      <td>104654649.168</td>\n",
       "      <td>NaN</td>\n",
       "    </tr>\n",
       "    <tr>\n",
       "      <th>Suffolk_DA</th>\n",
       "      <td>NaN</td>\n",
       "      <td>1423446.254</td>\n",
       "      <td>1511664.035</td>\n",
       "      <td>1600690.820</td>\n",
       "      <td>1763099.500</td>\n",
       "      <td>NaN</td>\n",
       "    </tr>\n",
       "    <tr>\n",
       "      <th>Suffolk_Sheriff</th>\n",
       "      <td>NaN</td>\n",
       "      <td>10200452.842</td>\n",
       "      <td>11106626.290</td>\n",
       "      <td>12031941.134</td>\n",
       "      <td>13335456.190</td>\n",
       "      <td>NaN</td>\n",
       "    </tr>\n",
       "    <tr>\n",
       "      <th>Supreme_Judicial_Court</th>\n",
       "      <td>NaN</td>\n",
       "      <td>2176348.347</td>\n",
       "      <td>2306287.795</td>\n",
       "      <td>2188637.495</td>\n",
       "      <td>2270515.531</td>\n",
       "      <td>NaN</td>\n",
       "    </tr>\n",
       "    <tr>\n",
       "      <th>trial_court</th>\n",
       "      <td>NaN</td>\n",
       "      <td>76544987.992</td>\n",
       "      <td>84735743.379</td>\n",
       "      <td>89550572.011</td>\n",
       "      <td>95347249.530</td>\n",
       "      <td>NaN</td>\n",
       "    </tr>\n",
       "    <tr>\n",
       "      <th>DOC</th>\n",
       "      <td>NaN</td>\n",
       "      <td>15379732.534</td>\n",
       "      <td>16357564.990</td>\n",
       "      <td>16738052.895</td>\n",
       "      <td>17625933.579</td>\n",
       "      <td>NaN</td>\n",
       "    </tr>\n",
       "  </tbody>\n",
       "</table>\n",
       "</div>"
      ],
      "text/plain": [
       "                       2015         2016         2017         2018  \\\n",
       "agency_class                                                         \n",
       "Appeals_Court           NaN  2952414.962  3335181.424  3505983.980   \n",
       "CPCS                    NaN  2744489.977  3095990.133  3467557.969   \n",
       "DAA                     NaN    78403.102    78994.836    93746.009   \n",
       "Parole_Board            NaN  5774263.196  6308207.127  6758994.796   \n",
       "State_Police            NaN 82915645.558 87819396.349 94087985.223   \n",
       "Suffolk_DA              NaN  1423446.254  1511664.035  1600690.820   \n",
       "Suffolk_Sheriff         NaN 10200452.842 11106626.290 12031941.134   \n",
       "Supreme_Judicial_Court  NaN  2176348.347  2306287.795  2188637.495   \n",
       "trial_court             NaN 76544987.992 84735743.379 89550572.011   \n",
       "DOC                     NaN 15379732.534 16357564.990 16738052.895   \n",
       "\n",
       "                                2019 2020  \n",
       "agency_class                               \n",
       "Appeals_Court            3677631.972  NaN  \n",
       "CPCS                     3893469.757  NaN  \n",
       "DAA                       110430.671  NaN  \n",
       "Parole_Board             7247381.040  NaN  \n",
       "State_Police           104654649.168  NaN  \n",
       "Suffolk_DA               1763099.500  NaN  \n",
       "Suffolk_Sheriff         13335456.190  NaN  \n",
       "Supreme_Judicial_Court   2270515.531  NaN  \n",
       "trial_court             95347249.530  NaN  \n",
       "DOC                     17625933.579  NaN  "
      ]
     },
     "metadata": {},
     "output_type": "display_data"
    },
    {
     "name": "stdout",
     "output_type": "stream",
     "text": [
      "pension contributions by year\n"
     ]
    },
    {
     "data": {
      "text/plain": [
       "budget_fiscal_year\n",
       "2016   1695644301.330\n",
       "2017   1775058311.520\n",
       "2018   1825313115.460\n",
       "2019   1909137852.920\n",
       "2020   1991497887.030\n",
       "Name: amount, dtype: float64"
      ]
     },
     "metadata": {},
     "output_type": "display_data"
    },
    {
     "name": "stdout",
     "output_type": "stream",
     "text": [
      "total statewide payroll is\n"
     ]
    },
    {
     "data": {
      "text/plain": [
       "2016   6910837381.410\n",
       "2017   7121841358.695\n",
       "2018   7553476660.790\n",
       "2019   7893701337.800\n",
       "dtype: float64"
      ]
     },
     "metadata": {},
     "output_type": "display_data"
    }
   ],
   "source": [
    "from Initialize_Agencies_3Ver import get_agencies"
   ]
  },
  {
   "cell_type": "code",
   "execution_count": 227,
   "metadata": {
    "scrolled": false
   },
   "outputs": [
    {
     "name": "stderr",
     "output_type": "stream",
     "text": [
      "/Users/alexanderweinstein/Documents/Harris/Summer2020/Carceral_Budgeting/Exploratory/Agency_Classes_2Ver.py:163: DtypeWarning: Columns (16) have mixed types.Specify dtype option on import or set low_memory=False.\n",
      "  self.get_expenditures_by_year()\n",
      "/Users/alexanderweinstein/Documents/Harris/Summer2020/Carceral_Budgeting/Exploratory/Agency_Classes_2Ver.py:157: DtypeWarning: Columns (16) have mixed types.Specify dtype option on import or set low_memory=False.\n",
      "  self.get_final_costs()\n",
      "/Users/alexanderweinstein/Documents/Harris/Summer2020/Carceral_Budgeting/Exploratory/Agency_Classes_2Ver.py:163: DtypeWarning: Columns (15,16) have mixed types.Specify dtype option on import or set low_memory=False.\n",
      "  self.get_expenditures_by_year()\n"
     ]
    },
    {
     "name": "stdout",
     "output_type": "stream",
     "text": [
      "calculated for chelsea:\n",
      "police pay by year\n"
     ]
    },
    {
     "data": {
      "text/plain": [
       "fiscalyear\n",
       "2017   12165124.100\n",
       "2018   12770764.810\n",
       "2019   14734808.950\n",
       "2016   11559483.390\n",
       "Name: totalpay, dtype: float64"
      ]
     },
     "metadata": {},
     "output_type": "display_data"
    },
    {
     "name": "stdout",
     "output_type": "stream",
     "text": [
      "total no MTRS by year\n"
     ]
    },
    {
     "data": {
      "text/plain": [
       "fiscalyear\n",
       "2017   54321474.100\n",
       "2018   56241019.100\n",
       "2019   59606582.410\n",
       "2016   52401929.100\n",
       "Name: totalpay, dtype: float64"
      ]
     },
     "metadata": {},
     "output_type": "display_data"
    },
    {
     "name": "stdout",
     "output_type": "stream",
     "text": [
      "total_by_year\n"
     ]
    },
    {
     "data": {
      "text/plain": [
       "fiscalyear\n",
       "2017   54321474.100\n",
       "2018   56241019.100\n",
       "2019   59606582.410\n",
       "2016   52401929.100\n",
       "Name: totalpay, dtype: float64"
      ]
     },
     "metadata": {},
     "output_type": "display_data"
    },
    {
     "name": "stdout",
     "output_type": "stream",
     "text": [
      "\n"
     ]
    }
   ],
   "source": [
    "yr = list(range(2016,2020))\n",
    "agencies = get_agencies(yr)"
   ]
  },
  {
   "cell_type": "markdown",
   "metadata": {},
   "source": [
    "## Save payroll to single dataframe"
   ]
  },
  {
   "cell_type": "code",
   "execution_count": 12,
   "metadata": {},
   "outputs": [],
   "source": [
    "payroll_df = pd.DataFrame(columns=yr)\n",
    "for _, agency in agencies.items():\n",
    "    payroll_df.loc[agency.official_name,:] = agency.payroll_by_year"
   ]
  },
  {
   "cell_type": "code",
   "execution_count": 13,
   "metadata": {},
   "outputs": [
    {
     "data": {
      "text/html": [
       "<div>\n",
       "<style scoped>\n",
       "    .dataframe tbody tr th:only-of-type {\n",
       "        vertical-align: middle;\n",
       "    }\n",
       "\n",
       "    .dataframe tbody tr th {\n",
       "        vertical-align: top;\n",
       "    }\n",
       "\n",
       "    .dataframe thead th {\n",
       "        text-align: right;\n",
       "    }\n",
       "</style>\n",
       "<table border=\"1\" class=\"dataframe\">\n",
       "  <thead>\n",
       "    <tr style=\"text-align: right;\">\n",
       "      <th></th>\n",
       "      <th>2016</th>\n",
       "      <th>2017</th>\n",
       "      <th>2018</th>\n",
       "      <th>2019</th>\n",
       "    </tr>\n",
       "  </thead>\n",
       "  <tbody>\n",
       "    <tr>\n",
       "      <th>TRIAL COURT (TRC)</th>\n",
       "      <td>489415695.445</td>\n",
       "      <td>490891054.435</td>\n",
       "      <td>506385282.585</td>\n",
       "      <td>522130195.970</td>\n",
       "    </tr>\n",
       "    <tr>\n",
       "      <th>COMMITTEE FOR PUBLIC COUNSEL SERVICES (CPC)</th>\n",
       "      <td>203113266.035</td>\n",
       "      <td>219228501.670</td>\n",
       "      <td>219057567.460</td>\n",
       "      <td>231508253.240</td>\n",
       "    </tr>\n",
       "    <tr>\n",
       "      <th>DEPARTMENT OF CORRECTION (DOC)</th>\n",
       "      <td>410178141.775</td>\n",
       "      <td>408294889.700</td>\n",
       "      <td>415990366.315</td>\n",
       "      <td>431185884.820</td>\n",
       "    </tr>\n",
       "    <tr>\n",
       "      <th>SUFFOLK DISTRICT ATTORNEY (SUF)</th>\n",
       "      <td>15567170.580</td>\n",
       "      <td>15828355.790</td>\n",
       "      <td>16032724.705</td>\n",
       "      <td>17406111.000</td>\n",
       "    </tr>\n",
       "    <tr>\n",
       "      <th>SHERIFF DEPARTMENT SUFFOLK (SDS)</th>\n",
       "      <td>81354227.820</td>\n",
       "      <td>82184620.695</td>\n",
       "      <td>84160044.160</td>\n",
       "      <td>85087774.225</td>\n",
       "    </tr>\n",
       "    <tr>\n",
       "      <th>DEPARTMENT OF STATE POLICE (POL)</th>\n",
       "      <td>357898934.130</td>\n",
       "      <td>368665415.870</td>\n",
       "      <td>373201681.440</td>\n",
       "      <td>368083909.125</td>\n",
       "    </tr>\n",
       "    <tr>\n",
       "      <th>MASSACHUSETTS BAY TRANSPORTATION AUTHORITY (MBT)</th>\n",
       "      <td>28140924.000</td>\n",
       "      <td>27914160.000</td>\n",
       "      <td>28731767.045</td>\n",
       "      <td>33395630.395</td>\n",
       "    </tr>\n",
       "    <tr>\n",
       "      <th>DISTRICT ATTORNEY ASSOCIATION (DAA)</th>\n",
       "      <td>1031232.240</td>\n",
       "      <td>1023074.725</td>\n",
       "      <td>1054174.475</td>\n",
       "      <td>1087785.700</td>\n",
       "    </tr>\n",
       "    <tr>\n",
       "      <th>SHERIFFS DEPARTMENT ASSOCIATION (SDA)</th>\n",
       "      <td>244370.730</td>\n",
       "      <td>234981.225</td>\n",
       "      <td>242014.830</td>\n",
       "      <td>222441.105</td>\n",
       "    </tr>\n",
       "    <tr>\n",
       "      <th>PAROLE BOARD (PAR)</th>\n",
       "      <td>14879626.495</td>\n",
       "      <td>14123440.940</td>\n",
       "      <td>14447276.080</td>\n",
       "      <td>15573981.885</td>\n",
       "    </tr>\n",
       "    <tr>\n",
       "      <th>MUNICIPAL POLICE TRAINING COMMITTEE (CJT)</th>\n",
       "      <td>3864718.870</td>\n",
       "      <td>3564716.185</td>\n",
       "      <td>3516473.000</td>\n",
       "      <td>3770698.305</td>\n",
       "    </tr>\n",
       "    <tr>\n",
       "      <th>SUPREME JUDICIAL COURT (SJC)</th>\n",
       "      <td>8632678.685</td>\n",
       "      <td>8760520.900</td>\n",
       "      <td>8947646.010</td>\n",
       "      <td>9254353.325</td>\n",
       "    </tr>\n",
       "    <tr>\n",
       "      <th>APPEALS COURT (APC)</th>\n",
       "      <td>11620387.455</td>\n",
       "      <td>11626037.275</td>\n",
       "      <td>12013239.960</td>\n",
       "      <td>12375680.370</td>\n",
       "    </tr>\n",
       "    <tr>\n",
       "      <th>Boston PD</th>\n",
       "      <td>373362553.800</td>\n",
       "      <td>389932425.440</td>\n",
       "      <td>403980309.855</td>\n",
       "      <td>416204303.370</td>\n",
       "    </tr>\n",
       "    <tr>\n",
       "      <th>Chelsea PD</th>\n",
       "      <td>9685922.000</td>\n",
       "      <td>12165124.100</td>\n",
       "      <td>12467944.455</td>\n",
       "      <td>13752786.880</td>\n",
       "    </tr>\n",
       "    <tr>\n",
       "      <th>Revere PD</th>\n",
       "      <td>9047062.000</td>\n",
       "      <td>9083601.000</td>\n",
       "      <td>9357467.000</td>\n",
       "      <td>9735336.000</td>\n",
       "    </tr>\n",
       "    <tr>\n",
       "      <th>Winthrop PD</th>\n",
       "      <td>2842909.000</td>\n",
       "      <td>2927191.000</td>\n",
       "      <td>3066911.000</td>\n",
       "      <td>3803402.000</td>\n",
       "    </tr>\n",
       "  </tbody>\n",
       "</table>\n",
       "</div>"
      ],
      "text/plain": [
       "                                                          2016          2017  \\\n",
       "TRIAL COURT (TRC)                                489415695.445 490891054.435   \n",
       "COMMITTEE FOR PUBLIC COUNSEL SERVICES (CPC)      203113266.035 219228501.670   \n",
       "DEPARTMENT OF CORRECTION (DOC)                   410178141.775 408294889.700   \n",
       "SUFFOLK DISTRICT ATTORNEY (SUF)                   15567170.580  15828355.790   \n",
       "SHERIFF DEPARTMENT SUFFOLK (SDS)                  81354227.820  82184620.695   \n",
       "DEPARTMENT OF STATE POLICE (POL)                 357898934.130 368665415.870   \n",
       "MASSACHUSETTS BAY TRANSPORTATION AUTHORITY (MBT)  28140924.000  27914160.000   \n",
       "DISTRICT ATTORNEY ASSOCIATION (DAA)                1031232.240   1023074.725   \n",
       "SHERIFFS DEPARTMENT ASSOCIATION (SDA)               244370.730    234981.225   \n",
       "PAROLE BOARD (PAR)                                14879626.495  14123440.940   \n",
       "MUNICIPAL POLICE TRAINING COMMITTEE (CJT)          3864718.870   3564716.185   \n",
       "SUPREME JUDICIAL COURT (SJC)                       8632678.685   8760520.900   \n",
       "APPEALS COURT (APC)                               11620387.455  11626037.275   \n",
       "Boston PD                                        373362553.800 389932425.440   \n",
       "Chelsea PD                                         9685922.000  12165124.100   \n",
       "Revere PD                                          9047062.000   9083601.000   \n",
       "Winthrop PD                                        2842909.000   2927191.000   \n",
       "\n",
       "                                                          2018          2019  \n",
       "TRIAL COURT (TRC)                                506385282.585 522130195.970  \n",
       "COMMITTEE FOR PUBLIC COUNSEL SERVICES (CPC)      219057567.460 231508253.240  \n",
       "DEPARTMENT OF CORRECTION (DOC)                   415990366.315 431185884.820  \n",
       "SUFFOLK DISTRICT ATTORNEY (SUF)                   16032724.705  17406111.000  \n",
       "SHERIFF DEPARTMENT SUFFOLK (SDS)                  84160044.160  85087774.225  \n",
       "DEPARTMENT OF STATE POLICE (POL)                 373201681.440 368083909.125  \n",
       "MASSACHUSETTS BAY TRANSPORTATION AUTHORITY (MBT)  28731767.045  33395630.395  \n",
       "DISTRICT ATTORNEY ASSOCIATION (DAA)                1054174.475   1087785.700  \n",
       "SHERIFFS DEPARTMENT ASSOCIATION (SDA)               242014.830    222441.105  \n",
       "PAROLE BOARD (PAR)                                14447276.080  15573981.885  \n",
       "MUNICIPAL POLICE TRAINING COMMITTEE (CJT)          3516473.000   3770698.305  \n",
       "SUPREME JUDICIAL COURT (SJC)                       8947646.010   9254353.325  \n",
       "APPEALS COURT (APC)                               12013239.960  12375680.370  \n",
       "Boston PD                                        403980309.855 416204303.370  \n",
       "Chelsea PD                                        12467944.455  13752786.880  \n",
       "Revere PD                                          9357467.000   9735336.000  \n",
       "Winthrop PD                                        3066911.000   3803402.000  "
      ]
     },
     "execution_count": 13,
     "metadata": {},
     "output_type": "execute_result"
    }
   ],
   "source": [
    "payroll_df"
   ]
  },
  {
   "cell_type": "markdown",
   "metadata": {},
   "source": [
    "## Trial Court (checks methodology for all state agencies except CPCS and MBTA)"
   ]
  },
  {
   "cell_type": "code",
   "execution_count": null,
   "metadata": {},
   "outputs": [],
   "source": [
    "trial_court_payroll = pd.DataFrame(client.get(\"rxhc-k6iz\", where = \"department_division = 'TRIAL COURT (TRC)'\"\\\n",
    "                                              \"AND Year >= 2018 AND Year <= 2019\", limit =999999))"
   ]
  },
  {
   "cell_type": "code",
   "execution_count": null,
   "metadata": {},
   "outputs": [],
   "source": [
    "trial_court_payroll.shape"
   ]
  },
  {
   "cell_type": "code",
   "execution_count": null,
   "metadata": {},
   "outputs": [],
   "source": [
    "trial_court_payroll[\"pay_total_actual\"] = trial_court_payroll[\"pay_total_actual\"].astype(float)"
   ]
  },
  {
   "cell_type": "code",
   "execution_count": null,
   "metadata": {},
   "outputs": [],
   "source": [
    "TRC_2018_payroll = trial_court_payroll[trial_court_payroll[\"year\"] == \"2018\"][\"pay_total_actual\"].sum()\n",
    "TRC_2019_payroll = trial_court_payroll[trial_court_payroll[\"year\"] == \"2019\"][\"pay_total_actual\"].sum()"
   ]
  },
  {
   "cell_type": "code",
   "execution_count": null,
   "metadata": {},
   "outputs": [],
   "source": [
    "assert np.isclose(np.mean([TRC_2018_payroll, TRC_2019_payroll]), payroll_df.loc[\"TRIAL COURT (TRC)\", 2019])"
   ]
  },
  {
   "cell_type": "markdown",
   "metadata": {},
   "source": [
    "## CPCS"
   ]
  },
  {
   "cell_type": "markdown",
   "metadata": {},
   "source": [
    "For CPCS, add R24"
   ]
  },
  {
   "cell_type": "code",
   "execution_count": null,
   "metadata": {},
   "outputs": [],
   "source": [
    "CPCS_payroll = pd.DataFrame(client.get(\"rxhc-k6iz\", where = \"department_division = 'COMMITTEE FOR PUBLIC COUNSEL SERVICES (CPC)' AND \"\\\n",
    "                                                            \"Year >= 2016 AND YEAR <=2017\", limit =999999))"
   ]
  },
  {
   "cell_type": "code",
   "execution_count": null,
   "metadata": {},
   "outputs": [],
   "source": [
    "CPCS_expenditures = pd.DataFrame(client.get(\"pegc-naaa\", where = \"department = 'COMMITTEE FOR PUBLIC COUNSEL SERVICES (CPC)' AND \"\\\n",
    "                                                            \"budget_fiscal_year =2017\", limit =999999))"
   ]
  },
  {
   "cell_type": "code",
   "execution_count": null,
   "metadata": {},
   "outputs": [],
   "source": [
    "CPCS_payroll[\"pay_total_actual\"] = CPCS_payroll[\"pay_total_actual\"].astype(float)\n",
    "CPCS_expenditures[\"amount\"] = CPCS_expenditures[\"amount\"].astype(float)\n"
   ]
  },
  {
   "cell_type": "code",
   "execution_count": null,
   "metadata": {},
   "outputs": [],
   "source": [
    "CPCS_expenditures= CPCS_expenditures[((CPCS_expenditures[\"appropriation_type\"] != \"(4FN) FEDERAL GRANTS\"))]"
   ]
  },
  {
   "cell_type": "code",
   "execution_count": null,
   "metadata": {},
   "outputs": [],
   "source": [
    "CPCS_2016_payroll = CPCS_payroll[CPCS_payroll[\"year\"]==\"2016\"][\"pay_total_actual\"].sum()\n",
    "CPCS_2017_payroll = CPCS_payroll[CPCS_payroll[\"year\"]==\"2017\"][\"pay_total_actual\"].sum()"
   ]
  },
  {
   "cell_type": "code",
   "execution_count": null,
   "metadata": {},
   "outputs": [],
   "source": [
    "public_counsel_services = CPCS_expenditures[CPCS_expenditures[\"object_code\"].str.contains(\"R24\")]"
   ]
  },
  {
   "cell_type": "code",
   "execution_count": null,
   "metadata": {},
   "outputs": [],
   "source": [
    "CPCS_2017_payroll_redone = np.mean([CPCS_2016_payroll, CPCS_2017_payroll]) + public_counsel_services[\"amount\"].sum()"
   ]
  },
  {
   "cell_type": "code",
   "execution_count": null,
   "metadata": {},
   "outputs": [],
   "source": [
    "np.isclose(np.mean([CPCS_2016_payroll, CPCS_2017_payroll]) + public_counsel_services[\"amount\"].sum(), \n",
    "           payroll_df.loc[\"COMMITTEE FOR PUBLIC COUNSEL SERVICES (CPC)\", 2017])"
   ]
  },
  {
   "cell_type": "markdown",
   "metadata": {},
   "source": [
    "Ok great. Want to be absolutely sure that R24 is being handled the right way. If R24 comes through payroll could it be counted twice? Possibly yes. So add code to RR_correction that removes payroll dollars from our public counsel df. Shouldn't effect final results"
   ]
  },
  {
   "cell_type": "code",
   "execution_count": null,
   "metadata": {},
   "outputs": [],
   "source": [
    "CPCS = agencies[\"CPCS\"]"
   ]
  },
  {
   "cell_type": "code",
   "execution_count": null,
   "metadata": {},
   "outputs": [],
   "source": [
    "CPCS.R24_by_year"
   ]
  },
  {
   "cell_type": "code",
   "execution_count": null,
   "metadata": {},
   "outputs": [],
   "source": [
    "CPCS.payroll_by_year"
   ]
  },
  {
   "cell_type": "code",
   "execution_count": null,
   "metadata": {},
   "outputs": [],
   "source": [
    "payroll_df.loc[\"COMMITTEE FOR PUBLIC COUNSEL SERVICES (CPC)\"]"
   ]
  },
  {
   "cell_type": "markdown",
   "metadata": {},
   "source": [
    "## MBTA"
   ]
  },
  {
   "cell_type": "markdown",
   "metadata": {},
   "source": [
    "MBTA payroll is more complex. Payroll record starts in 2017. For years 2015 and 2017 there are pdf's of earnings posted on the MBTA's website that are used as a stand-in. So the data available is:\n",
    " - 2015: pdf\n",
    " - 2017: pdf and cthru (pdf is used)\n",
    " - 2018: cthru\n",
    " - 2019: cthru\n",
    "Usually fiscal year 2016 would be an average of 2015 and 2016. Because there is no 2016 data, only 2015 data is used. Likewise for 2017, only 2017 data is used. 2018 and 2019 are averages of 2017/2018 and 2018/2019"
   ]
  },
  {
   "cell_type": "markdown",
   "metadata": {},
   "source": [
    "First thing to check: does pdf scanner work correctly? To answer this, put in print statements. Did that, all seems gravy. To re-check all I need to do is move .json files with scraped results to another folder and the print statements tell me if it's working"
   ]
  },
  {
   "cell_type": "code",
   "execution_count": 20,
   "metadata": {
    "scrolled": false
   },
   "outputs": [],
   "source": [
    "MBTA_payroll = pd.DataFrame(client.get(\"rxhc-k6iz\", where = \"department_division = 'Massachusetts Bay Transportation Authority (MBT)' AND \"\\\n",
    "                                                            \"Year >= 2018 AND YEAR <=2019\", limit =999999))"
   ]
  },
  {
   "cell_type": "code",
   "execution_count": 21,
   "metadata": {
    "scrolled": false
   },
   "outputs": [],
   "source": [
    "MBTA_payroll[\"pay_total_actual\"] = MBTA_payroll[\"pay_total_actual\"].astype(float)\n",
    "MBTA_cop_payroll = MBTA_payroll[(MBTA_payroll[\"position_title\"].str.contains(\"(?i)police\")) |\n",
    "                                (MBTA_payroll[\"position_title\"].str.contains(\"(?i)sergeant\"))]\n",
    "MBTA_cop_payroll_2018 = MBTA_cop_payroll[MBTA_cop_payroll[\"year\"]==\"2018\"][\"pay_total_actual\"].sum()\n",
    "MBTA_cop_payroll_2019 = MBTA_cop_payroll[MBTA_cop_payroll[\"year\"]==\"2019\"][\"pay_total_actual\"].sum()"
   ]
  },
  {
   "cell_type": "code",
   "execution_count": 18,
   "metadata": {},
   "outputs": [],
   "source": [
    "assert(np.isclose(np.mean([MBTA_cop_payroll_2018, MBTA_cop_payroll_2019]), payroll_df.loc[\"MASSACHUSETTS BAY TRANSPORTATION AUTHORITY (MBT)\", 2019]))"
   ]
  },
  {
   "cell_type": "markdown",
   "metadata": {},
   "source": [
    "I checked the scraper by hand on Monday Dec 20"
   ]
  },
  {
   "cell_type": "markdown",
   "metadata": {},
   "source": [
    "## Statewide Payroll"
   ]
  },
  {
   "cell_type": "code",
   "execution_count": 22,
   "metadata": {
    "scrolled": true
   },
   "outputs": [],
   "source": [
    "sys.path.insert(0, os.path.abspath(\"../../fringe\"))\n",
    "from Statewide_Fringe import Total_Statewide_Payroll"
   ]
  },
  {
   "cell_type": "code",
   "execution_count": 23,
   "metadata": {},
   "outputs": [],
   "source": [
    "total_statewide_payroll = Total_Statewide_Payroll(client)"
   ]
  },
  {
   "cell_type": "code",
   "execution_count": 25,
   "metadata": {},
   "outputs": [],
   "source": [
    "total_payroll_FY_2018 = pd.DataFrame(client.get(\"rxhc-k6iz\", where = \"Year >= 2017 AND YEAR <=2018\", limit =999999))"
   ]
  },
  {
   "cell_type": "code",
   "execution_count": 27,
   "metadata": {},
   "outputs": [],
   "source": [
    "total_payroll_FY_2018[\"pay_total_actual\"] = total_payroll_FY_2018[\"pay_total_actual\"].astype(float)"
   ]
  },
  {
   "cell_type": "code",
   "execution_count": 32,
   "metadata": {
    "scrolled": true
   },
   "outputs": [],
   "source": [
    "total_payroll_2017 = total_payroll_FY_2018[total_payroll_FY_2018[\"year\"]==\"2017\"][\"pay_total_actual\"].sum()\n",
    "total_payroll_2018 = total_payroll_FY_2018[total_payroll_FY_2018[\"year\"]==\"2018\"][\"pay_total_actual\"].sum()"
   ]
  },
  {
   "cell_type": "code",
   "execution_count": 33,
   "metadata": {},
   "outputs": [],
   "source": [
    "assert(np.isclose(np.mean([total_payroll_2017, total_payroll_2018]), total_statewide_payroll.loc[2018]))"
   ]
  },
  {
   "cell_type": "markdown",
   "metadata": {},
   "source": [
    "Ok great that should have been easy lol"
   ]
  },
  {
   "cell_type": "markdown",
   "metadata": {},
   "source": [
    "## Boston"
   ]
  },
  {
   "cell_type": "markdown",
   "metadata": {},
   "source": [
    "Cop Pay: get earnings dataset for each year, break it down by title and whatnot to make sure it all looks good"
   ]
  },
  {
   "cell_type": "markdown",
   "metadata": {},
   "source": [
    "Re-Download FY 2018 earnings dataset"
   ]
  },
  {
   "cell_type": "code",
   "execution_count": 90,
   "metadata": {},
   "outputs": [],
   "source": [
    "boston_2018_earnings = pd.read_csv(\"Boston_2018_Earnings_forCheck.csv\", engine=\"python\")\n",
    "boston_2019_earnings = pd.read_csv(\"Boston_Earnings_2019.csv\", engine=\"python\")"
   ]
  },
  {
   "cell_type": "code",
   "execution_count": 99,
   "metadata": {},
   "outputs": [],
   "source": [
    "boston_2018_earnings = boston_2018_earnings[boston_2018_earnings[\"TOTAL EARNINGS\"] != \"TOTAL EARNINGS\"]"
   ]
  },
  {
   "cell_type": "code",
   "execution_count": 100,
   "metadata": {
    "scrolled": true
   },
   "outputs": [],
   "source": [
    "boston_2018_earnings[\"TOTAL EARNINGS\"] = boston_2018_earnings[\"TOTAL EARNINGS\"].str.replace(\",\",\"\").astype(float)\n",
    "boston_2019_earnings[\"TOTAL EARNINGS\"] = boston_2019_earnings[\"TOTAL EARNINGS\"].str.replace(\",\",\"\").astype(float)"
   ]
  },
  {
   "cell_type": "code",
   "execution_count": 101,
   "metadata": {
    "scrolled": true
   },
   "outputs": [],
   "source": [
    "police_earnings_2018 = boston_2018_earnings[boston_2018_earnings[\"DEPARTMENT_NAME\"]==\"Boston Police Department\"]\n",
    "police_earnings_2019 = boston_2019_earnings[boston_2019_earnings[\"DEPARTMENT_NAME\"]==\"Boston Police Department\"]"
   ]
  },
  {
   "cell_type": "code",
   "execution_count": 102,
   "metadata": {},
   "outputs": [],
   "source": [
    "bostonPD = agencies[\"Boston PD\"]"
   ]
  },
  {
   "cell_type": "code",
   "execution_count": 103,
   "metadata": {},
   "outputs": [],
   "source": [
    "assert(np.isclose(np.mean([police_earnings_2018[\"TOTAL EARNINGS\"].sum(),police_earnings_2019[\"TOTAL EARNINGS\"].sum()]), bostonPD.payroll_by_year.loc[2019]))"
   ]
  },
  {
   "cell_type": "markdown",
   "metadata": {},
   "source": [
    "Ok that data is all quite clean. Next thing to check is make sure that I get non-teacher payroll at least mostly correct. It's possible I count some teachers towards what is supposed to be non-teacher citywide payroll because there are so many employers. This would result in a minor undercount of police pensions. \n"
   ]
  },
  {
   "cell_type": "code",
   "execution_count": 104,
   "metadata": {
    "scrolled": false
   },
   "outputs": [],
   "source": [
    "sys.path.insert(0, os.path.abspath(\"../../pensions\"))\n",
    "from LocalPD_True_Payroll import remove_schools"
   ]
  },
  {
   "cell_type": "code",
   "execution_count": 105,
   "metadata": {},
   "outputs": [],
   "source": [
    "boston_2018_earnings = boston_2018_earnings.rename(columns={\"DEPARTMENT_NAME\": \"department\"})\n",
    "boston_2019_earnings = boston_2019_earnings.rename(columns={\"DEPARTMENT_NAME\": \"department\"})\n"
   ]
  },
  {
   "cell_type": "markdown",
   "metadata": {},
   "source": [
    "Eyeball test says that all looks good"
   ]
  },
  {
   "cell_type": "markdown",
   "metadata": {},
   "source": [
    "## Chelsea"
   ]
  },
  {
   "cell_type": "markdown",
   "metadata": {},
   "source": [
    "One thing to double check: we don't have citywide non-teacher fraction for 2016 as we don't have citywide earnings that year. So we assume that change from year to year is linear and take the difference betweeen 2018 and 2017 and subtract it from 2017. Chose simplicity over something arguably more correct as it's not signficiant to final results. \n",
    "Do have the numbers ready so we can say how little it changes "
   ]
  },
  {
   "cell_type": "code",
   "execution_count": 244,
   "metadata": {},
   "outputs": [
    {
     "name": "stdout",
     "output_type": "stream",
     "text": [
      "in add true earnings for  Boston PD\n",
      "PD fraction non-teacher is \n"
     ]
    },
    {
     "data": {
      "text/plain": [
       "2016   0.296\n",
       "2017   0.309\n",
       "2018   0.320\n",
       "2019   0.330\n",
       "dtype: float64"
      ]
     },
     "metadata": {},
     "output_type": "display_data"
    },
    {
     "name": "stdout",
     "output_type": "stream",
     "text": [
      "PD fraction overall is\n"
     ]
    },
    {
     "data": {
      "text/plain": [
       "2016   0.212\n",
       "2017   0.222\n",
       "2018   0.230\n",
       "2019   0.237\n",
       "dtype: float64"
      ]
     },
     "metadata": {},
     "output_type": "display_data"
    },
    {
     "name": "stdout",
     "output_type": "stream",
     "text": [
      "\n",
      "in add true earnings for  Chelsea PD\n",
      "PD fraction non-teacher is \n"
     ]
    },
    {
     "data": {
      "text/plain": [
       "fiscalyear\n",
       "2017   0.224\n",
       "2018   0.227\n",
       "2019   0.247\n",
       "2016   0.221\n",
       "Name: totalpay, dtype: float64"
      ]
     },
     "metadata": {},
     "output_type": "display_data"
    },
    {
     "name": "stdout",
     "output_type": "stream",
     "text": [
      "PD fraction overall is\n"
     ]
    },
    {
     "data": {
      "text/plain": [
       "fiscalyear\n",
       "2017   0.143\n",
       "2018   0.145\n",
       "2019   0.158\n",
       "2016   0.140\n",
       "Name: totalpay, dtype: float64"
      ]
     },
     "metadata": {},
     "output_type": "display_data"
    },
    {
     "name": "stdout",
     "output_type": "stream",
     "text": [
      "\n",
      "\n"
     ]
    }
   ],
   "source": [
    "yr = list(range(2016,2020))\n",
    "agencies = get_agencies(yr)"
   ]
  },
  {
   "cell_type": "code",
   "execution_count": 245,
   "metadata": {},
   "outputs": [
    {
     "data": {
      "text/plain": [
       "0.14495851262100326"
      ]
     },
     "execution_count": 245,
     "metadata": {},
     "output_type": "execute_result"
    }
   ],
   "source": [
    "chelsea_2018_police[\"totalpay\"].sum()/chelsea_2018_earnings[\"totalpay\"].sum()"
   ]
  },
  {
   "cell_type": "code",
   "execution_count": 232,
   "metadata": {},
   "outputs": [],
   "source": [
    "chelsea_2018_earnings = pd.read_csv(\"Chelsea_Payroll_2018_forCheck.csv\")"
   ]
  },
  {
   "cell_type": "markdown",
   "metadata": {},
   "source": [
    "First step: make sure we are getting cops correctly. Data seems clean"
   ]
  },
  {
   "cell_type": "code",
   "execution_count": 147,
   "metadata": {},
   "outputs": [],
   "source": [
    "chelsea_2018_police = chelsea_2018_earnings[chelsea_2018_earnings[\"department\"]==\"POLICE DEPARTMENT\"]\n"
   ]
  },
  {
   "cell_type": "code",
   "execution_count": 225,
   "metadata": {},
   "outputs": [
    {
     "data": {
      "text/plain": [
       "fiscalyear\n",
       "2017   12165124.100\n",
       "2018   12770764.810\n",
       "2019   14734808.950\n",
       "2016    9685922.000\n",
       "Name: totalpay, dtype: float64"
      ]
     },
     "execution_count": 225,
     "metadata": {},
     "output_type": "execute_result"
    }
   ],
   "source": [
    "chelseaPD = agencies[\"Chelsea PD\"]\n",
    "chelseaPD.payroll_by_year"
   ]
  },
  {
   "cell_type": "markdown",
   "metadata": {},
   "source": [
    "Second step: develop a way to pull out MTRS employees correctly "
   ]
  },
  {
   "cell_type": "code",
   "execution_count": 238,
   "metadata": {},
   "outputs": [],
   "source": [
    "chelsea_2018_no_school, chelsea_2018_school = remove_schools(chelsea_2018_earnings, \"Chelsea\", \"position\")\n"
   ]
  },
  {
   "cell_type": "markdown",
   "metadata": {},
   "source": [
    "Ok that all passes eyeball test. Last thing to check is whether 2016 number matches. Which it does."
   ]
  },
  {
   "cell_type": "code",
   "execution_count": null,
   "metadata": {},
   "outputs": [],
   "source": []
  },
  {
   "cell_type": "markdown",
   "metadata": {},
   "source": [
    "## Revere"
   ]
  },
  {
   "cell_type": "markdown",
   "metadata": {},
   "source": [
    "Double check cop, citywide earnings against budget pdf"
   ]
  },
  {
   "cell_type": "markdown",
   "metadata": {},
   "source": [
    "## Winthrop"
   ]
  },
  {
   "cell_type": "markdown",
   "metadata": {},
   "source": [
    "Double check cop earnings, we get citywide fraction from Revere"
   ]
  }
 ],
 "metadata": {
  "kernelspec": {
   "display_name": "Python 3",
   "language": "python",
   "name": "python3"
  },
  "language_info": {
   "codemirror_mode": {
    "name": "ipython",
    "version": 3
   },
   "file_extension": ".py",
   "mimetype": "text/x-python",
   "name": "python",
   "nbconvert_exporter": "python",
   "pygments_lexer": "ipython3",
   "version": "3.7.6"
  }
 },
 "nbformat": 4,
 "nbformat_minor": 4
}
