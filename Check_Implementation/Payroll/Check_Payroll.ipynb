{
 "cells": [
  {
   "cell_type": "markdown",
   "metadata": {},
   "source": [
    "# Check Payroll\n",
    "Do each agency seperately. Then do statewide and citywide payroll because we need those numbers for pension and fringe calculations.\n",
    "\n",
    "Important to include in methodolgoy: no way to know which payroll dollars are federal, they don't list source the same way. We could try and estimate or leave it be. Don't have a methodology to estimate but could use fraction of payroll expenditure record that is federal. "
   ]
  },
  {
   "cell_type": "markdown",
   "metadata": {},
   "source": [
    "## Set up environment"
   ]
  },
  {
   "cell_type": "code",
   "execution_count": 1,
   "metadata": {},
   "outputs": [],
   "source": [
    "%load_ext autoreload\n",
    "%autoreload 2"
   ]
  },
  {
   "cell_type": "code",
   "execution_count": 2,
   "metadata": {},
   "outputs": [],
   "source": [
    "import warnings\n",
    "warnings.simplefilter(action='ignore', category=FutureWarning)\n",
    "\n",
    "import pandas as pd\n",
    "import os\n",
    "import sys\n",
    "import numpy as np\n",
    "from sodapy import Socrata"
   ]
  },
  {
   "cell_type": "code",
   "execution_count": 3,
   "metadata": {},
   "outputs": [],
   "source": [
    "sys.path.insert(0, os.path.abspath(\"../..\"))"
   ]
  },
  {
   "cell_type": "code",
   "execution_count": 4,
   "metadata": {},
   "outputs": [],
   "source": [
    "app_token = \"2Qa1WiG8G4kj1vGVd2noK7zP0\"\n",
    "client = Socrata(\"cthru.data.socrata.com\", app_token)\n",
    "client.timeout = 40"
   ]
  },
  {
   "cell_type": "markdown",
   "metadata": {},
   "source": [
    "## Get Agencies"
   ]
  },
  {
   "cell_type": "code",
   "execution_count": 6,
   "metadata": {},
   "outputs": [
    {
     "name": "stderr",
     "output_type": "stream",
     "text": [
      "/opt/anaconda3/lib/python3.7/site-packages/pandas/core/frame.py:4133: SettingWithCopyWarning: \n",
      "A value is trying to be set on a copy of a slice from a DataFrame\n",
      "\n",
      "See the caveats in the documentation: https://pandas.pydata.org/pandas-docs/stable/user_guide/indexing.html#returning-a-view-versus-a-copy\n",
      "  errors=errors,\n",
      "/opt/anaconda3/lib/python3.7/site-packages/pandas/core/generic.py:6245: SettingWithCopyWarning: \n",
      "A value is trying to be set on a copy of a slice from a DataFrame\n",
      "\n",
      "See the caveats in the documentation: https://pandas.pydata.org/pandas-docs/stable/user_guide/indexing.html#returning-a-view-versus-a-copy\n",
      "  self._update_inplace(new_data)\n",
      "/Users/alexanderweinstein/Documents/Harris/Summer2020/Carceral_Budgeting/Exploratory/Cost_Type_Code/Pensions/Statewide_Pensions.py:137: SettingWithCopyWarning: \n",
      "A value is trying to be set on a copy of a slice from a DataFrame.\n",
      "Try using .loc[row_indexer,col_indexer] = value instead\n",
      "\n",
      "See the caveats in the documentation: https://pandas.pydata.org/pandas-docs/stable/user_guide/indexing.html#returning-a-view-versus-a-copy\n",
      "  cthru_pensions[\"year\"] = cthru_pensions[\"year\"].astype(int)\n",
      "/Users/alexanderweinstein/Documents/Harris/Summer2020/Carceral_Budgeting/Exploratory/Initialize_Agencies.py:7: DtypeWarning: Columns (16) have mixed types.Specify dtype option on import or set low_memory=False.\n",
      "  from Agency_Classes_Big import StateAgency, CPCS, MBTA, BostonPD, ChelseaPD, ReverePD, WinthropPD\n"
     ]
    }
   ],
   "source": [
    "from Initialize_Agencies import get_agencies"
   ]
  },
  {
   "cell_type": "code",
   "execution_count": 8,
   "metadata": {
    "scrolled": false
   },
   "outputs": [
    {
     "name": "stderr",
     "output_type": "stream",
     "text": [
      "/opt/anaconda3/lib/python3.7/site-packages/pandas/core/frame.py:4133: SettingWithCopyWarning: \n",
      "A value is trying to be set on a copy of a slice from a DataFrame\n",
      "\n",
      "See the caveats in the documentation: https://pandas.pydata.org/pandas-docs/stable/user_guide/indexing.html#returning-a-view-versus-a-copy\n",
      "  errors=errors,\n",
      "/opt/anaconda3/lib/python3.7/site-packages/pandas/core/generic.py:6245: SettingWithCopyWarning: \n",
      "A value is trying to be set on a copy of a slice from a DataFrame\n",
      "\n",
      "See the caveats in the documentation: https://pandas.pydata.org/pandas-docs/stable/user_guide/indexing.html#returning-a-view-versus-a-copy\n",
      "  self._update_inplace(new_data)\n",
      "/Users/alexanderweinstein/Documents/Harris/Summer2020/Carceral_Budgeting/Exploratory/Cost_Type_Code/Pensions/Statewide_Pensions.py:137: SettingWithCopyWarning: \n",
      "A value is trying to be set on a copy of a slice from a DataFrame.\n",
      "Try using .loc[row_indexer,col_indexer] = value instead\n",
      "\n",
      "See the caveats in the documentation: https://pandas.pydata.org/pandas-docs/stable/user_guide/indexing.html#returning-a-view-versus-a-copy\n",
      "  cthru_pensions[\"year\"] = cthru_pensions[\"year\"].astype(int)\n",
      "/opt/anaconda3/lib/python3.7/importlib/__init__.py:169: DtypeWarning: Columns (16) have mixed types.Specify dtype option on import or set low_memory=False.\n",
      "  _bootstrap._exec(spec, module)\n",
      "/Users/alexanderweinstein/Documents/Harris/Summer2020/Carceral_Budgeting/Exploratory/Agency_Classes/Agency_Classes_Big.py:98: DtypeWarning: Columns (16) have mixed types.Specify dtype option on import or set low_memory=False.\n",
      "  self.get_expenditures_by_year()\n"
     ]
    },
    {
     "name": "stdout",
     "output_type": "stream",
     "text": [
      "for  trial_court\n",
      "federal payroll df\n"
     ]
    },
    {
     "data": {
      "text/html": [
       "<div>\n",
       "<style scoped>\n",
       "    .dataframe tbody tr th:only-of-type {\n",
       "        vertical-align: middle;\n",
       "    }\n",
       "\n",
       "    .dataframe tbody tr th {\n",
       "        vertical-align: top;\n",
       "    }\n",
       "\n",
       "    .dataframe thead th {\n",
       "        text-align: right;\n",
       "    }\n",
       "</style>\n",
       "<table border=\"1\" class=\"dataframe\">\n",
       "  <thead>\n",
       "    <tr style=\"text-align: right;\">\n",
       "      <th></th>\n",
       "      <th>Unnamed: 0</th>\n",
       "      <th>base_id</th>\n",
       "      <th>budget_fiscal_year</th>\n",
       "      <th>fiscal_period</th>\n",
       "      <th>date</th>\n",
       "      <th>cabinet_secretariat</th>\n",
       "      <th>department</th>\n",
       "      <th>appropriation_type</th>\n",
       "      <th>appropriation_name</th>\n",
       "      <th>object_class</th>\n",
       "      <th>...</th>\n",
       "      <th>appropriation_code</th>\n",
       "      <th>object</th>\n",
       "      <th>department_code</th>\n",
       "      <th>vendor</th>\n",
       "      <th>vendor_id</th>\n",
       "      <th>payment_id</th>\n",
       "      <th>payment_method</th>\n",
       "      <th>state</th>\n",
       "      <th>city</th>\n",
       "      <th>create_date</th>\n",
       "    </tr>\n",
       "  </thead>\n",
       "  <tbody>\n",
       "    <tr>\n",
       "      <th>40835</th>\n",
       "      <td>40835</td>\n",
       "      <td>B0000000000213380453</td>\n",
       "      <td>2016</td>\n",
       "      <td>8</td>\n",
       "      <td>2016-02-02T00:00:00.000</td>\n",
       "      <td>JUDICIARY</td>\n",
       "      <td>TRIAL COURT (TRC)</td>\n",
       "      <td>(4FN) FEDERAL GRANTS</td>\n",
       "      <td>(80004620) STOP VIOLENCE AGAINST WOMEN FORMULA</td>\n",
       "      <td>(AA) REGULAR EMPLOYEE COMPENSATION</td>\n",
       "      <td>...</td>\n",
       "      <td>80004620</td>\n",
       "      <td>A01</td>\n",
       "      <td>TRC</td>\n",
       "      <td>TRC - SUMMARY PAYROLL</td>\n",
       "      <td>UNASSIGNED</td>\n",
       "      <td>11031500000000000537</td>\n",
       "      <td>UNASSIGNED</td>\n",
       "      <td>UNASSIGNED</td>\n",
       "      <td>UNASSIGNED</td>\n",
       "      <td>2019-08-31T13:32:03.000</td>\n",
       "    </tr>\n",
       "    <tr>\n",
       "      <th>40836</th>\n",
       "      <td>40836</td>\n",
       "      <td>B0000000000213380454</td>\n",
       "      <td>2016</td>\n",
       "      <td>4</td>\n",
       "      <td>2015-10-06T00:00:00.000</td>\n",
       "      <td>JUDICIARY</td>\n",
       "      <td>TRIAL COURT (TRC)</td>\n",
       "      <td>(4FN) FEDERAL GRANTS</td>\n",
       "      <td>(80004620) STOP VIOLENCE AGAINST WOMEN FORMULA</td>\n",
       "      <td>(AA) REGULAR EMPLOYEE COMPENSATION</td>\n",
       "      <td>...</td>\n",
       "      <td>80004620</td>\n",
       "      <td>A01</td>\n",
       "      <td>TRC</td>\n",
       "      <td>TRC - SUMMARY PAYROLL</td>\n",
       "      <td>UNASSIGNED</td>\n",
       "      <td>EMPL 020151003118574</td>\n",
       "      <td>UNASSIGNED</td>\n",
       "      <td>UNASSIGNED</td>\n",
       "      <td>UNASSIGNED</td>\n",
       "      <td>2019-08-31T13:32:03.000</td>\n",
       "    </tr>\n",
       "    <tr>\n",
       "      <th>40837</th>\n",
       "      <td>40837</td>\n",
       "      <td>B0000000000213380455</td>\n",
       "      <td>2016</td>\n",
       "      <td>8</td>\n",
       "      <td>2016-02-02T00:00:00.000</td>\n",
       "      <td>JUDICIARY</td>\n",
       "      <td>TRIAL COURT (TRC)</td>\n",
       "      <td>(4FN) FEDERAL GRANTS</td>\n",
       "      <td>(80004620) STOP VIOLENCE AGAINST WOMEN FORMULA</td>\n",
       "      <td>(AA) REGULAR EMPLOYEE COMPENSATION</td>\n",
       "      <td>...</td>\n",
       "      <td>80004620</td>\n",
       "      <td>A01</td>\n",
       "      <td>TRC</td>\n",
       "      <td>TRC - SUMMARY PAYROLL</td>\n",
       "      <td>UNASSIGNED</td>\n",
       "      <td>10201500000000000533</td>\n",
       "      <td>UNASSIGNED</td>\n",
       "      <td>UNASSIGNED</td>\n",
       "      <td>UNASSIGNED</td>\n",
       "      <td>2019-08-31T13:32:03.000</td>\n",
       "    </tr>\n",
       "    <tr>\n",
       "      <th>40838</th>\n",
       "      <td>40838</td>\n",
       "      <td>B0000000000213380456</td>\n",
       "      <td>2016</td>\n",
       "      <td>8</td>\n",
       "      <td>2016-02-23T00:00:00.000</td>\n",
       "      <td>JUDICIARY</td>\n",
       "      <td>TRIAL COURT (TRC)</td>\n",
       "      <td>(4FN) FEDERAL GRANTS</td>\n",
       "      <td>(80004620) STOP VIOLENCE AGAINST WOMEN FORMULA</td>\n",
       "      <td>(AA) REGULAR EMPLOYEE COMPENSATION</td>\n",
       "      <td>...</td>\n",
       "      <td>80004620</td>\n",
       "      <td>A01</td>\n",
       "      <td>TRC</td>\n",
       "      <td>TRC - SUMMARY PAYROLL</td>\n",
       "      <td>UNASSIGNED</td>\n",
       "      <td>EMPL 020160220111704</td>\n",
       "      <td>UNASSIGNED</td>\n",
       "      <td>UNASSIGNED</td>\n",
       "      <td>UNASSIGNED</td>\n",
       "      <td>2019-08-31T13:32:03.000</td>\n",
       "    </tr>\n",
       "    <tr>\n",
       "      <th>40839</th>\n",
       "      <td>40839</td>\n",
       "      <td>B0000000000213381625</td>\n",
       "      <td>2016</td>\n",
       "      <td>11</td>\n",
       "      <td>2016-05-31T00:00:00.000</td>\n",
       "      <td>JUDICIARY</td>\n",
       "      <td>TRIAL COURT (TRC)</td>\n",
       "      <td>(4FN) FEDERAL GRANTS</td>\n",
       "      <td>(80004620) STOP VIOLENCE AGAINST WOMEN FORMULA</td>\n",
       "      <td>(AA) REGULAR EMPLOYEE COMPENSATION</td>\n",
       "      <td>...</td>\n",
       "      <td>80004620</td>\n",
       "      <td>A01</td>\n",
       "      <td>TRC</td>\n",
       "      <td>TRC - SUMMARY PAYROLL</td>\n",
       "      <td>UNASSIGNED</td>\n",
       "      <td>EMPL 020160528115424</td>\n",
       "      <td>UNASSIGNED</td>\n",
       "      <td>UNASSIGNED</td>\n",
       "      <td>UNASSIGNED</td>\n",
       "      <td>2019-08-31T13:32:03.000</td>\n",
       "    </tr>\n",
       "  </tbody>\n",
       "</table>\n",
       "<p>5 rows × 26 columns</p>\n",
       "</div>"
      ],
      "text/plain": [
       "       Unnamed: 0               base_id  budget_fiscal_year  fiscal_period  \\\n",
       "40835       40835  B0000000000213380453                2016              8   \n",
       "40836       40836  B0000000000213380454                2016              4   \n",
       "40837       40837  B0000000000213380455                2016              8   \n",
       "40838       40838  B0000000000213380456                2016              8   \n",
       "40839       40839  B0000000000213381625                2016             11   \n",
       "\n",
       "                          date cabinet_secretariat         department  \\\n",
       "40835  2016-02-02T00:00:00.000           JUDICIARY  TRIAL COURT (TRC)   \n",
       "40836  2015-10-06T00:00:00.000           JUDICIARY  TRIAL COURT (TRC)   \n",
       "40837  2016-02-02T00:00:00.000           JUDICIARY  TRIAL COURT (TRC)   \n",
       "40838  2016-02-23T00:00:00.000           JUDICIARY  TRIAL COURT (TRC)   \n",
       "40839  2016-05-31T00:00:00.000           JUDICIARY  TRIAL COURT (TRC)   \n",
       "\n",
       "         appropriation_type                              appropriation_name  \\\n",
       "40835  (4FN) FEDERAL GRANTS  (80004620) STOP VIOLENCE AGAINST WOMEN FORMULA   \n",
       "40836  (4FN) FEDERAL GRANTS  (80004620) STOP VIOLENCE AGAINST WOMEN FORMULA   \n",
       "40837  (4FN) FEDERAL GRANTS  (80004620) STOP VIOLENCE AGAINST WOMEN FORMULA   \n",
       "40838  (4FN) FEDERAL GRANTS  (80004620) STOP VIOLENCE AGAINST WOMEN FORMULA   \n",
       "40839  (4FN) FEDERAL GRANTS  (80004620) STOP VIOLENCE AGAINST WOMEN FORMULA   \n",
       "\n",
       "                             object_class  ... appropriation_code object  \\\n",
       "40835  (AA) REGULAR EMPLOYEE COMPENSATION  ...           80004620    A01   \n",
       "40836  (AA) REGULAR EMPLOYEE COMPENSATION  ...           80004620    A01   \n",
       "40837  (AA) REGULAR EMPLOYEE COMPENSATION  ...           80004620    A01   \n",
       "40838  (AA) REGULAR EMPLOYEE COMPENSATION  ...           80004620    A01   \n",
       "40839  (AA) REGULAR EMPLOYEE COMPENSATION  ...           80004620    A01   \n",
       "\n",
       "      department_code                 vendor   vendor_id  \\\n",
       "40835             TRC  TRC - SUMMARY PAYROLL  UNASSIGNED   \n",
       "40836             TRC  TRC - SUMMARY PAYROLL  UNASSIGNED   \n",
       "40837             TRC  TRC - SUMMARY PAYROLL  UNASSIGNED   \n",
       "40838             TRC  TRC - SUMMARY PAYROLL  UNASSIGNED   \n",
       "40839             TRC  TRC - SUMMARY PAYROLL  UNASSIGNED   \n",
       "\n",
       "                 payment_id payment_method       state        city  \\\n",
       "40835  11031500000000000537     UNASSIGNED  UNASSIGNED  UNASSIGNED   \n",
       "40836  EMPL 020151003118574     UNASSIGNED  UNASSIGNED  UNASSIGNED   \n",
       "40837  10201500000000000533     UNASSIGNED  UNASSIGNED  UNASSIGNED   \n",
       "40838  EMPL 020160220111704     UNASSIGNED  UNASSIGNED  UNASSIGNED   \n",
       "40839  EMPL 020160528115424     UNASSIGNED  UNASSIGNED  UNASSIGNED   \n",
       "\n",
       "                   create_date  \n",
       "40835  2019-08-31T13:32:03.000  \n",
       "40836  2019-08-31T13:32:03.000  \n",
       "40837  2019-08-31T13:32:03.000  \n",
       "40838  2019-08-31T13:32:03.000  \n",
       "40839  2019-08-31T13:32:03.000  \n",
       "\n",
       "[5 rows x 26 columns]"
      ]
     },
     "metadata": {},
     "output_type": "display_data"
    },
    {
     "name": "stdout",
     "output_type": "stream",
     "text": [
      "federal payroll fraction\n"
     ]
    },
    {
     "data": {
      "text/plain": [
       "0.0011805807128895962"
      ]
     },
     "metadata": {},
     "output_type": "display_data"
    },
    {
     "name": "stdout",
     "output_type": "stream",
     "text": [
      "budget_fiscal_year\n",
      "2016   605715.930\n",
      "2017   546847.290\n",
      "2018   474399.120\n",
      "2019   689729.890\n",
      "2020   712040.510\n",
      "2021     5084.290\n",
      "Name: amount, dtype: float64\n"
     ]
    },
    {
     "name": "stderr",
     "output_type": "stream",
     "text": [
      "/Users/alexanderweinstein/Documents/Harris/Summer2020/Carceral_Budgeting/Exploratory/Agency_Classes/Agency_Classes_Big.py:92: DtypeWarning: Columns (16) have mixed types.Specify dtype option on import or set low_memory=False.\n",
      "  self.get_final_costs()\n"
     ]
    },
    {
     "name": "stdout",
     "output_type": "stream",
     "text": [
      "for  CPCS\n",
      "federal payroll df\n"
     ]
    },
    {
     "data": {
      "text/html": [
       "<div>\n",
       "<style scoped>\n",
       "    .dataframe tbody tr th:only-of-type {\n",
       "        vertical-align: middle;\n",
       "    }\n",
       "\n",
       "    .dataframe tbody tr th {\n",
       "        vertical-align: top;\n",
       "    }\n",
       "\n",
       "    .dataframe thead th {\n",
       "        text-align: right;\n",
       "    }\n",
       "</style>\n",
       "<table border=\"1\" class=\"dataframe\">\n",
       "  <thead>\n",
       "    <tr style=\"text-align: right;\">\n",
       "      <th></th>\n",
       "      <th>Unnamed: 0</th>\n",
       "      <th>base_id</th>\n",
       "      <th>budget_fiscal_year</th>\n",
       "      <th>fiscal_period</th>\n",
       "      <th>date</th>\n",
       "      <th>cabinet_secretariat</th>\n",
       "      <th>department</th>\n",
       "      <th>appropriation_type</th>\n",
       "      <th>appropriation_name</th>\n",
       "      <th>object_class</th>\n",
       "      <th>...</th>\n",
       "      <th>appropriation_code</th>\n",
       "      <th>object</th>\n",
       "      <th>department_code</th>\n",
       "      <th>vendor</th>\n",
       "      <th>vendor_id</th>\n",
       "      <th>payment_id</th>\n",
       "      <th>payment_method</th>\n",
       "      <th>state</th>\n",
       "      <th>city</th>\n",
       "      <th>create_date</th>\n",
       "    </tr>\n",
       "  </thead>\n",
       "  <tbody>\n",
       "    <tr>\n",
       "      <th>42894</th>\n",
       "      <td>42894</td>\n",
       "      <td>B0000000000213415184</td>\n",
       "      <td>2016</td>\n",
       "      <td>10</td>\n",
       "      <td>2016-04-19T00:00:00.000</td>\n",
       "      <td>JUDICIARY</td>\n",
       "      <td>COMMITTEE FOR PUBLIC COUNSEL SERVICES (CPC)</td>\n",
       "      <td>(4FN) FEDERAL GRANTS</td>\n",
       "      <td>(03201803) WRONGFUL CONVICTION REVIEW</td>\n",
       "      <td>(AA) REGULAR EMPLOYEE COMPENSATION</td>\n",
       "      <td>...</td>\n",
       "      <td>03201803</td>\n",
       "      <td>A01</td>\n",
       "      <td>CPC</td>\n",
       "      <td>CPC - SUMMARY PAYROLL</td>\n",
       "      <td>UNASSIGNED</td>\n",
       "      <td>EMPL 020160416115588</td>\n",
       "      <td>UNASSIGNED</td>\n",
       "      <td>UNASSIGNED</td>\n",
       "      <td>UNASSIGNED</td>\n",
       "      <td>2019-08-31T13:32:03.000</td>\n",
       "    </tr>\n",
       "    <tr>\n",
       "      <th>42947</th>\n",
       "      <td>42947</td>\n",
       "      <td>B0000000000213444555</td>\n",
       "      <td>2016</td>\n",
       "      <td>11</td>\n",
       "      <td>2016-05-31T00:00:00.000</td>\n",
       "      <td>JUDICIARY</td>\n",
       "      <td>COMMITTEE FOR PUBLIC COUNSEL SERVICES (CPC)</td>\n",
       "      <td>(4FN) FEDERAL GRANTS</td>\n",
       "      <td>(03201803) WRONGFUL CONVICTION REVIEW</td>\n",
       "      <td>(AA) REGULAR EMPLOYEE COMPENSATION</td>\n",
       "      <td>...</td>\n",
       "      <td>03201803</td>\n",
       "      <td>A01</td>\n",
       "      <td>CPC</td>\n",
       "      <td>CPC - SUMMARY PAYROLL</td>\n",
       "      <td>UNASSIGNED</td>\n",
       "      <td>EMPL 020160528115278</td>\n",
       "      <td>UNASSIGNED</td>\n",
       "      <td>UNASSIGNED</td>\n",
       "      <td>UNASSIGNED</td>\n",
       "      <td>2019-08-31T13:32:03.000</td>\n",
       "    </tr>\n",
       "    <tr>\n",
       "      <th>43026</th>\n",
       "      <td>43026</td>\n",
       "      <td>B0000000000213470958</td>\n",
       "      <td>2016</td>\n",
       "      <td>11</td>\n",
       "      <td>2016-05-17T00:00:00.000</td>\n",
       "      <td>JUDICIARY</td>\n",
       "      <td>COMMITTEE FOR PUBLIC COUNSEL SERVICES (CPC)</td>\n",
       "      <td>(4FN) FEDERAL GRANTS</td>\n",
       "      <td>(03201803) WRONGFUL CONVICTION REVIEW</td>\n",
       "      <td>(AA) REGULAR EMPLOYEE COMPENSATION</td>\n",
       "      <td>...</td>\n",
       "      <td>03201803</td>\n",
       "      <td>A01</td>\n",
       "      <td>CPC</td>\n",
       "      <td>CPC - SUMMARY PAYROLL</td>\n",
       "      <td>UNASSIGNED</td>\n",
       "      <td>EMPL 020160514117508</td>\n",
       "      <td>UNASSIGNED</td>\n",
       "      <td>UNASSIGNED</td>\n",
       "      <td>UNASSIGNED</td>\n",
       "      <td>2019-08-31T13:32:03.000</td>\n",
       "    </tr>\n",
       "    <tr>\n",
       "      <th>43030</th>\n",
       "      <td>43030</td>\n",
       "      <td>B0000000000213475381</td>\n",
       "      <td>2016</td>\n",
       "      <td>12</td>\n",
       "      <td>2016-06-28T00:00:00.000</td>\n",
       "      <td>JUDICIARY</td>\n",
       "      <td>COMMITTEE FOR PUBLIC COUNSEL SERVICES (CPC)</td>\n",
       "      <td>(4FN) FEDERAL GRANTS</td>\n",
       "      <td>(03201803) WRONGFUL CONVICTION REVIEW</td>\n",
       "      <td>(AA) REGULAR EMPLOYEE COMPENSATION</td>\n",
       "      <td>...</td>\n",
       "      <td>03201803</td>\n",
       "      <td>A01</td>\n",
       "      <td>CPC</td>\n",
       "      <td>CPC - SUMMARY PAYROLL</td>\n",
       "      <td>UNASSIGNED</td>\n",
       "      <td>EMPL 020160625116898</td>\n",
       "      <td>UNASSIGNED</td>\n",
       "      <td>UNASSIGNED</td>\n",
       "      <td>UNASSIGNED</td>\n",
       "      <td>2019-08-31T13:32:03.000</td>\n",
       "    </tr>\n",
       "    <tr>\n",
       "      <th>43059</th>\n",
       "      <td>43059</td>\n",
       "      <td>B0000000000213486863</td>\n",
       "      <td>2016</td>\n",
       "      <td>7</td>\n",
       "      <td>2016-01-12T00:00:00.000</td>\n",
       "      <td>JUDICIARY</td>\n",
       "      <td>COMMITTEE FOR PUBLIC COUNSEL SERVICES (CPC)</td>\n",
       "      <td>(4FN) FEDERAL GRANTS</td>\n",
       "      <td>(03201803) WRONGFUL CONVICTION REVIEW</td>\n",
       "      <td>(AA) REGULAR EMPLOYEE COMPENSATION</td>\n",
       "      <td>...</td>\n",
       "      <td>03201803</td>\n",
       "      <td>A01</td>\n",
       "      <td>CPC</td>\n",
       "      <td>CPC - SUMMARY PAYROLL</td>\n",
       "      <td>UNASSIGNED</td>\n",
       "      <td>EMPL 020160109118078</td>\n",
       "      <td>UNASSIGNED</td>\n",
       "      <td>UNASSIGNED</td>\n",
       "      <td>UNASSIGNED</td>\n",
       "      <td>2019-08-31T13:32:03.000</td>\n",
       "    </tr>\n",
       "  </tbody>\n",
       "</table>\n",
       "<p>5 rows × 26 columns</p>\n",
       "</div>"
      ],
      "text/plain": [
       "       Unnamed: 0               base_id  budget_fiscal_year  fiscal_period  \\\n",
       "42894       42894  B0000000000213415184                2016             10   \n",
       "42947       42947  B0000000000213444555                2016             11   \n",
       "43026       43026  B0000000000213470958                2016             11   \n",
       "43030       43030  B0000000000213475381                2016             12   \n",
       "43059       43059  B0000000000213486863                2016              7   \n",
       "\n",
       "                          date cabinet_secretariat  \\\n",
       "42894  2016-04-19T00:00:00.000           JUDICIARY   \n",
       "42947  2016-05-31T00:00:00.000           JUDICIARY   \n",
       "43026  2016-05-17T00:00:00.000           JUDICIARY   \n",
       "43030  2016-06-28T00:00:00.000           JUDICIARY   \n",
       "43059  2016-01-12T00:00:00.000           JUDICIARY   \n",
       "\n",
       "                                        department    appropriation_type  \\\n",
       "42894  COMMITTEE FOR PUBLIC COUNSEL SERVICES (CPC)  (4FN) FEDERAL GRANTS   \n",
       "42947  COMMITTEE FOR PUBLIC COUNSEL SERVICES (CPC)  (4FN) FEDERAL GRANTS   \n",
       "43026  COMMITTEE FOR PUBLIC COUNSEL SERVICES (CPC)  (4FN) FEDERAL GRANTS   \n",
       "43030  COMMITTEE FOR PUBLIC COUNSEL SERVICES (CPC)  (4FN) FEDERAL GRANTS   \n",
       "43059  COMMITTEE FOR PUBLIC COUNSEL SERVICES (CPC)  (4FN) FEDERAL GRANTS   \n",
       "\n",
       "                          appropriation_name  \\\n",
       "42894  (03201803) WRONGFUL CONVICTION REVIEW   \n",
       "42947  (03201803) WRONGFUL CONVICTION REVIEW   \n",
       "43026  (03201803) WRONGFUL CONVICTION REVIEW   \n",
       "43030  (03201803) WRONGFUL CONVICTION REVIEW   \n",
       "43059  (03201803) WRONGFUL CONVICTION REVIEW   \n",
       "\n",
       "                             object_class  ... appropriation_code object  \\\n",
       "42894  (AA) REGULAR EMPLOYEE COMPENSATION  ...           03201803    A01   \n",
       "42947  (AA) REGULAR EMPLOYEE COMPENSATION  ...           03201803    A01   \n",
       "43026  (AA) REGULAR EMPLOYEE COMPENSATION  ...           03201803    A01   \n",
       "43030  (AA) REGULAR EMPLOYEE COMPENSATION  ...           03201803    A01   \n",
       "43059  (AA) REGULAR EMPLOYEE COMPENSATION  ...           03201803    A01   \n",
       "\n",
       "      department_code                 vendor   vendor_id  \\\n",
       "42894             CPC  CPC - SUMMARY PAYROLL  UNASSIGNED   \n",
       "42947             CPC  CPC - SUMMARY PAYROLL  UNASSIGNED   \n",
       "43026             CPC  CPC - SUMMARY PAYROLL  UNASSIGNED   \n",
       "43030             CPC  CPC - SUMMARY PAYROLL  UNASSIGNED   \n",
       "43059             CPC  CPC - SUMMARY PAYROLL  UNASSIGNED   \n",
       "\n",
       "                 payment_id payment_method       state        city  \\\n",
       "42894  EMPL 020160416115588     UNASSIGNED  UNASSIGNED  UNASSIGNED   \n",
       "42947  EMPL 020160528115278     UNASSIGNED  UNASSIGNED  UNASSIGNED   \n",
       "43026  EMPL 020160514117508     UNASSIGNED  UNASSIGNED  UNASSIGNED   \n",
       "43030  EMPL 020160625116898     UNASSIGNED  UNASSIGNED  UNASSIGNED   \n",
       "43059  EMPL 020160109118078     UNASSIGNED  UNASSIGNED  UNASSIGNED   \n",
       "\n",
       "                   create_date  \n",
       "42894  2019-08-31T13:32:03.000  \n",
       "42947  2019-08-31T13:32:03.000  \n",
       "43026  2019-08-31T13:32:03.000  \n",
       "43030  2019-08-31T13:32:03.000  \n",
       "43059  2019-08-31T13:32:03.000  \n",
       "\n",
       "[5 rows x 26 columns]"
      ]
     },
     "metadata": {},
     "output_type": "display_data"
    },
    {
     "name": "stdout",
     "output_type": "stream",
     "text": [
      "federal payroll fraction\n"
     ]
    },
    {
     "data": {
      "text/plain": [
       "0.0023483968698147298"
      ]
     },
     "metadata": {},
     "output_type": "display_data"
    },
    {
     "name": "stdout",
     "output_type": "stream",
     "text": [
      "budget_fiscal_year\n",
      "2016    55534.650\n",
      "2017    84194.210\n",
      "2018   133008.550\n",
      "2019   158867.610\n",
      "2020   143384.510\n",
      "2021      972.600\n",
      "Name: amount, dtype: float64\n"
     ]
    },
    {
     "name": "stderr",
     "output_type": "stream",
     "text": [
      "/Users/alexanderweinstein/Documents/Harris/Summer2020/Carceral_Budgeting/Exploratory/Agency_Classes/Agency_Classes_Big.py:98: DtypeWarning: Columns (15,16) have mixed types.Specify dtype option on import or set low_memory=False.\n",
      "  self.get_expenditures_by_year()\n"
     ]
    },
    {
     "name": "stdout",
     "output_type": "stream",
     "text": [
      "for  DOC\n",
      "federal payroll df\n"
     ]
    },
    {
     "data": {
      "text/html": [
       "<div>\n",
       "<style scoped>\n",
       "    .dataframe tbody tr th:only-of-type {\n",
       "        vertical-align: middle;\n",
       "    }\n",
       "\n",
       "    .dataframe tbody tr th {\n",
       "        vertical-align: top;\n",
       "    }\n",
       "\n",
       "    .dataframe thead th {\n",
       "        text-align: right;\n",
       "    }\n",
       "</style>\n",
       "<table border=\"1\" class=\"dataframe\">\n",
       "  <thead>\n",
       "    <tr style=\"text-align: right;\">\n",
       "      <th></th>\n",
       "      <th>Unnamed: 0</th>\n",
       "      <th>base_id</th>\n",
       "      <th>budget_fiscal_year</th>\n",
       "      <th>fiscal_period</th>\n",
       "      <th>date</th>\n",
       "      <th>cabinet_secretariat</th>\n",
       "      <th>department</th>\n",
       "      <th>appropriation_type</th>\n",
       "      <th>appropriation_name</th>\n",
       "      <th>object_class</th>\n",
       "      <th>...</th>\n",
       "      <th>appropriation_code</th>\n",
       "      <th>object</th>\n",
       "      <th>department_code</th>\n",
       "      <th>vendor</th>\n",
       "      <th>vendor_id</th>\n",
       "      <th>payment_id</th>\n",
       "      <th>payment_method</th>\n",
       "      <th>state</th>\n",
       "      <th>city</th>\n",
       "      <th>create_date</th>\n",
       "    </tr>\n",
       "  </thead>\n",
       "  <tbody>\n",
       "    <tr>\n",
       "      <th>29841</th>\n",
       "      <td>29841</td>\n",
       "      <td>B0000000000213429215</td>\n",
       "      <td>2016</td>\n",
       "      <td>6</td>\n",
       "      <td>2015-12-29T00:00:00.000</td>\n",
       "      <td>EXECUTIVE OFFICE OF PUBLIC SAFETY &amp; HOMELAND S...</td>\n",
       "      <td>DEPARTMENT OF CORRECTION (DOC)</td>\n",
       "      <td>(4FN) FEDERAL GRANTS</td>\n",
       "      <td>(89030068) PREA ZERO TOLERANCE</td>\n",
       "      <td>(CC) SPECIAL EMPLOYEES</td>\n",
       "      <td>...</td>\n",
       "      <td>89030068</td>\n",
       "      <td>C28</td>\n",
       "      <td>DOC</td>\n",
       "      <td>DOC - SUMMARY PAYROLL</td>\n",
       "      <td>UNASSIGNED</td>\n",
       "      <td>CNTR 020151226100737</td>\n",
       "      <td>UNASSIGNED</td>\n",
       "      <td>UNASSIGNED</td>\n",
       "      <td>UNASSIGNED</td>\n",
       "      <td>2019-08-31T13:32:03.000</td>\n",
       "    </tr>\n",
       "    <tr>\n",
       "      <th>29842</th>\n",
       "      <td>29842</td>\n",
       "      <td>B0000000000213429216</td>\n",
       "      <td>2016</td>\n",
       "      <td>9</td>\n",
       "      <td>2016-03-08T00:00:00.000</td>\n",
       "      <td>EXECUTIVE OFFICE OF PUBLIC SAFETY &amp; HOMELAND S...</td>\n",
       "      <td>DEPARTMENT OF CORRECTION (DOC)</td>\n",
       "      <td>(4FN) FEDERAL GRANTS</td>\n",
       "      <td>(89030068) PREA ZERO TOLERANCE</td>\n",
       "      <td>(CC) SPECIAL EMPLOYEES</td>\n",
       "      <td>...</td>\n",
       "      <td>89030068</td>\n",
       "      <td>C28</td>\n",
       "      <td>DOC</td>\n",
       "      <td>DOC - SUMMARY PAYROLL</td>\n",
       "      <td>UNASSIGNED</td>\n",
       "      <td>CNTR 020160305103575</td>\n",
       "      <td>UNASSIGNED</td>\n",
       "      <td>UNASSIGNED</td>\n",
       "      <td>UNASSIGNED</td>\n",
       "      <td>2019-08-31T13:32:03.000</td>\n",
       "    </tr>\n",
       "    <tr>\n",
       "      <th>29843</th>\n",
       "      <td>29843</td>\n",
       "      <td>B0000000000213429217</td>\n",
       "      <td>2016</td>\n",
       "      <td>7</td>\n",
       "      <td>2016-01-12T00:00:00.000</td>\n",
       "      <td>EXECUTIVE OFFICE OF PUBLIC SAFETY &amp; HOMELAND S...</td>\n",
       "      <td>DEPARTMENT OF CORRECTION (DOC)</td>\n",
       "      <td>(4FN) FEDERAL GRANTS</td>\n",
       "      <td>(89030068) PREA ZERO TOLERANCE</td>\n",
       "      <td>(CC) SPECIAL EMPLOYEES</td>\n",
       "      <td>...</td>\n",
       "      <td>89030068</td>\n",
       "      <td>C28</td>\n",
       "      <td>DOC</td>\n",
       "      <td>DOC - SUMMARY PAYROLL</td>\n",
       "      <td>UNASSIGNED</td>\n",
       "      <td>CNTR 020160109101115</td>\n",
       "      <td>UNASSIGNED</td>\n",
       "      <td>UNASSIGNED</td>\n",
       "      <td>UNASSIGNED</td>\n",
       "      <td>2019-08-31T13:32:03.000</td>\n",
       "    </tr>\n",
       "    <tr>\n",
       "      <th>29897</th>\n",
       "      <td>29897</td>\n",
       "      <td>B0000000000213528114</td>\n",
       "      <td>2016</td>\n",
       "      <td>11</td>\n",
       "      <td>2016-05-03T00:00:00.000</td>\n",
       "      <td>EXECUTIVE OFFICE OF PUBLIC SAFETY &amp; HOMELAND S...</td>\n",
       "      <td>DEPARTMENT OF CORRECTION (DOC)</td>\n",
       "      <td>(4FN) FEDERAL GRANTS</td>\n",
       "      <td>(89030068) PREA ZERO TOLERANCE</td>\n",
       "      <td>(CC) SPECIAL EMPLOYEES</td>\n",
       "      <td>...</td>\n",
       "      <td>89030068</td>\n",
       "      <td>C28</td>\n",
       "      <td>DOC</td>\n",
       "      <td>DOC - SUMMARY PAYROLL</td>\n",
       "      <td>UNASSIGNED</td>\n",
       "      <td>CNTR 020160430100957</td>\n",
       "      <td>UNASSIGNED</td>\n",
       "      <td>UNASSIGNED</td>\n",
       "      <td>UNASSIGNED</td>\n",
       "      <td>2019-08-31T13:32:03.000</td>\n",
       "    </tr>\n",
       "    <tr>\n",
       "      <th>29908</th>\n",
       "      <td>29908</td>\n",
       "      <td>B0000000000213546431</td>\n",
       "      <td>2016</td>\n",
       "      <td>8</td>\n",
       "      <td>2016-02-23T00:00:00.000</td>\n",
       "      <td>EXECUTIVE OFFICE OF PUBLIC SAFETY &amp; HOMELAND S...</td>\n",
       "      <td>DEPARTMENT OF CORRECTION (DOC)</td>\n",
       "      <td>(4FN) FEDERAL GRANTS</td>\n",
       "      <td>(89039008) SECOND CHANCE ACT CISCO TECH</td>\n",
       "      <td>(CC) SPECIAL EMPLOYEES</td>\n",
       "      <td>...</td>\n",
       "      <td>89039008</td>\n",
       "      <td>C28</td>\n",
       "      <td>DOC</td>\n",
       "      <td>DOC - SUMMARY PAYROLL</td>\n",
       "      <td>UNASSIGNED</td>\n",
       "      <td>CNTR 020160220102895</td>\n",
       "      <td>UNASSIGNED</td>\n",
       "      <td>UNASSIGNED</td>\n",
       "      <td>UNASSIGNED</td>\n",
       "      <td>2019-08-31T13:32:03.000</td>\n",
       "    </tr>\n",
       "  </tbody>\n",
       "</table>\n",
       "<p>5 rows × 26 columns</p>\n",
       "</div>"
      ],
      "text/plain": [
       "       Unnamed: 0               base_id  budget_fiscal_year  fiscal_period  \\\n",
       "29841       29841  B0000000000213429215                2016              6   \n",
       "29842       29842  B0000000000213429216                2016              9   \n",
       "29843       29843  B0000000000213429217                2016              7   \n",
       "29897       29897  B0000000000213528114                2016             11   \n",
       "29908       29908  B0000000000213546431                2016              8   \n",
       "\n",
       "                          date  \\\n",
       "29841  2015-12-29T00:00:00.000   \n",
       "29842  2016-03-08T00:00:00.000   \n",
       "29843  2016-01-12T00:00:00.000   \n",
       "29897  2016-05-03T00:00:00.000   \n",
       "29908  2016-02-23T00:00:00.000   \n",
       "\n",
       "                                     cabinet_secretariat  \\\n",
       "29841  EXECUTIVE OFFICE OF PUBLIC SAFETY & HOMELAND S...   \n",
       "29842  EXECUTIVE OFFICE OF PUBLIC SAFETY & HOMELAND S...   \n",
       "29843  EXECUTIVE OFFICE OF PUBLIC SAFETY & HOMELAND S...   \n",
       "29897  EXECUTIVE OFFICE OF PUBLIC SAFETY & HOMELAND S...   \n",
       "29908  EXECUTIVE OFFICE OF PUBLIC SAFETY & HOMELAND S...   \n",
       "\n",
       "                           department    appropriation_type  \\\n",
       "29841  DEPARTMENT OF CORRECTION (DOC)  (4FN) FEDERAL GRANTS   \n",
       "29842  DEPARTMENT OF CORRECTION (DOC)  (4FN) FEDERAL GRANTS   \n",
       "29843  DEPARTMENT OF CORRECTION (DOC)  (4FN) FEDERAL GRANTS   \n",
       "29897  DEPARTMENT OF CORRECTION (DOC)  (4FN) FEDERAL GRANTS   \n",
       "29908  DEPARTMENT OF CORRECTION (DOC)  (4FN) FEDERAL GRANTS   \n",
       "\n",
       "                            appropriation_name            object_class  ...  \\\n",
       "29841           (89030068) PREA ZERO TOLERANCE  (CC) SPECIAL EMPLOYEES  ...   \n",
       "29842           (89030068) PREA ZERO TOLERANCE  (CC) SPECIAL EMPLOYEES  ...   \n",
       "29843           (89030068) PREA ZERO TOLERANCE  (CC) SPECIAL EMPLOYEES  ...   \n",
       "29897           (89030068) PREA ZERO TOLERANCE  (CC) SPECIAL EMPLOYEES  ...   \n",
       "29908  (89039008) SECOND CHANCE ACT CISCO TECH  (CC) SPECIAL EMPLOYEES  ...   \n",
       "\n",
       "      appropriation_code object department_code                 vendor  \\\n",
       "29841           89030068    C28             DOC  DOC - SUMMARY PAYROLL   \n",
       "29842           89030068    C28             DOC  DOC - SUMMARY PAYROLL   \n",
       "29843           89030068    C28             DOC  DOC - SUMMARY PAYROLL   \n",
       "29897           89030068    C28             DOC  DOC - SUMMARY PAYROLL   \n",
       "29908           89039008    C28             DOC  DOC - SUMMARY PAYROLL   \n",
       "\n",
       "        vendor_id            payment_id payment_method       state  \\\n",
       "29841  UNASSIGNED  CNTR 020151226100737     UNASSIGNED  UNASSIGNED   \n",
       "29842  UNASSIGNED  CNTR 020160305103575     UNASSIGNED  UNASSIGNED   \n",
       "29843  UNASSIGNED  CNTR 020160109101115     UNASSIGNED  UNASSIGNED   \n",
       "29897  UNASSIGNED  CNTR 020160430100957     UNASSIGNED  UNASSIGNED   \n",
       "29908  UNASSIGNED  CNTR 020160220102895     UNASSIGNED  UNASSIGNED   \n",
       "\n",
       "             city              create_date  \n",
       "29841  UNASSIGNED  2019-08-31T13:32:03.000  \n",
       "29842  UNASSIGNED  2019-08-31T13:32:03.000  \n",
       "29843  UNASSIGNED  2019-08-31T13:32:03.000  \n",
       "29897  UNASSIGNED  2019-08-31T13:32:03.000  \n",
       "29908  UNASSIGNED  2019-08-31T13:32:03.000  \n",
       "\n",
       "[5 rows x 26 columns]"
      ]
     },
     "metadata": {},
     "output_type": "display_data"
    },
    {
     "name": "stdout",
     "output_type": "stream",
     "text": [
      "federal payroll fraction\n"
     ]
    },
    {
     "data": {
      "text/plain": [
       "0.0005440756060906445"
      ]
     },
     "metadata": {},
     "output_type": "display_data"
    },
    {
     "name": "stdout",
     "output_type": "stream",
     "text": [
      "budget_fiscal_year\n",
      "2016   255013.130\n",
      "2017   184794.390\n",
      "2018     1299.990\n",
      "2019   336494.460\n",
      "2020   390927.000\n",
      "2021     3388.330\n",
      "Name: amount, dtype: float64\n",
      "for  Suffolk_DA\n",
      "federal payroll df\n"
     ]
    },
    {
     "data": {
      "text/html": [
       "<div>\n",
       "<style scoped>\n",
       "    .dataframe tbody tr th:only-of-type {\n",
       "        vertical-align: middle;\n",
       "    }\n",
       "\n",
       "    .dataframe tbody tr th {\n",
       "        vertical-align: top;\n",
       "    }\n",
       "\n",
       "    .dataframe thead th {\n",
       "        text-align: right;\n",
       "    }\n",
       "</style>\n",
       "<table border=\"1\" class=\"dataframe\">\n",
       "  <thead>\n",
       "    <tr style=\"text-align: right;\">\n",
       "      <th></th>\n",
       "      <th>Unnamed: 0</th>\n",
       "      <th>base_id</th>\n",
       "      <th>budget_fiscal_year</th>\n",
       "      <th>fiscal_period</th>\n",
       "      <th>date</th>\n",
       "      <th>cabinet_secretariat</th>\n",
       "      <th>department</th>\n",
       "      <th>appropriation_type</th>\n",
       "      <th>appropriation_name</th>\n",
       "      <th>object_class</th>\n",
       "      <th>...</th>\n",
       "      <th>appropriation_code</th>\n",
       "      <th>object</th>\n",
       "      <th>department_code</th>\n",
       "      <th>vendor</th>\n",
       "      <th>vendor_id</th>\n",
       "      <th>payment_id</th>\n",
       "      <th>payment_method</th>\n",
       "      <th>state</th>\n",
       "      <th>city</th>\n",
       "      <th>create_date</th>\n",
       "    </tr>\n",
       "  </thead>\n",
       "  <tbody>\n",
       "    <tr>\n",
       "      <th>920</th>\n",
       "      <td>920</td>\n",
       "      <td>B0000000000213848021</td>\n",
       "      <td>2018</td>\n",
       "      <td>11</td>\n",
       "      <td>2018-05-29T00:00:00.000</td>\n",
       "      <td>DISTRICT ATTORNEY</td>\n",
       "      <td>SUFFOLK DISTRICT ATTORNEY (SUF)</td>\n",
       "      <td>(4FN) FEDERAL GRANTS</td>\n",
       "      <td>(08400108) VOCA GRANT TRAINING</td>\n",
       "      <td>(BB) REGULAR EMPLOYEE RELATED EXPEN</td>\n",
       "      <td>...</td>\n",
       "      <td>08400108</td>\n",
       "      <td>B01</td>\n",
       "      <td>SUF</td>\n",
       "      <td>SUF - SUMMARY PAYROLL</td>\n",
       "      <td>UNASSIGNED</td>\n",
       "      <td>05291800000000030908</td>\n",
       "      <td>UNASSIGNED</td>\n",
       "      <td>UNASSIGNED</td>\n",
       "      <td>UNASSIGNED</td>\n",
       "      <td>2019-08-31T13:32:03.000</td>\n",
       "    </tr>\n",
       "    <tr>\n",
       "      <th>921</th>\n",
       "      <td>921</td>\n",
       "      <td>B0000000000213848022</td>\n",
       "      <td>2018</td>\n",
       "      <td>11</td>\n",
       "      <td>2018-05-30T00:00:00.000</td>\n",
       "      <td>DISTRICT ATTORNEY</td>\n",
       "      <td>SUFFOLK DISTRICT ATTORNEY (SUF)</td>\n",
       "      <td>(4FN) FEDERAL GRANTS</td>\n",
       "      <td>(08400108) VOCA GRANT TRAINING</td>\n",
       "      <td>(BB) REGULAR EMPLOYEE RELATED EXPEN</td>\n",
       "      <td>...</td>\n",
       "      <td>08400108</td>\n",
       "      <td>B01</td>\n",
       "      <td>SUF</td>\n",
       "      <td>SUF - SUMMARY PAYROLL</td>\n",
       "      <td>UNASSIGNED</td>\n",
       "      <td>05301800000000030925</td>\n",
       "      <td>UNASSIGNED</td>\n",
       "      <td>UNASSIGNED</td>\n",
       "      <td>UNASSIGNED</td>\n",
       "      <td>2019-08-31T13:32:03.000</td>\n",
       "    </tr>\n",
       "    <tr>\n",
       "      <th>1121</th>\n",
       "      <td>1121</td>\n",
       "      <td>B0000000000214180975</td>\n",
       "      <td>2018</td>\n",
       "      <td>5</td>\n",
       "      <td>2017-12-11T00:00:00.000</td>\n",
       "      <td>DISTRICT ATTORNEY</td>\n",
       "      <td>SUFFOLK DISTRICT ATTORNEY (SUF)</td>\n",
       "      <td>(4FN) FEDERAL GRANTS</td>\n",
       "      <td>(08400108) VOCA GRANT TRAINING</td>\n",
       "      <td>(BB) REGULAR EMPLOYEE RELATED EXPEN</td>\n",
       "      <td>...</td>\n",
       "      <td>08400108</td>\n",
       "      <td>B02</td>\n",
       "      <td>SUF</td>\n",
       "      <td>SUF - SUMMARY PAYROLL</td>\n",
       "      <td>UNASSIGNED</td>\n",
       "      <td>12081700000000012662</td>\n",
       "      <td>UNASSIGNED</td>\n",
       "      <td>UNASSIGNED</td>\n",
       "      <td>UNASSIGNED</td>\n",
       "      <td>2019-08-31T13:32:03.000</td>\n",
       "    </tr>\n",
       "    <tr>\n",
       "      <th>1362</th>\n",
       "      <td>1362</td>\n",
       "      <td>B0000000000214390519</td>\n",
       "      <td>2018</td>\n",
       "      <td>6</td>\n",
       "      <td>2017-12-19T00:00:00.000</td>\n",
       "      <td>DISTRICT ATTORNEY</td>\n",
       "      <td>SUFFOLK DISTRICT ATTORNEY (SUF)</td>\n",
       "      <td>(4FN) FEDERAL GRANTS</td>\n",
       "      <td>(08400108) VOCA GRANT TRAINING</td>\n",
       "      <td>(BB) REGULAR EMPLOYEE RELATED EXPEN</td>\n",
       "      <td>...</td>\n",
       "      <td>08400108</td>\n",
       "      <td>B02</td>\n",
       "      <td>SUF</td>\n",
       "      <td>SUF - SUMMARY PAYROLL</td>\n",
       "      <td>UNASSIGNED</td>\n",
       "      <td>12181700000000012915</td>\n",
       "      <td>UNASSIGNED</td>\n",
       "      <td>UNASSIGNED</td>\n",
       "      <td>UNASSIGNED</td>\n",
       "      <td>2019-08-31T13:32:03.000</td>\n",
       "    </tr>\n",
       "    <tr>\n",
       "      <th>5561</th>\n",
       "      <td>5561</td>\n",
       "      <td>B0000000000381929005</td>\n",
       "      <td>2019</td>\n",
       "      <td>11</td>\n",
       "      <td>2019-05-14T00:00:00.000</td>\n",
       "      <td>DISTRICT ATTORNEY</td>\n",
       "      <td>SUFFOLK DISTRICT ATTORNEY (SUF)</td>\n",
       "      <td>(4FN) FEDERAL GRANTS</td>\n",
       "      <td>(08400110) CRIME VICTIMS ASSISTANCE PROGRAMS -</td>\n",
       "      <td>(AA) REGULAR EMPLOYEE COMPENSATION</td>\n",
       "      <td>...</td>\n",
       "      <td>08400110</td>\n",
       "      <td>A01</td>\n",
       "      <td>SUF</td>\n",
       "      <td>SUF - SUMMARY PAYROLL</td>\n",
       "      <td>UNASSIGNED</td>\n",
       "      <td>05141900000000019570</td>\n",
       "      <td>UNASSIGNED</td>\n",
       "      <td>UNASSIGNED</td>\n",
       "      <td>UNASSIGNED</td>\n",
       "      <td>2020-07-14T10:19:55.000</td>\n",
       "    </tr>\n",
       "  </tbody>\n",
       "</table>\n",
       "<p>5 rows × 26 columns</p>\n",
       "</div>"
      ],
      "text/plain": [
       "      Unnamed: 0               base_id  budget_fiscal_year  fiscal_period  \\\n",
       "920          920  B0000000000213848021                2018             11   \n",
       "921          921  B0000000000213848022                2018             11   \n",
       "1121        1121  B0000000000214180975                2018              5   \n",
       "1362        1362  B0000000000214390519                2018              6   \n",
       "5561        5561  B0000000000381929005                2019             11   \n",
       "\n",
       "                         date cabinet_secretariat  \\\n",
       "920   2018-05-29T00:00:00.000   DISTRICT ATTORNEY   \n",
       "921   2018-05-30T00:00:00.000   DISTRICT ATTORNEY   \n",
       "1121  2017-12-11T00:00:00.000   DISTRICT ATTORNEY   \n",
       "1362  2017-12-19T00:00:00.000   DISTRICT ATTORNEY   \n",
       "5561  2019-05-14T00:00:00.000   DISTRICT ATTORNEY   \n",
       "\n",
       "                           department    appropriation_type  \\\n",
       "920   SUFFOLK DISTRICT ATTORNEY (SUF)  (4FN) FEDERAL GRANTS   \n",
       "921   SUFFOLK DISTRICT ATTORNEY (SUF)  (4FN) FEDERAL GRANTS   \n",
       "1121  SUFFOLK DISTRICT ATTORNEY (SUF)  (4FN) FEDERAL GRANTS   \n",
       "1362  SUFFOLK DISTRICT ATTORNEY (SUF)  (4FN) FEDERAL GRANTS   \n",
       "5561  SUFFOLK DISTRICT ATTORNEY (SUF)  (4FN) FEDERAL GRANTS   \n",
       "\n",
       "                                  appropriation_name  \\\n",
       "920                   (08400108) VOCA GRANT TRAINING   \n",
       "921                   (08400108) VOCA GRANT TRAINING   \n",
       "1121                  (08400108) VOCA GRANT TRAINING   \n",
       "1362                  (08400108) VOCA GRANT TRAINING   \n",
       "5561  (08400110) CRIME VICTIMS ASSISTANCE PROGRAMS -   \n",
       "\n",
       "                             object_class  ... appropriation_code object  \\\n",
       "920   (BB) REGULAR EMPLOYEE RELATED EXPEN  ...           08400108    B01   \n",
       "921   (BB) REGULAR EMPLOYEE RELATED EXPEN  ...           08400108    B01   \n",
       "1121  (BB) REGULAR EMPLOYEE RELATED EXPEN  ...           08400108    B02   \n",
       "1362  (BB) REGULAR EMPLOYEE RELATED EXPEN  ...           08400108    B02   \n",
       "5561   (AA) REGULAR EMPLOYEE COMPENSATION  ...           08400110    A01   \n",
       "\n",
       "     department_code                 vendor   vendor_id            payment_id  \\\n",
       "920              SUF  SUF - SUMMARY PAYROLL  UNASSIGNED  05291800000000030908   \n",
       "921              SUF  SUF - SUMMARY PAYROLL  UNASSIGNED  05301800000000030925   \n",
       "1121             SUF  SUF - SUMMARY PAYROLL  UNASSIGNED  12081700000000012662   \n",
       "1362             SUF  SUF - SUMMARY PAYROLL  UNASSIGNED  12181700000000012915   \n",
       "5561             SUF  SUF - SUMMARY PAYROLL  UNASSIGNED  05141900000000019570   \n",
       "\n",
       "     payment_method       state        city              create_date  \n",
       "920      UNASSIGNED  UNASSIGNED  UNASSIGNED  2019-08-31T13:32:03.000  \n",
       "921      UNASSIGNED  UNASSIGNED  UNASSIGNED  2019-08-31T13:32:03.000  \n",
       "1121     UNASSIGNED  UNASSIGNED  UNASSIGNED  2019-08-31T13:32:03.000  \n",
       "1362     UNASSIGNED  UNASSIGNED  UNASSIGNED  2019-08-31T13:32:03.000  \n",
       "5561     UNASSIGNED  UNASSIGNED  UNASSIGNED  2020-07-14T10:19:55.000  \n",
       "\n",
       "[5 rows x 26 columns]"
      ]
     },
     "metadata": {},
     "output_type": "display_data"
    },
    {
     "name": "stdout",
     "output_type": "stream",
     "text": [
      "federal payroll fraction\n"
     ]
    },
    {
     "data": {
      "text/plain": [
       "0.0028014378101799847"
      ]
     },
     "metadata": {},
     "output_type": "display_data"
    },
    {
     "name": "stdout",
     "output_type": "stream",
     "text": [
      "budget_fiscal_year\n",
      "2018     3237.000\n",
      "2019   116307.540\n",
      "2020   119000.000\n",
      "Name: amount, dtype: float64\n",
      "for  Suffolk_Sheriff\n",
      "federal payroll df\n"
     ]
    },
    {
     "data": {
      "text/html": [
       "<div>\n",
       "<style scoped>\n",
       "    .dataframe tbody tr th:only-of-type {\n",
       "        vertical-align: middle;\n",
       "    }\n",
       "\n",
       "    .dataframe tbody tr th {\n",
       "        vertical-align: top;\n",
       "    }\n",
       "\n",
       "    .dataframe thead th {\n",
       "        text-align: right;\n",
       "    }\n",
       "</style>\n",
       "<table border=\"1\" class=\"dataframe\">\n",
       "  <thead>\n",
       "    <tr style=\"text-align: right;\">\n",
       "      <th></th>\n",
       "      <th>Unnamed: 0</th>\n",
       "      <th>base_id</th>\n",
       "      <th>budget_fiscal_year</th>\n",
       "      <th>fiscal_period</th>\n",
       "      <th>date</th>\n",
       "      <th>cabinet_secretariat</th>\n",
       "      <th>department</th>\n",
       "      <th>appropriation_type</th>\n",
       "      <th>appropriation_name</th>\n",
       "      <th>object_class</th>\n",
       "      <th>...</th>\n",
       "      <th>appropriation_code</th>\n",
       "      <th>object</th>\n",
       "      <th>department_code</th>\n",
       "      <th>vendor</th>\n",
       "      <th>vendor_id</th>\n",
       "      <th>payment_id</th>\n",
       "      <th>payment_method</th>\n",
       "      <th>state</th>\n",
       "      <th>city</th>\n",
       "      <th>create_date</th>\n",
       "    </tr>\n",
       "  </thead>\n",
       "  <tbody>\n",
       "    <tr>\n",
       "      <th>13252</th>\n",
       "      <td>13252</td>\n",
       "      <td>B0000000000213391268</td>\n",
       "      <td>2016</td>\n",
       "      <td>11</td>\n",
       "      <td>2016-05-05T00:00:00.000</td>\n",
       "      <td>SHERIFF DEPARTMENTS</td>\n",
       "      <td>SHERIFF DEPARTMENT SUFFOLK (SDS)</td>\n",
       "      <td>(4FN) FEDERAL GRANTS</td>\n",
       "      <td>(70431005) TITLE I/NEGLECTED &amp; DELINQUENT CHIL...</td>\n",
       "      <td>(AA) REGULAR EMPLOYEE COMPENSATION</td>\n",
       "      <td>...</td>\n",
       "      <td>70431005</td>\n",
       "      <td>A01</td>\n",
       "      <td>SDS</td>\n",
       "      <td>SDS - SUMMARY PAYROLL</td>\n",
       "      <td>UNASSIGNED</td>\n",
       "      <td>05051600000000017062</td>\n",
       "      <td>UNASSIGNED</td>\n",
       "      <td>UNASSIGNED</td>\n",
       "      <td>UNASSIGNED</td>\n",
       "      <td>2019-08-31T13:32:03.000</td>\n",
       "    </tr>\n",
       "    <tr>\n",
       "      <th>13253</th>\n",
       "      <td>13253</td>\n",
       "      <td>B0000000000213391269</td>\n",
       "      <td>2016</td>\n",
       "      <td>11</td>\n",
       "      <td>2016-05-05T00:00:00.000</td>\n",
       "      <td>SHERIFF DEPARTMENTS</td>\n",
       "      <td>SHERIFF DEPARTMENT SUFFOLK (SDS)</td>\n",
       "      <td>(4FN) FEDERAL GRANTS</td>\n",
       "      <td>(70431005) TITLE I/NEGLECTED &amp; DELINQUENT CHIL...</td>\n",
       "      <td>(AA) REGULAR EMPLOYEE COMPENSATION</td>\n",
       "      <td>...</td>\n",
       "      <td>70431005</td>\n",
       "      <td>A01</td>\n",
       "      <td>SDS</td>\n",
       "      <td>SDS - SUMMARY PAYROLL</td>\n",
       "      <td>UNASSIGNED</td>\n",
       "      <td>05051600000000017064</td>\n",
       "      <td>UNASSIGNED</td>\n",
       "      <td>UNASSIGNED</td>\n",
       "      <td>UNASSIGNED</td>\n",
       "      <td>2019-08-31T13:32:03.000</td>\n",
       "    </tr>\n",
       "    <tr>\n",
       "      <th>13254</th>\n",
       "      <td>13254</td>\n",
       "      <td>B0000000000213391270</td>\n",
       "      <td>2016</td>\n",
       "      <td>11</td>\n",
       "      <td>2016-05-05T00:00:00.000</td>\n",
       "      <td>SHERIFF DEPARTMENTS</td>\n",
       "      <td>SHERIFF DEPARTMENT SUFFOLK (SDS)</td>\n",
       "      <td>(4FN) FEDERAL GRANTS</td>\n",
       "      <td>(70431005) TITLE I/NEGLECTED &amp; DELINQUENT CHIL...</td>\n",
       "      <td>(AA) REGULAR EMPLOYEE COMPENSATION</td>\n",
       "      <td>...</td>\n",
       "      <td>70431005</td>\n",
       "      <td>A01</td>\n",
       "      <td>SDS</td>\n",
       "      <td>SDS - SUMMARY PAYROLL</td>\n",
       "      <td>UNASSIGNED</td>\n",
       "      <td>05051600000000017067</td>\n",
       "      <td>UNASSIGNED</td>\n",
       "      <td>UNASSIGNED</td>\n",
       "      <td>UNASSIGNED</td>\n",
       "      <td>2019-08-31T13:32:03.000</td>\n",
       "    </tr>\n",
       "    <tr>\n",
       "      <th>13291</th>\n",
       "      <td>13291</td>\n",
       "      <td>B0000000000213396195</td>\n",
       "      <td>2016</td>\n",
       "      <td>11</td>\n",
       "      <td>2016-05-31T00:00:00.000</td>\n",
       "      <td>SHERIFF DEPARTMENTS</td>\n",
       "      <td>SHERIFF DEPARTMENT SUFFOLK (SDS)</td>\n",
       "      <td>(4FN) FEDERAL GRANTS</td>\n",
       "      <td>(70431005) TITLE I/NEGLECTED &amp; DELINQUENT CHIL...</td>\n",
       "      <td>(CC) SPECIAL EMPLOYEES</td>\n",
       "      <td>...</td>\n",
       "      <td>70431005</td>\n",
       "      <td>C28</td>\n",
       "      <td>SDS</td>\n",
       "      <td>SDS - SUMMARY PAYROLL</td>\n",
       "      <td>UNASSIGNED</td>\n",
       "      <td>CNTR 020160528101044</td>\n",
       "      <td>UNASSIGNED</td>\n",
       "      <td>UNASSIGNED</td>\n",
       "      <td>UNASSIGNED</td>\n",
       "      <td>2019-08-31T13:32:03.000</td>\n",
       "    </tr>\n",
       "    <tr>\n",
       "      <th>13293</th>\n",
       "      <td>13293</td>\n",
       "      <td>B0000000000213396347</td>\n",
       "      <td>2016</td>\n",
       "      <td>8</td>\n",
       "      <td>2016-02-09T00:00:00.000</td>\n",
       "      <td>SHERIFF DEPARTMENTS</td>\n",
       "      <td>SHERIFF DEPARTMENT SUFFOLK (SDS)</td>\n",
       "      <td>(4FN) FEDERAL GRANTS</td>\n",
       "      <td>(70431005) TITLE I/NEGLECTED &amp; DELINQUENT CHIL...</td>\n",
       "      <td>(CC) SPECIAL EMPLOYEES</td>\n",
       "      <td>...</td>\n",
       "      <td>70431005</td>\n",
       "      <td>C28</td>\n",
       "      <td>SDS</td>\n",
       "      <td>SDS - SUMMARY PAYROLL</td>\n",
       "      <td>UNASSIGNED</td>\n",
       "      <td>CNTR 020160206101154</td>\n",
       "      <td>UNASSIGNED</td>\n",
       "      <td>UNASSIGNED</td>\n",
       "      <td>UNASSIGNED</td>\n",
       "      <td>2019-08-31T13:32:03.000</td>\n",
       "    </tr>\n",
       "  </tbody>\n",
       "</table>\n",
       "<p>5 rows × 26 columns</p>\n",
       "</div>"
      ],
      "text/plain": [
       "       Unnamed: 0               base_id  budget_fiscal_year  fiscal_period  \\\n",
       "13252       13252  B0000000000213391268                2016             11   \n",
       "13253       13253  B0000000000213391269                2016             11   \n",
       "13254       13254  B0000000000213391270                2016             11   \n",
       "13291       13291  B0000000000213396195                2016             11   \n",
       "13293       13293  B0000000000213396347                2016              8   \n",
       "\n",
       "                          date  cabinet_secretariat  \\\n",
       "13252  2016-05-05T00:00:00.000  SHERIFF DEPARTMENTS   \n",
       "13253  2016-05-05T00:00:00.000  SHERIFF DEPARTMENTS   \n",
       "13254  2016-05-05T00:00:00.000  SHERIFF DEPARTMENTS   \n",
       "13291  2016-05-31T00:00:00.000  SHERIFF DEPARTMENTS   \n",
       "13293  2016-02-09T00:00:00.000  SHERIFF DEPARTMENTS   \n",
       "\n",
       "                             department    appropriation_type  \\\n",
       "13252  SHERIFF DEPARTMENT SUFFOLK (SDS)  (4FN) FEDERAL GRANTS   \n",
       "13253  SHERIFF DEPARTMENT SUFFOLK (SDS)  (4FN) FEDERAL GRANTS   \n",
       "13254  SHERIFF DEPARTMENT SUFFOLK (SDS)  (4FN) FEDERAL GRANTS   \n",
       "13291  SHERIFF DEPARTMENT SUFFOLK (SDS)  (4FN) FEDERAL GRANTS   \n",
       "13293  SHERIFF DEPARTMENT SUFFOLK (SDS)  (4FN) FEDERAL GRANTS   \n",
       "\n",
       "                                      appropriation_name  \\\n",
       "13252  (70431005) TITLE I/NEGLECTED & DELINQUENT CHIL...   \n",
       "13253  (70431005) TITLE I/NEGLECTED & DELINQUENT CHIL...   \n",
       "13254  (70431005) TITLE I/NEGLECTED & DELINQUENT CHIL...   \n",
       "13291  (70431005) TITLE I/NEGLECTED & DELINQUENT CHIL...   \n",
       "13293  (70431005) TITLE I/NEGLECTED & DELINQUENT CHIL...   \n",
       "\n",
       "                             object_class  ... appropriation_code object  \\\n",
       "13252  (AA) REGULAR EMPLOYEE COMPENSATION  ...           70431005    A01   \n",
       "13253  (AA) REGULAR EMPLOYEE COMPENSATION  ...           70431005    A01   \n",
       "13254  (AA) REGULAR EMPLOYEE COMPENSATION  ...           70431005    A01   \n",
       "13291              (CC) SPECIAL EMPLOYEES  ...           70431005    C28   \n",
       "13293              (CC) SPECIAL EMPLOYEES  ...           70431005    C28   \n",
       "\n",
       "      department_code                 vendor   vendor_id  \\\n",
       "13252             SDS  SDS - SUMMARY PAYROLL  UNASSIGNED   \n",
       "13253             SDS  SDS - SUMMARY PAYROLL  UNASSIGNED   \n",
       "13254             SDS  SDS - SUMMARY PAYROLL  UNASSIGNED   \n",
       "13291             SDS  SDS - SUMMARY PAYROLL  UNASSIGNED   \n",
       "13293             SDS  SDS - SUMMARY PAYROLL  UNASSIGNED   \n",
       "\n",
       "                 payment_id payment_method       state        city  \\\n",
       "13252  05051600000000017062     UNASSIGNED  UNASSIGNED  UNASSIGNED   \n",
       "13253  05051600000000017064     UNASSIGNED  UNASSIGNED  UNASSIGNED   \n",
       "13254  05051600000000017067     UNASSIGNED  UNASSIGNED  UNASSIGNED   \n",
       "13291  CNTR 020160528101044     UNASSIGNED  UNASSIGNED  UNASSIGNED   \n",
       "13293  CNTR 020160206101154     UNASSIGNED  UNASSIGNED  UNASSIGNED   \n",
       "\n",
       "                   create_date  \n",
       "13252  2019-08-31T13:32:03.000  \n",
       "13253  2019-08-31T13:32:03.000  \n",
       "13254  2019-08-31T13:32:03.000  \n",
       "13291  2019-08-31T13:32:03.000  \n",
       "13293  2019-08-31T13:32:03.000  \n",
       "\n",
       "[5 rows x 26 columns]"
      ]
     },
     "metadata": {},
     "output_type": "display_data"
    },
    {
     "name": "stdout",
     "output_type": "stream",
     "text": [
      "federal payroll fraction\n"
     ]
    },
    {
     "data": {
      "text/plain": [
       "0.0008605983351993027"
      ]
     },
     "metadata": {},
     "output_type": "display_data"
    },
    {
     "name": "stdout",
     "output_type": "stream",
     "text": [
      "budget_fiscal_year\n",
      "2016   110009.000\n",
      "2017   109187.240\n",
      "2018    57635.080\n",
      "2019    82818.750\n",
      "Name: amount, dtype: float64\n"
     ]
    },
    {
     "name": "stderr",
     "output_type": "stream",
     "text": [
      "/Users/alexanderweinstein/Documents/Harris/Summer2020/Carceral_Budgeting/Exploratory/Agency_Classes/Agency_Classes_Big.py:98: DtypeWarning: Columns (15,16) have mixed types.Specify dtype option on import or set low_memory=False.\n",
      "  self.get_expenditures_by_year()\n"
     ]
    },
    {
     "name": "stdout",
     "output_type": "stream",
     "text": [
      "for  State_Police\n",
      "federal payroll df\n"
     ]
    },
    {
     "data": {
      "text/html": [
       "<div>\n",
       "<style scoped>\n",
       "    .dataframe tbody tr th:only-of-type {\n",
       "        vertical-align: middle;\n",
       "    }\n",
       "\n",
       "    .dataframe tbody tr th {\n",
       "        vertical-align: top;\n",
       "    }\n",
       "\n",
       "    .dataframe thead th {\n",
       "        text-align: right;\n",
       "    }\n",
       "</style>\n",
       "<table border=\"1\" class=\"dataframe\">\n",
       "  <thead>\n",
       "    <tr style=\"text-align: right;\">\n",
       "      <th></th>\n",
       "      <th>Unnamed: 0</th>\n",
       "      <th>base_id</th>\n",
       "      <th>budget_fiscal_year</th>\n",
       "      <th>fiscal_period</th>\n",
       "      <th>date</th>\n",
       "      <th>cabinet_secretariat</th>\n",
       "      <th>department</th>\n",
       "      <th>appropriation_type</th>\n",
       "      <th>appropriation_name</th>\n",
       "      <th>object_class</th>\n",
       "      <th>...</th>\n",
       "      <th>appropriation_code</th>\n",
       "      <th>object</th>\n",
       "      <th>department_code</th>\n",
       "      <th>vendor</th>\n",
       "      <th>vendor_id</th>\n",
       "      <th>payment_id</th>\n",
       "      <th>payment_method</th>\n",
       "      <th>state</th>\n",
       "      <th>city</th>\n",
       "      <th>create_date</th>\n",
       "    </tr>\n",
       "  </thead>\n",
       "  <tbody>\n",
       "    <tr>\n",
       "      <th>12284</th>\n",
       "      <td>12284</td>\n",
       "      <td>B0000000000213365193</td>\n",
       "      <td>2018</td>\n",
       "      <td>5</td>\n",
       "      <td>2017-11-28T00:00:00.000</td>\n",
       "      <td>EXECUTIVE OFFICE OF PUBLIC SAFETY &amp; HOMELAND S...</td>\n",
       "      <td>DEPARTMENT OF STATE POLICE (POL)</td>\n",
       "      <td>(4FN) FEDERAL GRANTS</td>\n",
       "      <td>(80004804) STATE AGENCY PROGRAMS</td>\n",
       "      <td>(BB) REGULAR EMPLOYEE RELATED EXPEN</td>\n",
       "      <td>...</td>\n",
       "      <td>80004804</td>\n",
       "      <td>B01</td>\n",
       "      <td>POL</td>\n",
       "      <td>POL - SUMMARY PAYROLL</td>\n",
       "      <td>UNASSIGNED</td>\n",
       "      <td>EMPL 020171125114884</td>\n",
       "      <td>UNASSIGNED</td>\n",
       "      <td>UNASSIGNED</td>\n",
       "      <td>UNASSIGNED</td>\n",
       "      <td>2019-08-31T13:32:03.000</td>\n",
       "    </tr>\n",
       "    <tr>\n",
       "      <th>12311</th>\n",
       "      <td>12311</td>\n",
       "      <td>B0000000000213376474</td>\n",
       "      <td>2016</td>\n",
       "      <td>6</td>\n",
       "      <td>2015-12-29T00:00:00.000</td>\n",
       "      <td>EXECUTIVE OFFICE OF PUBLIC SAFETY &amp; HOMELAND S...</td>\n",
       "      <td>DEPARTMENT OF STATE POLICE (POL)</td>\n",
       "      <td>(4FN) FEDERAL GRANTS</td>\n",
       "      <td>(81002010) FEDERAL MOTOR CARRIER SAFETY ADMIN ...</td>\n",
       "      <td>(AA) REGULAR EMPLOYEE COMPENSATION</td>\n",
       "      <td>...</td>\n",
       "      <td>81002010</td>\n",
       "      <td>A01</td>\n",
       "      <td>POL</td>\n",
       "      <td>POL - SUMMARY PAYROLL</td>\n",
       "      <td>UNASSIGNED</td>\n",
       "      <td>EMPL 020151226109235</td>\n",
       "      <td>UNASSIGNED</td>\n",
       "      <td>UNASSIGNED</td>\n",
       "      <td>UNASSIGNED</td>\n",
       "      <td>2019-08-31T13:32:03.000</td>\n",
       "    </tr>\n",
       "    <tr>\n",
       "      <th>12391</th>\n",
       "      <td>12391</td>\n",
       "      <td>B0000000000213386079</td>\n",
       "      <td>2016</td>\n",
       "      <td>3</td>\n",
       "      <td>2015-09-22T00:00:00.000</td>\n",
       "      <td>EXECUTIVE OFFICE OF PUBLIC SAFETY &amp; HOMELAND S...</td>\n",
       "      <td>DEPARTMENT OF STATE POLICE (POL)</td>\n",
       "      <td>(4FN) FEDERAL GRANTS</td>\n",
       "      <td>(81002010) FEDERAL MOTOR CARRIER SAFETY ADMIN ...</td>\n",
       "      <td>(AA) REGULAR EMPLOYEE COMPENSATION</td>\n",
       "      <td>...</td>\n",
       "      <td>81002010</td>\n",
       "      <td>A01</td>\n",
       "      <td>POL</td>\n",
       "      <td>POL - SUMMARY PAYROLL</td>\n",
       "      <td>UNASSIGNED</td>\n",
       "      <td>EMPL 020150919108645</td>\n",
       "      <td>UNASSIGNED</td>\n",
       "      <td>UNASSIGNED</td>\n",
       "      <td>UNASSIGNED</td>\n",
       "      <td>2019-08-31T13:32:03.000</td>\n",
       "    </tr>\n",
       "    <tr>\n",
       "      <th>12393</th>\n",
       "      <td>12393</td>\n",
       "      <td>B0000000000213386614</td>\n",
       "      <td>2016</td>\n",
       "      <td>10</td>\n",
       "      <td>2016-04-05T00:00:00.000</td>\n",
       "      <td>EXECUTIVE OFFICE OF PUBLIC SAFETY &amp; HOMELAND S...</td>\n",
       "      <td>DEPARTMENT OF STATE POLICE (POL)</td>\n",
       "      <td>(4FN) FEDERAL GRANTS</td>\n",
       "      <td>(81002010) FEDERAL MOTOR CARRIER SAFETY ADMIN ...</td>\n",
       "      <td>(AA) REGULAR EMPLOYEE COMPENSATION</td>\n",
       "      <td>...</td>\n",
       "      <td>81002010</td>\n",
       "      <td>A01</td>\n",
       "      <td>POL</td>\n",
       "      <td>POL - SUMMARY PAYROLL</td>\n",
       "      <td>UNASSIGNED</td>\n",
       "      <td>EMPL 020160402116994</td>\n",
       "      <td>UNASSIGNED</td>\n",
       "      <td>UNASSIGNED</td>\n",
       "      <td>UNASSIGNED</td>\n",
       "      <td>2019-08-31T13:32:03.000</td>\n",
       "    </tr>\n",
       "    <tr>\n",
       "      <th>12394</th>\n",
       "      <td>12394</td>\n",
       "      <td>B0000000000213386615</td>\n",
       "      <td>2016</td>\n",
       "      <td>7</td>\n",
       "      <td>2016-01-26T00:00:00.000</td>\n",
       "      <td>EXECUTIVE OFFICE OF PUBLIC SAFETY &amp; HOMELAND S...</td>\n",
       "      <td>DEPARTMENT OF STATE POLICE (POL)</td>\n",
       "      <td>(4FN) FEDERAL GRANTS</td>\n",
       "      <td>(81002010) FEDERAL MOTOR CARRIER SAFETY ADMIN ...</td>\n",
       "      <td>(AA) REGULAR EMPLOYEE COMPENSATION</td>\n",
       "      <td>...</td>\n",
       "      <td>81002010</td>\n",
       "      <td>A01</td>\n",
       "      <td>POL</td>\n",
       "      <td>POL - SUMMARY PAYROLL</td>\n",
       "      <td>UNASSIGNED</td>\n",
       "      <td>EMPL 020160123114024</td>\n",
       "      <td>UNASSIGNED</td>\n",
       "      <td>UNASSIGNED</td>\n",
       "      <td>UNASSIGNED</td>\n",
       "      <td>2019-08-31T13:32:03.000</td>\n",
       "    </tr>\n",
       "  </tbody>\n",
       "</table>\n",
       "<p>5 rows × 26 columns</p>\n",
       "</div>"
      ],
      "text/plain": [
       "       Unnamed: 0               base_id  budget_fiscal_year  fiscal_period  \\\n",
       "12284       12284  B0000000000213365193                2018              5   \n",
       "12311       12311  B0000000000213376474                2016              6   \n",
       "12391       12391  B0000000000213386079                2016              3   \n",
       "12393       12393  B0000000000213386614                2016             10   \n",
       "12394       12394  B0000000000213386615                2016              7   \n",
       "\n",
       "                          date  \\\n",
       "12284  2017-11-28T00:00:00.000   \n",
       "12311  2015-12-29T00:00:00.000   \n",
       "12391  2015-09-22T00:00:00.000   \n",
       "12393  2016-04-05T00:00:00.000   \n",
       "12394  2016-01-26T00:00:00.000   \n",
       "\n",
       "                                     cabinet_secretariat  \\\n",
       "12284  EXECUTIVE OFFICE OF PUBLIC SAFETY & HOMELAND S...   \n",
       "12311  EXECUTIVE OFFICE OF PUBLIC SAFETY & HOMELAND S...   \n",
       "12391  EXECUTIVE OFFICE OF PUBLIC SAFETY & HOMELAND S...   \n",
       "12393  EXECUTIVE OFFICE OF PUBLIC SAFETY & HOMELAND S...   \n",
       "12394  EXECUTIVE OFFICE OF PUBLIC SAFETY & HOMELAND S...   \n",
       "\n",
       "                             department    appropriation_type  \\\n",
       "12284  DEPARTMENT OF STATE POLICE (POL)  (4FN) FEDERAL GRANTS   \n",
       "12311  DEPARTMENT OF STATE POLICE (POL)  (4FN) FEDERAL GRANTS   \n",
       "12391  DEPARTMENT OF STATE POLICE (POL)  (4FN) FEDERAL GRANTS   \n",
       "12393  DEPARTMENT OF STATE POLICE (POL)  (4FN) FEDERAL GRANTS   \n",
       "12394  DEPARTMENT OF STATE POLICE (POL)  (4FN) FEDERAL GRANTS   \n",
       "\n",
       "                                      appropriation_name  \\\n",
       "12284                   (80004804) STATE AGENCY PROGRAMS   \n",
       "12311  (81002010) FEDERAL MOTOR CARRIER SAFETY ADMIN ...   \n",
       "12391  (81002010) FEDERAL MOTOR CARRIER SAFETY ADMIN ...   \n",
       "12393  (81002010) FEDERAL MOTOR CARRIER SAFETY ADMIN ...   \n",
       "12394  (81002010) FEDERAL MOTOR CARRIER SAFETY ADMIN ...   \n",
       "\n",
       "                              object_class  ... appropriation_code object  \\\n",
       "12284  (BB) REGULAR EMPLOYEE RELATED EXPEN  ...           80004804    B01   \n",
       "12311   (AA) REGULAR EMPLOYEE COMPENSATION  ...           81002010    A01   \n",
       "12391   (AA) REGULAR EMPLOYEE COMPENSATION  ...           81002010    A01   \n",
       "12393   (AA) REGULAR EMPLOYEE COMPENSATION  ...           81002010    A01   \n",
       "12394   (AA) REGULAR EMPLOYEE COMPENSATION  ...           81002010    A01   \n",
       "\n",
       "      department_code                 vendor   vendor_id  \\\n",
       "12284             POL  POL - SUMMARY PAYROLL  UNASSIGNED   \n",
       "12311             POL  POL - SUMMARY PAYROLL  UNASSIGNED   \n",
       "12391             POL  POL - SUMMARY PAYROLL  UNASSIGNED   \n",
       "12393             POL  POL - SUMMARY PAYROLL  UNASSIGNED   \n",
       "12394             POL  POL - SUMMARY PAYROLL  UNASSIGNED   \n",
       "\n",
       "                 payment_id payment_method       state        city  \\\n",
       "12284  EMPL 020171125114884     UNASSIGNED  UNASSIGNED  UNASSIGNED   \n",
       "12311  EMPL 020151226109235     UNASSIGNED  UNASSIGNED  UNASSIGNED   \n",
       "12391  EMPL 020150919108645     UNASSIGNED  UNASSIGNED  UNASSIGNED   \n",
       "12393  EMPL 020160402116994     UNASSIGNED  UNASSIGNED  UNASSIGNED   \n",
       "12394  EMPL 020160123114024     UNASSIGNED  UNASSIGNED  UNASSIGNED   \n",
       "\n",
       "                   create_date  \n",
       "12284  2019-08-31T13:32:03.000  \n",
       "12311  2019-08-31T13:32:03.000  \n",
       "12391  2019-08-31T13:32:03.000  \n",
       "12393  2019-08-31T13:32:03.000  \n",
       "12394  2019-08-31T13:32:03.000  \n",
       "\n",
       "[5 rows x 26 columns]"
      ]
     },
     "metadata": {},
     "output_type": "display_data"
    },
    {
     "name": "stdout",
     "output_type": "stream",
     "text": [
      "federal payroll fraction\n"
     ]
    },
    {
     "data": {
      "text/plain": [
       "0.01160718402999479"
      ]
     },
     "metadata": {},
     "output_type": "display_data"
    },
    {
     "name": "stdout",
     "output_type": "stream",
     "text": [
      "budget_fiscal_year\n",
      "2016   3868679.950\n",
      "2017   4462882.020\n",
      "2018   4307315.050\n",
      "2019   4273844.070\n",
      "2020   3844347.200\n",
      "2021     11733.040\n",
      "Name: amount, dtype: float64\n",
      "for  DAA\n",
      "federal payroll df\n"
     ]
    },
    {
     "data": {
      "text/html": [
       "<div>\n",
       "<style scoped>\n",
       "    .dataframe tbody tr th:only-of-type {\n",
       "        vertical-align: middle;\n",
       "    }\n",
       "\n",
       "    .dataframe tbody tr th {\n",
       "        vertical-align: top;\n",
       "    }\n",
       "\n",
       "    .dataframe thead th {\n",
       "        text-align: right;\n",
       "    }\n",
       "</style>\n",
       "<table border=\"1\" class=\"dataframe\">\n",
       "  <thead>\n",
       "    <tr style=\"text-align: right;\">\n",
       "      <th></th>\n",
       "      <th>Unnamed: 0</th>\n",
       "      <th>base_id</th>\n",
       "      <th>budget_fiscal_year</th>\n",
       "      <th>fiscal_period</th>\n",
       "      <th>date</th>\n",
       "      <th>cabinet_secretariat</th>\n",
       "      <th>department</th>\n",
       "      <th>appropriation_type</th>\n",
       "      <th>appropriation_name</th>\n",
       "      <th>object_class</th>\n",
       "      <th>...</th>\n",
       "      <th>appropriation_code</th>\n",
       "      <th>object</th>\n",
       "      <th>department_code</th>\n",
       "      <th>vendor</th>\n",
       "      <th>vendor_id</th>\n",
       "      <th>payment_id</th>\n",
       "      <th>payment_method</th>\n",
       "      <th>state</th>\n",
       "      <th>city</th>\n",
       "      <th>create_date</th>\n",
       "    </tr>\n",
       "  </thead>\n",
       "  <tbody>\n",
       "    <tr>\n",
       "      <th>1017</th>\n",
       "      <td>1017</td>\n",
       "      <td>B0000000000213410178</td>\n",
       "      <td>2016</td>\n",
       "      <td>4</td>\n",
       "      <td>2015-10-06T00:00:00.000</td>\n",
       "      <td>DISTRICT ATTORNEY</td>\n",
       "      <td>DISTRICT ATTORNEY ASSOCIATION (DAA)</td>\n",
       "      <td>(4FN) FEDERAL GRANTS</td>\n",
       "      <td>(80004804) STATE AGENCY PROGRAMS</td>\n",
       "      <td>(AA) REGULAR EMPLOYEE COMPENSATION</td>\n",
       "      <td>...</td>\n",
       "      <td>80004804</td>\n",
       "      <td>A01</td>\n",
       "      <td>DAA</td>\n",
       "      <td>DAA - SUMMARY PAYROLL</td>\n",
       "      <td>UNASSIGNED</td>\n",
       "      <td>EMPL 020151003125867</td>\n",
       "      <td>UNASSIGNED</td>\n",
       "      <td>UNASSIGNED</td>\n",
       "      <td>UNASSIGNED</td>\n",
       "      <td>2019-08-31T13:32:03.000</td>\n",
       "    </tr>\n",
       "    <tr>\n",
       "      <th>1018</th>\n",
       "      <td>1018</td>\n",
       "      <td>B0000000000213410179</td>\n",
       "      <td>2016</td>\n",
       "      <td>6</td>\n",
       "      <td>2015-12-08T00:00:00.000</td>\n",
       "      <td>DISTRICT ATTORNEY</td>\n",
       "      <td>DISTRICT ATTORNEY ASSOCIATION (DAA)</td>\n",
       "      <td>(4FN) FEDERAL GRANTS</td>\n",
       "      <td>(80004804) STATE AGENCY PROGRAMS</td>\n",
       "      <td>(AA) REGULAR EMPLOYEE COMPENSATION</td>\n",
       "      <td>...</td>\n",
       "      <td>80004804</td>\n",
       "      <td>A01</td>\n",
       "      <td>DAA</td>\n",
       "      <td>DAA - SUMMARY PAYROLL</td>\n",
       "      <td>UNASSIGNED</td>\n",
       "      <td>12081500000000007981</td>\n",
       "      <td>UNASSIGNED</td>\n",
       "      <td>UNASSIGNED</td>\n",
       "      <td>UNASSIGNED</td>\n",
       "      <td>2019-08-31T13:32:03.000</td>\n",
       "    </tr>\n",
       "    <tr>\n",
       "      <th>1019</th>\n",
       "      <td>1019</td>\n",
       "      <td>B0000000000213410180</td>\n",
       "      <td>2016</td>\n",
       "      <td>8</td>\n",
       "      <td>2016-02-16T00:00:00.000</td>\n",
       "      <td>DISTRICT ATTORNEY</td>\n",
       "      <td>DISTRICT ATTORNEY ASSOCIATION (DAA)</td>\n",
       "      <td>(4FN) FEDERAL GRANTS</td>\n",
       "      <td>(80004804) STATE AGENCY PROGRAMS</td>\n",
       "      <td>(BB) REGULAR EMPLOYEE RELATED EXPEN</td>\n",
       "      <td>...</td>\n",
       "      <td>80004804</td>\n",
       "      <td>B02</td>\n",
       "      <td>DAA</td>\n",
       "      <td>DAA - SUMMARY PAYROLL</td>\n",
       "      <td>UNASSIGNED</td>\n",
       "      <td>02161600000000011754</td>\n",
       "      <td>UNASSIGNED</td>\n",
       "      <td>UNASSIGNED</td>\n",
       "      <td>UNASSIGNED</td>\n",
       "      <td>2019-08-31T13:32:03.000</td>\n",
       "    </tr>\n",
       "    <tr>\n",
       "      <th>1020</th>\n",
       "      <td>1020</td>\n",
       "      <td>B0000000000213410175</td>\n",
       "      <td>2016</td>\n",
       "      <td>9</td>\n",
       "      <td>2016-03-09T00:00:00.000</td>\n",
       "      <td>DISTRICT ATTORNEY</td>\n",
       "      <td>DISTRICT ATTORNEY ASSOCIATION (DAA)</td>\n",
       "      <td>(4FN) FEDERAL GRANTS</td>\n",
       "      <td>(80004805) MAP 21 405 PROGRAMS</td>\n",
       "      <td>(BB) REGULAR EMPLOYEE RELATED EXPEN</td>\n",
       "      <td>...</td>\n",
       "      <td>80004805</td>\n",
       "      <td>B02</td>\n",
       "      <td>DAA</td>\n",
       "      <td>DAA - SUMMARY PAYROLL</td>\n",
       "      <td>UNASSIGNED</td>\n",
       "      <td>03091600000000013262</td>\n",
       "      <td>UNASSIGNED</td>\n",
       "      <td>UNASSIGNED</td>\n",
       "      <td>UNASSIGNED</td>\n",
       "      <td>2019-08-31T13:32:03.000</td>\n",
       "    </tr>\n",
       "    <tr>\n",
       "      <th>1021</th>\n",
       "      <td>1021</td>\n",
       "      <td>B0000000000213410176</td>\n",
       "      <td>2016</td>\n",
       "      <td>11</td>\n",
       "      <td>2016-05-03T00:00:00.000</td>\n",
       "      <td>DISTRICT ATTORNEY</td>\n",
       "      <td>DISTRICT ATTORNEY ASSOCIATION (DAA)</td>\n",
       "      <td>(4FN) FEDERAL GRANTS</td>\n",
       "      <td>(80004804) STATE AGENCY PROGRAMS</td>\n",
       "      <td>(AA) REGULAR EMPLOYEE COMPENSATION</td>\n",
       "      <td>...</td>\n",
       "      <td>80004804</td>\n",
       "      <td>A01</td>\n",
       "      <td>DAA</td>\n",
       "      <td>DAA - SUMMARY PAYROLL</td>\n",
       "      <td>UNASSIGNED</td>\n",
       "      <td>EMPL 020160430117707</td>\n",
       "      <td>UNASSIGNED</td>\n",
       "      <td>UNASSIGNED</td>\n",
       "      <td>UNASSIGNED</td>\n",
       "      <td>2019-08-31T13:32:03.000</td>\n",
       "    </tr>\n",
       "  </tbody>\n",
       "</table>\n",
       "<p>5 rows × 26 columns</p>\n",
       "</div>"
      ],
      "text/plain": [
       "      Unnamed: 0               base_id  budget_fiscal_year  fiscal_period  \\\n",
       "1017        1017  B0000000000213410178                2016              4   \n",
       "1018        1018  B0000000000213410179                2016              6   \n",
       "1019        1019  B0000000000213410180                2016              8   \n",
       "1020        1020  B0000000000213410175                2016              9   \n",
       "1021        1021  B0000000000213410176                2016             11   \n",
       "\n",
       "                         date cabinet_secretariat  \\\n",
       "1017  2015-10-06T00:00:00.000   DISTRICT ATTORNEY   \n",
       "1018  2015-12-08T00:00:00.000   DISTRICT ATTORNEY   \n",
       "1019  2016-02-16T00:00:00.000   DISTRICT ATTORNEY   \n",
       "1020  2016-03-09T00:00:00.000   DISTRICT ATTORNEY   \n",
       "1021  2016-05-03T00:00:00.000   DISTRICT ATTORNEY   \n",
       "\n",
       "                               department    appropriation_type  \\\n",
       "1017  DISTRICT ATTORNEY ASSOCIATION (DAA)  (4FN) FEDERAL GRANTS   \n",
       "1018  DISTRICT ATTORNEY ASSOCIATION (DAA)  (4FN) FEDERAL GRANTS   \n",
       "1019  DISTRICT ATTORNEY ASSOCIATION (DAA)  (4FN) FEDERAL GRANTS   \n",
       "1020  DISTRICT ATTORNEY ASSOCIATION (DAA)  (4FN) FEDERAL GRANTS   \n",
       "1021  DISTRICT ATTORNEY ASSOCIATION (DAA)  (4FN) FEDERAL GRANTS   \n",
       "\n",
       "                    appropriation_name                         object_class  \\\n",
       "1017  (80004804) STATE AGENCY PROGRAMS   (AA) REGULAR EMPLOYEE COMPENSATION   \n",
       "1018  (80004804) STATE AGENCY PROGRAMS   (AA) REGULAR EMPLOYEE COMPENSATION   \n",
       "1019  (80004804) STATE AGENCY PROGRAMS  (BB) REGULAR EMPLOYEE RELATED EXPEN   \n",
       "1020    (80004805) MAP 21 405 PROGRAMS  (BB) REGULAR EMPLOYEE RELATED EXPEN   \n",
       "1021  (80004804) STATE AGENCY PROGRAMS   (AA) REGULAR EMPLOYEE COMPENSATION   \n",
       "\n",
       "      ... appropriation_code object department_code                 vendor  \\\n",
       "1017  ...           80004804    A01             DAA  DAA - SUMMARY PAYROLL   \n",
       "1018  ...           80004804    A01             DAA  DAA - SUMMARY PAYROLL   \n",
       "1019  ...           80004804    B02             DAA  DAA - SUMMARY PAYROLL   \n",
       "1020  ...           80004805    B02             DAA  DAA - SUMMARY PAYROLL   \n",
       "1021  ...           80004804    A01             DAA  DAA - SUMMARY PAYROLL   \n",
       "\n",
       "       vendor_id            payment_id payment_method       state        city  \\\n",
       "1017  UNASSIGNED  EMPL 020151003125867     UNASSIGNED  UNASSIGNED  UNASSIGNED   \n",
       "1018  UNASSIGNED  12081500000000007981     UNASSIGNED  UNASSIGNED  UNASSIGNED   \n",
       "1019  UNASSIGNED  02161600000000011754     UNASSIGNED  UNASSIGNED  UNASSIGNED   \n",
       "1020  UNASSIGNED  03091600000000013262     UNASSIGNED  UNASSIGNED  UNASSIGNED   \n",
       "1021  UNASSIGNED  EMPL 020160430117707     UNASSIGNED  UNASSIGNED  UNASSIGNED   \n",
       "\n",
       "                  create_date  \n",
       "1017  2019-08-31T13:32:03.000  \n",
       "1018  2019-08-31T13:32:03.000  \n",
       "1019  2019-08-31T13:32:03.000  \n",
       "1020  2019-08-31T13:32:03.000  \n",
       "1021  2019-08-31T13:32:03.000  \n",
       "\n",
       "[5 rows x 26 columns]"
      ]
     },
     "metadata": {},
     "output_type": "display_data"
    },
    {
     "name": "stdout",
     "output_type": "stream",
     "text": [
      "federal payroll fraction\n"
     ]
    },
    {
     "data": {
      "text/plain": [
       "0.1314701721505809"
      ]
     },
     "metadata": {},
     "output_type": "display_data"
    },
    {
     "name": "stdout",
     "output_type": "stream",
     "text": [
      "budget_fiscal_year\n",
      "2016   157666.200\n",
      "2017   147535.020\n",
      "2018   128892.670\n",
      "2019   142447.230\n",
      "2020   119464.360\n",
      "2021      203.140\n",
      "Name: amount, dtype: float64\n",
      "for  MA Sheriff's Association\n",
      "federal payroll df\n"
     ]
    },
    {
     "data": {
      "text/html": [
       "<div>\n",
       "<style scoped>\n",
       "    .dataframe tbody tr th:only-of-type {\n",
       "        vertical-align: middle;\n",
       "    }\n",
       "\n",
       "    .dataframe tbody tr th {\n",
       "        vertical-align: top;\n",
       "    }\n",
       "\n",
       "    .dataframe thead th {\n",
       "        text-align: right;\n",
       "    }\n",
       "</style>\n",
       "<table border=\"1\" class=\"dataframe\">\n",
       "  <thead>\n",
       "    <tr style=\"text-align: right;\">\n",
       "      <th></th>\n",
       "      <th>Unnamed: 0</th>\n",
       "      <th>base_id</th>\n",
       "      <th>budget_fiscal_year</th>\n",
       "      <th>fiscal_period</th>\n",
       "      <th>date</th>\n",
       "      <th>cabinet_secretariat</th>\n",
       "      <th>department</th>\n",
       "      <th>appropriation_type</th>\n",
       "      <th>appropriation_name</th>\n",
       "      <th>object_class</th>\n",
       "      <th>...</th>\n",
       "      <th>appropriation_code</th>\n",
       "      <th>object</th>\n",
       "      <th>department_code</th>\n",
       "      <th>vendor</th>\n",
       "      <th>vendor_id</th>\n",
       "      <th>payment_id</th>\n",
       "      <th>payment_method</th>\n",
       "      <th>state</th>\n",
       "      <th>city</th>\n",
       "      <th>create_date</th>\n",
       "    </tr>\n",
       "  </thead>\n",
       "  <tbody>\n",
       "  </tbody>\n",
       "</table>\n",
       "<p>0 rows × 26 columns</p>\n",
       "</div>"
      ],
      "text/plain": [
       "Empty DataFrame\n",
       "Columns: [Unnamed: 0, base_id, budget_fiscal_year, fiscal_period, date, cabinet_secretariat, department, appropriation_type, appropriation_name, object_class, object_code, encumbrance_id, zip_code, amount, fund, fund_code, appropriation_code, object, department_code, vendor, vendor_id, payment_id, payment_method, state, city, create_date]\n",
       "Index: []\n",
       "\n",
       "[0 rows x 26 columns]"
      ]
     },
     "metadata": {},
     "output_type": "display_data"
    },
    {
     "name": "stdout",
     "output_type": "stream",
     "text": [
      "federal payroll fraction\n"
     ]
    },
    {
     "data": {
      "text/plain": [
       "0.0"
      ]
     },
     "metadata": {},
     "output_type": "display_data"
    },
    {
     "name": "stdout",
     "output_type": "stream",
     "text": [
      "Series([], Name: amount, dtype: float64)\n",
      "for  Parole_Board\n",
      "federal payroll df\n"
     ]
    },
    {
     "data": {
      "text/html": [
       "<div>\n",
       "<style scoped>\n",
       "    .dataframe tbody tr th:only-of-type {\n",
       "        vertical-align: middle;\n",
       "    }\n",
       "\n",
       "    .dataframe tbody tr th {\n",
       "        vertical-align: top;\n",
       "    }\n",
       "\n",
       "    .dataframe thead th {\n",
       "        text-align: right;\n",
       "    }\n",
       "</style>\n",
       "<table border=\"1\" class=\"dataframe\">\n",
       "  <thead>\n",
       "    <tr style=\"text-align: right;\">\n",
       "      <th></th>\n",
       "      <th>Unnamed: 0</th>\n",
       "      <th>base_id</th>\n",
       "      <th>budget_fiscal_year</th>\n",
       "      <th>fiscal_period</th>\n",
       "      <th>date</th>\n",
       "      <th>cabinet_secretariat</th>\n",
       "      <th>department</th>\n",
       "      <th>appropriation_type</th>\n",
       "      <th>appropriation_name</th>\n",
       "      <th>object_class</th>\n",
       "      <th>...</th>\n",
       "      <th>appropriation_code</th>\n",
       "      <th>object</th>\n",
       "      <th>department_code</th>\n",
       "      <th>vendor</th>\n",
       "      <th>vendor_id</th>\n",
       "      <th>payment_id</th>\n",
       "      <th>payment_method</th>\n",
       "      <th>state</th>\n",
       "      <th>city</th>\n",
       "      <th>create_date</th>\n",
       "    </tr>\n",
       "  </thead>\n",
       "  <tbody>\n",
       "    <tr>\n",
       "      <th>2442</th>\n",
       "      <td>2442</td>\n",
       "      <td>B0000000000213369512</td>\n",
       "      <td>2016</td>\n",
       "      <td>4</td>\n",
       "      <td>2015-10-20T00:00:00.000</td>\n",
       "      <td>EXECUTIVE OFFICE OF PUBLIC SAFETY &amp; HOMELAND S...</td>\n",
       "      <td>PAROLE BOARD (PAR)</td>\n",
       "      <td>(4FN) FEDERAL GRANTS</td>\n",
       "      <td>(08400110) CRIME VICTIMS ASSISTANCE PROGRAMS -</td>\n",
       "      <td>(AA) REGULAR EMPLOYEE COMPENSATION</td>\n",
       "      <td>...</td>\n",
       "      <td>08400110</td>\n",
       "      <td>A01</td>\n",
       "      <td>PAR</td>\n",
       "      <td>PAR - SUMMARY PAYROLL</td>\n",
       "      <td>UNASSIGNED</td>\n",
       "      <td>EMPL 020151017105785</td>\n",
       "      <td>UNASSIGNED</td>\n",
       "      <td>UNASSIGNED</td>\n",
       "      <td>UNASSIGNED</td>\n",
       "      <td>2019-08-31T13:32:03.000</td>\n",
       "    </tr>\n",
       "    <tr>\n",
       "      <th>2443</th>\n",
       "      <td>2443</td>\n",
       "      <td>B0000000000213369513</td>\n",
       "      <td>2016</td>\n",
       "      <td>11</td>\n",
       "      <td>2016-05-26T00:00:00.000</td>\n",
       "      <td>EXECUTIVE OFFICE OF PUBLIC SAFETY &amp; HOMELAND S...</td>\n",
       "      <td>PAROLE BOARD (PAR)</td>\n",
       "      <td>(4FN) FEDERAL GRANTS</td>\n",
       "      <td>(08400110) CRIME VICTIMS ASSISTANCE PROGRAMS -</td>\n",
       "      <td>(BB) REGULAR EMPLOYEE RELATED EXPEN</td>\n",
       "      <td>...</td>\n",
       "      <td>08400110</td>\n",
       "      <td>B02</td>\n",
       "      <td>PAR</td>\n",
       "      <td>PAR - SUMMARY PAYROLL</td>\n",
       "      <td>UNASSIGNED</td>\n",
       "      <td>05261600000000021485</td>\n",
       "      <td>UNASSIGNED</td>\n",
       "      <td>UNASSIGNED</td>\n",
       "      <td>UNASSIGNED</td>\n",
       "      <td>2019-08-31T13:32:03.000</td>\n",
       "    </tr>\n",
       "    <tr>\n",
       "      <th>2444</th>\n",
       "      <td>2444</td>\n",
       "      <td>B0000000000213369514</td>\n",
       "      <td>2016</td>\n",
       "      <td>8</td>\n",
       "      <td>2016-02-09T00:00:00.000</td>\n",
       "      <td>EXECUTIVE OFFICE OF PUBLIC SAFETY &amp; HOMELAND S...</td>\n",
       "      <td>PAROLE BOARD (PAR)</td>\n",
       "      <td>(4FN) FEDERAL GRANTS</td>\n",
       "      <td>(08400110) CRIME VICTIMS ASSISTANCE PROGRAMS -</td>\n",
       "      <td>(AA) REGULAR EMPLOYEE COMPENSATION</td>\n",
       "      <td>...</td>\n",
       "      <td>08400110</td>\n",
       "      <td>A01</td>\n",
       "      <td>PAR</td>\n",
       "      <td>PAR - SUMMARY PAYROLL</td>\n",
       "      <td>UNASSIGNED</td>\n",
       "      <td>EMPL 020160206119375</td>\n",
       "      <td>UNASSIGNED</td>\n",
       "      <td>UNASSIGNED</td>\n",
       "      <td>UNASSIGNED</td>\n",
       "      <td>2019-08-31T13:32:03.000</td>\n",
       "    </tr>\n",
       "    <tr>\n",
       "      <th>2445</th>\n",
       "      <td>2445</td>\n",
       "      <td>B0000000000213369515</td>\n",
       "      <td>2016</td>\n",
       "      <td>12</td>\n",
       "      <td>2016-07-14T00:00:00.000</td>\n",
       "      <td>EXECUTIVE OFFICE OF PUBLIC SAFETY &amp; HOMELAND S...</td>\n",
       "      <td>PAROLE BOARD (PAR)</td>\n",
       "      <td>(4FN) FEDERAL GRANTS</td>\n",
       "      <td>(08400110) CRIME VICTIMS ASSISTANCE PROGRAMS -</td>\n",
       "      <td>(BB) REGULAR EMPLOYEE RELATED EXPEN</td>\n",
       "      <td>...</td>\n",
       "      <td>08400110</td>\n",
       "      <td>B02</td>\n",
       "      <td>PAR</td>\n",
       "      <td>PAR - SUMMARY PAYROLL</td>\n",
       "      <td>UNASSIGNED</td>\n",
       "      <td>07141600000000001182</td>\n",
       "      <td>UNASSIGNED</td>\n",
       "      <td>UNASSIGNED</td>\n",
       "      <td>UNASSIGNED</td>\n",
       "      <td>2019-08-31T13:32:03.000</td>\n",
       "    </tr>\n",
       "    <tr>\n",
       "      <th>2451</th>\n",
       "      <td>2451</td>\n",
       "      <td>B0000000000213372723</td>\n",
       "      <td>2016</td>\n",
       "      <td>11</td>\n",
       "      <td>2016-05-03T00:00:00.000</td>\n",
       "      <td>EXECUTIVE OFFICE OF PUBLIC SAFETY &amp; HOMELAND S...</td>\n",
       "      <td>PAROLE BOARD (PAR)</td>\n",
       "      <td>(4FN) FEDERAL GRANTS</td>\n",
       "      <td>(08400110) CRIME VICTIMS ASSISTANCE PROGRAMS -</td>\n",
       "      <td>(AA) REGULAR EMPLOYEE COMPENSATION</td>\n",
       "      <td>...</td>\n",
       "      <td>08400110</td>\n",
       "      <td>A01</td>\n",
       "      <td>PAR</td>\n",
       "      <td>PAR - SUMMARY PAYROLL</td>\n",
       "      <td>UNASSIGNED</td>\n",
       "      <td>EMPL 020160430114995</td>\n",
       "      <td>UNASSIGNED</td>\n",
       "      <td>UNASSIGNED</td>\n",
       "      <td>UNASSIGNED</td>\n",
       "      <td>2019-08-31T13:32:03.000</td>\n",
       "    </tr>\n",
       "  </tbody>\n",
       "</table>\n",
       "<p>5 rows × 26 columns</p>\n",
       "</div>"
      ],
      "text/plain": [
       "      Unnamed: 0               base_id  budget_fiscal_year  fiscal_period  \\\n",
       "2442        2442  B0000000000213369512                2016              4   \n",
       "2443        2443  B0000000000213369513                2016             11   \n",
       "2444        2444  B0000000000213369514                2016              8   \n",
       "2445        2445  B0000000000213369515                2016             12   \n",
       "2451        2451  B0000000000213372723                2016             11   \n",
       "\n",
       "                         date  \\\n",
       "2442  2015-10-20T00:00:00.000   \n",
       "2443  2016-05-26T00:00:00.000   \n",
       "2444  2016-02-09T00:00:00.000   \n",
       "2445  2016-07-14T00:00:00.000   \n",
       "2451  2016-05-03T00:00:00.000   \n",
       "\n",
       "                                    cabinet_secretariat          department  \\\n",
       "2442  EXECUTIVE OFFICE OF PUBLIC SAFETY & HOMELAND S...  PAROLE BOARD (PAR)   \n",
       "2443  EXECUTIVE OFFICE OF PUBLIC SAFETY & HOMELAND S...  PAROLE BOARD (PAR)   \n",
       "2444  EXECUTIVE OFFICE OF PUBLIC SAFETY & HOMELAND S...  PAROLE BOARD (PAR)   \n",
       "2445  EXECUTIVE OFFICE OF PUBLIC SAFETY & HOMELAND S...  PAROLE BOARD (PAR)   \n",
       "2451  EXECUTIVE OFFICE OF PUBLIC SAFETY & HOMELAND S...  PAROLE BOARD (PAR)   \n",
       "\n",
       "        appropriation_type                              appropriation_name  \\\n",
       "2442  (4FN) FEDERAL GRANTS  (08400110) CRIME VICTIMS ASSISTANCE PROGRAMS -   \n",
       "2443  (4FN) FEDERAL GRANTS  (08400110) CRIME VICTIMS ASSISTANCE PROGRAMS -   \n",
       "2444  (4FN) FEDERAL GRANTS  (08400110) CRIME VICTIMS ASSISTANCE PROGRAMS -   \n",
       "2445  (4FN) FEDERAL GRANTS  (08400110) CRIME VICTIMS ASSISTANCE PROGRAMS -   \n",
       "2451  (4FN) FEDERAL GRANTS  (08400110) CRIME VICTIMS ASSISTANCE PROGRAMS -   \n",
       "\n",
       "                             object_class  ... appropriation_code object  \\\n",
       "2442   (AA) REGULAR EMPLOYEE COMPENSATION  ...           08400110    A01   \n",
       "2443  (BB) REGULAR EMPLOYEE RELATED EXPEN  ...           08400110    B02   \n",
       "2444   (AA) REGULAR EMPLOYEE COMPENSATION  ...           08400110    A01   \n",
       "2445  (BB) REGULAR EMPLOYEE RELATED EXPEN  ...           08400110    B02   \n",
       "2451   (AA) REGULAR EMPLOYEE COMPENSATION  ...           08400110    A01   \n",
       "\n",
       "     department_code                 vendor   vendor_id            payment_id  \\\n",
       "2442             PAR  PAR - SUMMARY PAYROLL  UNASSIGNED  EMPL 020151017105785   \n",
       "2443             PAR  PAR - SUMMARY PAYROLL  UNASSIGNED  05261600000000021485   \n",
       "2444             PAR  PAR - SUMMARY PAYROLL  UNASSIGNED  EMPL 020160206119375   \n",
       "2445             PAR  PAR - SUMMARY PAYROLL  UNASSIGNED  07141600000000001182   \n",
       "2451             PAR  PAR - SUMMARY PAYROLL  UNASSIGNED  EMPL 020160430114995   \n",
       "\n",
       "     payment_method       state        city              create_date  \n",
       "2442     UNASSIGNED  UNASSIGNED  UNASSIGNED  2019-08-31T13:32:03.000  \n",
       "2443     UNASSIGNED  UNASSIGNED  UNASSIGNED  2019-08-31T13:32:03.000  \n",
       "2444     UNASSIGNED  UNASSIGNED  UNASSIGNED  2019-08-31T13:32:03.000  \n",
       "2445     UNASSIGNED  UNASSIGNED  UNASSIGNED  2019-08-31T13:32:03.000  \n",
       "2451     UNASSIGNED  UNASSIGNED  UNASSIGNED  2019-08-31T13:32:03.000  \n",
       "\n",
       "[5 rows x 26 columns]"
      ]
     },
     "metadata": {},
     "output_type": "display_data"
    },
    {
     "name": "stdout",
     "output_type": "stream",
     "text": [
      "federal payroll fraction\n"
     ]
    },
    {
     "data": {
      "text/plain": [
       "0.014289365497696504"
      ]
     },
     "metadata": {},
     "output_type": "display_data"
    },
    {
     "name": "stdout",
     "output_type": "stream",
     "text": [
      "budget_fiscal_year\n",
      "2016   284109.310\n",
      "2017   140731.260\n",
      "2018   208313.780\n",
      "2019   239796.570\n",
      "2020   241727.130\n",
      "2021    13202.740\n",
      "Name: amount, dtype: float64\n",
      "for  CJT\n",
      "federal payroll df\n"
     ]
    },
    {
     "data": {
      "text/html": [
       "<div>\n",
       "<style scoped>\n",
       "    .dataframe tbody tr th:only-of-type {\n",
       "        vertical-align: middle;\n",
       "    }\n",
       "\n",
       "    .dataframe tbody tr th {\n",
       "        vertical-align: top;\n",
       "    }\n",
       "\n",
       "    .dataframe thead th {\n",
       "        text-align: right;\n",
       "    }\n",
       "</style>\n",
       "<table border=\"1\" class=\"dataframe\">\n",
       "  <thead>\n",
       "    <tr style=\"text-align: right;\">\n",
       "      <th></th>\n",
       "      <th>Unnamed: 0</th>\n",
       "      <th>base_id</th>\n",
       "      <th>budget_fiscal_year</th>\n",
       "      <th>fiscal_period</th>\n",
       "      <th>date</th>\n",
       "      <th>cabinet_secretariat</th>\n",
       "      <th>department</th>\n",
       "      <th>appropriation_type</th>\n",
       "      <th>appropriation_name</th>\n",
       "      <th>object_class</th>\n",
       "      <th>...</th>\n",
       "      <th>appropriation_code</th>\n",
       "      <th>object</th>\n",
       "      <th>department_code</th>\n",
       "      <th>vendor</th>\n",
       "      <th>vendor_id</th>\n",
       "      <th>payment_id</th>\n",
       "      <th>payment_method</th>\n",
       "      <th>state</th>\n",
       "      <th>city</th>\n",
       "      <th>create_date</th>\n",
       "    </tr>\n",
       "  </thead>\n",
       "  <tbody>\n",
       "    <tr>\n",
       "      <th>2128</th>\n",
       "      <td>2128</td>\n",
       "      <td>B0000000000213436753</td>\n",
       "      <td>2016</td>\n",
       "      <td>13</td>\n",
       "      <td>2016-07-29T00:00:00.000</td>\n",
       "      <td>EXECUTIVE OFFICE OF PUBLIC SAFETY &amp; HOMELAND S...</td>\n",
       "      <td>MUNICIPAL POLICE TRAINING COMMITTEE (CJT)</td>\n",
       "      <td>(4FN) FEDERAL GRANTS</td>\n",
       "      <td>(80004805) MAP 21 405 PROGRAMS</td>\n",
       "      <td>(CC) SPECIAL EMPLOYEES</td>\n",
       "      <td>...</td>\n",
       "      <td>80004805</td>\n",
       "      <td>C29</td>\n",
       "      <td>CJT</td>\n",
       "      <td>CJT - SUMMARY PAYROLL</td>\n",
       "      <td>UNASSIGNED</td>\n",
       "      <td>07291600000000002213</td>\n",
       "      <td>UNASSIGNED</td>\n",
       "      <td>UNASSIGNED</td>\n",
       "      <td>UNASSIGNED</td>\n",
       "      <td>2019-08-31T13:32:03.000</td>\n",
       "    </tr>\n",
       "    <tr>\n",
       "      <th>2129</th>\n",
       "      <td>2129</td>\n",
       "      <td>B0000000000213436754</td>\n",
       "      <td>2016</td>\n",
       "      <td>9</td>\n",
       "      <td>2016-03-23T00:00:00.000</td>\n",
       "      <td>EXECUTIVE OFFICE OF PUBLIC SAFETY &amp; HOMELAND S...</td>\n",
       "      <td>MUNICIPAL POLICE TRAINING COMMITTEE (CJT)</td>\n",
       "      <td>(4FN) FEDERAL GRANTS</td>\n",
       "      <td>(80004805) MAP 21 405 PROGRAMS</td>\n",
       "      <td>(CC) SPECIAL EMPLOYEES</td>\n",
       "      <td>...</td>\n",
       "      <td>80004805</td>\n",
       "      <td>C29</td>\n",
       "      <td>CJT</td>\n",
       "      <td>CJT - SUMMARY PAYROLL</td>\n",
       "      <td>UNASSIGNED</td>\n",
       "      <td>03231600000000014163</td>\n",
       "      <td>UNASSIGNED</td>\n",
       "      <td>UNASSIGNED</td>\n",
       "      <td>UNASSIGNED</td>\n",
       "      <td>2019-08-31T13:32:03.000</td>\n",
       "    </tr>\n",
       "    <tr>\n",
       "      <th>2130</th>\n",
       "      <td>2130</td>\n",
       "      <td>B0000000000213436755</td>\n",
       "      <td>2016</td>\n",
       "      <td>13</td>\n",
       "      <td>2016-08-09T00:00:00.000</td>\n",
       "      <td>EXECUTIVE OFFICE OF PUBLIC SAFETY &amp; HOMELAND S...</td>\n",
       "      <td>MUNICIPAL POLICE TRAINING COMMITTEE (CJT)</td>\n",
       "      <td>(4FN) FEDERAL GRANTS</td>\n",
       "      <td>(80004805) MAP 21 405 PROGRAMS</td>\n",
       "      <td>(CC) SPECIAL EMPLOYEES</td>\n",
       "      <td>...</td>\n",
       "      <td>80004805</td>\n",
       "      <td>C29</td>\n",
       "      <td>CJT</td>\n",
       "      <td>CJT - SUMMARY PAYROLL</td>\n",
       "      <td>UNASSIGNED</td>\n",
       "      <td>CNTR 020160806102394</td>\n",
       "      <td>UNASSIGNED</td>\n",
       "      <td>UNASSIGNED</td>\n",
       "      <td>UNASSIGNED</td>\n",
       "      <td>2019-08-31T13:32:03.000</td>\n",
       "    </tr>\n",
       "    <tr>\n",
       "      <th>2147</th>\n",
       "      <td>2147</td>\n",
       "      <td>B0000000000213439106</td>\n",
       "      <td>2016</td>\n",
       "      <td>10</td>\n",
       "      <td>2016-04-29T00:00:00.000</td>\n",
       "      <td>EXECUTIVE OFFICE OF PUBLIC SAFETY &amp; HOMELAND S...</td>\n",
       "      <td>MUNICIPAL POLICE TRAINING COMMITTEE (CJT)</td>\n",
       "      <td>(4FN) FEDERAL GRANTS</td>\n",
       "      <td>(80004804) STATE AGENCY PROGRAMS</td>\n",
       "      <td>(CC) SPECIAL EMPLOYEES</td>\n",
       "      <td>...</td>\n",
       "      <td>80004804</td>\n",
       "      <td>C29</td>\n",
       "      <td>CJT</td>\n",
       "      <td>CJT - SUMMARY PAYROLL</td>\n",
       "      <td>UNASSIGNED</td>\n",
       "      <td>04291600000000016649</td>\n",
       "      <td>UNASSIGNED</td>\n",
       "      <td>UNASSIGNED</td>\n",
       "      <td>UNASSIGNED</td>\n",
       "      <td>2019-08-31T13:32:03.000</td>\n",
       "    </tr>\n",
       "    <tr>\n",
       "      <th>2148</th>\n",
       "      <td>2148</td>\n",
       "      <td>B0000000000213439107</td>\n",
       "      <td>2016</td>\n",
       "      <td>10</td>\n",
       "      <td>2016-04-29T00:00:00.000</td>\n",
       "      <td>EXECUTIVE OFFICE OF PUBLIC SAFETY &amp; HOMELAND S...</td>\n",
       "      <td>MUNICIPAL POLICE TRAINING COMMITTEE (CJT)</td>\n",
       "      <td>(4FN) FEDERAL GRANTS</td>\n",
       "      <td>(80004804) STATE AGENCY PROGRAMS</td>\n",
       "      <td>(CC) SPECIAL EMPLOYEES</td>\n",
       "      <td>...</td>\n",
       "      <td>80004804</td>\n",
       "      <td>C29</td>\n",
       "      <td>CJT</td>\n",
       "      <td>CJT - SUMMARY PAYROLL</td>\n",
       "      <td>UNASSIGNED</td>\n",
       "      <td>04291600000000016675</td>\n",
       "      <td>UNASSIGNED</td>\n",
       "      <td>UNASSIGNED</td>\n",
       "      <td>UNASSIGNED</td>\n",
       "      <td>2019-08-31T13:32:03.000</td>\n",
       "    </tr>\n",
       "  </tbody>\n",
       "</table>\n",
       "<p>5 rows × 26 columns</p>\n",
       "</div>"
      ],
      "text/plain": [
       "      Unnamed: 0               base_id  budget_fiscal_year  fiscal_period  \\\n",
       "2128        2128  B0000000000213436753                2016             13   \n",
       "2129        2129  B0000000000213436754                2016              9   \n",
       "2130        2130  B0000000000213436755                2016             13   \n",
       "2147        2147  B0000000000213439106                2016             10   \n",
       "2148        2148  B0000000000213439107                2016             10   \n",
       "\n",
       "                         date  \\\n",
       "2128  2016-07-29T00:00:00.000   \n",
       "2129  2016-03-23T00:00:00.000   \n",
       "2130  2016-08-09T00:00:00.000   \n",
       "2147  2016-04-29T00:00:00.000   \n",
       "2148  2016-04-29T00:00:00.000   \n",
       "\n",
       "                                    cabinet_secretariat  \\\n",
       "2128  EXECUTIVE OFFICE OF PUBLIC SAFETY & HOMELAND S...   \n",
       "2129  EXECUTIVE OFFICE OF PUBLIC SAFETY & HOMELAND S...   \n",
       "2130  EXECUTIVE OFFICE OF PUBLIC SAFETY & HOMELAND S...   \n",
       "2147  EXECUTIVE OFFICE OF PUBLIC SAFETY & HOMELAND S...   \n",
       "2148  EXECUTIVE OFFICE OF PUBLIC SAFETY & HOMELAND S...   \n",
       "\n",
       "                                     department    appropriation_type  \\\n",
       "2128  MUNICIPAL POLICE TRAINING COMMITTEE (CJT)  (4FN) FEDERAL GRANTS   \n",
       "2129  MUNICIPAL POLICE TRAINING COMMITTEE (CJT)  (4FN) FEDERAL GRANTS   \n",
       "2130  MUNICIPAL POLICE TRAINING COMMITTEE (CJT)  (4FN) FEDERAL GRANTS   \n",
       "2147  MUNICIPAL POLICE TRAINING COMMITTEE (CJT)  (4FN) FEDERAL GRANTS   \n",
       "2148  MUNICIPAL POLICE TRAINING COMMITTEE (CJT)  (4FN) FEDERAL GRANTS   \n",
       "\n",
       "                    appropriation_name            object_class  ...  \\\n",
       "2128    (80004805) MAP 21 405 PROGRAMS  (CC) SPECIAL EMPLOYEES  ...   \n",
       "2129    (80004805) MAP 21 405 PROGRAMS  (CC) SPECIAL EMPLOYEES  ...   \n",
       "2130    (80004805) MAP 21 405 PROGRAMS  (CC) SPECIAL EMPLOYEES  ...   \n",
       "2147  (80004804) STATE AGENCY PROGRAMS  (CC) SPECIAL EMPLOYEES  ...   \n",
       "2148  (80004804) STATE AGENCY PROGRAMS  (CC) SPECIAL EMPLOYEES  ...   \n",
       "\n",
       "     appropriation_code object department_code                 vendor  \\\n",
       "2128           80004805    C29             CJT  CJT - SUMMARY PAYROLL   \n",
       "2129           80004805    C29             CJT  CJT - SUMMARY PAYROLL   \n",
       "2130           80004805    C29             CJT  CJT - SUMMARY PAYROLL   \n",
       "2147           80004804    C29             CJT  CJT - SUMMARY PAYROLL   \n",
       "2148           80004804    C29             CJT  CJT - SUMMARY PAYROLL   \n",
       "\n",
       "       vendor_id            payment_id payment_method       state        city  \\\n",
       "2128  UNASSIGNED  07291600000000002213     UNASSIGNED  UNASSIGNED  UNASSIGNED   \n",
       "2129  UNASSIGNED  03231600000000014163     UNASSIGNED  UNASSIGNED  UNASSIGNED   \n",
       "2130  UNASSIGNED  CNTR 020160806102394     UNASSIGNED  UNASSIGNED  UNASSIGNED   \n",
       "2147  UNASSIGNED  04291600000000016649     UNASSIGNED  UNASSIGNED  UNASSIGNED   \n",
       "2148  UNASSIGNED  04291600000000016675     UNASSIGNED  UNASSIGNED  UNASSIGNED   \n",
       "\n",
       "                  create_date  \n",
       "2128  2019-08-31T13:32:03.000  \n",
       "2129  2019-08-31T13:32:03.000  \n",
       "2130  2019-08-31T13:32:03.000  \n",
       "2147  2019-08-31T13:32:03.000  \n",
       "2148  2019-08-31T13:32:03.000  \n",
       "\n",
       "[5 rows x 26 columns]"
      ]
     },
     "metadata": {},
     "output_type": "display_data"
    },
    {
     "name": "stdout",
     "output_type": "stream",
     "text": [
      "federal payroll fraction\n"
     ]
    },
    {
     "data": {
      "text/plain": [
       "0.062004147833796465"
      ]
     },
     "metadata": {},
     "output_type": "display_data"
    },
    {
     "name": "stdout",
     "output_type": "stream",
     "text": [
      "budget_fiscal_year\n",
      "2016   191093.320\n",
      "2017   232434.620\n",
      "2018   276590.140\n",
      "2019   282103.440\n",
      "2020   230794.900\n",
      "2021     2800.000\n",
      "Name: amount, dtype: float64\n",
      "for  Supreme_Judicial_Court\n",
      "federal payroll df\n"
     ]
    },
    {
     "data": {
      "text/html": [
       "<div>\n",
       "<style scoped>\n",
       "    .dataframe tbody tr th:only-of-type {\n",
       "        vertical-align: middle;\n",
       "    }\n",
       "\n",
       "    .dataframe tbody tr th {\n",
       "        vertical-align: top;\n",
       "    }\n",
       "\n",
       "    .dataframe thead th {\n",
       "        text-align: right;\n",
       "    }\n",
       "</style>\n",
       "<table border=\"1\" class=\"dataframe\">\n",
       "  <thead>\n",
       "    <tr style=\"text-align: right;\">\n",
       "      <th></th>\n",
       "      <th>Unnamed: 0</th>\n",
       "      <th>base_id</th>\n",
       "      <th>budget_fiscal_year</th>\n",
       "      <th>fiscal_period</th>\n",
       "      <th>date</th>\n",
       "      <th>cabinet_secretariat</th>\n",
       "      <th>department</th>\n",
       "      <th>appropriation_type</th>\n",
       "      <th>appropriation_name</th>\n",
       "      <th>object_class</th>\n",
       "      <th>...</th>\n",
       "      <th>appropriation_code</th>\n",
       "      <th>object</th>\n",
       "      <th>department_code</th>\n",
       "      <th>vendor</th>\n",
       "      <th>vendor_id</th>\n",
       "      <th>payment_id</th>\n",
       "      <th>payment_method</th>\n",
       "      <th>state</th>\n",
       "      <th>city</th>\n",
       "      <th>create_date</th>\n",
       "    </tr>\n",
       "  </thead>\n",
       "  <tbody>\n",
       "    <tr>\n",
       "      <th>1633</th>\n",
       "      <td>1633</td>\n",
       "      <td>B0000000000213745379</td>\n",
       "      <td>2016</td>\n",
       "      <td>10</td>\n",
       "      <td>2016-04-05T00:00:00.000</td>\n",
       "      <td>JUDICIARY</td>\n",
       "      <td>SUPREME JUDICIAL COURT (SJC)</td>\n",
       "      <td>(4FN) FEDERAL GRANTS</td>\n",
       "      <td>(03201713) STATE COURT IMPROVEMENT TRAINING GRANT</td>\n",
       "      <td>(CC) SPECIAL EMPLOYEES</td>\n",
       "      <td>...</td>\n",
       "      <td>03201713</td>\n",
       "      <td>C23</td>\n",
       "      <td>SJC</td>\n",
       "      <td>SJC - SUMMARY PAYROLL</td>\n",
       "      <td>UNASSIGNED</td>\n",
       "      <td>CNTR 020160402102317</td>\n",
       "      <td>UNASSIGNED</td>\n",
       "      <td>UNASSIGNED</td>\n",
       "      <td>UNASSIGNED</td>\n",
       "      <td>2019-08-31T13:32:03.000</td>\n",
       "    </tr>\n",
       "    <tr>\n",
       "      <th>1649</th>\n",
       "      <td>1649</td>\n",
       "      <td>B0000000000213769158</td>\n",
       "      <td>2017</td>\n",
       "      <td>10</td>\n",
       "      <td>2017-04-04T00:00:00.000</td>\n",
       "      <td>JUDICIARY</td>\n",
       "      <td>SUPREME JUDICIAL COURT (SJC)</td>\n",
       "      <td>(4FN) FEDERAL GRANTS</td>\n",
       "      <td>(03201710) STATE COURT IMPROVEMENT BASIC GRANT</td>\n",
       "      <td>(CC) SPECIAL EMPLOYEES</td>\n",
       "      <td>...</td>\n",
       "      <td>03201710</td>\n",
       "      <td>C23</td>\n",
       "      <td>SJC</td>\n",
       "      <td>SJC - SUMMARY PAYROLL</td>\n",
       "      <td>UNASSIGNED</td>\n",
       "      <td>CNTR 020170401102467</td>\n",
       "      <td>UNASSIGNED</td>\n",
       "      <td>UNASSIGNED</td>\n",
       "      <td>UNASSIGNED</td>\n",
       "      <td>2019-08-31T13:32:03.000</td>\n",
       "    </tr>\n",
       "    <tr>\n",
       "      <th>1650</th>\n",
       "      <td>1650</td>\n",
       "      <td>B0000000000213769159</td>\n",
       "      <td>2017</td>\n",
       "      <td>12</td>\n",
       "      <td>2017-06-27T00:00:00.000</td>\n",
       "      <td>JUDICIARY</td>\n",
       "      <td>SUPREME JUDICIAL COURT (SJC)</td>\n",
       "      <td>(4FN) FEDERAL GRANTS</td>\n",
       "      <td>(03201710) STATE COURT IMPROVEMENT BASIC GRANT</td>\n",
       "      <td>(CC) SPECIAL EMPLOYEES</td>\n",
       "      <td>...</td>\n",
       "      <td>03201710</td>\n",
       "      <td>C23</td>\n",
       "      <td>SJC</td>\n",
       "      <td>SJC - SUMMARY PAYROLL</td>\n",
       "      <td>UNASSIGNED</td>\n",
       "      <td>CNTR 020170624101807</td>\n",
       "      <td>UNASSIGNED</td>\n",
       "      <td>UNASSIGNED</td>\n",
       "      <td>UNASSIGNED</td>\n",
       "      <td>2019-08-31T13:32:03.000</td>\n",
       "    </tr>\n",
       "    <tr>\n",
       "      <th>1651</th>\n",
       "      <td>1651</td>\n",
       "      <td>B0000000000213769160</td>\n",
       "      <td>2017</td>\n",
       "      <td>4</td>\n",
       "      <td>2016-10-18T00:00:00.000</td>\n",
       "      <td>JUDICIARY</td>\n",
       "      <td>SUPREME JUDICIAL COURT (SJC)</td>\n",
       "      <td>(4FN) FEDERAL GRANTS</td>\n",
       "      <td>(03201713) STATE COURT IMPROVEMENT TRAINING GRANT</td>\n",
       "      <td>(CC) SPECIAL EMPLOYEES</td>\n",
       "      <td>...</td>\n",
       "      <td>03201713</td>\n",
       "      <td>C23</td>\n",
       "      <td>SJC</td>\n",
       "      <td>SJC - SUMMARY PAYROLL</td>\n",
       "      <td>UNASSIGNED</td>\n",
       "      <td>CNTR 020161015102037</td>\n",
       "      <td>UNASSIGNED</td>\n",
       "      <td>UNASSIGNED</td>\n",
       "      <td>UNASSIGNED</td>\n",
       "      <td>2019-08-31T13:32:03.000</td>\n",
       "    </tr>\n",
       "    <tr>\n",
       "      <th>1652</th>\n",
       "      <td>1652</td>\n",
       "      <td>B0000000000213769161</td>\n",
       "      <td>2017</td>\n",
       "      <td>2</td>\n",
       "      <td>2016-08-09T00:00:00.000</td>\n",
       "      <td>JUDICIARY</td>\n",
       "      <td>SUPREME JUDICIAL COURT (SJC)</td>\n",
       "      <td>(4FN) FEDERAL GRANTS</td>\n",
       "      <td>(03201713) STATE COURT IMPROVEMENT TRAINING GRANT</td>\n",
       "      <td>(CC) SPECIAL EMPLOYEES</td>\n",
       "      <td>...</td>\n",
       "      <td>03201713</td>\n",
       "      <td>C23</td>\n",
       "      <td>SJC</td>\n",
       "      <td>SJC - SUMMARY PAYROLL</td>\n",
       "      <td>UNASSIGNED</td>\n",
       "      <td>CNTR 020160806101627</td>\n",
       "      <td>UNASSIGNED</td>\n",
       "      <td>UNASSIGNED</td>\n",
       "      <td>UNASSIGNED</td>\n",
       "      <td>2019-08-31T13:32:03.000</td>\n",
       "    </tr>\n",
       "  </tbody>\n",
       "</table>\n",
       "<p>5 rows × 26 columns</p>\n",
       "</div>"
      ],
      "text/plain": [
       "      Unnamed: 0               base_id  budget_fiscal_year  fiscal_period  \\\n",
       "1633        1633  B0000000000213745379                2016             10   \n",
       "1649        1649  B0000000000213769158                2017             10   \n",
       "1650        1650  B0000000000213769159                2017             12   \n",
       "1651        1651  B0000000000213769160                2017              4   \n",
       "1652        1652  B0000000000213769161                2017              2   \n",
       "\n",
       "                         date cabinet_secretariat  \\\n",
       "1633  2016-04-05T00:00:00.000           JUDICIARY   \n",
       "1649  2017-04-04T00:00:00.000           JUDICIARY   \n",
       "1650  2017-06-27T00:00:00.000           JUDICIARY   \n",
       "1651  2016-10-18T00:00:00.000           JUDICIARY   \n",
       "1652  2016-08-09T00:00:00.000           JUDICIARY   \n",
       "\n",
       "                        department    appropriation_type  \\\n",
       "1633  SUPREME JUDICIAL COURT (SJC)  (4FN) FEDERAL GRANTS   \n",
       "1649  SUPREME JUDICIAL COURT (SJC)  (4FN) FEDERAL GRANTS   \n",
       "1650  SUPREME JUDICIAL COURT (SJC)  (4FN) FEDERAL GRANTS   \n",
       "1651  SUPREME JUDICIAL COURT (SJC)  (4FN) FEDERAL GRANTS   \n",
       "1652  SUPREME JUDICIAL COURT (SJC)  (4FN) FEDERAL GRANTS   \n",
       "\n",
       "                                     appropriation_name  \\\n",
       "1633  (03201713) STATE COURT IMPROVEMENT TRAINING GRANT   \n",
       "1649     (03201710) STATE COURT IMPROVEMENT BASIC GRANT   \n",
       "1650     (03201710) STATE COURT IMPROVEMENT BASIC GRANT   \n",
       "1651  (03201713) STATE COURT IMPROVEMENT TRAINING GRANT   \n",
       "1652  (03201713) STATE COURT IMPROVEMENT TRAINING GRANT   \n",
       "\n",
       "                object_class  ... appropriation_code object department_code  \\\n",
       "1633  (CC) SPECIAL EMPLOYEES  ...           03201713    C23             SJC   \n",
       "1649  (CC) SPECIAL EMPLOYEES  ...           03201710    C23             SJC   \n",
       "1650  (CC) SPECIAL EMPLOYEES  ...           03201710    C23             SJC   \n",
       "1651  (CC) SPECIAL EMPLOYEES  ...           03201713    C23             SJC   \n",
       "1652  (CC) SPECIAL EMPLOYEES  ...           03201713    C23             SJC   \n",
       "\n",
       "                     vendor   vendor_id            payment_id payment_method  \\\n",
       "1633  SJC - SUMMARY PAYROLL  UNASSIGNED  CNTR 020160402102317     UNASSIGNED   \n",
       "1649  SJC - SUMMARY PAYROLL  UNASSIGNED  CNTR 020170401102467     UNASSIGNED   \n",
       "1650  SJC - SUMMARY PAYROLL  UNASSIGNED  CNTR 020170624101807     UNASSIGNED   \n",
       "1651  SJC - SUMMARY PAYROLL  UNASSIGNED  CNTR 020161015102037     UNASSIGNED   \n",
       "1652  SJC - SUMMARY PAYROLL  UNASSIGNED  CNTR 020160806101627     UNASSIGNED   \n",
       "\n",
       "           state        city              create_date  \n",
       "1633  UNASSIGNED  UNASSIGNED  2019-08-31T13:32:03.000  \n",
       "1649  UNASSIGNED  UNASSIGNED  2019-08-31T13:32:03.000  \n",
       "1650  UNASSIGNED  UNASSIGNED  2019-08-31T13:32:03.000  \n",
       "1651  UNASSIGNED  UNASSIGNED  2019-08-31T13:32:03.000  \n",
       "1652  UNASSIGNED  UNASSIGNED  2019-08-31T13:32:03.000  \n",
       "\n",
       "[5 rows x 26 columns]"
      ]
     },
     "metadata": {},
     "output_type": "display_data"
    },
    {
     "name": "stdout",
     "output_type": "stream",
     "text": [
      "federal payroll fraction\n"
     ]
    },
    {
     "data": {
      "text/plain": [
       "0.008272276035628827"
      ]
     },
     "metadata": {},
     "output_type": "display_data"
    },
    {
     "name": "stdout",
     "output_type": "stream",
     "text": [
      "budget_fiscal_year\n",
      "2016   48197.660\n",
      "2017   93295.680\n",
      "2018   86407.650\n",
      "2019   70446.300\n",
      "2020   76229.930\n",
      "2021    9522.000\n",
      "Name: amount, dtype: float64\n",
      "for  Appeals_Court\n",
      "federal payroll df\n"
     ]
    },
    {
     "data": {
      "text/html": [
       "<div>\n",
       "<style scoped>\n",
       "    .dataframe tbody tr th:only-of-type {\n",
       "        vertical-align: middle;\n",
       "    }\n",
       "\n",
       "    .dataframe tbody tr th {\n",
       "        vertical-align: top;\n",
       "    }\n",
       "\n",
       "    .dataframe thead th {\n",
       "        text-align: right;\n",
       "    }\n",
       "</style>\n",
       "<table border=\"1\" class=\"dataframe\">\n",
       "  <thead>\n",
       "    <tr style=\"text-align: right;\">\n",
       "      <th></th>\n",
       "      <th>Unnamed: 0</th>\n",
       "      <th>base_id</th>\n",
       "      <th>budget_fiscal_year</th>\n",
       "      <th>fiscal_period</th>\n",
       "      <th>date</th>\n",
       "      <th>cabinet_secretariat</th>\n",
       "      <th>department</th>\n",
       "      <th>appropriation_type</th>\n",
       "      <th>appropriation_name</th>\n",
       "      <th>object_class</th>\n",
       "      <th>...</th>\n",
       "      <th>appropriation_code</th>\n",
       "      <th>object</th>\n",
       "      <th>department_code</th>\n",
       "      <th>vendor</th>\n",
       "      <th>vendor_id</th>\n",
       "      <th>payment_id</th>\n",
       "      <th>payment_method</th>\n",
       "      <th>state</th>\n",
       "      <th>city</th>\n",
       "      <th>create_date</th>\n",
       "    </tr>\n",
       "  </thead>\n",
       "  <tbody>\n",
       "  </tbody>\n",
       "</table>\n",
       "<p>0 rows × 26 columns</p>\n",
       "</div>"
      ],
      "text/plain": [
       "Empty DataFrame\n",
       "Columns: [Unnamed: 0, base_id, budget_fiscal_year, fiscal_period, date, cabinet_secretariat, department, appropriation_type, appropriation_name, object_class, object_code, encumbrance_id, zip_code, amount, fund, fund_code, appropriation_code, object, department_code, vendor, vendor_id, payment_id, payment_method, state, city, create_date]\n",
       "Index: []\n",
       "\n",
       "[0 rows x 26 columns]"
      ]
     },
     "metadata": {},
     "output_type": "display_data"
    },
    {
     "name": "stdout",
     "output_type": "stream",
     "text": [
      "federal payroll fraction\n"
     ]
    },
    {
     "data": {
      "text/plain": [
       "0.0"
      ]
     },
     "metadata": {},
     "output_type": "display_data"
    },
    {
     "name": "stdout",
     "output_type": "stream",
     "text": [
      "Series([], Name: amount, dtype: float64)\n"
     ]
    }
   ],
   "source": [
    "yr = list(range(2016,2020))\n",
    "agencies = get_agencies(yr)"
   ]
  },
  {
   "cell_type": "code",
   "execution_count": null,
   "metadata": {},
   "outputs": [],
   "source": [
    "bostonPD = bostonPD."
   ]
  },
  {
   "cell_type": "markdown",
   "metadata": {},
   "source": [
    "## Save payroll to single dataframe"
   ]
  },
  {
   "cell_type": "code",
   "execution_count": 12,
   "metadata": {},
   "outputs": [],
   "source": [
    "payroll_df = pd.DataFrame(columns=yr)\n",
    "for _, agency in agencies.items():\n",
    "    payroll_df.loc[agency.official_name,:] = agency.payroll_by_year"
   ]
  },
  {
   "cell_type": "code",
   "execution_count": 13,
   "metadata": {},
   "outputs": [
    {
     "data": {
      "text/html": [
       "<div>\n",
       "<style scoped>\n",
       "    .dataframe tbody tr th:only-of-type {\n",
       "        vertical-align: middle;\n",
       "    }\n",
       "\n",
       "    .dataframe tbody tr th {\n",
       "        vertical-align: top;\n",
       "    }\n",
       "\n",
       "    .dataframe thead th {\n",
       "        text-align: right;\n",
       "    }\n",
       "</style>\n",
       "<table border=\"1\" class=\"dataframe\">\n",
       "  <thead>\n",
       "    <tr style=\"text-align: right;\">\n",
       "      <th></th>\n",
       "      <th>2016</th>\n",
       "      <th>2017</th>\n",
       "      <th>2018</th>\n",
       "      <th>2019</th>\n",
       "    </tr>\n",
       "  </thead>\n",
       "  <tbody>\n",
       "    <tr>\n",
       "      <th>TRIAL COURT (TRC)</th>\n",
       "      <td>489415695.445</td>\n",
       "      <td>490891054.435</td>\n",
       "      <td>506385282.585</td>\n",
       "      <td>522130195.970</td>\n",
       "    </tr>\n",
       "    <tr>\n",
       "      <th>COMMITTEE FOR PUBLIC COUNSEL SERVICES (CPC)</th>\n",
       "      <td>203113266.035</td>\n",
       "      <td>219228501.670</td>\n",
       "      <td>219057567.460</td>\n",
       "      <td>231508253.240</td>\n",
       "    </tr>\n",
       "    <tr>\n",
       "      <th>DEPARTMENT OF CORRECTION (DOC)</th>\n",
       "      <td>410178141.775</td>\n",
       "      <td>408294889.700</td>\n",
       "      <td>415990366.315</td>\n",
       "      <td>431185884.820</td>\n",
       "    </tr>\n",
       "    <tr>\n",
       "      <th>SUFFOLK DISTRICT ATTORNEY (SUF)</th>\n",
       "      <td>15567170.580</td>\n",
       "      <td>15828355.790</td>\n",
       "      <td>16032724.705</td>\n",
       "      <td>17406111.000</td>\n",
       "    </tr>\n",
       "    <tr>\n",
       "      <th>SHERIFF DEPARTMENT SUFFOLK (SDS)</th>\n",
       "      <td>81354227.820</td>\n",
       "      <td>82184620.695</td>\n",
       "      <td>84160044.160</td>\n",
       "      <td>85087774.225</td>\n",
       "    </tr>\n",
       "    <tr>\n",
       "      <th>DEPARTMENT OF STATE POLICE (POL)</th>\n",
       "      <td>357898934.130</td>\n",
       "      <td>368665415.870</td>\n",
       "      <td>373201681.440</td>\n",
       "      <td>368083909.125</td>\n",
       "    </tr>\n",
       "    <tr>\n",
       "      <th>MASSACHUSETTS BAY TRANSPORTATION AUTHORITY (MBT)</th>\n",
       "      <td>28140924.000</td>\n",
       "      <td>27914160.000</td>\n",
       "      <td>28731767.045</td>\n",
       "      <td>33395630.395</td>\n",
       "    </tr>\n",
       "    <tr>\n",
       "      <th>DISTRICT ATTORNEY ASSOCIATION (DAA)</th>\n",
       "      <td>1031232.240</td>\n",
       "      <td>1023074.725</td>\n",
       "      <td>1054174.475</td>\n",
       "      <td>1087785.700</td>\n",
       "    </tr>\n",
       "    <tr>\n",
       "      <th>SHERIFFS DEPARTMENT ASSOCIATION (SDA)</th>\n",
       "      <td>244370.730</td>\n",
       "      <td>234981.225</td>\n",
       "      <td>242014.830</td>\n",
       "      <td>222441.105</td>\n",
       "    </tr>\n",
       "    <tr>\n",
       "      <th>PAROLE BOARD (PAR)</th>\n",
       "      <td>14879626.495</td>\n",
       "      <td>14123440.940</td>\n",
       "      <td>14447276.080</td>\n",
       "      <td>15573981.885</td>\n",
       "    </tr>\n",
       "    <tr>\n",
       "      <th>MUNICIPAL POLICE TRAINING COMMITTEE (CJT)</th>\n",
       "      <td>3864718.870</td>\n",
       "      <td>3564716.185</td>\n",
       "      <td>3516473.000</td>\n",
       "      <td>3770698.305</td>\n",
       "    </tr>\n",
       "    <tr>\n",
       "      <th>SUPREME JUDICIAL COURT (SJC)</th>\n",
       "      <td>8632678.685</td>\n",
       "      <td>8760520.900</td>\n",
       "      <td>8947646.010</td>\n",
       "      <td>9254353.325</td>\n",
       "    </tr>\n",
       "    <tr>\n",
       "      <th>APPEALS COURT (APC)</th>\n",
       "      <td>11620387.455</td>\n",
       "      <td>11626037.275</td>\n",
       "      <td>12013239.960</td>\n",
       "      <td>12375680.370</td>\n",
       "    </tr>\n",
       "    <tr>\n",
       "      <th>Boston PD</th>\n",
       "      <td>373362553.800</td>\n",
       "      <td>389932425.440</td>\n",
       "      <td>403980309.855</td>\n",
       "      <td>416204303.370</td>\n",
       "    </tr>\n",
       "    <tr>\n",
       "      <th>Chelsea PD</th>\n",
       "      <td>9685922.000</td>\n",
       "      <td>12165124.100</td>\n",
       "      <td>12467944.455</td>\n",
       "      <td>13752786.880</td>\n",
       "    </tr>\n",
       "    <tr>\n",
       "      <th>Revere PD</th>\n",
       "      <td>9047062.000</td>\n",
       "      <td>9083601.000</td>\n",
       "      <td>9357467.000</td>\n",
       "      <td>9735336.000</td>\n",
       "    </tr>\n",
       "    <tr>\n",
       "      <th>Winthrop PD</th>\n",
       "      <td>2842909.000</td>\n",
       "      <td>2927191.000</td>\n",
       "      <td>3066911.000</td>\n",
       "      <td>3803402.000</td>\n",
       "    </tr>\n",
       "  </tbody>\n",
       "</table>\n",
       "</div>"
      ],
      "text/plain": [
       "                                                          2016          2017  \\\n",
       "TRIAL COURT (TRC)                                489415695.445 490891054.435   \n",
       "COMMITTEE FOR PUBLIC COUNSEL SERVICES (CPC)      203113266.035 219228501.670   \n",
       "DEPARTMENT OF CORRECTION (DOC)                   410178141.775 408294889.700   \n",
       "SUFFOLK DISTRICT ATTORNEY (SUF)                   15567170.580  15828355.790   \n",
       "SHERIFF DEPARTMENT SUFFOLK (SDS)                  81354227.820  82184620.695   \n",
       "DEPARTMENT OF STATE POLICE (POL)                 357898934.130 368665415.870   \n",
       "MASSACHUSETTS BAY TRANSPORTATION AUTHORITY (MBT)  28140924.000  27914160.000   \n",
       "DISTRICT ATTORNEY ASSOCIATION (DAA)                1031232.240   1023074.725   \n",
       "SHERIFFS DEPARTMENT ASSOCIATION (SDA)               244370.730    234981.225   \n",
       "PAROLE BOARD (PAR)                                14879626.495  14123440.940   \n",
       "MUNICIPAL POLICE TRAINING COMMITTEE (CJT)          3864718.870   3564716.185   \n",
       "SUPREME JUDICIAL COURT (SJC)                       8632678.685   8760520.900   \n",
       "APPEALS COURT (APC)                               11620387.455  11626037.275   \n",
       "Boston PD                                        373362553.800 389932425.440   \n",
       "Chelsea PD                                         9685922.000  12165124.100   \n",
       "Revere PD                                          9047062.000   9083601.000   \n",
       "Winthrop PD                                        2842909.000   2927191.000   \n",
       "\n",
       "                                                          2018          2019  \n",
       "TRIAL COURT (TRC)                                506385282.585 522130195.970  \n",
       "COMMITTEE FOR PUBLIC COUNSEL SERVICES (CPC)      219057567.460 231508253.240  \n",
       "DEPARTMENT OF CORRECTION (DOC)                   415990366.315 431185884.820  \n",
       "SUFFOLK DISTRICT ATTORNEY (SUF)                   16032724.705  17406111.000  \n",
       "SHERIFF DEPARTMENT SUFFOLK (SDS)                  84160044.160  85087774.225  \n",
       "DEPARTMENT OF STATE POLICE (POL)                 373201681.440 368083909.125  \n",
       "MASSACHUSETTS BAY TRANSPORTATION AUTHORITY (MBT)  28731767.045  33395630.395  \n",
       "DISTRICT ATTORNEY ASSOCIATION (DAA)                1054174.475   1087785.700  \n",
       "SHERIFFS DEPARTMENT ASSOCIATION (SDA)               242014.830    222441.105  \n",
       "PAROLE BOARD (PAR)                                14447276.080  15573981.885  \n",
       "MUNICIPAL POLICE TRAINING COMMITTEE (CJT)          3516473.000   3770698.305  \n",
       "SUPREME JUDICIAL COURT (SJC)                       8947646.010   9254353.325  \n",
       "APPEALS COURT (APC)                               12013239.960  12375680.370  \n",
       "Boston PD                                        403980309.855 416204303.370  \n",
       "Chelsea PD                                        12467944.455  13752786.880  \n",
       "Revere PD                                          9357467.000   9735336.000  \n",
       "Winthrop PD                                        3066911.000   3803402.000  "
      ]
     },
     "execution_count": 13,
     "metadata": {},
     "output_type": "execute_result"
    }
   ],
   "source": [
    "payroll_df"
   ]
  },
  {
   "cell_type": "markdown",
   "metadata": {},
   "source": [
    "## Trial Court (checks methodology for all state agencies except CPCS and MBTA)"
   ]
  },
  {
   "cell_type": "code",
   "execution_count": null,
   "metadata": {},
   "outputs": [],
   "source": [
    "trial_court_payroll = pd.DataFrame(client.get(\"rxhc-k6iz\", where = \"department_division = 'TRIAL COURT (TRC)'\"\\\n",
    "                                              \"AND Year >= 2018 AND Year <= 2019\", limit =999999))"
   ]
  },
  {
   "cell_type": "code",
   "execution_count": null,
   "metadata": {},
   "outputs": [],
   "source": [
    "trial_court_payroll.shape"
   ]
  },
  {
   "cell_type": "code",
   "execution_count": null,
   "metadata": {},
   "outputs": [],
   "source": [
    "trial_court_payroll[\"pay_total_actual\"] = trial_court_payroll[\"pay_total_actual\"].astype(float)"
   ]
  },
  {
   "cell_type": "code",
   "execution_count": null,
   "metadata": {},
   "outputs": [],
   "source": [
    "TRC_2018_payroll = trial_court_payroll[trial_court_payroll[\"year\"] == \"2018\"][\"pay_total_actual\"].sum()\n",
    "TRC_2019_payroll = trial_court_payroll[trial_court_payroll[\"year\"] == \"2019\"][\"pay_total_actual\"].sum()"
   ]
  },
  {
   "cell_type": "code",
   "execution_count": null,
   "metadata": {},
   "outputs": [],
   "source": [
    "assert np.isclose(np.mean([TRC_2018_payroll, TRC_2019_payroll]), payroll_df.loc[\"TRIAL COURT (TRC)\", 2019])"
   ]
  },
  {
   "cell_type": "markdown",
   "metadata": {},
   "source": [
    "## CPCS"
   ]
  },
  {
   "cell_type": "markdown",
   "metadata": {},
   "source": [
    "For CPCS, add R24"
   ]
  },
  {
   "cell_type": "code",
   "execution_count": null,
   "metadata": {},
   "outputs": [],
   "source": [
    "CPCS_payroll = pd.DataFrame(client.get(\"rxhc-k6iz\", where = \"department_division = 'COMMITTEE FOR PUBLIC COUNSEL SERVICES (CPC)' AND \"\\\n",
    "                                                            \"Year >= 2016 AND YEAR <=2017\", limit =999999))"
   ]
  },
  {
   "cell_type": "code",
   "execution_count": null,
   "metadata": {},
   "outputs": [],
   "source": [
    "CPCS_expenditures = pd.DataFrame(client.get(\"pegc-naaa\", where = \"department = 'COMMITTEE FOR PUBLIC COUNSEL SERVICES (CPC)' AND \"\\\n",
    "                                                            \"budget_fiscal_year =2017\", limit =999999))"
   ]
  },
  {
   "cell_type": "code",
   "execution_count": null,
   "metadata": {},
   "outputs": [],
   "source": [
    "CPCS_payroll[\"pay_total_actual\"] = CPCS_payroll[\"pay_total_actual\"].astype(float)\n",
    "CPCS_expenditures[\"amount\"] = CPCS_expenditures[\"amount\"].astype(float)\n"
   ]
  },
  {
   "cell_type": "code",
   "execution_count": null,
   "metadata": {},
   "outputs": [],
   "source": [
    "CPCS_expenditures= CPCS_expenditures[((CPCS_expenditures[\"appropriation_type\"] != \"(4FN) FEDERAL GRANTS\"))]"
   ]
  },
  {
   "cell_type": "code",
   "execution_count": null,
   "metadata": {},
   "outputs": [],
   "source": [
    "CPCS_2016_payroll = CPCS_payroll[CPCS_payroll[\"year\"]==\"2016\"][\"pay_total_actual\"].sum()\n",
    "CPCS_2017_payroll = CPCS_payroll[CPCS_payroll[\"year\"]==\"2017\"][\"pay_total_actual\"].sum()"
   ]
  },
  {
   "cell_type": "code",
   "execution_count": null,
   "metadata": {},
   "outputs": [],
   "source": [
    "public_counsel_services = CPCS_expenditures[CPCS_expenditures[\"object_code\"].str.contains(\"R24\")]"
   ]
  },
  {
   "cell_type": "code",
   "execution_count": null,
   "metadata": {},
   "outputs": [],
   "source": [
    "CPCS_2017_payroll_redone = np.mean([CPCS_2016_payroll, CPCS_2017_payroll]) + public_counsel_services[\"amount\"].sum()"
   ]
  },
  {
   "cell_type": "code",
   "execution_count": null,
   "metadata": {},
   "outputs": [],
   "source": [
    "np.isclose(np.mean([CPCS_2016_payroll, CPCS_2017_payroll]) + public_counsel_services[\"amount\"].sum(), \n",
    "           payroll_df.loc[\"COMMITTEE FOR PUBLIC COUNSEL SERVICES (CPC)\", 2017])"
   ]
  },
  {
   "cell_type": "markdown",
   "metadata": {},
   "source": [
    "Ok great. Want to be absolutely sure that R24 is being handled the right way. If R24 comes through payroll could it be counted twice? Possibly yes. So add code to RR_correction that removes payroll dollars from our public counsel df. Shouldn't effect final results"
   ]
  },
  {
   "cell_type": "code",
   "execution_count": null,
   "metadata": {},
   "outputs": [],
   "source": [
    "CPCS = agencies[\"CPCS\"]"
   ]
  },
  {
   "cell_type": "code",
   "execution_count": null,
   "metadata": {},
   "outputs": [],
   "source": [
    "CPCS.R24_by_year"
   ]
  },
  {
   "cell_type": "code",
   "execution_count": null,
   "metadata": {},
   "outputs": [],
   "source": [
    "CPCS.payroll_by_year"
   ]
  },
  {
   "cell_type": "code",
   "execution_count": null,
   "metadata": {},
   "outputs": [],
   "source": [
    "payroll_df.loc[\"COMMITTEE FOR PUBLIC COUNSEL SERVICES (CPC)\"]"
   ]
  },
  {
   "cell_type": "markdown",
   "metadata": {},
   "source": [
    "## MBTA"
   ]
  },
  {
   "cell_type": "markdown",
   "metadata": {},
   "source": [
    "MBTA payroll is more complex. Payroll record starts in 2017. For years 2015 and 2017 there are pdf's of earnings posted on the MBTA's website that are used as a stand-in. So the data available is:\n",
    " - 2015: pdf\n",
    " - 2017: pdf and cthru (pdf is used)\n",
    " - 2018: cthru\n",
    " - 2019: cthru\n",
    "Usually fiscal year 2016 would be an average of 2015 and 2016. Because there is no 2016 data, only 2015 data is used. Likewise for 2017, only 2017 data is used. 2018 and 2019 are averages of 2017/2018 and 2018/2019"
   ]
  },
  {
   "cell_type": "markdown",
   "metadata": {},
   "source": [
    "First thing to check: does pdf scanner work correctly? To answer this, put in print statements. Did that, all seems gravy. To re-check all I need to do is move .json files with scraped results to another folder and the print statements tell me if it's working"
   ]
  },
  {
   "cell_type": "code",
   "execution_count": 20,
   "metadata": {
    "scrolled": false
   },
   "outputs": [],
   "source": [
    "MBTA_payroll = pd.DataFrame(client.get(\"rxhc-k6iz\", where = \"department_division = 'Massachusetts Bay Transportation Authority (MBT)' AND \"\\\n",
    "                                                            \"Year >= 2018 AND YEAR <=2019\", limit =999999))"
   ]
  },
  {
   "cell_type": "code",
   "execution_count": 21,
   "metadata": {
    "scrolled": false
   },
   "outputs": [],
   "source": [
    "MBTA_payroll[\"pay_total_actual\"] = MBTA_payroll[\"pay_total_actual\"].astype(float)\n",
    "MBTA_cop_payroll = MBTA_payroll[(MBTA_payroll[\"position_title\"].str.contains(\"(?i)police\")) |\n",
    "                                (MBTA_payroll[\"position_title\"].str.contains(\"(?i)sergeant\"))]\n",
    "MBTA_cop_payroll_2018 = MBTA_cop_payroll[MBTA_cop_payroll[\"year\"]==\"2018\"][\"pay_total_actual\"].sum()\n",
    "MBTA_cop_payroll_2019 = MBTA_cop_payroll[MBTA_cop_payroll[\"year\"]==\"2019\"][\"pay_total_actual\"].sum()"
   ]
  },
  {
   "cell_type": "code",
   "execution_count": 18,
   "metadata": {},
   "outputs": [],
   "source": [
    "assert(np.isclose(np.mean([MBTA_cop_payroll_2018, MBTA_cop_payroll_2019]), payroll_df.loc[\"MASSACHUSETTS BAY TRANSPORTATION AUTHORITY (MBT)\", 2019]))"
   ]
  },
  {
   "cell_type": "markdown",
   "metadata": {},
   "source": [
    "I checked the scraper by hand on Monday Dec 20"
   ]
  },
  {
   "cell_type": "markdown",
   "metadata": {},
   "source": [
    "## Statewide Payroll"
   ]
  },
  {
   "cell_type": "code",
   "execution_count": 22,
   "metadata": {
    "scrolled": true
   },
   "outputs": [],
   "source": [
    "sys.path.insert(0, os.path.abspath(\"../../fringe\"))\n",
    "from Statewide_Fringe import Total_Statewide_Payroll"
   ]
  },
  {
   "cell_type": "code",
   "execution_count": 23,
   "metadata": {},
   "outputs": [],
   "source": [
    "total_statewide_payroll = Total_Statewide_Payroll(client)"
   ]
  },
  {
   "cell_type": "code",
   "execution_count": 25,
   "metadata": {},
   "outputs": [],
   "source": [
    "total_payroll_FY_2018 = pd.DataFrame(client.get(\"rxhc-k6iz\", where = \"Year >= 2017 AND YEAR <=2018\", limit =999999))"
   ]
  },
  {
   "cell_type": "code",
   "execution_count": 27,
   "metadata": {},
   "outputs": [],
   "source": [
    "total_payroll_FY_2018[\"pay_total_actual\"] = total_payroll_FY_2018[\"pay_total_actual\"].astype(float)"
   ]
  },
  {
   "cell_type": "code",
   "execution_count": 32,
   "metadata": {
    "scrolled": true
   },
   "outputs": [],
   "source": [
    "total_payroll_2017 = total_payroll_FY_2018[total_payroll_FY_2018[\"year\"]==\"2017\"][\"pay_total_actual\"].sum()\n",
    "total_payroll_2018 = total_payroll_FY_2018[total_payroll_FY_2018[\"year\"]==\"2018\"][\"pay_total_actual\"].sum()"
   ]
  },
  {
   "cell_type": "code",
   "execution_count": 33,
   "metadata": {},
   "outputs": [],
   "source": [
    "assert(np.isclose(np.mean([total_payroll_2017, total_payroll_2018]), total_statewide_payroll.loc[2018]))"
   ]
  },
  {
   "cell_type": "markdown",
   "metadata": {},
   "source": [
    "Ok great that should have been easy lol"
   ]
  },
  {
   "cell_type": "markdown",
   "metadata": {},
   "source": [
    "## Boston"
   ]
  },
  {
   "cell_type": "markdown",
   "metadata": {},
   "source": [
    "Cop Pay: get earnings dataset for each year, break it down by title and whatnot to make sure it all looks good"
   ]
  },
  {
   "cell_type": "markdown",
   "metadata": {},
   "source": [
    "Re-Download FY 2018 earnings dataset"
   ]
  },
  {
   "cell_type": "code",
   "execution_count": 5,
   "metadata": {},
   "outputs": [],
   "source": [
    "boston_2018_earnings = pd.read_csv(\"Boston_2018_Earnings_forCheck.csv\", engine=\"python\")\n",
    "boston_2019_earnings = pd.read_csv(\"Boston_Earnings_2019.csv\", engine=\"python\")"
   ]
  },
  {
   "cell_type": "code",
   "execution_count": 6,
   "metadata": {},
   "outputs": [],
   "source": [
    "boston_2018_earnings = boston_2018_earnings[boston_2018_earnings[\"TOTAL EARNINGS\"] != \"TOTAL EARNINGS\"]"
   ]
  },
  {
   "cell_type": "code",
   "execution_count": 7,
   "metadata": {
    "scrolled": true
   },
   "outputs": [],
   "source": [
    "boston_2018_earnings[\"TOTAL EARNINGS\"] = boston_2018_earnings[\"TOTAL EARNINGS\"].str.replace(\",\",\"\").astype(float)\n",
    "boston_2019_earnings[\"TOTAL EARNINGS\"] = boston_2019_earnings[\"TOTAL EARNINGS\"].str.replace(\",\",\"\").astype(float)"
   ]
  },
  {
   "cell_type": "code",
   "execution_count": 8,
   "metadata": {
    "scrolled": true
   },
   "outputs": [],
   "source": [
    "police_earnings_2018 = boston_2018_earnings[boston_2018_earnings[\"DEPARTMENT_NAME\"]==\"Boston Police Department\"]\n",
    "police_earnings_2019 = boston_2019_earnings[boston_2019_earnings[\"DEPARTMENT_NAME\"]==\"Boston Police Department\"]"
   ]
  },
  {
   "cell_type": "code",
   "execution_count": 14,
   "metadata": {},
   "outputs": [],
   "source": [
    "bostonPD = agencies[\"Boston PD\"]"
   ]
  },
  {
   "cell_type": "code",
   "execution_count": 15,
   "metadata": {},
   "outputs": [],
   "source": [
    "assert(np.isclose(np.mean([police_earnings_2018[\"TOTAL EARNINGS\"].sum(),police_earnings_2019[\"TOTAL EARNINGS\"].sum()]), bostonPD.payroll_by_year.loc[2019]))"
   ]
  },
  {
   "cell_type": "code",
   "execution_count": 17,
   "metadata": {
    "scrolled": false
   },
   "outputs": [],
   "source": [
    "sys.path.insert(0, os.path.abspath(\"../../pensions\"))\n",
    "from LocalPD_True_Payroll import remove_schools, True_Earnings"
   ]
  },
  {
   "cell_type": "markdown",
   "metadata": {},
   "source": [
    "Check that code produces correct thing\n"
   ]
  },
  {
   "cell_type": "code",
   "execution_count": 18,
   "metadata": {},
   "outputs": [],
   "source": [
    "total_earnings, PD_fraction_non_teacher, PD_fraction_total, PD_payroll, raw_data = True_Earnings(\"Boston PD\")"
   ]
  },
  {
   "cell_type": "code",
   "execution_count": 27,
   "metadata": {},
   "outputs": [],
   "source": [
    "Boston_PD_total_earnings, Boston_no_teachers, Boston_total_earnings = raw_data"
   ]
  },
  {
   "cell_type": "code",
   "execution_count": 28,
   "metadata": {},
   "outputs": [
    {
     "data": {
      "text/plain": [
       "TITLE\n",
       "Police Officer                    6563\n",
       "Police Detective                  1519\n",
       "School Traffic Supv                944\n",
       "Police Sergeant                    724\n",
       "Police Sergeant (Det)              596\n",
       "                                  ... \n",
       "Executive Coordinator                1\n",
       "Technology Support Specialist        1\n",
       "Director of Projects & Initiat       1\n",
       "Captain/Academy Instructor           1\n",
       "Police Offc RadioTech                1\n",
       "Length: 199, dtype: int64"
      ]
     },
     "execution_count": 28,
     "metadata": {},
     "output_type": "execute_result"
    }
   ],
   "source": [
    "PD_total_earnings.groupby(\"TITLE\").size().sort_values(ascending=False)"
   ]
  },
  {
   "cell_type": "code",
   "execution_count": 37,
   "metadata": {},
   "outputs": [
    {
     "data": {
      "text/plain": [
       "TITLE\n",
       "Police Officer                    6563\n",
       "Paraprofessional                  6354\n",
       "Fire Fighter                      4059\n",
       "Lunch Hour Monitors               1840\n",
       "Part-Time Cafeteria Attendant     1780\n",
       "                                  ... \n",
       "Sr Staff Attorney (DND)              1\n",
       "Construction Supervisor              1\n",
       "Mngr of Exhibitations&Programm       1\n",
       "Mgr of Rare Books&Manuscripts        1\n",
       "Prin Clerk Typist 31                 1\n",
       "Length: 1753, dtype: int64"
      ]
     },
     "execution_count": 37,
     "metadata": {},
     "output_type": "execute_result"
    }
   ],
   "source": [
    "Boston_no_teachers.groupby(\"TITLE\").size().sort_values(ascending=False)"
   ]
  },
  {
   "cell_type": "code",
   "execution_count": 36,
   "metadata": {},
   "outputs": [
    {
     "data": {
      "text/plain": [
       "TITLE\n",
       "Teacher                           26971\n",
       "Police Officer                     6563\n",
       "Paraprofessional                   6354\n",
       "Fire Fighter                       4059\n",
       "Substitute Teacher                 2779\n",
       "                                  ...  \n",
       "Street Lighting Compliance Spc        1\n",
       "Grants Administrator                  1\n",
       "Chief Officer (Acad)                  1\n",
       "Chief Operating Officer               1\n",
       "Mgr of Rare Books&Manuscripts         1\n",
       "Length: 1771, dtype: int64"
      ]
     },
     "execution_count": 36,
     "metadata": {},
     "output_type": "execute_result"
    }
   ],
   "source": [
    "Boston_total_earnings.groupby(\"TITLE\").size().sort_values(ascending=False)"
   ]
  },
  {
   "cell_type": "markdown",
   "metadata": {},
   "source": [
    "Ok that data is all quite clean. Next thing to check is make sure that I get non-teacher payroll at least mostly correct. It's possible I count some teachers towards what is supposed to be non-teacher citywide payroll because there are so many employers. This would result in a minor undercount of police pensions. \n"
   ]
  },
  {
   "cell_type": "code",
   "execution_count": 105,
   "metadata": {},
   "outputs": [],
   "source": [
    "boston_2018_earnings = boston_2018_earnings.rename(columns={\"DEPARTMENT_NAME\": \"department\"})\n",
    "boston_2019_earnings = boston_2019_earnings.rename(columns={\"DEPARTMENT_NAME\": \"department\"})\n"
   ]
  },
  {
   "cell_type": "markdown",
   "metadata": {},
   "source": [
    "Eyeball test says that all looks good"
   ]
  },
  {
   "cell_type": "markdown",
   "metadata": {},
   "source": [
    "## Chelsea"
   ]
  },
  {
   "cell_type": "markdown",
   "metadata": {},
   "source": [
    "One thing to double check: we don't have citywide non-teacher fraction for 2016 as we don't have citywide earnings that year. So we assume that change from year to year is linear and take the difference betweeen 2018 and 2017 and subtract it from 2017. Chose simplicity over something arguably more correct as it's not signficiant to final results. \n",
    "Do have the numbers ready so we can say how little it changes "
   ]
  },
  {
   "cell_type": "code",
   "execution_count": 244,
   "metadata": {},
   "outputs": [
    {
     "name": "stdout",
     "output_type": "stream",
     "text": [
      "in add true earnings for  Boston PD\n",
      "PD fraction non-teacher is \n"
     ]
    },
    {
     "data": {
      "text/plain": [
       "2016   0.296\n",
       "2017   0.309\n",
       "2018   0.320\n",
       "2019   0.330\n",
       "dtype: float64"
      ]
     },
     "metadata": {},
     "output_type": "display_data"
    },
    {
     "name": "stdout",
     "output_type": "stream",
     "text": [
      "PD fraction overall is\n"
     ]
    },
    {
     "data": {
      "text/plain": [
       "2016   0.212\n",
       "2017   0.222\n",
       "2018   0.230\n",
       "2019   0.237\n",
       "dtype: float64"
      ]
     },
     "metadata": {},
     "output_type": "display_data"
    },
    {
     "name": "stdout",
     "output_type": "stream",
     "text": [
      "\n",
      "in add true earnings for  Chelsea PD\n",
      "PD fraction non-teacher is \n"
     ]
    },
    {
     "data": {
      "text/plain": [
       "fiscalyear\n",
       "2017   0.224\n",
       "2018   0.227\n",
       "2019   0.247\n",
       "2016   0.221\n",
       "Name: totalpay, dtype: float64"
      ]
     },
     "metadata": {},
     "output_type": "display_data"
    },
    {
     "name": "stdout",
     "output_type": "stream",
     "text": [
      "PD fraction overall is\n"
     ]
    },
    {
     "data": {
      "text/plain": [
       "fiscalyear\n",
       "2017   0.143\n",
       "2018   0.145\n",
       "2019   0.158\n",
       "2016   0.140\n",
       "Name: totalpay, dtype: float64"
      ]
     },
     "metadata": {},
     "output_type": "display_data"
    },
    {
     "name": "stdout",
     "output_type": "stream",
     "text": [
      "\n",
      "\n"
     ]
    }
   ],
   "source": [
    "yr = list(range(2016,2020))\n",
    "agencies = get_agencies(yr)"
   ]
  },
  {
   "cell_type": "code",
   "execution_count": 245,
   "metadata": {},
   "outputs": [
    {
     "data": {
      "text/plain": [
       "0.14495851262100326"
      ]
     },
     "execution_count": 245,
     "metadata": {},
     "output_type": "execute_result"
    }
   ],
   "source": [
    "chelsea_2018_police[\"totalpay\"].sum()/chelsea_2018_earnings[\"totalpay\"].sum()"
   ]
  },
  {
   "cell_type": "code",
   "execution_count": 232,
   "metadata": {},
   "outputs": [],
   "source": [
    "chelsea_2018_earnings = pd.read_csv(\"Chelsea_Payroll_2018_forCheck.csv\")"
   ]
  },
  {
   "cell_type": "markdown",
   "metadata": {},
   "source": [
    "First step: make sure we are getting cops correctly. Data seems clean"
   ]
  },
  {
   "cell_type": "code",
   "execution_count": 147,
   "metadata": {},
   "outputs": [],
   "source": [
    "chelsea_2018_police = chelsea_2018_earnings[chelsea_2018_earnings[\"department\"]==\"POLICE DEPARTMENT\"]\n"
   ]
  },
  {
   "cell_type": "code",
   "execution_count": 225,
   "metadata": {},
   "outputs": [
    {
     "data": {
      "text/plain": [
       "fiscalyear\n",
       "2017   12165124.100\n",
       "2018   12770764.810\n",
       "2019   14734808.950\n",
       "2016    9685922.000\n",
       "Name: totalpay, dtype: float64"
      ]
     },
     "execution_count": 225,
     "metadata": {},
     "output_type": "execute_result"
    }
   ],
   "source": [
    "chelseaPD = agencies[\"Chelsea PD\"]\n",
    "chelseaPD.payroll_by_year"
   ]
  },
  {
   "cell_type": "markdown",
   "metadata": {},
   "source": [
    "Second step: develop a way to pull out MTRS employees correctly "
   ]
  },
  {
   "cell_type": "code",
   "execution_count": 238,
   "metadata": {},
   "outputs": [],
   "source": [
    "chelsea_2018_no_school, chelsea_2018_school = remove_schools(chelsea_2018_earnings, \"Chelsea\", \"position\")\n"
   ]
  },
  {
   "cell_type": "markdown",
   "metadata": {},
   "source": [
    "Ok that all passes eyeball test. Last thing to check is whether 2016 number matches. Which it does."
   ]
  },
  {
   "cell_type": "markdown",
   "metadata": {},
   "source": [
    "Check that my code produces the correct thing"
   ]
  },
  {
   "cell_type": "code",
   "execution_count": 44,
   "metadata": {},
   "outputs": [],
   "source": [
    "total_earnings, PD_fraction_non_teacher, PD_fraction_total, PD_payroll, raw_data = True_Earnings(\"Chelsea PD\")"
   ]
  },
  {
   "cell_type": "code",
   "execution_count": 51,
   "metadata": {},
   "outputs": [],
   "source": [
    "pd.set_option(\"display.max_rows\",20)\n",
    "Chelsea_PD_total_earnings, Chelsea_no_teachers, Chelsea_total_earnings = raw_data"
   ]
  },
  {
   "cell_type": "code",
   "execution_count": 52,
   "metadata": {},
   "outputs": [
    {
     "data": {
      "text/plain": [
       "position\n",
       "PATROLMAN                         27699\n",
       "SERGEANT                           5495\n",
       "LIEUTENANT POLICE DEPARTMENT       3017\n",
       "CAPTAIN POLICE DEPARTMENT          1607\n",
       "DETAIL RET POLICE PATROLMAN         692\n",
       "                                  ...  \n",
       "COMMUNITY YOUTH & FAMILIES ENG       77\n",
       "DOMESTIC VIOLENCE ADVOCATE           75\n",
       "RETIRED DETAIL POLICE CAPTAIN        47\n",
       "CRIME ANALYST                        33\n",
       "STUDENT OFFICER                       5\n",
       "Length: 22, dtype: int64"
      ]
     },
     "execution_count": 52,
     "metadata": {},
     "output_type": "execute_result"
    }
   ],
   "source": [
    "Chelsea_PD_total_earnings.groupby(\"position\").size().sort_values(ascending=False)"
   ]
  },
  {
   "cell_type": "code",
   "execution_count": 57,
   "metadata": {},
   "outputs": [
    {
     "data": {
      "text/plain": [
       "22       EARLY LEARNING CENTER\n",
       "28                  SYSTEMWIDE\n",
       "110      EARLY LEARNING CENTER\n",
       "120      EARLY LEARNING CENTER\n",
       "127                 SYSTEMWIDE\n",
       "                 ...          \n",
       "84797    EARLY LEARNING CENTER\n",
       "84863    EARLY LEARNING CENTER\n",
       "84872    EARLY LEARNING CENTER\n",
       "84895    EARLY LEARNING CENTER\n",
       "85022    EARLY LEARNING CENTER\n",
       "Name: department, Length: 6340, dtype: object"
      ]
     },
     "execution_count": 57,
     "metadata": {},
     "output_type": "execute_result"
    }
   ],
   "source": [
    "Chelsea_no_teachers[Chelsea_no_teachers[\"position\"].str.contains(\"(?i)teacher\")][\"department\"]"
   ]
  },
  {
   "cell_type": "code",
   "execution_count": 54,
   "metadata": {},
   "outputs": [
    {
     "data": {
      "text/plain": [
       "position\n",
       "TEACHER                          48783\n",
       "PARAPROFESSIONAL- TEACH AIDES    29714\n",
       "PATROLMAN                        27699\n",
       "FIREFIGHTER                      17330\n",
       "BUILDING MAINTENANCE MAN          7741\n",
       "                                 ...  \n",
       "COMMUNITY SCHOOLS                    6\n",
       "STUDENT OFFICER                      5\n",
       "WEEKEND SUPERVISOR                   2\n",
       "TEMP WIRE INSPECTOR                  2\n",
       "BAKING INSTRUCTOR                    1\n",
       "Length: 261, dtype: int64"
      ]
     },
     "execution_count": 54,
     "metadata": {},
     "output_type": "execute_result"
    }
   ],
   "source": [
    "Chelsea_total_earnings.groupby(\"position\").size().sort_values(ascending=False)"
   ]
  },
  {
   "cell_type": "markdown",
   "metadata": {},
   "source": [
    "## Revere"
   ]
  },
  {
   "cell_type": "markdown",
   "metadata": {},
   "source": [
    "Double check cop, citywide earnings against budget pdf"
   ]
  },
  {
   "cell_type": "markdown",
   "metadata": {},
   "source": [
    "**Important to say in methodology: Revere has seperate systems for pensions and healthcare for teachers**"
   ]
  },
  {
   "cell_type": "code",
   "execution_count": 7,
   "metadata": {},
   "outputs": [],
   "source": [
    "reverePD = agencies[\"Revere PD\"]"
   ]
  },
  {
   "cell_type": "code",
   "execution_count": 8,
   "metadata": {},
   "outputs": [
    {
     "data": {
      "text/plain": [
       "2016   9047062.000\n",
       "2017   9083601.000\n",
       "2018   9357467.000\n",
       "2019   9735336.000\n",
       "Name: Payroll Adopted, dtype: float64"
      ]
     },
     "execution_count": 8,
     "metadata": {},
     "output_type": "execute_result"
    }
   ],
   "source": [
    "reverePD.payroll_by_year"
   ]
  },
  {
   "cell_type": "code",
   "execution_count": 10,
   "metadata": {},
   "outputs": [
    {
     "data": {
      "text/plain": [
       "2016   0.333\n",
       "2017   0.337\n",
       "2018   0.335\n",
       "2019   0.349\n",
       "dtype: object"
      ]
     },
     "execution_count": 10,
     "metadata": {},
     "output_type": "execute_result"
    }
   ],
   "source": [
    "reverePD.PD_fraction"
   ]
  },
  {
   "cell_type": "code",
   "execution_count": 18,
   "metadata": {},
   "outputs": [],
   "source": [
    "total_non_teacher_payroll_2016 = 27190424\n",
    "total_non_teacher_payroll_2017 = 26989489\n",
    "\n",
    "total_non_teacher_payroll_2018 = 27909365 \n",
    "total_non_teacher_payroll_2019 = total_non_teacher_payroll_2018"
   ]
  },
  {
   "cell_type": "code",
   "execution_count": 24,
   "metadata": {},
   "outputs": [],
   "source": [
    "assert np.isclose(reverePD.payroll_by_year.loc[2016]/total_non_teacher_payroll_2016, reverePD.PD_fraction.loc[2016])\n",
    "assert np.isclose(reverePD.payroll_by_year.loc[2017]/total_non_teacher_payroll_2017, reverePD.PD_fraction.loc[2017])\n",
    "assert np.isclose(reverePD.payroll_by_year.loc[2018]/total_non_teacher_payroll_2018, reverePD.PD_fraction.loc[2018])\n",
    "assert np.isclose(reverePD.payroll_by_year.loc[2019]/total_non_teacher_payroll_2019, reverePD.PD_fraction.loc[2019])"
   ]
  },
  {
   "cell_type": "markdown",
   "metadata": {},
   "source": [
    "## Winthrop"
   ]
  },
  {
   "cell_type": "markdown",
   "metadata": {},
   "source": [
    "Double check cop earnings, we get citywide fraction from Revere"
   ]
  },
  {
   "cell_type": "code",
   "execution_count": 25,
   "metadata": {},
   "outputs": [
    {
     "data": {
      "text/plain": [
       "2016   2842909.000\n",
       "2017   2927191.000\n",
       "2018   3066911.000\n",
       "2019   3803402.000\n",
       "Name: Payroll Expenditures, dtype: float64"
      ]
     },
     "execution_count": 25,
     "metadata": {},
     "output_type": "execute_result"
    }
   ],
   "source": [
    "winthropPD = agencies[\"Winthrop PD\"]\n",
    "winthropPD.payroll_by_year"
   ]
  },
  {
   "cell_type": "markdown",
   "metadata": {},
   "source": [
    "Important for refactor: 2016, 2017 numbers are on page 67 of FY 19 budget.  2018, 2019 are on page 73 of FY 21 budget"
   ]
  },
  {
   "cell_type": "code",
   "execution_count": null,
   "metadata": {},
   "outputs": [],
   "source": []
  }
 ],
 "metadata": {
  "kernelspec": {
   "display_name": "Python 3",
   "language": "python",
   "name": "python3"
  },
  "language_info": {
   "codemirror_mode": {
    "name": "ipython",
    "version": 3
   },
   "file_extension": ".py",
   "mimetype": "text/x-python",
   "name": "python",
   "nbconvert_exporter": "python",
   "pygments_lexer": "ipython3",
   "version": "3.7.6"
  }
 },
 "nbformat": 4,
 "nbformat_minor": 4
}
