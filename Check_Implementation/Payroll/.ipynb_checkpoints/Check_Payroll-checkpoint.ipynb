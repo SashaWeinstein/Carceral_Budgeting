{
 "cells": [
  {
   "cell_type": "markdown",
   "metadata": {},
   "source": [
    "# Check Payroll\n",
    "Do each agency seperately. Then do statewide and citywide payroll because we need those numbers for pension and fringe calculations"
   ]
  },
  {
   "cell_type": "markdown",
   "metadata": {},
   "source": [
    "## Set up environment"
   ]
  },
  {
   "cell_type": "code",
   "execution_count": 21,
   "metadata": {},
   "outputs": [
    {
     "name": "stdout",
     "output_type": "stream",
     "text": [
      "The autoreload extension is already loaded. To reload it, use:\n",
      "  %reload_ext autoreload\n"
     ]
    }
   ],
   "source": [
    "%load_ext autoreload\n",
    "%autoreload 2"
   ]
  },
  {
   "cell_type": "code",
   "execution_count": 22,
   "metadata": {},
   "outputs": [],
   "source": [
    "import warnings\n",
    "warnings.simplefilter(action='ignore', category=FutureWarning)\n",
    "\n",
    "import pandas as pd\n",
    "import os\n",
    "import sys\n",
    "import numpy as np"
   ]
  },
  {
   "cell_type": "code",
   "execution_count": 23,
   "metadata": {},
   "outputs": [],
   "source": [
    "sys.path.insert(0, os.path.abspath(\"../..\"))"
   ]
  },
  {
   "cell_type": "markdown",
   "metadata": {},
   "source": [
    "## Get Agencies"
   ]
  },
  {
   "cell_type": "code",
   "execution_count": 24,
   "metadata": {},
   "outputs": [],
   "source": [
    "from Initialize_Agencies_3Ver import get_agencies"
   ]
  },
  {
   "cell_type": "code",
   "execution_count": 25,
   "metadata": {},
   "outputs": [
    {
     "name": "stderr",
     "output_type": "stream",
     "text": [
      "/Users/alexanderweinstein/Documents/Harris/Summer2020/Carceral_Budgeting/Exploratory/Agency_Classes_2Ver.py:161: DtypeWarning: Columns (16) have mixed types.Specify dtype option on import or set low_memory=False.\n",
      "  self.get_expenditures_by_year()\n",
      "/Users/alexanderweinstein/Documents/Harris/Summer2020/Carceral_Budgeting/Exploratory/Agency_Classes_2Ver.py:155: DtypeWarning: Columns (16) have mixed types.Specify dtype option on import or set low_memory=False.\n",
      "  self.get_final_costs()\n",
      "/Users/alexanderweinstein/Documents/Harris/Summer2020/Carceral_Budgeting/Exploratory/Agency_Classes_2Ver.py:161: DtypeWarning: Columns (15,16) have mixed types.Specify dtype option on import or set low_memory=False.\n",
      "  self.get_expenditures_by_year()\n"
     ]
    },
    {
     "name": "stdout",
     "output_type": "stream",
     "text": [
      "\n"
     ]
    }
   ],
   "source": [
    "yr = list(range(2016,2020))\n",
    "agencies = get_agencies(yr)"
   ]
  },
  {
   "cell_type": "markdown",
   "metadata": {},
   "source": [
    "## Save payroll to single dataframe"
   ]
  },
  {
   "cell_type": "code",
   "execution_count": 26,
   "metadata": {},
   "outputs": [],
   "source": [
    "payroll_df = pd.DataFrame(columns=yr)\n",
    "for _, agency in agencies.items():\n",
    "    payroll_df.loc[agency.official_name,:] = agency.payroll_by_year"
   ]
  },
  {
   "cell_type": "code",
   "execution_count": 27,
   "metadata": {},
   "outputs": [
    {
     "data": {
      "text/html": [
       "<div>\n",
       "<style scoped>\n",
       "    .dataframe tbody tr th:only-of-type {\n",
       "        vertical-align: middle;\n",
       "    }\n",
       "\n",
       "    .dataframe tbody tr th {\n",
       "        vertical-align: top;\n",
       "    }\n",
       "\n",
       "    .dataframe thead th {\n",
       "        text-align: right;\n",
       "    }\n",
       "</style>\n",
       "<table border=\"1\" class=\"dataframe\">\n",
       "  <thead>\n",
       "    <tr style=\"text-align: right;\">\n",
       "      <th></th>\n",
       "      <th>2016</th>\n",
       "      <th>2017</th>\n",
       "      <th>2018</th>\n",
       "      <th>2019</th>\n",
       "    </tr>\n",
       "  </thead>\n",
       "  <tbody>\n",
       "    <tr>\n",
       "      <th>TRIAL COURT (TRC)</th>\n",
       "      <td>489415695.445</td>\n",
       "      <td>490891054.435</td>\n",
       "      <td>506385282.585</td>\n",
       "      <td>522130195.970</td>\n",
       "    </tr>\n",
       "    <tr>\n",
       "      <th>COMMITTEE FOR PUBLIC COUNSEL SERVICES (CPC)</th>\n",
       "      <td>203113266.035</td>\n",
       "      <td>219228501.670</td>\n",
       "      <td>219057567.460</td>\n",
       "      <td>231508253.240</td>\n",
       "    </tr>\n",
       "    <tr>\n",
       "      <th>DEPARTMENT OF CORRECTION (DOC)</th>\n",
       "      <td>410178141.775</td>\n",
       "      <td>408294889.700</td>\n",
       "      <td>415990366.315</td>\n",
       "      <td>431185884.820</td>\n",
       "    </tr>\n",
       "    <tr>\n",
       "      <th>SUFFOLK DISTRICT ATTORNEY (SUF)</th>\n",
       "      <td>15567170.580</td>\n",
       "      <td>15828355.790</td>\n",
       "      <td>16032724.705</td>\n",
       "      <td>17406111.000</td>\n",
       "    </tr>\n",
       "    <tr>\n",
       "      <th>SHERIFF DEPARTMENT SUFFOLK (SDS)</th>\n",
       "      <td>81354227.820</td>\n",
       "      <td>82184620.695</td>\n",
       "      <td>84160044.160</td>\n",
       "      <td>85087774.225</td>\n",
       "    </tr>\n",
       "    <tr>\n",
       "      <th>DEPARTMENT OF STATE POLICE (POL)</th>\n",
       "      <td>357898934.130</td>\n",
       "      <td>368665415.870</td>\n",
       "      <td>373201681.440</td>\n",
       "      <td>368083909.125</td>\n",
       "    </tr>\n",
       "    <tr>\n",
       "      <th>MASSACHUSETTS BAY TRANSPORTATION AUTHORITY (MBT)</th>\n",
       "      <td>28140924.000</td>\n",
       "      <td>22662116.000</td>\n",
       "      <td>23439939.835</td>\n",
       "      <td>27929199.385</td>\n",
       "    </tr>\n",
       "    <tr>\n",
       "      <th>DISTRICT ATTORNEY ASSOCIATION (DAA)</th>\n",
       "      <td>1031232.240</td>\n",
       "      <td>1023074.725</td>\n",
       "      <td>1054174.475</td>\n",
       "      <td>1087785.700</td>\n",
       "    </tr>\n",
       "    <tr>\n",
       "      <th>SHERIFFS DEPARTMENT ASSOCIATION (SDA)</th>\n",
       "      <td>244370.730</td>\n",
       "      <td>234981.225</td>\n",
       "      <td>242014.830</td>\n",
       "      <td>222441.105</td>\n",
       "    </tr>\n",
       "    <tr>\n",
       "      <th>PAROLE BOARD (PAR)</th>\n",
       "      <td>14879626.495</td>\n",
       "      <td>14123440.940</td>\n",
       "      <td>14447276.080</td>\n",
       "      <td>15573981.885</td>\n",
       "    </tr>\n",
       "    <tr>\n",
       "      <th>MUNICIPAL POLICE TRAINING COMMITTEE (CJT)</th>\n",
       "      <td>3864718.870</td>\n",
       "      <td>3564716.185</td>\n",
       "      <td>3516473.000</td>\n",
       "      <td>3770698.305</td>\n",
       "    </tr>\n",
       "    <tr>\n",
       "      <th>SUPREME JUDICIAL COURT (SJC)</th>\n",
       "      <td>8632678.685</td>\n",
       "      <td>8760520.900</td>\n",
       "      <td>8947646.010</td>\n",
       "      <td>9254353.325</td>\n",
       "    </tr>\n",
       "    <tr>\n",
       "      <th>APPEALS COURT (APC)</th>\n",
       "      <td>11620387.455</td>\n",
       "      <td>11626037.275</td>\n",
       "      <td>12013239.960</td>\n",
       "      <td>12375680.370</td>\n",
       "    </tr>\n",
       "    <tr>\n",
       "      <th>Boston PD</th>\n",
       "      <td>373362553.800</td>\n",
       "      <td>389932425.440</td>\n",
       "      <td>403980309.855</td>\n",
       "      <td>416204303.370</td>\n",
       "    </tr>\n",
       "    <tr>\n",
       "      <th>Chelsea PD</th>\n",
       "      <td>9685922.000</td>\n",
       "      <td>12165124.100</td>\n",
       "      <td>12467944.455</td>\n",
       "      <td>13752786.880</td>\n",
       "    </tr>\n",
       "    <tr>\n",
       "      <th>Revere PD</th>\n",
       "      <td>9047062.000</td>\n",
       "      <td>9083601.000</td>\n",
       "      <td>9357467.000</td>\n",
       "      <td>9735336.000</td>\n",
       "    </tr>\n",
       "    <tr>\n",
       "      <th>Winthrop PD</th>\n",
       "      <td>2842909.000</td>\n",
       "      <td>2927191.000</td>\n",
       "      <td>3066911.000</td>\n",
       "      <td>3803402.000</td>\n",
       "    </tr>\n",
       "  </tbody>\n",
       "</table>\n",
       "</div>"
      ],
      "text/plain": [
       "                                                          2016          2017  \\\n",
       "TRIAL COURT (TRC)                                489415695.445 490891054.435   \n",
       "COMMITTEE FOR PUBLIC COUNSEL SERVICES (CPC)      203113266.035 219228501.670   \n",
       "DEPARTMENT OF CORRECTION (DOC)                   410178141.775 408294889.700   \n",
       "SUFFOLK DISTRICT ATTORNEY (SUF)                   15567170.580  15828355.790   \n",
       "SHERIFF DEPARTMENT SUFFOLK (SDS)                  81354227.820  82184620.695   \n",
       "DEPARTMENT OF STATE POLICE (POL)                 357898934.130 368665415.870   \n",
       "MASSACHUSETTS BAY TRANSPORTATION AUTHORITY (MBT)  28140924.000  22662116.000   \n",
       "DISTRICT ATTORNEY ASSOCIATION (DAA)                1031232.240   1023074.725   \n",
       "SHERIFFS DEPARTMENT ASSOCIATION (SDA)               244370.730    234981.225   \n",
       "PAROLE BOARD (PAR)                                14879626.495  14123440.940   \n",
       "MUNICIPAL POLICE TRAINING COMMITTEE (CJT)          3864718.870   3564716.185   \n",
       "SUPREME JUDICIAL COURT (SJC)                       8632678.685   8760520.900   \n",
       "APPEALS COURT (APC)                               11620387.455  11626037.275   \n",
       "Boston PD                                        373362553.800 389932425.440   \n",
       "Chelsea PD                                         9685922.000  12165124.100   \n",
       "Revere PD                                          9047062.000   9083601.000   \n",
       "Winthrop PD                                        2842909.000   2927191.000   \n",
       "\n",
       "                                                          2018          2019  \n",
       "TRIAL COURT (TRC)                                506385282.585 522130195.970  \n",
       "COMMITTEE FOR PUBLIC COUNSEL SERVICES (CPC)      219057567.460 231508253.240  \n",
       "DEPARTMENT OF CORRECTION (DOC)                   415990366.315 431185884.820  \n",
       "SUFFOLK DISTRICT ATTORNEY (SUF)                   16032724.705  17406111.000  \n",
       "SHERIFF DEPARTMENT SUFFOLK (SDS)                  84160044.160  85087774.225  \n",
       "DEPARTMENT OF STATE POLICE (POL)                 373201681.440 368083909.125  \n",
       "MASSACHUSETTS BAY TRANSPORTATION AUTHORITY (MBT)  23439939.835  27929199.385  \n",
       "DISTRICT ATTORNEY ASSOCIATION (DAA)                1054174.475   1087785.700  \n",
       "SHERIFFS DEPARTMENT ASSOCIATION (SDA)               242014.830    222441.105  \n",
       "PAROLE BOARD (PAR)                                14447276.080  15573981.885  \n",
       "MUNICIPAL POLICE TRAINING COMMITTEE (CJT)          3516473.000   3770698.305  \n",
       "SUPREME JUDICIAL COURT (SJC)                       8947646.010   9254353.325  \n",
       "APPEALS COURT (APC)                               12013239.960  12375680.370  \n",
       "Boston PD                                        403980309.855 416204303.370  \n",
       "Chelsea PD                                        12467944.455  13752786.880  \n",
       "Revere PD                                          9357467.000   9735336.000  \n",
       "Winthrop PD                                        3066911.000   3803402.000  "
      ]
     },
     "execution_count": 27,
     "metadata": {},
     "output_type": "execute_result"
    }
   ],
   "source": [
    "payroll_df"
   ]
  },
  {
   "cell_type": "markdown",
   "metadata": {},
   "source": [
    "## Trial Court (checks methodology for all state agencies except CPCS and MBTA)"
   ]
  },
  {
   "cell_type": "code",
   "execution_count": null,
   "metadata": {},
   "outputs": [],
   "source": []
  },
  {
   "cell_type": "markdown",
   "metadata": {},
   "source": [
    "## CPCS"
   ]
  },
  {
   "cell_type": "code",
   "execution_count": null,
   "metadata": {},
   "outputs": [],
   "source": []
  },
  {
   "cell_type": "markdown",
   "metadata": {},
   "source": []
  },
  {
   "cell_type": "markdown",
   "metadata": {},
   "source": [
    "## MBTA"
   ]
  },
  {
   "cell_type": "code",
   "execution_count": null,
   "metadata": {},
   "outputs": [],
   "source": []
  },
  {
   "cell_type": "markdown",
   "metadata": {},
   "source": [
    "## Statewide"
   ]
  },
  {
   "cell_type": "markdown",
   "metadata": {},
   "source": [
    "## Boston"
   ]
  },
  {
   "cell_type": "code",
   "execution_count": null,
   "metadata": {},
   "outputs": [],
   "source": []
  },
  {
   "cell_type": "markdown",
   "metadata": {},
   "source": [
    "## Chelsea"
   ]
  },
  {
   "cell_type": "code",
   "execution_count": null,
   "metadata": {},
   "outputs": [],
   "source": []
  },
  {
   "cell_type": "markdown",
   "metadata": {},
   "source": [
    "## Revere"
   ]
  },
  {
   "cell_type": "code",
   "execution_count": null,
   "metadata": {},
   "outputs": [],
   "source": []
  }
 ],
 "metadata": {
  "kernelspec": {
   "display_name": "Python 3",
   "language": "python",
   "name": "python3"
  },
  "language_info": {
   "codemirror_mode": {
    "name": "ipython",
    "version": 3
   },
   "file_extension": ".py",
   "mimetype": "text/x-python",
   "name": "python",
   "nbconvert_exporter": "python",
   "pygments_lexer": "ipython3",
   "version": "3.7.6"
  }
 },
 "nbformat": 4,
 "nbformat_minor": 4
}
