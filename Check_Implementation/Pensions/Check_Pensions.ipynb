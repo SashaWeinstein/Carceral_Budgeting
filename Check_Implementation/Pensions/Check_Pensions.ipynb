{
 "cells": [
  {
   "cell_type": "markdown",
   "metadata": {},
   "source": [
    "# Check Pensions\n",
    "Payroll fraction was checked in check_payroll notebook. This section requires checking 5 methodologies: the statewide and each municipal. \n",
    "\n",
    "For the statewide we need to get total employer-side contributions and make sure that's correct. Then get pension payouts for each agency, make sure those are correct. Then make sure the calculations are correct\n",
    "\n",
    "For each municipal PD we need to find correct pension line-item and make sure calculation is correct\n"
   ]
  },
  {
   "cell_type": "markdown",
   "metadata": {},
   "source": [
    "## Set up environment"
   ]
  },
  {
   "cell_type": "code",
   "execution_count": 1,
   "metadata": {},
   "outputs": [],
   "source": [
    "%load_ext autoreload\n",
    "%autoreload 2"
   ]
  },
  {
   "cell_type": "code",
   "execution_count": 2,
   "metadata": {},
   "outputs": [],
   "source": [
    "import warnings\n",
    "warnings.simplefilter(action='ignore', category=FutureWarning)\n",
    "\n",
    "import pandas as pd\n",
    "import os\n",
    "import sys\n",
    "import numpy as np\n",
    "from sodapy import Socrata"
   ]
  },
  {
   "cell_type": "code",
   "execution_count": 3,
   "metadata": {},
   "outputs": [],
   "source": [
    "sys.path.insert(0, os.path.abspath(\"../..\"))"
   ]
  },
  {
   "cell_type": "code",
   "execution_count": 4,
   "metadata": {},
   "outputs": [],
   "source": [
    "app_token = \"2Qa1WiG8G4kj1vGVd2noK7zP0\"\n",
    "client = Socrata(\"cthru.data.socrata.com\", app_token)\n",
    "client.timeout = 40"
   ]
  },
  {
   "cell_type": "code",
   "execution_count": 5,
   "metadata": {
    "scrolled": false
   },
   "outputs": [
    {
     "name": "stderr",
     "output_type": "stream",
     "text": [
      "/opt/anaconda3/lib/python3.7/site-packages/pandas/core/frame.py:4133: SettingWithCopyWarning: \n",
      "A value is trying to be set on a copy of a slice from a DataFrame\n",
      "\n",
      "See the caveats in the documentation: https://pandas.pydata.org/pandas-docs/stable/user_guide/indexing.html#returning-a-view-versus-a-copy\n",
      "  errors=errors,\n",
      "/opt/anaconda3/lib/python3.7/site-packages/pandas/core/generic.py:6245: SettingWithCopyWarning: \n",
      "A value is trying to be set on a copy of a slice from a DataFrame\n",
      "\n",
      "See the caveats in the documentation: https://pandas.pydata.org/pandas-docs/stable/user_guide/indexing.html#returning-a-view-versus-a-copy\n",
      "  self._update_inplace(new_data)\n",
      "/Users/alexanderweinstein/Documents/Harris/Summer2020/Carceral_Budgeting/Exploratory/pensions/State_Pensions_2Ver.py:139: SettingWithCopyWarning: \n",
      "A value is trying to be set on a copy of a slice from a DataFrame.\n",
      "Try using .loc[row_indexer,col_indexer] = value instead\n",
      "\n",
      "See the caveats in the documentation: https://pandas.pydata.org/pandas-docs/stable/user_guide/indexing.html#returning-a-view-versus-a-copy\n",
      "  cthru_pensions[\"year\"] = cthru_pensions[\"year\"].astype(int)\n"
     ]
    },
    {
     "name": "stdout",
     "output_type": "stream",
     "text": [
      "contributions by year\n"
     ]
    },
    {
     "data": {
      "text/plain": [
       "budget_fiscal_year\n",
       "2016   1695121996.790\n",
       "2017   1774642712.500\n",
       "2018   1825313115.460\n",
       "2019   1909137852.920\n",
       "2020   1991497887.030\n",
       "Name: amount, dtype: float64"
      ]
     },
     "metadata": {},
     "output_type": "display_data"
    },
    {
     "name": "stderr",
     "output_type": "stream",
     "text": [
      "/Users/alexanderweinstein/Documents/Harris/Summer2020/Carceral_Budgeting/Exploratory/Initialize_Agencies_3Ver.py:5: DtypeWarning: Columns (16) have mixed types.Specify dtype option on import or set low_memory=False.\n",
      "  from Agency_Classes_2Ver import StateAgency, CPCS, MBTA, BostonPD, ChelseaPD, ReverePD, WinthropPD\n",
      "/Users/alexanderweinstein/Documents/Harris/Summer2020/Carceral_Budgeting/Exploratory/Agency_Classes_2Ver.py:189: DtypeWarning: Columns (16) have mixed types.Specify dtype option on import or set low_memory=False.\n",
      "  self.get_expenditures_by_year()\n",
      "/Users/alexanderweinstein/Documents/Harris/Summer2020/Carceral_Budgeting/Exploratory/Agency_Classes_2Ver.py:183: DtypeWarning: Columns (16) have mixed types.Specify dtype option on import or set low_memory=False.\n",
      "  self.get_final_costs()\n",
      "/Users/alexanderweinstein/Documents/Harris/Summer2020/Carceral_Budgeting/Exploratory/Agency_Classes_2Ver.py:189: DtypeWarning: Columns (15,16) have mixed types.Specify dtype option on import or set low_memory=False.\n",
      "  self.get_expenditures_by_year()\n"
     ]
    },
    {
     "name": "stdout",
     "output_type": "stream",
     "text": [
      "pension adjustment for suffolk sheriff worked\n",
      "pensions from normal source:\n"
     ]
    },
    {
     "data": {
      "text/plain": [
       "2015            NaN\n",
       "2016   10198502.890\n",
       "2017   11104931.960\n",
       "2018   12031941.134\n",
       "2019   13335456.190\n",
       "2020            NaN\n",
       "Name: Suffolk_Sheriff, dtype: object"
      ]
     },
     "metadata": {},
     "output_type": "display_data"
    },
    {
     "name": "stdout",
     "output_type": "stream",
     "text": [
      "pensions after adjustment:\n"
     ]
    },
    {
     "data": {
      "text/plain": [
       "2016   14068502.890\n",
       "2017   14974931.960\n",
       "2018   15901941.134\n",
       "2019   17205456.190\n",
       "Name: Suffolk_Sheriff, dtype: object"
      ]
     },
     "metadata": {},
     "output_type": "display_data"
    },
    {
     "name": "stdout",
     "output_type": "stream",
     "text": [
      "non-hidden fringe:\n",
      "budget_fiscal_year\n",
      "2016   3150.000\n",
      "2017   3150.000\n",
      "2018   3150.000\n",
      "2019   2250.000\n",
      "Name: amount, dtype: float64\n",
      "hidden fringe:\n",
      "2016   138612870.218\n",
      "2017   141683565.688\n",
      "2018   133508332.245\n",
      "2019   126709640.613\n",
      "dtype: float64\n",
      "\n"
     ]
    }
   ],
   "source": [
    "from Initialize_Agencies_3Ver import get_agencies\n",
    "yr = list(range(2016,2020))\n",
    "agencies = get_agencies(yr)"
   ]
  },
  {
   "cell_type": "markdown",
   "metadata": {},
   "source": [
    "## Get statewide pension contributions"
   ]
  },
  {
   "cell_type": "code",
   "execution_count": 17,
   "metadata": {},
   "outputs": [],
   "source": [
    "statewide_pension_contribution = pd.DataFrame(client.get(\"pegc-naaa\",\n",
    "                                                         where = \"appropriation_name = '(06121020) STATE RETIREMENT BD COMMONWEALTH PENSION'\", \n",
    "                                                         limit =999999))"
   ]
  },
  {
   "cell_type": "code",
   "execution_count": 18,
   "metadata": {},
   "outputs": [],
   "source": [
    "statewide_pension_contribution[\"amount\"] = statewide_pension_contribution[\"amount\"].astype(float)\n",
    "statewide_pension_contribution[\"budget_fiscal_year\"] = statewide_pension_contribution[\"budget_fiscal_year\"].astype(int)\n",
    "statewide_pension_contribution = statewide_pension_contribution[statewide_pension_contribution[\"object_class\"]==\"(DD) PENSION & INSURANCE RELATED EX\"]\n",
    "statewide_contributions = statewide_pension_contribution.groupby(\"budget_fiscal_year\").sum()[\"amount\"].loc[list(range(2015,2020))]"
   ]
  },
  {
   "cell_type": "code",
   "execution_count": 19,
   "metadata": {},
   "outputs": [
    {
     "data": {
      "text/plain": [
       "object_class\n",
       "(DD) PENSION & INSURANCE RELATED EX   18392003060.490\n",
       "Name: amount, dtype: float64"
      ]
     },
     "execution_count": 19,
     "metadata": {},
     "output_type": "execute_result"
    }
   ],
   "source": [
    "statewide_pension_contribution.groupby(\"object_class\").sum()[\"amount\"].sort_values(ascending=False)"
   ]
  },
  {
   "cell_type": "markdown",
   "metadata": {},
   "source": [
    "## Get statewide pension payouts"
   ]
  },
  {
   "cell_type": "code",
   "execution_count": 20,
   "metadata": {},
   "outputs": [],
   "source": [
    "retirement_payouts = pd.DataFrame(client.get(\"pni4-392n\",\n",
    "                                             where = \"Year>=2015\",\n",
    "                                             limit = 999999))"
   ]
  },
  {
   "cell_type": "code",
   "execution_count": 21,
   "metadata": {},
   "outputs": [],
   "source": [
    "retirement_payouts[\"annual_amount\"] = retirement_payouts[\"annual_amount\"].astype(float)\n",
    "retirement_payouts.rename(columns={\"department_last_worked_in\": \"department\"}, inplace=True)\n",
    "retirement_payouts[\"department\"].fillna(\"None\",inplace=True)\n",
    "retirement_payouts[\"year\"] = retirement_payouts[\"year\"].astype(int)\n",
    "retirement_payouts =retirement_payouts[retirement_payouts[\"retirement_system\"]==\"MSERS\"]"
   ]
  },
  {
   "cell_type": "code",
   "execution_count": 22,
   "metadata": {},
   "outputs": [],
   "source": [
    "statewide_payouts_by_year = retirement_payouts.groupby(\"year\").sum()[\"annual_amount\"]"
   ]
  },
  {
   "cell_type": "code",
   "execution_count": 23,
   "metadata": {},
   "outputs": [],
   "source": [
    "def find_dept(retirement_payouts, dept):\n",
    "    dept_regex = '(?i)' + '|(?i)'.join(dept)\n",
    "    return retirement_payouts[(retirement_payouts[\"department\"].str.contains(dept_regex))]\\\n",
    "                               .groupby([\"department\",\"title_at_retirement\" ]).size().sort_values(ascending=False)"
   ]
  },
  {
   "cell_type": "markdown",
   "metadata": {},
   "source": [
    "### Check Trial Court"
   ]
  },
  {
   "cell_type": "code",
   "execution_count": 24,
   "metadata": {},
   "outputs": [],
   "source": [
    "TRC = agencies[\"trial_court\"]"
   ]
  },
  {
   "cell_type": "code",
   "execution_count": 25,
   "metadata": {},
   "outputs": [],
   "source": [
    "TRC_local_dept = [\"Suffolk Superior Court\",\n",
    "                                  \"Chelsea District Court\", \"Suffolk Cty. Juvenile Court\",\n",
    "                                  \"South Boston District Court\", \"South Boston District  Court\",\n",
    "                                  \"East Boston District Court\", \"Boston Municipal Court\"]\n",
    "TRC_statewide_dept = [\"Trial Court Justice\", \"Probation\",\n",
    "                                                  \"Admin.office/district Court\", \"Office Of Court Management\",\n",
    "                                                  \"General Court\", \"Superior Court Probation\",\n",
    "                                                  \"Trial Court Administration\",\n",
    "                                                  \"Juvenile Court Administration\",\n",
    "                                                  \"Trial Court Cse Unit\",\n",
    "                                                  \"Trial Court Law Libraries\"]\n",
    "TRC_local_payouts = retirement_payouts[retirement_payouts[\"department\"].isin(TRC_local_dept)]\n",
    "TRC_statewide_payouts = retirement_payouts[retirement_payouts[\"department\"].isin(TRC_statewide_dept)]"
   ]
  },
  {
   "cell_type": "markdown",
   "metadata": {},
   "source": [
    "Re-Calculate local 2017"
   ]
  },
  {
   "cell_type": "code",
   "execution_count": 26,
   "metadata": {},
   "outputs": [],
   "source": [
    "TRC_local_payouts_2016 = TRC_local_payouts[TRC_local_payouts[\"year\"]==2016][\"annual_amount\"].sum()\n",
    "TRC_local_payouts_2017 = TRC_local_payouts[TRC_local_payouts[\"year\"]==2017][\"annual_amount\"].sum()"
   ]
  },
  {
   "cell_type": "code",
   "execution_count": 28,
   "metadata": {},
   "outputs": [
    {
     "data": {
      "text/plain": [
       "0.002818983866080156"
      ]
     },
     "execution_count": 28,
     "metadata": {},
     "output_type": "execute_result"
    }
   ],
   "source": [
    "TRC_local_payouts_2017/statewide_payouts_by_year.loc[2017]"
   ]
  },
  {
   "cell_type": "code",
   "execution_count": 29,
   "metadata": {},
   "outputs": [],
   "source": [
    "TRC_local_fraction_FY_2017 = np.mean([TRC_local_payouts_2016/statewide_payouts_by_year.loc[2016], \n",
    "                                      TRC_local_payouts_2017/statewide_payouts_by_year.loc[2017]])\n"
   ]
  },
  {
   "cell_type": "code",
   "execution_count": 30,
   "metadata": {},
   "outputs": [
    {
     "data": {
      "text/plain": [
       "4841901.189367462"
      ]
     },
     "execution_count": 30,
     "metadata": {},
     "output_type": "execute_result"
    }
   ],
   "source": [
    "TRC_local_fraction_FY_2017*statewide_contributions.loc[2017]"
   ]
  },
  {
   "cell_type": "code",
   "execution_count": 31,
   "metadata": {},
   "outputs": [],
   "source": [
    "assert np.isclose(TRC_local_fraction_FY_2017*statewide_contributions.loc[2017], TRC.local_pensions.loc[2017])"
   ]
  },
  {
   "cell_type": "markdown",
   "metadata": {},
   "source": [
    "Re-calculate statewide 2019"
   ]
  },
  {
   "cell_type": "code",
   "execution_count": null,
   "metadata": {},
   "outputs": [],
   "source": [
    "TRC_statewide_payouts_2018 = TRC_statewide_payouts[TRC_statewide_payouts[\"year\"]==2018][\"annual_amount\"].sum()\n",
    "TRC_statewide_payouts_2019 = TRC_statewide_payouts[TRC_statewide_payouts[\"year\"]==2019][\"annual_amount\"].sum()"
   ]
  },
  {
   "cell_type": "code",
   "execution_count": null,
   "metadata": {},
   "outputs": [],
   "source": [
    "TRC_statewide_payouts_2018"
   ]
  },
  {
   "cell_type": "code",
   "execution_count": null,
   "metadata": {},
   "outputs": [],
   "source": [
    "TRC_statewide_fraction_FY_2019 =np.mean([TRC_statewide_payouts_2018/statewide_payouts_by_year.loc[2018],\n",
    "                                         TRC_statewide_payouts_2019/statewide_payouts_by_year.loc[2019]])"
   ]
  },
  {
   "cell_type": "code",
   "execution_count": null,
   "metadata": {},
   "outputs": [],
   "source": [
    "assert np.isclose(TRC_statewide_fraction_FY_2019*statewide_contributions.loc[2019], TRC.pensions.loc[2019] )"
   ]
  },
  {
   "cell_type": "markdown",
   "metadata": {},
   "source": [
    "## Check State Police"
   ]
  },
  {
   "cell_type": "markdown",
   "metadata": {},
   "source": [
    "First question: are there state police former employers by a different name?"
   ]
  },
  {
   "cell_type": "code",
   "execution_count": 25,
   "metadata": {
    "scrolled": true
   },
   "outputs": [],
   "source": [
    "state_police_payouts = retirement_payouts[retirement_payouts[\"department\"]==\"State Police\"]\n",
    "\n",
    "state_police_payouts_2015 = state_police_payouts[state_police_payouts[\"year\"]==2015]\n",
    "state_police_payouts_2016 = state_police_payouts[state_police_payouts[\"year\"]==2016]\n"
   ]
  },
  {
   "cell_type": "code",
   "execution_count": 39,
   "metadata": {},
   "outputs": [],
   "source": [
    "state_police_2015_fraction = state_police_payouts_2015[\"annual_amount\"].sum()/statewide_payouts_by_year.loc[2015]\n",
    "state_police_2016_fraction = state_police_payouts_2016[\"annual_amount\"].sum()/statewide_payouts_by_year.loc[2016]"
   ]
  },
  {
   "cell_type": "code",
   "execution_count": 41,
   "metadata": {},
   "outputs": [
    {
     "data": {
      "text/plain": [
       "82641290.78099288"
      ]
     },
     "execution_count": 41,
     "metadata": {},
     "output_type": "execute_result"
    }
   ],
   "source": []
  },
  {
   "cell_type": "code",
   "execution_count": 33,
   "metadata": {
    "scrolled": false
   },
   "outputs": [
    {
     "data": {
      "text/plain": [
       "2016    82641290.781\n",
       "2017    87645976.975\n",
       "2018    93983707.225\n",
       "2019   104510631.055\n",
       "Name: State_Police, dtype: object"
      ]
     },
     "execution_count": 33,
     "metadata": {},
     "output_type": "execute_result"
    }
   ],
   "source": [
    "state_police = agencies[\"State_Police\"]\n",
    "state_police.pensions"
   ]
  },
  {
   "cell_type": "code",
   "execution_count": 42,
   "metadata": {},
   "outputs": [],
   "source": [
    "assert np.isclose(np.mean([state_police_2015_fraction, state_police_2016_fraction])*statewide_contributions.loc[2016], state_police.pensions.loc[2016])"
   ]
  },
  {
   "cell_type": "markdown",
   "metadata": {},
   "source": [
    "## Check CPCS\n",
    "Don't need to check math, just make sure there aren't former employees of CPCS hiding under some other department "
   ]
  },
  {
   "cell_type": "code",
   "execution_count": 42,
   "metadata": {
    "scrolled": true
   },
   "outputs": [
    {
     "data": {
      "text/plain": [
       "department                 title_at_retirement           \n",
       "Public Counsel Services    Trial Attorney - Cpc              119\n",
       "                           N/A                                81\n",
       "                           Admin Assistant IiI-Cpc            73\n",
       "                           Attorney In Charge - Cpc           59\n",
       "Legislative House Counsel  House Of Representatives Deflt     43\n",
       "Public Counsel Services    Investigator - Cpc                 28\n",
       "Legislative House Counsel  N/A                                27\n",
       "Public Counsel Services    Senior Trial Counsel - Cpc         26\n",
       "                           Appeals Attorney - Cpc             22\n",
       "Counsel To The Senate      Senate Default                     21\n",
       "Public Counsel Services    Justice                            16\n",
       "                           First Justice                      14\n",
       "                           Secretary - Cpc                    12\n",
       "                           Staff Counsel - Cpc                11\n",
       "                           Dep Chief Appeals Attny - Cpc      11\n",
       "                           Social Worker - Cpc                10\n",
       "                           Dep Chief Counsel - Cpc             9\n",
       "                           Chief Counsel - Cpc                 6\n",
       "                           Director, Info Tech FiN- Cpc        6\n",
       "                           Chief Financial Officer - Cpc       6\n",
       "                           Clerk Iii - Cpc                     6\n",
       "                           Clerk Iv - Cpc                      6\n",
       "                           Admin Assistant II-Cpc              6\n",
       "                           Admin Support Specialist - Cpc      6\n",
       "                           Director, Legal ResearcH- Cpc       6\n",
       "                           Hr Recruiter - Cpc                  6\n",
       "                           Executive Assistant - Cpc           6\n",
       "                           Director, Mental HealtH- Cpc        6\n",
       "                           Litigation Director - Cafl          6\n",
       "                           Human Resources ManageR-Cpc         6\n",
       "                           Director, Papd - Cpc                6\n",
       "                           Director, Social Serv Div -Cpc      6\n",
       "                           Project Specialist                  5\n",
       "                           Litigation Research CoorD-Cpc       5\n",
       "                           Chief Appellate Attorney - Cpc      5\n",
       "Counsel To The Senate      N/A                                 5\n",
       "Public Counsel Services    Chief Auditor - Cpc                 4\n",
       "                           Social Services Advocate            4\n",
       "                           Facility ManageR- Cpc               3\n",
       "                           Supervising Staff AttorneY-Cpc      3\n",
       "                           Community Liaison                   3\n",
       "                           Director Of Facilities              3\n",
       "                           Managing Director                   3\n",
       "                           Director, Legal Training - Cpc      3\n",
       "                           Admin Assistant Iv -Cpc             2\n",
       "                           Admin Assistant I-Cpc               2\n",
       "                           Supervising Aaiii - Cpc             2\n",
       "                           Director,forensic SvcS-Cpc          1\n",
       "                           Dir Of Criminal Appeals - Cpc       1\n",
       "                           Dir Of Social Service Advocacy      1\n",
       "                           Director, Cafl - Cpc                1\n",
       "                           Staff Counsel I- Cpc                1\n",
       "dtype: int64"
      ]
     },
     "execution_count": 42,
     "metadata": {},
     "output_type": "execute_result"
    }
   ],
   "source": [
    "CPCS_depts = find_dept(retirement_payouts, [\"counsel\"])\n",
    "CPCS_depts"
   ]
  },
  {
   "cell_type": "markdown",
   "metadata": {},
   "source": [
    "## Check Suffolk DA\n",
    "Looks good to me"
   ]
  },
  {
   "cell_type": "code",
   "execution_count": 49,
   "metadata": {
    "scrolled": true
   },
   "outputs": [
    {
     "data": {
      "text/plain": [
       "department                       title_at_retirement           \n",
       "Suffolk Superior Ct Security     Court Officer ii                  904\n",
       "                                 Court Officer Iii                 350\n",
       "                                 Assoc Court Officer ii            341\n",
       "                                 N/A                               340\n",
       "Suffolk Sheriff's Office         Correction Officer                282\n",
       "Suffolk Superior Ct Security     Court Officer I                   276\n",
       "                                 Assistant Chief Court Officer     184\n",
       "District Att.,suffolk District   N/A                               180\n",
       "Suffolk Superior Ct Security     Chief Court Officer               149\n",
       "Suffolk Sheriff's Office         Jail Officer                      139\n",
       "                                 Corr Off                          117\n",
       "Suffolk Superior Ct Security     Court Officer Ii - Suff County    113\n",
       "District Att.,suffolk District   Support StafF- D.a.               106\n",
       "Suffolk Sheriff's Office         Jail Off                           79\n",
       "                                 Correction Officer - Sergeant      77\n",
       "Suffolk Superior Ct Security     Court Off. Ii Middlesex County     75\n",
       "Suffolk Sheriff's Office         Correction Officer -Lieutenant     72\n",
       "District Att.,suffolk District   Assistant District Attorney        66\n",
       "Suffolk Sheriff's Office         Correction Officer - Corporal      64\n",
       "Suffolk Probate & Family Court   N/A                                62\n",
       "Suffolk Cty. Juvenile Court      N/A                                57\n",
       "Suffolk Sheriff's Office         Jail Officer - Sergeant            54\n",
       "Suffolk Superior Ct Security     Court Off. Iii Middlsx Cnty        52\n",
       "Suffolk Superior Court Civil     Case Specialist (gr 7-10)          49\n",
       "Suffolk Superior Ct Security     Chief Court Officer - Superior     49\n",
       "Suffolk Probate & Family Court   Case Specialist (gr 7-10)          44\n",
       "Suffolk Sheriff's Office         N/A                                42\n",
       "Suffolk Superior Court Civil     Assistant Clerk Magistrate         41\n",
       "Suffolk Sheriff's Office         Licensed Practical Nurse           39\n",
       "Suffolk Superior Ct Security     Regional Asst Dir Security         34\n",
       "Suffolk Sheriff's Office         Correction Officer - Captain       33\n",
       "                                 Social Worker                      32\n",
       "Suffolk Superior Court Civil     N/A                                32\n",
       "Suffolk Sheriff's Office         Sen Jail Off (lieutenant)          29\n",
       "                                 Jail Officer - Lieutenant          26\n",
       "                                 Jail Officer - Corporal            26\n",
       "Suffolk Superior Ct Security     Asst Ch Court OfficeR-Superior     24\n",
       "Suffolk Sheriff's Office         Asst Chief Jail Off (captain)      24\n",
       "Suffolk Superior Court Civil     Case Coordinator (gr 12-13)        23\n",
       "Suffolk Superior Ct Security     Assoc Court Officer I              22\n",
       "                                 Court Officer Per Diem             22\n",
       "Suffolk Cty. Juvenile Court      Probation Officer                  20\n",
       "Suffolk Sheriff's Office         Senior Management Assistant        19\n",
       "                                 Prin Admin Asst (cnty)             18\n",
       "                                 Jail Off (corporal)                18\n",
       "District Att.,suffolk District   Justice                            18\n",
       "Suffolk Sheriff's Office         Jail Off (sergeant)                18\n",
       "                                 Asst Deputy Supn (hsc)             18\n",
       "District Att.,suffolk District   Investigator - D.a.                15\n",
       "Suffolk Sheriff's Office         Senior Administrative Assist       15\n",
       "Suffolk Superior Court           Assistant Clerk Magistrate         15\n",
       "Suffolk Sheriff's Office         Administrative Assistant           14\n",
       "                                 Asst Deputy Superintendent         13\n",
       "Suffolk Superior Court           N/A                                13\n",
       "Suffolk Registry Of Deeds        Technical Assistant                12\n",
       "Suffolk Probate & Family Court   Justice                            12\n",
       "Suffolk Sheriff's Office         Corr Off (generalist)              12\n",
       "Suffolk Cty. Juvenile Court      Assistant Clerk Magistrate         12\n",
       "Suffolk Superior Court           Case Coordinator (gr 12-13)        12\n",
       "                                 Case Specialist (gr 7-10)          12\n",
       "Suffolk Probate & Family Court   Case Coordinator (gr 12-13)        12\n",
       "Suffolk Sheriff's Office         Assistant Superintendent           12\n",
       "                                 Dep Supn (hoc)                     12\n",
       "Suffolk Cty.registry Of Deeds    Principal Clerk                    11\n",
       "District Att.,suffolk District   First Justice                      11\n",
       "Suffolk Superior Ct Security     Court Officer Iii - Suff Cnty      10\n",
       "District Att.,suffolk District   District Attorney                   9\n",
       "Suffolk Sheriff's Office         Teacher                             9\n",
       "Suffolk Cty.registry Of Deeds    Head Clerk                          8\n",
       "Suffolk Superior Ct Security     Assoc Court Officer Sprvsr          7\n",
       "Suffolk Cty.registry Of Deeds    Administrative Assistant            7\n",
       "                                 Land Court Tech. Consultant         6\n",
       "Suffolk Sheriff's Office         Administrative Supervisor           6\n",
       "                                 Asst Deputy Jailer (cnty)           6\n",
       "Suffolk Cty.registry Of Deeds    Executive Administrator             6\n",
       "Suffolk Registry Of Deeds        Supervisor                          6\n",
       "                                 Land Court Tech. Consultant         6\n",
       "Suffolk Probate & Family Court   Operations Supervisor Gr 14-15      6\n",
       "Suffolk Superior Ct Security     Director Of Security                6\n",
       "Suffolk Cty.registry Of Deeds    Third Assistant Registrar           6\n",
       "Suffolk Superior Ct Security     Jury Pool Court Officer             6\n",
       "Suffolk Probate & Family Court   Asst. Register Of Probate           6\n",
       "Suffolk Superior Court           Second Assistant Clerk              6\n",
       "Suffolk Cty.registry Of Deeds    Assistant Mis Manager               6\n",
       "                                 Assistant Supervisor                6\n",
       "Suffolk Sheriff's Office         Chief Of Oper And Planning          6\n",
       "Suffolk Superior Court           First Assistant Clerk               6\n",
       "                                 Clerk Of Courts                     6\n",
       "State Reclamation BoarD-Suffolk  Superintendent                      6\n",
       "Suffolk Cty. Juvenile Court      Asst. Chief Probation Officer       6\n",
       "Suffolk Sheriff's Office         Senior Hr Administrator             6\n",
       "                                 Sen Admin Analyst(cnty)             6\n",
       "Suffolk Cty. Juvenile Court      First Justice                       6\n",
       "                                 Prob Oper Supervisor (gr14-15)      6\n",
       "Suffolk Prob. Community Access   Case Specialist (gr 7-10)           6\n",
       "Suffolk Cty. Juvenile Court      Probation Case Spec (gr 7-10)       6\n",
       "Suffolk Sheriff's Office         Mechanical Engineer                 6\n",
       "                                 Management Assistant                6\n",
       "Suffolk Superior Ct Security     Acting Chief Court Officer          6\n",
       "Suffolk Sheriff's Office         Jail OfF-Institut, Lpn              6\n",
       "dtype: int64"
      ]
     },
     "execution_count": 49,
     "metadata": {},
     "output_type": "execute_result"
    }
   ],
   "source": [
    "pd.set_option(\"display.max_rows\",100)\n",
    "suffolkDA_dept = find_dept(retirement_payouts, [\"suffolk\"])\n",
    "suffolkDA_dept.head(100)"
   ]
  },
  {
   "cell_type": "markdown",
   "metadata": {},
   "source": [
    "## Check Suffolk Sheriff"
   ]
  },
  {
   "cell_type": "code",
   "execution_count": 55,
   "metadata": {
    "scrolled": true
   },
   "outputs": [
    {
     "data": {
      "text/plain": [
       "department                      title_at_retirement           \n",
       "Worc.cty. Sheriff's Department  Sheriff Worcester C.o. Gd17       609\n",
       "Middlesex North Sheriff's Dept  Correction Officer                491\n",
       "Hampden Cty Sheriff's Dept.     Correctional Officer              430\n",
       "Middlesex North Sheriff's Dept  Sergeant                          377\n",
       "Bristol Sheriff Department      Correction Officer                358\n",
       "Hampden Cty Sheriff's Dept.     Corporal                          338\n",
       "Worc.cty. Sheriff's Department  Sdw Sheriff/deputies/conf         332\n",
       "Plymouth Sheriff Department     Correction Officer                320\n",
       "Worc.cty. Sheriff's Department  Sheriff Worcester Sgt. Gd18       285\n",
       "Suffolk Sheriff's Office        Correction Officer                282\n",
       "Essex Sheriff's Department      Correction Officer iv             276\n",
       "Middlesex North Sheriff's Dept  Asst Deputy Superintendent        186\n",
       "Middlesex South Sheriff's Dept  Correction Officer                177\n",
       "Essex Sheriff's Department      Correction Officer ii             171\n",
       "Hampshire Cty Sheriff's Office  Correctional Officer/40 - Hsd     170\n",
       "Essex Sheriffs' Office          Captain                           162\n",
       "Norfolk Sheriff Department      Corrections Officer               143\n",
       "Suffolk Sheriff's Office        Jail Officer                      139\n",
       "Worc.cty. Sheriff's Department  Sheriff Worcester Lieuten Gd21    132\n",
       "Barnstable Sheriff Department   Corrections Officer G-1           128\n",
       "Suffolk Sheriff's Office        Corr Off                          117\n",
       "Essex Sheriff's Department      Correction Officer Iii            105\n",
       "Worc.cty. Sheriff's Department  Sheriff Worcester Captain Gd23    102\n",
       "Middlesex North Sheriff's Dept  Lieutenant                        100\n",
       "Berkshire Sheriff               Correction Officer - Sdb           97\n",
       "Hampden Cty Sheriff's Dept.     Lieutenant With Merit              95\n",
       "Middlesex North Sheriff's Dept  N/A                                91\n",
       "Essex Sheriff's Department      Correction Officer V               88\n",
       "Essex Sheriffs' Office          Assist Deputy Superintendent       83\n",
       "Hampshire Cty Sheriff's Office  Sergeant - Hsd                     82\n",
       "Suffolk Sheriff's Office        Jail Off                           79\n",
       "Worc.cty. Sheriff's Department  Sheriff Worcester Clerical g9      77\n",
       "Suffolk Sheriff's Office        Correction Officer - Sergeant      77\n",
       "Essex Sheriff's Department      Correctional Officer               76\n",
       "Middlesex North Sheriff's Dept  Asst Deputy Superintendent I       75\n",
       "Middlesex South Sheriff's Dept  Sergeant                           74\n",
       "Suffolk Sheriff's Office        Correction Officer -Lieutenant     72\n",
       "Bristol Sheriff Department      Lieutenant                         72\n",
       "Essex Sheriffs' Office          Asst Supt - Comm & Control         71\n",
       "Hampshire Cty Sheriff's Office  Lieutenant - Hsd                   70\n",
       "Hampden Cty Sheriff's Dept.     N/A                                68\n",
       "Franklin Cty. Sheriff's Dept.   Correctional Officer               66\n",
       "Suffolk Sheriff's Office        Correction Officer - Corporal      64\n",
       "Middlesex North Sheriff's Dept  Asst Deputy Superintendent ii      63\n",
       "Hampden Cty Sheriff's Dept.     Captain With Merit                 63\n",
       "Worc.cty. Sheriff's Department  Sheriff Worcester Lieuten Gd22     62\n",
       "Essex Sheriff's Department      Sergeant                           61\n",
       "Hampden Cty Sheriff's Dept.     Correctional Counselor/c.o.        55\n",
       "Plymouth Sheriff Department     Lieutenant                         54\n",
       "Suffolk Sheriff's Office        Jail Officer - Sergeant            54\n",
       "Hampden Cty Sheriff's Dept.     Registered Nurse                   53\n",
       "                                Sergeant With Merit                52\n",
       "                                Assistant Superintendent ii        50\n",
       "Bristol Sheriff Department      Captain                            49\n",
       "                                Correction Officer / Trans         45\n",
       "Essex Sheriffs' Office          Asst SupT-FacilitY-Comm&cntrl      45\n",
       "Suffolk Sheriff's Office        N/A                                42\n",
       "Franklin Cty. Sheriff's Dept.   Assistant Superintendent           40\n",
       "Hampden Cty Sheriff's Dept.     Primary Captain With Merit         39\n",
       "Suffolk Sheriff's Office        Licensed Practical Nurse           39\n",
       "Hampden Cty Sheriff's Dept.     Administrative Assist. vi          38\n",
       "                                Assistant Superintendent           36\n",
       "Worc.cty. Sheriff's Department  Sheriff Worcester Maint Grd 18     35\n",
       "Berkshire Sheriff               Shift Supervisor - Sdb             35\n",
       "Middlesex North Sheriff's Dept  Asst. Deputy Superintendent        34\n",
       "Suffolk Sheriff's Office        Correction Officer - Captain       33\n",
       "Middlesex North Sheriff's Dept  Assistant Superintendent           33\n",
       "Hampshire Cty Sheriff's Office  Captain - Hsd                      32\n",
       "Suffolk Sheriff's Office        Social Worker                      32\n",
       "Franklin Cty. Sheriff's Dept.   Captain                            31\n",
       "Hampden Cty Sheriff's Dept.     Sergeant                           31\n",
       "Essex Sheriffs' Office          Sr Correctional Officer I          31\n",
       "Hampden Cty Sheriff's Dept.     Head Administrative Assistant      30\n",
       "Plymouth Sheriff Department     Captain                            30\n",
       "Middlesex South Sheriff's Dept  Asst Deputy Superintendent         30\n",
       "Hampden Cty Sheriff's Dept.     Residential Supervisor Viii co     30\n",
       "Essex Sheriffs' Office          Sr Correctional Officer ii         30\n",
       "Worc.cty. Sheriff's Department  Sheriff Worcester Prof Grd 16      30\n",
       "Norfolk Sheriff Department      N/A                                30\n",
       "Barnstable Sheriff Department   Correction Officer G-4             30\n",
       "Worc.cty. Sheriff's Department  Sheriff Worcester Maint Grd 16     30\n",
       "Essex Sheriffs' Office          Assistant Superintendent           30\n",
       "Essex Sheriff's Department      Correctional Officer I             29\n",
       "Middlesex South Sheriff's Dept  Asst Deputy Superintendent ii      29\n",
       "Bristol Sheriff Department      Sergeant                           29\n",
       "Suffolk Sheriff's Office        Sen Jail Off (lieutenant)          29\n",
       "Middlesex South Sheriff's Dept  Asst Deputy Superintendent I       28\n",
       "Hampden Cty Sheriff's Dept.     Lead Counselor/c.o.                27\n",
       "Berkshire Sheriff               Sr Correction Off Sgt - Sdb        27\n",
       "Hampden Cty Sheriff's Dept.     Asst Deputy Superintendent I       27\n",
       "Berkshire Sheriff               Sr Correction Off - Lt. - Sdb      26\n",
       "Worc.cty. Sheriff's Department  Sheriff Worcester Captain Gd24     26\n",
       "Suffolk Sheriff's Office        Jail Officer - Corporal            26\n",
       "                                Jail Officer - Lieutenant          26\n",
       "Hampshire Cty Sheriff's Office  Case Manager - Hsd                 25\n",
       "Franklin Cty. Sheriff's Dept.   Lieutenant                         25\n",
       "Middlesex South Sheriff's Dept  Superintendent, Cambridge          24\n",
       "                                Lieutenant                         24\n",
       "Plymouth Sheriff Department     Ads V                              24\n",
       "Hampden Cty Sheriff's Dept.     General Maintenance Officer/co     24\n",
       "dtype: int64"
      ]
     },
     "execution_count": 55,
     "metadata": {},
     "output_type": "execute_result"
    }
   ],
   "source": [
    "suffolk_sheriff = find_dept(retirement_payouts, [\"sheriff\"])\n",
    "suffolk_sheriff.head(100)"
   ]
  },
  {
   "cell_type": "markdown",
   "metadata": {},
   "source": [
    "## Check DAA"
   ]
  },
  {
   "cell_type": "code",
   "execution_count": 56,
   "metadata": {},
   "outputs": [
    {
     "data": {
      "text/plain": [
       "department                           title_at_retirement        \n",
       "Nashoba Assoc. Bds. Of Health        N/A                            146\n",
       "Nashoba Associated Boards Of Health  N/A                             71\n",
       "District Attorney's Assoc.           Support StafF- D.a.              6\n",
       "                                     Assistant District Attorney      6\n",
       "                                     Manager - D.a.                   3\n",
       "Nashoba Associated Boards Of Health  Hha                              2\n",
       "                                     Fincoord                         2\n",
       "                                     Clnsup                           2\n",
       "                                     Chn                              2\n",
       "Nashoba Assoc. Bds. Of Health        Fincoord                         2\n",
       "                                     Clnsup                           2\n",
       "                                     Chn                              2\n",
       "                                     Hha                              1\n",
       "District Attorney's Assoc.           Administrative - D.a.            1\n",
       "dtype: int64"
      ]
     },
     "execution_count": 56,
     "metadata": {},
     "output_type": "execute_result"
    }
   ],
   "source": [
    "DAA = find_dept(retirement_payouts, [\"assoc\"])\n",
    "DAA.head(100)"
   ]
  },
  {
   "cell_type": "markdown",
   "metadata": {},
   "source": [
    "Looks good. The pensions associated with this agency should be tiny"
   ]
  },
  {
   "cell_type": "code",
   "execution_count": 57,
   "metadata": {},
   "outputs": [
    {
     "data": {
      "text/plain": [
       "2016    78403.102\n",
       "2017    78994.836\n",
       "2018    93746.009\n",
       "2019   110430.671\n",
       "Name: DAA, dtype: object"
      ]
     },
     "execution_count": 57,
     "metadata": {},
     "output_type": "execute_result"
    }
   ],
   "source": [
    "DAA = agencies[\"DAA\"]\n",
    "DAA.pensions"
   ]
  },
  {
   "cell_type": "markdown",
   "metadata": {},
   "source": [
    "## Check MA Sheriff's Association"
   ]
  },
  {
   "cell_type": "markdown",
   "metadata": {},
   "source": [
    "DAA Check shows there is none"
   ]
  },
  {
   "cell_type": "markdown",
   "metadata": {},
   "source": [
    "## Check Parole Board"
   ]
  },
  {
   "cell_type": "code",
   "execution_count": 58,
   "metadata": {},
   "outputs": [
    {
     "data": {
      "text/plain": [
       "department    title_at_retirement          \n",
       "Parole Board  Field Parole Officer (a/b)       230\n",
       "              N/A                              167\n",
       "              Parole Officer (c)               116\n",
       "              Field Parole Officer (d)          79\n",
       "              Parole Officer (a/b)              70\n",
       "              Transitional Parole Off (a/b)     57\n",
       "              Word Processing Operator I        45\n",
       "              Field Parole Officer (c)          44\n",
       "              Word Processing Operator ii       26\n",
       "              Administrator Viii                24\n",
       "              Parole Officer (d)                20\n",
       "              Parole Examiner                   18\n",
       "              Administrator vi                  18\n",
       "              Parole Officer ii                 12\n",
       "              Program Manager iv                10\n",
       "              Parole Officer iv                  6\n",
       "              Administrator I                    6\n",
       "              Community Resource Developer       6\n",
       "              Sys Programmer/sys Supv, Pdpp      6\n",
       "              First Justice                      6\n",
       "              Fiscal Officer ii                  6\n",
       "              Program Manager Iii                6\n",
       "              Personnel Officer ii               6\n",
       "              Personnel Officer I                6\n",
       "              Administrative Secretary I         6\n",
       "              Program Manager Viii               2\n",
       "dtype: int64"
      ]
     },
     "execution_count": 58,
     "metadata": {},
     "output_type": "execute_result"
    }
   ],
   "source": [
    "parole = find_dept(retirement_payouts, [\"parole\"])\n",
    "parole.head(100)"
   ]
  },
  {
   "cell_type": "markdown",
   "metadata": {},
   "source": [
    "## Check CJT"
   ]
  },
  {
   "cell_type": "code",
   "execution_count": 62,
   "metadata": {},
   "outputs": [
    {
     "data": {
      "text/plain": [
       "department                    title_at_retirement           \n",
       "Employment & Training         N/A                               2424\n",
       "                              Job Specialist Iii                 389\n",
       "                              Job Service Representative         197\n",
       "Boston Municipal Court        Assistant Clerk Magistrate         108\n",
       "Employment & Training         Employment Counselor, D.e.s.        98\n",
       "                              Program Manager Iii                 96\n",
       "                              Program Coordinator Iii             73\n",
       "Boston Municipal Court        Case Specialist (gr 7-10)           71\n",
       "                              N/A                                 67\n",
       "Employment & Training         Edp Systems Analyst Iii             51\n",
       "                              Administrator vi                    51\n",
       "                              Clerk Iii                           51\n",
       "Boston Municipal Court        Case Coordinator (gr 12-13)         43\n",
       "Employment & Training         Auditor ii                          42\n",
       "                              Employment Services Rep I           42\n",
       "Boston Municipal Court        Operations Supervisor Gr 14-15      37\n",
       "Employment & Training         Sys Programmer/sys Supv, Pdpp       36\n",
       "                              Employment Security Supv Iii        35\n",
       "                              Job Specialist iv                   33\n",
       "                              Program Manager iv                  33\n",
       "                              Accountant I                        32\n",
       "                              Compliance Officer Iii              30\n",
       "                              Administrator Vii                   30\n",
       "                              Review Examiner I                   27\n",
       "Boston Municipal Court        Sessions Clerk                      26\n",
       "Employment & Training         Employment Security Supv ii         25\n",
       "                              Edp Systems Analyst ii              24\n",
       "                              Administrator V                     21\n",
       "Boston Municipal Court        Head Administrative Assistant       19\n",
       "Employment & Training         Program Coordinator I               18\n",
       "                              Program Manager V                   18\n",
       "Boston Municipal Court        Office Manager (gr 16)              18\n",
       "Employment & Training         Review Examiner, D.e.s.             18\n",
       "                              Administrator X                     18\n",
       "                              Review Examiner ii                  17\n",
       "Boston Municipal Court        First Asst Clerk Magistrate         14\n",
       "Employment & Training         Economist ii                        14\n",
       "Boston Municipal Court        Probation Case Spec (gr 7-10)       13\n",
       "                              Secretary To Justice (bmc)          12\n",
       "Employment & Training         Computer Operator I                 12\n",
       "                              Administrator ix                    12\n",
       "                              Ui Benefits Investigator, Des       12\n",
       "Boston Municipal Court        Probation Officer                   12\n",
       "Corrections Training Academy  N/A                                 12\n",
       "Employment & Training         Word Processing Operator I          12\n",
       "                              Offset Duplicating Mach Opr ii      12\n",
       "                              Sr Programmer/analyst, Pdpp         12\n",
       "                              Administrative Assistant ii         11\n",
       "                              Administrator Iii                   10\n",
       "Boston Municipal Court        Administrative Asst (gr 13-14)      10\n",
       "Employment & Training         Compliance Officer ii               10\n",
       "Boston Municipal Court        Clerk Magistrate                    10\n",
       "Employment & Training         Computer Operator ii                 9\n",
       "Boston Municipal Court        Judicial Secretary (gr 12-13)        9\n",
       "Employment & Training         Administrative Assistant I           8\n",
       "                              Job Specialist ii                    7\n",
       "                              Property Management Spec ii          7\n",
       "Boston Municipal Court        Court Administrator                  6\n",
       "                              Assistant ClerK-Jury                 6\n",
       "                              Assistant Chief Court Officer        6\n",
       "                              First Assistant Clerk                6\n",
       "                              Acting Clerk Magistrate              6\n",
       "                              First Asst Clerk Pro Tem             6\n",
       "Employment & Training         Accountant Iii                       6\n",
       "                              Accountant V                         6\n",
       "                              Clerk vi                             6\n",
       "Boston Municipal Court        Account Clerk (gr 11-12)             6\n",
       "Employment & Training         Edp Computer Operations Supv         6\n",
       "                              Program Manager ix                   6\n",
       "                              Personnel Officer ii                 6\n",
       "                              Personnel Analyst ii                 6\n",
       "                              Mail Clerk ii                        6\n",
       "                              Internal Auditor ii                  6\n",
       "                              Administrator Viii                   6\n",
       "                              Head Administrative Assistant        6\n",
       "                              Employment Security Supv I           6\n",
       "                              Edp Entry Operator Iii               6\n",
       "                              Disputed Claims Adjuster, Des        6\n",
       "                              Counsel ii                           6\n",
       "                              Contract Specialist Iii              6\n",
       "                              Typist ii                            6\n",
       "                              Buyer Iii                            6\n",
       "                              Administrator iv                     6\n",
       "                              Receiving Teller I                   6\n",
       "                              Management Analyst Iii               4\n",
       "                              Auditor Iii                          4\n",
       "Boston Municipal Court        Mediation Services Admin             3\n",
       "                              Second Assistant Clerk               3\n",
       "                              Administrative Attorney              3\n",
       "Employment & Training         Qual Voc Rehab Counselor (d)         2\n",
       "                              Receiving Teller ii                  2\n",
       "                              Administrative Secretary ii          2\n",
       "Boston Municipal Court        Chief Court Officer                  2\n",
       "                              Court Officer Per Diem               2\n",
       "Employment & Training         Civil Engineer vi                    2\n",
       "                              House Of Representatives Deflt       2\n",
       "Boston Municipal Court        Assistant Clerk For Civil Busn       1\n",
       "dtype: int64"
      ]
     },
     "execution_count": 62,
     "metadata": {},
     "output_type": "execute_result"
    }
   ],
   "source": [
    "CJT = find_dept(retirement_payouts, [\"training\", \"municipal\"])\n",
    "CJT.head(100)"
   ]
  },
  {
   "cell_type": "markdown",
   "metadata": {},
   "source": [
    "## Check Supreme Judicial Court"
   ]
  },
  {
   "cell_type": "code",
   "execution_count": 63,
   "metadata": {},
   "outputs": [
    {
     "data": {
      "text/plain": [
       "department                      title_at_retirement           \n",
       "Supreme Judicial Court          N/A                               97\n",
       "                                Judicial Secretary                14\n",
       "Commission On Judicial Conduct  Executive Director - Cjc          12\n",
       "Supreme Judicial Court          Court Officer I                   10\n",
       "                                Paralegal Editor I                10\n",
       "                                Associate Justice - Sjc            9\n",
       "                                Assistant Clerk/pro Temp           6\n",
       "                                Administrative Docket Coord        6\n",
       "                                Dep Adm Asst To The Ch JuS-Sjc     6\n",
       "                                Administrative Assistant Iii       6\n",
       "                                Administrative Assistant           6\n",
       "                                Case Management Supervisor         6\n",
       "                                Chief Court Officer                6\n",
       "                                Chief Paralegal Editor             6\n",
       "                                Clerk For The Commonwealth         6\n",
       "                                Senior Paralegal Editor            6\n",
       "                                Court Services Coordinator         6\n",
       "                                Senior Staff Attorney              6\n",
       "                                Dir Of Archives & Record Presv     6\n",
       "                                Fiscal Officer                     6\n",
       "                                Reporter Of Decisions              6\n",
       "                                Public Information Officer         6\n",
       "                                Procedures Clerk                   6\n",
       "                                Exec Asst To The Chief Justice     6\n",
       "                                Head Administrative Assistant      6\n",
       "                                First Justice                      6\n",
       "                                First Asst Clerk Suffolk           6\n",
       "                                Fasst Clk For The Commonwealth     6\n",
       "Commission On Judicial Conduct  Administrative AssistanT- Cjc      6\n",
       "Supreme Judicial Court          Second Asst Clerk Suff County      5\n",
       "Commission On Judicial Conduct  N/A                                5\n",
       "Supreme Judicial Court          Ch Legal Publishing Specialist     4\n",
       "                                Case Mngmt System CoorD-App ct     4\n",
       "                                Adm Attny - Coord, Intn'l Prg      4\n",
       "                                Chief Of Staff/exec Asst To ck     3\n",
       "                                Chief Staff Counsel                3\n",
       "                                Operation Supervisor I             3\n",
       "Commission On Judicial Conduct  Executive Assistant - Cjc          3\n",
       "Supreme Judicial Court          Audiovisual Tech & Record Arch     2\n",
       "                                Conservator                        2\n",
       "                                Senior Administrative Attorney     2\n",
       "dtype: int64"
      ]
     },
     "execution_count": 63,
     "metadata": {},
     "output_type": "execute_result"
    }
   ],
   "source": [
    "supreme_jud_court = find_dept(retirement_payouts, [\"supreme\", \"judicial\"])\n",
    "supreme_jud_court.head(100)"
   ]
  },
  {
   "cell_type": "markdown",
   "metadata": {},
   "source": [
    "## Check Appeals Court"
   ]
  },
  {
   "cell_type": "code",
   "execution_count": 64,
   "metadata": {},
   "outputs": [
    {
     "data": {
      "text/plain": [
       "department                      title_at_retirement           \n",
       "Appeals CourT-John Adams Court  Associate Justice - Appeals ct    88\n",
       "                                N/A                               59\n",
       "                                Staff Attorney - Appeals Court    55\n",
       "Administrative Law Appeals      Counsel ii                        44\n",
       "Appeals CourT-John Adams Court  Judicial Secretary                17\n",
       "Administrative Law Appeals      Program Mgr Specialist Viii       12\n",
       "Appeals CourT-John Adams Court  Recall Justice - Appeals Court    12\n",
       "                                Chief Court Officer               12\n",
       "Administrative Law Appeals      Educational Specialist C (ma)      9\n",
       "Appeals CourT-John Adams Court  Adm Asst To Ch JuS-Appeals ct      8\n",
       "Administrative Law Appeals      N/A                                8\n",
       "Appeals CourT-John Adams Court  Budget Officer                     7\n",
       "Administrative Law Appeals      Word Processing Operator ii        6\n",
       "                                Educational Specialist C (phd)     6\n",
       "Appeals CourT-John Adams Court  Adm/confidentl Asst To The Clk     6\n",
       "Administrative Law Appeals      Educational Specialist C (g)       6\n",
       "Appeals CourT-John Adams Court  Asst Ch Editor/leg Resrch Coor     6\n",
       "Administrative Law Appeals      Head Administrative Assistant      6\n",
       "Appeals CourT-John Adams Court  Chief Justice Of  Appeals ct       6\n",
       "Administrative Law Appeals      Business Management Specialist     6\n",
       "Appeals CourT-John Adams Court  Clerk Of The Appeals Court         6\n",
       "                                Secretary To Chief Justice         6\n",
       "                                Contracted Employee/student        6\n",
       "                                Office Manager                     6\n",
       "                                Deputy Assistant Clerk             6\n",
       "                                Clerical Asst/computer Oper I      6\n",
       "                                General Counsel                    5\n",
       "                                Law Clerk                          5\n",
       "Administrative Law Appeals      Educational Specialist C (ba)      4\n",
       "Appeals CourT-John Adams Court  Editorial Counsel/project Mngr     4\n",
       "                                Coordinating Civil Staff Attny     4\n",
       "                                Special Assistant Clerk            3\n",
       "                                Aag                                2\n",
       "                                Paralegal Editor I                 2\n",
       "                                Commissioner Mgc                   2\n",
       "                                First Assistant ClK-Appeals ct     1\n",
       "dtype: int64"
      ]
     },
     "execution_count": 64,
     "metadata": {},
     "output_type": "execute_result"
    }
   ],
   "source": [
    "supreme_jud_court = find_dept(retirement_payouts, [\"appeals\"])\n",
    "supreme_jud_court.head(100)"
   ]
  },
  {
   "cell_type": "markdown",
   "metadata": {},
   "source": [
    "## Check DOC (remember to use payroll fraction)\n",
    "For 2018"
   ]
  },
  {
   "cell_type": "code",
   "execution_count": 43,
   "metadata": {},
   "outputs": [],
   "source": [
    "sys.path.insert(0, os.path.abspath(\"../../fringe\"))\n",
    "from Statewide_Fringe import Total_Statewide_Payroll"
   ]
  },
  {
   "cell_type": "code",
   "execution_count": 67,
   "metadata": {},
   "outputs": [
    {
     "data": {
      "text/plain": [
       "2016   6910837381.410\n",
       "2017   7121841358.695\n",
       "2018   7553476660.790\n",
       "2019   7893701337.800\n",
       "dtype: float64"
      ]
     },
     "execution_count": 67,
     "metadata": {},
     "output_type": "execute_result"
    }
   ],
   "source": [
    "statewide_payroll = Total_Statewide_Payroll(client)\n",
    "statewide_payroll"
   ]
  },
  {
   "cell_type": "code",
   "execution_count": 68,
   "metadata": {},
   "outputs": [],
   "source": [
    "DOC = agencies[\"DOC\"]\n",
    "DOC_2018_pension_fraction = DOC.payroll_by_year.loc[2018]/statewide_payroll[2018]"
   ]
  },
  {
   "cell_type": "code",
   "execution_count": 72,
   "metadata": {},
   "outputs": [],
   "source": [
    "assert np.isclose(DOC.pensions.loc[2018], DOC_2018_pension_fraction*statewide_contributions.loc[2018])"
   ]
  },
  {
   "cell_type": "markdown",
   "metadata": {},
   "source": [
    "## Check MBTA\n",
    "For 2016"
   ]
  },
  {
   "cell_type": "code",
   "execution_count": 73,
   "metadata": {},
   "outputs": [],
   "source": [
    "MBTA = agencies[\"MBTA\"]\n",
    "MBTA_2016_pension_fraction = MBTA.payroll_by_year.loc[2016]/statewide_payroll[2016]\n"
   ]
  },
  {
   "cell_type": "code",
   "execution_count": 75,
   "metadata": {},
   "outputs": [],
   "source": [
    "assert np.isclose(MBTA.pensions.loc[2016], MBTA_2016_pension_fraction*statewide_contributions.loc[2016])"
   ]
  },
  {
   "cell_type": "markdown",
   "metadata": {},
   "source": [
    "## Check Boston Pension Contributions\n",
    "Check 2016"
   ]
  },
  {
   "cell_type": "code",
   "execution_count": 89,
   "metadata": {},
   "outputs": [],
   "source": [
    "Boston_pension_contributions_2016 = 196.55 * (10**6)\n",
    "Boston_pension_contributions_2017 = 199.28 * (10**6)\n",
    "Boston_pension_contributions_2018 = 233.3  * (10**6)\n",
    "Boston_pension_contributions_2019 = 263.08 * (10**6)"
   ]
  },
  {
   "cell_type": "markdown",
   "metadata": {},
   "source": [
    "Double-checked PD fraction last time, so we know it's good"
   ]
  },
  {
   "cell_type": "code",
   "execution_count": 90,
   "metadata": {},
   "outputs": [],
   "source": [
    "sys.path.insert(0, os.path.abspath(\"../../pensions\"))\n",
    "from LocalPD_True_Payroll import True_Earnings"
   ]
  },
  {
   "cell_type": "code",
   "execution_count": 91,
   "metadata": {},
   "outputs": [],
   "source": [
    "total_earnings, PD_fraction_non_teacher, PD_fraction_total, PD_payroll = True_Earnings(\"Boston PD\")"
   ]
  },
  {
   "cell_type": "code",
   "execution_count": 93,
   "metadata": {},
   "outputs": [
    {
     "data": {
      "text/plain": [
       "58118216.01523996"
      ]
     },
     "execution_count": 93,
     "metadata": {},
     "output_type": "execute_result"
    }
   ],
   "source": [
    "PD_fraction_non_teacher.loc[2016]*Boston_pension_contributions_2016"
   ]
  },
  {
   "cell_type": "code",
   "execution_count": 85,
   "metadata": {},
   "outputs": [],
   "source": [
    "bostonPD=agencies[\"Boston PD\"]"
   ]
  },
  {
   "cell_type": "code",
   "execution_count": 94,
   "metadata": {},
   "outputs": [],
   "source": [
    "assert np.isclose(PD_fraction_non_teacher.loc[2016]*Boston_pension_contributions_2016, bostonPD.pensions.loc[2016])"
   ]
  },
  {
   "cell_type": "markdown",
   "metadata": {},
   "source": [
    "## Check Chelsea Pension Contributions\n",
    "Check 2016, 2017"
   ]
  },
  {
   "cell_type": "code",
   "execution_count": 96,
   "metadata": {},
   "outputs": [
    {
     "data": {
      "text/plain": [
       "2016   1492269.515\n",
       "2017   1584732.391\n",
       "2018   1667073.230\n",
       "2019   1901325.965\n",
       "dtype: object"
      ]
     },
     "execution_count": 96,
     "metadata": {},
     "output_type": "execute_result"
    }
   ],
   "source": [
    "chelseaPD = agencies[\"Chelsea PD\"]\n",
    "chelseaPD.pensions"
   ]
  },
  {
   "cell_type": "code",
   "execution_count": 97,
   "metadata": {},
   "outputs": [],
   "source": [
    "Chelsea_pension_contribution_2016 = 6764818\n",
    "Chelsea_pension_contribution_2017 = 7076376.6"
   ]
  },
  {
   "cell_type": "code",
   "execution_count": 98,
   "metadata": {},
   "outputs": [],
   "source": [
    "total_earnings, PD_fraction_non_teacher, PD_fraction_total, PD_payroll = True_Earnings(\"Chelsea PD\")"
   ]
  },
  {
   "cell_type": "code",
   "execution_count": 102,
   "metadata": {},
   "outputs": [],
   "source": [
    "assert np.isclose(Chelsea_pension_contribution_2016*PD_fraction_non_teacher.loc[2016], chelseaPD.pensions.loc[2016])\n",
    "assert np.isclose(Chelsea_pension_contribution_2017*PD_fraction_non_teacher.loc[2017], chelseaPD.pensions.loc[2017])"
   ]
  },
  {
   "cell_type": "markdown",
   "metadata": {},
   "source": [
    "## Check Revere Pension Contributions\n",
    "Check 2016"
   ]
  },
  {
   "cell_type": "code",
   "execution_count": 6,
   "metadata": {},
   "outputs": [],
   "source": [
    "revere_citywide_pensions_2016 = 10492643\n",
    "revere_citywide_payroll_2016 = 27190424"
   ]
  },
  {
   "cell_type": "code",
   "execution_count": 7,
   "metadata": {},
   "outputs": [
    {
     "data": {
      "text/plain": [
       "3491214.1040855413"
      ]
     },
     "execution_count": 7,
     "metadata": {},
     "output_type": "execute_result"
    }
   ],
   "source": [
    "reverePD = agencies[\"Revere PD\"]\n",
    "reverePD.pensions.loc[2016]"
   ]
  },
  {
   "cell_type": "code",
   "execution_count": 8,
   "metadata": {},
   "outputs": [
    {
     "data": {
      "text/plain": [
       "3491214.1040855413"
      ]
     },
     "execution_count": 8,
     "metadata": {},
     "output_type": "execute_result"
    }
   ],
   "source": [
    "(reverePD.payroll_by_year.loc[2016]/revere_citywide_payroll_2016)*revere_citywide_pensions_2016"
   ]
  },
  {
   "cell_type": "code",
   "execution_count": 9,
   "metadata": {},
   "outputs": [],
   "source": [
    "assert np.isclose((reverePD.payroll_by_year.loc[2016]/revere_citywide_payroll_2016)*revere_citywide_pensions_2016,\n",
    "                  reverePD.pensions.loc[2016] )"
   ]
  },
  {
   "cell_type": "markdown",
   "metadata": {},
   "source": [
    "Check 2019. Minor methodology change: no 2019 citywide payroll so use 2018 fraction"
   ]
  },
  {
   "cell_type": "code",
   "execution_count": 10,
   "metadata": {},
   "outputs": [],
   "source": [
    "revere_citywide_pensions_2019 = 12057685.15\n",
    "revere_citywide_payroll_2018 = 27909365"
   ]
  },
  {
   "cell_type": "code",
   "execution_count": 11,
   "metadata": {},
   "outputs": [
    {
     "data": {
      "text/plain": [
       "4042707.2019558684"
      ]
     },
     "execution_count": 11,
     "metadata": {},
     "output_type": "execute_result"
    }
   ],
   "source": [
    "(reverePD.payroll_by_year.loc[2018]/revere_citywide_payroll_2018)*revere_citywide_pensions_2019"
   ]
  },
  {
   "cell_type": "code",
   "execution_count": 12,
   "metadata": {},
   "outputs": [
    {
     "data": {
      "text/plain": [
       "2016   3491214.104\n",
       "2017   3713579.673\n",
       "2018   3877992.874\n",
       "2019   4042707.202\n",
       "dtype: object"
      ]
     },
     "execution_count": 12,
     "metadata": {},
     "output_type": "execute_result"
    }
   ],
   "source": [
    "reverePD.pensions"
   ]
  },
  {
   "cell_type": "code",
   "execution_count": 13,
   "metadata": {},
   "outputs": [],
   "source": [
    "assert np.isclose((reverePD.payroll_by_year.loc[2018]/revere_citywide_payroll_2018)*revere_citywide_pensions_2019,\n",
    "                  reverePD.pensions.loc[2019] )"
   ]
  },
  {
   "cell_type": "markdown",
   "metadata": {},
   "source": [
    "## Check Winthrop Pension Contributions"
   ]
  },
  {
   "cell_type": "markdown",
   "metadata": {},
   "source": [
    "This calculation uses Revere PD fraction, so all we need to check is the pension amount"
   ]
  },
  {
   "cell_type": "code",
   "execution_count": 17,
   "metadata": {},
   "outputs": [
    {
     "data": {
      "text/plain": [
       "2016   912028.782\n",
       "2017   702707.081\n",
       "2018   745260.916\n",
       "2019   748358.573\n",
       "dtype: object"
      ]
     },
     "execution_count": 17,
     "metadata": {},
     "output_type": "execute_result"
    }
   ],
   "source": [
    "winthropPD = agencies[\"Winthrop PD\"]\n",
    "winthropPD.pensions"
   ]
  },
  {
   "cell_type": "code",
   "execution_count": 18,
   "metadata": {},
   "outputs": [],
   "source": [
    "winthrop_pensions_2018 = 2222798\n",
    "assert np.isclose((reverePD.payroll_by_year.loc[2018]/revere_citywide_payroll_2018)*winthrop_pensions_2018,\n",
    "                  winthropPD.pensions.loc[2018])"
   ]
  },
  {
   "cell_type": "markdown",
   "metadata": {},
   "source": [
    "Ok great all done checking pensions! Next check fringe benefits, then capital costs, then agency corrections, then removing teachers from true earnings in the Boston and Chelsea PD earnings datasets."
   ]
  },
  {
   "cell_type": "code",
   "execution_count": null,
   "metadata": {},
   "outputs": [],
   "source": []
  }
 ],
 "metadata": {
  "kernelspec": {
   "display_name": "Python 3",
   "language": "python",
   "name": "python3"
  },
  "language_info": {
   "codemirror_mode": {
    "name": "ipython",
    "version": 3
   },
   "file_extension": ".py",
   "mimetype": "text/x-python",
   "name": "python",
   "nbconvert_exporter": "python",
   "pygments_lexer": "ipython3",
   "version": "3.7.6"
  }
 },
 "nbformat": 4,
 "nbformat_minor": 4
}
