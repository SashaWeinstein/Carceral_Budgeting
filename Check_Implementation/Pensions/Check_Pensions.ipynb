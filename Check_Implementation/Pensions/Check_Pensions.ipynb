{
 "cells": [
  {
   "cell_type": "markdown",
   "metadata": {},
   "source": [
    "# Check Pensions\n",
    "Payroll fraction was checked in check_payroll notebook. This section requires checking 5 methodologies: the statewide and each municipal. \n",
    "\n",
    "For the statewide we need to get total employer-side contributions and make sure that's correct. Then get pension payouts for each agency, make sure those are correct. Then make sure the calculations are correct\n",
    "\n",
    "For each municipal PD we need to find correct pension line-item and make sure calculation is correct\n"
   ]
  },
  {
   "cell_type": "markdown",
   "metadata": {},
   "source": [
    "## Set up environment"
   ]
  },
  {
   "cell_type": "code",
   "execution_count": 14,
   "metadata": {},
   "outputs": [
    {
     "name": "stderr",
     "output_type": "stream",
     "text": [
      "/opt/anaconda3/lib/python3.7/site-packages/pandas/core/frame.py:4133: SettingWithCopyWarning: \n",
      "A value is trying to be set on a copy of a slice from a DataFrame\n",
      "\n",
      "See the caveats in the documentation: https://pandas.pydata.org/pandas-docs/stable/user_guide/indexing.html#returning-a-view-versus-a-copy\n",
      "  errors=errors,\n",
      "/opt/anaconda3/lib/python3.7/site-packages/pandas/core/generic.py:6245: SettingWithCopyWarning: \n",
      "A value is trying to be set on a copy of a slice from a DataFrame\n",
      "\n",
      "See the caveats in the documentation: https://pandas.pydata.org/pandas-docs/stable/user_guide/indexing.html#returning-a-view-versus-a-copy\n",
      "  self._update_inplace(new_data)\n",
      "/Users/alexanderweinstein/Documents/Harris/Summer2020/Carceral_Budgeting/Exploratory/pensions/State_Pensions_2Ver.py:132: SettingWithCopyWarning: \n",
      "A value is trying to be set on a copy of a slice from a DataFrame.\n",
      "Try using .loc[row_indexer,col_indexer] = value instead\n",
      "\n",
      "See the caveats in the documentation: https://pandas.pydata.org/pandas-docs/stable/user_guide/indexing.html#returning-a-view-versus-a-copy\n",
      "  return \"state_police\"\n"
     ]
    },
    {
     "name": "stdout",
     "output_type": "stream",
     "text": [
      "pensions statewide are \n"
     ]
    },
    {
     "name": "stderr",
     "output_type": "stream",
     "text": [
      "/opt/anaconda3/lib/python3.7/importlib/__init__.py:169: DtypeWarning: Columns (16) have mixed types.Specify dtype option on import or set low_memory=False.\n",
      "  _bootstrap._exec(spec, module)\n"
     ]
    },
    {
     "data": {
      "text/html": [
       "<div>\n",
       "<style scoped>\n",
       "    .dataframe tbody tr th:only-of-type {\n",
       "        vertical-align: middle;\n",
       "    }\n",
       "\n",
       "    .dataframe tbody tr th {\n",
       "        vertical-align: top;\n",
       "    }\n",
       "\n",
       "    .dataframe thead th {\n",
       "        text-align: right;\n",
       "    }\n",
       "</style>\n",
       "<table border=\"1\" class=\"dataframe\">\n",
       "  <thead>\n",
       "    <tr style=\"text-align: right;\">\n",
       "      <th></th>\n",
       "      <th>2015</th>\n",
       "      <th>2016</th>\n",
       "      <th>2017</th>\n",
       "      <th>2018</th>\n",
       "      <th>2019</th>\n",
       "      <th>2020</th>\n",
       "    </tr>\n",
       "    <tr>\n",
       "      <th>agency_class</th>\n",
       "      <th></th>\n",
       "      <th></th>\n",
       "      <th></th>\n",
       "      <th></th>\n",
       "      <th></th>\n",
       "      <th></th>\n",
       "    </tr>\n",
       "  </thead>\n",
       "  <tbody>\n",
       "    <tr>\n",
       "      <th>Appeals_Court</th>\n",
       "      <td>NaN</td>\n",
       "      <td>2952414.962</td>\n",
       "      <td>3335181.424</td>\n",
       "      <td>3505983.980</td>\n",
       "      <td>3677631.972</td>\n",
       "      <td>NaN</td>\n",
       "    </tr>\n",
       "    <tr>\n",
       "      <th>CPCS</th>\n",
       "      <td>NaN</td>\n",
       "      <td>2744489.977</td>\n",
       "      <td>3095990.133</td>\n",
       "      <td>3467557.969</td>\n",
       "      <td>3893469.757</td>\n",
       "      <td>NaN</td>\n",
       "    </tr>\n",
       "    <tr>\n",
       "      <th>DAA</th>\n",
       "      <td>NaN</td>\n",
       "      <td>78403.102</td>\n",
       "      <td>78994.836</td>\n",
       "      <td>93746.009</td>\n",
       "      <td>110430.671</td>\n",
       "      <td>NaN</td>\n",
       "    </tr>\n",
       "    <tr>\n",
       "      <th>Parole_Board</th>\n",
       "      <td>NaN</td>\n",
       "      <td>5774263.196</td>\n",
       "      <td>6308207.127</td>\n",
       "      <td>6758994.796</td>\n",
       "      <td>7247381.040</td>\n",
       "      <td>NaN</td>\n",
       "    </tr>\n",
       "    <tr>\n",
       "      <th>State_Police</th>\n",
       "      <td>NaN</td>\n",
       "      <td>82641290.781</td>\n",
       "      <td>87645976.975</td>\n",
       "      <td>93983707.225</td>\n",
       "      <td>104510631.055</td>\n",
       "      <td>NaN</td>\n",
       "    </tr>\n",
       "    <tr>\n",
       "      <th>Suffolk_DA</th>\n",
       "      <td>NaN</td>\n",
       "      <td>1423446.254</td>\n",
       "      <td>1511664.035</td>\n",
       "      <td>1600690.820</td>\n",
       "      <td>1763099.500</td>\n",
       "      <td>NaN</td>\n",
       "    </tr>\n",
       "    <tr>\n",
       "      <th>Suffolk_Sheriff</th>\n",
       "      <td>NaN</td>\n",
       "      <td>10200452.842</td>\n",
       "      <td>11106626.290</td>\n",
       "      <td>12031941.134</td>\n",
       "      <td>13335456.190</td>\n",
       "      <td>NaN</td>\n",
       "    </tr>\n",
       "    <tr>\n",
       "      <th>Supreme_Judicial_Court</th>\n",
       "      <td>NaN</td>\n",
       "      <td>2176348.347</td>\n",
       "      <td>2306287.795</td>\n",
       "      <td>2188637.495</td>\n",
       "      <td>2270515.531</td>\n",
       "      <td>NaN</td>\n",
       "    </tr>\n",
       "    <tr>\n",
       "      <th>state_police</th>\n",
       "      <td>NaN</td>\n",
       "      <td>274354.777</td>\n",
       "      <td>173419.375</td>\n",
       "      <td>104277.998</td>\n",
       "      <td>144018.113</td>\n",
       "      <td>NaN</td>\n",
       "    </tr>\n",
       "    <tr>\n",
       "      <th>trial_court_local</th>\n",
       "      <td>NaN</td>\n",
       "      <td>4512975.250</td>\n",
       "      <td>4843035.102</td>\n",
       "      <td>5111432.890</td>\n",
       "      <td>5230811.762</td>\n",
       "      <td>NaN</td>\n",
       "    </tr>\n",
       "    <tr>\n",
       "      <th>trial_court_statewide</th>\n",
       "      <td>NaN</td>\n",
       "      <td>72032012.742</td>\n",
       "      <td>79892708.277</td>\n",
       "      <td>84439139.121</td>\n",
       "      <td>90116437.768</td>\n",
       "      <td>NaN</td>\n",
       "    </tr>\n",
       "    <tr>\n",
       "      <th>DOC</th>\n",
       "      <td>NaN</td>\n",
       "      <td>15379732.534</td>\n",
       "      <td>16357564.990</td>\n",
       "      <td>16738052.895</td>\n",
       "      <td>17625933.579</td>\n",
       "      <td>NaN</td>\n",
       "    </tr>\n",
       "  </tbody>\n",
       "</table>\n",
       "</div>"
      ],
      "text/plain": [
       "                       2015         2016         2017         2018  \\\n",
       "agency_class                                                         \n",
       "Appeals_Court           NaN  2952414.962  3335181.424  3505983.980   \n",
       "CPCS                    NaN  2744489.977  3095990.133  3467557.969   \n",
       "DAA                     NaN    78403.102    78994.836    93746.009   \n",
       "Parole_Board            NaN  5774263.196  6308207.127  6758994.796   \n",
       "State_Police            NaN 82641290.781 87645976.975 93983707.225   \n",
       "Suffolk_DA              NaN  1423446.254  1511664.035  1600690.820   \n",
       "Suffolk_Sheriff         NaN 10200452.842 11106626.290 12031941.134   \n",
       "Supreme_Judicial_Court  NaN  2176348.347  2306287.795  2188637.495   \n",
       "state_police            NaN   274354.777   173419.375   104277.998   \n",
       "trial_court_local       NaN  4512975.250  4843035.102  5111432.890   \n",
       "trial_court_statewide   NaN 72032012.742 79892708.277 84439139.121   \n",
       "DOC                     NaN 15379732.534 16357564.990 16738052.895   \n",
       "\n",
       "                                2019 2020  \n",
       "agency_class                               \n",
       "Appeals_Court            3677631.972  NaN  \n",
       "CPCS                     3893469.757  NaN  \n",
       "DAA                       110430.671  NaN  \n",
       "Parole_Board             7247381.040  NaN  \n",
       "State_Police           104510631.055  NaN  \n",
       "Suffolk_DA               1763099.500  NaN  \n",
       "Suffolk_Sheriff         13335456.190  NaN  \n",
       "Supreme_Judicial_Court   2270515.531  NaN  \n",
       "state_police              144018.113  NaN  \n",
       "trial_court_local        5230811.762  NaN  \n",
       "trial_court_statewide   90116437.768  NaN  \n",
       "DOC                     17625933.579  NaN  "
      ]
     },
     "metadata": {},
     "output_type": "display_data"
    },
    {
     "name": "stdout",
     "output_type": "stream",
     "text": [
      "The autoreload extension is already loaded. To reload it, use:\n",
      "  %reload_ext autoreload\n"
     ]
    }
   ],
   "source": [
    "%load_ext autoreload\n",
    "%autoreload 2"
   ]
  },
  {
   "cell_type": "code",
   "execution_count": 15,
   "metadata": {},
   "outputs": [],
   "source": [
    "import warnings\n",
    "warnings.simplefilter(action='ignore', category=FutureWarning)\n",
    "\n",
    "import pandas as pd\n",
    "import os\n",
    "import sys\n",
    "import numpy as np\n",
    "from sodapy import Socrata"
   ]
  },
  {
   "cell_type": "code",
   "execution_count": 16,
   "metadata": {},
   "outputs": [],
   "source": [
    "sys.path.insert(0, os.path.abspath(\"../..\"))"
   ]
  },
  {
   "cell_type": "code",
   "execution_count": 17,
   "metadata": {},
   "outputs": [],
   "source": [
    "app_token = \"2Qa1WiG8G4kj1vGVd2noK7zP0\"\n",
    "client = Socrata(\"cthru.data.socrata.com\", app_token)\n",
    "client.timeout = 40"
   ]
  },
  {
   "cell_type": "code",
   "execution_count": 18,
   "metadata": {
    "scrolled": false
   },
   "outputs": [
    {
     "name": "stderr",
     "output_type": "stream",
     "text": [
      "/Users/alexanderweinstein/Documents/Harris/Summer2020/Carceral_Budgeting/Exploratory/Agency_Classes_2Ver.py:175: DtypeWarning: Columns (16) have mixed types.Specify dtype option on import or set low_memory=False.\n",
      "  self.get_expenditures_by_year()\n"
     ]
    },
    {
     "name": "stdout",
     "output_type": "stream",
     "text": [
      "percent criminal correction for trial court local pensions 2016   0.343\n",
      "2017   0.335\n",
      "2018   0.358\n",
      "2019   0.380\n",
      "dtype: float64\n"
     ]
    },
    {
     "name": "stderr",
     "output_type": "stream",
     "text": [
      "/Users/alexanderweinstein/Documents/Harris/Summer2020/Carceral_Budgeting/Exploratory/Agency_Classes_2Ver.py:169: DtypeWarning: Columns (16) have mixed types.Specify dtype option on import or set low_memory=False.\n",
      "  self.get_final_costs()\n",
      "/Users/alexanderweinstein/Documents/Harris/Summer2020/Carceral_Budgeting/Exploratory/Agency_Classes_2Ver.py:175: DtypeWarning: Columns (15,16) have mixed types.Specify dtype option on import or set low_memory=False.\n",
      "  self.get_expenditures_by_year()\n"
     ]
    },
    {
     "name": "stdout",
     "output_type": "stream",
     "text": [
      "\n"
     ]
    }
   ],
   "source": [
    "from Initialize_Agencies_3Ver import get_agencies\n",
    "yr = list(range(2016,2020))\n",
    "agencies = get_agencies(yr)"
   ]
  },
  {
   "cell_type": "markdown",
   "metadata": {},
   "source": [
    "## Get statewide pension contributions"
   ]
  },
  {
   "cell_type": "code",
   "execution_count": 20,
   "metadata": {},
   "outputs": [],
   "source": [
    "statewide_pension_contribution = pd.DataFrame(client.get(\"pegc-naaa\",\n",
    "                                                         where = \"appropriation_name = '(06121020) STATE RETIREMENT BD COMMONWEALTH PENSION'\", \n",
    "                                                         limit =999999))"
   ]
  },
  {
   "cell_type": "code",
   "execution_count": 21,
   "metadata": {},
   "outputs": [],
   "source": [
    "statewide_pension_contribution[\"amount\"] = statewide_pension_contribution[\"amount\"].astype(float)\n",
    "statewide_pension_contribution[\"budget_fiscal_year\"] = statewide_pension_contribution[\"budget_fiscal_year\"].astype(int)\n",
    "statewide_contributions = statewide_pension_contribution.groupby(\"budget_fiscal_year\").sum()[\"amount\"].loc[yr]"
   ]
  },
  {
   "cell_type": "code",
   "execution_count": 22,
   "metadata": {},
   "outputs": [
    {
     "data": {
      "text/plain": [
       "budget_fiscal_year\n",
       "2016   1695644301.330\n",
       "2017   1775058311.520\n",
       "2018   1825313115.460\n",
       "2019   1909137852.920\n",
       "Name: amount, dtype: float64"
      ]
     },
     "execution_count": 22,
     "metadata": {},
     "output_type": "execute_result"
    }
   ],
   "source": [
    "statewide_contributions"
   ]
  },
  {
   "cell_type": "markdown",
   "metadata": {},
   "source": [
    "## Get statewide pension payouts"
   ]
  },
  {
   "cell_type": "code",
   "execution_count": 23,
   "metadata": {},
   "outputs": [],
   "source": [
    "retirement_payouts = pd.DataFrame(client.get(\"pni4-392n\",\n",
    "                                             where = \"Year>=2015\",\n",
    "                                             limit = 999999))"
   ]
  },
  {
   "cell_type": "code",
   "execution_count": 24,
   "metadata": {},
   "outputs": [],
   "source": [
    "retirement_payouts[\"annual_amount\"] = retirement_payouts[\"annual_amount\"].astype(float)\n",
    "retirement_payouts.rename(columns={\"department_last_worked_in\": \"department\"}, inplace=True)\n",
    "retirement_payouts[\"department\"].fillna(\"None\",inplace=True)\n",
    "retirement_payouts[\"year\"] = retirement_payouts[\"year\"].astype(int)\n",
    "retirement_payouts =retirement_payouts[retirement_payouts[\"retirement_system\"]==\"MSERS\"]"
   ]
  },
  {
   "cell_type": "code",
   "execution_count": 25,
   "metadata": {},
   "outputs": [],
   "source": [
    "statewide_payouts_by_year = retirement_payouts.groupby(\"year\").sum()[\"annual_amount\"]"
   ]
  },
  {
   "cell_type": "markdown",
   "metadata": {},
   "source": [
    "### Check Trial Court"
   ]
  },
  {
   "cell_type": "code",
   "execution_count": 26,
   "metadata": {
    "scrolled": false
   },
   "outputs": [
    {
     "data": {
      "text/plain": [
       "department\n",
       "Trial Court Justice               1512\n",
       "Industrial Accident/rehab.         479\n",
       "Trial Court Administration         400\n",
       "Industrial Accident/rehab.3        218\n",
       "Trial Court Law Libraries          163\n",
       "Industrial Accident Board           36\n",
       "Hampden Court Ii % Trial Court      21\n",
       "Adm.office/trial Court/sec.pro      18\n",
       "Trial Court Cse Unit                12\n",
       "dtype: int64"
      ]
     },
     "execution_count": 26,
     "metadata": {},
     "output_type": "execute_result"
    }
   ],
   "source": [
    "pd.set_option(\"display.max_rows\", 1000)\n",
    "retirement_payouts[retirement_payouts[\"department\"].str.contains(\"(?i)trial\")].groupby(\"department\").size().sort_values(ascending=False).head(200)"
   ]
  },
  {
   "cell_type": "markdown",
   "metadata": {},
   "source": [
    "This is a lot of double checking to do lol. I think it's safe to assume I got nearly all. No one can say it's some serious mistake to not count 20 employees out of hundreds. "
   ]
  },
  {
   "cell_type": "markdown",
   "metadata": {},
   "source": [
    "Ok I just realized something: some of these former employees we know worked within suffolk county. What if we didn't apply the suffolk county correction for them? So develop a category called \"local pensions.\" Ballpark how much money that is here"
   ]
  },
  {
   "cell_type": "code",
   "execution_count": 21,
   "metadata": {
    "scrolled": true
   },
   "outputs": [],
   "source": [
    "local_TRC_employers =  [\"Suffolk Superior Court\",\n",
    "                                  \"Chelsea District Court\", \"Suffolk Cty. Juvenile Court\",\n",
    "                                  \"South Boston District Court\", \"South Boston District  Court\",\n",
    "                                  \"East Boston District Court\", \"Boston Municipal Court\"]\n",
    "local_TRC_employees = retirement_payouts[retirement_payouts[\"department\"].isin(local_TRC_employers)]\n",
    "local_by_year = local_TRC_employees.groupby(\"year\").sum()[\"annual_amount\"]"
   ]
  },
  {
   "cell_type": "code",
   "execution_count": 22,
   "metadata": {},
   "outputs": [
    {
     "data": {
      "text/plain": [
       "2015           nan\n",
       "2016   4472732.947\n",
       "2017   5003860.742\n",
       "2018   5077337.557\n",
       "2019   5151116.936\n",
       "2020           nan\n",
       "dtype: float64"
      ]
     },
     "execution_count": 22,
     "metadata": {},
     "output_type": "execute_result"
    }
   ],
   "source": [
    "(local_by_year/statewide_payouts_by_year)*statewide_contributions"
   ]
  },
  {
   "cell_type": "code",
   "execution_count": 23,
   "metadata": {},
   "outputs": [],
   "source": [
    "statewide_TRC = [\"Trial Court Justice\", \"Probation\",\n",
    "                                                  \"Admin.office/district Court\", \"Office Of Court Management\",\n",
    "                                                  \"General Court\", \"Superior Court Probation\",\n",
    "                                                  \"Trial Court Administration\",\n",
    "                                                  \"Juvenile Court Administration\"]\n",
    "statewide_TRC_employees = retirement_payouts[retirement_payouts[\"department\"].isin(statewide_TRC)]\n",
    "statewide_TRC_by_year = statewide_TRC_employees.groupby(\"year\").sum()[\"annual_amount\"]"
   ]
  },
  {
   "cell_type": "code",
   "execution_count": 24,
   "metadata": {},
   "outputs": [
    {
     "data": {
      "text/plain": [
       "['Trial Court Justice',\n",
       " 'Probation',\n",
       " 'Admin.office/district Court',\n",
       " 'Office Of Court Management',\n",
       " 'General Court',\n",
       " 'Superior Court Probation',\n",
       " 'Trial Court Administration',\n",
       " 'Juvenile Court Administration']"
      ]
     },
     "execution_count": 24,
     "metadata": {},
     "output_type": "execute_result"
    }
   ],
   "source": [
    "statewide_TRC"
   ]
  },
  {
   "cell_type": "code",
   "execution_count": 25,
   "metadata": {},
   "outputs": [
    {
     "data": {
      "text/plain": [
       "2015            nan\n",
       "2016   75033857.192\n",
       "2017   81237414.625\n",
       "2018   85340899.544\n",
       "2019   90972824.566\n",
       "2020            nan\n",
       "dtype: float64"
      ]
     },
     "execution_count": 25,
     "metadata": {},
     "output_type": "execute_result"
    }
   ],
   "source": [
    "(statewide_TRC_by_year/statewide_payouts_by_year)*statewide_contributions"
   ]
  },
  {
   "cell_type": "markdown",
   "metadata": {},
   "source": [
    "Ok quickly eyeball math to make sure it's ok"
   ]
  },
  {
   "cell_type": "code",
   "execution_count": 11,
   "metadata": {},
   "outputs": [],
   "source": [
    "TRC = agencies[\"trial_court\"]"
   ]
  },
  {
   "cell_type": "code",
   "execution_count": 12,
   "metadata": {
    "scrolled": true
   },
   "outputs": [
    {
     "data": {
      "text/plain": [
       "2016   4512975.250\n",
       "2017   4843035.102\n",
       "2018   5111432.890\n",
       "2019   5230811.762\n",
       "Name: trial_court_local, dtype: object"
      ]
     },
     "execution_count": 12,
     "metadata": {},
     "output_type": "execute_result"
    }
   ],
   "source": [
    "TRC.local_pensions"
   ]
  },
  {
   "cell_type": "code",
   "execution_count": 13,
   "metadata": {},
   "outputs": [
    {
     "data": {
      "text/plain": [
       "2016   72032012.742\n",
       "2017   79892708.277\n",
       "2018   84439139.121\n",
       "2019   90116437.768\n",
       "Name: trial_court_statewide, dtype: object"
      ]
     },
     "execution_count": 13,
     "metadata": {},
     "output_type": "execute_result"
    }
   ],
   "source": [
    "TRC.pensions"
   ]
  },
  {
   "cell_type": "markdown",
   "metadata": {},
   "source": [
    "**Not checked yet!!**\n",
    "Check again when I'm fresh."
   ]
  },
  {
   "cell_type": "markdown",
   "metadata": {},
   "source": [
    "## Check State Police"
   ]
  },
  {
   "cell_type": "markdown",
   "metadata": {},
   "source": [
    "First question: are there state police former employers by a different name?"
   ]
  },
  {
   "cell_type": "code",
   "execution_count": 37,
   "metadata": {},
   "outputs": [
    {
     "data": {
      "text/plain": [
       "department                                title_at_retirement           \n",
       "State Police                              State Police Trooper,1st Class    3157\n",
       "                                          State Police Sergeant             1282\n",
       "Environmental Affairs                     Environ Police Officer (a/b)       136\n",
       "                                          Environ Police Off. (c) Sgt        100\n",
       "                                          Environ Police Off (d) lt           93\n",
       "State Police                              State Police Dispatcher I           86\n",
       "                                          State Police Dispatcher Iii         43\n",
       "                                          State Police Dispatcher ii          26\n",
       "Fish & Wildlife & Recreat.veh.            Environmntl Police Officer I        18\n",
       "University Of Mass/amherst                Univ Police Officer                 16\n",
       "Fish & Wildlife & Recreat.veh.            Environ Police Off. (c) Sgt         14\n",
       "State Police                              State Police Trooper                10\n",
       "Fish & Wildlife & Recreat.veh.            Environ Police Off (d) lt            8\n",
       "                                          Environmntl Police Officer ii        8\n",
       "University Of Mass/amherst                Univ Police Sergeant, U Of M         7\n",
       "Univ. Of Mass/lowell Campus               University Police Sergeant           7\n",
       "Mass Dept Of Transportation               State Police Dispatcher ii           6\n",
       "Univ. Of Mass Medical School              Police Officer                       5\n",
       "State Police                              State Police, Trainee                4\n",
       "University Of Mass/amherst                Univ Police Lieutenant, U Of M       4\n",
       "Mass Dept Of Transportation               State Police Trooper,1st Class       4\n",
       "                                          State Police Sergeant                4\n",
       "                                          State Police Dispatcher Iii          4\n",
       "Environmental Affairs                     Environmntl Police Officer ii        4\n",
       "Fish & Wildlife & Recreat.veh.            Environ Police Officer (a/b)         3\n",
       "Mass Port Authority                       State Police Sergeant                3\n",
       "Univ. Of Mass/dartmouth Campus            University Police Lieutenant         3\n",
       "Public Safety                             State Police Sergeant                2\n",
       "M.d.c.                                    State Police, Trainee                2\n",
       "Mass Turnpike Auth.st.police              State Police Sergeant                2\n",
       "Univ. Of Mass/dartmouth Campus            University Police Officer            1\n",
       "Univ. Of Mass Medical School              Asst. Vc Chief Of Police             1\n",
       "Executive Office Of Public Safety & Secu  State Police Dispatcher I            1\n",
       "University Of Mass/amherst                Deputy Chief Of Police               1\n",
       "Univ. Of Mass/dartmouth Campus            University Police Captain            1\n",
       "dtype: int64"
      ]
     },
     "execution_count": 37,
     "metadata": {},
     "output_type": "execute_result"
    }
   ],
   "source": [
    "pd.set_option(\"display.max_rows\",100)\n",
    "retirement_payouts[(retirement_payouts[\"title_at_retirement\"].str.contains(\"(?i)police\"))&\n",
    "                   (retirement_payouts[\"title_at_retirement\"].str.contains(\"(?i)campus\")==False)]\\\n",
    ".groupby([\"department\",\"title_at_retirement\" ]).size().sort_values(ascending=False).head(100)"
   ]
  },
  {
   "cell_type": "code",
   "execution_count": 29,
   "metadata": {},
   "outputs": [],
   "source": [
    "mass_turnpike_cops = retirement_payouts[retirement_payouts[\"department\"]==\"Mass Turnpike Auth.st.police\"]\n"
   ]
  },
  {
   "cell_type": "code",
   "execution_count": 31,
   "metadata": {
    "scrolled": false
   },
   "outputs": [
    {
     "data": {
      "text/html": [
       "<div>\n",
       "<style scoped>\n",
       "    .dataframe tbody tr th:only-of-type {\n",
       "        vertical-align: middle;\n",
       "    }\n",
       "\n",
       "    .dataframe tbody tr th {\n",
       "        vertical-align: top;\n",
       "    }\n",
       "\n",
       "    .dataframe thead th {\n",
       "        text-align: right;\n",
       "    }\n",
       "</style>\n",
       "<table border=\"1\" class=\"dataframe\">\n",
       "  <thead>\n",
       "    <tr style=\"text-align: right;\">\n",
       "      <th></th>\n",
       "      <th>trans_no</th>\n",
       "      <th>last_name</th>\n",
       "      <th>first_name</th>\n",
       "      <th>date_of_retirement</th>\n",
       "      <th>title_at_retirement</th>\n",
       "      <th>department</th>\n",
       "      <th>monthly_amount</th>\n",
       "      <th>year</th>\n",
       "      <th>position_type</th>\n",
       "      <th>retirement_system</th>\n",
       "      <th>annual_amount</th>\n",
       "    </tr>\n",
       "  </thead>\n",
       "  <tbody>\n",
       "    <tr>\n",
       "      <th>4571</th>\n",
       "      <td>S00408122</td>\n",
       "      <td>Beaton</td>\n",
       "      <td>Roderick</td>\n",
       "      <td>1992-07-09T00:00:00.000</td>\n",
       "      <td>N/A</td>\n",
       "      <td>Mass Turnpike Auth.st.police</td>\n",
       "      <td>3954.79</td>\n",
       "      <td>2015</td>\n",
       "      <td>Full</td>\n",
       "      <td>MSERS</td>\n",
       "      <td>47457.480</td>\n",
       "    </tr>\n",
       "    <tr>\n",
       "      <th>4826</th>\n",
       "      <td>S00408044</td>\n",
       "      <td>Barrett</td>\n",
       "      <td>Richard</td>\n",
       "      <td>1994-11-04T00:00:00.000</td>\n",
       "      <td>N/A</td>\n",
       "      <td>Mass Turnpike Auth.st.police</td>\n",
       "      <td>3394.02</td>\n",
       "      <td>2015</td>\n",
       "      <td>Full</td>\n",
       "      <td>MSERS</td>\n",
       "      <td>40728.240</td>\n",
       "    </tr>\n",
       "    <tr>\n",
       "      <th>4969</th>\n",
       "      <td>S00413543</td>\n",
       "      <td>Eiseman</td>\n",
       "      <td>Robert</td>\n",
       "      <td>2009-12-31T00:00:00.000</td>\n",
       "      <td>State Police Sergeant</td>\n",
       "      <td>Mass Turnpike Auth.st.police</td>\n",
       "      <td>6498.67</td>\n",
       "      <td>2015</td>\n",
       "      <td>Full</td>\n",
       "      <td>MSERS</td>\n",
       "      <td>77984.040</td>\n",
       "    </tr>\n",
       "    <tr>\n",
       "      <th>5003</th>\n",
       "      <td>S00415467</td>\n",
       "      <td>Godfrey</td>\n",
       "      <td>William</td>\n",
       "      <td>2005-12-30T00:00:00.000</td>\n",
       "      <td>N/A</td>\n",
       "      <td>Mass Turnpike Auth.st.police</td>\n",
       "      <td>5473.54</td>\n",
       "      <td>2015</td>\n",
       "      <td>Full</td>\n",
       "      <td>MSERS</td>\n",
       "      <td>65682.480</td>\n",
       "    </tr>\n",
       "    <tr>\n",
       "      <th>5060</th>\n",
       "      <td>S00426660</td>\n",
       "      <td>Stoddard</td>\n",
       "      <td>Larry</td>\n",
       "      <td>1990-09-17T00:00:00.000</td>\n",
       "      <td>N/A</td>\n",
       "      <td>Mass Turnpike Auth.st.police</td>\n",
       "      <td>4001.90</td>\n",
       "      <td>2015</td>\n",
       "      <td>Full</td>\n",
       "      <td>MSERS</td>\n",
       "      <td>48022.800</td>\n",
       "    </tr>\n",
       "    <tr>\n",
       "      <th>...</th>\n",
       "      <td>...</td>\n",
       "      <td>...</td>\n",
       "      <td>...</td>\n",
       "      <td>...</td>\n",
       "      <td>...</td>\n",
       "      <td>...</td>\n",
       "      <td>...</td>\n",
       "      <td>...</td>\n",
       "      <td>...</td>\n",
       "      <td>...</td>\n",
       "      <td>...</td>\n",
       "    </tr>\n",
       "    <tr>\n",
       "      <th>719691</th>\n",
       "      <td>S03278795</td>\n",
       "      <td>Noone</td>\n",
       "      <td>Richard</td>\n",
       "      <td>2008-06-28T00:00:00.000</td>\n",
       "      <td>N/A</td>\n",
       "      <td>Mass Turnpike Auth.st.police</td>\n",
       "      <td>7644.41</td>\n",
       "      <td>2020</td>\n",
       "      <td>Full</td>\n",
       "      <td>MSERS</td>\n",
       "      <td>91732.920</td>\n",
       "    </tr>\n",
       "    <tr>\n",
       "      <th>720462</th>\n",
       "      <td>S02531828</td>\n",
       "      <td>Roy</td>\n",
       "      <td>James</td>\n",
       "      <td>1995-05-31T00:00:00.000</td>\n",
       "      <td>N/A</td>\n",
       "      <td>Mass Turnpike Auth.st.police</td>\n",
       "      <td>4648.55</td>\n",
       "      <td>2020</td>\n",
       "      <td>Full</td>\n",
       "      <td>MSERS</td>\n",
       "      <td>55782.600</td>\n",
       "    </tr>\n",
       "    <tr>\n",
       "      <th>725097</th>\n",
       "      <td>S00419991</td>\n",
       "      <td>Lynch</td>\n",
       "      <td>Philip</td>\n",
       "      <td>2008-04-05T00:00:00.000</td>\n",
       "      <td>N/A</td>\n",
       "      <td>Mass Turnpike Auth.st.police</td>\n",
       "      <td>6736.22</td>\n",
       "      <td>2020</td>\n",
       "      <td>Full</td>\n",
       "      <td>MSERS</td>\n",
       "      <td>80834.640</td>\n",
       "    </tr>\n",
       "    <tr>\n",
       "      <th>727103</th>\n",
       "      <td>S00420810</td>\n",
       "      <td>Mason</td>\n",
       "      <td>Stoddard</td>\n",
       "      <td>1996-10-25T00:00:00.000</td>\n",
       "      <td>N/A</td>\n",
       "      <td>Mass Turnpike Auth.st.police</td>\n",
       "      <td>3640.05</td>\n",
       "      <td>2020</td>\n",
       "      <td>Full</td>\n",
       "      <td>MSERS</td>\n",
       "      <td>43680.600</td>\n",
       "    </tr>\n",
       "    <tr>\n",
       "      <th>730890</th>\n",
       "      <td>S03278873</td>\n",
       "      <td>Papa</td>\n",
       "      <td>Joseph</td>\n",
       "      <td>2007-02-02T00:00:00.000</td>\n",
       "      <td>N/A</td>\n",
       "      <td>Mass Turnpike Auth.st.police</td>\n",
       "      <td>4247</td>\n",
       "      <td>2020</td>\n",
       "      <td>Full</td>\n",
       "      <td>MSERS</td>\n",
       "      <td>50964.000</td>\n",
       "    </tr>\n",
       "  </tbody>\n",
       "</table>\n",
       "<p>485 rows × 11 columns</p>\n",
       "</div>"
      ],
      "text/plain": [
       "         trans_no last_name first_name       date_of_retirement  \\\n",
       "4571    S00408122    Beaton   Roderick  1992-07-09T00:00:00.000   \n",
       "4826    S00408044   Barrett    Richard  1994-11-04T00:00:00.000   \n",
       "4969    S00413543   Eiseman     Robert  2009-12-31T00:00:00.000   \n",
       "5003    S00415467   Godfrey    William  2005-12-30T00:00:00.000   \n",
       "5060    S00426660  Stoddard      Larry  1990-09-17T00:00:00.000   \n",
       "...           ...       ...        ...                      ...   \n",
       "719691  S03278795     Noone    Richard  2008-06-28T00:00:00.000   \n",
       "720462  S02531828       Roy      James  1995-05-31T00:00:00.000   \n",
       "725097  S00419991     Lynch     Philip  2008-04-05T00:00:00.000   \n",
       "727103  S00420810     Mason   Stoddard  1996-10-25T00:00:00.000   \n",
       "730890  S03278873      Papa     Joseph  2007-02-02T00:00:00.000   \n",
       "\n",
       "          title_at_retirement                    department monthly_amount  \\\n",
       "4571                      N/A  Mass Turnpike Auth.st.police        3954.79   \n",
       "4826                      N/A  Mass Turnpike Auth.st.police        3394.02   \n",
       "4969    State Police Sergeant  Mass Turnpike Auth.st.police        6498.67   \n",
       "5003                      N/A  Mass Turnpike Auth.st.police        5473.54   \n",
       "5060                      N/A  Mass Turnpike Auth.st.police        4001.90   \n",
       "...                       ...                           ...            ...   \n",
       "719691                    N/A  Mass Turnpike Auth.st.police        7644.41   \n",
       "720462                    N/A  Mass Turnpike Auth.st.police        4648.55   \n",
       "725097                    N/A  Mass Turnpike Auth.st.police        6736.22   \n",
       "727103                    N/A  Mass Turnpike Auth.st.police        3640.05   \n",
       "730890                    N/A  Mass Turnpike Auth.st.police           4247   \n",
       "\n",
       "        year position_type retirement_system  annual_amount  \n",
       "4571    2015          Full             MSERS      47457.480  \n",
       "4826    2015          Full             MSERS      40728.240  \n",
       "4969    2015          Full             MSERS      77984.040  \n",
       "5003    2015          Full             MSERS      65682.480  \n",
       "5060    2015          Full             MSERS      48022.800  \n",
       "...      ...           ...               ...            ...  \n",
       "719691  2020          Full             MSERS      91732.920  \n",
       "720462  2020          Full             MSERS      55782.600  \n",
       "725097  2020          Full             MSERS      80834.640  \n",
       "727103  2020          Full             MSERS      43680.600  \n",
       "730890  2020          Full             MSERS      50964.000  \n",
       "\n",
       "[485 rows x 11 columns]"
      ]
     },
     "execution_count": 31,
     "metadata": {},
     "output_type": "execute_result"
    }
   ],
   "source": []
  },
  {
   "cell_type": "markdown",
   "metadata": {},
   "source": [
    "## Check CPCS"
   ]
  },
  {
   "cell_type": "code",
   "execution_count": null,
   "metadata": {},
   "outputs": [],
   "source": []
  },
  {
   "cell_type": "markdown",
   "metadata": {},
   "source": [
    "## Check Suffolk DA"
   ]
  },
  {
   "cell_type": "code",
   "execution_count": null,
   "metadata": {},
   "outputs": [],
   "source": []
  },
  {
   "cell_type": "markdown",
   "metadata": {},
   "source": [
    "## Check Suffolk Sheriff"
   ]
  },
  {
   "cell_type": "code",
   "execution_count": null,
   "metadata": {},
   "outputs": [],
   "source": []
  },
  {
   "cell_type": "markdown",
   "metadata": {},
   "source": [
    "## Check DAA"
   ]
  },
  {
   "cell_type": "code",
   "execution_count": null,
   "metadata": {},
   "outputs": [],
   "source": []
  },
  {
   "cell_type": "markdown",
   "metadata": {},
   "source": [
    "## Check MA Sheriff's Association"
   ]
  },
  {
   "cell_type": "code",
   "execution_count": null,
   "metadata": {},
   "outputs": [],
   "source": []
  },
  {
   "cell_type": "markdown",
   "metadata": {},
   "source": [
    "## Check Parole Board"
   ]
  },
  {
   "cell_type": "code",
   "execution_count": null,
   "metadata": {},
   "outputs": [],
   "source": []
  },
  {
   "cell_type": "markdown",
   "metadata": {},
   "source": [
    "## Check CJT"
   ]
  },
  {
   "cell_type": "code",
   "execution_count": null,
   "metadata": {},
   "outputs": [],
   "source": []
  },
  {
   "cell_type": "markdown",
   "metadata": {},
   "source": [
    "## Check Supreme Judicial Court"
   ]
  },
  {
   "cell_type": "code",
   "execution_count": null,
   "metadata": {},
   "outputs": [],
   "source": []
  },
  {
   "cell_type": "markdown",
   "metadata": {},
   "source": [
    "## Check Appeals Court"
   ]
  },
  {
   "cell_type": "code",
   "execution_count": null,
   "metadata": {},
   "outputs": [],
   "source": []
  },
  {
   "cell_type": "markdown",
   "metadata": {},
   "source": [
    "## Check DOC (make sure it's wrong)"
   ]
  },
  {
   "cell_type": "code",
   "execution_count": null,
   "metadata": {},
   "outputs": [],
   "source": []
  },
  {
   "cell_type": "markdown",
   "metadata": {},
   "source": [
    "## Check Boston Pension Contributions"
   ]
  },
  {
   "cell_type": "code",
   "execution_count": null,
   "metadata": {},
   "outputs": [],
   "source": []
  },
  {
   "cell_type": "markdown",
   "metadata": {},
   "source": [
    "## Check Chelsea Pension Contributions"
   ]
  },
  {
   "cell_type": "code",
   "execution_count": null,
   "metadata": {},
   "outputs": [],
   "source": []
  },
  {
   "cell_type": "markdown",
   "metadata": {},
   "source": [
    "## Check Revere Pension Contributions"
   ]
  },
  {
   "cell_type": "code",
   "execution_count": null,
   "metadata": {},
   "outputs": [],
   "source": []
  },
  {
   "cell_type": "markdown",
   "metadata": {},
   "source": [
    "## Check Winthrop Pension Contributions"
   ]
  },
  {
   "cell_type": "code",
   "execution_count": null,
   "metadata": {},
   "outputs": [],
   "source": []
  }
 ],
 "metadata": {
  "kernelspec": {
   "display_name": "Python 3",
   "language": "python",
   "name": "python3"
  },
  "language_info": {
   "codemirror_mode": {
    "name": "ipython",
    "version": 3
   },
   "file_extension": ".py",
   "mimetype": "text/x-python",
   "name": "python",
   "nbconvert_exporter": "python",
   "pygments_lexer": "ipython3",
   "version": "3.7.6"
  }
 },
 "nbformat": 4,
 "nbformat_minor": 4
}
