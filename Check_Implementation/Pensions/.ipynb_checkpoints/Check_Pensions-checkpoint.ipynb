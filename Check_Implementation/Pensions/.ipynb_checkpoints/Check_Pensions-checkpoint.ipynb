{
 "cells": [
  {
   "cell_type": "markdown",
   "metadata": {},
   "source": [
    "# Check Pensions\n",
    "Payroll fraction was checked in check_payroll notebook. This section requires checking 5 methodologies: the statewide and each municipal. \n",
    "\n",
    "For the statewide we need to get total employer-side contributions and make sure that's correct. Then get pension payouts for each agency, make sure those are correct. Then make sure the calculations are correct\n",
    "\n",
    "For each municipal PD we need to find correct pension line-item and make sure calculation is correct\n"
   ]
  },
  {
   "cell_type": "markdown",
   "metadata": {},
   "source": [
    "## Set up environment"
   ]
  },
  {
   "cell_type": "code",
   "execution_count": 9,
   "metadata": {},
   "outputs": [
    {
     "name": "stderr",
     "output_type": "stream",
     "text": [
      "/opt/anaconda3/lib/python3.7/site-packages/pandas/core/frame.py:4133: SettingWithCopyWarning: \n",
      "A value is trying to be set on a copy of a slice from a DataFrame\n",
      "\n",
      "See the caveats in the documentation: https://pandas.pydata.org/pandas-docs/stable/user_guide/indexing.html#returning-a-view-versus-a-copy\n",
      "  errors=errors,\n",
      "/opt/anaconda3/lib/python3.7/site-packages/pandas/core/generic.py:6245: SettingWithCopyWarning: \n",
      "A value is trying to be set on a copy of a slice from a DataFrame\n",
      "\n",
      "See the caveats in the documentation: https://pandas.pydata.org/pandas-docs/stable/user_guide/indexing.html#returning-a-view-versus-a-copy\n",
      "  self._update_inplace(new_data)\n",
      "/Users/alexanderweinstein/Documents/Harris/Summer2020/Carceral_Budgeting/Exploratory/pensions/State_Pensions_2Ver.py:121: SettingWithCopyWarning: \n",
      "A value is trying to be set on a copy of a slice from a DataFrame.\n",
      "Try using .loc[row_indexer,col_indexer] = value instead\n",
      "\n",
      "See the caveats in the documentation: https://pandas.pydata.org/pandas-docs/stable/user_guide/indexing.html#returning-a-view-versus-a-copy\n",
      "  cthru_pensions[\"year\"] = cthru_pensions[\"year\"].astype(int)\n"
     ]
    },
    {
     "name": "stdout",
     "output_type": "stream",
     "text": [
      "pensions statewide are \n"
     ]
    },
    {
     "name": "stderr",
     "output_type": "stream",
     "text": [
      "/opt/anaconda3/lib/python3.7/importlib/__init__.py:169: DtypeWarning: Columns (16) have mixed types.Specify dtype option on import or set low_memory=False.\n",
      "  _bootstrap._exec(spec, module)\n"
     ]
    },
    {
     "data": {
      "text/html": [
       "<div>\n",
       "<style scoped>\n",
       "    .dataframe tbody tr th:only-of-type {\n",
       "        vertical-align: middle;\n",
       "    }\n",
       "\n",
       "    .dataframe tbody tr th {\n",
       "        vertical-align: top;\n",
       "    }\n",
       "\n",
       "    .dataframe thead th {\n",
       "        text-align: right;\n",
       "    }\n",
       "</style>\n",
       "<table border=\"1\" class=\"dataframe\">\n",
       "  <thead>\n",
       "    <tr style=\"text-align: right;\">\n",
       "      <th></th>\n",
       "      <th>2015</th>\n",
       "      <th>2016</th>\n",
       "      <th>2017</th>\n",
       "      <th>2018</th>\n",
       "      <th>2019</th>\n",
       "      <th>2020</th>\n",
       "    </tr>\n",
       "    <tr>\n",
       "      <th>agency_class</th>\n",
       "      <th></th>\n",
       "      <th></th>\n",
       "      <th></th>\n",
       "      <th></th>\n",
       "      <th></th>\n",
       "      <th></th>\n",
       "    </tr>\n",
       "  </thead>\n",
       "  <tbody>\n",
       "    <tr>\n",
       "      <th>Appeals_Court</th>\n",
       "      <td>NaN</td>\n",
       "      <td>2952414.962</td>\n",
       "      <td>3335181.424</td>\n",
       "      <td>3505983.980</td>\n",
       "      <td>3677631.972</td>\n",
       "      <td>NaN</td>\n",
       "    </tr>\n",
       "    <tr>\n",
       "      <th>CPCS</th>\n",
       "      <td>NaN</td>\n",
       "      <td>2744489.977</td>\n",
       "      <td>3095990.133</td>\n",
       "      <td>3467557.969</td>\n",
       "      <td>3893469.757</td>\n",
       "      <td>NaN</td>\n",
       "    </tr>\n",
       "    <tr>\n",
       "      <th>DAA</th>\n",
       "      <td>NaN</td>\n",
       "      <td>78403.102</td>\n",
       "      <td>78994.836</td>\n",
       "      <td>93746.009</td>\n",
       "      <td>110430.671</td>\n",
       "      <td>NaN</td>\n",
       "    </tr>\n",
       "    <tr>\n",
       "      <th>Parole_Board</th>\n",
       "      <td>NaN</td>\n",
       "      <td>5774263.196</td>\n",
       "      <td>6308207.127</td>\n",
       "      <td>6758994.796</td>\n",
       "      <td>7247381.040</td>\n",
       "      <td>NaN</td>\n",
       "    </tr>\n",
       "    <tr>\n",
       "      <th>State_Police</th>\n",
       "      <td>NaN</td>\n",
       "      <td>82641290.781</td>\n",
       "      <td>87645976.975</td>\n",
       "      <td>93983707.225</td>\n",
       "      <td>104510631.055</td>\n",
       "      <td>NaN</td>\n",
       "    </tr>\n",
       "    <tr>\n",
       "      <th>Suffolk_DA</th>\n",
       "      <td>NaN</td>\n",
       "      <td>1423446.254</td>\n",
       "      <td>1511664.035</td>\n",
       "      <td>1600690.820</td>\n",
       "      <td>1763099.500</td>\n",
       "      <td>NaN</td>\n",
       "    </tr>\n",
       "    <tr>\n",
       "      <th>Suffolk_Sheriff</th>\n",
       "      <td>NaN</td>\n",
       "      <td>10200452.842</td>\n",
       "      <td>11106626.290</td>\n",
       "      <td>12031941.134</td>\n",
       "      <td>13335456.190</td>\n",
       "      <td>NaN</td>\n",
       "    </tr>\n",
       "    <tr>\n",
       "      <th>Supreme_Judicial_Court</th>\n",
       "      <td>NaN</td>\n",
       "      <td>2176348.347</td>\n",
       "      <td>2306287.795</td>\n",
       "      <td>2188637.495</td>\n",
       "      <td>2270515.531</td>\n",
       "      <td>NaN</td>\n",
       "    </tr>\n",
       "    <tr>\n",
       "      <th>state_police</th>\n",
       "      <td>NaN</td>\n",
       "      <td>274354.777</td>\n",
       "      <td>173419.375</td>\n",
       "      <td>104277.998</td>\n",
       "      <td>144018.113</td>\n",
       "      <td>NaN</td>\n",
       "    </tr>\n",
       "    <tr>\n",
       "      <th>trial_court_local</th>\n",
       "      <td>NaN</td>\n",
       "      <td>4512975.250</td>\n",
       "      <td>4843035.102</td>\n",
       "      <td>5111432.890</td>\n",
       "      <td>5230811.762</td>\n",
       "      <td>NaN</td>\n",
       "    </tr>\n",
       "    <tr>\n",
       "      <th>trial_court_statewide</th>\n",
       "      <td>NaN</td>\n",
       "      <td>72032012.742</td>\n",
       "      <td>79892708.277</td>\n",
       "      <td>84439139.121</td>\n",
       "      <td>90116437.768</td>\n",
       "      <td>NaN</td>\n",
       "    </tr>\n",
       "    <tr>\n",
       "      <th>DOC</th>\n",
       "      <td>NaN</td>\n",
       "      <td>15379732.534</td>\n",
       "      <td>16357564.990</td>\n",
       "      <td>16738052.895</td>\n",
       "      <td>17625933.579</td>\n",
       "      <td>NaN</td>\n",
       "    </tr>\n",
       "  </tbody>\n",
       "</table>\n",
       "</div>"
      ],
      "text/plain": [
       "                       2015         2016         2017         2018  \\\n",
       "agency_class                                                         \n",
       "Appeals_Court           NaN  2952414.962  3335181.424  3505983.980   \n",
       "CPCS                    NaN  2744489.977  3095990.133  3467557.969   \n",
       "DAA                     NaN    78403.102    78994.836    93746.009   \n",
       "Parole_Board            NaN  5774263.196  6308207.127  6758994.796   \n",
       "State_Police            NaN 82641290.781 87645976.975 93983707.225   \n",
       "Suffolk_DA              NaN  1423446.254  1511664.035  1600690.820   \n",
       "Suffolk_Sheriff         NaN 10200452.842 11106626.290 12031941.134   \n",
       "Supreme_Judicial_Court  NaN  2176348.347  2306287.795  2188637.495   \n",
       "state_police            NaN   274354.777   173419.375   104277.998   \n",
       "trial_court_local       NaN  4512975.250  4843035.102  5111432.890   \n",
       "trial_court_statewide   NaN 72032012.742 79892708.277 84439139.121   \n",
       "DOC                     NaN 15379732.534 16357564.990 16738052.895   \n",
       "\n",
       "                                2019 2020  \n",
       "agency_class                               \n",
       "Appeals_Court            3677631.972  NaN  \n",
       "CPCS                     3893469.757  NaN  \n",
       "DAA                       110430.671  NaN  \n",
       "Parole_Board             7247381.040  NaN  \n",
       "State_Police           104510631.055  NaN  \n",
       "Suffolk_DA               1763099.500  NaN  \n",
       "Suffolk_Sheriff         13335456.190  NaN  \n",
       "Supreme_Judicial_Court   2270515.531  NaN  \n",
       "state_police              144018.113  NaN  \n",
       "trial_court_local        5230811.762  NaN  \n",
       "trial_court_statewide   90116437.768  NaN  \n",
       "DOC                     17625933.579  NaN  "
      ]
     },
     "metadata": {},
     "output_type": "display_data"
    },
    {
     "name": "stdout",
     "output_type": "stream",
     "text": [
      "The autoreload extension is already loaded. To reload it, use:\n",
      "  %reload_ext autoreload\n"
     ]
    }
   ],
   "source": [
    "%load_ext autoreload\n",
    "%autoreload 2"
   ]
  },
  {
   "cell_type": "code",
   "execution_count": 10,
   "metadata": {},
   "outputs": [],
   "source": [
    "import warnings\n",
    "warnings.simplefilter(action='ignore', category=FutureWarning)\n",
    "\n",
    "import pandas as pd\n",
    "import os\n",
    "import sys\n",
    "import numpy as np\n",
    "from sodapy import Socrata"
   ]
  },
  {
   "cell_type": "code",
   "execution_count": 11,
   "metadata": {},
   "outputs": [],
   "source": [
    "sys.path.insert(0, os.path.abspath(\"../..\"))"
   ]
  },
  {
   "cell_type": "code",
   "execution_count": 12,
   "metadata": {},
   "outputs": [],
   "source": [
    "app_token = \"2Qa1WiG8G4kj1vGVd2noK7zP0\"\n",
    "client = Socrata(\"cthru.data.socrata.com\", app_token)\n",
    "client.timeout = 40"
   ]
  },
  {
   "cell_type": "code",
   "execution_count": 13,
   "metadata": {
    "scrolled": false
   },
   "outputs": [
    {
     "name": "stderr",
     "output_type": "stream",
     "text": [
      "/Users/alexanderweinstein/Documents/Harris/Summer2020/Carceral_Budgeting/Exploratory/Agency_Classes_2Ver.py:174: DtypeWarning: Columns (16) have mixed types.Specify dtype option on import or set low_memory=False.\n",
      "  self.get_expenditures_by_year()\n",
      "/Users/alexanderweinstein/Documents/Harris/Summer2020/Carceral_Budgeting/Exploratory/Agency_Classes_2Ver.py:168: DtypeWarning: Columns (16) have mixed types.Specify dtype option on import or set low_memory=False.\n",
      "  self.get_final_costs()\n",
      "/Users/alexanderweinstein/Documents/Harris/Summer2020/Carceral_Budgeting/Exploratory/Agency_Classes_2Ver.py:174: DtypeWarning: Columns (15,16) have mixed types.Specify dtype option on import or set low_memory=False.\n",
      "  self.get_expenditures_by_year()\n"
     ]
    },
    {
     "name": "stdout",
     "output_type": "stream",
     "text": [
      "\n"
     ]
    }
   ],
   "source": [
    "from Initialize_Agencies_3Ver import get_agencies\n",
    "yr = list(range(2016,2020))\n",
    "agencies = get_agencies(yr)"
   ]
  },
  {
   "cell_type": "markdown",
   "metadata": {},
   "source": [
    "## Get statewide pension contributions"
   ]
  },
  {
   "cell_type": "code",
   "execution_count": 14,
   "metadata": {},
   "outputs": [],
   "source": [
    "statewide_pension_contribution = pd.DataFrame(client.get(\"pegc-naaa\",\n",
    "                                                         where = \"appropriation_name = '(06121020) STATE RETIREMENT BD COMMONWEALTH PENSION'\", \n",
    "                                                         limit =999999))"
   ]
  },
  {
   "cell_type": "code",
   "execution_count": 15,
   "metadata": {},
   "outputs": [],
   "source": [
    "statewide_pension_contribution[\"amount\"] = statewide_pension_contribution[\"amount\"].astype(float)\n",
    "statewide_pension_contribution[\"budget_fiscal_year\"] = statewide_pension_contribution[\"budget_fiscal_year\"].astype(int)\n",
    "statewide_contributions = statewide_pension_contribution.groupby(\"budget_fiscal_year\").sum()[\"amount\"].loc[yr]"
   ]
  },
  {
   "cell_type": "code",
   "execution_count": 16,
   "metadata": {},
   "outputs": [
    {
     "data": {
      "text/plain": [
       "budget_fiscal_year\n",
       "2016   1695644301.330\n",
       "2017   1775058311.520\n",
       "2018   1825313115.460\n",
       "2019   1909137852.920\n",
       "Name: amount, dtype: float64"
      ]
     },
     "execution_count": 16,
     "metadata": {},
     "output_type": "execute_result"
    }
   ],
   "source": [
    "statewide_contributions"
   ]
  },
  {
   "cell_type": "markdown",
   "metadata": {},
   "source": [
    "## Get statewide pension payouts"
   ]
  },
  {
   "cell_type": "code",
   "execution_count": 17,
   "metadata": {},
   "outputs": [],
   "source": [
    "retirement_payouts = pd.DataFrame(client.get(\"pni4-392n\",\n",
    "                                             where = \"Year>=2015\",\n",
    "                                             limit = 999999))"
   ]
  },
  {
   "cell_type": "code",
   "execution_count": 18,
   "metadata": {},
   "outputs": [],
   "source": [
    "retirement_payouts[\"annual_amount\"] = retirement_payouts[\"annual_amount\"].astype(float)\n",
    "retirement_payouts.rename(columns={\"department_last_worked_in\": \"department\"}, inplace=True)\n",
    "retirement_payouts[\"department\"].fillna(\"None\",inplace=True)\n",
    "retirement_payouts[\"year\"] = retirement_payouts[\"year\"].astype(int)\n",
    "retirement_payouts =retirement_payouts[retirement_payouts[\"retirement_system\"]==\"MSERS\"]"
   ]
  },
  {
   "cell_type": "code",
   "execution_count": 19,
   "metadata": {},
   "outputs": [],
   "source": [
    "statewide_payouts_by_year = retirement_payouts.groupby(\"year\").sum()[\"annual_amount\"]"
   ]
  },
  {
   "cell_type": "markdown",
   "metadata": {},
   "source": [
    "### Check Trial Court"
   ]
  },
  {
   "cell_type": "code",
   "execution_count": 20,
   "metadata": {
    "scrolled": true
   },
   "outputs": [
    {
     "data": {
      "text/plain": [
       "department\n",
       "Admin.office/district Court       1959\n",
       "Office Of Court Management        1689\n",
       "Trial Court Justice               1512\n",
       "Boston Municipal Court             525\n",
       "General Court                      449\n",
       "Trial Court Administration         400\n",
       "Juvenile Court Administration      355\n",
       "Appeals CourT-John Adams Court     340\n",
       "Supreme Judicial Court             304\n",
       "Superior Court Probation           297\n",
       "Worc.cty.court House,dist.atty     282\n",
       "Land Court                         180\n",
       "East Norfolk District Court        177\n",
       "Trial Court Law Libraries          163\n",
       "Suffolk Superior Court Civil       155\n",
       "Springfield District Court         151\n",
       "Suffolk Probate & Family Court     149\n",
       "Roxbury District Court             145\n",
       "Lawrence District Court            140\n",
       "Lowell District Court              140\n",
       "Boston Housing Court               138\n",
       "Central Worcester Dist. Court      129\n",
       "First E. Middlesex Dist.court      124\n",
       "Brockton District Court            121\n",
       "Third Bristol District Court       118\n",
       "Suffolk Cty. Juvenile Court        116\n",
       "Middlesex Superior Court           104\n",
       "Essex Superior Court               102\n",
       "Second Plymouth District Court      97\n",
       "Bristol County Probate Court        95\n",
       "Dorchester District Court           94\n",
       "Somerville District Court           93\n",
       "Bristol Cty. Juvenile Court         92\n",
       "South Essex District Court          89\n",
       "Prob.& Family Court                 86\n",
       "West Roxbury District Court         85\n",
       "South Norfolk District Court        84\n",
       "Central Middlesex Dist. Court       83\n",
       "Essex Cty. Probate Court            82\n",
       "Fourth E.middlesex Dist. Court      82\n",
       "Second Bristol District Court       76\n",
       "Third E. Middlesex Dist. Court      75\n",
       "First S. Worcester Dist. Court      72\n",
       "District CourT-Dedham Division      72\n",
       "Suffolk Superior Court              72\n",
       "First Bristol Court                 66\n",
       "First E.worcester Dist. Court       66\n",
       "Fourth Plymouth District Court      65\n",
       "First No.worcester Dist. Court      64\n",
       "Norfolk Superior Court              64\n",
       "First Essex District Court          64\n",
       "Hampden Superior Court              64\n",
       "Plymouth Superior Court             63\n",
       "Peabody District Court              62\n",
       "Franklin District Court             57\n",
       "Hampshire District Court            57\n",
       "Court Interpreter Program           57\n",
       "Worcester Superior Court            55\n",
       "Bristol Superior Court              53\n",
       "Third Plymouth District Court       51\n",
       "East Boston District Court          51\n",
       "Newton District Court               51\n",
       "Worcester Cty. Juvenile Court       50\n",
       "Third So.worc. District Court       47\n",
       "Western Norfolk District Court      47\n",
       "Western Worc. District Court        46\n",
       "Brighton District Court             45\n",
       "Brookline District Court            45\n",
       "Central Berkshire Dist. Court       44\n",
       "Fourth Bristol District Court       44\n",
       "Tr.courT-Hampden County Div.        40\n",
       "Second Barnstable Dist. Court       39\n",
       "Fitchburg Div.dist.court Dept.      38\n",
       "Chicopee District Court             36\n",
       "Probate/family Court                36\n",
       "Newburyport District Court          35\n",
       "Holyoke District Court              34\n",
       "Franklin Superior Court             34\n",
       "Chelsea District Court              33\n",
       "Natick District Court               32\n",
       "Marlborough District Court          31\n",
       "Eastern Hampden District Court      31\n",
       "Dukes County District Court         30\n",
       "First No.middlesex Dist. Court      30\n",
       "Barnstable/plymouth Juv.court       30\n",
       "Westfield Div. Dist. Court          28\n",
       "Leominster District Court           27\n",
       "Eastern Essex District Court        27\n",
       "No. Berkshire District Court        24\n",
       "Barnstable Superior Court           22\n",
       "Hampden Court Ii % Trial Court      21\n",
       "Boston Div.housing Court            20\n",
       "South Boston District  Court        20\n",
       "Adm.office/trial Court/sec.pro      18\n",
       "So. Berkshire District Court        18\n",
       "Essex County Juvenile Court         18\n",
       "Hampden City Housing Court          16\n",
       "Worcester Housing Court             14\n",
       "E.franklin District Court           14\n",
       "Charlestown District Court          14\n",
       "Falmouth District Court             14\n",
       "Trial Court Cse Unit                12\n",
       "Winchendon District Court           12\n",
       "Norfolk County Juvenile Court       12\n",
       "Plymouth County Juvenile Court      12\n",
       "Second E. Worcester Dist.court       9\n",
       "Berkshire Superior Court             8\n",
       "South East Housing Court             8\n",
       "Nantucket District Court             7\n",
       "Plymouth Cty. Juvenile Court         6\n",
       "Nantucket Superior Court             6\n",
       "Second S Worcester Dist. Court       5\n",
       "Hampshire Superior Court             3\n",
       "South Boston District Court          2\n",
       "Northeast Housing Court              2\n",
       "Franklin/hampshire Juv.court         1\n",
       "dtype: int64"
      ]
     },
     "execution_count": 20,
     "metadata": {},
     "output_type": "execute_result"
    }
   ],
   "source": [
    "pd.set_option(\"display.max_rows\", 1000)\n",
    "retirement_payouts[retirement_payouts[\"department\"].str.contains(\"(?i)court\")].groupby(\"department\").size().sort_values(ascending=False).head(200)"
   ]
  },
  {
   "cell_type": "markdown",
   "metadata": {},
   "source": [
    "This is a lot of double checking to do lol. I think it's safe to assume I got nearly all. No one can say it's some serious mistake to not count 20 employees out of hundreds. "
   ]
  },
  {
   "cell_type": "markdown",
   "metadata": {},
   "source": [
    "Ok I just realized something: some of these former employees we know worked within suffolk county. What if we didn't apply the suffolk county correction for them? So develop a category called \"local pensions.\" Ballpark how much money that is here"
   ]
  },
  {
   "cell_type": "code",
   "execution_count": 21,
   "metadata": {
    "scrolled": true
   },
   "outputs": [],
   "source": [
    "local_TRC_employers =  [\"Suffolk Superior Court\",\n",
    "                                  \"Chelsea District Court\", \"Suffolk Cty. Juvenile Court\",\n",
    "                                  \"South Boston District Court\", \"South Boston District  Court\",\n",
    "                                  \"East Boston District Court\", \"Boston Municipal Court\"]\n",
    "local_TRC_employees = retirement_payouts[retirement_payouts[\"department\"].isin(local_TRC_employers)]\n",
    "local_by_year = local_TRC_employees.groupby(\"year\").sum()[\"annual_amount\"]"
   ]
  },
  {
   "cell_type": "code",
   "execution_count": 22,
   "metadata": {},
   "outputs": [
    {
     "data": {
      "text/plain": [
       "2015           nan\n",
       "2016   4472732.947\n",
       "2017   5003860.742\n",
       "2018   5077337.557\n",
       "2019   5151116.936\n",
       "2020           nan\n",
       "dtype: float64"
      ]
     },
     "execution_count": 22,
     "metadata": {},
     "output_type": "execute_result"
    }
   ],
   "source": [
    "(local_by_year/statewide_payouts_by_year)*statewide_contributions"
   ]
  },
  {
   "cell_type": "code",
   "execution_count": 23,
   "metadata": {},
   "outputs": [],
   "source": [
    "statewide_TRC = [\"Trial Court Justice\", \"Probation\",\n",
    "                                                  \"Admin.office/district Court\", \"Office Of Court Management\",\n",
    "                                                  \"General Court\", \"Superior Court Probation\",\n",
    "                                                  \"Trial Court Administration\",\n",
    "                                                  \"Juvenile Court Administration\"]\n",
    "statewide_TRC_employees = retirement_payouts[retirement_payouts[\"department\"].isin(statewide_TRC)]\n",
    "statewide_TRC_by_year = statewide_TRC_employees.groupby(\"year\").sum()[\"annual_amount\"]"
   ]
  },
  {
   "cell_type": "code",
   "execution_count": 24,
   "metadata": {},
   "outputs": [
    {
     "data": {
      "text/plain": [
       "['Trial Court Justice',\n",
       " 'Probation',\n",
       " 'Admin.office/district Court',\n",
       " 'Office Of Court Management',\n",
       " 'General Court',\n",
       " 'Superior Court Probation',\n",
       " 'Trial Court Administration',\n",
       " 'Juvenile Court Administration']"
      ]
     },
     "execution_count": 24,
     "metadata": {},
     "output_type": "execute_result"
    }
   ],
   "source": [
    "statewide_TRC"
   ]
  },
  {
   "cell_type": "code",
   "execution_count": 25,
   "metadata": {},
   "outputs": [
    {
     "data": {
      "text/plain": [
       "2015            nan\n",
       "2016   75033857.192\n",
       "2017   81237414.625\n",
       "2018   85340899.544\n",
       "2019   90972824.566\n",
       "2020            nan\n",
       "dtype: float64"
      ]
     },
     "execution_count": 25,
     "metadata": {},
     "output_type": "execute_result"
    }
   ],
   "source": [
    "(statewide_TRC_by_year/statewide_payouts_by_year)*statewide_contributions"
   ]
  },
  {
   "cell_type": "markdown",
   "metadata": {},
   "source": [
    "Ok quickly eyeball math to make sure it's ok"
   ]
  },
  {
   "cell_type": "code",
   "execution_count": 26,
   "metadata": {},
   "outputs": [],
   "source": [
    "TRC = agencies[\"trial_court\"]"
   ]
  },
  {
   "cell_type": "code",
   "execution_count": 27,
   "metadata": {
    "scrolled": true
   },
   "outputs": [
    {
     "data": {
      "text/plain": [
       "2016   4512975.250\n",
       "2017   4843035.102\n",
       "2018   5111432.890\n",
       "2019   5230811.762\n",
       "Name: trial_court_local, dtype: object"
      ]
     },
     "execution_count": 27,
     "metadata": {},
     "output_type": "execute_result"
    }
   ],
   "source": [
    "TRC.local_pensions"
   ]
  },
  {
   "cell_type": "code",
   "execution_count": 28,
   "metadata": {},
   "outputs": [
    {
     "data": {
      "text/plain": [
       "2016   72032012.742\n",
       "2017   79892708.277\n",
       "2018   84439139.121\n",
       "2019   90116437.768\n",
       "Name: trial_court_statewide, dtype: object"
      ]
     },
     "execution_count": 28,
     "metadata": {},
     "output_type": "execute_result"
    }
   ],
   "source": [
    "TRC.pensions"
   ]
  },
  {
   "cell_type": "markdown",
   "metadata": {},
   "source": [
    "## Check State Police"
   ]
  },
  {
   "cell_type": "code",
   "execution_count": null,
   "metadata": {},
   "outputs": [],
   "source": []
  },
  {
   "cell_type": "markdown",
   "metadata": {},
   "source": [
    "## Check CPCS"
   ]
  },
  {
   "cell_type": "code",
   "execution_count": null,
   "metadata": {},
   "outputs": [],
   "source": []
  },
  {
   "cell_type": "markdown",
   "metadata": {},
   "source": [
    "## Check Suffolk DA"
   ]
  },
  {
   "cell_type": "code",
   "execution_count": null,
   "metadata": {},
   "outputs": [],
   "source": []
  },
  {
   "cell_type": "markdown",
   "metadata": {},
   "source": [
    "## Check Suffolk Sheriff"
   ]
  },
  {
   "cell_type": "code",
   "execution_count": null,
   "metadata": {},
   "outputs": [],
   "source": []
  },
  {
   "cell_type": "markdown",
   "metadata": {},
   "source": [
    "## Check DAA"
   ]
  },
  {
   "cell_type": "code",
   "execution_count": null,
   "metadata": {},
   "outputs": [],
   "source": []
  },
  {
   "cell_type": "markdown",
   "metadata": {},
   "source": [
    "## Check MA Sheriff's Association"
   ]
  },
  {
   "cell_type": "code",
   "execution_count": null,
   "metadata": {},
   "outputs": [],
   "source": []
  },
  {
   "cell_type": "markdown",
   "metadata": {},
   "source": [
    "## Check Parole Board"
   ]
  },
  {
   "cell_type": "code",
   "execution_count": null,
   "metadata": {},
   "outputs": [],
   "source": []
  },
  {
   "cell_type": "markdown",
   "metadata": {},
   "source": [
    "## Check CJT"
   ]
  },
  {
   "cell_type": "code",
   "execution_count": null,
   "metadata": {},
   "outputs": [],
   "source": []
  },
  {
   "cell_type": "markdown",
   "metadata": {},
   "source": [
    "## Check Supreme Judicial Court"
   ]
  },
  {
   "cell_type": "code",
   "execution_count": null,
   "metadata": {},
   "outputs": [],
   "source": []
  },
  {
   "cell_type": "markdown",
   "metadata": {},
   "source": [
    "## Check Appeals Court"
   ]
  },
  {
   "cell_type": "code",
   "execution_count": null,
   "metadata": {},
   "outputs": [],
   "source": []
  },
  {
   "cell_type": "markdown",
   "metadata": {},
   "source": [
    "## Check DOC (make sure it's wrong)"
   ]
  },
  {
   "cell_type": "code",
   "execution_count": null,
   "metadata": {},
   "outputs": [],
   "source": []
  },
  {
   "cell_type": "markdown",
   "metadata": {},
   "source": [
    "## Check Boston Pension Contributions"
   ]
  },
  {
   "cell_type": "code",
   "execution_count": null,
   "metadata": {},
   "outputs": [],
   "source": []
  },
  {
   "cell_type": "markdown",
   "metadata": {},
   "source": [
    "## Check Chelsea Pension Contributions"
   ]
  },
  {
   "cell_type": "code",
   "execution_count": null,
   "metadata": {},
   "outputs": [],
   "source": []
  },
  {
   "cell_type": "markdown",
   "metadata": {},
   "source": [
    "## Check Revere Pension Contributions"
   ]
  },
  {
   "cell_type": "code",
   "execution_count": null,
   "metadata": {},
   "outputs": [],
   "source": []
  },
  {
   "cell_type": "markdown",
   "metadata": {},
   "source": [
    "## Check Winthrop Pension Contributions"
   ]
  },
  {
   "cell_type": "code",
   "execution_count": null,
   "metadata": {},
   "outputs": [],
   "source": []
  }
 ],
 "metadata": {
  "kernelspec": {
   "display_name": "Python 3",
   "language": "python",
   "name": "python3"
  },
  "language_info": {
   "codemirror_mode": {
    "name": "ipython",
    "version": 3
   },
   "file_extension": ".py",
   "mimetype": "text/x-python",
   "name": "python",
   "nbconvert_exporter": "python",
   "pygments_lexer": "ipython3",
   "version": "3.7.6"
  }
 },
 "nbformat": 4,
 "nbformat_minor": 4
}
