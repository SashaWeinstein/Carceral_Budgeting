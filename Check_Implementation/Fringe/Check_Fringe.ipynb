{
 "cells": [
  {
   "cell_type": "markdown",
   "metadata": {},
   "source": [
    "# Check Fringe Benefits\n",
    "This is slightly harder than pensions as we have to combine GIC statewide and miscellanous fringe benefit spending from the agencies themselves. \n",
    "Good news is that it's exact same methodology for each state agency so I don't have to check multiple state agencies.\n",
    "Should I look for other statewide benefits? There don't seem to be any on the scale of GIC"
   ]
  },
  {
   "cell_type": "markdown",
   "metadata": {},
   "source": [
    "## Set up environment"
   ]
  },
  {
   "cell_type": "code",
   "execution_count": 1,
   "metadata": {},
   "outputs": [],
   "source": [
    "%load_ext autoreload\n",
    "%autoreload 2"
   ]
  },
  {
   "cell_type": "code",
   "execution_count": 2,
   "metadata": {},
   "outputs": [],
   "source": [
    "import warnings\n",
    "warnings.simplefilter(action='ignore', category=FutureWarning)\n",
    "\n",
    "import pandas as pd\n",
    "import os\n",
    "import sys\n",
    "import numpy as np\n",
    "from sodapy import Socrata"
   ]
  },
  {
   "cell_type": "code",
   "execution_count": 3,
   "metadata": {},
   "outputs": [],
   "source": [
    "sys.path.insert(0, os.path.abspath(\"../..\"))"
   ]
  },
  {
   "cell_type": "code",
   "execution_count": 4,
   "metadata": {},
   "outputs": [],
   "source": [
    "app_token = \"2Qa1WiG8G4kj1vGVd2noK7zP0\"\n",
    "client = Socrata(\"cthru.data.socrata.com\", app_token)\n",
    "client.timeout = 40"
   ]
  },
  {
   "cell_type": "code",
   "execution_count": 5,
   "metadata": {
    "scrolled": false
   },
   "outputs": [
    {
     "name": "stderr",
     "output_type": "stream",
     "text": [
      "/opt/anaconda3/lib/python3.7/site-packages/pandas/core/frame.py:4133: SettingWithCopyWarning: \n",
      "A value is trying to be set on a copy of a slice from a DataFrame\n",
      "\n",
      "See the caveats in the documentation: https://pandas.pydata.org/pandas-docs/stable/user_guide/indexing.html#returning-a-view-versus-a-copy\n",
      "  errors=errors,\n",
      "/opt/anaconda3/lib/python3.7/site-packages/pandas/core/generic.py:6245: SettingWithCopyWarning: \n",
      "A value is trying to be set on a copy of a slice from a DataFrame\n",
      "\n",
      "See the caveats in the documentation: https://pandas.pydata.org/pandas-docs/stable/user_guide/indexing.html#returning-a-view-versus-a-copy\n",
      "  self._update_inplace(new_data)\n",
      "/Users/alexanderweinstein/Documents/Harris/Summer2020/Carceral_Budgeting/Exploratory/pensions/State_Pensions_2Ver.py:138: SettingWithCopyWarning: \n",
      "A value is trying to be set on a copy of a slice from a DataFrame.\n",
      "Try using .loc[row_indexer,col_indexer] = value instead\n",
      "\n",
      "See the caveats in the documentation: https://pandas.pydata.org/pandas-docs/stable/user_guide/indexing.html#returning-a-view-versus-a-copy\n",
      "  cthru_pensions[\"year\"] = cthru_pensions[\"year\"].astype(int)\n"
     ]
    },
    {
     "name": "stdout",
     "output_type": "stream",
     "text": [
      "contributions by year\n"
     ]
    },
    {
     "data": {
      "text/plain": [
       "budget_fiscal_year\n",
       "2016   1695644301.330\n",
       "2017   1775058311.520\n",
       "2018   1825313115.460\n",
       "2019   1909137852.920\n",
       "2020   1991497887.030\n",
       "Name: amount, dtype: float64"
      ]
     },
     "metadata": {},
     "output_type": "display_data"
    },
    {
     "name": "stderr",
     "output_type": "stream",
     "text": [
      "/Users/alexanderweinstein/Documents/Harris/Summer2020/Carceral_Budgeting/Exploratory/Initialize_Agencies_3Ver.py:5: DtypeWarning: Columns (16) have mixed types.Specify dtype option on import or set low_memory=False.\n",
      "  from Agency_Classes_2Ver import StateAgency, CPCS, MBTA, BostonPD, ChelseaPD, ReverePD, WinthropPD\n",
      "/Users/alexanderweinstein/Documents/Harris/Summer2020/Carceral_Budgeting/Exploratory/Agency_Classes_2Ver.py:172: DtypeWarning: Columns (16) have mixed types.Specify dtype option on import or set low_memory=False.\n",
      "  self.get_expenditures_by_year()\n"
     ]
    },
    {
     "name": "stdout",
     "output_type": "stream",
     "text": [
      "percentage of payroll for  trial_court\n",
      "2016   0.071\n",
      "2017   0.069\n",
      "2018   0.067\n",
      "2019   0.066\n",
      "dtype: float64\n"
     ]
    },
    {
     "name": "stderr",
     "output_type": "stream",
     "text": [
      "/Users/alexanderweinstein/Documents/Harris/Summer2020/Carceral_Budgeting/Exploratory/Agency_Classes_2Ver.py:166: DtypeWarning: Columns (16) have mixed types.Specify dtype option on import or set low_memory=False.\n",
      "  self.get_final_costs()\n"
     ]
    },
    {
     "name": "stdout",
     "output_type": "stream",
     "text": [
      "percentage of payroll for  CPCS\n",
      "2016   0.007\n",
      "2017   0.006\n",
      "2018   0.006\n",
      "2019   0.006\n",
      "dtype: float64\n"
     ]
    },
    {
     "name": "stderr",
     "output_type": "stream",
     "text": [
      "/Users/alexanderweinstein/Documents/Harris/Summer2020/Carceral_Budgeting/Exploratory/Agency_Classes_2Ver.py:172: DtypeWarning: Columns (15,16) have mixed types.Specify dtype option on import or set low_memory=False.\n",
      "  self.get_expenditures_by_year()\n"
     ]
    },
    {
     "name": "stdout",
     "output_type": "stream",
     "text": [
      "percentage of payroll for  DOC\n",
      "2016   0.059\n",
      "2017   0.057\n",
      "2018   0.055\n",
      "2019   0.055\n",
      "dtype: float64\n",
      "percentage of payroll for  Suffolk_DA\n",
      "2016   0.002\n",
      "2017   0.002\n",
      "2018   0.002\n",
      "2019   0.002\n",
      "dtype: float64\n",
      "percentage of payroll for  Suffolk_Sheriff\n",
      "2016   0.012\n",
      "2017   0.012\n",
      "2018   0.011\n",
      "2019   0.011\n",
      "dtype: float64\n",
      "percentage of payroll for  State_Police\n",
      "2016   0.052\n",
      "2017   0.052\n",
      "2018   0.049\n",
      "2019   0.047\n",
      "dtype: float64\n",
      "non-hidden fringe:\n",
      "budget_fiscal_year\n",
      "2016   3150.000\n",
      "2017   3150.000\n",
      "2018   3150.000\n",
      "2019   2250.000\n",
      "Name: amount, dtype: float64\n",
      "hidden fringe:\n",
      "2016   138612870.218\n",
      "2017   141683565.688\n",
      "2018   133508332.245\n",
      "2019   126709640.613\n",
      "dtype: float64\n",
      "percentage of payroll for  DAA\n",
      "2016   0.000\n",
      "2017   0.000\n",
      "2018   0.000\n",
      "2019   0.000\n",
      "dtype: float64\n",
      "percentage of payroll for  MA Sheriff's Association\n",
      "2016   0.000\n",
      "2017   0.000\n",
      "2018   0.000\n",
      "2019   0.000\n",
      "dtype: float64\n",
      "percentage of payroll for  Parole_Board\n",
      "2016   0.002\n",
      "2017   0.002\n",
      "2018   0.002\n",
      "2019   0.002\n",
      "dtype: float64\n",
      "percentage of payroll for  CJT\n",
      "2016   0.001\n",
      "2017   0.001\n",
      "2018   0.000\n",
      "2019   0.000\n",
      "dtype: float64\n",
      "percentage of payroll for  Supreme_Judicial_Court\n",
      "2016   0.001\n",
      "2017   0.001\n",
      "2018   0.001\n",
      "2019   0.001\n",
      "dtype: float64\n",
      "percentage of payroll for  Appeals_Court\n",
      "2016   0.002\n",
      "2017   0.002\n",
      "2018   0.002\n",
      "2019   0.002\n",
      "dtype: float64\n",
      "\n"
     ]
    }
   ],
   "source": [
    "from Initialize_Agencies_3Ver import get_agencies\n",
    "yr = list(range(2016,2020))\n",
    "agencies = get_agencies(yr)"
   ]
  },
  {
   "cell_type": "markdown",
   "metadata": {},
   "source": [
    "## Get Statewide Health Insurance"
   ]
  },
  {
   "cell_type": "code",
   "execution_count": 6,
   "metadata": {},
   "outputs": [],
   "source": [
    "GIC = pd.DataFrame(client.get(\"pegc-naaa\",\n",
    "                                                         where = \"department = 'GROUP INSURANCE COMMISSION (GIC)'\" + \n",
    "                                                         \"AND budget_fiscal_year >=2016\", \n",
    "                                                         limit =999999))"
   ]
  },
  {
   "cell_type": "code",
   "execution_count": 7,
   "metadata": {},
   "outputs": [],
   "source": [
    "GIC[\"budget_fiscal_year\"] = GIC[\"budget_fiscal_year\"].astype(int)\n",
    "GIC[\"amount\"] = GIC[\"amount\"].astype(float)\n"
   ]
  },
  {
   "cell_type": "markdown",
   "metadata": {},
   "source": [
    "99.6%"
   ]
  },
  {
   "cell_type": "code",
   "execution_count": 8,
   "metadata": {},
   "outputs": [],
   "source": [
    "GIC_no_federal = GIC[GIC[\"appropriation_type\"].str.contains(\"(?i)federal\")==False]\n",
    "statewide_health_insurance = GIC[GIC[\"object_code\"] ==\"(D06) EMPLOYEE HEALTH & LIFE INSURANCE\"]\n",
    "SHI_by_year = statewide_health_insurance.groupby(\"budget_fiscal_year\").sum()[\"amount\"]"
   ]
  },
  {
   "cell_type": "code",
   "execution_count": 9,
   "metadata": {},
   "outputs": [
    {
     "data": {
      "text/plain": [
       "budget_fiscal_year\n",
       "2016   2676540536.150\n",
       "2017   2737028846.550\n",
       "2018   2702163794.500\n",
       "2019   2717337093.050\n",
       "2020   2745379043.540\n",
       "2021    982376956.190\n",
       "Name: amount, dtype: float64"
      ]
     },
     "execution_count": 9,
     "metadata": {},
     "output_type": "execute_result"
    }
   ],
   "source": [
    "SHI_by_year"
   ]
  },
  {
   "cell_type": "markdown",
   "metadata": {},
   "source": [
    "## Check State Police\n",
    "We need: payroll fraction for statewide and expenditures to get insurance-related"
   ]
  },
  {
   "cell_type": "code",
   "execution_count": 10,
   "metadata": {},
   "outputs": [],
   "source": [
    "sys.path.insert(0, os.path.abspath(\"../../fringe\"))\n",
    "from Statewide_Fringe import Total_Statewide_Payroll"
   ]
  },
  {
   "cell_type": "code",
   "execution_count": 11,
   "metadata": {},
   "outputs": [],
   "source": [
    "statewide_payroll = Total_Statewide_Payroll(client)"
   ]
  },
  {
   "cell_type": "code",
   "execution_count": 12,
   "metadata": {},
   "outputs": [],
   "source": [
    "state_police_exp = pd.DataFrame(client.get(\"pegc-naaa\",\n",
    "                                                         where = \"department = 'DEPARTMENT OF STATE POLICE (POL)'\" + \n",
    "                                                         \"AND budget_fiscal_year >=2016\", \n",
    "                                                         limit =999999))"
   ]
  },
  {
   "cell_type": "code",
   "execution_count": 13,
   "metadata": {},
   "outputs": [],
   "source": [
    "state_police_exp[\"amount\"] = state_police_exp[\"amount\"].astype(float)\n",
    "state_police_exp[\"budget_fiscal_year\"] = state_police_exp[\"budget_fiscal_year\"].astype(int)"
   ]
  },
  {
   "cell_type": "markdown",
   "metadata": {},
   "source": [
    "Remove federal, intragovernmental, payroll, capital"
   ]
  },
  {
   "cell_type": "code",
   "execution_count": 14,
   "metadata": {},
   "outputs": [],
   "source": [
    "state_police_exp = state_police_exp[state_police_exp[\"appropriation_type\"].str.contains(\"INTRAGOVERNMENTAL\")==False]\n",
    "state_police_exp = state_police_exp[state_police_exp[\"appropriation_type\"].str.contains(\"(?i)federal\")==False]\n",
    "state_police_exp = state_police_exp[state_police_exp[\"appropriation_type\"].str.contains(\"(?i)capital\")==False]\n",
    "state_police_exp = state_police_exp[state_police_exp[\"vendor\"].str.contains(\"(?i)payroll\")==False]\n",
    "\n"
   ]
  },
  {
   "cell_type": "code",
   "execution_count": 15,
   "metadata": {},
   "outputs": [],
   "source": [
    "sp_fringe_nonhidden = state_police_exp[state_police_exp[\"object_class\"] == \"(DD) PENSION & INSURANCE RELATED EX\"]"
   ]
  },
  {
   "cell_type": "code",
   "execution_count": 16,
   "metadata": {},
   "outputs": [
    {
     "data": {
      "text/plain": [
       "budget_fiscal_year\n",
       "2016   3150.000\n",
       "2017   3150.000\n",
       "2018   3150.000\n",
       "2019   2250.000\n",
       "2020   2250.000\n",
       "2021   2250.000\n",
       "Name: amount, dtype: float64"
      ]
     },
     "execution_count": 16,
     "metadata": {},
     "output_type": "execute_result"
    }
   ],
   "source": [
    "sp_nonhidden_by_year = sp_fringe_nonhidden.groupby(\"budget_fiscal_year\").sum()[\"amount\"]\n",
    "sp_nonhidden_by_year"
   ]
  },
  {
   "cell_type": "code",
   "execution_count": 17,
   "metadata": {},
   "outputs": [],
   "source": [
    "state_police = agencies[\"State_Police\"]\n",
    "sp_hidden_by_year = SHI_by_year*(state_police.payroll_by_year/statewide_payroll)"
   ]
  },
  {
   "cell_type": "code",
   "execution_count": 25,
   "metadata": {},
   "outputs": [],
   "source": [
    "assert state_police.fringe.equals((sp_hidden_by_year + sp_nonhidden_by_year).loc[list(range(2016,2020))])"
   ]
  },
  {
   "cell_type": "markdown",
   "metadata": {},
   "source": [
    "Ok great that all looks good. Thankfully exactly one methodology for all state agencies"
   ]
  }
 ],
 "metadata": {
  "kernelspec": {
   "display_name": "Python 3",
   "language": "python",
   "name": "python3"
  },
  "language_info": {
   "codemirror_mode": {
    "name": "ipython",
    "version": 3
   },
   "file_extension": ".py",
   "mimetype": "text/x-python",
   "name": "python",
   "nbconvert_exporter": "python",
   "pygments_lexer": "ipython3",
   "version": "3.7.6"
  }
 },
 "nbformat": 4,
 "nbformat_minor": 4
}
