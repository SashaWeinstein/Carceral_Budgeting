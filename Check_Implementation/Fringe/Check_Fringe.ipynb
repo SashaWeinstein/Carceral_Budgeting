{
 "cells": [
  {
   "cell_type": "markdown",
   "metadata": {},
   "source": [
    "# Check Fringe Benefits\n",
    "This is slightly harder than pensions as we have to combine GIC statewide and miscellanous fringe benefit spending from the agencies themselves. \n",
    "Good news is that it's exact same methodology for each state agency so I don't have to check multiple state agencies.\n",
    "Should I look for other statewide benefits? There don't seem to be any on the scale of GIC"
   ]
  },
  {
   "cell_type": "markdown",
   "metadata": {},
   "source": [
    "## Set up environment"
   ]
  },
  {
   "cell_type": "code",
   "execution_count": 1,
   "metadata": {},
   "outputs": [],
   "source": [
    "%load_ext autoreload\n",
    "%autoreload 2"
   ]
  },
  {
   "cell_type": "code",
   "execution_count": 2,
   "metadata": {},
   "outputs": [],
   "source": [
    "import warnings\n",
    "warnings.simplefilter(action='ignore', category=FutureWarning)\n",
    "\n",
    "import pandas as pd\n",
    "import os\n",
    "import sys\n",
    "import numpy as np\n",
    "from sodapy import Socrata"
   ]
  },
  {
   "cell_type": "code",
   "execution_count": 3,
   "metadata": {},
   "outputs": [],
   "source": [
    "sys.path.insert(0, os.path.abspath(\"../..\"))"
   ]
  },
  {
   "cell_type": "code",
   "execution_count": 4,
   "metadata": {},
   "outputs": [],
   "source": [
    "app_token = \"2Qa1WiG8G4kj1vGVd2noK7zP0\"\n",
    "client = Socrata(\"cthru.data.socrata.com\", app_token)\n",
    "client.timeout = 40"
   ]
  },
  {
   "cell_type": "code",
   "execution_count": 50,
   "metadata": {
    "scrolled": false
   },
   "outputs": [
    {
     "name": "stderr",
     "output_type": "stream",
     "text": [
      "/Users/alexanderweinstein/Documents/Harris/Summer2020/Carceral_Budgeting/Exploratory/Agency_Classes_2Ver.py:184: DtypeWarning: Columns (16) have mixed types.Specify dtype option on import or set low_memory=False.\n",
      "  self.get_expenditures_by_year()\n",
      "/Users/alexanderweinstein/Documents/Harris/Summer2020/Carceral_Budgeting/Exploratory/Agency_Classes_2Ver.py:178: DtypeWarning: Columns (16) have mixed types.Specify dtype option on import or set low_memory=False.\n",
      "  self.get_final_costs()\n",
      "/Users/alexanderweinstein/Documents/Harris/Summer2020/Carceral_Budgeting/Exploratory/Agency_Classes_2Ver.py:184: DtypeWarning: Columns (15,16) have mixed types.Specify dtype option on import or set low_memory=False.\n",
      "  self.get_expenditures_by_year()\n"
     ]
    },
    {
     "name": "stdout",
     "output_type": "stream",
     "text": [
      "Boston's \n",
      "Boston's \n",
      "\n"
     ]
    }
   ],
   "source": [
    "from Initialize_Agencies_3Ver import get_agencies\n",
    "yr = list(range(2016,2020))\n",
    "agencies = get_agencies(yr)"
   ]
  },
  {
   "cell_type": "markdown",
   "metadata": {},
   "source": [
    "## Get Statewide Health Insurance"
   ]
  },
  {
   "cell_type": "code",
   "execution_count": 6,
   "metadata": {},
   "outputs": [],
   "source": [
    "GIC = pd.DataFrame(client.get(\"pegc-naaa\",\n",
    "                                                         where = \"department = 'GROUP INSURANCE COMMISSION (GIC)'\" + \n",
    "                                                         \"AND budget_fiscal_year >=2016\", \n",
    "                                                         limit =999999))"
   ]
  },
  {
   "cell_type": "code",
   "execution_count": 7,
   "metadata": {},
   "outputs": [],
   "source": [
    "GIC[\"budget_fiscal_year\"] = GIC[\"budget_fiscal_year\"].astype(int)\n",
    "GIC[\"amount\"] = GIC[\"amount\"].astype(float)\n"
   ]
  },
  {
   "cell_type": "markdown",
   "metadata": {},
   "source": [
    "99.6%"
   ]
  },
  {
   "cell_type": "code",
   "execution_count": 8,
   "metadata": {},
   "outputs": [],
   "source": [
    "GIC_no_federal = GIC[GIC[\"appropriation_type\"].str.contains(\"(?i)federal\")==False]\n",
    "statewide_health_insurance = GIC[GIC[\"object_code\"] ==\"(D06) EMPLOYEE HEALTH & LIFE INSURANCE\"]\n",
    "SHI_by_year = statewide_health_insurance.groupby(\"budget_fiscal_year\").sum()[\"amount\"]"
   ]
  },
  {
   "cell_type": "code",
   "execution_count": 9,
   "metadata": {},
   "outputs": [
    {
     "data": {
      "text/plain": [
       "budget_fiscal_year\n",
       "2016   2676540536.150\n",
       "2017   2737028846.550\n",
       "2018   2702163794.500\n",
       "2019   2717337093.050\n",
       "2020   2745379043.540\n",
       "2021   1003313342.220\n",
       "Name: amount, dtype: float64"
      ]
     },
     "execution_count": 9,
     "metadata": {},
     "output_type": "execute_result"
    }
   ],
   "source": [
    "SHI_by_year"
   ]
  },
  {
   "cell_type": "markdown",
   "metadata": {},
   "source": [
    "## Check State Police\n",
    "We need: payroll fraction for statewide and expenditures to get insurance-related"
   ]
  },
  {
   "cell_type": "code",
   "execution_count": 10,
   "metadata": {},
   "outputs": [],
   "source": [
    "sys.path.insert(0, os.path.abspath(\"../../fringe\"))\n",
    "from Statewide_Fringe import Total_Statewide_Payroll"
   ]
  },
  {
   "cell_type": "code",
   "execution_count": 11,
   "metadata": {},
   "outputs": [],
   "source": [
    "statewide_payroll = Total_Statewide_Payroll(client)"
   ]
  },
  {
   "cell_type": "code",
   "execution_count": 13,
   "metadata": {},
   "outputs": [
    {
     "name": "stdout",
     "output_type": "stream",
     "text": [
      "contributions by year\n"
     ]
    },
    {
     "data": {
      "text/plain": [
       "budget_fiscal_year\n",
       "2016   1695121996.790\n",
       "2017   1774642712.500\n",
       "2018   1825313115.460\n",
       "2019   1909137852.920\n",
       "2020   1991497887.030\n",
       "Name: amount, dtype: float64"
      ]
     },
     "metadata": {},
     "output_type": "display_data"
    },
    {
     "name": "stderr",
     "output_type": "stream",
     "text": [
      "/opt/anaconda3/lib/python3.7/importlib/__init__.py:169: DtypeWarning: Columns (16) have mixed types.Specify dtype option on import or set low_memory=False.\n",
      "  _bootstrap._exec(spec, module)\n"
     ]
    }
   ],
   "source": [
    "state_police_exp = pd.DataFrame(client.get(\"pegc-naaa\",\n",
    "                                                         where = \"department = 'DEPARTMENT OF STATE POLICE (POL)'\" + \n",
    "                                                         \"AND budget_fiscal_year >=2016\", \n",
    "                                                         limit =999999))"
   ]
  },
  {
   "cell_type": "code",
   "execution_count": 14,
   "metadata": {},
   "outputs": [],
   "source": [
    "state_police_exp[\"amount\"] = state_police_exp[\"amount\"].astype(float)\n",
    "state_police_exp[\"budget_fiscal_year\"] = state_police_exp[\"budget_fiscal_year\"].astype(int)"
   ]
  },
  {
   "cell_type": "markdown",
   "metadata": {},
   "source": [
    "Remove federal, intragovernmental, payroll, capital"
   ]
  },
  {
   "cell_type": "code",
   "execution_count": 15,
   "metadata": {},
   "outputs": [],
   "source": [
    "state_police_exp = state_police_exp[state_police_exp[\"appropriation_type\"].str.contains(\"INTRAGOVERNMENTAL\")==False]\n",
    "state_police_exp = state_police_exp[state_police_exp[\"appropriation_type\"].str.contains(\"(?i)federal\")==False]\n",
    "state_police_exp = state_police_exp[state_police_exp[\"appropriation_type\"].str.contains(\"(?i)capital\")==False]\n",
    "state_police_exp = state_police_exp[state_police_exp[\"vendor\"].str.contains(\"(?i)payroll\")==False]\n",
    "\n"
   ]
  },
  {
   "cell_type": "code",
   "execution_count": 16,
   "metadata": {},
   "outputs": [],
   "source": [
    "sp_fringe_nonhidden = state_police_exp[state_police_exp[\"object_class\"] == \"(DD) PENSION & INSURANCE RELATED EX\"]"
   ]
  },
  {
   "cell_type": "code",
   "execution_count": 17,
   "metadata": {},
   "outputs": [
    {
     "data": {
      "text/plain": [
       "budget_fiscal_year\n",
       "2016   3150.000\n",
       "2017   3150.000\n",
       "2018   3150.000\n",
       "2019   2250.000\n",
       "2020   2250.000\n",
       "2021   2250.000\n",
       "Name: amount, dtype: float64"
      ]
     },
     "execution_count": 17,
     "metadata": {},
     "output_type": "execute_result"
    }
   ],
   "source": [
    "sp_nonhidden_by_year = sp_fringe_nonhidden.groupby(\"budget_fiscal_year\").sum()[\"amount\"]\n",
    "sp_nonhidden_by_year"
   ]
  },
  {
   "cell_type": "code",
   "execution_count": 18,
   "metadata": {},
   "outputs": [],
   "source": [
    "state_police = agencies[\"State_Police\"]\n",
    "sp_hidden_by_year = SHI_by_year*(state_police.payroll_by_year/statewide_payroll)"
   ]
  },
  {
   "cell_type": "code",
   "execution_count": null,
   "metadata": {},
   "outputs": [],
   "source": [
    "assert state_police.fringe.equals((sp_hidden_by_year + sp_nonhidden_by_year).loc[list(range(2016,2020))])"
   ]
  },
  {
   "cell_type": "markdown",
   "metadata": {},
   "source": [
    "Ok great that all looks good. Thankfully exactly one methodology for all state agencies"
   ]
  },
  {
   "cell_type": "markdown",
   "metadata": {},
   "source": [
    "## Check Boston\n",
    "Methodology is that we use health insurance, worker's comp as the two statewide fringe benefits to take fraction of.\n",
    "Are there any line-items in budget to be counted as fringe benefits? Yes, worker's comp medical"
   ]
  },
  {
   "cell_type": "markdown",
   "metadata": {},
   "source": [
    "Check 2017"
   ]
  },
  {
   "cell_type": "code",
   "execution_count": 41,
   "metadata": {},
   "outputs": [],
   "source": [
    "bostonPD = agencies[\"Boston PD\"]"
   ]
  },
  {
   "cell_type": "code",
   "execution_count": 42,
   "metadata": {},
   "outputs": [],
   "source": [
    "sys.path.insert(0, os.path.abspath(\"../../pensions\"))\n",
    "from LocalPD_True_Payroll import True_Earnings"
   ]
  },
  {
   "cell_type": "code",
   "execution_count": 43,
   "metadata": {},
   "outputs": [],
   "source": [
    "total_earnings, PD_fraction_non_teacher, PD_fraction_total, PD_payroll = True_Earnings(\"Boston PD\")"
   ]
  },
  {
   "cell_type": "code",
   "execution_count": 44,
   "metadata": {},
   "outputs": [
    {
     "data": {
      "text/plain": [
       "2016   0.212\n",
       "2017   0.222\n",
       "2018   0.230\n",
       "2019   0.237\n",
       "dtype: float64"
      ]
     },
     "execution_count": 44,
     "metadata": {},
     "output_type": "execute_result"
    }
   ],
   "source": [
    "PD_fraction_total"
   ]
  },
  {
   "cell_type": "code",
   "execution_count": 45,
   "metadata": {},
   "outputs": [],
   "source": [
    "citywide_health_insurance_2017 = 205281017\n",
    "citywide_workers_comp_2017  = 1478695\n",
    "PD_budget_workers_comp_2017 = 132969"
   ]
  },
  {
   "cell_type": "code",
   "execution_count": 46,
   "metadata": {},
   "outputs": [],
   "source": [
    "boston_2017_fringe = (citywide_health_insurance_2017 + citywide_workers_comp_2017)* PD_fraction_total.loc[2017] + \\\n",
    "PD_budget_workers_comp_2017"
   ]
  },
  {
   "cell_type": "code",
   "execution_count": 47,
   "metadata": {},
   "outputs": [],
   "source": [
    "assert np.isclose(boston_2017_fringe, bostonPD.fringe.loc[2017])"
   ]
  },
  {
   "cell_type": "code",
   "execution_count": 48,
   "metadata": {},
   "outputs": [
    {
     "data": {
      "text/plain": [
       "45976193.94434311"
      ]
     },
     "execution_count": 48,
     "metadata": {},
     "output_type": "execute_result"
    }
   ],
   "source": [
    "boston_2017_fringe"
   ]
  },
  {
   "cell_type": "code",
   "execution_count": 49,
   "metadata": {},
   "outputs": [
    {
     "data": {
      "text/plain": [
       "45976148.72712079"
      ]
     },
     "execution_count": 49,
     "metadata": {},
     "output_type": "execute_result"
    }
   ],
   "source": [
    "bostonPD.fringe.loc[2017]"
   ]
  },
  {
   "cell_type": "markdown",
   "metadata": {},
   "source": [
    "## Check Chelsea"
   ]
  },
  {
   "cell_type": "code",
   "execution_count": null,
   "metadata": {},
   "outputs": [],
   "source": []
  },
  {
   "cell_type": "markdown",
   "metadata": {},
   "source": [
    "## Check Revere"
   ]
  },
  {
   "cell_type": "code",
   "execution_count": null,
   "metadata": {},
   "outputs": [],
   "source": []
  },
  {
   "cell_type": "markdown",
   "metadata": {},
   "source": [
    "## Check Winthrop"
   ]
  },
  {
   "cell_type": "code",
   "execution_count": null,
   "metadata": {},
   "outputs": [],
   "source": []
  },
  {
   "cell_type": "code",
   "execution_count": null,
   "metadata": {},
   "outputs": [],
   "source": []
  }
 ],
 "metadata": {
  "kernelspec": {
   "display_name": "Python 3",
   "language": "python",
   "name": "python3"
  },
  "language_info": {
   "codemirror_mode": {
    "name": "ipython",
    "version": 3
   },
   "file_extension": ".py",
   "mimetype": "text/x-python",
   "name": "python",
   "nbconvert_exporter": "python",
   "pygments_lexer": "ipython3",
   "version": "3.7.6"
  }
 },
 "nbformat": 4,
 "nbformat_minor": 4
}
