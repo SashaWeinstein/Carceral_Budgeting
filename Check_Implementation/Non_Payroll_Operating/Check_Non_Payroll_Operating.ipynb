{
 "cells": [
  {
   "cell_type": "markdown",
   "metadata": {},
   "source": [
    "# Check non-Payroll Operating\n",
    "Each agency has a non-payroll operating cost associated with it. "
   ]
  },
  {
   "cell_type": "markdown",
   "metadata": {},
   "source": [
    "## Set up environment"
   ]
  },
  {
   "cell_type": "code",
   "execution_count": 1,
   "metadata": {},
   "outputs": [],
   "source": [
    "%load_ext autoreload\n",
    "%autoreload 2"
   ]
  },
  {
   "cell_type": "code",
   "execution_count": 2,
   "metadata": {},
   "outputs": [],
   "source": [
    "import warnings\n",
    "warnings.simplefilter(action='ignore', category=FutureWarning)\n",
    "\n",
    "import pandas as pd\n",
    "import os\n",
    "import sys\n",
    "import numpy as np"
   ]
  },
  {
   "cell_type": "code",
   "execution_count": 3,
   "metadata": {},
   "outputs": [],
   "source": [
    "sys.path.insert(0, os.path.abspath(\"../..\"))"
   ]
  },
  {
   "cell_type": "markdown",
   "metadata": {},
   "source": [
    "## Get Agencies"
   ]
  },
  {
   "cell_type": "code",
   "execution_count": 4,
   "metadata": {},
   "outputs": [
    {
     "name": "stderr",
     "output_type": "stream",
     "text": [
      "/opt/anaconda3/lib/python3.7/site-packages/pandas/core/frame.py:4133: SettingWithCopyWarning: \n",
      "A value is trying to be set on a copy of a slice from a DataFrame\n",
      "\n",
      "See the caveats in the documentation: https://pandas.pydata.org/pandas-docs/stable/user_guide/indexing.html#returning-a-view-versus-a-copy\n",
      "  errors=errors,\n",
      "/opt/anaconda3/lib/python3.7/site-packages/pandas/core/generic.py:6245: SettingWithCopyWarning: \n",
      "A value is trying to be set on a copy of a slice from a DataFrame\n",
      "\n",
      "See the caveats in the documentation: https://pandas.pydata.org/pandas-docs/stable/user_guide/indexing.html#returning-a-view-versus-a-copy\n",
      "  self._update_inplace(new_data)\n",
      "/Users/alexanderweinstein/Documents/Harris/Summer2020/Carceral_Budgeting/Exploratory/Cost_Type_Code/Pensions/Statewide_Pensions.py:144: SettingWithCopyWarning: \n",
      "A value is trying to be set on a copy of a slice from a DataFrame.\n",
      "Try using .loc[row_indexer,col_indexer] = value instead\n",
      "\n",
      "See the caveats in the documentation: https://pandas.pydata.org/pandas-docs/stable/user_guide/indexing.html#returning-a-view-versus-a-copy\n",
      "  cthru_pensions[\"year\"] = cthru_pensions[\"year\"].astype(int)\n",
      "/Users/alexanderweinstein/Documents/Harris/Summer2020/Carceral_Budgeting/Exploratory/Initialize_Agencies.py:5: DtypeWarning: Columns (16) have mixed types.Specify dtype option on import or set low_memory=False.\n",
      "  from Agency_Classes_Big import StateAgency, ChelseaPD, ReverePD, WinthropPD\n",
      "/Users/alexanderweinstein/Documents/Harris/Summer2020/Carceral_Budgeting/Exploratory/Initialize_Agencies.py:10: DtypeWarning: Columns (16) have mixed types.Specify dtype option on import or set low_memory=False.\n",
      "  from CPCS import CPCS\n"
     ]
    }
   ],
   "source": [
    "from Initialize_Agencies import get_agencies"
   ]
  },
  {
   "cell_type": "code",
   "execution_count": 5,
   "metadata": {},
   "outputs": [
    {
     "name": "stderr",
     "output_type": "stream",
     "text": [
      "/Users/alexanderweinstein/Documents/Harris/Summer2020/Carceral_Budgeting/Exploratory/Agency_Classes/Agency_Classes_Big.py:93: DtypeWarning: Columns (16) have mixed types.Specify dtype option on import or set low_memory=False.\n",
      "  self.get_expenditures_by_year()\n"
     ]
    },
    {
     "name": "stdout",
     "output_type": "stream",
     "text": [
      "got here for CPCS\n"
     ]
    },
    {
     "name": "stderr",
     "output_type": "stream",
     "text": [
      "/Users/alexanderweinstein/Documents/Harris/Summer2020/Carceral_Budgeting/Exploratory/Agency_Classes/Agency_Classes_Big.py:93: DtypeWarning: Columns (15,16) have mixed types.Specify dtype option on import or set low_memory=False.\n",
      "  self.get_expenditures_by_year()\n"
     ]
    }
   ],
   "source": [
    "yr = list(range(2016,2020))\n",
    "agencies = get_agencies(yr)"
   ]
  },
  {
   "cell_type": "markdown",
   "metadata": {},
   "source": [
    "## Save to .csv"
   ]
  },
  {
   "cell_type": "code",
   "execution_count": 6,
   "metadata": {},
   "outputs": [],
   "source": [
    "out_df = pd.DataFrame(columns=yr)\n",
    "for _, agency in agencies.items():\n",
    "    out_df.loc[agency.official_name,:] = agency.non_payroll_operating_expenditures_by_year"
   ]
  },
  {
   "cell_type": "code",
   "execution_count": 7,
   "metadata": {},
   "outputs": [
    {
     "data": {
      "text/html": [
       "<div>\n",
       "<style scoped>\n",
       "    .dataframe tbody tr th:only-of-type {\n",
       "        vertical-align: middle;\n",
       "    }\n",
       "\n",
       "    .dataframe tbody tr th {\n",
       "        vertical-align: top;\n",
       "    }\n",
       "\n",
       "    .dataframe thead th {\n",
       "        text-align: right;\n",
       "    }\n",
       "</style>\n",
       "<table border=\"1\" class=\"dataframe\">\n",
       "  <thead>\n",
       "    <tr style=\"text-align: right;\">\n",
       "      <th></th>\n",
       "      <th>2016</th>\n",
       "      <th>2017</th>\n",
       "      <th>2018</th>\n",
       "      <th>2019</th>\n",
       "    </tr>\n",
       "  </thead>\n",
       "  <tbody>\n",
       "    <tr>\n",
       "      <th>TRIAL COURT (TRC)</th>\n",
       "      <td>111466652.300</td>\n",
       "      <td>108356313.990</td>\n",
       "      <td>110473319.370</td>\n",
       "      <td>124205832.610</td>\n",
       "    </tr>\n",
       "    <tr>\n",
       "      <th>COMMITTEE FOR PUBLIC COUNSEL SERVICES (CPC)</th>\n",
       "      <td>10797600.960</td>\n",
       "      <td>11650922.760</td>\n",
       "      <td>11448343.740</td>\n",
       "      <td>14652018.410</td>\n",
       "    </tr>\n",
       "    <tr>\n",
       "      <th>DEPARTMENT OF CORRECTION (DOC)</th>\n",
       "      <td>97725853.440</td>\n",
       "      <td>95048173.120</td>\n",
       "      <td>96505205.600</td>\n",
       "      <td>98605034.890</td>\n",
       "    </tr>\n",
       "    <tr>\n",
       "      <th>SUFFOLK DISTRICT ATTORNEY (SUF)</th>\n",
       "      <td>2736672.790</td>\n",
       "      <td>2795898.000</td>\n",
       "      <td>2929760.250</td>\n",
       "      <td>3485928.940</td>\n",
       "    </tr>\n",
       "    <tr>\n",
       "      <th>SHERIFF DEPARTMENT SUFFOLK (SDS)</th>\n",
       "      <td>12144514.950</td>\n",
       "      <td>10874851.970</td>\n",
       "      <td>11296755.810</td>\n",
       "      <td>12219683.860</td>\n",
       "    </tr>\n",
       "    <tr>\n",
       "      <th>DEPARTMENT OF STATE POLICE (POL)</th>\n",
       "      <td>31973742.890</td>\n",
       "      <td>28617888.560</td>\n",
       "      <td>32748216.500</td>\n",
       "      <td>35268842.600</td>\n",
       "    </tr>\n",
       "    <tr>\n",
       "      <th>MASSACHUSETTS BAY TRANSPORTATION AUTHORITY (MBT)</th>\n",
       "      <td>0</td>\n",
       "      <td>0</td>\n",
       "      <td>0</td>\n",
       "      <td>0</td>\n",
       "    </tr>\n",
       "    <tr>\n",
       "      <th>DISTRICT ATTORNEY ASSOCIATION (DAA)</th>\n",
       "      <td>2768464.740</td>\n",
       "      <td>2751520.930</td>\n",
       "      <td>2679983.480</td>\n",
       "      <td>2774395.860</td>\n",
       "    </tr>\n",
       "    <tr>\n",
       "      <th>SHERIFFS DEPARTMENT ASSOCIATION (SDA)</th>\n",
       "      <td>114062.070</td>\n",
       "      <td>89715.150</td>\n",
       "      <td>82743.850</td>\n",
       "      <td>79547.060</td>\n",
       "    </tr>\n",
       "    <tr>\n",
       "      <th>PAROLE BOARD (PAR)</th>\n",
       "      <td>1499617.290</td>\n",
       "      <td>1320663.170</td>\n",
       "      <td>1388778.360</td>\n",
       "      <td>1707042.470</td>\n",
       "    </tr>\n",
       "    <tr>\n",
       "      <th>MUNICIPAL POLICE TRAINING COMMITTEE (CJT)</th>\n",
       "      <td>1862384.810</td>\n",
       "      <td>2078994.890</td>\n",
       "      <td>1655397.820</td>\n",
       "      <td>1712514.330</td>\n",
       "    </tr>\n",
       "    <tr>\n",
       "      <th>SUPREME JUDICIAL COURT (SJC)</th>\n",
       "      <td>21532259.580</td>\n",
       "      <td>22671810.210</td>\n",
       "      <td>22895973.470</td>\n",
       "      <td>26457208.520</td>\n",
       "    </tr>\n",
       "    <tr>\n",
       "      <th>APPEALS COURT (APC)</th>\n",
       "      <td>757025.990</td>\n",
       "      <td>502528.760</td>\n",
       "      <td>657971.240</td>\n",
       "      <td>607335.860</td>\n",
       "    </tr>\n",
       "    <tr>\n",
       "      <th>Boston PD</th>\n",
       "      <td>31961109.608</td>\n",
       "      <td>36491273.287</td>\n",
       "      <td>47024951.453</td>\n",
       "      <td>48652531.014</td>\n",
       "    </tr>\n",
       "    <tr>\n",
       "      <th>Chelsea PD</th>\n",
       "      <td>1050166</td>\n",
       "      <td>701295.760</td>\n",
       "      <td>710475.690</td>\n",
       "      <td>639385.290</td>\n",
       "    </tr>\n",
       "    <tr>\n",
       "      <th>Revere PD</th>\n",
       "      <td>1064650.000</td>\n",
       "      <td>1012450.000</td>\n",
       "      <td>979764.000</td>\n",
       "      <td>983764.000</td>\n",
       "    </tr>\n",
       "    <tr>\n",
       "      <th>Winthrop PD</th>\n",
       "      <td>194777.000</td>\n",
       "      <td>185439.000</td>\n",
       "      <td>224594.000</td>\n",
       "      <td>233533.000</td>\n",
       "    </tr>\n",
       "  </tbody>\n",
       "</table>\n",
       "</div>"
      ],
      "text/plain": [
       "                                                          2016          2017  \\\n",
       "TRIAL COURT (TRC)                                111466652.300 108356313.990   \n",
       "COMMITTEE FOR PUBLIC COUNSEL SERVICES (CPC)       10797600.960  11650922.760   \n",
       "DEPARTMENT OF CORRECTION (DOC)                    97725853.440  95048173.120   \n",
       "SUFFOLK DISTRICT ATTORNEY (SUF)                    2736672.790   2795898.000   \n",
       "SHERIFF DEPARTMENT SUFFOLK (SDS)                  12144514.950  10874851.970   \n",
       "DEPARTMENT OF STATE POLICE (POL)                  31973742.890  28617888.560   \n",
       "MASSACHUSETTS BAY TRANSPORTATION AUTHORITY (MBT)             0             0   \n",
       "DISTRICT ATTORNEY ASSOCIATION (DAA)                2768464.740   2751520.930   \n",
       "SHERIFFS DEPARTMENT ASSOCIATION (SDA)               114062.070     89715.150   \n",
       "PAROLE BOARD (PAR)                                 1499617.290   1320663.170   \n",
       "MUNICIPAL POLICE TRAINING COMMITTEE (CJT)          1862384.810   2078994.890   \n",
       "SUPREME JUDICIAL COURT (SJC)                      21532259.580  22671810.210   \n",
       "APPEALS COURT (APC)                                 757025.990    502528.760   \n",
       "Boston PD                                         31961109.608  36491273.287   \n",
       "Chelsea PD                                             1050166    701295.760   \n",
       "Revere PD                                          1064650.000   1012450.000   \n",
       "Winthrop PD                                         194777.000    185439.000   \n",
       "\n",
       "                                                          2018          2019  \n",
       "TRIAL COURT (TRC)                                110473319.370 124205832.610  \n",
       "COMMITTEE FOR PUBLIC COUNSEL SERVICES (CPC)       11448343.740  14652018.410  \n",
       "DEPARTMENT OF CORRECTION (DOC)                    96505205.600  98605034.890  \n",
       "SUFFOLK DISTRICT ATTORNEY (SUF)                    2929760.250   3485928.940  \n",
       "SHERIFF DEPARTMENT SUFFOLK (SDS)                  11296755.810  12219683.860  \n",
       "DEPARTMENT OF STATE POLICE (POL)                  32748216.500  35268842.600  \n",
       "MASSACHUSETTS BAY TRANSPORTATION AUTHORITY (MBT)             0             0  \n",
       "DISTRICT ATTORNEY ASSOCIATION (DAA)                2679983.480   2774395.860  \n",
       "SHERIFFS DEPARTMENT ASSOCIATION (SDA)                82743.850     79547.060  \n",
       "PAROLE BOARD (PAR)                                 1388778.360   1707042.470  \n",
       "MUNICIPAL POLICE TRAINING COMMITTEE (CJT)          1655397.820   1712514.330  \n",
       "SUPREME JUDICIAL COURT (SJC)                      22895973.470  26457208.520  \n",
       "APPEALS COURT (APC)                                 657971.240    607335.860  \n",
       "Boston PD                                         47024951.453  48652531.014  \n",
       "Chelsea PD                                          710475.690    639385.290  \n",
       "Revere PD                                           979764.000    983764.000  \n",
       "Winthrop PD                                         224594.000    233533.000  "
      ]
     },
     "metadata": {},
     "output_type": "display_data"
    }
   ],
   "source": [
    "display(out_df)"
   ]
  },
  {
   "cell_type": "code",
   "execution_count": 8,
   "metadata": {},
   "outputs": [],
   "source": [
    "# out_df.to_csv(\"Non_Payroll_Final_Dec17.csv\")"
   ]
  },
  {
   "cell_type": "markdown",
   "metadata": {},
   "source": [
    "## Check state Agencies\n",
    "### Get df of all gov spending for 2018"
   ]
  },
  {
   "cell_type": "code",
   "execution_count": 9,
   "metadata": {},
   "outputs": [],
   "source": [
    "from sodapy import Socrata"
   ]
  },
  {
   "cell_type": "code",
   "execution_count": 10,
   "metadata": {},
   "outputs": [],
   "source": [
    "app_token = \"2Qa1WiG8G4kj1vGVd2noK7zP0\"\n",
    "client = Socrata(\"cthru.data.socrata.com\", app_token)\n",
    "client.timeout = 40\n"
   ]
  },
  {
   "cell_type": "code",
   "execution_count": 1,
   "metadata": {
    "scrolled": false
   },
   "outputs": [
    {
     "ename": "NameError",
     "evalue": "name 'pd' is not defined",
     "output_type": "error",
     "traceback": [
      "\u001b[0;31m---------------------------------------------------------------------------\u001b[0m",
      "\u001b[0;31mNameError\u001b[0m                                 Traceback (most recent call last)",
      "\u001b[0;32m<ipython-input-1-96c3f662dac2>\u001b[0m in \u001b[0;36m<module>\u001b[0;34m\u001b[0m\n\u001b[0;32m----> 1\u001b[0;31m \u001b[0mall_expenditures\u001b[0m \u001b[0;34m=\u001b[0m \u001b[0mpd\u001b[0m\u001b[0;34m.\u001b[0m\u001b[0mDataFrame\u001b[0m\u001b[0;34m(\u001b[0m\u001b[0mclient\u001b[0m\u001b[0;34m.\u001b[0m\u001b[0mget\u001b[0m\u001b[0;34m(\u001b[0m\u001b[0;34m\"pegc-naaa\"\u001b[0m\u001b[0;34m,\u001b[0m \u001b[0mwhere\u001b[0m \u001b[0;34m=\u001b[0m \u001b[0;34m\"budget_fiscal_year=2018\"\u001b[0m\u001b[0;34m,\u001b[0m \u001b[0mlimit\u001b[0m\u001b[0;34m=\u001b[0m\u001b[0;36m9999999\u001b[0m\u001b[0;34m)\u001b[0m\u001b[0;34m)\u001b[0m\u001b[0;34m\u001b[0m\u001b[0;34m\u001b[0m\u001b[0m\n\u001b[0m",
      "\u001b[0;31mNameError\u001b[0m: name 'pd' is not defined"
     ]
    }
   ],
   "source": [
    "all_expenditures = pd.DataFrame(client.get(\"pegc-naaa\", where = \"budget_fiscal_year=2018\", limit=9999999))"
   ]
  },
  {
   "cell_type": "code",
   "execution_count": null,
   "metadata": {},
   "outputs": [],
   "source": [
    "all_expenditures.shape"
   ]
  },
  {
   "cell_type": "markdown",
   "metadata": {},
   "source": [
    "## Apply methodology and get it to look like out_df"
   ]
  },
  {
   "cell_type": "markdown",
   "metadata": {},
   "source": [
    "Get rid of expenditures on payroll vendors"
   ]
  },
  {
   "cell_type": "code",
   "execution_count": null,
   "metadata": {},
   "outputs": [],
   "source": [
    "all_expenditures = all_expenditures[all_expenditures[\"vendor\"].str.contains(\"PAYROLL\")==False]"
   ]
  },
  {
   "cell_type": "code",
   "execution_count": null,
   "metadata": {},
   "outputs": [],
   "source": [
    "all_expenditures.shape"
   ]
  },
  {
   "cell_type": "markdown",
   "metadata": {},
   "source": [
    "Get rid of federal, intragovernmental, and capital appropriations"
   ]
  },
  {
   "cell_type": "code",
   "execution_count": null,
   "metadata": {},
   "outputs": [],
   "source": [
    "all_expenditures[\"appropriation_type\"]"
   ]
  },
  {
   "cell_type": "code",
   "execution_count": null,
   "metadata": {},
   "outputs": [],
   "source": [
    "all_expenditures = all_expenditures[(all_expenditures[\"appropriation_type\"].str.contains(\"FEDERAL\")== False)&\n",
    "                                    (all_expenditures[\"appropriation_type\"].str.contains(\"INTRAGOVERNMENTAL\")==False)&\n",
    "                                    (all_expenditures[\"appropriation_type\"].str.contains(\"CAPITAL\")==False)]\n",
    "all_expenditures.shape"
   ]
  },
  {
   "cell_type": "code",
   "execution_count": null,
   "metadata": {},
   "outputs": [],
   "source": [
    "all_expenditures = all_expenditures[all_expenditures[\"object_class\"].str.contains(\"DD\") == False]"
   ]
  },
  {
   "cell_type": "code",
   "execution_count": null,
   "metadata": {},
   "outputs": [],
   "source": [
    "all_expenditures = all_expenditures[all_expenditures[\"object_code\"].str.contains(\"R24\")==False]\n",
    "all_expenditures.shape"
   ]
  },
  {
   "cell_type": "code",
   "execution_count": null,
   "metadata": {},
   "outputs": [],
   "source": [
    "all_expenditures.loc[\"amount\"] = all_expenditures[\"amount\"].astype(float)"
   ]
  },
  {
   "cell_type": "code",
   "execution_count": null,
   "metadata": {},
   "outputs": [],
   "source": [
    "all_expenditures.head(5)"
   ]
  },
  {
   "cell_type": "code",
   "execution_count": null,
   "metadata": {},
   "outputs": [],
   "source": [
    "by_dept = all_expenditures.groupby(\"department\").sum()[\"amount\"]"
   ]
  },
  {
   "cell_type": "code",
   "execution_count": null,
   "metadata": {},
   "outputs": [],
   "source": [
    "out_df"
   ]
  },
  {
   "cell_type": "code",
   "execution_count": null,
   "metadata": {},
   "outputs": [],
   "source": [
    "state_agency_names = list(out_df.index[:-4])"
   ]
  },
  {
   "cell_type": "code",
   "execution_count": null,
   "metadata": {},
   "outputs": [],
   "source": [
    "state_agency_names.remove(\"MASSACHUSETTS BAY TRANSPORTATION AUTHORITY (MBT)\")"
   ]
  },
  {
   "cell_type": "code",
   "execution_count": null,
   "metadata": {},
   "outputs": [],
   "source": [
    "import numpy as np"
   ]
  },
  {
   "cell_type": "code",
   "execution_count": null,
   "metadata": {},
   "outputs": [],
   "source": [
    "assert np.isclose(by_dept[state_agency_names].values, out_df.loc[state_agency_names, 2018].astype(float).values)"
   ]
  },
  {
   "cell_type": "markdown",
   "metadata": {},
   "source": [
    "## Local Police"
   ]
  },
  {
   "cell_type": "markdown",
   "metadata": {},
   "source": [
    "### Boston\n",
    "In Boston budget documents, spending is broken down into operating budget and external funds budget. All of operating budget counts towards final analysis, plus external funds deemed to be from state agencies (so not federal and not private). \n",
    "Both operating budget and external funds are broken down into categories like \"Personnel Services\", \"Contractual Services\", etc. \n",
    "Personnel services don't count towards this category. Niether does worker's comp medical  \n",
    "For Boston, this is non-personnel services expenditures from plus select external funds. The external funds included are non-federal and non-private.\n",
    "\n",
    "Look at 2017 as example, so 2019 budget pdf"
   ]
  },
  {
   "cell_type": "markdown",
   "metadata": {},
   "source": [
    "To get non-payroll, non-benefit dollars from operating budget, take total expenditures and subtract payroll and worker's comp medical"
   ]
  },
  {
   "cell_type": "code",
   "execution_count": null,
   "metadata": {},
   "outputs": [],
   "source": [
    "total_2017_operating = 364594820\n",
    "personnel_2017 = 332157566\n",
    "workers_comp_2017 = 132926\n",
    "non_payroll_pre_external = total_2017_operating - personnel_2017 - workers_comp_2017\n",
    "print(\"before including external funds: \", non_payroll_pre_external)\n",
    "print(\"this should be around\", (non_payroll_pre_external/out_df.loc[\"Boston PD\", 2017])*100, \"% of total non-payroll operating\")\n",
    "print(\"there should be another\", (out_df.loc[\"Boston PD\", 2017] - non_payroll_pre_external)/10**6, \"million dollars in external funds\")"
   ]
  },
  {
   "cell_type": "markdown",
   "metadata": {},
   "source": [
    "Ther are around 10 mil in total in external funds in 2017 so this seems plausible"
   ]
  },
  {
   "cell_type": "code",
   "execution_count": null,
   "metadata": {},
   "outputs": [],
   "source": [
    "external_personnel = 3919606\n",
    "external_total = 9710199\n",
    "external_funds_non_payroll = external_total - external_personnel\n",
    "external_funds_non_payroll"
   ]
  },
  {
   "cell_type": "code",
   "execution_count": null,
   "metadata": {},
   "outputs": [],
   "source": [
    "federal_external = 35080 #Academy Revolving\n",
    "federal_external += 32849 #Boston multi-cultural advocacy support\n",
    "federal_external += 686178 #boston reentry \n",
    "federal_external += 13012 #Canine revolving\n",
    "federal_external += 624 #CHRP\n",
    "federal_external += 25237 #Coverdell N.F.S.I.\n",
    "federal_external += 300960 #DNA Laboratory\n",
    "federal_external += 33407 #Hackney revolving\n",
    "federal_external += 5888 #Injury Surveilllance Project\n",
    "federal_external += 135889 #JAG equipment\n",
    "federal_external += 32259 #Justice and mental health expansion\n",
    "federal_external += 589129 #JAG \n",
    "federal_external += 30496 #National forum capacity building demo\n",
    "federal_external += 54701 #OJJDP Youth violence prevention\n",
    "federal_external += 156762 #Police fitness center revolving\n",
    "federal_external += 412391 #Port Security\n",
    "federal_external += 74506 #Smart policing\n",
    "federal_external += 69766 # VAWA"
   ]
  },
  {
   "cell_type": "code",
   "execution_count": null,
   "metadata": {},
   "outputs": [],
   "source": [
    "fraction_external_federal = federal_external/external_total"
   ]
  },
  {
   "cell_type": "code",
   "execution_count": null,
   "metadata": {},
   "outputs": [],
   "source": [
    "external_non_payroll_non_federal = external_funds_non_payroll*(1-fraction_external_federal)\n",
    "non_payroll_total = non_payroll_pre_external + external_non_payroll_non_federal"
   ]
  },
  {
   "cell_type": "code",
   "execution_count": null,
   "metadata": {},
   "outputs": [],
   "source": [
    "out_df.loc[\"Boston PD\", 2017] - non_payroll_total"
   ]
  },
  {
   "cell_type": "code",
   "execution_count": null,
   "metadata": {},
   "outputs": [],
   "source": [
    "assert (non_payroll_total - out_df.loc[\"Boston PD\", 2017]) < 10"
   ]
  },
  {
   "cell_type": "markdown",
   "metadata": {},
   "source": [
    "Within 10 bucks good enough for me."
   ]
  },
  {
   "cell_type": "markdown",
   "metadata": {},
   "source": [
    "Last thing to look at: does federal dollars to BPD change per year? If so double check why"
   ]
  },
  {
   "cell_type": "code",
   "execution_count": null,
   "metadata": {},
   "outputs": [],
   "source": [
    "bostonPD = agencies[\"Boston PD\"]\n",
    "bostonPD.federal_expenditures_by_year"
   ]
  },
  {
   "cell_type": "markdown",
   "metadata": {},
   "source": [
    "### Chelsea"
   ]
  },
  {
   "cell_type": "markdown",
   "metadata": {},
   "source": [
    "In report definitely point to how the FY20 and FY21 budgets have different numbers for this value. 2016 is higher because this line-item in FY20 budget are all higher and FY20 budget only provides most up-to-date number for this value "
   ]
  },
  {
   "cell_type": "code",
   "execution_count": null,
   "metadata": {},
   "outputs": [],
   "source": [
    "chelseaPD = agencies[\"Chelsea PD\"]\n",
    "chelseaPD.budget_summary"
   ]
  },
  {
   "cell_type": "code",
   "execution_count": null,
   "metadata": {},
   "outputs": [],
   "source": [
    "chelseaPD.non_payroll_operating_expenditures_by_year[2016] = chelseaPD.budget_summary.loc[\"Total Budget\", 2016] - \\\n",
    "    chelseaPD.budget_summary.loc[\"Payroll Budget\", 2016]"
   ]
  },
  {
   "cell_type": "code",
   "execution_count": null,
   "metadata": {},
   "outputs": [],
   "source": [
    "chelseaPD.non_payroll_operating_expenditures_by_year"
   ]
  },
  {
   "cell_type": "markdown",
   "metadata": {},
   "source": [
    "### Revere"
   ]
  },
  {
   "cell_type": "markdown",
   "metadata": {},
   "source": [
    "Ok great all numbers match budget documents perfectly"
   ]
  },
  {
   "cell_type": "markdown",
   "metadata": {},
   "source": [
    "### Winthrop"
   ]
  },
  {
   "cell_type": "markdown",
   "metadata": {},
   "source": [
    "Point to how winthrop budget document has a category for fringe benefits with one line-item of \"Longevity\" with all zeros for each year. What a mess "
   ]
  },
  {
   "cell_type": "code",
   "execution_count": null,
   "metadata": {},
   "outputs": [],
   "source": [
    "display(out_df)"
   ]
  },
  {
   "cell_type": "code",
   "execution_count": null,
   "metadata": {},
   "outputs": [],
   "source": [
    "winthropPD = agencies[\"Winthrop PD\"]"
   ]
  },
  {
   "cell_type": "code",
   "execution_count": null,
   "metadata": {},
   "outputs": [],
   "source": [
    "winthropPD.budget_summary"
   ]
  },
  {
   "cell_type": "markdown",
   "metadata": {},
   "source": [
    "Ok all looks good here"
   ]
  },
  {
   "cell_type": "code",
   "execution_count": null,
   "metadata": {},
   "outputs": [],
   "source": []
  }
 ],
 "metadata": {
  "kernelspec": {
   "display_name": "Python 3",
   "language": "python",
   "name": "python3"
  },
  "language_info": {
   "codemirror_mode": {
    "name": "ipython",
    "version": 3
   },
   "file_extension": ".py",
   "mimetype": "text/x-python",
   "name": "python",
   "nbconvert_exporter": "python",
   "pygments_lexer": "ipython3",
   "version": "3.7.6"
  }
 },
 "nbformat": 4,
 "nbformat_minor": 4
}
