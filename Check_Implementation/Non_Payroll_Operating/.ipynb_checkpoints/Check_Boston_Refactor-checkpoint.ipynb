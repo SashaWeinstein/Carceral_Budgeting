{
 "cells": [
  {
   "cell_type": "markdown",
   "metadata": {},
   "source": [
    "# Check Boston after Refactor\n",
    "Just did a huge refactor on Boston PD. Expect numbers to change slightly as I beleive I did tweak the methodology. Hopefully they don't change to much.\n",
    "I totally took away the scraper, everything is hard-coded now. Think that the way I remove federal dollars changed slightly."
   ]
  },
  {
   "cell_type": "markdown",
   "metadata": {},
   "source": [
    "## Set up environment"
   ]
  },
  {
   "cell_type": "code",
   "execution_count": 1,
   "metadata": {},
   "outputs": [],
   "source": [
    "%load_ext autoreload\n",
    "%autoreload 2"
   ]
  },
  {
   "cell_type": "code",
   "execution_count": 2,
   "metadata": {},
   "outputs": [],
   "source": [
    "import warnings\n",
    "warnings.simplefilter(action='ignore', category=FutureWarning)\n",
    "\n",
    "import pandas as pd\n",
    "import os\n",
    "import sys\n",
    "import numpy as np"
   ]
  },
  {
   "cell_type": "markdown",
   "metadata": {},
   "source": [
    "Get final results. Expect these numbers to be a little different, hopefully not to different"
   ]
  },
  {
   "cell_type": "code",
   "execution_count": 6,
   "metadata": {},
   "outputs": [],
   "source": [
    "sys.path.insert(0, os.path.abspath(\"../../Final_Results/\"))\n",
    "final_results = pd.read_csv(\"../../Final_Results/Final_by_Agency_Type.csv\", index_col = 0)\n",
    "final_results.rename(columns = {x:int(x) for x in final_results.columns[2:]}, inplace=True) "
   ]
  },
  {
   "cell_type": "markdown",
   "metadata": {},
   "source": [
    "Get Saved scraped. Maybe this will have some clues as to how previous methodology worked"
   ]
  },
  {
   "cell_type": "code",
   "execution_count": 8,
   "metadata": {},
   "outputs": [],
   "source": [
    "saved_scraped = pd.read_csv(\"../../data/Scraped_Saved/Boston PD.csv\")"
   ]
  },
  {
   "cell_type": "code",
   "execution_count": 10,
   "metadata": {},
   "outputs": [],
   "source": [
    "sys.path.insert(0, os.path.abspath(\"../..\"))"
   ]
  },
  {
   "cell_type": "code",
   "execution_count": 39,
   "metadata": {
    "scrolled": false
   },
   "outputs": [
    {
     "name": "stderr",
     "output_type": "stream",
     "text": [
      "/opt/anaconda3/lib/python3.7/importlib/__init__.py:169: DtypeWarning: Columns (16) have mixed types.Specify dtype option on import or set low_memory=False.\n",
      "  _bootstrap._exec(spec, module)\n",
      "/Users/alexanderweinstein/Documents/Harris/Summer2020/Carceral_Budgeting/Exploratory/Agency_Classes/Agency_Classes_Big.py:92: DtypeWarning: Columns (16) have mixed types.Specify dtype option on import or set low_memory=False.\n",
      "  self.get_expenditures_by_year()\n",
      "/Users/alexanderweinstein/Documents/Harris/Summer2020/Carceral_Budgeting/Exploratory/Agency_Classes/Agency_Classes_Big.py:92: DtypeWarning: Columns (15,16) have mixed types.Specify dtype option on import or set low_memory=False.\n",
      "  self.get_expenditures_by_year()\n"
     ]
    },
    {
     "name": "stdout",
     "output_type": "stream",
     "text": [
      "fraction external dollars that are federal\n"
     ]
    },
    {
     "data": {
      "text/plain": [
       "2016   0.456\n",
       "2017   0.277\n",
       "2018   0.114\n",
       "2019   0.184\n",
       "dtype: object"
      ]
     },
     "metadata": {},
     "output_type": "display_data"
    },
    {
     "name": "stdout",
     "output_type": "stream",
     "text": [
      "fraction all non-federal \n"
     ]
    },
    {
     "data": {
      "text/plain": [
       "2016   0.012\n",
       "2017   0.007\n",
       "2018   0.003\n",
       "2019   0.003\n",
       "dtype: object"
      ]
     },
     "metadata": {},
     "output_type": "display_data"
    }
   ],
   "source": [
    "from Initialize_Agencies import get_agencies\n",
    "yr = list(range(2016,2020))\n",
    "agencies = get_agencies(yr)"
   ]
  },
  {
   "cell_type": "code",
   "execution_count": 42,
   "metadata": {},
   "outputs": [],
   "source": [
    "bostonPD = agencies[\"Boston PD\"]"
   ]
  },
  {
   "cell_type": "code",
   "execution_count": 32,
   "metadata": {},
   "outputs": [
    {
     "data": {
      "text/plain": [
       "True"
      ]
     },
     "execution_count": 32,
     "metadata": {},
     "output_type": "execute_result"
    }
   ],
   "source": [
    "final_results.loc[\"Boston PD Pension Costs\", yr].equals(bostonPD.pensions)"
   ]
  },
  {
   "cell_type": "code",
   "execution_count": 33,
   "metadata": {},
   "outputs": [
    {
     "data": {
      "text/plain": [
       "True"
      ]
     },
     "execution_count": 33,
     "metadata": {},
     "output_type": "execute_result"
    }
   ],
   "source": [
    "(final_results.loc[\"Boston PD Fringe Benefit Costs\", yr] - bostonPD.fringe).sum() <.01"
   ]
  },
  {
   "cell_type": "code",
   "execution_count": 35,
   "metadata": {},
   "outputs": [
    {
     "data": {
      "text/plain": [
       "True"
      ]
     },
     "execution_count": 35,
     "metadata": {},
     "output_type": "execute_result"
    }
   ],
   "source": [
    "(final_results.loc[\"Boston PD Capital Costs\", yr] - bostonPD.capital_expenditures_by_year).sum() <.01"
   ]
  },
  {
   "cell_type": "markdown",
   "metadata": {},
   "source": [
    "Ok didn't fuck up to bad, those are all good"
   ]
  },
  {
   "cell_type": "code",
   "execution_count": 45,
   "metadata": {},
   "outputs": [
    {
     "data": {
      "text/plain": [
       "2016   10715.406\n",
       "2017   29748.925\n",
       "2018   10074.757\n",
       "2019    9547.890\n",
       "dtype: object"
      ]
     },
     "execution_count": 45,
     "metadata": {},
     "output_type": "execute_result"
    }
   ],
   "source": [
    "final_results.loc[\"Boston PD Payroll Costs\", yr] - bostonPD.payroll_by_year"
   ]
  },
  {
   "cell_type": "markdown",
   "metadata": {},
   "source": [
    "Ok think this is fine. Average of 15k doesn't matter and I think issue was just how we calculated fraction of earnings that are federal."
   ]
  },
  {
   "cell_type": "code",
   "execution_count": 55,
   "metadata": {},
   "outputs": [
    {
     "data": {
      "text/plain": [
       "138653.7353821015"
      ]
     },
     "execution_count": 55,
     "metadata": {},
     "output_type": "execute_result"
    }
   ],
   "source": [
    "(final_results.loc[\"Boston PD Non-Payroll Operating Costs\", yr] - bostonPD.non_payroll_operating_expenditures_by_year).sum()/4"
   ]
  },
  {
   "cell_type": "markdown",
   "metadata": {},
   "source": [
    "Net change of 140k per year is kinda significant. Don't know reason why. Will hand-check tomorrow."
   ]
  },
  {
   "cell_type": "code",
   "execution_count": 53,
   "metadata": {},
   "outputs": [
    {
     "data": {
      "text/plain": [
       "2016     18648.321\n",
       "2017    710194.880\n",
       "2018   -174228.260\n",
       "2019        -0.000\n",
       "dtype: object"
      ]
     },
     "execution_count": 53,
     "metadata": {},
     "output_type": "execute_result"
    }
   ],
   "source": [
    "(final_results.loc[\"Boston PD Non-Payroll Operating Costs\", yr] - bostonPD.non_payroll_operating_expenditures_by_year)"
   ]
  },
  {
   "cell_type": "markdown",
   "metadata": {},
   "source": [
    "Can't move forward with refactor because check_results won't work until I re-run generate final results"
   ]
  },
  {
   "cell_type": "code",
   "execution_count": 56,
   "metadata": {},
   "outputs": [
    {
     "data": {
      "text/html": [
       "<div>\n",
       "<style scoped>\n",
       "    .dataframe tbody tr th:only-of-type {\n",
       "        vertical-align: middle;\n",
       "    }\n",
       "\n",
       "    .dataframe tbody tr th {\n",
       "        vertical-align: top;\n",
       "    }\n",
       "\n",
       "    .dataframe thead th {\n",
       "        text-align: right;\n",
       "    }\n",
       "</style>\n",
       "<table border=\"1\" class=\"dataframe\">\n",
       "  <thead>\n",
       "    <tr style=\"text-align: right;\">\n",
       "      <th></th>\n",
       "      <th>Unnamed: 0</th>\n",
       "      <th>2016</th>\n",
       "      <th>2017</th>\n",
       "      <th>2018</th>\n",
       "      <th>2019</th>\n",
       "      <th>2020</th>\n",
       "      <th>2021</th>\n",
       "    </tr>\n",
       "  </thead>\n",
       "  <tbody>\n",
       "    <tr>\n",
       "      <th>0</th>\n",
       "      <td>Payroll Budget</td>\n",
       "      <td>297299985.000</td>\n",
       "      <td>325090384.000</td>\n",
       "      <td>340550136.677</td>\n",
       "      <td>364655518.158</td>\n",
       "      <td>376094339.676</td>\n",
       "      <td>378944425.091</td>\n",
       "    </tr>\n",
       "    <tr>\n",
       "      <th>1</th>\n",
       "      <td>OT Budget</td>\n",
       "      <td>35619489.000</td>\n",
       "      <td>54966556.000</td>\n",
       "      <td>57076768.867</td>\n",
       "      <td>60115115.432</td>\n",
       "      <td>61415244.222</td>\n",
       "      <td>61500643.365</td>\n",
       "    </tr>\n",
       "    <tr>\n",
       "      <th>2</th>\n",
       "      <td>Total Budget</td>\n",
       "      <td>334810043.000</td>\n",
       "      <td>366418564.000</td>\n",
       "      <td>380087096.177</td>\n",
       "      <td>407114254.631</td>\n",
       "      <td>420864667.757</td>\n",
       "      <td>421589850.442</td>\n",
       "    </tr>\n",
       "    <tr>\n",
       "      <th>3</th>\n",
       "      <td>Payroll Appropriation</td>\n",
       "      <td>301839026.000</td>\n",
       "      <td>331053719.245</td>\n",
       "      <td>353648386.370</td>\n",
       "      <td>366234564.173</td>\n",
       "      <td>376709076.481</td>\n",
       "      <td>0.000</td>\n",
       "    </tr>\n",
       "    <tr>\n",
       "      <th>4</th>\n",
       "      <td>OT Appropriation</td>\n",
       "      <td>37966592.000</td>\n",
       "      <td>55969576.695</td>\n",
       "      <td>59235426.538</td>\n",
       "      <td>60319549.828</td>\n",
       "      <td>62014215.824</td>\n",
       "      <td>0.000</td>\n",
       "    </tr>\n",
       "    <tr>\n",
       "      <th>5</th>\n",
       "      <td>Total Appropriation</td>\n",
       "      <td>339300263.000</td>\n",
       "      <td>370044034.075</td>\n",
       "      <td>397129439.648</td>\n",
       "      <td>408288547.121</td>\n",
       "      <td>422530491.594</td>\n",
       "      <td>0.000</td>\n",
       "    </tr>\n",
       "    <tr>\n",
       "      <th>6</th>\n",
       "      <td>Payroll Expenditures</td>\n",
       "      <td>322000476.071</td>\n",
       "      <td>335073541.833</td>\n",
       "      <td>360633372.807</td>\n",
       "      <td>374141609.986</td>\n",
       "      <td>0.000</td>\n",
       "      <td>0.000</td>\n",
       "    </tr>\n",
       "    <tr>\n",
       "      <th>7</th>\n",
       "      <td>OT Expenditures</td>\n",
       "      <td>57790620.075</td>\n",
       "      <td>60618685.866</td>\n",
       "      <td>68313585.252</td>\n",
       "      <td>70204917.968</td>\n",
       "      <td>0.000</td>\n",
       "      <td>0.000</td>\n",
       "    </tr>\n",
       "    <tr>\n",
       "      <th>8</th>\n",
       "      <td>Total Expenditures</td>\n",
       "      <td>354100737.000</td>\n",
       "      <td>372407936.000</td>\n",
       "      <td>407607260.000</td>\n",
       "      <td>422895141.000</td>\n",
       "      <td>0.000</td>\n",
       "      <td>0.000</td>\n",
       "    </tr>\n",
       "  </tbody>\n",
       "</table>\n",
       "</div>"
      ],
      "text/plain": [
       "              Unnamed: 0          2016          2017          2018  \\\n",
       "0         Payroll Budget 297299985.000 325090384.000 340550136.677   \n",
       "1              OT Budget  35619489.000  54966556.000  57076768.867   \n",
       "2           Total Budget 334810043.000 366418564.000 380087096.177   \n",
       "3  Payroll Appropriation 301839026.000 331053719.245 353648386.370   \n",
       "4       OT Appropriation  37966592.000  55969576.695  59235426.538   \n",
       "5    Total Appropriation 339300263.000 370044034.075 397129439.648   \n",
       "6   Payroll Expenditures 322000476.071 335073541.833 360633372.807   \n",
       "7        OT Expenditures  57790620.075  60618685.866  68313585.252   \n",
       "8     Total Expenditures 354100737.000 372407936.000 407607260.000   \n",
       "\n",
       "           2019          2020          2021  \n",
       "0 364655518.158 376094339.676 378944425.091  \n",
       "1  60115115.432  61415244.222  61500643.365  \n",
       "2 407114254.631 420864667.757 421589850.442  \n",
       "3 366234564.173 376709076.481         0.000  \n",
       "4  60319549.828  62014215.824         0.000  \n",
       "5 408288547.121 422530491.594         0.000  \n",
       "6 374141609.986         0.000         0.000  \n",
       "7  70204917.968         0.000         0.000  \n",
       "8 422895141.000         0.000         0.000  "
      ]
     },
     "execution_count": 56,
     "metadata": {},
     "output_type": "execute_result"
    }
   ],
   "source": [
    "saved_scraped"
   ]
  },
  {
   "cell_type": "code",
   "execution_count": null,
   "metadata": {},
   "outputs": [],
   "source": []
  }
 ],
 "metadata": {
  "kernelspec": {
   "display_name": "Python 3",
   "language": "python",
   "name": "python3"
  },
  "language_info": {
   "codemirror_mode": {
    "name": "ipython",
    "version": 3
   },
   "file_extension": ".py",
   "mimetype": "text/x-python",
   "name": "python",
   "nbconvert_exporter": "python",
   "pygments_lexer": "ipython3",
   "version": "3.7.6"
  }
 },
 "nbformat": 4,
 "nbformat_minor": 4
}
