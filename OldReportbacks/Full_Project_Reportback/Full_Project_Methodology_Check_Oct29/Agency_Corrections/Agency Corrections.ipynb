{
 "cells": [
  {
   "cell_type": "markdown",
   "metadata": {},
   "source": [
    "# Agency Corrections Numbers for Methodology Logic Review\n",
    "Get corrections, total spending of agencies apply to effect "
   ]
  },
  {
   "cell_type": "markdown",
   "metadata": {},
   "source": [
    "## Set up workspace"
   ]
  },
  {
   "cell_type": "code",
   "execution_count": 1,
   "metadata": {},
   "outputs": [],
   "source": [
    "%load_ext autoreload\n",
    "%autoreload 2\n",
    "\n"
   ]
  },
  {
   "cell_type": "code",
   "execution_count": 2,
   "metadata": {},
   "outputs": [],
   "source": [
    "import pandas as pd\n",
    "import sys\n",
    "import os"
   ]
  },
  {
   "cell_type": "code",
   "execution_count": 3,
   "metadata": {},
   "outputs": [],
   "source": [
    "sys.path.insert(0, \"/Users/alexanderweinstein/Documents/Harris/Summer2020/Carceral_Budgeting/Exploratory\")\n",
    "from Agency_Corrections import trial_court_correction, DOC_correction, \\\n",
    "    appeals_court_correction, population_correction\n"
   ]
  },
  {
   "cell_type": "code",
   "execution_count": 4,
   "metadata": {},
   "outputs": [],
   "source": [
    "test_series = pd.Series(index=list(range(2016,2020)), data=1)"
   ]
  },
  {
   "cell_type": "code",
   "execution_count": 5,
   "metadata": {},
   "outputs": [],
   "source": [
    "#trial_court_correction(test_series).to_csv(\"trial_court_correction_Oct29.csv\")"
   ]
  },
  {
   "cell_type": "code",
   "execution_count": 6,
   "metadata": {},
   "outputs": [],
   "source": [
    "#DOC_correction(test_series).to_csv(\"DOC_correction_Oct29.csv\")"
   ]
  },
  {
   "cell_type": "code",
   "execution_count": 7,
   "metadata": {},
   "outputs": [],
   "source": [
    "#appeals_court_correction(test_series).to_csv(\"appeals_court_correction_Oct29.csv\")"
   ]
  },
  {
   "cell_type": "code",
   "execution_count": 8,
   "metadata": {},
   "outputs": [],
   "source": [
    "#population_correction(test_series).to_csv(\"population_correction_Oct29.csv\")"
   ]
  },
  {
   "cell_type": "markdown",
   "metadata": {},
   "source": [
    "## Get pre-corrections final costs"
   ]
  },
  {
   "cell_type": "code",
   "execution_count": 9,
   "metadata": {},
   "outputs": [
    {
     "name": "stderr",
     "output_type": "stream",
     "text": [
      "/opt/anaconda3/lib/python3.7/site-packages/pandas/core/frame.py:4133: SettingWithCopyWarning: \n",
      "A value is trying to be set on a copy of a slice from a DataFrame\n",
      "\n",
      "See the caveats in the documentation: https://pandas.pydata.org/pandas-docs/stable/user_guide/indexing.html#returning-a-view-versus-a-copy\n",
      "  errors=errors,\n",
      "/opt/anaconda3/lib/python3.7/site-packages/pandas/core/generic.py:6245: SettingWithCopyWarning: \n",
      "A value is trying to be set on a copy of a slice from a DataFrame\n",
      "\n",
      "See the caveats in the documentation: https://pandas.pydata.org/pandas-docs/stable/user_guide/indexing.html#returning-a-view-versus-a-copy\n",
      "  self._update_inplace(new_data)\n",
      "/Users/alexanderweinstein/Documents/Harris/Summer2020/Carceral_Budgeting/Exploratory/pensions/State_Pensions_2Ver.py:133: SettingWithCopyWarning: \n",
      "A value is trying to be set on a copy of a slice from a DataFrame.\n",
      "Try using .loc[row_indexer,col_indexer] = value instead\n",
      "\n",
      "See the caveats in the documentation: https://pandas.pydata.org/pandas-docs/stable/user_guide/indexing.html#returning-a-view-versus-a-copy\n",
      "  cthru_pensions[\"year\"] = cthru_pensions[\"year\"].astype(int)\n",
      "/Users/alexanderweinstein/Documents/Harris/Summer2020/Carceral_Budgeting/Exploratory/Initialize_Agencies_3Ver.py:5: DtypeWarning: Columns (16) have mixed types.Specify dtype option on import or set low_memory=False.\n",
      "  from Agency_Classes_2Ver import StateAgency, MBTA, BostonPD, ChelseaPD, ReverePD, WinthropPD\n"
     ]
    }
   ],
   "source": [
    "from Initialize_Agencies_3Ver import get_agencies\n"
   ]
  },
  {
   "cell_type": "code",
   "execution_count": 10,
   "metadata": {},
   "outputs": [
    {
     "name": "stderr",
     "output_type": "stream",
     "text": [
      "/Users/alexanderweinstein/Documents/Harris/Summer2020/Carceral_Budgeting/Exploratory/Agency_Classes_2Ver.py:161: DtypeWarning: Columns (16) have mixed types.Specify dtype option on import or set low_memory=False.\n",
      "  self.get_expenditures_by_year()\n",
      "/Users/alexanderweinstein/Documents/Harris/Summer2020/Carceral_Budgeting/Exploratory/Agency_Classes_2Ver.py:161: DtypeWarning: Columns (15,16) have mixed types.Specify dtype option on import or set low_memory=False.\n",
      "  self.get_expenditures_by_year()\n"
     ]
    },
    {
     "name": "stdout",
     "output_type": "stream",
     "text": [
      "\n"
     ]
    }
   ],
   "source": [
    "yr = list(range(2016,2020))\n",
    "agencies = get_agencies(yr)"
   ]
  },
  {
   "cell_type": "code",
   "execution_count": 11,
   "metadata": {},
   "outputs": [
    {
     "name": "stderr",
     "output_type": "stream",
     "text": [
      "/opt/anaconda3/lib/python3.7/site-packages/ipykernel_launcher.py:1: DeprecationWarning: The default dtype for empty Series will be 'object' instead of 'float64' in a future version. Specify a dtype explicitly to silence this warning.\n",
      "  \"\"\"Entry point for launching an IPython kernel.\n"
     ]
    }
   ],
   "source": [
    "pre_correction = pd.Series()"
   ]
  },
  {
   "cell_type": "code",
   "execution_count": 12,
   "metadata": {},
   "outputs": [
    {
     "name": "stdout",
     "output_type": "stream",
     "text": [
      "got to  trial_court\n",
      "got to  CPCS\n",
      "got to  DOC\n",
      "got to  Suffolk DA\n",
      "got to  Suffolk Sheriff\n",
      "got to  State_Police\n",
      "got to  MBTA\n",
      "got to  DAA\n",
      "got to  MA Sheriff's Association\n",
      "got to  Parole Board\n",
      "got to  CJT\n",
      "got to  Supreme_Judicial_Court\n",
      "got to  Appeals_Court\n",
      "got to  Boston PD\n",
      "got to  Chelsea PD\n",
      "got to  Revere PD\n",
      "got to  Winthrop PD\n"
     ]
    }
   ],
   "source": [
    "for name, agency in agencies.items():\n",
    "    print(\"got to \", name)\n",
    "    pre_correction.loc[name] = agency.get_final_costs(apply_correction=False).sum()"
   ]
  },
  {
   "cell_type": "code",
   "execution_count": 14,
   "metadata": {},
   "outputs": [
    {
     "data": {
      "text/plain": [
       "trial_court                881122543.846\n",
       "CPCS                       252147121.814\n",
       "DOC                        709860719.791\n",
       "Suffolk DA                  27377162.735\n",
       "Suffolk Sheriff            138958181.359\n",
       "State_Police               549612902.127\n",
       "MBTA                        36328302.417\n",
       "DAA                          4274187.080\n",
       "MA Sheriff's Association           0.000\n",
       "Parole Board                28535185.640\n",
       "CJT                                0.000\n",
       "Supreme_Judicial_Court      38215817.038\n",
       "Appeals_Court               20502798.604\n",
       "Boston PD                  599823226.412\n",
       "Chelsea PD                  15898631.873\n",
       "Revere PD                   21582356.204\n",
       "Winthrop PD                  5289323.274\n",
       "dtype: float64"
      ]
     },
     "execution_count": 14,
     "metadata": {},
     "output_type": "execute_result"
    }
   ],
   "source": [
    "pre_correction/4"
   ]
  },
  {
   "cell_type": "code",
   "execution_count": 18,
   "metadata": {},
   "outputs": [],
   "source": [
    "trial_court_correction = [\"trial_court\", \"CPCS\", \"Supreme_Judicial_Court\"]"
   ]
  },
  {
   "cell_type": "code",
   "execution_count": 22,
   "metadata": {},
   "outputs": [
    {
     "data": {
      "text/plain": [
       "11714854.826979432"
      ]
     },
     "execution_count": 22,
     "metadata": {},
     "output_type": "execute_result"
    }
   ],
   "source": [
    "pre_correction.loc[trial_court_correction].sum()/4/100"
   ]
  },
  {
   "cell_type": "code",
   "execution_count": 26,
   "metadata": {},
   "outputs": [],
   "source": [
    "DOC_correction_agencies = [\"DOC\", \"Parole Board\"]"
   ]
  },
  {
   "cell_type": "code",
   "execution_count": 29,
   "metadata": {},
   "outputs": [
    {
     "data": {
      "text/plain": [
       "7383959.054305746"
      ]
     },
     "execution_count": 29,
     "metadata": {},
     "output_type": "execute_result"
    }
   ],
   "source": [
    "pre_correction.loc[DOC_correction_agencies].sum()/4/100"
   ]
  },
  {
   "cell_type": "code",
   "execution_count": 31,
   "metadata": {},
   "outputs": [
    {
     "data": {
      "text/plain": [
       "20502798.603841983"
      ]
     },
     "execution_count": 31,
     "metadata": {},
     "output_type": "execute_result"
    }
   ],
   "source": [
    "pre_correction.loc[\"Appeals_Court\"].sum()/4"
   ]
  },
  {
   "cell_type": "code",
   "execution_count": 32,
   "metadata": {},
   "outputs": [],
   "source": [
    "pop_correction_agencies = [\"State_Police\",\"MA Sheriff's Association\",\n",
    "                           \"CJT\", \"DAA\"]"
   ]
  },
  {
   "cell_type": "code",
   "execution_count": 34,
   "metadata": {},
   "outputs": [
    {
     "data": {
      "text/plain": [
       "553.8870892069715"
      ]
     },
     "execution_count": 34,
     "metadata": {},
     "output_type": "execute_result"
    }
   ],
   "source": [
    "pre_correction.loc[pop_correction_agencies].sum()/4/10**6"
   ]
  },
  {
   "cell_type": "code",
   "execution_count": null,
   "metadata": {},
   "outputs": [],
   "source": []
  }
 ],
 "metadata": {
  "kernelspec": {
   "display_name": "Python 3",
   "language": "python",
   "name": "python3"
  },
  "language_info": {
   "codemirror_mode": {
    "name": "ipython",
    "version": 3
   },
   "file_extension": ".py",
   "mimetype": "text/x-python",
   "name": "python",
   "nbconvert_exporter": "python",
   "pygments_lexer": "ipython3",
   "version": "3.7.6"
  }
 },
 "nbformat": 4,
 "nbformat_minor": 4
}
