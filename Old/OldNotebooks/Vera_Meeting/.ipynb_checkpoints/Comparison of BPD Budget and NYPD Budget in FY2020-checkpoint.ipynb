{
 "cells": [
  {
   "cell_type": "markdown",
   "metadata": {},
   "source": [
    "# Introduction\n",
    "In this document I'll compare the methodology Vera uses in the \"True Cost of the NYPD\" to the methodology we use in our project. <br>\n",
    "Note that our numbers are for 2019 because they require some calendar year data, whereas the Vera numbers are for FY2020 but it won't affect this comparison. <br>\n",
    "In our methodology we refer to money spent on an agency that's not in the official budget document as a \"hidden cost.\" Vera has 5 seperate \"hidden costs\" for the NYC in thier report. Most of the hidden costs for the BPD are only presented as citywide expenditures so we developed a methodology to estimate the % of benefits that go to BPD employees that we will detail in the relevant section. <br>"
   ]
  },
  {
   "cell_type": "markdown",
   "metadata": {},
   "source": [
    "### Comparison of Hidden Costs\n",
    "**Pensions** The big difference here is that the NYPD has thier own pension fund with it's own line-item for yearly costs. Boston cops get payouts from the citywide pension fund so we have to estimate the % yearly contributions to the Boston pension fund that are for cops<br>\n",
    "**Fringe Benefits** The Boston city budgets include down the money spent on unemployment insurance and worker's comp as part of the total stated budget number so it isn't a \"hidden cost\" in our analysis. However expenditures on health insurance and a citywide Worker's Comp Fund are not assigned to any agency, so we have add them on as a hidden cost. Unlike the NYC budgets, they are not broken down by where the money goes we have to estimate. These are the benefits we can find that are considered \"fringe benefits\" under the definition in the NYC budget. <br>\n",
    "**Debt Service** There isn't a mention of debt in the Boston city budgets that seems relevant to the Boston PD, we are hoping to get more insight into what debt service is in this meeting and how we could go around finding the parallel thing in the boston city documents<br>\n",
    "**Other than Personnel Services** It's not clear from reviewing the documents cited where the additional money for other than personnel services comes from? The way I read the budget document OTPS simply refers to non-labor costs of running a agency, but that doesn't seem consistent with how the report classifies OTPS as a hidden cost <br>\n",
    "**Settlements and Judgements** We can find a database of settlements and judgements at the state level but not the city level, any insight for this step would be appreciated. "
   ]
  },
  {
   "cell_type": "markdown",
   "metadata": {},
   "source": [
    "### Note on how payroll is calculated in our methodology\n",
    "**Earnings Dataset** When we refer to the payroll numbers used in our analysis, these payroll numbers don't come from the yearly budget documents. They come from another dataset published by the city of Boston's Open Data agency which we refers to as the \"earnings\" dataset, another of our hidden costs. The numbers in the earnings dataset conflict with the numbers in the yearly budget documents. Most years, the total spent on BPD payroll in the earnings dataset is greater than the total stated budget for the BPD. So our methodology is to use the non-labor costs from the budget document and the payroll from the earnings dataset. <br>\n",
    "The concern here is doubling counting, if money is accounted for as a fringe benefit in the budget document and then shows up in the earnings dataset, we don't want to be double counting it as a hidden cost in the fringe benefit section and then also adding it from the earnings dataset. As you'll see in the relevant section I don't think that's happening but it's worth thinking about. "
   ]
  },
  {
   "cell_type": "markdown",
   "metadata": {},
   "source": [
    "# Pensions\n",
    "The way the pension system works in Boston is that teachers pay into the statewide pension system, and then the city is responsible for running a pension system that covers all other employees. In FY2019 Boston spent 263.08 million on pension contributions.<br>\n",
    "The way we esimate that the % of that money that's due to police benefits is the same as the % of money that goes to police payroll. Cop pay made up about 23% of total city payroll in 2019, but about 42% of non-teacher payroll, so we say that the total amount of money spent on BPD pensions for 2019 is \\\\$108,950,264"
   ]
  },
  {
   "cell_type": "markdown",
   "metadata": {},
   "source": [
    "# Fringe Benefits\n",
    "The two fringe benefits we look at are citywide expenditures on health insurance and a Workers' Comp Fund. Boston spent \\\\$212,029,308 on health insurance and \\\\$1,618,544 on it's workers' comp fund in 2019. Using the stat that the Boston PD accounted for around 24% of total city payroll in 2019, that's approx 49.4 million in fringe benefits."
   ]
  },
  {
   "cell_type": "markdown",
   "metadata": {},
   "source": [
    "# Debt Service and OTPS\n",
    "Discuss how Vera calculated these"
   ]
  },
  {
   "cell_type": "markdown",
   "metadata": {},
   "source": [
    "# Settlements and Judgements\n",
    "Where do we get them"
   ]
  },
  {
   "cell_type": "markdown",
   "metadata": {},
   "source": [
    "# Caculation of True Payroll\n",
    "The payroll dataset that we use as the \"true payroll\" of the BPD has the following columns that give insight to why there are different numbers for payroll depending on who you ask. Note that these are for all city employees, not just cops\n",
    "\n",
    "- 'REGULAR' \n",
    "- 'RETRO' \n",
    "- 'OTHER'\n",
    "- 'OVERTIME'\n",
    "- 'INJURED' \n",
    "- 'DETAIL'\n",
    "- 'QUINN/EDUCATION INCENTIVE'\n",
    "\n",
    "The only category here I saw that could be included in fringe benefits is \"Injured\", as this could count money from the Worker's Comp Fund. The documentation for this dataset only describes this money as \"Regular Injured Earnings\" or \"Retro Injured Earnings\" so that's not very helpful. But a more helpful piece of evidence is that nearly 40 million dollars in \"Injured\" pay is paid out to boston city employees in 2019, far more than was contributed to the worker's comp fund (only 1.3 million). This leads me to believe that they are counting different things. But this analysis is rather rough and if there is a better way to see if we are double counting it would be good to know. \n"
   ]
  },
  {
   "cell_type": "code",
   "execution_count": null,
   "metadata": {},
   "outputs": [],
   "source": []
  }
 ],
 "metadata": {
  "kernelspec": {
   "display_name": "Python 3",
   "language": "python",
   "name": "python3"
  },
  "language_info": {
   "codemirror_mode": {
    "name": "ipython",
    "version": 3
   },
   "file_extension": ".py",
   "mimetype": "text/x-python",
   "name": "python",
   "nbconvert_exporter": "python",
   "pygments_lexer": "ipython3",
   "version": "3.7.6"
  }
 },
 "nbformat": 4,
 "nbformat_minor": 4
}
