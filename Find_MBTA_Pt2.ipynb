{
 "cells": [
  {
   "cell_type": "markdown",
   "metadata": {},
   "source": [
    "# Find MBTA Part 2\n",
    "Here I will use pytesseract with config='--psm 6' kwarg, this method seems consistent"
   ]
  },
  {
   "cell_type": "code",
   "execution_count": 1,
   "metadata": {},
   "outputs": [],
   "source": [
    "%load_ext autoreload\n",
    "%autoreload 2"
   ]
  },
  {
   "cell_type": "code",
   "execution_count": 14,
   "metadata": {},
   "outputs": [],
   "source": [
    "import pandas as pd\n",
    "from sodapy import Socrata\n",
    "import numpy as np\n",
    "import textract\n",
    "import pytesseract\n",
    "import tempfile #Probably won't use\n",
    "import pdf2image\n",
    "from PyPDF2 import PdfFileReader, PdfFileWriter\n",
    "pd.set_option('display.float_format', lambda x: '%.3f' % x)"
   ]
  },
  {
   "cell_type": "code",
   "execution_count": 12,
   "metadata": {},
   "outputs": [],
   "source": [
    "mbta_pdfObj = PdfFileReader(\"data/MBTA_pdfs/mbta-payroll-2017.pdf\")"
   ]
  },
  {
   "cell_type": "code",
   "execution_count": 15,
   "metadata": {},
   "outputs": [],
   "source": [
    "def page_to_image(pdfObj, page, path):\n",
    "    little = PdfFileWriter()\n",
    "    little.addPage(pdfObj.getPage(page))\n",
    "    with open(path, 'wb') as out_pdf: mbta_2017_little.write(out_pdf)\n",
    "   "
   ]
  },
  {
   "cell_type": "code",
   "execution_count": null,
   "metadata": {},
   "outputs": [],
   "source": [
    "page_to_image(mbta_pdfObj, 0,\"data/MBTA_pdfs/mbta_temp_page.pdf\" )\n",
    "images_from_path = pdf2image.convert_from_path(\"data/MBTA_pdfs/mbta_temp_page.pdf\")"
   ]
  },
  {
   "cell_type": "code",
   "execution_count": null,
   "metadata": {},
   "outputs": [],
   "source": [
    "row_list = pytesseract.image_to_string(images_from_path[0], config='--psm 6').split(\"\\n\")\n"
   ]
  },
  {
   "cell_type": "code",
   "execution_count": 20,
   "metadata": {
    "scrolled": true
   },
   "outputs": [
    {
     "data": {
      "text/plain": [
       "['[Employee ID|LastName [FirstName [Title [Hire Date [Base Pay |Total 2017 Earnings |',\n",
       " '452912 Aalto Joanna AGM Capital Programs 03-Apr-16 $185,000.00 $28,461.55',\n",
       " '72929 Aaron Kevar Laborer, Track 21-Sep-15 $57,803.20 $72,800.63',\n",
       " '72021 Aaron Keyena Operator,P-T Surface 05-May-14 $47,548.80 $48,448.81',\n",
       " '68101 Abany Samuel Sergeant 10-Apr-06 $95,518.40 ($202,214.19',\n",
       " '68415 Abbit Cynthia Inspector 05-Sep-06 $83,304.00 $98,700.28',\n",
       " '9749 Abbott Kenneth Operator,Surface 03-Feb-92 $74,588.80 $85,631.68',\n",
       " '72103 Abbott Charles Operator,Surface 23-Jun-14 $63,398.40 $74,230.46',\n",
       " '73625 Abbott Corey Operator,P-T Surface 09-Jan-17 $30,763.20 $29,608.46',\n",
       " '451427 Abdelkarim Loay Mgr Design 27-Feb-12 $117,279.99 $116,354.38',\n",
       " '71810 Abdella Nasir Operator,Surface 06-Jan-14 $67,121.60 $73,542.99',\n",
       " '72734 Abdelouahhab Ali Operator,Surface 22-Jun-15 $63,398.40 $63,624.21',\n",
       " '67965 Abdelrahman Ashraf Supv Trans - Bus 11-Oct-05 ($91,312.90 ($89,721.43',\n",
       " '72691 Abderazzak Sammy Auditor, Field 01-Jun-15 $65,880.52 $64,723.80',\n",
       " 'Supv Transm&Dist',\n",
       " '466160 Abdulakhatov Akmal Eng&Sfty 12-Feb-17 $111,152.29 | $94,330.77',\n",
       " '68620 Abdullahi Abdul-Hakim Trackperson 10-Oct-06 $71,552.00 $93,345.76',\n",
       " '69697 Abell Paul Worker,Sheet Metal 12-Aug-13 $96,553.60 ($108,503.17',\n",
       " '67679 Abernathy Sandra Motorperson,Rapid Transit 04-Apr-05 $77,563.20 $55,099.48',\n",
       " '69204 Abibi Abdelmalek Operator,Surface 10-Sep-07 $74,588.80 | $92,339.26',\n",
       " '66635 Abkarian Ropen Operator,Surface 15-Oct-02 $74,588.80 $15,562.41',\n",
       " '67420 Abraham Bernard Operator,Surface 07-Sep-04 $74,588.80 $110,055.70',\n",
       " '369115 Abrahamson Daniel Spec,Energy Conservation 06-Jun-16 $71,370.43 $70,117.26',\n",
       " '73316 Abramo Michael Chief Financial Officer 06-Jun-16 $210,000.00 $186,635.50',\n",
       " '67817 Abreu Estarlo Operator,Surface 11-Jul-05 $74,588.80 $87,679.32',\n",
       " '71537 Abreu Yris Operator,Surface 20-May-13 $74,588.80 $58,391.87',\n",
       " '73503 Abujade Olalekan Operator,P-T Surface 06-Sep-16 $41,964.00 $41,757.36',\n",
       " '477676 Acchat Kerby Operator,P-T Surface 19-Nov-17 |$30,763.20 | $2,200.00',\n",
       " '71941 Accime Susie Operator,Surface 24-Feb-14 $67,121.60 $97,051.46',\n",
       " '67909 Acevedo Tyrone Repairer,Rail 03-Oct-05 $86,715.20 $129,078.87',\n",
       " '72828 Acharya Hom Operator,Surface 20-Jul-15 $55,952.00 $44,999.50',\n",
       " '92047 Adams Lee Worker,Sheet Metal 22-Aug-00 $96,553.60 $144,456.73',\n",
       " '7796 Adams Edward Inspector,Chief - SL 13-Feb-84 $87,214.40 $130,845.02',\n",
       " '67527 Adams Jeffrey Repairer,Rail 13-Dec-04 |$86,715.20 ($119,303.28',\n",
       " '66003 Adams Sheila Dispatcher,Bus 09-Jul-17 $92,934.40 $117,796.60',\n",
       " '2669 Adams Eugenia Dispatcher,RTL 09-Jul-17 $95,264.00 $98,356.74',\n",
       " '1897 Adams Jalila Instructor 25-Nov-96 $93,288.00 $97,215.04']"
      ]
     },
     "execution_count": 20,
     "metadata": {},
     "output_type": "execute_result"
    }
   ],
   "source": [
    "row_list"
   ]
  },
  {
   "cell_type": "code",
   "execution_count": 23,
   "metadata": {},
   "outputs": [
    {
     "name": "stdout",
     "output_type": "stream",
     "text": [
      "total pay is 3043183.97\n",
      "total cop pay is 0\n",
      "average pay per employee on page 1  82248.21540540541\n"
     ]
    }
   ],
   "source": [
    "def get_pay(row_list):\n",
    "    total_pay = 0\n",
    "    total_cop_pay = 0\n",
    "    for row in row_list:\n",
    "        if \"$\" in row:\n",
    "            pay = float(row.split(\"$\")[-1].replace(\",\",\"\"))\n",
    "            total_pay += pay\n",
    "            if \"Police\" in row:\n",
    "                    total_cop_pay += pay\n",
    "    return total_pay, total_cop_pay\n"
   ]
  },
  {
   "cell_type": "code",
   "execution_count": 28,
   "metadata": {
    "scrolled": true
   },
   "outputs": [],
   "source": [
    "import MBTA_Payroll_Scraper"
   ]
  },
  {
   "cell_type": "code",
   "execution_count": 30,
   "metadata": {},
   "outputs": [],
   "source": [
    "total_pay, cop_pay = MBTA_Payroll_Scraper.scrape_payroll_2017()"
   ]
  },
  {
   "cell_type": "code",
   "execution_count": 32,
   "metadata": {},
   "outputs": [
    {
     "name": "stdout",
     "output_type": "stream",
     "text": [
      "total pay: 553203776.62\n",
      "cop pay:  22662116.389999997\n"
     ]
    }
   ],
   "source": [
    "print(\"total pay:\", total_pay)\n",
    "print(\"cop pay: \", cop_pay)"
   ]
  },
  {
   "cell_type": "code",
   "execution_count": 33,
   "metadata": {},
   "outputs": [],
   "source": [
    "scraper_2017_dict = {\"total pay\": total_pay, \"cop pay\": cop_pay}\n"
   ]
  },
  {
   "cell_type": "code",
   "execution_count": 35,
   "metadata": {},
   "outputs": [],
   "source": [
    "import json"
   ]
  },
  {
   "cell_type": "code",
   "execution_count": 36,
   "metadata": {},
   "outputs": [],
   "source": [
    "with open('data/MBTA_pdfs/Payroll_2017_Result_Jul21.json', 'w') as out:\n",
    "    json.dump(scraper_2017_dict, out)"
   ]
  },
  {
   "cell_type": "code",
   "execution_count": 38,
   "metadata": {},
   "outputs": [],
   "source": [
    "import os"
   ]
  },
  {
   "cell_type": "code",
   "execution_count": 40,
   "metadata": {},
   "outputs": [
    {
     "data": {
      "text/plain": [
       "True"
      ]
     },
     "execution_count": 40,
     "metadata": {},
     "output_type": "execute_result"
    }
   ],
   "source": [
    "os.path.exists(\"data/MBTA_pdfs/Payroll_2017_Result_Jul21.json\")"
   ]
  },
  {
   "cell_type": "code",
   "execution_count": 41,
   "metadata": {},
   "outputs": [
    {
     "data": {
      "text/plain": [
       "{'total pay': 553203776.62, 'cop pay': 22662116.389999997}"
      ]
     },
     "execution_count": 41,
     "metadata": {},
     "output_type": "execute_result"
    }
   ],
   "source": [
    "with open('data/MBTA_pdfs/Payroll_2017_Result_Jul21.json') as json_file:\n",
    "    scraper_dict = json.load(json_file)\n",
    "scraper_dict"
   ]
  },
  {
   "cell_type": "code",
   "execution_count": null,
   "metadata": {},
   "outputs": [],
   "source": []
  }
 ],
 "metadata": {
  "kernelspec": {
   "display_name": "Python 3",
   "language": "python",
   "name": "python3"
  },
  "language_info": {
   "codemirror_mode": {
    "name": "ipython",
    "version": 3
   },
   "file_extension": ".py",
   "mimetype": "text/x-python",
   "name": "python",
   "nbconvert_exporter": "python",
   "pygments_lexer": "ipython3",
   "version": "3.7.6"
  }
 },
 "nbformat": 4,
 "nbformat_minor": 4
}
